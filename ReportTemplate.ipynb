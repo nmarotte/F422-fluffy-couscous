{
 "cells": [
  {
   "cell_type": "markdown",
   "metadata": {},
   "source": [
    "# INFO-F-422 -  Statistical Foundations of Machine Learning \n",
    "\n",
    "### Student 1 - __[antoine.bedaton@ulb.be](mailto:antoine.bedaton@ulb.be) - Student ID 459482__\n",
    "### Student 2 - __[pierre.defraene@ulb.be](mailto:pierre.defraene@ulb.be) - Student ID 463941__\n",
    "### Student 3 - __[nathan.marotte@ulb.be](mailto:nathan.marotte@ulb.be) - Student ID 459274__\n",
    "\n",
    "### Video presentation: www.youtube.com/abcd1234\n",
    "\n",
    "## Project Title\n"
   ]
  },
  {
   "cell_type": "markdown",
   "metadata": {},
   "source": [
    "# Introduction"
   ]
  },
  {
   "cell_type": "markdown",
   "metadata": {},
   "source": []
  },
  {
   "cell_type": "markdown",
   "metadata": {},
   "source": [
    "librairies utilisées todo"
   ]
  },
  {
   "cell_type": "code",
   "execution_count": 1,
   "metadata": {},
   "outputs": [
    {
     "name": "stderr",
     "output_type": "stream",
     "text": [
      "Warning message:\n",
      "\"package 'tidyverse' was built under R version 4.0.5\"\n",
      "-- \u001b[1mAttaching packages\u001b[22m ------------------------------------------------------------------------------- tidyverse 1.3.1 --\n",
      "\n",
      "\u001b[32mv\u001b[39m \u001b[34mggplot2\u001b[39m 3.3.3     \u001b[32mv\u001b[39m \u001b[34mpurrr  \u001b[39m 0.3.4\n",
      "\u001b[32mv\u001b[39m \u001b[34mtibble \u001b[39m 3.1.0     \u001b[32mv\u001b[39m \u001b[34mdplyr  \u001b[39m 1.0.5\n",
      "\u001b[32mv\u001b[39m \u001b[34mtidyr  \u001b[39m 1.1.3     \u001b[32mv\u001b[39m \u001b[34mstringr\u001b[39m 1.4.0\n",
      "\u001b[32mv\u001b[39m \u001b[34mreadr  \u001b[39m 1.4.0     \u001b[32mv\u001b[39m \u001b[34mforcats\u001b[39m 0.5.1\n",
      "\n",
      "Warning message:\n",
      "\"package 'ggplot2' was built under R version 4.0.5\"\n",
      "Warning message:\n",
      "\"package 'tibble' was built under R version 4.0.5\"\n",
      "Warning message:\n",
      "\"package 'tidyr' was built under R version 4.0.5\"\n",
      "Warning message:\n",
      "\"package 'readr' was built under R version 4.0.5\"\n",
      "Warning message:\n",
      "\"package 'purrr' was built under R version 4.0.5\"\n",
      "Warning message:\n",
      "\"package 'dplyr' was built under R version 4.0.5\"\n",
      "Warning message:\n",
      "\"package 'stringr' was built under R version 4.0.5\"\n",
      "Warning message:\n",
      "\"package 'forcats' was built under R version 4.0.5\"\n",
      "-- \u001b[1mConflicts\u001b[22m ---------------------------------------------------------------------------------- tidyverse_conflicts() --\n",
      "\u001b[31mx\u001b[39m \u001b[34mdplyr\u001b[39m::\u001b[32mfilter()\u001b[39m masks \u001b[34mstats\u001b[39m::filter()\n",
      "\u001b[31mx\u001b[39m \u001b[34mdplyr\u001b[39m::\u001b[32mlag()\u001b[39m    masks \u001b[34mstats\u001b[39m::lag()\n",
      "\n"
     ]
    }
   ],
   "source": [
    "library(\"tidyverse\")"
   ]
  },
  {
   "cell_type": "markdown",
   "metadata": {},
   "source": [
    "# Data preprocessing\n",
    "\n",
    "Before starting the project, we need to make sure to keep only the necessary data. In order to do that, we first started to check if there we columns that were 100% equals. To do so, we created a function called $check\\_all\\_equal$ that will create a combinaison of all the columns of the dataset and will compare them using the $identical$ R function. We noticed that only 2 columns were 100% equals, \"quantity\" and \"quantity_group\". Therefore, we decided to remove the \"quantity_group\" column.\n",
    "\n",
    "After the first parsing done, we notice that there was still some culumns that were close from being equal but they sometimes differ in one word. For example, the column \"payment\" and \"payment_type\" are always the same, they just differ in the notation.\n",
    "\n",
    "\n"
   ]
  },
  {
   "cell_type": "markdown",
   "metadata": {},
   "source": [
    "We will first look at all the columns and safely remove all the columns that only have 1 possibility for the row, for exemple in column `recorded_by`, the row is always `GeoData Consultants Ltd`. This can be checked with"
   ]
  },
  {
   "cell_type": "code",
   "execution_count": 2,
   "metadata": {},
   "outputs": [],
   "source": [
    "training_set_labels <- read.csv(file = 'data/training_set_labels.csv')\n",
    "test_set_values <- read.csv(file = 'data/training_set_labels.csv')\n",
    "training_set_values <- read.csv(file = 'data/training_set_values.csv')"
   ]
  },
  {
   "cell_type": "code",
   "execution_count": 3,
   "metadata": {},
   "outputs": [
    {
     "name": "stdout",
     "output_type": "stream",
     "text": [
      "[1] \"the column recorded_by has always the same value\"\n"
     ]
    }
   ],
   "source": [
    "for (colname in names(training_set_values)) {\n",
    "    if (nrow(unique(training_set_values[colname])) == 1){\n",
    "        print(paste(\"the column\", colname, \"has always the same value\"))\n",
    "    }\n",
    "}\n"
   ]
  },
  {
   "cell_type": "markdown",
   "metadata": {},
   "source": [
    "Given the huge amount of data we have, we can also look through the column in which one possibility for the row appear most of the time, and simply drop all the rows that do not fit. For exemple, in the column `num_private`, the value `0` appears more than 98% of the time, we could then simply assume that it is always 0 by dropping all the rows in which the value is not `0` in that column"
   ]
  },
  {
   "cell_type": "code",
   "execution_count": 4,
   "metadata": {},
   "outputs": [
    {
     "data": {
      "text/plain": [
       "\n",
       "    0     1     2     3     4     5     6     7     8     9    10    11    12 \n",
       "58643    73    23    27    20    46    81    26    46     4     4    11     5 \n",
       "   14    15    16    17    20    22    23    24    25    26    27    30    32 \n",
       "    3    35     8    17    14     6     1     5    12     2     2     1    40 \n",
       "   34    35    38    39    41    42    45    47    50    55    58    60    61 \n",
       "   10     1     4    30    10     1    36    21     5     1     4     1     3 \n",
       "   62    65    80    87    93    94   102   111   120   131   136   141   150 \n",
       "    1    22    15     1    28     1    20     1     7     1     1     1     6 \n",
       "  160   180   213   240   280   300   450   668   672   698   755  1402  1776 \n",
       "    1     1     1     1     1     1     1     1     1     1     1     1     1 "
      ]
     },
     "metadata": {},
     "output_type": "display_data"
    }
   ],
   "source": [
    "table(training_set_values[\"num_private\"])"
   ]
  },
  {
   "cell_type": "markdown",
   "metadata": {},
   "source": [
    "We can automate this process by looking at the difference between the number of occurences of the most and the least common value for all the columns"
   ]
  },
  {
   "cell_type": "code",
   "execution_count": 5,
   "metadata": {
    "scrolled": false
   },
   "outputs": [
    {
     "data": {
      "text/html": [
       "<table class=\"dataframe\">\n",
       "<caption>A data.frame: 40 × 2</caption>\n",
       "<thead>\n",
       "\t<tr><th></th><th scope=col>Difference</th><th scope=col>col_name</th></tr>\n",
       "\t<tr><th></th><th scope=col>&lt;chr&gt;</th><th scope=col>&lt;chr&gt;</th></tr>\n",
       "</thead>\n",
       "<tbody>\n",
       "\t<tr><th scope=row>10</th><td>0.987239057239057  </td><td>num_private          </td></tr>\n",
       "\t<tr><th scope=row>29</th><td>0.874225589225589  </td><td>management_group     </td></tr>\n",
       "\t<tr><th scope=row>32</th><td>0.85523569023569   </td><td>water_quality        </td></tr>\n",
       "\t<tr><th scope=row>33</th><td>0.851868686868687  </td><td>quality_group        </td></tr>\n",
       "\t<tr><th scope=row>19</th><td>0.802643097643098  </td><td>public_meeting       </td></tr>\n",
       "\t<tr><th scope=row>38</th><td>0.766262626262626  </td><td>source_class         </td></tr>\n",
       "\t<tr><th scope=row>2</th><td>0.700976430976431  </td><td>amount_tsh           </td></tr>\n",
       "\t<tr><th scope=row>28</th><td>0.680622895622896  </td><td>management           </td></tr>\n",
       "\t<tr><th scope=row>21</th><td>0.619393939393939  </td><td>scheme_management    </td></tr>\n",
       "\t<tr><th scope=row>23</th><td>0.602626262626263  </td><td>permit               </td></tr>\n",
       "\t<tr><th scope=row>40</th><td>0.582794612794613  </td><td>waterpoint_type_group</td></tr>\n",
       "\t<tr><th scope=row>34</th><td>0.54540404040404   </td><td>quantity             </td></tr>\n",
       "\t<tr><th scope=row>35</th><td>0.54540404040404   </td><td>quantity_group       </td></tr>\n",
       "\t<tr><th scope=row>39</th><td>0.480050505050505  </td><td>waterpoint_type      </td></tr>\n",
       "\t<tr><th scope=row>22</th><td>0.474158249158249  </td><td>scheme_name          </td></tr>\n",
       "\t<tr><th scope=row>25</th><td>0.450808080808081  </td><td>extraction_type      </td></tr>\n",
       "\t<tr><th scope=row>26</th><td>0.449191919191919  </td><td>extraction_type_group</td></tr>\n",
       "\t<tr><th scope=row>27</th><td>0.448872053872054  </td><td>extraction_type_class</td></tr>\n",
       "\t<tr><th scope=row>30</th><td>0.408989898989899  </td><td>payment              </td></tr>\n",
       "\t<tr><th scope=row>31</th><td>0.408989898989899  </td><td>payment_type         </td></tr>\n",
       "\t<tr><th scope=row>18</th><td>0.35993265993266   </td><td>population           </td></tr>\n",
       "\t<tr><th scope=row>24</th><td>0.348350168350168  </td><td>construction_year    </td></tr>\n",
       "\t<tr><th scope=row>5</th><td>0.344057239057239  </td><td>gps_height           </td></tr>\n",
       "\t<tr><th scope=row>6</th><td>0.292946127946128  </td><td>installer            </td></tr>\n",
       "\t<tr><th scope=row>36</th><td>0.28543771043771   </td><td>source               </td></tr>\n",
       "\t<tr><th scope=row>37</th><td>0.281868686868687  </td><td>source_type          </td></tr>\n",
       "\t<tr><th scope=row>15</th><td>0.2053367003367    </td><td>district_code        </td></tr>\n",
       "\t<tr><th scope=row>4</th><td>0.152912457912458  </td><td>funder               </td></tr>\n",
       "\t<tr><th scope=row>11</th><td>0.131212121212121  </td><td>basin                </td></tr>\n",
       "\t<tr><th scope=row>14</th><td>0.0892087542087542 </td><td>region_code          </td></tr>\n",
       "\t<tr><th scope=row>13</th><td>0.0755723905723906 </td><td>region               </td></tr>\n",
       "\t<tr><th scope=row>9</th><td>0.05996632996633   </td><td>wpt_name             </td></tr>\n",
       "\t<tr><th scope=row>16</th><td>0.0421212121212121 </td><td>lga                  </td></tr>\n",
       "\t<tr><th scope=row>7</th><td>0.0304882154882155 </td><td>longitude            </td></tr>\n",
       "\t<tr><th scope=row>8</th><td>0.0304882154882155 </td><td>latitude             </td></tr>\n",
       "\t<tr><th scope=row>3</th><td>0.00961279461279461</td><td>date_recorded        </td></tr>\n",
       "\t<tr><th scope=row>12</th><td>0.00853535353535353</td><td>subvillage           </td></tr>\n",
       "\t<tr><th scope=row>17</th><td>0.00515151515151515</td><td>ward                 </td></tr>\n",
       "\t<tr><th scope=row>1</th><td>0                  </td><td>id                   </td></tr>\n",
       "\t<tr><th scope=row>20</th><td>0                  </td><td>recorded_by          </td></tr>\n",
       "</tbody>\n",
       "</table>\n"
      ],
      "text/latex": [
       "A data.frame: 40 × 2\n",
       "\\begin{tabular}{r|ll}\n",
       "  & Difference & col\\_name\\\\\n",
       "  & <chr> & <chr>\\\\\n",
       "\\hline\n",
       "\t10 & 0.987239057239057   & num\\_private          \\\\\n",
       "\t29 & 0.874225589225589   & management\\_group     \\\\\n",
       "\t32 & 0.85523569023569    & water\\_quality        \\\\\n",
       "\t33 & 0.851868686868687   & quality\\_group        \\\\\n",
       "\t19 & 0.802643097643098   & public\\_meeting       \\\\\n",
       "\t38 & 0.766262626262626   & source\\_class         \\\\\n",
       "\t2 & 0.700976430976431   & amount\\_tsh           \\\\\n",
       "\t28 & 0.680622895622896   & management           \\\\\n",
       "\t21 & 0.619393939393939   & scheme\\_management    \\\\\n",
       "\t23 & 0.602626262626263   & permit               \\\\\n",
       "\t40 & 0.582794612794613   & waterpoint\\_type\\_group\\\\\n",
       "\t34 & 0.54540404040404    & quantity             \\\\\n",
       "\t35 & 0.54540404040404    & quantity\\_group       \\\\\n",
       "\t39 & 0.480050505050505   & waterpoint\\_type      \\\\\n",
       "\t22 & 0.474158249158249   & scheme\\_name          \\\\\n",
       "\t25 & 0.450808080808081   & extraction\\_type      \\\\\n",
       "\t26 & 0.449191919191919   & extraction\\_type\\_group\\\\\n",
       "\t27 & 0.448872053872054   & extraction\\_type\\_class\\\\\n",
       "\t30 & 0.408989898989899   & payment              \\\\\n",
       "\t31 & 0.408989898989899   & payment\\_type         \\\\\n",
       "\t18 & 0.35993265993266    & population           \\\\\n",
       "\t24 & 0.348350168350168   & construction\\_year    \\\\\n",
       "\t5 & 0.344057239057239   & gps\\_height           \\\\\n",
       "\t6 & 0.292946127946128   & installer            \\\\\n",
       "\t36 & 0.28543771043771    & source               \\\\\n",
       "\t37 & 0.281868686868687   & source\\_type          \\\\\n",
       "\t15 & 0.2053367003367     & district\\_code        \\\\\n",
       "\t4 & 0.152912457912458   & funder               \\\\\n",
       "\t11 & 0.131212121212121   & basin                \\\\\n",
       "\t14 & 0.0892087542087542  & region\\_code          \\\\\n",
       "\t13 & 0.0755723905723906  & region               \\\\\n",
       "\t9 & 0.05996632996633    & wpt\\_name             \\\\\n",
       "\t16 & 0.0421212121212121  & lga                  \\\\\n",
       "\t7 & 0.0304882154882155  & longitude            \\\\\n",
       "\t8 & 0.0304882154882155  & latitude             \\\\\n",
       "\t3 & 0.00961279461279461 & date\\_recorded        \\\\\n",
       "\t12 & 0.00853535353535353 & subvillage           \\\\\n",
       "\t17 & 0.00515151515151515 & ward                 \\\\\n",
       "\t1 & 0                   & id                   \\\\\n",
       "\t20 & 0                   & recorded\\_by          \\\\\n",
       "\\end{tabular}\n"
      ],
      "text/markdown": [
       "\n",
       "A data.frame: 40 × 2\n",
       "\n",
       "| <!--/--> | Difference &lt;chr&gt; | col_name &lt;chr&gt; |\n",
       "|---|---|---|\n",
       "| 10 | 0.987239057239057   | num_private           |\n",
       "| 29 | 0.874225589225589   | management_group      |\n",
       "| 32 | 0.85523569023569    | water_quality         |\n",
       "| 33 | 0.851868686868687   | quality_group         |\n",
       "| 19 | 0.802643097643098   | public_meeting        |\n",
       "| 38 | 0.766262626262626   | source_class          |\n",
       "| 2 | 0.700976430976431   | amount_tsh            |\n",
       "| 28 | 0.680622895622896   | management            |\n",
       "| 21 | 0.619393939393939   | scheme_management     |\n",
       "| 23 | 0.602626262626263   | permit                |\n",
       "| 40 | 0.582794612794613   | waterpoint_type_group |\n",
       "| 34 | 0.54540404040404    | quantity              |\n",
       "| 35 | 0.54540404040404    | quantity_group        |\n",
       "| 39 | 0.480050505050505   | waterpoint_type       |\n",
       "| 22 | 0.474158249158249   | scheme_name           |\n",
       "| 25 | 0.450808080808081   | extraction_type       |\n",
       "| 26 | 0.449191919191919   | extraction_type_group |\n",
       "| 27 | 0.448872053872054   | extraction_type_class |\n",
       "| 30 | 0.408989898989899   | payment               |\n",
       "| 31 | 0.408989898989899   | payment_type          |\n",
       "| 18 | 0.35993265993266    | population            |\n",
       "| 24 | 0.348350168350168   | construction_year     |\n",
       "| 5 | 0.344057239057239   | gps_height            |\n",
       "| 6 | 0.292946127946128   | installer             |\n",
       "| 36 | 0.28543771043771    | source                |\n",
       "| 37 | 0.281868686868687   | source_type           |\n",
       "| 15 | 0.2053367003367     | district_code         |\n",
       "| 4 | 0.152912457912458   | funder                |\n",
       "| 11 | 0.131212121212121   | basin                 |\n",
       "| 14 | 0.0892087542087542  | region_code           |\n",
       "| 13 | 0.0755723905723906  | region                |\n",
       "| 9 | 0.05996632996633    | wpt_name              |\n",
       "| 16 | 0.0421212121212121  | lga                   |\n",
       "| 7 | 0.0304882154882155  | longitude             |\n",
       "| 8 | 0.0304882154882155  | latitude              |\n",
       "| 3 | 0.00961279461279461 | date_recorded         |\n",
       "| 12 | 0.00853535353535353 | subvillage            |\n",
       "| 17 | 0.00515151515151515 | ward                  |\n",
       "| 1 | 0                   | id                    |\n",
       "| 20 | 0                   | recorded_by           |\n",
       "\n"
      ],
      "text/plain": [
       "   Difference          col_name             \n",
       "10 0.987239057239057   num_private          \n",
       "29 0.874225589225589   management_group     \n",
       "32 0.85523569023569    water_quality        \n",
       "33 0.851868686868687   quality_group        \n",
       "19 0.802643097643098   public_meeting       \n",
       "38 0.766262626262626   source_class         \n",
       "2  0.700976430976431   amount_tsh           \n",
       "28 0.680622895622896   management           \n",
       "21 0.619393939393939   scheme_management    \n",
       "23 0.602626262626263   permit               \n",
       "40 0.582794612794613   waterpoint_type_group\n",
       "34 0.54540404040404    quantity             \n",
       "35 0.54540404040404    quantity_group       \n",
       "39 0.480050505050505   waterpoint_type      \n",
       "22 0.474158249158249   scheme_name          \n",
       "25 0.450808080808081   extraction_type      \n",
       "26 0.449191919191919   extraction_type_group\n",
       "27 0.448872053872054   extraction_type_class\n",
       "30 0.408989898989899   payment              \n",
       "31 0.408989898989899   payment_type         \n",
       "18 0.35993265993266    population           \n",
       "24 0.348350168350168   construction_year    \n",
       "5  0.344057239057239   gps_height           \n",
       "6  0.292946127946128   installer            \n",
       "36 0.28543771043771    source               \n",
       "37 0.281868686868687   source_type          \n",
       "15 0.2053367003367     district_code        \n",
       "4  0.152912457912458   funder               \n",
       "11 0.131212121212121   basin                \n",
       "14 0.0892087542087542  region_code          \n",
       "13 0.0755723905723906  region               \n",
       "9  0.05996632996633    wpt_name             \n",
       "16 0.0421212121212121  lga                  \n",
       "7  0.0304882154882155  longitude            \n",
       "8  0.0304882154882155  latitude             \n",
       "3  0.00961279461279461 date_recorded        \n",
       "12 0.00853535353535353 subvillage           \n",
       "17 0.00515151515151515 ward                 \n",
       "1  0                   id                   \n",
       "20 0                   recorded_by          "
      ]
     },
     "metadata": {},
     "output_type": "display_data"
    }
   ],
   "source": [
    "differences <- data.frame(matrix(ncol = 2, nrow = 0))\n",
    "\n",
    "for (colname in names(training_set_values)) {\n",
    "    maximum <- max(table(training_set_values[colname]))\n",
    "    minimum <- min(table(training_set_values[colname]))\n",
    "    differences <- rbind(differences, c((maximum-minimum)/59400, colname))\n",
    "}\n",
    "names(differences) <- c('Difference', 'col_name')\n",
    "differences <- differences[order(differences$Difference, decreasing=TRUE),]\n",
    "differences\n"
   ]
  },
  {
   "cell_type": "markdown",
   "metadata": {},
   "source": [
    "As we can see, only `num_private` has a very high ratio of one value to the rest, so we will only remove the rows for that columns.\n",
    "We will remove all the rows that contain the value that appears the most in the column `num_private`"
   ]
  },
  {
   "cell_type": "code",
   "execution_count": 6,
   "metadata": {},
   "outputs": [],
   "source": [
    "old_count <- nrow(training_set_values)"
   ]
  },
  {
   "cell_type": "code",
   "execution_count": 11,
   "metadata": {
    "scrolled": true
   },
   "outputs": [
    {
     "name": "stdout",
     "output_type": "stream",
     "text": [
      "[1] \"The number of rows of the dataset has been reduced by 1.27441077441077 %\"\n"
     ]
    }
   ],
   "source": [
    "argmax <- tail(names(sort(table(training_set_values$num_private))), 1)  # Finds the value that appear the most\n",
    "training_set_values = filter(training_set_values, num_private == argmax)  # Filter and keep all the values equal to one\n",
    "print(paste(\"The number of rows of the dataset has been reduced by\", 100*(old_count - nrow(training_set_values))/59400, \"%\"))"
   ]
  },
  {
   "cell_type": "markdown",
   "metadata": {},
   "source": [
    "## Missing value imputation\n",
    "\n",
    "## Feature engineering\n",
    "\n",
    "## Feature selection"
   ]
  },
  {
   "cell_type": "markdown",
   "metadata": {},
   "source": []
  },
  {
   "cell_type": "code",
   "execution_count": 8,
   "metadata": {
    "scrolled": false
   },
   "outputs": [
    {
     "data": {
      "text/html": [
       "<style>\n",
       ".list-inline {list-style: none; margin:0; padding: 0}\n",
       ".list-inline>li {display: inline-block}\n",
       ".list-inline>li:not(:last-child)::after {content: \"\\00b7\"; padding: 0 .5ex}\n",
       "</style>\n",
       "<ol class=list-inline><li>'id'</li><li>'amount_tsh'</li><li>'date_recorded'</li><li>'funder'</li><li>'gps_height'</li><li>'installer'</li><li>'longitude'</li><li>'latitude'</li><li>'wpt_name'</li><li>'num_private'</li><li>'basin'</li><li>'subvillage'</li><li>'region'</li><li>'region_code'</li><li>'district_code'</li><li>'lga'</li><li>'ward'</li><li>'population'</li><li>'public_meeting'</li><li>'recorded_by'</li><li>'scheme_management'</li><li>'scheme_name'</li><li>'permit'</li><li>'construction_year'</li><li>'extraction_type'</li><li>'extraction_type_group'</li><li>'extraction_type_class'</li><li>'management'</li><li>'management_group'</li><li>'payment'</li><li>'payment_type'</li><li>'water_quality'</li><li>'quality_group'</li><li>'quantity'</li><li>'quantity_group'</li><li>'source'</li><li>'source_type'</li><li>'source_class'</li><li>'waterpoint_type'</li><li>'waterpoint_type_group'</li></ol>\n"
      ],
      "text/latex": [
       "\\begin{enumerate*}\n",
       "\\item 'id'\n",
       "\\item 'amount\\_tsh'\n",
       "\\item 'date\\_recorded'\n",
       "\\item 'funder'\n",
       "\\item 'gps\\_height'\n",
       "\\item 'installer'\n",
       "\\item 'longitude'\n",
       "\\item 'latitude'\n",
       "\\item 'wpt\\_name'\n",
       "\\item 'num\\_private'\n",
       "\\item 'basin'\n",
       "\\item 'subvillage'\n",
       "\\item 'region'\n",
       "\\item 'region\\_code'\n",
       "\\item 'district\\_code'\n",
       "\\item 'lga'\n",
       "\\item 'ward'\n",
       "\\item 'population'\n",
       "\\item 'public\\_meeting'\n",
       "\\item 'recorded\\_by'\n",
       "\\item 'scheme\\_management'\n",
       "\\item 'scheme\\_name'\n",
       "\\item 'permit'\n",
       "\\item 'construction\\_year'\n",
       "\\item 'extraction\\_type'\n",
       "\\item 'extraction\\_type\\_group'\n",
       "\\item 'extraction\\_type\\_class'\n",
       "\\item 'management'\n",
       "\\item 'management\\_group'\n",
       "\\item 'payment'\n",
       "\\item 'payment\\_type'\n",
       "\\item 'water\\_quality'\n",
       "\\item 'quality\\_group'\n",
       "\\item 'quantity'\n",
       "\\item 'quantity\\_group'\n",
       "\\item 'source'\n",
       "\\item 'source\\_type'\n",
       "\\item 'source\\_class'\n",
       "\\item 'waterpoint\\_type'\n",
       "\\item 'waterpoint\\_type\\_group'\n",
       "\\end{enumerate*}\n"
      ],
      "text/markdown": [
       "1. 'id'\n",
       "2. 'amount_tsh'\n",
       "3. 'date_recorded'\n",
       "4. 'funder'\n",
       "5. 'gps_height'\n",
       "6. 'installer'\n",
       "7. 'longitude'\n",
       "8. 'latitude'\n",
       "9. 'wpt_name'\n",
       "10. 'num_private'\n",
       "11. 'basin'\n",
       "12. 'subvillage'\n",
       "13. 'region'\n",
       "14. 'region_code'\n",
       "15. 'district_code'\n",
       "16. 'lga'\n",
       "17. 'ward'\n",
       "18. 'population'\n",
       "19. 'public_meeting'\n",
       "20. 'recorded_by'\n",
       "21. 'scheme_management'\n",
       "22. 'scheme_name'\n",
       "23. 'permit'\n",
       "24. 'construction_year'\n",
       "25. 'extraction_type'\n",
       "26. 'extraction_type_group'\n",
       "27. 'extraction_type_class'\n",
       "28. 'management'\n",
       "29. 'management_group'\n",
       "30. 'payment'\n",
       "31. 'payment_type'\n",
       "32. 'water_quality'\n",
       "33. 'quality_group'\n",
       "34. 'quantity'\n",
       "35. 'quantity_group'\n",
       "36. 'source'\n",
       "37. 'source_type'\n",
       "38. 'source_class'\n",
       "39. 'waterpoint_type'\n",
       "40. 'waterpoint_type_group'\n",
       "\n",
       "\n"
      ],
      "text/plain": [
       " [1] \"id\"                    \"amount_tsh\"            \"date_recorded\"        \n",
       " [4] \"funder\"                \"gps_height\"            \"installer\"            \n",
       " [7] \"longitude\"             \"latitude\"              \"wpt_name\"             \n",
       "[10] \"num_private\"           \"basin\"                 \"subvillage\"           \n",
       "[13] \"region\"                \"region_code\"           \"district_code\"        \n",
       "[16] \"lga\"                   \"ward\"                  \"population\"           \n",
       "[19] \"public_meeting\"        \"recorded_by\"           \"scheme_management\"    \n",
       "[22] \"scheme_name\"           \"permit\"                \"construction_year\"    \n",
       "[25] \"extraction_type\"       \"extraction_type_group\" \"extraction_type_class\"\n",
       "[28] \"management\"            \"management_group\"      \"payment\"              \n",
       "[31] \"payment_type\"          \"water_quality\"         \"quality_group\"        \n",
       "[34] \"quantity\"              \"quantity_group\"        \"source\"               \n",
       "[37] \"source_type\"           \"source_class\"          \"waterpoint_type\"      \n",
       "[40] \"waterpoint_type_group\""
      ]
     },
     "metadata": {},
     "output_type": "display_data"
    },
    {
     "data": {
      "text/html": [
       "40"
      ],
      "text/latex": [
       "40"
      ],
      "text/markdown": [
       "40"
      ],
      "text/plain": [
       "[1] 40"
      ]
     },
     "metadata": {},
     "output_type": "display_data"
    },
    {
     "data": {
      "text/html": [
       "<table class=\"dataframe\">\n",
       "<caption>A data.frame: 59400 × 29</caption>\n",
       "<thead>\n",
       "\t<tr><th scope=col>id</th><th scope=col>amount_tsh</th><th scope=col>date_recorded</th><th scope=col>funder</th><th scope=col>gps_height</th><th scope=col>installer</th><th scope=col>longitude</th><th scope=col>latitude</th><th scope=col>wpt_name</th><th scope=col>num_private</th><th scope=col>basin</th><th scope=col>region</th><th scope=col>district_code</th><th scope=col>lga</th><th scope=col>ward</th><th scope=col>population</th><th scope=col>public_meeting</th><th scope=col>recorded_by</th><th scope=col>scheme_management</th><th scope=col>scheme_name</th><th scope=col>permit</th><th scope=col>construction_year</th><th scope=col>extraction_type</th><th scope=col>management</th><th scope=col>payment</th><th scope=col>water_quality</th><th scope=col>quantity</th><th scope=col>source</th><th scope=col>waterpoint_type</th></tr>\n",
       "\t<tr><th scope=col>&lt;int&gt;</th><th scope=col>&lt;dbl&gt;</th><th scope=col>&lt;chr&gt;</th><th scope=col>&lt;chr&gt;</th><th scope=col>&lt;int&gt;</th><th scope=col>&lt;chr&gt;</th><th scope=col>&lt;dbl&gt;</th><th scope=col>&lt;dbl&gt;</th><th scope=col>&lt;chr&gt;</th><th scope=col>&lt;int&gt;</th><th scope=col>&lt;chr&gt;</th><th scope=col>&lt;chr&gt;</th><th scope=col>&lt;int&gt;</th><th scope=col>&lt;chr&gt;</th><th scope=col>&lt;chr&gt;</th><th scope=col>&lt;int&gt;</th><th scope=col>&lt;chr&gt;</th><th scope=col>&lt;chr&gt;</th><th scope=col>&lt;chr&gt;</th><th scope=col>&lt;chr&gt;</th><th scope=col>&lt;chr&gt;</th><th scope=col>&lt;int&gt;</th><th scope=col>&lt;chr&gt;</th><th scope=col>&lt;chr&gt;</th><th scope=col>&lt;chr&gt;</th><th scope=col>&lt;chr&gt;</th><th scope=col>&lt;chr&gt;</th><th scope=col>&lt;chr&gt;</th><th scope=col>&lt;chr&gt;</th></tr>\n",
       "</thead>\n",
       "<tbody>\n",
       "\t<tr><td>69572</td><td>6000</td><td>2011-03-14</td><td>Roman       </td><td>1390</td><td>Roman       </td><td>34.93809</td><td> -9.856322</td><td>none                </td><td>0</td><td>Lake Nyasa             </td><td>Iringa </td><td> 5</td><td>Ludewa   </td><td>Mundindi  </td><td>109</td><td>True</td><td>GeoData Consultants Ltd</td><td>VWC  </td><td>Roman                      </td><td>False</td><td>1999</td><td>gravity    </td><td>vwc  </td><td>pay annually  </td><td>soft</td><td>enough      </td><td>spring              </td><td>communal standpipe         </td></tr>\n",
       "\t<tr><td> 8776</td><td>   0</td><td>2013-03-06</td><td>Grumeti     </td><td>1399</td><td>GRUMETI     </td><td>34.69877</td><td> -2.147466</td><td>Zahanati            </td><td>0</td><td>Lake Victoria          </td><td>Mara   </td><td> 2</td><td>Serengeti</td><td>Natta     </td><td>280</td><td>    </td><td>GeoData Consultants Ltd</td><td>Other</td><td>                           </td><td>True </td><td>2010</td><td>gravity    </td><td>wug  </td><td>never pay     </td><td>soft</td><td>insufficient</td><td>rainwater harvesting</td><td>communal standpipe         </td></tr>\n",
       "\t<tr><td>34310</td><td>  25</td><td>2013-02-25</td><td>Lottery Club</td><td> 686</td><td>World vision</td><td>37.46066</td><td> -3.821329</td><td>Kwa Mahundi         </td><td>0</td><td>Pangani                </td><td>Manyara</td><td> 4</td><td>Simanjiro</td><td>Ngorika   </td><td>250</td><td>True</td><td>GeoData Consultants Ltd</td><td>VWC  </td><td>Nyumba ya mungu pipe scheme</td><td>True </td><td>2009</td><td>gravity    </td><td>vwc  </td><td>pay per bucket</td><td>soft</td><td>enough      </td><td>dam                 </td><td>communal standpipe multiple</td></tr>\n",
       "\t<tr><td>67743</td><td>   0</td><td>2013-01-28</td><td>Unicef      </td><td> 263</td><td>UNICEF      </td><td>38.48616</td><td>-11.155298</td><td>Zahanati Ya Nanyumbu</td><td>0</td><td>Ruvuma / Southern Coast</td><td>Mtwara </td><td>63</td><td>Nanyumbu </td><td>Nanyumbu  </td><td> 58</td><td>True</td><td>GeoData Consultants Ltd</td><td>VWC  </td><td>                           </td><td>True </td><td>1986</td><td>submersible</td><td>vwc  </td><td>never pay     </td><td>soft</td><td>dry         </td><td>machine dbh         </td><td>communal standpipe multiple</td></tr>\n",
       "\t<tr><td>19728</td><td>   0</td><td>2011-07-13</td><td>Action In A </td><td>   0</td><td>Artisan     </td><td>31.13085</td><td> -1.825359</td><td>Shuleni             </td><td>0</td><td>Lake Victoria          </td><td>Kagera </td><td> 1</td><td>Karagwe  </td><td>Nyakasimbi</td><td>  0</td><td>True</td><td>GeoData Consultants Ltd</td><td>     </td><td>                           </td><td>True </td><td>   0</td><td>gravity    </td><td>other</td><td>never pay     </td><td>soft</td><td>seasonal    </td><td>rainwater harvesting</td><td>communal standpipe         </td></tr>\n",
       "\t<tr><td>...</td><td>...</td><td>...</td><td>...</td><td>...</td><td>...</td><td>...</td><td>...</td><td>...</td><td>...</td><td>...</td><td>...</td><td>...</td><td>...</td><td>...</td><td>...</td><td>...</td><td>...</td><td>...</td><td>...</td><td>...</td><td>...</td><td>...</td><td>...</td><td>...</td><td>...</td><td>...</td><td>...</td><td>...</td></tr>\n",
       "\t<tr><td>60739</td><td>  10</td><td>2013-05-03</td><td>Germany Republi</td><td>1210</td><td>CES  </td><td>37.16981</td><td>-3.253847</td><td>Area Three Namba 27</td><td>0</td><td>Pangani    </td><td>Kilimanjaro</td><td>5</td><td>Hai           </td><td>Masama Magharibi</td><td>125</td><td>True</td><td>GeoData Consultants Ltd</td><td>Water Board</td><td>Losaa Kia water supply     </td><td>True </td><td>1999</td><td>gravity    </td><td>water board</td><td>pay per bucket       </td><td>soft    </td><td>enough      </td><td>spring      </td><td>communal standpipe</td></tr>\n",
       "\t<tr><td>27263</td><td>4700</td><td>2011-05-07</td><td>Cefa-njombe    </td><td>1212</td><td>Cefa </td><td>35.24999</td><td>-9.070629</td><td>Kwa Yahona Kuvala  </td><td>0</td><td>Rufiji     </td><td>Iringa     </td><td>4</td><td>Njombe        </td><td>Ikondo          </td><td> 56</td><td>True</td><td>GeoData Consultants Ltd</td><td>VWC        </td><td>Ikondo electrical water sch</td><td>True </td><td>1996</td><td>gravity    </td><td>vwc        </td><td>pay annually         </td><td>soft    </td><td>enough      </td><td>river       </td><td>communal standpipe</td></tr>\n",
       "\t<tr><td>37057</td><td>   0</td><td>2011-04-11</td><td>               </td><td>   0</td><td>     </td><td>34.01709</td><td>-8.750434</td><td>Mashine            </td><td>0</td><td>Rufiji     </td><td>Mbeya      </td><td>7</td><td>Mbarali       </td><td>Chimala         </td><td>  0</td><td>True</td><td>GeoData Consultants Ltd</td><td>VWC        </td><td>                           </td><td>False</td><td>   0</td><td>swn 80     </td><td>vwc        </td><td>pay monthly          </td><td>fluoride</td><td>enough      </td><td>machine dbh </td><td>hand pump         </td></tr>\n",
       "\t<tr><td>31282</td><td>   0</td><td>2011-03-08</td><td>Malec          </td><td>   0</td><td>Musa </td><td>35.86132</td><td>-6.378573</td><td>Mshoro             </td><td>0</td><td>Rufiji     </td><td>Dodoma     </td><td>4</td><td>Chamwino      </td><td>Mvumi Makulu    </td><td>  0</td><td>True</td><td>GeoData Consultants Ltd</td><td>VWC        </td><td>                           </td><td>True </td><td>   0</td><td>nira/tanira</td><td>vwc        </td><td>never pay            </td><td>soft    </td><td>insufficient</td><td>shallow well</td><td>hand pump         </td></tr>\n",
       "\t<tr><td>26348</td><td>   0</td><td>2011-03-23</td><td>World Bank     </td><td> 191</td><td>World</td><td>38.10405</td><td>-6.747464</td><td>Kwa Mzee Lugawa    </td><td>0</td><td>Wami / Ruvu</td><td>Morogoro   </td><td>2</td><td>Morogoro Rural</td><td>Ngerengere      </td><td>150</td><td>True</td><td>GeoData Consultants Ltd</td><td>VWC        </td><td>                           </td><td>True </td><td>2002</td><td>nira/tanira</td><td>vwc        </td><td>pay when scheme fails</td><td>salty   </td><td>enough      </td><td>shallow well</td><td>hand pump         </td></tr>\n",
       "</tbody>\n",
       "</table>\n"
      ],
      "text/latex": [
       "A data.frame: 59400 × 29\n",
       "\\begin{tabular}{lllllllllllllllllllllllllllll}\n",
       " id & amount\\_tsh & date\\_recorded & funder & gps\\_height & installer & longitude & latitude & wpt\\_name & num\\_private & basin & region & district\\_code & lga & ward & population & public\\_meeting & recorded\\_by & scheme\\_management & scheme\\_name & permit & construction\\_year & extraction\\_type & management & payment & water\\_quality & quantity & source & waterpoint\\_type\\\\\n",
       " <int> & <dbl> & <chr> & <chr> & <int> & <chr> & <dbl> & <dbl> & <chr> & <int> & <chr> & <chr> & <int> & <chr> & <chr> & <int> & <chr> & <chr> & <chr> & <chr> & <chr> & <int> & <chr> & <chr> & <chr> & <chr> & <chr> & <chr> & <chr>\\\\\n",
       "\\hline\n",
       "\t 69572 & 6000 & 2011-03-14 & Roman        & 1390 & Roman        & 34.93809 &  -9.856322 & none                 & 0 & Lake Nyasa              & Iringa  &  5 & Ludewa    & Mundindi   & 109 & True & GeoData Consultants Ltd & VWC   & Roman                       & False & 1999 & gravity     & vwc   & pay annually   & soft & enough       & spring               & communal standpipe         \\\\\n",
       "\t  8776 &    0 & 2013-03-06 & Grumeti      & 1399 & GRUMETI      & 34.69877 &  -2.147466 & Zahanati             & 0 & Lake Victoria           & Mara    &  2 & Serengeti & Natta      & 280 &      & GeoData Consultants Ltd & Other &                             & True  & 2010 & gravity     & wug   & never pay      & soft & insufficient & rainwater harvesting & communal standpipe         \\\\\n",
       "\t 34310 &   25 & 2013-02-25 & Lottery Club &  686 & World vision & 37.46066 &  -3.821329 & Kwa Mahundi          & 0 & Pangani                 & Manyara &  4 & Simanjiro & Ngorika    & 250 & True & GeoData Consultants Ltd & VWC   & Nyumba ya mungu pipe scheme & True  & 2009 & gravity     & vwc   & pay per bucket & soft & enough       & dam                  & communal standpipe multiple\\\\\n",
       "\t 67743 &    0 & 2013-01-28 & Unicef       &  263 & UNICEF       & 38.48616 & -11.155298 & Zahanati Ya Nanyumbu & 0 & Ruvuma / Southern Coast & Mtwara  & 63 & Nanyumbu  & Nanyumbu   &  58 & True & GeoData Consultants Ltd & VWC   &                             & True  & 1986 & submersible & vwc   & never pay      & soft & dry          & machine dbh          & communal standpipe multiple\\\\\n",
       "\t 19728 &    0 & 2011-07-13 & Action In A  &    0 & Artisan      & 31.13085 &  -1.825359 & Shuleni              & 0 & Lake Victoria           & Kagera  &  1 & Karagwe   & Nyakasimbi &   0 & True & GeoData Consultants Ltd &       &                             & True  &    0 & gravity     & other & never pay      & soft & seasonal     & rainwater harvesting & communal standpipe         \\\\\n",
       "\t ... & ... & ... & ... & ... & ... & ... & ... & ... & ... & ... & ... & ... & ... & ... & ... & ... & ... & ... & ... & ... & ... & ... & ... & ... & ... & ... & ... & ...\\\\\n",
       "\t 60739 &   10 & 2013-05-03 & Germany Republi & 1210 & CES   & 37.16981 & -3.253847 & Area Three Namba 27 & 0 & Pangani     & Kilimanjaro & 5 & Hai            & Masama Magharibi & 125 & True & GeoData Consultants Ltd & Water Board & Losaa Kia water supply      & True  & 1999 & gravity     & water board & pay per bucket        & soft     & enough       & spring       & communal standpipe\\\\\n",
       "\t 27263 & 4700 & 2011-05-07 & Cefa-njombe     & 1212 & Cefa  & 35.24999 & -9.070629 & Kwa Yahona Kuvala   & 0 & Rufiji      & Iringa      & 4 & Njombe         & Ikondo           &  56 & True & GeoData Consultants Ltd & VWC         & Ikondo electrical water sch & True  & 1996 & gravity     & vwc         & pay annually          & soft     & enough       & river        & communal standpipe\\\\\n",
       "\t 37057 &    0 & 2011-04-11 &                 &    0 &       & 34.01709 & -8.750434 & Mashine             & 0 & Rufiji      & Mbeya       & 7 & Mbarali        & Chimala          &   0 & True & GeoData Consultants Ltd & VWC         &                             & False &    0 & swn 80      & vwc         & pay monthly           & fluoride & enough       & machine dbh  & hand pump         \\\\\n",
       "\t 31282 &    0 & 2011-03-08 & Malec           &    0 & Musa  & 35.86132 & -6.378573 & Mshoro              & 0 & Rufiji      & Dodoma      & 4 & Chamwino       & Mvumi Makulu     &   0 & True & GeoData Consultants Ltd & VWC         &                             & True  &    0 & nira/tanira & vwc         & never pay             & soft     & insufficient & shallow well & hand pump         \\\\\n",
       "\t 26348 &    0 & 2011-03-23 & World Bank      &  191 & World & 38.10405 & -6.747464 & Kwa Mzee Lugawa     & 0 & Wami / Ruvu & Morogoro    & 2 & Morogoro Rural & Ngerengere       & 150 & True & GeoData Consultants Ltd & VWC         &                             & True  & 2002 & nira/tanira & vwc         & pay when scheme fails & salty    & enough       & shallow well & hand pump         \\\\\n",
       "\\end{tabular}\n"
      ],
      "text/markdown": [
       "\n",
       "A data.frame: 59400 × 29\n",
       "\n",
       "| id &lt;int&gt; | amount_tsh &lt;dbl&gt; | date_recorded &lt;chr&gt; | funder &lt;chr&gt; | gps_height &lt;int&gt; | installer &lt;chr&gt; | longitude &lt;dbl&gt; | latitude &lt;dbl&gt; | wpt_name &lt;chr&gt; | num_private &lt;int&gt; | basin &lt;chr&gt; | region &lt;chr&gt; | district_code &lt;int&gt; | lga &lt;chr&gt; | ward &lt;chr&gt; | population &lt;int&gt; | public_meeting &lt;chr&gt; | recorded_by &lt;chr&gt; | scheme_management &lt;chr&gt; | scheme_name &lt;chr&gt; | permit &lt;chr&gt; | construction_year &lt;int&gt; | extraction_type &lt;chr&gt; | management &lt;chr&gt; | payment &lt;chr&gt; | water_quality &lt;chr&gt; | quantity &lt;chr&gt; | source &lt;chr&gt; | waterpoint_type &lt;chr&gt; |\n",
       "|---|---|---|---|---|---|---|---|---|---|---|---|---|---|---|---|---|---|---|---|---|---|---|---|---|---|---|---|---|\n",
       "| 69572 | 6000 | 2011-03-14 | Roman        | 1390 | Roman        | 34.93809 |  -9.856322 | none                 | 0 | Lake Nyasa              | Iringa  |  5 | Ludewa    | Mundindi   | 109 | True | GeoData Consultants Ltd | VWC   | Roman                       | False | 1999 | gravity     | vwc   | pay annually   | soft | enough       | spring               | communal standpipe          |\n",
       "|  8776 |    0 | 2013-03-06 | Grumeti      | 1399 | GRUMETI      | 34.69877 |  -2.147466 | Zahanati             | 0 | Lake Victoria           | Mara    |  2 | Serengeti | Natta      | 280 | <!----> | GeoData Consultants Ltd | Other | <!----> | True  | 2010 | gravity     | wug   | never pay      | soft | insufficient | rainwater harvesting | communal standpipe          |\n",
       "| 34310 |   25 | 2013-02-25 | Lottery Club |  686 | World vision | 37.46066 |  -3.821329 | Kwa Mahundi          | 0 | Pangani                 | Manyara |  4 | Simanjiro | Ngorika    | 250 | True | GeoData Consultants Ltd | VWC   | Nyumba ya mungu pipe scheme | True  | 2009 | gravity     | vwc   | pay per bucket | soft | enough       | dam                  | communal standpipe multiple |\n",
       "| 67743 |    0 | 2013-01-28 | Unicef       |  263 | UNICEF       | 38.48616 | -11.155298 | Zahanati Ya Nanyumbu | 0 | Ruvuma / Southern Coast | Mtwara  | 63 | Nanyumbu  | Nanyumbu   |  58 | True | GeoData Consultants Ltd | VWC   | <!----> | True  | 1986 | submersible | vwc   | never pay      | soft | dry          | machine dbh          | communal standpipe multiple |\n",
       "| 19728 |    0 | 2011-07-13 | Action In A  |    0 | Artisan      | 31.13085 |  -1.825359 | Shuleni              | 0 | Lake Victoria           | Kagera  |  1 | Karagwe   | Nyakasimbi |   0 | True | GeoData Consultants Ltd | <!----> | <!----> | True  |    0 | gravity     | other | never pay      | soft | seasonal     | rainwater harvesting | communal standpipe          |\n",
       "| ... | ... | ... | ... | ... | ... | ... | ... | ... | ... | ... | ... | ... | ... | ... | ... | ... | ... | ... | ... | ... | ... | ... | ... | ... | ... | ... | ... | ... |\n",
       "| 60739 |   10 | 2013-05-03 | Germany Republi | 1210 | CES   | 37.16981 | -3.253847 | Area Three Namba 27 | 0 | Pangani     | Kilimanjaro | 5 | Hai            | Masama Magharibi | 125 | True | GeoData Consultants Ltd | Water Board | Losaa Kia water supply      | True  | 1999 | gravity     | water board | pay per bucket        | soft     | enough       | spring       | communal standpipe |\n",
       "| 27263 | 4700 | 2011-05-07 | Cefa-njombe     | 1212 | Cefa  | 35.24999 | -9.070629 | Kwa Yahona Kuvala   | 0 | Rufiji      | Iringa      | 4 | Njombe         | Ikondo           |  56 | True | GeoData Consultants Ltd | VWC         | Ikondo electrical water sch | True  | 1996 | gravity     | vwc         | pay annually          | soft     | enough       | river        | communal standpipe |\n",
       "| 37057 |    0 | 2011-04-11 | <!----> |    0 | <!----> | 34.01709 | -8.750434 | Mashine             | 0 | Rufiji      | Mbeya       | 7 | Mbarali        | Chimala          |   0 | True | GeoData Consultants Ltd | VWC         | <!----> | False |    0 | swn 80      | vwc         | pay monthly           | fluoride | enough       | machine dbh  | hand pump          |\n",
       "| 31282 |    0 | 2011-03-08 | Malec           |    0 | Musa  | 35.86132 | -6.378573 | Mshoro              | 0 | Rufiji      | Dodoma      | 4 | Chamwino       | Mvumi Makulu     |   0 | True | GeoData Consultants Ltd | VWC         | <!----> | True  |    0 | nira/tanira | vwc         | never pay             | soft     | insufficient | shallow well | hand pump          |\n",
       "| 26348 |    0 | 2011-03-23 | World Bank      |  191 | World | 38.10405 | -6.747464 | Kwa Mzee Lugawa     | 0 | Wami / Ruvu | Morogoro    | 2 | Morogoro Rural | Ngerengere       | 150 | True | GeoData Consultants Ltd | VWC         | <!----> | True  | 2002 | nira/tanira | vwc         | pay when scheme fails | salty    | enough       | shallow well | hand pump          |\n",
       "\n"
      ],
      "text/plain": [
       "      id    amount_tsh date_recorded funder          gps_height installer   \n",
       "1     69572 6000       2011-03-14    Roman           1390       Roman       \n",
       "2      8776    0       2013-03-06    Grumeti         1399       GRUMETI     \n",
       "3     34310   25       2013-02-25    Lottery Club     686       World vision\n",
       "4     67743    0       2013-01-28    Unicef           263       UNICEF      \n",
       "5     19728    0       2011-07-13    Action In A        0       Artisan     \n",
       "...   ...   ...        ...           ...             ...        ...         \n",
       "59396 60739   10       2013-05-03    Germany Republi 1210       CES         \n",
       "59397 27263 4700       2011-05-07    Cefa-njombe     1212       Cefa        \n",
       "59398 37057    0       2011-04-11                       0                   \n",
       "59399 31282    0       2011-03-08    Malec              0       Musa        \n",
       "59400 26348    0       2011-03-23    World Bank       191       World       \n",
       "      longitude latitude   wpt_name             num_private\n",
       "1     34.93809   -9.856322 none                 0          \n",
       "2     34.69877   -2.147466 Zahanati             0          \n",
       "3     37.46066   -3.821329 Kwa Mahundi          0          \n",
       "4     38.48616  -11.155298 Zahanati Ya Nanyumbu 0          \n",
       "5     31.13085   -1.825359 Shuleni              0          \n",
       "...   ...       ...        ...                  ...        \n",
       "59396 37.16981  -3.253847  Area Three Namba 27  0          \n",
       "59397 35.24999  -9.070629  Kwa Yahona Kuvala    0          \n",
       "59398 34.01709  -8.750434  Mashine              0          \n",
       "59399 35.86132  -6.378573  Mshoro               0          \n",
       "59400 38.10405  -6.747464  Kwa Mzee Lugawa      0          \n",
       "      basin                   region      district_code lga           \n",
       "1     Lake Nyasa              Iringa       5            Ludewa        \n",
       "2     Lake Victoria           Mara         2            Serengeti     \n",
       "3     Pangani                 Manyara      4            Simanjiro     \n",
       "4     Ruvuma / Southern Coast Mtwara      63            Nanyumbu      \n",
       "5     Lake Victoria           Kagera       1            Karagwe       \n",
       "...   ...                     ...         ...           ...           \n",
       "59396 Pangani                 Kilimanjaro 5             Hai           \n",
       "59397 Rufiji                  Iringa      4             Njombe        \n",
       "59398 Rufiji                  Mbeya       7             Mbarali       \n",
       "59399 Rufiji                  Dodoma      4             Chamwino      \n",
       "59400 Wami / Ruvu             Morogoro    2             Morogoro Rural\n",
       "      ward             population public_meeting recorded_by            \n",
       "1     Mundindi         109        True           GeoData Consultants Ltd\n",
       "2     Natta            280                       GeoData Consultants Ltd\n",
       "3     Ngorika          250        True           GeoData Consultants Ltd\n",
       "4     Nanyumbu          58        True           GeoData Consultants Ltd\n",
       "5     Nyakasimbi         0        True           GeoData Consultants Ltd\n",
       "...   ...              ...        ...            ...                    \n",
       "59396 Masama Magharibi 125        True           GeoData Consultants Ltd\n",
       "59397 Ikondo            56        True           GeoData Consultants Ltd\n",
       "59398 Chimala            0        True           GeoData Consultants Ltd\n",
       "59399 Mvumi Makulu       0        True           GeoData Consultants Ltd\n",
       "59400 Ngerengere       150        True           GeoData Consultants Ltd\n",
       "      scheme_management scheme_name                 permit construction_year\n",
       "1     VWC               Roman                       False  1999             \n",
       "2     Other                                         True   2010             \n",
       "3     VWC               Nyumba ya mungu pipe scheme True   2009             \n",
       "4     VWC                                           True   1986             \n",
       "5                                                   True      0             \n",
       "...   ...               ...                         ...    ...              \n",
       "59396 Water Board       Losaa Kia water supply      True   1999             \n",
       "59397 VWC               Ikondo electrical water sch True   1996             \n",
       "59398 VWC                                           False     0             \n",
       "59399 VWC                                           True      0             \n",
       "59400 VWC                                           True   2002             \n",
       "      extraction_type management  payment               water_quality\n",
       "1     gravity         vwc         pay annually          soft         \n",
       "2     gravity         wug         never pay             soft         \n",
       "3     gravity         vwc         pay per bucket        soft         \n",
       "4     submersible     vwc         never pay             soft         \n",
       "5     gravity         other       never pay             soft         \n",
       "...   ...             ...         ...                   ...          \n",
       "59396 gravity         water board pay per bucket        soft         \n",
       "59397 gravity         vwc         pay annually          soft         \n",
       "59398 swn 80          vwc         pay monthly           fluoride     \n",
       "59399 nira/tanira     vwc         never pay             soft         \n",
       "59400 nira/tanira     vwc         pay when scheme fails salty        \n",
       "      quantity     source               waterpoint_type            \n",
       "1     enough       spring               communal standpipe         \n",
       "2     insufficient rainwater harvesting communal standpipe         \n",
       "3     enough       dam                  communal standpipe multiple\n",
       "4     dry          machine dbh          communal standpipe multiple\n",
       "5     seasonal     rainwater harvesting communal standpipe         \n",
       "...   ...          ...                  ...                        \n",
       "59396 enough       spring               communal standpipe         \n",
       "59397 enough       river                communal standpipe         \n",
       "59398 enough       machine dbh          hand pump                  \n",
       "59399 insufficient shallow well         hand pump                  \n",
       "59400 enough       shallow well         hand pump                  "
      ]
     },
     "metadata": {},
     "output_type": "display_data"
    }
   ],
   "source": [
    "options(repr.matrix.max.rows=10, repr.matrix.max.cols=100)\n",
    "#Read the dataset to the variable training_set_labels\n",
    "training_set_labels <- read.csv(file = 'data/training_set_labels.csv')\n",
    "test_set_values <- read.csv(file = 'data/training_set_labels.csv')\n",
    "training_set_values <- read.csv(file = 'data/training_set_values.csv')\n",
    "\n",
    "\n",
    "\n",
    "# Adds en empty column functional_need_repairs\n",
    "training_set_labels <- cbind(training_set_labels, \"non_functional\" = 0)\n",
    "# Adds en empty column functional_need_repairs\n",
    "training_set_labels <- cbind(training_set_labels, \"functional_need_repairs\" = 0)\n",
    "# Adds an empty column functional\n",
    "training_set_labels <- cbind(training_set_labels, \"functional\" = 0)\n",
    "\n",
    "# Put 1 in the column depending on the status_group\n",
    "training_set_labels$non_functional <- ifelse(training_set_labels$status_group == \"non functional\", 1, 0)\n",
    "training_set_labels$functional_need_repairs <- ifelse(training_set_labels$status_group == \"functional need repairs\", 1, 0)\n",
    "training_set_labels$functional <- ifelse(training_set_labels$status_group == \"functional\", 1, 0)\n",
    "\n",
    "\n",
    "# print(\"start\")\n",
    "# for (col1 in 2:ncol(training_set_values)-1) {\n",
    "#     for (col2 in col1:ncol(training_set_values)) {\n",
    "#         if (col1 != col2) {\n",
    "# #             print(col1)\n",
    "# #             print(col2)\n",
    "# #             print(length(training_set_values[, col1]))\n",
    "# #             print(length(training_set_values[, col2]))\n",
    "#             print(table(training_set_values[, col1], training_set_values[, col2]))\n",
    "#         }\n",
    "#     }\n",
    "# }\n",
    "\n",
    "\n",
    "# interesting_column_name <- c(\n",
    "#     c(\"waterpoint_type_group\", \"waterpoint_type\"), \n",
    "#     c(\"source_type\", \"source_class\"), \n",
    "#     c(\"source\", \"source_type\"),\n",
    "#     c(\"water_quality\", \"quality_group\"),\n",
    "#     c(\"quantity\", \"quantity_group\"),\n",
    "#     c(\"extraction_type\", \"extraction_group_type\"),\n",
    "#     c(\"extraction_type\", \"extraction_type_class\")\n",
    "#     c(\"payment\", \"payment_type\"),\n",
    "#     c(\"management\", \"management_group\"),\n",
    "#     c(\"region\", \"region_code\"),\n",
    "#     c(\"basin\", \"subvillage\"))\n",
    "\n",
    "# table(training_set_values$waterpoint_type_group, training_set_values$waterpoint_type)  # we can delete row\n",
    "# table(training_set_values$source_type, training_set_values$source_class)  # we can delete column\n",
    "# table(training_set_values$source, training_set_values$source_type)  # we can delete column\n",
    "# table(training_set_values$water_quality, training_set_values$quality_group)  # we can delete column\n",
    "# table(training_set_values$quantity, training_set_values$quantity_group)  # equivalent, we delete column\n",
    "# table(training_set_values$extraction_type, training_set_values$extraction_type_group)  # we can delete column\n",
    "# table(training_set_values$extraction_type, training_set_values$extraction_type_class)  # We can delete column\n",
    "# table(training_set_values$payment, training_set_values$payment_type)  # equivalent,  we delete column\n",
    "# table(training_set_values$management, training_set_values$management_group)  # we delete column\n",
    "# table(training_set_values$region, training_set_values$region_code)  # very correlated but some cities/code are ambigius\n",
    "# table(training_set_values$basin, training_set_values$subvillage)  # not really correlated, keep\n",
    "\n",
    "\n",
    "# head(training_set_values)\n",
    "names(training_set_values)\n",
    "length(names(training_set_values))\n",
    "training_set_values[-c(40, 38, 37, 33, 35, 26, 27, 31, 29, 14, 12)]\n"
   ]
  },
  {
   "cell_type": "markdown",
   "metadata": {},
   "source": [
    "# Model selection\n",
    "\n",
    "## Model 1\n",
    "\n",
    "## Model 2\n",
    "\n",
    "## Model 3\n",
    "\n",
    "#### Example of simple equation\n",
    "\\begin{equation}\n",
    "e = mc^2\n",
    "\\end{equation}\n",
    "\n",
    "#### Example of matrix equation - Cross product formula:\n",
    "\n",
    "\\begin{equation*}\n",
    "\\mathbf{V}_1 \\times \\mathbf{V}_2 =  \\begin{vmatrix}\n",
    "\\mathbf{i} & \\mathbf{j} & \\mathbf{k} \\\\\n",
    "\\frac{\\partial X}{\\partial u} &  \\frac{\\partial Y}{\\partial u} & 0 \\\\\n",
    "\\frac{\\partial X}{\\partial v} &  \\frac{\\partial Y}{\\partial v} & 0\n",
    "\\end{vmatrix}\n",
    "\\end{equation*}\n",
    "\n",
    "#### Example of multiline equation - The Lorenz Equations:\n",
    "\n",
    "\\begin{align}\n",
    "\\dot{x} & = \\sigma(y-x) \\\\\n",
    "\\dot{y} & = \\rho x - y - xz \\\\\n",
    "\\dot{z} & = -\\beta z + xy\n",
    "\\end{align}\n",
    "\n",
    "#### Example of Markdown Table:\n",
    "\n",
    "| This | is   |\n",
    "|------|------|\n",
    "|   a  | table|\n"
   ]
  },
  {
   "cell_type": "markdown",
   "metadata": {},
   "source": [
    "# Alternative models\n",
    "\n",
    "\n",
    "\n"
   ]
  },
  {
   "cell_type": "markdown",
   "metadata": {},
   "source": [
    "# Conclusions"
   ]
  }
 ],
 "metadata": {
  "kernelspec": {
   "display_name": "R",
   "language": "R",
   "name": "ir"
  },
  "language_info": {
   "codemirror_mode": "r",
   "file_extension": ".r",
   "mimetype": "text/x-r-source",
   "name": "R",
   "pygments_lexer": "r",
   "version": "4.0.3"
  }
 },
 "nbformat": 4,
 "nbformat_minor": 4
}

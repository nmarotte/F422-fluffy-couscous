{
 "cells": [
  {
   "cell_type": "markdown",
   "metadata": {},
   "source": [
    "# INFO-F-422 -  Statistical Foundations of Machine Learning \n",
    "\n",
    "### Student 1 - __[antoine.bedaton@ulb.be](mailto:antoine.bedaton@ulb.be) - Student ID YYYYYY__\n",
    "### Student 2 - __[pierre.defraene@ulb.be](mailto:pierre.defraene@ulb.be) - Student ID XXXXXX__\n",
    "### Student 3 - __[nathan.marotte@ulb.be](mailto:nathan.marotte@ulb.be) - Student ID 459274__\n",
    "\n",
    "### Video presentation: www.youtube.com/abcd1234\n",
    "\n",
    "## Project Title\n"
   ]
  },
  {
   "cell_type": "markdown",
   "metadata": {},
   "source": [
    "# Introduction\n"
   ]
  },
  {
   "cell_type": "markdown",
   "metadata": {},
   "source": [
    "# Data preprocessing\n",
    "\n",
    "## Missing value imputation\n",
    "\n",
    "## Feature engineering\n",
    "\n",
    "## Feature selection\n",
    "\n"
   ]
  },
  {
   "cell_type": "markdown",
   "metadata": {},
   "source": []
  },
  {
   "cell_type": "code",
   "execution_count": 29,
   "metadata": {},
   "outputs": [
    {
     "data": {
      "text/html": [
       "<table class=\"dataframe\">\n",
       "<caption>A data.frame: 6 × 5</caption>\n",
       "<thead>\n",
       "\t<tr><th></th><th scope=col>id</th><th scope=col>status_group</th><th scope=col>non_functional</th><th scope=col>functional_need_repairs</th><th scope=col>functional</th></tr>\n",
       "\t<tr><th></th><th scope=col>&lt;int&gt;</th><th scope=col>&lt;chr&gt;</th><th scope=col>&lt;dbl&gt;</th><th scope=col>&lt;dbl&gt;</th><th scope=col>&lt;dbl&gt;</th></tr>\n",
       "</thead>\n",
       "<tbody>\n",
       "\t<tr><th scope=row>1</th><td>69572</td><td>functional    </td><td>0</td><td>0</td><td>1</td></tr>\n",
       "\t<tr><th scope=row>2</th><td> 8776</td><td>functional    </td><td>0</td><td>0</td><td>1</td></tr>\n",
       "\t<tr><th scope=row>3</th><td>34310</td><td>functional    </td><td>0</td><td>0</td><td>1</td></tr>\n",
       "\t<tr><th scope=row>4</th><td>67743</td><td>non functional</td><td>1</td><td>0</td><td>0</td></tr>\n",
       "\t<tr><th scope=row>5</th><td>19728</td><td>functional    </td><td>0</td><td>0</td><td>1</td></tr>\n",
       "\t<tr><th scope=row>6</th><td> 9944</td><td>functional    </td><td>0</td><td>0</td><td>1</td></tr>\n",
       "</tbody>\n",
       "</table>\n"
      ],
      "text/latex": [
       "A data.frame: 6 × 5\n",
       "\\begin{tabular}{r|lllll}\n",
       "  & id & status\\_group & non\\_functional & functional\\_need\\_repairs & functional\\\\\n",
       "  & <int> & <chr> & <dbl> & <dbl> & <dbl>\\\\\n",
       "\\hline\n",
       "\t1 & 69572 & functional     & 0 & 0 & 1\\\\\n",
       "\t2 &  8776 & functional     & 0 & 0 & 1\\\\\n",
       "\t3 & 34310 & functional     & 0 & 0 & 1\\\\\n",
       "\t4 & 67743 & non functional & 1 & 0 & 0\\\\\n",
       "\t5 & 19728 & functional     & 0 & 0 & 1\\\\\n",
       "\t6 &  9944 & functional     & 0 & 0 & 1\\\\\n",
       "\\end{tabular}\n"
      ],
      "text/markdown": [
       "\n",
       "A data.frame: 6 × 5\n",
       "\n",
       "| <!--/--> | id &lt;int&gt; | status_group &lt;chr&gt; | non_functional &lt;dbl&gt; | functional_need_repairs &lt;dbl&gt; | functional &lt;dbl&gt; |\n",
       "|---|---|---|---|---|---|\n",
       "| 1 | 69572 | functional     | 0 | 0 | 1 |\n",
       "| 2 |  8776 | functional     | 0 | 0 | 1 |\n",
       "| 3 | 34310 | functional     | 0 | 0 | 1 |\n",
       "| 4 | 67743 | non functional | 1 | 0 | 0 |\n",
       "| 5 | 19728 | functional     | 0 | 0 | 1 |\n",
       "| 6 |  9944 | functional     | 0 | 0 | 1 |\n",
       "\n"
      ],
      "text/plain": [
       "  id    status_group   non_functional functional_need_repairs functional\n",
       "1 69572 functional     0              0                       1         \n",
       "2  8776 functional     0              0                       1         \n",
       "3 34310 functional     0              0                       1         \n",
       "4 67743 non functional 1              0                       0         \n",
       "5 19728 functional     0              0                       1         \n",
       "6  9944 functional     0              0                       1         "
      ]
     },
     "metadata": {},
     "output_type": "display_data"
    }
   ],
   "source": [
    "# Read the dataset to the variable training_set_labels\n",
    "training_set_labels <- read.csv(file = 'data/training_set_labels.csv')\n",
    "\n",
    "\n",
    "# Adds en empty column functional_need_repairs\n",
    "training_set_labels <- cbind(training_set_labels, \"non_functional\" = 0)\n",
    "# Adds en empty column functional_need_repairs\n",
    "training_set_labels <- cbind(training_set_labels, \"functional_need_repairs\" = 0)\n",
    "# Adds an empty column functional\n",
    "training_set_labels <- cbind(training_set_labels, \"functional\" = 0)\n",
    "\n",
    "# Put 1 in the column depending on the status_group\n",
    "training_set_labels$non_functional <- ifelse(training_set_labels$status_group == \"non functional\", 1, 0)\n",
    "training_set_labels$functional_need_repairs <- ifelse(training_set_labels$status_group == \"functional need repairs\", 1, 0)\n",
    "training_set_labels$functional <- ifelse(training_set_labels$status_group == \"functional\", 1, 0)\n",
    "head(training_set_labels)"
   ]
  },
  {
   "cell_type": "markdown",
   "metadata": {},
   "source": [
    "# Model selection\n",
    "\n",
    "## Model 1\n",
    "\n",
    "## Model 2\n",
    "\n",
    "## Model 3\n",
    "\n",
    "#### Example of simple equation\n",
    "\\begin{equation}\n",
    "e = mc^2\n",
    "\\end{equation}\n",
    "\n",
    "#### Example of matrix equation - Cross product formula:\n",
    "\n",
    "\\begin{equation*}\n",
    "\\mathbf{V}_1 \\times \\mathbf{V}_2 =  \\begin{vmatrix}\n",
    "\\mathbf{i} & \\mathbf{j} & \\mathbf{k} \\\\\n",
    "\\frac{\\partial X}{\\partial u} &  \\frac{\\partial Y}{\\partial u} & 0 \\\\\n",
    "\\frac{\\partial X}{\\partial v} &  \\frac{\\partial Y}{\\partial v} & 0\n",
    "\\end{vmatrix}\n",
    "\\end{equation*}\n",
    "\n",
    "#### Example of multiline equation - The Lorenz Equations:\n",
    "\n",
    "\\begin{align}\n",
    "\\dot{x} & = \\sigma(y-x) \\\\\n",
    "\\dot{y} & = \\rho x - y - xz \\\\\n",
    "\\dot{z} & = -\\beta z + xy\n",
    "\\end{align}\n",
    "\n",
    "#### Example of Markdown Table:\n",
    "\n",
    "| This | is   |\n",
    "|------|------|\n",
    "|   a  | table|\n"
   ]
  },
  {
   "cell_type": "markdown",
   "metadata": {},
   "source": [
    "# Alternative models\n",
    "\n",
    "\n",
    "\n"
   ]
  },
  {
   "cell_type": "markdown",
   "metadata": {},
   "source": [
    "# Conclusions"
   ]
  }
 ],
 "metadata": {
  "kernelspec": {
   "display_name": "R",
   "language": "R",
   "name": "ir"
  },
  "language_info": {
   "codemirror_mode": "r",
   "file_extension": ".r",
   "mimetype": "text/x-r-source",
   "name": "R",
   "pygments_lexer": "r",
   "version": "4.0.3"
  }
 },
 "nbformat": 4,
 "nbformat_minor": 4
}

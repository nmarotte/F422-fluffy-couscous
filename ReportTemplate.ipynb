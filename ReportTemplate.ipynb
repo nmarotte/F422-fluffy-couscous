{
 "cells": [
  {
   "cell_type": "markdown",
   "metadata": {},
   "source": [
    "# INFO-F-422 -  Statistical Foundations of Machine Learning \n",
    "\n",
    "### Student 1 - __[antoine.bedaton@ulb.be](mailto:antoine.bedaton@ulb.be) - Student ID 459482__\n",
    "### Student 2 - __[pierre.defraene@ulb.be](mailto:pierre.defraene@ulb.be) - Student ID 463941__\n",
    "### Student 3 - __[nathan.marotte@ulb.be](mailto:nathan.marotte@ulb.be) - Student ID 459274__\n",
    "\n",
    "### Video presentation: https://drive.google.com/file/d/14sSOvVklGyE4mWS1J7pWdTvH6LSUp_Ca/view\n"
   ]
  },
  {
   "cell_type": "markdown",
   "metadata": {},
   "source": [
    "# Introduction"
   ]
  },
  {
   "cell_type": "markdown",
   "metadata": {},
   "source": [
    "Using data from Taarifa and the Tanzanian Ministry of Water, we are asked to predict which pump are functional, non functional, or functional but need some repairs. The data contains information about each pump (position, region name, population, type of payment, installator, etc...) and comes in 3 files: \n",
    "\n",
    "- training_set_labels: Contains the list of all id followed by their status (functionning, non functionning or needing repairs)\n",
    "\n",
    "- training_set_values: Contains all the information about each pump with their id that correspond to training_set_labels\n",
    "\n",
    "- test_set_values: The same structure as training_set_values but for which the status is unknown and that we will have to predict.\n",
    "\n",
    "First, we will preprocess the data to remove redundent or useless information. For exemple the name of the pump isn't really relevant for guessing if it is working or not, while the name of the constructor is.\n",
    "\n",
    "Once we reduced the size of the input space, we will run our models on the data, that is training_set_values with their status_group column added.\n",
    "\n",
    "Our group chose the 3 following models: \n",
    "\n",
    "- Decision Tree (library: rpart)\n",
    "- Neural Network (library: nnet)\n",
    "- Random Forest (library: randomForest)\n",
    "\n",
    "We also implemented a fourth model in Part 2: Naive Bayes (library: e1071) as a bonus.\n",
    "\n",
    "Uncomment and execute the following cell to install all the require libraries."
   ]
  },
  {
   "cell_type": "code",
   "execution_count": 1,
   "metadata": {},
   "outputs": [],
   "source": [
    "install_project_packages <- function() {\n",
    "    install.packages('dummies')\n",
    "    install.packages('rpart')\n",
    "    install.packages('rpart.plot')\n",
    "    install.packages('nnet')\n",
    "    install.packages('randomForest')\n",
    "    install.packages('gbm')\n",
    "    install.packages('e1071')\n",
    "}\n",
    "\n",
    "#install_project_packages()"
   ]
  },
  {
   "cell_type": "markdown",
   "metadata": {},
   "source": [
    "We will be using R in version 3.6.1\n",
    "This can be checked by executing the following cell:"
   ]
  },
  {
   "cell_type": "code",
   "execution_count": 2,
   "metadata": {},
   "outputs": [
    {
     "data": {
      "text/html": [
       "'R version 3.6.3 (2020-02-29)'"
      ],
      "text/latex": [
       "'R version 3.6.3 (2020-02-29)'"
      ],
      "text/markdown": [
       "'R version 3.6.3 (2020-02-29)'"
      ],
      "text/plain": [
       "[1] \"R version 3.6.3 (2020-02-29)\""
      ]
     },
     "metadata": {},
     "output_type": "display_data"
    }
   ],
   "source": [
    "R.version$version.string"
   ]
  },
  {
   "cell_type": "markdown",
   "metadata": {},
   "source": [
    "Since there is a lot of columns in the data, we will increase the limit of the default max number of columns represented in a print with this cell:"
   ]
  },
  {
   "cell_type": "code",
   "execution_count": 3,
   "metadata": {},
   "outputs": [],
   "source": [
    "options(repr.matrix.max.cols=100)"
   ]
  },
  {
   "cell_type": "markdown",
   "metadata": {},
   "source": [
    "We will use the data provided by the competition \"Pump it Up: Data Mining the Water Table\" available [here](https://www.drivendata.org/competitions/7/pump-it-up-data-mining-the-water-table/])."
   ]
  },
  {
   "cell_type": "code",
   "execution_count": 4,
   "metadata": {},
   "outputs": [],
   "source": [
    "load_data <- function() {\n",
    "    training_set_labels <<- read.csv(file = 'data/training_set_labels.csv', na.strings = c(\"\", \" \", \"none\", \"unknown\"))\n",
    "    test_set_values <<- read.csv(file = 'data/test_set_values.csv', na.strings = c(\"\", \" \", \"none\", \"unknown\"))\n",
    "    training_set_values <<- read.csv(file = 'data/training_set_values.csv',  na.strings = c(\"\", \" \", \"none\", \"unknown\"))\n",
    "    save_id <<- test_set_values[1]\n",
    "}\n",
    "load_data()"
   ]
  },
  {
   "cell_type": "markdown",
   "metadata": {},
   "source": [
    "# Data preprocessing\n",
    "\n",
    "## The raw Data\n",
    "Here is the data as received, as we can see it contains a lot of column and rows, some of which might not be useful."
   ]
  },
  {
   "cell_type": "code",
   "execution_count": 5,
   "metadata": {},
   "outputs": [
    {
     "data": {
      "text/html": [
       "<table class=\"dataframe\">\n",
       "<caption>A data.frame: 6 × 2</caption>\n",
       "<thead>\n",
       "\t<tr><th></th><th scope=col>id</th><th scope=col>status_group</th></tr>\n",
       "\t<tr><th></th><th scope=col>&lt;int&gt;</th><th scope=col>&lt;fct&gt;</th></tr>\n",
       "</thead>\n",
       "<tbody>\n",
       "\t<tr><th scope=row>1</th><td>69572</td><td>functional    </td></tr>\n",
       "\t<tr><th scope=row>2</th><td> 8776</td><td>functional    </td></tr>\n",
       "\t<tr><th scope=row>3</th><td>34310</td><td>functional    </td></tr>\n",
       "\t<tr><th scope=row>4</th><td>67743</td><td>non functional</td></tr>\n",
       "\t<tr><th scope=row>5</th><td>19728</td><td>functional    </td></tr>\n",
       "\t<tr><th scope=row>6</th><td> 9944</td><td>functional    </td></tr>\n",
       "</tbody>\n",
       "</table>\n"
      ],
      "text/latex": [
       "A data.frame: 6 × 2\n",
       "\\begin{tabular}{r|ll}\n",
       "  & id & status\\_group\\\\\n",
       "  & <int> & <fct>\\\\\n",
       "\\hline\n",
       "\t1 & 69572 & functional    \\\\\n",
       "\t2 &  8776 & functional    \\\\\n",
       "\t3 & 34310 & functional    \\\\\n",
       "\t4 & 67743 & non functional\\\\\n",
       "\t5 & 19728 & functional    \\\\\n",
       "\t6 &  9944 & functional    \\\\\n",
       "\\end{tabular}\n"
      ],
      "text/markdown": [
       "\n",
       "A data.frame: 6 × 2\n",
       "\n",
       "| <!--/--> | id &lt;int&gt; | status_group &lt;fct&gt; |\n",
       "|---|---|---|\n",
       "| 1 | 69572 | functional     |\n",
       "| 2 |  8776 | functional     |\n",
       "| 3 | 34310 | functional     |\n",
       "| 4 | 67743 | non functional |\n",
       "| 5 | 19728 | functional     |\n",
       "| 6 |  9944 | functional     |\n",
       "\n"
      ],
      "text/plain": [
       "  id    status_group  \n",
       "1 69572 functional    \n",
       "2  8776 functional    \n",
       "3 34310 functional    \n",
       "4 67743 non functional\n",
       "5 19728 functional    \n",
       "6  9944 functional    "
      ]
     },
     "metadata": {},
     "output_type": "display_data"
    },
    {
     "data": {
      "text/html": [
       "<table class=\"dataframe\">\n",
       "<caption>A data.frame: 6 × 40</caption>\n",
       "<thead>\n",
       "\t<tr><th></th><th scope=col>id</th><th scope=col>amount_tsh</th><th scope=col>date_recorded</th><th scope=col>funder</th><th scope=col>gps_height</th><th scope=col>installer</th><th scope=col>longitude</th><th scope=col>latitude</th><th scope=col>wpt_name</th><th scope=col>num_private</th><th scope=col>basin</th><th scope=col>subvillage</th><th scope=col>region</th><th scope=col>region_code</th><th scope=col>district_code</th><th scope=col>lga</th><th scope=col>ward</th><th scope=col>population</th><th scope=col>public_meeting</th><th scope=col>recorded_by</th><th scope=col>scheme_management</th><th scope=col>scheme_name</th><th scope=col>permit</th><th scope=col>construction_year</th><th scope=col>extraction_type</th><th scope=col>extraction_type_group</th><th scope=col>extraction_type_class</th><th scope=col>management</th><th scope=col>management_group</th><th scope=col>payment</th><th scope=col>payment_type</th><th scope=col>water_quality</th><th scope=col>quality_group</th><th scope=col>quantity</th><th scope=col>quantity_group</th><th scope=col>source</th><th scope=col>source_type</th><th scope=col>source_class</th><th scope=col>waterpoint_type</th><th scope=col>waterpoint_type_group</th></tr>\n",
       "\t<tr><th></th><th scope=col>&lt;int&gt;</th><th scope=col>&lt;dbl&gt;</th><th scope=col>&lt;fct&gt;</th><th scope=col>&lt;fct&gt;</th><th scope=col>&lt;int&gt;</th><th scope=col>&lt;fct&gt;</th><th scope=col>&lt;dbl&gt;</th><th scope=col>&lt;dbl&gt;</th><th scope=col>&lt;fct&gt;</th><th scope=col>&lt;int&gt;</th><th scope=col>&lt;fct&gt;</th><th scope=col>&lt;fct&gt;</th><th scope=col>&lt;fct&gt;</th><th scope=col>&lt;int&gt;</th><th scope=col>&lt;int&gt;</th><th scope=col>&lt;fct&gt;</th><th scope=col>&lt;fct&gt;</th><th scope=col>&lt;int&gt;</th><th scope=col>&lt;fct&gt;</th><th scope=col>&lt;fct&gt;</th><th scope=col>&lt;fct&gt;</th><th scope=col>&lt;fct&gt;</th><th scope=col>&lt;fct&gt;</th><th scope=col>&lt;int&gt;</th><th scope=col>&lt;fct&gt;</th><th scope=col>&lt;fct&gt;</th><th scope=col>&lt;fct&gt;</th><th scope=col>&lt;fct&gt;</th><th scope=col>&lt;fct&gt;</th><th scope=col>&lt;fct&gt;</th><th scope=col>&lt;fct&gt;</th><th scope=col>&lt;fct&gt;</th><th scope=col>&lt;fct&gt;</th><th scope=col>&lt;fct&gt;</th><th scope=col>&lt;fct&gt;</th><th scope=col>&lt;fct&gt;</th><th scope=col>&lt;fct&gt;</th><th scope=col>&lt;fct&gt;</th><th scope=col>&lt;fct&gt;</th><th scope=col>&lt;fct&gt;</th></tr>\n",
       "</thead>\n",
       "<tbody>\n",
       "\t<tr><th scope=row>1</th><td>50785</td><td>  0</td><td>2013-02-04</td><td>Dmdd                  </td><td>1996</td><td>DMDD      </td><td>35.29080</td><td> -4.059696</td><td>Dinamu Secondary School</td><td>0</td><td>Internal               </td><td>Magoma    </td><td>Manyara</td><td>21</td><td> 3</td><td>Mbulu        </td><td>Bashay      </td><td>321</td><td>True</td><td>GeoData Consultants Ltd</td><td>Parastatal </td><td>NA                             </td><td>True</td><td>2012</td><td>other  </td><td>other  </td><td>other  </td><td>parastatal </td><td>parastatal</td><td>never pay  </td><td>never pay</td><td>soft</td><td>good</td><td>seasonal    </td><td>seasonal    </td><td>rainwater harvesting</td><td>rainwater harvesting</td><td>surface    </td><td>other             </td><td>other             </td></tr>\n",
       "\t<tr><th scope=row>2</th><td>51630</td><td>  0</td><td>2013-02-04</td><td>Government Of Tanzania</td><td>1569</td><td>DWE       </td><td>36.65671</td><td> -3.309214</td><td>Kimnyak                </td><td>0</td><td>Pangani                </td><td>Kimnyak   </td><td>Arusha </td><td> 2</td><td> 2</td><td>Arusha Rural </td><td>Kimnyaki    </td><td>300</td><td>True</td><td>GeoData Consultants Ltd</td><td>VWC        </td><td>TPRI pipe line                 </td><td>True</td><td>2000</td><td>gravity</td><td>gravity</td><td>gravity</td><td>vwc        </td><td>user-group</td><td>never pay  </td><td>never pay</td><td>soft</td><td>good</td><td>insufficient</td><td>insufficient</td><td>spring              </td><td>spring              </td><td>groundwater</td><td>communal standpipe</td><td>communal standpipe</td></tr>\n",
       "\t<tr><th scope=row>3</th><td>17168</td><td>  0</td><td>2013-02-01</td><td>NA                    </td><td>1567</td><td>NA        </td><td>34.76786</td><td> -5.004344</td><td>Puma Secondary         </td><td>0</td><td>Internal               </td><td>Msatu     </td><td>Singida</td><td>13</td><td> 2</td><td>Singida Rural</td><td>Puma        </td><td>500</td><td>True</td><td>GeoData Consultants Ltd</td><td>VWC        </td><td>P                              </td><td>NA  </td><td>2010</td><td>other  </td><td>other  </td><td>other  </td><td>vwc        </td><td>user-group</td><td>never pay  </td><td>never pay</td><td>soft</td><td>good</td><td>insufficient</td><td>insufficient</td><td>rainwater harvesting</td><td>rainwater harvesting</td><td>surface    </td><td>other             </td><td>other             </td></tr>\n",
       "\t<tr><th scope=row>4</th><td>45559</td><td>  0</td><td>2013-01-22</td><td>Finn Water            </td><td> 267</td><td>FINN WATER</td><td>38.05805</td><td> -9.418672</td><td>Kwa Mzee Pange         </td><td>0</td><td>Ruvuma / Southern Coast</td><td>Kipindimbi</td><td>Lindi  </td><td>80</td><td>43</td><td>Liwale       </td><td>Mkutano     </td><td>250</td><td>NA  </td><td>GeoData Consultants Ltd</td><td>VWC        </td><td>NA                             </td><td>True</td><td>1987</td><td>other  </td><td>other  </td><td>other  </td><td>vwc        </td><td>user-group</td><td>NA         </td><td>NA       </td><td>soft</td><td>good</td><td>dry         </td><td>dry         </td><td>shallow well        </td><td>shallow well        </td><td>groundwater</td><td>other             </td><td>other             </td></tr>\n",
       "\t<tr><th scope=row>5</th><td>49871</td><td>500</td><td>2013-03-27</td><td>Bruder                </td><td>1260</td><td>BRUDER    </td><td>35.00612</td><td>-10.950412</td><td>Kwa Mzee Turuka        </td><td>0</td><td>Ruvuma / Southern Coast</td><td>Losonga   </td><td>Ruvuma </td><td>10</td><td> 3</td><td>Mbinga       </td><td>Mbinga Urban</td><td> 60</td><td>NA  </td><td>GeoData Consultants Ltd</td><td>Water Board</td><td>BRUDER                         </td><td>True</td><td>2000</td><td>gravity</td><td>gravity</td><td>gravity</td><td>water board</td><td>user-group</td><td>pay monthly</td><td>monthly  </td><td>soft</td><td>good</td><td>enough      </td><td>enough      </td><td>spring              </td><td>spring              </td><td>groundwater</td><td>communal standpipe</td><td>communal standpipe</td></tr>\n",
       "\t<tr><th scope=row>6</th><td>52449</td><td>  0</td><td>2013-03-04</td><td>Government Of Tanzania</td><td>1685</td><td>DWE       </td><td>36.68528</td><td> -3.302420</td><td>Masaga                 </td><td>0</td><td>Pangani                </td><td>Masaga    </td><td>Arusha </td><td> 2</td><td> 2</td><td>Arusha Rural </td><td>Ilkiding'a  </td><td>200</td><td>True</td><td>GeoData Consultants Ltd</td><td>VWC        </td><td>Timbolo sambasha TPRI pipe line</td><td>True</td><td>1990</td><td>gravity</td><td>gravity</td><td>gravity</td><td>vwc        </td><td>user-group</td><td>never pay  </td><td>never pay</td><td>soft</td><td>good</td><td>enough      </td><td>enough      </td><td>spring              </td><td>spring              </td><td>groundwater</td><td>communal standpipe</td><td>communal standpipe</td></tr>\n",
       "</tbody>\n",
       "</table>\n"
      ],
      "text/latex": [
       "A data.frame: 6 × 40\n",
       "\\begin{tabular}{r|llllllllllllllllllllllllllllllllllllllll}\n",
       "  & id & amount\\_tsh & date\\_recorded & funder & gps\\_height & installer & longitude & latitude & wpt\\_name & num\\_private & basin & subvillage & region & region\\_code & district\\_code & lga & ward & population & public\\_meeting & recorded\\_by & scheme\\_management & scheme\\_name & permit & construction\\_year & extraction\\_type & extraction\\_type\\_group & extraction\\_type\\_class & management & management\\_group & payment & payment\\_type & water\\_quality & quality\\_group & quantity & quantity\\_group & source & source\\_type & source\\_class & waterpoint\\_type & waterpoint\\_type\\_group\\\\\n",
       "  & <int> & <dbl> & <fct> & <fct> & <int> & <fct> & <dbl> & <dbl> & <fct> & <int> & <fct> & <fct> & <fct> & <int> & <int> & <fct> & <fct> & <int> & <fct> & <fct> & <fct> & <fct> & <fct> & <int> & <fct> & <fct> & <fct> & <fct> & <fct> & <fct> & <fct> & <fct> & <fct> & <fct> & <fct> & <fct> & <fct> & <fct> & <fct> & <fct>\\\\\n",
       "\\hline\n",
       "\t1 & 50785 &   0 & 2013-02-04 & Dmdd                   & 1996 & DMDD       & 35.29080 &  -4.059696 & Dinamu Secondary School & 0 & Internal                & Magoma     & Manyara & 21 &  3 & Mbulu         & Bashay       & 321 & True & GeoData Consultants Ltd & Parastatal  & NA                              & True & 2012 & other   & other   & other   & parastatal  & parastatal & never pay   & never pay & soft & good & seasonal     & seasonal     & rainwater harvesting & rainwater harvesting & surface     & other              & other             \\\\\n",
       "\t2 & 51630 &   0 & 2013-02-04 & Government Of Tanzania & 1569 & DWE        & 36.65671 &  -3.309214 & Kimnyak                 & 0 & Pangani                 & Kimnyak    & Arusha  &  2 &  2 & Arusha Rural  & Kimnyaki     & 300 & True & GeoData Consultants Ltd & VWC         & TPRI pipe line                  & True & 2000 & gravity & gravity & gravity & vwc         & user-group & never pay   & never pay & soft & good & insufficient & insufficient & spring               & spring               & groundwater & communal standpipe & communal standpipe\\\\\n",
       "\t3 & 17168 &   0 & 2013-02-01 & NA                     & 1567 & NA         & 34.76786 &  -5.004344 & Puma Secondary          & 0 & Internal                & Msatu      & Singida & 13 &  2 & Singida Rural & Puma         & 500 & True & GeoData Consultants Ltd & VWC         & P                               & NA   & 2010 & other   & other   & other   & vwc         & user-group & never pay   & never pay & soft & good & insufficient & insufficient & rainwater harvesting & rainwater harvesting & surface     & other              & other             \\\\\n",
       "\t4 & 45559 &   0 & 2013-01-22 & Finn Water             &  267 & FINN WATER & 38.05805 &  -9.418672 & Kwa Mzee Pange          & 0 & Ruvuma / Southern Coast & Kipindimbi & Lindi   & 80 & 43 & Liwale        & Mkutano      & 250 & NA   & GeoData Consultants Ltd & VWC         & NA                              & True & 1987 & other   & other   & other   & vwc         & user-group & NA          & NA        & soft & good & dry          & dry          & shallow well         & shallow well         & groundwater & other              & other             \\\\\n",
       "\t5 & 49871 & 500 & 2013-03-27 & Bruder                 & 1260 & BRUDER     & 35.00612 & -10.950412 & Kwa Mzee Turuka         & 0 & Ruvuma / Southern Coast & Losonga    & Ruvuma  & 10 &  3 & Mbinga        & Mbinga Urban &  60 & NA   & GeoData Consultants Ltd & Water Board & BRUDER                          & True & 2000 & gravity & gravity & gravity & water board & user-group & pay monthly & monthly   & soft & good & enough       & enough       & spring               & spring               & groundwater & communal standpipe & communal standpipe\\\\\n",
       "\t6 & 52449 &   0 & 2013-03-04 & Government Of Tanzania & 1685 & DWE        & 36.68528 &  -3.302420 & Masaga                  & 0 & Pangani                 & Masaga     & Arusha  &  2 &  2 & Arusha Rural  & Ilkiding'a   & 200 & True & GeoData Consultants Ltd & VWC         & Timbolo sambasha TPRI pipe line & True & 1990 & gravity & gravity & gravity & vwc         & user-group & never pay   & never pay & soft & good & enough       & enough       & spring               & spring               & groundwater & communal standpipe & communal standpipe\\\\\n",
       "\\end{tabular}\n"
      ],
      "text/markdown": [
       "\n",
       "A data.frame: 6 × 40\n",
       "\n",
       "| <!--/--> | id &lt;int&gt; | amount_tsh &lt;dbl&gt; | date_recorded &lt;fct&gt; | funder &lt;fct&gt; | gps_height &lt;int&gt; | installer &lt;fct&gt; | longitude &lt;dbl&gt; | latitude &lt;dbl&gt; | wpt_name &lt;fct&gt; | num_private &lt;int&gt; | basin &lt;fct&gt; | subvillage &lt;fct&gt; | region &lt;fct&gt; | region_code &lt;int&gt; | district_code &lt;int&gt; | lga &lt;fct&gt; | ward &lt;fct&gt; | population &lt;int&gt; | public_meeting &lt;fct&gt; | recorded_by &lt;fct&gt; | scheme_management &lt;fct&gt; | scheme_name &lt;fct&gt; | permit &lt;fct&gt; | construction_year &lt;int&gt; | extraction_type &lt;fct&gt; | extraction_type_group &lt;fct&gt; | extraction_type_class &lt;fct&gt; | management &lt;fct&gt; | management_group &lt;fct&gt; | payment &lt;fct&gt; | payment_type &lt;fct&gt; | water_quality &lt;fct&gt; | quality_group &lt;fct&gt; | quantity &lt;fct&gt; | quantity_group &lt;fct&gt; | source &lt;fct&gt; | source_type &lt;fct&gt; | source_class &lt;fct&gt; | waterpoint_type &lt;fct&gt; | waterpoint_type_group &lt;fct&gt; |\n",
       "|---|---|---|---|---|---|---|---|---|---|---|---|---|---|---|---|---|---|---|---|---|---|---|---|---|---|---|---|---|---|---|---|---|---|---|---|---|---|---|---|---|\n",
       "| 1 | 50785 |   0 | 2013-02-04 | Dmdd                   | 1996 | DMDD       | 35.29080 |  -4.059696 | Dinamu Secondary School | 0 | Internal                | Magoma     | Manyara | 21 |  3 | Mbulu         | Bashay       | 321 | True | GeoData Consultants Ltd | Parastatal  | NA                              | True | 2012 | other   | other   | other   | parastatal  | parastatal | never pay   | never pay | soft | good | seasonal     | seasonal     | rainwater harvesting | rainwater harvesting | surface     | other              | other              |\n",
       "| 2 | 51630 |   0 | 2013-02-04 | Government Of Tanzania | 1569 | DWE        | 36.65671 |  -3.309214 | Kimnyak                 | 0 | Pangani                 | Kimnyak    | Arusha  |  2 |  2 | Arusha Rural  | Kimnyaki     | 300 | True | GeoData Consultants Ltd | VWC         | TPRI pipe line                  | True | 2000 | gravity | gravity | gravity | vwc         | user-group | never pay   | never pay | soft | good | insufficient | insufficient | spring               | spring               | groundwater | communal standpipe | communal standpipe |\n",
       "| 3 | 17168 |   0 | 2013-02-01 | NA                     | 1567 | NA         | 34.76786 |  -5.004344 | Puma Secondary          | 0 | Internal                | Msatu      | Singida | 13 |  2 | Singida Rural | Puma         | 500 | True | GeoData Consultants Ltd | VWC         | P                               | NA   | 2010 | other   | other   | other   | vwc         | user-group | never pay   | never pay | soft | good | insufficient | insufficient | rainwater harvesting | rainwater harvesting | surface     | other              | other              |\n",
       "| 4 | 45559 |   0 | 2013-01-22 | Finn Water             |  267 | FINN WATER | 38.05805 |  -9.418672 | Kwa Mzee Pange          | 0 | Ruvuma / Southern Coast | Kipindimbi | Lindi   | 80 | 43 | Liwale        | Mkutano      | 250 | NA   | GeoData Consultants Ltd | VWC         | NA                              | True | 1987 | other   | other   | other   | vwc         | user-group | NA          | NA        | soft | good | dry          | dry          | shallow well         | shallow well         | groundwater | other              | other              |\n",
       "| 5 | 49871 | 500 | 2013-03-27 | Bruder                 | 1260 | BRUDER     | 35.00612 | -10.950412 | Kwa Mzee Turuka         | 0 | Ruvuma / Southern Coast | Losonga    | Ruvuma  | 10 |  3 | Mbinga        | Mbinga Urban |  60 | NA   | GeoData Consultants Ltd | Water Board | BRUDER                          | True | 2000 | gravity | gravity | gravity | water board | user-group | pay monthly | monthly   | soft | good | enough       | enough       | spring               | spring               | groundwater | communal standpipe | communal standpipe |\n",
       "| 6 | 52449 |   0 | 2013-03-04 | Government Of Tanzania | 1685 | DWE        | 36.68528 |  -3.302420 | Masaga                  | 0 | Pangani                 | Masaga     | Arusha  |  2 |  2 | Arusha Rural  | Ilkiding'a   | 200 | True | GeoData Consultants Ltd | VWC         | Timbolo sambasha TPRI pipe line | True | 1990 | gravity | gravity | gravity | vwc         | user-group | never pay   | never pay | soft | good | enough       | enough       | spring               | spring               | groundwater | communal standpipe | communal standpipe |\n",
       "\n"
      ],
      "text/plain": [
       "  id    amount_tsh date_recorded funder                 gps_height installer \n",
       "1 50785   0        2013-02-04    Dmdd                   1996       DMDD      \n",
       "2 51630   0        2013-02-04    Government Of Tanzania 1569       DWE       \n",
       "3 17168   0        2013-02-01    NA                     1567       NA        \n",
       "4 45559   0        2013-01-22    Finn Water              267       FINN WATER\n",
       "5 49871 500        2013-03-27    Bruder                 1260       BRUDER    \n",
       "6 52449   0        2013-03-04    Government Of Tanzania 1685       DWE       \n",
       "  longitude latitude   wpt_name                num_private\n",
       "1 35.29080   -4.059696 Dinamu Secondary School 0          \n",
       "2 36.65671   -3.309214 Kimnyak                 0          \n",
       "3 34.76786   -5.004344 Puma Secondary          0          \n",
       "4 38.05805   -9.418672 Kwa Mzee Pange          0          \n",
       "5 35.00612  -10.950412 Kwa Mzee Turuka         0          \n",
       "6 36.68528   -3.302420 Masaga                  0          \n",
       "  basin                   subvillage region  region_code district_code\n",
       "1 Internal                Magoma     Manyara 21           3           \n",
       "2 Pangani                 Kimnyak    Arusha   2           2           \n",
       "3 Internal                Msatu      Singida 13           2           \n",
       "4 Ruvuma / Southern Coast Kipindimbi Lindi   80          43           \n",
       "5 Ruvuma / Southern Coast Losonga    Ruvuma  10           3           \n",
       "6 Pangani                 Masaga     Arusha   2           2           \n",
       "  lga           ward         population public_meeting recorded_by            \n",
       "1 Mbulu         Bashay       321        True           GeoData Consultants Ltd\n",
       "2 Arusha Rural  Kimnyaki     300        True           GeoData Consultants Ltd\n",
       "3 Singida Rural Puma         500        True           GeoData Consultants Ltd\n",
       "4 Liwale        Mkutano      250        NA             GeoData Consultants Ltd\n",
       "5 Mbinga        Mbinga Urban  60        NA             GeoData Consultants Ltd\n",
       "6 Arusha Rural  Ilkiding'a   200        True           GeoData Consultants Ltd\n",
       "  scheme_management scheme_name                     permit construction_year\n",
       "1 Parastatal        NA                              True   2012             \n",
       "2 VWC               TPRI pipe line                  True   2000             \n",
       "3 VWC               P                               NA     2010             \n",
       "4 VWC               NA                              True   1987             \n",
       "5 Water Board       BRUDER                          True   2000             \n",
       "6 VWC               Timbolo sambasha TPRI pipe line True   1990             \n",
       "  extraction_type extraction_type_group extraction_type_class management \n",
       "1 other           other                 other                 parastatal \n",
       "2 gravity         gravity               gravity               vwc        \n",
       "3 other           other                 other                 vwc        \n",
       "4 other           other                 other                 vwc        \n",
       "5 gravity         gravity               gravity               water board\n",
       "6 gravity         gravity               gravity               vwc        \n",
       "  management_group payment     payment_type water_quality quality_group\n",
       "1 parastatal       never pay   never pay    soft          good         \n",
       "2 user-group       never pay   never pay    soft          good         \n",
       "3 user-group       never pay   never pay    soft          good         \n",
       "4 user-group       NA          NA           soft          good         \n",
       "5 user-group       pay monthly monthly      soft          good         \n",
       "6 user-group       never pay   never pay    soft          good         \n",
       "  quantity     quantity_group source               source_type         \n",
       "1 seasonal     seasonal       rainwater harvesting rainwater harvesting\n",
       "2 insufficient insufficient   spring               spring              \n",
       "3 insufficient insufficient   rainwater harvesting rainwater harvesting\n",
       "4 dry          dry            shallow well         shallow well        \n",
       "5 enough       enough         spring               spring              \n",
       "6 enough       enough         spring               spring              \n",
       "  source_class waterpoint_type    waterpoint_type_group\n",
       "1 surface      other              other                \n",
       "2 groundwater  communal standpipe communal standpipe   \n",
       "3 surface      other              other                \n",
       "4 groundwater  other              other                \n",
       "5 groundwater  communal standpipe communal standpipe   \n",
       "6 groundwater  communal standpipe communal standpipe   "
      ]
     },
     "metadata": {},
     "output_type": "display_data"
    },
    {
     "data": {
      "text/html": [
       "<table class=\"dataframe\">\n",
       "<caption>A data.frame: 6 × 40</caption>\n",
       "<thead>\n",
       "\t<tr><th></th><th scope=col>id</th><th scope=col>amount_tsh</th><th scope=col>date_recorded</th><th scope=col>funder</th><th scope=col>gps_height</th><th scope=col>installer</th><th scope=col>longitude</th><th scope=col>latitude</th><th scope=col>wpt_name</th><th scope=col>num_private</th><th scope=col>basin</th><th scope=col>subvillage</th><th scope=col>region</th><th scope=col>region_code</th><th scope=col>district_code</th><th scope=col>lga</th><th scope=col>ward</th><th scope=col>population</th><th scope=col>public_meeting</th><th scope=col>recorded_by</th><th scope=col>scheme_management</th><th scope=col>scheme_name</th><th scope=col>permit</th><th scope=col>construction_year</th><th scope=col>extraction_type</th><th scope=col>extraction_type_group</th><th scope=col>extraction_type_class</th><th scope=col>management</th><th scope=col>management_group</th><th scope=col>payment</th><th scope=col>payment_type</th><th scope=col>water_quality</th><th scope=col>quality_group</th><th scope=col>quantity</th><th scope=col>quantity_group</th><th scope=col>source</th><th scope=col>source_type</th><th scope=col>source_class</th><th scope=col>waterpoint_type</th><th scope=col>waterpoint_type_group</th></tr>\n",
       "\t<tr><th></th><th scope=col>&lt;int&gt;</th><th scope=col>&lt;dbl&gt;</th><th scope=col>&lt;fct&gt;</th><th scope=col>&lt;fct&gt;</th><th scope=col>&lt;int&gt;</th><th scope=col>&lt;fct&gt;</th><th scope=col>&lt;dbl&gt;</th><th scope=col>&lt;dbl&gt;</th><th scope=col>&lt;fct&gt;</th><th scope=col>&lt;int&gt;</th><th scope=col>&lt;fct&gt;</th><th scope=col>&lt;fct&gt;</th><th scope=col>&lt;fct&gt;</th><th scope=col>&lt;int&gt;</th><th scope=col>&lt;int&gt;</th><th scope=col>&lt;fct&gt;</th><th scope=col>&lt;fct&gt;</th><th scope=col>&lt;int&gt;</th><th scope=col>&lt;fct&gt;</th><th scope=col>&lt;fct&gt;</th><th scope=col>&lt;fct&gt;</th><th scope=col>&lt;fct&gt;</th><th scope=col>&lt;fct&gt;</th><th scope=col>&lt;int&gt;</th><th scope=col>&lt;fct&gt;</th><th scope=col>&lt;fct&gt;</th><th scope=col>&lt;fct&gt;</th><th scope=col>&lt;fct&gt;</th><th scope=col>&lt;fct&gt;</th><th scope=col>&lt;fct&gt;</th><th scope=col>&lt;fct&gt;</th><th scope=col>&lt;fct&gt;</th><th scope=col>&lt;fct&gt;</th><th scope=col>&lt;fct&gt;</th><th scope=col>&lt;fct&gt;</th><th scope=col>&lt;fct&gt;</th><th scope=col>&lt;fct&gt;</th><th scope=col>&lt;fct&gt;</th><th scope=col>&lt;fct&gt;</th><th scope=col>&lt;fct&gt;</th></tr>\n",
       "</thead>\n",
       "<tbody>\n",
       "\t<tr><th scope=row>1</th><td>69572</td><td>6000</td><td>2011-03-14</td><td>Roman              </td><td>1390</td><td>Roman       </td><td>34.93809</td><td> -9.856322</td><td>NA                  </td><td>0</td><td>Lake Nyasa             </td><td>Mnyusi B   </td><td>Iringa </td><td>11</td><td> 5</td><td>Ludewa   </td><td>Mundindi  </td><td>109</td><td>True</td><td>GeoData Consultants Ltd</td><td>VWC  </td><td>Roman                      </td><td>False</td><td>1999</td><td>gravity    </td><td>gravity    </td><td>gravity    </td><td>vwc  </td><td>user-group</td><td>pay annually  </td><td>annually  </td><td>soft </td><td>good </td><td>enough      </td><td>enough      </td><td>spring              </td><td>spring              </td><td>groundwater</td><td>communal standpipe         </td><td>communal standpipe</td></tr>\n",
       "\t<tr><th scope=row>2</th><td> 8776</td><td>   0</td><td>2013-03-06</td><td>Grumeti            </td><td>1399</td><td>GRUMETI     </td><td>34.69877</td><td> -2.147466</td><td>Zahanati            </td><td>0</td><td>Lake Victoria          </td><td>Nyamara    </td><td>Mara   </td><td>20</td><td> 2</td><td>Serengeti</td><td>Natta     </td><td>280</td><td>NA  </td><td>GeoData Consultants Ltd</td><td>Other</td><td>NA                         </td><td>True </td><td>2010</td><td>gravity    </td><td>gravity    </td><td>gravity    </td><td>wug  </td><td>user-group</td><td>never pay     </td><td>never pay </td><td>soft </td><td>good </td><td>insufficient</td><td>insufficient</td><td>rainwater harvesting</td><td>rainwater harvesting</td><td>surface    </td><td>communal standpipe         </td><td>communal standpipe</td></tr>\n",
       "\t<tr><th scope=row>3</th><td>34310</td><td>  25</td><td>2013-02-25</td><td>Lottery Club       </td><td> 686</td><td>World vision</td><td>37.46066</td><td> -3.821329</td><td>Kwa Mahundi         </td><td>0</td><td>Pangani                </td><td>Majengo    </td><td>Manyara</td><td>21</td><td> 4</td><td>Simanjiro</td><td>Ngorika   </td><td>250</td><td>True</td><td>GeoData Consultants Ltd</td><td>VWC  </td><td>Nyumba ya mungu pipe scheme</td><td>True </td><td>2009</td><td>gravity    </td><td>gravity    </td><td>gravity    </td><td>vwc  </td><td>user-group</td><td>pay per bucket</td><td>per bucket</td><td>soft </td><td>good </td><td>enough      </td><td>enough      </td><td>dam                 </td><td>dam                 </td><td>surface    </td><td>communal standpipe multiple</td><td>communal standpipe</td></tr>\n",
       "\t<tr><th scope=row>4</th><td>67743</td><td>   0</td><td>2013-01-28</td><td>Unicef             </td><td> 263</td><td>UNICEF      </td><td>38.48616</td><td>-11.155298</td><td>Zahanati Ya Nanyumbu</td><td>0</td><td>Ruvuma / Southern Coast</td><td>Mahakamani </td><td>Mtwara </td><td>90</td><td>63</td><td>Nanyumbu </td><td>Nanyumbu  </td><td> 58</td><td>True</td><td>GeoData Consultants Ltd</td><td>VWC  </td><td>NA                         </td><td>True </td><td>1986</td><td>submersible</td><td>submersible</td><td>submersible</td><td>vwc  </td><td>user-group</td><td>never pay     </td><td>never pay </td><td>soft </td><td>good </td><td>dry         </td><td>dry         </td><td>machine dbh         </td><td>borehole            </td><td>groundwater</td><td>communal standpipe multiple</td><td>communal standpipe</td></tr>\n",
       "\t<tr><th scope=row>5</th><td>19728</td><td>   0</td><td>2011-07-13</td><td>Action In A        </td><td>   0</td><td>Artisan     </td><td>31.13085</td><td> -1.825359</td><td>Shuleni             </td><td>0</td><td>Lake Victoria          </td><td>Kyanyamisa </td><td>Kagera </td><td>18</td><td> 1</td><td>Karagwe  </td><td>Nyakasimbi</td><td>  0</td><td>True</td><td>GeoData Consultants Ltd</td><td>NA   </td><td>NA                         </td><td>True </td><td>   0</td><td>gravity    </td><td>gravity    </td><td>gravity    </td><td>other</td><td>other     </td><td>never pay     </td><td>never pay </td><td>soft </td><td>good </td><td>seasonal    </td><td>seasonal    </td><td>rainwater harvesting</td><td>rainwater harvesting</td><td>surface    </td><td>communal standpipe         </td><td>communal standpipe</td></tr>\n",
       "\t<tr><th scope=row>6</th><td> 9944</td><td>  20</td><td>2011-03-13</td><td>Mkinga Distric Coun</td><td>   0</td><td>DWE         </td><td>39.17280</td><td> -4.765587</td><td>Tajiri              </td><td>0</td><td>Pangani                </td><td>Moa/Mwereme</td><td>Tanga  </td><td> 4</td><td> 8</td><td>Mkinga   </td><td>Moa       </td><td>  1</td><td>True</td><td>GeoData Consultants Ltd</td><td>VWC  </td><td>Zingibali                  </td><td>True </td><td>2009</td><td>submersible</td><td>submersible</td><td>submersible</td><td>vwc  </td><td>user-group</td><td>pay per bucket</td><td>per bucket</td><td>salty</td><td>salty</td><td>enough      </td><td>enough      </td><td>other               </td><td>other               </td><td>NA         </td><td>communal standpipe multiple</td><td>communal standpipe</td></tr>\n",
       "</tbody>\n",
       "</table>\n"
      ],
      "text/latex": [
       "A data.frame: 6 × 40\n",
       "\\begin{tabular}{r|llllllllllllllllllllllllllllllllllllllll}\n",
       "  & id & amount\\_tsh & date\\_recorded & funder & gps\\_height & installer & longitude & latitude & wpt\\_name & num\\_private & basin & subvillage & region & region\\_code & district\\_code & lga & ward & population & public\\_meeting & recorded\\_by & scheme\\_management & scheme\\_name & permit & construction\\_year & extraction\\_type & extraction\\_type\\_group & extraction\\_type\\_class & management & management\\_group & payment & payment\\_type & water\\_quality & quality\\_group & quantity & quantity\\_group & source & source\\_type & source\\_class & waterpoint\\_type & waterpoint\\_type\\_group\\\\\n",
       "  & <int> & <dbl> & <fct> & <fct> & <int> & <fct> & <dbl> & <dbl> & <fct> & <int> & <fct> & <fct> & <fct> & <int> & <int> & <fct> & <fct> & <int> & <fct> & <fct> & <fct> & <fct> & <fct> & <int> & <fct> & <fct> & <fct> & <fct> & <fct> & <fct> & <fct> & <fct> & <fct> & <fct> & <fct> & <fct> & <fct> & <fct> & <fct> & <fct>\\\\\n",
       "\\hline\n",
       "\t1 & 69572 & 6000 & 2011-03-14 & Roman               & 1390 & Roman        & 34.93809 &  -9.856322 & NA                   & 0 & Lake Nyasa              & Mnyusi B    & Iringa  & 11 &  5 & Ludewa    & Mundindi   & 109 & True & GeoData Consultants Ltd & VWC   & Roman                       & False & 1999 & gravity     & gravity     & gravity     & vwc   & user-group & pay annually   & annually   & soft  & good  & enough       & enough       & spring               & spring               & groundwater & communal standpipe          & communal standpipe\\\\\n",
       "\t2 &  8776 &    0 & 2013-03-06 & Grumeti             & 1399 & GRUMETI      & 34.69877 &  -2.147466 & Zahanati             & 0 & Lake Victoria           & Nyamara     & Mara    & 20 &  2 & Serengeti & Natta      & 280 & NA   & GeoData Consultants Ltd & Other & NA                          & True  & 2010 & gravity     & gravity     & gravity     & wug   & user-group & never pay      & never pay  & soft  & good  & insufficient & insufficient & rainwater harvesting & rainwater harvesting & surface     & communal standpipe          & communal standpipe\\\\\n",
       "\t3 & 34310 &   25 & 2013-02-25 & Lottery Club        &  686 & World vision & 37.46066 &  -3.821329 & Kwa Mahundi          & 0 & Pangani                 & Majengo     & Manyara & 21 &  4 & Simanjiro & Ngorika    & 250 & True & GeoData Consultants Ltd & VWC   & Nyumba ya mungu pipe scheme & True  & 2009 & gravity     & gravity     & gravity     & vwc   & user-group & pay per bucket & per bucket & soft  & good  & enough       & enough       & dam                  & dam                  & surface     & communal standpipe multiple & communal standpipe\\\\\n",
       "\t4 & 67743 &    0 & 2013-01-28 & Unicef              &  263 & UNICEF       & 38.48616 & -11.155298 & Zahanati Ya Nanyumbu & 0 & Ruvuma / Southern Coast & Mahakamani  & Mtwara  & 90 & 63 & Nanyumbu  & Nanyumbu   &  58 & True & GeoData Consultants Ltd & VWC   & NA                          & True  & 1986 & submersible & submersible & submersible & vwc   & user-group & never pay      & never pay  & soft  & good  & dry          & dry          & machine dbh          & borehole             & groundwater & communal standpipe multiple & communal standpipe\\\\\n",
       "\t5 & 19728 &    0 & 2011-07-13 & Action In A         &    0 & Artisan      & 31.13085 &  -1.825359 & Shuleni              & 0 & Lake Victoria           & Kyanyamisa  & Kagera  & 18 &  1 & Karagwe   & Nyakasimbi &   0 & True & GeoData Consultants Ltd & NA    & NA                          & True  &    0 & gravity     & gravity     & gravity     & other & other      & never pay      & never pay  & soft  & good  & seasonal     & seasonal     & rainwater harvesting & rainwater harvesting & surface     & communal standpipe          & communal standpipe\\\\\n",
       "\t6 &  9944 &   20 & 2011-03-13 & Mkinga Distric Coun &    0 & DWE          & 39.17280 &  -4.765587 & Tajiri               & 0 & Pangani                 & Moa/Mwereme & Tanga   &  4 &  8 & Mkinga    & Moa        &   1 & True & GeoData Consultants Ltd & VWC   & Zingibali                   & True  & 2009 & submersible & submersible & submersible & vwc   & user-group & pay per bucket & per bucket & salty & salty & enough       & enough       & other                & other                & NA          & communal standpipe multiple & communal standpipe\\\\\n",
       "\\end{tabular}\n"
      ],
      "text/markdown": [
       "\n",
       "A data.frame: 6 × 40\n",
       "\n",
       "| <!--/--> | id &lt;int&gt; | amount_tsh &lt;dbl&gt; | date_recorded &lt;fct&gt; | funder &lt;fct&gt; | gps_height &lt;int&gt; | installer &lt;fct&gt; | longitude &lt;dbl&gt; | latitude &lt;dbl&gt; | wpt_name &lt;fct&gt; | num_private &lt;int&gt; | basin &lt;fct&gt; | subvillage &lt;fct&gt; | region &lt;fct&gt; | region_code &lt;int&gt; | district_code &lt;int&gt; | lga &lt;fct&gt; | ward &lt;fct&gt; | population &lt;int&gt; | public_meeting &lt;fct&gt; | recorded_by &lt;fct&gt; | scheme_management &lt;fct&gt; | scheme_name &lt;fct&gt; | permit &lt;fct&gt; | construction_year &lt;int&gt; | extraction_type &lt;fct&gt; | extraction_type_group &lt;fct&gt; | extraction_type_class &lt;fct&gt; | management &lt;fct&gt; | management_group &lt;fct&gt; | payment &lt;fct&gt; | payment_type &lt;fct&gt; | water_quality &lt;fct&gt; | quality_group &lt;fct&gt; | quantity &lt;fct&gt; | quantity_group &lt;fct&gt; | source &lt;fct&gt; | source_type &lt;fct&gt; | source_class &lt;fct&gt; | waterpoint_type &lt;fct&gt; | waterpoint_type_group &lt;fct&gt; |\n",
       "|---|---|---|---|---|---|---|---|---|---|---|---|---|---|---|---|---|---|---|---|---|---|---|---|---|---|---|---|---|---|---|---|---|---|---|---|---|---|---|---|---|\n",
       "| 1 | 69572 | 6000 | 2011-03-14 | Roman               | 1390 | Roman        | 34.93809 |  -9.856322 | NA                   | 0 | Lake Nyasa              | Mnyusi B    | Iringa  | 11 |  5 | Ludewa    | Mundindi   | 109 | True | GeoData Consultants Ltd | VWC   | Roman                       | False | 1999 | gravity     | gravity     | gravity     | vwc   | user-group | pay annually   | annually   | soft  | good  | enough       | enough       | spring               | spring               | groundwater | communal standpipe          | communal standpipe |\n",
       "| 2 |  8776 |    0 | 2013-03-06 | Grumeti             | 1399 | GRUMETI      | 34.69877 |  -2.147466 | Zahanati             | 0 | Lake Victoria           | Nyamara     | Mara    | 20 |  2 | Serengeti | Natta      | 280 | NA   | GeoData Consultants Ltd | Other | NA                          | True  | 2010 | gravity     | gravity     | gravity     | wug   | user-group | never pay      | never pay  | soft  | good  | insufficient | insufficient | rainwater harvesting | rainwater harvesting | surface     | communal standpipe          | communal standpipe |\n",
       "| 3 | 34310 |   25 | 2013-02-25 | Lottery Club        |  686 | World vision | 37.46066 |  -3.821329 | Kwa Mahundi          | 0 | Pangani                 | Majengo     | Manyara | 21 |  4 | Simanjiro | Ngorika    | 250 | True | GeoData Consultants Ltd | VWC   | Nyumba ya mungu pipe scheme | True  | 2009 | gravity     | gravity     | gravity     | vwc   | user-group | pay per bucket | per bucket | soft  | good  | enough       | enough       | dam                  | dam                  | surface     | communal standpipe multiple | communal standpipe |\n",
       "| 4 | 67743 |    0 | 2013-01-28 | Unicef              |  263 | UNICEF       | 38.48616 | -11.155298 | Zahanati Ya Nanyumbu | 0 | Ruvuma / Southern Coast | Mahakamani  | Mtwara  | 90 | 63 | Nanyumbu  | Nanyumbu   |  58 | True | GeoData Consultants Ltd | VWC   | NA                          | True  | 1986 | submersible | submersible | submersible | vwc   | user-group | never pay      | never pay  | soft  | good  | dry          | dry          | machine dbh          | borehole             | groundwater | communal standpipe multiple | communal standpipe |\n",
       "| 5 | 19728 |    0 | 2011-07-13 | Action In A         |    0 | Artisan      | 31.13085 |  -1.825359 | Shuleni              | 0 | Lake Victoria           | Kyanyamisa  | Kagera  | 18 |  1 | Karagwe   | Nyakasimbi |   0 | True | GeoData Consultants Ltd | NA    | NA                          | True  |    0 | gravity     | gravity     | gravity     | other | other      | never pay      | never pay  | soft  | good  | seasonal     | seasonal     | rainwater harvesting | rainwater harvesting | surface     | communal standpipe          | communal standpipe |\n",
       "| 6 |  9944 |   20 | 2011-03-13 | Mkinga Distric Coun |    0 | DWE          | 39.17280 |  -4.765587 | Tajiri               | 0 | Pangani                 | Moa/Mwereme | Tanga   |  4 |  8 | Mkinga    | Moa        |   1 | True | GeoData Consultants Ltd | VWC   | Zingibali                   | True  | 2009 | submersible | submersible | submersible | vwc   | user-group | pay per bucket | per bucket | salty | salty | enough       | enough       | other                | other                | NA          | communal standpipe multiple | communal standpipe |\n",
       "\n"
      ],
      "text/plain": [
       "  id    amount_tsh date_recorded funder              gps_height installer   \n",
       "1 69572 6000       2011-03-14    Roman               1390       Roman       \n",
       "2  8776    0       2013-03-06    Grumeti             1399       GRUMETI     \n",
       "3 34310   25       2013-02-25    Lottery Club         686       World vision\n",
       "4 67743    0       2013-01-28    Unicef               263       UNICEF      \n",
       "5 19728    0       2011-07-13    Action In A            0       Artisan     \n",
       "6  9944   20       2011-03-13    Mkinga Distric Coun    0       DWE         \n",
       "  longitude latitude   wpt_name             num_private basin                  \n",
       "1 34.93809   -9.856322 NA                   0           Lake Nyasa             \n",
       "2 34.69877   -2.147466 Zahanati             0           Lake Victoria          \n",
       "3 37.46066   -3.821329 Kwa Mahundi          0           Pangani                \n",
       "4 38.48616  -11.155298 Zahanati Ya Nanyumbu 0           Ruvuma / Southern Coast\n",
       "5 31.13085   -1.825359 Shuleni              0           Lake Victoria          \n",
       "6 39.17280   -4.765587 Tajiri               0           Pangani                \n",
       "  subvillage  region  region_code district_code lga       ward       population\n",
       "1 Mnyusi B    Iringa  11           5            Ludewa    Mundindi   109       \n",
       "2 Nyamara     Mara    20           2            Serengeti Natta      280       \n",
       "3 Majengo     Manyara 21           4            Simanjiro Ngorika    250       \n",
       "4 Mahakamani  Mtwara  90          63            Nanyumbu  Nanyumbu    58       \n",
       "5 Kyanyamisa  Kagera  18           1            Karagwe   Nyakasimbi   0       \n",
       "6 Moa/Mwereme Tanga    4           8            Mkinga    Moa          1       \n",
       "  public_meeting recorded_by             scheme_management\n",
       "1 True           GeoData Consultants Ltd VWC              \n",
       "2 NA             GeoData Consultants Ltd Other            \n",
       "3 True           GeoData Consultants Ltd VWC              \n",
       "4 True           GeoData Consultants Ltd VWC              \n",
       "5 True           GeoData Consultants Ltd NA               \n",
       "6 True           GeoData Consultants Ltd VWC              \n",
       "  scheme_name                 permit construction_year extraction_type\n",
       "1 Roman                       False  1999              gravity        \n",
       "2 NA                          True   2010              gravity        \n",
       "3 Nyumba ya mungu pipe scheme True   2009              gravity        \n",
       "4 NA                          True   1986              submersible    \n",
       "5 NA                          True      0              gravity        \n",
       "6 Zingibali                   True   2009              submersible    \n",
       "  extraction_type_group extraction_type_class management management_group\n",
       "1 gravity               gravity               vwc        user-group      \n",
       "2 gravity               gravity               wug        user-group      \n",
       "3 gravity               gravity               vwc        user-group      \n",
       "4 submersible           submersible           vwc        user-group      \n",
       "5 gravity               gravity               other      other           \n",
       "6 submersible           submersible           vwc        user-group      \n",
       "  payment        payment_type water_quality quality_group quantity    \n",
       "1 pay annually   annually     soft          good          enough      \n",
       "2 never pay      never pay    soft          good          insufficient\n",
       "3 pay per bucket per bucket   soft          good          enough      \n",
       "4 never pay      never pay    soft          good          dry         \n",
       "5 never pay      never pay    soft          good          seasonal    \n",
       "6 pay per bucket per bucket   salty         salty         enough      \n",
       "  quantity_group source               source_type          source_class\n",
       "1 enough         spring               spring               groundwater \n",
       "2 insufficient   rainwater harvesting rainwater harvesting surface     \n",
       "3 enough         dam                  dam                  surface     \n",
       "4 dry            machine dbh          borehole             groundwater \n",
       "5 seasonal       rainwater harvesting rainwater harvesting surface     \n",
       "6 enough         other                other                NA          \n",
       "  waterpoint_type             waterpoint_type_group\n",
       "1 communal standpipe          communal standpipe   \n",
       "2 communal standpipe          communal standpipe   \n",
       "3 communal standpipe multiple communal standpipe   \n",
       "4 communal standpipe multiple communal standpipe   \n",
       "5 communal standpipe          communal standpipe   \n",
       "6 communal standpipe multiple communal standpipe   "
      ]
     },
     "metadata": {},
     "output_type": "display_data"
    }
   ],
   "source": [
    "head(training_set_labels)\n",
    "head(test_set_values)\n",
    "head(training_set_values)"
   ]
  },
  {
   "cell_type": "markdown",
   "metadata": {},
   "source": [
    "## The Preprocessing\n",
    "\n",
    "Before starting the modeling, we must first process the data. We are given a huge number of columns and rows, some of which are not useful to determine the functioning of the pump. For instance, maybe the name of the pump is not important to guess if it is working or not."
   ]
  },
  {
   "cell_type": "markdown",
   "metadata": {},
   "source": [
    "### Removing useless columns\n",
    "First we will check all the columns and check if, by chance, one column has always the same value. If there exist such a column, we can safely delete it since it doesn't bring any information to the model. One column was found that is always the same value, we will then remove it from the dataset."
   ]
  },
  {
   "cell_type": "code",
   "execution_count": 6,
   "metadata": {},
   "outputs": [
    {
     "name": "stdout",
     "output_type": "stream",
     "text": [
      "[1] \"the column recorded_by has always the same value\"\n",
      "[1] \"We removed 1 columns\"\n"
     ]
    }
   ],
   "source": [
    "remove_always_same_columns <- function(show = FALSE) {\n",
    "    for (colname in names(training_set_values)) {\n",
    "        list_of_unique <- unique(training_set_values[colname])\n",
    "        if (nrow(list_of_unique) == 1 && show){\n",
    "            print(paste(\"the column\", colname, \"has always the same value\"))\n",
    "        }\n",
    "    }\n",
    "    # Results: one column `recorded_by` that we can remove\n",
    "    training_set_values$recorded_by <<- NULL\n",
    "    test_set_values$recorded_by <<- NULL\n",
    "}\n",
    "\n",
    "# Result: we remove maximum one column\n",
    "before_remove_length <- length(names(training_set_values))\n",
    "remove_always_same_columns(show = TRUE)\n",
    "print(paste(\"We removed\", before_remove_length - length(names(training_set_values)), \"columns\"))"
   ]
  },
  {
   "cell_type": "markdown",
   "metadata": {},
   "source": [
    "Now we can look at the data in a less strict manner. What if for only a few of the entries, we have a different value ? This won't be detected with the above loop, but can be detected manually by checking the number of occurence of the most common value. If it appears, let's say more than 99 % of the time, we assume it is always that value and remove that column.\n",
    "\n",
    "With the following cell, we see that num_private has almost 99% of the time the same value. Given the huge amount of columns and data, we do not feel that it is necessary to keep that information, it would only make the model more complicated for a slight change in the error rate. Therefore we delete that column."
   ]
  },
  {
   "cell_type": "code",
   "execution_count": 7,
   "metadata": {
    "scrolled": false
   },
   "outputs": [
    {
     "data": {
      "text/html": [
       "<table class=\"dataframe\">\n",
       "<caption>A data.frame: 39 × 2</caption>\n",
       "<thead>\n",
       "\t<tr><th></th><th scope=col>names.training_set_values.</th><th scope=col>frequency_of_most_common</th></tr>\n",
       "\t<tr><th></th><th scope=col>&lt;fct&gt;</th><th scope=col>&lt;dbl&gt;</th></tr>\n",
       "</thead>\n",
       "<tbody>\n",
       "\t<tr><th scope=row>10</th><td>num_private          </td><td>9.872559e-01</td></tr>\n",
       "\t<tr><th scope=row>28</th><td>management_group     </td><td>8.836700e-01</td></tr>\n",
       "\t<tr><th scope=row>19</th><td>public_meeting       </td><td>8.587710e-01</td></tr>\n",
       "\t<tr><th scope=row>31</th><td>water_quality        </td><td>8.555219e-01</td></tr>\n",
       "\t<tr><th scope=row>32</th><td>quality_group        </td><td>8.555219e-01</td></tr>\n",
       "\t<tr><th scope=row>37</th><td>source_class         </td><td>7.709428e-01</td></tr>\n",
       "\t<tr><th scope=row>2</th><td>amount_tsh           </td><td>7.009933e-01</td></tr>\n",
       "\t<tr><th scope=row>27</th><td>management           </td><td>6.819360e-01</td></tr>\n",
       "\t<tr><th scope=row>22</th><td>permit               </td><td>6.540741e-01</td></tr>\n",
       "\t<tr><th scope=row>20</th><td>scheme_management    </td><td>6.194108e-01</td></tr>\n",
       "\t<tr><th scope=row>39</th><td>waterpoint_type_group</td><td>5.829125e-01</td></tr>\n",
       "\t<tr><th scope=row>33</th><td>quantity             </td><td>5.586869e-01</td></tr>\n",
       "\t<tr><th scope=row>34</th><td>quantity_group       </td><td>5.586869e-01</td></tr>\n",
       "\t<tr><th scope=row>38</th><td>waterpoint_type      </td><td>4.801684e-01</td></tr>\n",
       "\t<tr><th scope=row>24</th><td>extraction_type      </td><td>4.508418e-01</td></tr>\n",
       "\t<tr><th scope=row>25</th><td>extraction_type_group</td><td>4.508418e-01</td></tr>\n",
       "\t<tr><th scope=row>26</th><td>extraction_type_class</td><td>4.508418e-01</td></tr>\n",
       "\t<tr><th scope=row>29</th><td>payment              </td><td>4.267340e-01</td></tr>\n",
       "\t<tr><th scope=row>30</th><td>payment_type         </td><td>4.267340e-01</td></tr>\n",
       "\t<tr><th scope=row>18</th><td>population           </td><td>3.599495e-01</td></tr>\n",
       "\t<tr><th scope=row>23</th><td>construction_year    </td><td>3.486364e-01</td></tr>\n",
       "\t<tr><th scope=row>5</th><td>gps_height           </td><td>3.440741e-01</td></tr>\n",
       "\t<tr><th scope=row>6</th><td>installer            </td><td>2.929630e-01</td></tr>\n",
       "\t<tr><th scope=row>35</th><td>source               </td><td>2.865488e-01</td></tr>\n",
       "\t<tr><th scope=row>36</th><td>source_type          </td><td>2.865488e-01</td></tr>\n",
       "\t<tr><th scope=row>15</th><td>district_code        </td><td>2.054377e-01</td></tr>\n",
       "\t<tr><th scope=row>11</th><td>basin                </td><td>1.725253e-01</td></tr>\n",
       "\t<tr><th scope=row>4</th><td>funder               </td><td>1.529293e-01</td></tr>\n",
       "\t<tr><th scope=row>14</th><td>region_code          </td><td>8.922559e-02</td></tr>\n",
       "\t<tr><th scope=row>13</th><td>region               </td><td>8.912458e-02</td></tr>\n",
       "\t<tr><th scope=row>16</th><td>lga                  </td><td>4.213805e-02</td></tr>\n",
       "\t<tr><th scope=row>7</th><td>longitude            </td><td>3.050505e-02</td></tr>\n",
       "\t<tr><th scope=row>8</th><td>latitude             </td><td>3.050505e-02</td></tr>\n",
       "\t<tr><th scope=row>9</th><td>wpt_name             </td><td>2.942761e-02</td></tr>\n",
       "\t<tr><th scope=row>21</th><td>scheme_name          </td><td>1.148148e-02</td></tr>\n",
       "\t<tr><th scope=row>3</th><td>date_recorded        </td><td>9.629630e-03</td></tr>\n",
       "\t<tr><th scope=row>12</th><td>subvillage           </td><td>8.552189e-03</td></tr>\n",
       "\t<tr><th scope=row>17</th><td>ward                 </td><td>5.168350e-03</td></tr>\n",
       "\t<tr><th scope=row>1</th><td>id                   </td><td>1.683502e-05</td></tr>\n",
       "</tbody>\n",
       "</table>\n"
      ],
      "text/latex": [
       "A data.frame: 39 × 2\n",
       "\\begin{tabular}{r|ll}\n",
       "  & names.training\\_set\\_values. & frequency\\_of\\_most\\_common\\\\\n",
       "  & <fct> & <dbl>\\\\\n",
       "\\hline\n",
       "\t10 & num\\_private           & 9.872559e-01\\\\\n",
       "\t28 & management\\_group      & 8.836700e-01\\\\\n",
       "\t19 & public\\_meeting        & 8.587710e-01\\\\\n",
       "\t31 & water\\_quality         & 8.555219e-01\\\\\n",
       "\t32 & quality\\_group         & 8.555219e-01\\\\\n",
       "\t37 & source\\_class          & 7.709428e-01\\\\\n",
       "\t2 & amount\\_tsh            & 7.009933e-01\\\\\n",
       "\t27 & management            & 6.819360e-01\\\\\n",
       "\t22 & permit                & 6.540741e-01\\\\\n",
       "\t20 & scheme\\_management     & 6.194108e-01\\\\\n",
       "\t39 & waterpoint\\_type\\_group & 5.829125e-01\\\\\n",
       "\t33 & quantity              & 5.586869e-01\\\\\n",
       "\t34 & quantity\\_group        & 5.586869e-01\\\\\n",
       "\t38 & waterpoint\\_type       & 4.801684e-01\\\\\n",
       "\t24 & extraction\\_type       & 4.508418e-01\\\\\n",
       "\t25 & extraction\\_type\\_group & 4.508418e-01\\\\\n",
       "\t26 & extraction\\_type\\_class & 4.508418e-01\\\\\n",
       "\t29 & payment               & 4.267340e-01\\\\\n",
       "\t30 & payment\\_type          & 4.267340e-01\\\\\n",
       "\t18 & population            & 3.599495e-01\\\\\n",
       "\t23 & construction\\_year     & 3.486364e-01\\\\\n",
       "\t5 & gps\\_height            & 3.440741e-01\\\\\n",
       "\t6 & installer             & 2.929630e-01\\\\\n",
       "\t35 & source                & 2.865488e-01\\\\\n",
       "\t36 & source\\_type           & 2.865488e-01\\\\\n",
       "\t15 & district\\_code         & 2.054377e-01\\\\\n",
       "\t11 & basin                 & 1.725253e-01\\\\\n",
       "\t4 & funder                & 1.529293e-01\\\\\n",
       "\t14 & region\\_code           & 8.922559e-02\\\\\n",
       "\t13 & region                & 8.912458e-02\\\\\n",
       "\t16 & lga                   & 4.213805e-02\\\\\n",
       "\t7 & longitude             & 3.050505e-02\\\\\n",
       "\t8 & latitude              & 3.050505e-02\\\\\n",
       "\t9 & wpt\\_name              & 2.942761e-02\\\\\n",
       "\t21 & scheme\\_name           & 1.148148e-02\\\\\n",
       "\t3 & date\\_recorded         & 9.629630e-03\\\\\n",
       "\t12 & subvillage            & 8.552189e-03\\\\\n",
       "\t17 & ward                  & 5.168350e-03\\\\\n",
       "\t1 & id                    & 1.683502e-05\\\\\n",
       "\\end{tabular}\n"
      ],
      "text/markdown": [
       "\n",
       "A data.frame: 39 × 2\n",
       "\n",
       "| <!--/--> | names.training_set_values. &lt;fct&gt; | frequency_of_most_common &lt;dbl&gt; |\n",
       "|---|---|---|\n",
       "| 10 | num_private           | 9.872559e-01 |\n",
       "| 28 | management_group      | 8.836700e-01 |\n",
       "| 19 | public_meeting        | 8.587710e-01 |\n",
       "| 31 | water_quality         | 8.555219e-01 |\n",
       "| 32 | quality_group         | 8.555219e-01 |\n",
       "| 37 | source_class          | 7.709428e-01 |\n",
       "| 2 | amount_tsh            | 7.009933e-01 |\n",
       "| 27 | management            | 6.819360e-01 |\n",
       "| 22 | permit                | 6.540741e-01 |\n",
       "| 20 | scheme_management     | 6.194108e-01 |\n",
       "| 39 | waterpoint_type_group | 5.829125e-01 |\n",
       "| 33 | quantity              | 5.586869e-01 |\n",
       "| 34 | quantity_group        | 5.586869e-01 |\n",
       "| 38 | waterpoint_type       | 4.801684e-01 |\n",
       "| 24 | extraction_type       | 4.508418e-01 |\n",
       "| 25 | extraction_type_group | 4.508418e-01 |\n",
       "| 26 | extraction_type_class | 4.508418e-01 |\n",
       "| 29 | payment               | 4.267340e-01 |\n",
       "| 30 | payment_type          | 4.267340e-01 |\n",
       "| 18 | population            | 3.599495e-01 |\n",
       "| 23 | construction_year     | 3.486364e-01 |\n",
       "| 5 | gps_height            | 3.440741e-01 |\n",
       "| 6 | installer             | 2.929630e-01 |\n",
       "| 35 | source                | 2.865488e-01 |\n",
       "| 36 | source_type           | 2.865488e-01 |\n",
       "| 15 | district_code         | 2.054377e-01 |\n",
       "| 11 | basin                 | 1.725253e-01 |\n",
       "| 4 | funder                | 1.529293e-01 |\n",
       "| 14 | region_code           | 8.922559e-02 |\n",
       "| 13 | region                | 8.912458e-02 |\n",
       "| 16 | lga                   | 4.213805e-02 |\n",
       "| 7 | longitude             | 3.050505e-02 |\n",
       "| 8 | latitude              | 3.050505e-02 |\n",
       "| 9 | wpt_name              | 2.942761e-02 |\n",
       "| 21 | scheme_name           | 1.148148e-02 |\n",
       "| 3 | date_recorded         | 9.629630e-03 |\n",
       "| 12 | subvillage            | 8.552189e-03 |\n",
       "| 17 | ward                  | 5.168350e-03 |\n",
       "| 1 | id                    | 1.683502e-05 |\n",
       "\n"
      ],
      "text/plain": [
       "   names.training_set_values. frequency_of_most_common\n",
       "10 num_private                9.872559e-01            \n",
       "28 management_group           8.836700e-01            \n",
       "19 public_meeting             8.587710e-01            \n",
       "31 water_quality              8.555219e-01            \n",
       "32 quality_group              8.555219e-01            \n",
       "37 source_class               7.709428e-01            \n",
       "2  amount_tsh                 7.009933e-01            \n",
       "27 management                 6.819360e-01            \n",
       "22 permit                     6.540741e-01            \n",
       "20 scheme_management          6.194108e-01            \n",
       "39 waterpoint_type_group      5.829125e-01            \n",
       "33 quantity                   5.586869e-01            \n",
       "34 quantity_group             5.586869e-01            \n",
       "38 waterpoint_type            4.801684e-01            \n",
       "24 extraction_type            4.508418e-01            \n",
       "25 extraction_type_group      4.508418e-01            \n",
       "26 extraction_type_class      4.508418e-01            \n",
       "29 payment                    4.267340e-01            \n",
       "30 payment_type               4.267340e-01            \n",
       "18 population                 3.599495e-01            \n",
       "23 construction_year          3.486364e-01            \n",
       "5  gps_height                 3.440741e-01            \n",
       "6  installer                  2.929630e-01            \n",
       "35 source                     2.865488e-01            \n",
       "36 source_type                2.865488e-01            \n",
       "15 district_code              2.054377e-01            \n",
       "11 basin                      1.725253e-01            \n",
       "4  funder                     1.529293e-01            \n",
       "14 region_code                8.922559e-02            \n",
       "13 region                     8.912458e-02            \n",
       "16 lga                        4.213805e-02            \n",
       "7  longitude                  3.050505e-02            \n",
       "8  latitude                   3.050505e-02            \n",
       "9  wpt_name                   2.942761e-02            \n",
       "21 scheme_name                1.148148e-02            \n",
       "3  date_recorded              9.629630e-03            \n",
       "12 subvillage                 8.552189e-03            \n",
       "17 ward                       5.168350e-03            \n",
       "1  id                         1.683502e-05            "
      ]
     },
     "metadata": {},
     "output_type": "display_data"
    },
    {
     "name": "stdout",
     "output_type": "stream",
     "text": [
      "[1] \"We removed 1 columns\"\n"
     ]
    }
   ],
   "source": [
    "\n",
    "# Computes the ratio of the value that appear the most compared to the rest of the data\n",
    "\n",
    "remove_almost_always_same_columns <- function(show = FALSE) {\n",
    "    frequency_of_most_common <- c()\n",
    "    for (colname in names(training_set_values)) {\n",
    "       frequency_of_most_common <- rbind(frequency_of_most_common, max(table(training_set_values[colname]))/59400)\n",
    "    }\n",
    "\n",
    "    if (show) {\n",
    "        df <- data.frame(names(training_set_values), frequency_of_most_common)\n",
    "        df <- df[order(df$frequency_of_most_common, decreasing=TRUE),]\n",
    "        IRdisplay::display(df)\n",
    "    }\n",
    "\n",
    "    training_set_values$num_private <<- NULL\n",
    "    test_set_values$num_private <<- NULL\n",
    "\n",
    "    \n",
    "}\n",
    "\n",
    "before_remove_length <- length(names(training_set_values))\n",
    "\n",
    "remove_almost_always_same_columns(show = TRUE)\n",
    "\n",
    "print(paste(\"We removed\", before_remove_length - length(names(training_set_values)), \"columns\"))"
   ]
  },
  {
   "cell_type": "markdown",
   "metadata": {},
   "source": [
    "## Looking at the corelation between columns"
   ]
  },
  {
   "cell_type": "markdown",
   "metadata": {},
   "source": [
    "When looking through the data, we found multiple columns that were repeated. We suspected that `quantity` and `quantity_group` were highly corolated, so we ran the following command to check directly if there is a bijection for every variable."
   ]
  },
  {
   "cell_type": "code",
   "execution_count": 8,
   "metadata": {},
   "outputs": [
    {
     "data": {
      "text/plain": [
       "              \n",
       "                 dry enough insufficient seasonal\n",
       "  dry           6246      0            0        0\n",
       "  enough           0  33186            0        0\n",
       "  insufficient     0      0        15129        0\n",
       "  seasonal         0      0            0     4050"
      ]
     },
     "metadata": {},
     "output_type": "display_data"
    }
   ],
   "source": [
    "table(training_set_values$quantity, training_set_values$quantity_group)"
   ]
  },
  {
   "cell_type": "markdown",
   "metadata": {},
   "source": [
    "It appears that when `quantity` is `dry`, 100% of the time `quantity_group` is also dry. Those two columns have a corelation of 100%, it means one of the two is redundant and can safely be removed.\n",
    "\n",
    "We could then do that for all the combination of columns, but this isn't efficient and we can decide by ourselves by looking at what the columns represent, and test for corelation between them. This can be done via `chiqs.test` of the contingency table of the two columns. \n",
    "\n",
    "For exemple with `quantity` and `quantity_group` compared to `quantity` and `payment_type`."
   ]
  },
  {
   "cell_type": "code",
   "execution_count": 9,
   "metadata": {},
   "outputs": [
    {
     "data": {
      "text/plain": [
       "\n",
       "\tPearson's Chi-squared test\n",
       "\n",
       "data:  table(training_set_values$quantity, training_set_values$quantity_group)\n",
       "X-squared = 175833, df = 9, p-value < 2.2e-16\n"
      ]
     },
     "metadata": {},
     "output_type": "display_data"
    },
    {
     "data": {
      "text/plain": [
       "              \n",
       "                 dry enough insufficient seasonal\n",
       "  dry           6246      0            0        0\n",
       "  enough           0  33186            0        0\n",
       "  insufficient     0      0        15129        0\n",
       "  seasonal         0      0            0     4050"
      ]
     },
     "metadata": {},
     "output_type": "display_data"
    },
    {
     "data": {
      "text/plain": [
       "\n",
       "\tPearson's Chi-squared test\n",
       "\n",
       "data:  table(training_set_values$quantity, training_set_values$payment_type)\n",
       "X-squared = 1723.9, df = 15, p-value < 2.2e-16\n"
      ]
     },
     "metadata": {},
     "output_type": "display_data"
    },
    {
     "data": {
      "text/plain": [
       "              \n",
       "               annually monthly never pay on failure other per bucket\n",
       "  dry               179     362      3133        347    72        583\n",
       "  enough           2678    5262     13067       2170   670       5810\n",
       "  insufficient      563    2318      6731       1076   192       2246\n",
       "  seasonal          203     332      2196        298   114        299"
      ]
     },
     "metadata": {},
     "output_type": "display_data"
    }
   ],
   "source": [
    "chisq.test(table(training_set_values$quantity, training_set_values$quantity_group))\n",
    "table(training_set_values$quantity, training_set_values$quantity_group)\n",
    "chisq.test(table(training_set_values$quantity, training_set_values$payment_type))\n",
    "table(training_set_values$quantity, training_set_values$payment_type)"
   ]
  },
  {
   "cell_type": "markdown",
   "metadata": {},
   "source": [
    "We see that with a high X-squared value and a low degree of freedom, we get a high correlation. We can still use the `table` command to double check.\n",
    "\n",
    "We have to be careful with Chi-squared test since the degree of freedom also influences X-squared value. If we have a high degree of freedom, we might have more problems interpreting the X-square value because of that.\n",
    "\n",
    "We now have a way to check efficiently if two columns are correlated, so we will use that with the one we suspect are. We can also use the contingency table if we are not sure that they are."
   ]
  },
  {
   "cell_type": "markdown",
   "metadata": {},
   "source": [
    "## Feature engineering\n",
    "\n",
    "For this part, we will check our model and see if we cannot create new features for the data. For exemple we could merge `pay monthly` and `pay annualy` into `periodic_payment`.\n",
    "However we didn't find that very useful for the data presented.\n",
    "\n",
    "## Feature selection\n",
    "We want to look at the correlation between every input and the output. to do so we will make a `chiqs.test` for every column. This will give us an idea of how important a column is for predicting the `status_group`.\n",
    "\n",
    "A very high correlation (high X-squared, low df) between one column and the prediction means a very easy way to get a high score which is obviously what we do not find since it is the combination of columns that can give us a good idea on the status of the pump."
   ]
  },
  {
   "cell_type": "code",
   "execution_count": 10,
   "metadata": {},
   "outputs": [
    {
     "name": "stderr",
     "output_type": "stream",
     "text": [
      "Warning message in chisq.test(table(test_correlation$amount_tsh, test_correlation$status_group)):\n",
      "\"Chi-squared approximation may be incorrect\"\n"
     ]
    },
    {
     "data": {
      "text/plain": [
       "\n",
       "\tPearson's Chi-squared test\n",
       "\n",
       "data:  table(test_correlation$amount_tsh, test_correlation$status_group)\n",
       "X-squared = 4307.2, df = 194, p-value < 2.2e-16\n"
      ]
     },
     "metadata": {},
     "output_type": "display_data"
    },
    {
     "name": "stderr",
     "output_type": "stream",
     "text": [
      "Warning message in chisq.test(table(test_correlation$date_recorded, test_correlation$status_group)):\n",
      "\"Chi-squared approximation may be incorrect\"\n"
     ]
    },
    {
     "data": {
      "text/plain": [
       "\n",
       "\tPearson's Chi-squared test\n",
       "\n",
       "data:  table(test_correlation$date_recorded, test_correlation$status_group)\n",
       "X-squared = 5005.7, df = 710, p-value < 2.2e-16\n"
      ]
     },
     "metadata": {},
     "output_type": "display_data"
    },
    {
     "name": "stderr",
     "output_type": "stream",
     "text": [
      "Warning message in chisq.test(table(test_correlation$funder, test_correlation$status_group)):\n",
      "\"Chi-squared approximation may be incorrect\"\n"
     ]
    },
    {
     "data": {
      "text/plain": [
       "\n",
       "\tPearson's Chi-squared test\n",
       "\n",
       "data:  table(test_correlation$funder, test_correlation$status_group)\n",
       "X-squared = 14173, df = 3792, p-value < 2.2e-16\n"
      ]
     },
     "metadata": {},
     "output_type": "display_data"
    },
    {
     "name": "stderr",
     "output_type": "stream",
     "text": [
      "Warning message in chisq.test(table(test_correlation$gps_height, test_correlation$status_group)):\n",
      "\"Chi-squared approximation may be incorrect\"\n"
     ]
    },
    {
     "data": {
      "text/plain": [
       "\n",
       "\tPearson's Chi-squared test\n",
       "\n",
       "data:  table(test_correlation$gps_height, test_correlation$status_group)\n",
       "X-squared = 6279.7, df = 4854, p-value < 2.2e-16\n"
      ]
     },
     "metadata": {},
     "output_type": "display_data"
    },
    {
     "name": "stderr",
     "output_type": "stream",
     "text": [
      "Warning message in chisq.test(table(test_correlation$installer, test_correlation$status_group)):\n",
      "\"Chi-squared approximation may be incorrect\"\n"
     ]
    },
    {
     "data": {
      "text/plain": [
       "\n",
       "\tPearson's Chi-squared test\n",
       "\n",
       "data:  table(test_correlation$installer, test_correlation$status_group)\n",
       "X-squared = 14721, df = 4286, p-value < 2.2e-16\n"
      ]
     },
     "metadata": {},
     "output_type": "display_data"
    },
    {
     "name": "stderr",
     "output_type": "stream",
     "text": [
      "Warning message in chisq.test(table(test_correlation$longitude, test_correlation$status_group)):\n",
      "\"Chi-squared approximation may be incorrect\"\n"
     ]
    },
    {
     "data": {
      "text/plain": [
       "\n",
       "\tPearson's Chi-squared test\n",
       "\n",
       "data:  table(test_correlation$longitude, test_correlation$status_group)\n",
       "X-squared = 112780, df = 115030, p-value = 1\n"
      ]
     },
     "metadata": {},
     "output_type": "display_data"
    },
    {
     "name": "stderr",
     "output_type": "stream",
     "text": [
      "Warning message in chisq.test(table(test_correlation$latitude, test_correlation$status_group)):\n",
      "\"Chi-squared approximation may be incorrect\"\n"
     ]
    },
    {
     "data": {
      "text/plain": [
       "\n",
       "\tPearson's Chi-squared test\n",
       "\n",
       "data:  table(test_correlation$latitude, test_correlation$status_group)\n",
       "X-squared = 112782, df = 115032, p-value = 1\n"
      ]
     },
     "metadata": {},
     "output_type": "display_data"
    },
    {
     "name": "stderr",
     "output_type": "stream",
     "text": [
      "Warning message in chisq.test(table(test_correlation$wpt_name, test_correlation$status_group)):\n",
      "\"Chi-squared approximation may be incorrect\"\n"
     ]
    },
    {
     "data": {
      "text/plain": [
       "\n",
       "\tPearson's Chi-squared test\n",
       "\n",
       "data:  table(test_correlation$wpt_name, test_correlation$status_group)\n",
       "X-squared = 75575, df = 74796, p-value = 0.02224\n"
      ]
     },
     "metadata": {},
     "output_type": "display_data"
    },
    {
     "data": {
      "text/plain": [
       "\n",
       "\tPearson's Chi-squared test\n",
       "\n",
       "data:  table(test_correlation$basin, test_correlation$status_group)\n",
       "X-squared = 1921, df = 16, p-value < 2.2e-16\n"
      ]
     },
     "metadata": {},
     "output_type": "display_data"
    },
    {
     "name": "stderr",
     "output_type": "stream",
     "text": [
      "Warning message in chisq.test(table(test_correlation$subvillage, test_correlation$status_group)):\n",
      "\"Chi-squared approximation may be incorrect\"\n"
     ]
    },
    {
     "data": {
      "text/plain": [
       "\n",
       "\tPearson's Chi-squared test\n",
       "\n",
       "data:  table(test_correlation$subvillage, test_correlation$status_group)\n",
       "X-squared = 55053, df = 38572, p-value < 2.2e-16\n"
      ]
     },
     "metadata": {},
     "output_type": "display_data"
    },
    {
     "data": {
      "text/plain": [
       "\n",
       "\tPearson's Chi-squared test\n",
       "\n",
       "data:  table(test_correlation$region, test_correlation$status_group)\n",
       "X-squared = 4794.6, df = 40, p-value < 2.2e-16\n"
      ]
     },
     "metadata": {},
     "output_type": "display_data"
    },
    {
     "name": "stderr",
     "output_type": "stream",
     "text": [
      "Warning message in chisq.test(table(test_correlation$region_code, test_correlation$status_group)):\n",
      "\"Chi-squared approximation may be incorrect\"\n"
     ]
    },
    {
     "data": {
      "text/plain": [
       "\n",
       "\tPearson's Chi-squared test\n",
       "\n",
       "data:  table(test_correlation$region_code, test_correlation$status_group)\n",
       "X-squared = 5157.4, df = 52, p-value < 2.2e-16\n"
      ]
     },
     "metadata": {},
     "output_type": "display_data"
    },
    {
     "name": "stderr",
     "output_type": "stream",
     "text": [
      "Warning message in chisq.test(table(test_correlation$district_code, test_correlation$status_group)):\n",
      "\"Chi-squared approximation may be incorrect\"\n"
     ]
    },
    {
     "data": {
      "text/plain": [
       "\n",
       "\tPearson's Chi-squared test\n",
       "\n",
       "data:  table(test_correlation$district_code, test_correlation$status_group)\n",
       "X-squared = 1673.5, df = 38, p-value < 2.2e-16\n"
      ]
     },
     "metadata": {},
     "output_type": "display_data"
    },
    {
     "name": "stderr",
     "output_type": "stream",
     "text": [
      "Warning message in chisq.test(table(test_correlation$lga, test_correlation$status_group)):\n",
      "\"Chi-squared approximation may be incorrect\"\n"
     ]
    },
    {
     "data": {
      "text/plain": [
       "\n",
       "\tPearson's Chi-squared test\n",
       "\n",
       "data:  table(test_correlation$lga, test_correlation$status_group)\n",
       "X-squared = 11530, df = 248, p-value < 2.2e-16\n"
      ]
     },
     "metadata": {},
     "output_type": "display_data"
    },
    {
     "name": "stderr",
     "output_type": "stream",
     "text": [
      "Warning message in chisq.test(table(test_correlation$ward, test_correlation$status_group)):\n",
      "\"Chi-squared approximation may be incorrect\"\n"
     ]
    },
    {
     "data": {
      "text/plain": [
       "\n",
       "\tPearson's Chi-squared test\n",
       "\n",
       "data:  table(test_correlation$ward, test_correlation$status_group)\n",
       "X-squared = 26145, df = 4182, p-value < 2.2e-16\n"
      ]
     },
     "metadata": {},
     "output_type": "display_data"
    },
    {
     "name": "stderr",
     "output_type": "stream",
     "text": [
      "Warning message in chisq.test(table(test_correlation$population, test_correlation$status_group)):\n",
      "\"Chi-squared approximation may be incorrect\"\n"
     ]
    },
    {
     "data": {
      "text/plain": [
       "\n",
       "\tPearson's Chi-squared test\n",
       "\n",
       "data:  table(test_correlation$population, test_correlation$status_group)\n",
       "X-squared = 4480, df = 2096, p-value < 2.2e-16\n"
      ]
     },
     "metadata": {},
     "output_type": "display_data"
    },
    {
     "data": {
      "text/plain": [
       "\n",
       "\tPearson's Chi-squared test\n",
       "\n",
       "data:  table(test_correlation$public_meeting, test_correlation$status_group)\n",
       "X-squared = 302.18, df = 2, p-value < 2.2e-16\n"
      ]
     },
     "metadata": {},
     "output_type": "display_data"
    },
    {
     "name": "stderr",
     "output_type": "stream",
     "text": [
      "Warning message in chisq.test(table(test_correlation$scheme_management, test_correlation$status_group)):\n",
      "\"Chi-squared approximation may be incorrect\"\n"
     ]
    },
    {
     "data": {
      "text/plain": [
       "\n",
       "\tPearson's Chi-squared test\n",
       "\n",
       "data:  table(test_correlation$scheme_management, test_correlation$status_group)\n",
       "X-squared = 1887.1, df = 22, p-value < 2.2e-16\n"
      ]
     },
     "metadata": {},
     "output_type": "display_data"
    },
    {
     "name": "stderr",
     "output_type": "stream",
     "text": [
      "Warning message in chisq.test(table(test_correlation$scheme_name, test_correlation$status_group)):\n",
      "\"Chi-squared approximation may be incorrect\"\n"
     ]
    },
    {
     "data": {
      "text/plain": [
       "\n",
       "\tPearson's Chi-squared test\n",
       "\n",
       "data:  table(test_correlation$scheme_name, test_correlation$status_group)\n",
       "X-squared = 21616, df = 5388, p-value < 2.2e-16\n"
      ]
     },
     "metadata": {},
     "output_type": "display_data"
    },
    {
     "data": {
      "text/plain": [
       "\n",
       "\tPearson's Chi-squared test\n",
       "\n",
       "data:  table(test_correlation$permit, test_correlation$status_group)\n",
       "X-squared = 67.79, df = 2, p-value = 1.904e-15\n"
      ]
     },
     "metadata": {},
     "output_type": "display_data"
    },
    {
     "name": "stderr",
     "output_type": "stream",
     "text": [
      "Warning message in chisq.test(table(test_correlation$construction_year, test_correlation$status_group)):\n",
      "\"Chi-squared approximation may be incorrect\"\n"
     ]
    },
    {
     "data": {
      "text/plain": [
       "\n",
       "\tPearson's Chi-squared test\n",
       "\n",
       "data:  table(test_correlation$construction_year, test_correlation$status_group)\n",
       "X-squared = 4098.4, df = 108, p-value < 2.2e-16\n"
      ]
     },
     "metadata": {},
     "output_type": "display_data"
    },
    {
     "name": "stderr",
     "output_type": "stream",
     "text": [
      "Warning message in chisq.test(table(test_correlation$extraction_type, test_correlation$status_group)):\n",
      "\"Chi-squared approximation may be incorrect\"\n"
     ]
    },
    {
     "data": {
      "text/plain": [
       "\n",
       "\tPearson's Chi-squared test\n",
       "\n",
       "data:  table(test_correlation$extraction_type, test_correlation$status_group)\n",
       "X-squared = 7365.6, df = 34, p-value < 2.2e-16\n"
      ]
     },
     "metadata": {},
     "output_type": "display_data"
    },
    {
     "data": {
      "text/plain": [
       "\n",
       "\tPearson's Chi-squared test\n",
       "\n",
       "data:  table(test_correlation$management, test_correlation$status_group)\n",
       "X-squared = 2015.2, df = 20, p-value < 2.2e-16\n"
      ]
     },
     "metadata": {},
     "output_type": "display_data"
    },
    {
     "data": {
      "text/plain": [
       "\n",
       "\tPearson's Chi-squared test\n",
       "\n",
       "data:  table(test_correlation$payment, test_correlation$status_group)\n",
       "X-squared = 3334.7, df = 10, p-value < 2.2e-16\n"
      ]
     },
     "metadata": {},
     "output_type": "display_data"
    },
    {
     "name": "stderr",
     "output_type": "stream",
     "text": [
      "Warning message in chisq.test(table(test_correlation$water_quality, test_correlation$status_group)):\n",
      "\"Chi-squared approximation may be incorrect\"\n"
     ]
    },
    {
     "data": {
      "text/plain": [
       "\n",
       "\tPearson's Chi-squared test\n",
       "\n",
       "data:  table(test_correlation$water_quality, test_correlation$status_group)\n",
       "X-squared = 575.43, df = 12, p-value < 2.2e-16\n"
      ]
     },
     "metadata": {},
     "output_type": "display_data"
    },
    {
     "data": {
      "text/plain": [
       "\n",
       "\tPearson's Chi-squared test\n",
       "\n",
       "data:  table(test_correlation$quantity, test_correlation$status_group)\n",
       "X-squared = 11039, df = 6, p-value < 2.2e-16\n"
      ]
     },
     "metadata": {},
     "output_type": "display_data"
    },
    {
     "data": {
      "text/plain": [
       "\n",
       "\tPearson's Chi-squared test\n",
       "\n",
       "data:  table(test_correlation$source, test_correlation$status_group)\n",
       "X-squared = 2622.7, df = 16, p-value < 2.2e-16\n"
      ]
     },
     "metadata": {},
     "output_type": "display_data"
    },
    {
     "name": "stderr",
     "output_type": "stream",
     "text": [
      "Warning message in chisq.test(table(test_correlation$waterpoint_type, test_correlation$status_group)):\n",
      "\"Chi-squared approximation may be incorrect\"\n"
     ]
    },
    {
     "data": {
      "text/plain": [
       "\n",
       "\tPearson's Chi-squared test\n",
       "\n",
       "data:  table(test_correlation$waterpoint_type, test_correlation$status_group)\n",
       "X-squared = 7450.3, df = 12, p-value < 2.2e-16\n"
      ]
     },
     "metadata": {},
     "output_type": "display_data"
    }
   ],
   "source": [
    "test_correlation <- cbind(training_set_values,training_set_labels[2])\n",
    "\n",
    "chisq.test(table(test_correlation$amount_tsh, test_correlation$status_group))\n",
    "chisq.test(table(test_correlation$date_recorded, test_correlation$status_group))\n",
    "chisq.test(table(test_correlation$funder, test_correlation$status_group))\n",
    "chisq.test(table(test_correlation$gps_height, test_correlation$status_group))\n",
    "chisq.test(table(test_correlation$installer, test_correlation$status_group))\n",
    "chisq.test(table(test_correlation$longitude, test_correlation$status_group))\n",
    "chisq.test(table(test_correlation$latitude, test_correlation$status_group))\n",
    "chisq.test(table(test_correlation$wpt_name, test_correlation$status_group))\n",
    "chisq.test(table(test_correlation$basin, test_correlation$status_group))\n",
    "chisq.test(table(test_correlation$subvillage, test_correlation$status_group))\n",
    "chisq.test(table(test_correlation$region, test_correlation$status_group))\n",
    "chisq.test(table(test_correlation$region_code, test_correlation$status_group))\n",
    "chisq.test(table(test_correlation$district_code, test_correlation$status_group))\n",
    "chisq.test(table(test_correlation$lga, test_correlation$status_group))\n",
    "chisq.test(table(test_correlation$ward, test_correlation$status_group))\n",
    "chisq.test(table(test_correlation$population, test_correlation$status_group))\n",
    "chisq.test(table(test_correlation$public_meeting, test_correlation$status_group))\n",
    "chisq.test(table(test_correlation$scheme_management, test_correlation$status_group))\n",
    "chisq.test(table(test_correlation$scheme_name, test_correlation$status_group))\n",
    "chisq.test(table(test_correlation$permit, test_correlation$status_group))\n",
    "chisq.test(table(test_correlation$construction_year, test_correlation$status_group))\n",
    "chisq.test(table(test_correlation$extraction_type, test_correlation$status_group))\n",
    "chisq.test(table(test_correlation$management, test_correlation$status_group))\n",
    "chisq.test(table(test_correlation$payment, test_correlation$status_group))\n",
    "chisq.test(table(test_correlation$water_quality, test_correlation$status_group))\n",
    "chisq.test(table(test_correlation$quantity, test_correlation$status_group))\n",
    "chisq.test(table(test_correlation$source, test_correlation$status_group))\n",
    "chisq.test(table(test_correlation$waterpoint_type, test_correlation$status_group))"
   ]
  },
  {
   "cell_type": "markdown",
   "metadata": {},
   "source": [
    "Now, we will look at pairs of columns that seem similar and compare their contingency table. \n",
    "\n",
    "The columns mentionned in the next cell are removed because of their contigency table with another column. We removed them if it indicated that they brought the same or less information to the model."
   ]
  },
  {
   "cell_type": "code",
   "execution_count": 11,
   "metadata": {
    "scrolled": true
   },
   "outputs": [
    {
     "name": "stdout",
     "output_type": "stream",
     "text": [
      "[1] \"We removed 9 columns\"\n"
     ]
    }
   ],
   "source": [
    "remove_highly_correlated_column_in_pair <- function() {\n",
    "    # print(table(training_set_values$waterpoint_type_group, training_set_values$waterpoint_type))\n",
    "    training_set_values$waterpoint_type_group <<- NULL\n",
    "    test_set_values$waterpoint_type_group <<- NULL\n",
    "    \n",
    "    # print(table(training_set_values$source_type, training_set_values$source_class))\n",
    "    training_set_values$source_class <<- NULL\n",
    "    test_set_values$source_class <<- NULL\n",
    "    \n",
    "    # print(table(training_set_values$source, training_set_values$source_type))\n",
    "    training_set_values$source_type <<- NULL\n",
    "    test_set_values$source_type <<- NULL\n",
    "    \n",
    "    # print(table(training_set_values$water_quality, training_set_values$quality_group))\n",
    "    training_set_values$quality_group <<- NULL\n",
    "    test_set_values$quality_group <<- NULL\n",
    "    \n",
    "    # print(table(training_set_values$quantity, training_set_values$quantity_group))\n",
    "    training_set_values$quantity_group <<- NULL\n",
    "    test_set_values$quantity_group <<- NULL\n",
    "    \n",
    "    # print(table(training_set_values$extraction_type, training_set_values$extraction_type_group))\n",
    "    training_set_values$extraction_type_group <<- NULL\n",
    "    test_set_values$extraction_type_group <<- NULL\n",
    "    \n",
    "    # print(table(training_set_values$extraction_type, training_set_values$extraction_type_class))\n",
    "    training_set_values$extraction_type_class <<- NULL\n",
    "    test_set_values$extraction_type_class <<- NULL\n",
    "    \n",
    "    # print(table(training_set_values$payment, training_set_values$payment_type))\n",
    "    training_set_values$payment_type <<- NULL\n",
    "    test_set_values$payment_type <<- NULL\n",
    "    \n",
    "    # print(table(training_set_values$management, training_set_values$management_group))\n",
    "    training_set_values$management_group <<- NULL\n",
    "    test_set_values$management_group <<- NULL\n",
    "}\n",
    "\n",
    "big_removal <- function() {\n",
    "        ################# MANUAL TEST #########################\n",
    "    training_set_values$longitude <<- NULL\n",
    "    test_set_values$longitude <<- NULL\n",
    "    training_set_values$latitude <<- NULL\n",
    "    test_set_values$latitude <<- NULL\n",
    "    training_set_values$funder <<- NULL\n",
    "    test_set_values$funder <<- NULL\n",
    "    training_set_values$region <<- NULL\n",
    "    test_set_values$region <<- NULL\n",
    "    training_set_values$district_code <<- NULL\n",
    "    test_set_values$district_code <<- NULL\n",
    "    training_set_values$ward <<- NULL\n",
    "    test_set_values$ward <<- NULL\n",
    "    training_set_values$lga <<- NULL\n",
    "    test_set_values$lga <<- NULL\n",
    "    training_set_values$population <<- NULL\n",
    "    test_set_values$population <<- NULL\n",
    "    training_set_values$public_meeting <<- NULL\n",
    "    test_set_values$public_meeting <<- NULL\n",
    "    training_set_values$extraction_type_class <<- NULL\n",
    "    test_set_values$extraction_type_class <<- NULL\n",
    "    training_set_values$scheme_name <<- NULL\n",
    "    test_set_values$scheme_name <<- NULL\n",
    "    training_set_values$subvillage <<- NULL\n",
    "    test_set_values$subvillage <<- NULL\n",
    "    training_set_values$wpt_name <<- NULL\n",
    "    test_set_values$wpt_name <<- NULL\n",
    "    training_set_values$installer <<- NULL\n",
    "    test_set_values$installer <<- NULL\n",
    "    training_set_values$date_recorded <<- NULL\n",
    "    test_set_values$date_recorded <<- NULL\n",
    "    training_set_values$id <<- NULL\n",
    "    test_set_values$id <<- NULL\n",
    "}\n",
    "before_remove_length <- length(names(training_set_values))\n",
    "\n",
    "remove_highly_correlated_column_in_pair()\n",
    "\n",
    "print(paste(\"We removed\", before_remove_length - length(names(training_set_values)), \"columns\"))"
   ]
  },
  {
   "cell_type": "markdown",
   "metadata": {},
   "source": [
    "## Missing value imputation\n",
    "In this part, we will have to replace missing value by something else. One approach could be to simply remove rows that are missing a value if they are not so common, otherwise we can also take the average of that column, or replace the missing value with the most common value. \n",
    "\n",
    "We chose to replace the empty value with a new category: `unknown`. This might be a  problem for the model since for exemple, it could indicate that all rows which `funder` is `unkown` are broken, but this could actually be truthful since, indeed, if the funder is unknown, maybe the pump has more chance of breaking\n",
    "\n",
    "This will be done for all the columns that contain text entries, since there isn't missing data for numbers."
   ]
  },
  {
   "cell_type": "code",
   "execution_count": 12,
   "metadata": {
    "scrolled": false
   },
   "outputs": [],
   "source": [
    "replace_na_with_unknown <- function() {\n",
    "    i <- sapply(training_set_values, is.factor)\n",
    "    training_set_values[i] <<- lapply(training_set_values[i], as.character)\n",
    "    training_set_values[is.na(training_set_values)] <<- \"unknown\"\n",
    "    training_set_values[i] <<- lapply(training_set_values[i], as.factor)\n",
    "}\n",
    "replace_na_with_unknown()"
   ]
  },
  {
   "cell_type": "markdown",
   "metadata": {},
   "source": [
    "## Feature selection and end of preprocessing"
   ]
  },
  {
   "cell_type": "markdown",
   "metadata": {},
   "source": [
    "We need to transform also categorical variable with 'one-hot-encoding'. To do so, we will use `dummies` package. \n",
    "\n",
    "To ensure that we do not miss a categorical variable, we merge the training set and the test set and then dummify certain non numeric columns. We chose to only dummify `water_quality` and `quantity` and removed all the others text columns since they can take too many different values.\n",
    "\n",
    "We will drop all the other text variables, since most of them are just names of regions/pumps/etc ... It also removes the `funder` column. We couldn't dummify that variable since there are more than 19000 different funders."
   ]
  },
  {
   "cell_type": "code",
   "execution_count": 13,
   "metadata": {
    "scrolled": true
   },
   "outputs": [
    {
     "name": "stderr",
     "output_type": "stream",
     "text": [
      "dummies-1.5.6 provided by Decision Patterns\n",
      "\n",
      "\n"
     ]
    }
   ],
   "source": [
    "library(dummies)\n",
    "\n",
    "dummify <- function() {\n",
    "    \n",
    "    full_dataset <- rbind(training_set_values,test_set_values) # Merge train and test\n",
    "\n",
    "    non_numeric_variables <- which(sapply(full_dataset,class)==\"factor\") # take only factor/text variable\n",
    "\n",
    "    data_non_numeric <- full_dataset[,non_numeric_variables]\n",
    "    data_numeric <- full_dataset[,-non_numeric_variables]\n",
    "\n",
    "    variables_to_dummify <- c(\"water_quality\", \"quantity\") # variable to transform\n",
    "    data_factor_onehot <- dummy.data.frame(data_non_numeric[,variables_to_dummify], sep=\"_\")\n",
    "    gc()\n",
    "\n",
    "    full_dataset_dummified <- cbind(data_numeric,data_factor_onehot)\n",
    "\n",
    "    # Fix names of the columns after dummies operation\n",
    "    names(full_dataset_dummified) <- gsub(\" \", \"_\", names(full_dataset_dummified))\n",
    "    names(full_dataset_dummified) <- make.names(names(full_dataset_dummified))\n",
    "\n",
    "    # resplit data\n",
    "    # data_train\n",
    "    training_set_values <<- full_dataset_dummified[1:nrow(training_set_values),]\n",
    "    training_set_values <<- cbind(training_set_values, training_set_labels[2])\n",
    "\n",
    "\n",
    "\n",
    "    # data_test\n",
    "    test_set_values <<- full_dataset_dummified[ (1+nrow(training_set_values)):nrow(full_dataset_dummified),]\n",
    "}\n",
    "\n",
    "# This method should only be used for the random forest model, you may change the value inside\n",
    "# memory.limit(byte) in order to satisfy your ram amount\n",
    "extreme_dummify <- function() {\n",
    "    full_dataset <- rbind(training_set_values,test_set_values) # Merge train and test\n",
    "\n",
    "    non_numeric_variables <- which(sapply(full_dataset,class)==\"factor\") # take only factor/text variable\n",
    "\n",
    "    data_non_numeric <- full_dataset[,non_numeric_variables]\n",
    "    data_numeric <- full_dataset[,-non_numeric_variables]\n",
    "\n",
    "    gc()\n",
    "    memory.limit(999999999999)\n",
    "    variables_to_dummify <- names(data_non_numeric)\n",
    "    data_factor_onehot <- dummy.data.frame(data_non_numeric[,variables_to_dummify], sep=\"_\")\n",
    "    gc()\n",
    "\n",
    "    full_dataset_dummified <- cbind(data_numeric,data_factor_onehot)\n",
    "\n",
    "    # Fix names of the columns after dummies operation\n",
    "    names(full_dataset_dummified) <- gsub(\" \", \"_\", names(full_dataset_dummified))\n",
    "    names(full_dataset_dummified) <- make.names(names(full_dataset_dummified))\n",
    "\n",
    "    # resplit data\n",
    "    # data_train\n",
    "    training_set_values <<- full_dataset_dummified[1:nrow(training_set_values),]\n",
    "    training_set_values <<- cbind(training_set_values, training_set_labels[2])\n",
    "\n",
    "    # data_test\n",
    "    test_set_values <<- full_dataset_dummified[ (1+nrow(training_set_values)):nrow(full_dataset_dummified),]\n",
    "}\n",
    "\n",
    "\n",
    "# dummify()\n"
   ]
  },
  {
   "cell_type": "markdown",
   "metadata": {},
   "source": [
    "Now we can create a function that will load and preprocess the data"
   ]
  },
  {
   "cell_type": "code",
   "execution_count": 14,
   "metadata": {
    "scrolled": true
   },
   "outputs": [
    {
     "name": "stdout",
     "output_type": "stream",
     "text": [
      "[1] \"Heads of data before preprocessing\"\n"
     ]
    },
    {
     "data": {
      "text/html": [
       "<table class=\"dataframe\">\n",
       "<caption>A data.frame: 6 × 2</caption>\n",
       "<thead>\n",
       "\t<tr><th></th><th scope=col>id</th><th scope=col>status_group</th></tr>\n",
       "\t<tr><th></th><th scope=col>&lt;int&gt;</th><th scope=col>&lt;fct&gt;</th></tr>\n",
       "</thead>\n",
       "<tbody>\n",
       "\t<tr><th scope=row>1</th><td>69572</td><td>functional    </td></tr>\n",
       "\t<tr><th scope=row>2</th><td> 8776</td><td>functional    </td></tr>\n",
       "\t<tr><th scope=row>3</th><td>34310</td><td>functional    </td></tr>\n",
       "\t<tr><th scope=row>4</th><td>67743</td><td>non functional</td></tr>\n",
       "\t<tr><th scope=row>5</th><td>19728</td><td>functional    </td></tr>\n",
       "\t<tr><th scope=row>6</th><td> 9944</td><td>functional    </td></tr>\n",
       "</tbody>\n",
       "</table>\n"
      ],
      "text/latex": [
       "A data.frame: 6 × 2\n",
       "\\begin{tabular}{r|ll}\n",
       "  & id & status\\_group\\\\\n",
       "  & <int> & <fct>\\\\\n",
       "\\hline\n",
       "\t1 & 69572 & functional    \\\\\n",
       "\t2 &  8776 & functional    \\\\\n",
       "\t3 & 34310 & functional    \\\\\n",
       "\t4 & 67743 & non functional\\\\\n",
       "\t5 & 19728 & functional    \\\\\n",
       "\t6 &  9944 & functional    \\\\\n",
       "\\end{tabular}\n"
      ],
      "text/markdown": [
       "\n",
       "A data.frame: 6 × 2\n",
       "\n",
       "| <!--/--> | id &lt;int&gt; | status_group &lt;fct&gt; |\n",
       "|---|---|---|\n",
       "| 1 | 69572 | functional     |\n",
       "| 2 |  8776 | functional     |\n",
       "| 3 | 34310 | functional     |\n",
       "| 4 | 67743 | non functional |\n",
       "| 5 | 19728 | functional     |\n",
       "| 6 |  9944 | functional     |\n",
       "\n"
      ],
      "text/plain": [
       "  id    status_group  \n",
       "1 69572 functional    \n",
       "2  8776 functional    \n",
       "3 34310 functional    \n",
       "4 67743 non functional\n",
       "5 19728 functional    \n",
       "6  9944 functional    "
      ]
     },
     "metadata": {},
     "output_type": "display_data"
    },
    {
     "data": {
      "text/html": [
       "<table class=\"dataframe\">\n",
       "<caption>A data.frame: 6 × 40</caption>\n",
       "<thead>\n",
       "\t<tr><th></th><th scope=col>id</th><th scope=col>amount_tsh</th><th scope=col>date_recorded</th><th scope=col>funder</th><th scope=col>gps_height</th><th scope=col>installer</th><th scope=col>longitude</th><th scope=col>latitude</th><th scope=col>wpt_name</th><th scope=col>num_private</th><th scope=col>basin</th><th scope=col>subvillage</th><th scope=col>region</th><th scope=col>region_code</th><th scope=col>district_code</th><th scope=col>lga</th><th scope=col>ward</th><th scope=col>population</th><th scope=col>public_meeting</th><th scope=col>recorded_by</th><th scope=col>scheme_management</th><th scope=col>scheme_name</th><th scope=col>permit</th><th scope=col>construction_year</th><th scope=col>extraction_type</th><th scope=col>extraction_type_group</th><th scope=col>extraction_type_class</th><th scope=col>management</th><th scope=col>management_group</th><th scope=col>payment</th><th scope=col>payment_type</th><th scope=col>water_quality</th><th scope=col>quality_group</th><th scope=col>quantity</th><th scope=col>quantity_group</th><th scope=col>source</th><th scope=col>source_type</th><th scope=col>source_class</th><th scope=col>waterpoint_type</th><th scope=col>waterpoint_type_group</th></tr>\n",
       "\t<tr><th></th><th scope=col>&lt;int&gt;</th><th scope=col>&lt;dbl&gt;</th><th scope=col>&lt;fct&gt;</th><th scope=col>&lt;fct&gt;</th><th scope=col>&lt;int&gt;</th><th scope=col>&lt;fct&gt;</th><th scope=col>&lt;dbl&gt;</th><th scope=col>&lt;dbl&gt;</th><th scope=col>&lt;fct&gt;</th><th scope=col>&lt;int&gt;</th><th scope=col>&lt;fct&gt;</th><th scope=col>&lt;fct&gt;</th><th scope=col>&lt;fct&gt;</th><th scope=col>&lt;int&gt;</th><th scope=col>&lt;int&gt;</th><th scope=col>&lt;fct&gt;</th><th scope=col>&lt;fct&gt;</th><th scope=col>&lt;int&gt;</th><th scope=col>&lt;fct&gt;</th><th scope=col>&lt;fct&gt;</th><th scope=col>&lt;fct&gt;</th><th scope=col>&lt;fct&gt;</th><th scope=col>&lt;fct&gt;</th><th scope=col>&lt;int&gt;</th><th scope=col>&lt;fct&gt;</th><th scope=col>&lt;fct&gt;</th><th scope=col>&lt;fct&gt;</th><th scope=col>&lt;fct&gt;</th><th scope=col>&lt;fct&gt;</th><th scope=col>&lt;fct&gt;</th><th scope=col>&lt;fct&gt;</th><th scope=col>&lt;fct&gt;</th><th scope=col>&lt;fct&gt;</th><th scope=col>&lt;fct&gt;</th><th scope=col>&lt;fct&gt;</th><th scope=col>&lt;fct&gt;</th><th scope=col>&lt;fct&gt;</th><th scope=col>&lt;fct&gt;</th><th scope=col>&lt;fct&gt;</th><th scope=col>&lt;fct&gt;</th></tr>\n",
       "</thead>\n",
       "<tbody>\n",
       "\t<tr><th scope=row>1</th><td>50785</td><td>  0</td><td>2013-02-04</td><td>Dmdd                  </td><td>1996</td><td>DMDD      </td><td>35.29080</td><td> -4.059696</td><td>Dinamu Secondary School</td><td>0</td><td>Internal               </td><td>Magoma    </td><td>Manyara</td><td>21</td><td> 3</td><td>Mbulu        </td><td>Bashay      </td><td>321</td><td>True</td><td>GeoData Consultants Ltd</td><td>Parastatal </td><td>NA                             </td><td>True</td><td>2012</td><td>other  </td><td>other  </td><td>other  </td><td>parastatal </td><td>parastatal</td><td>never pay  </td><td>never pay</td><td>soft</td><td>good</td><td>seasonal    </td><td>seasonal    </td><td>rainwater harvesting</td><td>rainwater harvesting</td><td>surface    </td><td>other             </td><td>other             </td></tr>\n",
       "\t<tr><th scope=row>2</th><td>51630</td><td>  0</td><td>2013-02-04</td><td>Government Of Tanzania</td><td>1569</td><td>DWE       </td><td>36.65671</td><td> -3.309214</td><td>Kimnyak                </td><td>0</td><td>Pangani                </td><td>Kimnyak   </td><td>Arusha </td><td> 2</td><td> 2</td><td>Arusha Rural </td><td>Kimnyaki    </td><td>300</td><td>True</td><td>GeoData Consultants Ltd</td><td>VWC        </td><td>TPRI pipe line                 </td><td>True</td><td>2000</td><td>gravity</td><td>gravity</td><td>gravity</td><td>vwc        </td><td>user-group</td><td>never pay  </td><td>never pay</td><td>soft</td><td>good</td><td>insufficient</td><td>insufficient</td><td>spring              </td><td>spring              </td><td>groundwater</td><td>communal standpipe</td><td>communal standpipe</td></tr>\n",
       "\t<tr><th scope=row>3</th><td>17168</td><td>  0</td><td>2013-02-01</td><td>NA                    </td><td>1567</td><td>NA        </td><td>34.76786</td><td> -5.004344</td><td>Puma Secondary         </td><td>0</td><td>Internal               </td><td>Msatu     </td><td>Singida</td><td>13</td><td> 2</td><td>Singida Rural</td><td>Puma        </td><td>500</td><td>True</td><td>GeoData Consultants Ltd</td><td>VWC        </td><td>P                              </td><td>NA  </td><td>2010</td><td>other  </td><td>other  </td><td>other  </td><td>vwc        </td><td>user-group</td><td>never pay  </td><td>never pay</td><td>soft</td><td>good</td><td>insufficient</td><td>insufficient</td><td>rainwater harvesting</td><td>rainwater harvesting</td><td>surface    </td><td>other             </td><td>other             </td></tr>\n",
       "\t<tr><th scope=row>4</th><td>45559</td><td>  0</td><td>2013-01-22</td><td>Finn Water            </td><td> 267</td><td>FINN WATER</td><td>38.05805</td><td> -9.418672</td><td>Kwa Mzee Pange         </td><td>0</td><td>Ruvuma / Southern Coast</td><td>Kipindimbi</td><td>Lindi  </td><td>80</td><td>43</td><td>Liwale       </td><td>Mkutano     </td><td>250</td><td>NA  </td><td>GeoData Consultants Ltd</td><td>VWC        </td><td>NA                             </td><td>True</td><td>1987</td><td>other  </td><td>other  </td><td>other  </td><td>vwc        </td><td>user-group</td><td>NA         </td><td>NA       </td><td>soft</td><td>good</td><td>dry         </td><td>dry         </td><td>shallow well        </td><td>shallow well        </td><td>groundwater</td><td>other             </td><td>other             </td></tr>\n",
       "\t<tr><th scope=row>5</th><td>49871</td><td>500</td><td>2013-03-27</td><td>Bruder                </td><td>1260</td><td>BRUDER    </td><td>35.00612</td><td>-10.950412</td><td>Kwa Mzee Turuka        </td><td>0</td><td>Ruvuma / Southern Coast</td><td>Losonga   </td><td>Ruvuma </td><td>10</td><td> 3</td><td>Mbinga       </td><td>Mbinga Urban</td><td> 60</td><td>NA  </td><td>GeoData Consultants Ltd</td><td>Water Board</td><td>BRUDER                         </td><td>True</td><td>2000</td><td>gravity</td><td>gravity</td><td>gravity</td><td>water board</td><td>user-group</td><td>pay monthly</td><td>monthly  </td><td>soft</td><td>good</td><td>enough      </td><td>enough      </td><td>spring              </td><td>spring              </td><td>groundwater</td><td>communal standpipe</td><td>communal standpipe</td></tr>\n",
       "\t<tr><th scope=row>6</th><td>52449</td><td>  0</td><td>2013-03-04</td><td>Government Of Tanzania</td><td>1685</td><td>DWE       </td><td>36.68528</td><td> -3.302420</td><td>Masaga                 </td><td>0</td><td>Pangani                </td><td>Masaga    </td><td>Arusha </td><td> 2</td><td> 2</td><td>Arusha Rural </td><td>Ilkiding'a  </td><td>200</td><td>True</td><td>GeoData Consultants Ltd</td><td>VWC        </td><td>Timbolo sambasha TPRI pipe line</td><td>True</td><td>1990</td><td>gravity</td><td>gravity</td><td>gravity</td><td>vwc        </td><td>user-group</td><td>never pay  </td><td>never pay</td><td>soft</td><td>good</td><td>enough      </td><td>enough      </td><td>spring              </td><td>spring              </td><td>groundwater</td><td>communal standpipe</td><td>communal standpipe</td></tr>\n",
       "</tbody>\n",
       "</table>\n"
      ],
      "text/latex": [
       "A data.frame: 6 × 40\n",
       "\\begin{tabular}{r|llllllllllllllllllllllllllllllllllllllll}\n",
       "  & id & amount\\_tsh & date\\_recorded & funder & gps\\_height & installer & longitude & latitude & wpt\\_name & num\\_private & basin & subvillage & region & region\\_code & district\\_code & lga & ward & population & public\\_meeting & recorded\\_by & scheme\\_management & scheme\\_name & permit & construction\\_year & extraction\\_type & extraction\\_type\\_group & extraction\\_type\\_class & management & management\\_group & payment & payment\\_type & water\\_quality & quality\\_group & quantity & quantity\\_group & source & source\\_type & source\\_class & waterpoint\\_type & waterpoint\\_type\\_group\\\\\n",
       "  & <int> & <dbl> & <fct> & <fct> & <int> & <fct> & <dbl> & <dbl> & <fct> & <int> & <fct> & <fct> & <fct> & <int> & <int> & <fct> & <fct> & <int> & <fct> & <fct> & <fct> & <fct> & <fct> & <int> & <fct> & <fct> & <fct> & <fct> & <fct> & <fct> & <fct> & <fct> & <fct> & <fct> & <fct> & <fct> & <fct> & <fct> & <fct> & <fct>\\\\\n",
       "\\hline\n",
       "\t1 & 50785 &   0 & 2013-02-04 & Dmdd                   & 1996 & DMDD       & 35.29080 &  -4.059696 & Dinamu Secondary School & 0 & Internal                & Magoma     & Manyara & 21 &  3 & Mbulu         & Bashay       & 321 & True & GeoData Consultants Ltd & Parastatal  & NA                              & True & 2012 & other   & other   & other   & parastatal  & parastatal & never pay   & never pay & soft & good & seasonal     & seasonal     & rainwater harvesting & rainwater harvesting & surface     & other              & other             \\\\\n",
       "\t2 & 51630 &   0 & 2013-02-04 & Government Of Tanzania & 1569 & DWE        & 36.65671 &  -3.309214 & Kimnyak                 & 0 & Pangani                 & Kimnyak    & Arusha  &  2 &  2 & Arusha Rural  & Kimnyaki     & 300 & True & GeoData Consultants Ltd & VWC         & TPRI pipe line                  & True & 2000 & gravity & gravity & gravity & vwc         & user-group & never pay   & never pay & soft & good & insufficient & insufficient & spring               & spring               & groundwater & communal standpipe & communal standpipe\\\\\n",
       "\t3 & 17168 &   0 & 2013-02-01 & NA                     & 1567 & NA         & 34.76786 &  -5.004344 & Puma Secondary          & 0 & Internal                & Msatu      & Singida & 13 &  2 & Singida Rural & Puma         & 500 & True & GeoData Consultants Ltd & VWC         & P                               & NA   & 2010 & other   & other   & other   & vwc         & user-group & never pay   & never pay & soft & good & insufficient & insufficient & rainwater harvesting & rainwater harvesting & surface     & other              & other             \\\\\n",
       "\t4 & 45559 &   0 & 2013-01-22 & Finn Water             &  267 & FINN WATER & 38.05805 &  -9.418672 & Kwa Mzee Pange          & 0 & Ruvuma / Southern Coast & Kipindimbi & Lindi   & 80 & 43 & Liwale        & Mkutano      & 250 & NA   & GeoData Consultants Ltd & VWC         & NA                              & True & 1987 & other   & other   & other   & vwc         & user-group & NA          & NA        & soft & good & dry          & dry          & shallow well         & shallow well         & groundwater & other              & other             \\\\\n",
       "\t5 & 49871 & 500 & 2013-03-27 & Bruder                 & 1260 & BRUDER     & 35.00612 & -10.950412 & Kwa Mzee Turuka         & 0 & Ruvuma / Southern Coast & Losonga    & Ruvuma  & 10 &  3 & Mbinga        & Mbinga Urban &  60 & NA   & GeoData Consultants Ltd & Water Board & BRUDER                          & True & 2000 & gravity & gravity & gravity & water board & user-group & pay monthly & monthly   & soft & good & enough       & enough       & spring               & spring               & groundwater & communal standpipe & communal standpipe\\\\\n",
       "\t6 & 52449 &   0 & 2013-03-04 & Government Of Tanzania & 1685 & DWE        & 36.68528 &  -3.302420 & Masaga                  & 0 & Pangani                 & Masaga     & Arusha  &  2 &  2 & Arusha Rural  & Ilkiding'a   & 200 & True & GeoData Consultants Ltd & VWC         & Timbolo sambasha TPRI pipe line & True & 1990 & gravity & gravity & gravity & vwc         & user-group & never pay   & never pay & soft & good & enough       & enough       & spring               & spring               & groundwater & communal standpipe & communal standpipe\\\\\n",
       "\\end{tabular}\n"
      ],
      "text/markdown": [
       "\n",
       "A data.frame: 6 × 40\n",
       "\n",
       "| <!--/--> | id &lt;int&gt; | amount_tsh &lt;dbl&gt; | date_recorded &lt;fct&gt; | funder &lt;fct&gt; | gps_height &lt;int&gt; | installer &lt;fct&gt; | longitude &lt;dbl&gt; | latitude &lt;dbl&gt; | wpt_name &lt;fct&gt; | num_private &lt;int&gt; | basin &lt;fct&gt; | subvillage &lt;fct&gt; | region &lt;fct&gt; | region_code &lt;int&gt; | district_code &lt;int&gt; | lga &lt;fct&gt; | ward &lt;fct&gt; | population &lt;int&gt; | public_meeting &lt;fct&gt; | recorded_by &lt;fct&gt; | scheme_management &lt;fct&gt; | scheme_name &lt;fct&gt; | permit &lt;fct&gt; | construction_year &lt;int&gt; | extraction_type &lt;fct&gt; | extraction_type_group &lt;fct&gt; | extraction_type_class &lt;fct&gt; | management &lt;fct&gt; | management_group &lt;fct&gt; | payment &lt;fct&gt; | payment_type &lt;fct&gt; | water_quality &lt;fct&gt; | quality_group &lt;fct&gt; | quantity &lt;fct&gt; | quantity_group &lt;fct&gt; | source &lt;fct&gt; | source_type &lt;fct&gt; | source_class &lt;fct&gt; | waterpoint_type &lt;fct&gt; | waterpoint_type_group &lt;fct&gt; |\n",
       "|---|---|---|---|---|---|---|---|---|---|---|---|---|---|---|---|---|---|---|---|---|---|---|---|---|---|---|---|---|---|---|---|---|---|---|---|---|---|---|---|---|\n",
       "| 1 | 50785 |   0 | 2013-02-04 | Dmdd                   | 1996 | DMDD       | 35.29080 |  -4.059696 | Dinamu Secondary School | 0 | Internal                | Magoma     | Manyara | 21 |  3 | Mbulu         | Bashay       | 321 | True | GeoData Consultants Ltd | Parastatal  | NA                              | True | 2012 | other   | other   | other   | parastatal  | parastatal | never pay   | never pay | soft | good | seasonal     | seasonal     | rainwater harvesting | rainwater harvesting | surface     | other              | other              |\n",
       "| 2 | 51630 |   0 | 2013-02-04 | Government Of Tanzania | 1569 | DWE        | 36.65671 |  -3.309214 | Kimnyak                 | 0 | Pangani                 | Kimnyak    | Arusha  |  2 |  2 | Arusha Rural  | Kimnyaki     | 300 | True | GeoData Consultants Ltd | VWC         | TPRI pipe line                  | True | 2000 | gravity | gravity | gravity | vwc         | user-group | never pay   | never pay | soft | good | insufficient | insufficient | spring               | spring               | groundwater | communal standpipe | communal standpipe |\n",
       "| 3 | 17168 |   0 | 2013-02-01 | NA                     | 1567 | NA         | 34.76786 |  -5.004344 | Puma Secondary          | 0 | Internal                | Msatu      | Singida | 13 |  2 | Singida Rural | Puma         | 500 | True | GeoData Consultants Ltd | VWC         | P                               | NA   | 2010 | other   | other   | other   | vwc         | user-group | never pay   | never pay | soft | good | insufficient | insufficient | rainwater harvesting | rainwater harvesting | surface     | other              | other              |\n",
       "| 4 | 45559 |   0 | 2013-01-22 | Finn Water             |  267 | FINN WATER | 38.05805 |  -9.418672 | Kwa Mzee Pange          | 0 | Ruvuma / Southern Coast | Kipindimbi | Lindi   | 80 | 43 | Liwale        | Mkutano      | 250 | NA   | GeoData Consultants Ltd | VWC         | NA                              | True | 1987 | other   | other   | other   | vwc         | user-group | NA          | NA        | soft | good | dry          | dry          | shallow well         | shallow well         | groundwater | other              | other              |\n",
       "| 5 | 49871 | 500 | 2013-03-27 | Bruder                 | 1260 | BRUDER     | 35.00612 | -10.950412 | Kwa Mzee Turuka         | 0 | Ruvuma / Southern Coast | Losonga    | Ruvuma  | 10 |  3 | Mbinga        | Mbinga Urban |  60 | NA   | GeoData Consultants Ltd | Water Board | BRUDER                          | True | 2000 | gravity | gravity | gravity | water board | user-group | pay monthly | monthly   | soft | good | enough       | enough       | spring               | spring               | groundwater | communal standpipe | communal standpipe |\n",
       "| 6 | 52449 |   0 | 2013-03-04 | Government Of Tanzania | 1685 | DWE        | 36.68528 |  -3.302420 | Masaga                  | 0 | Pangani                 | Masaga     | Arusha  |  2 |  2 | Arusha Rural  | Ilkiding'a   | 200 | True | GeoData Consultants Ltd | VWC         | Timbolo sambasha TPRI pipe line | True | 1990 | gravity | gravity | gravity | vwc         | user-group | never pay   | never pay | soft | good | enough       | enough       | spring               | spring               | groundwater | communal standpipe | communal standpipe |\n",
       "\n"
      ],
      "text/plain": [
       "  id    amount_tsh date_recorded funder                 gps_height installer \n",
       "1 50785   0        2013-02-04    Dmdd                   1996       DMDD      \n",
       "2 51630   0        2013-02-04    Government Of Tanzania 1569       DWE       \n",
       "3 17168   0        2013-02-01    NA                     1567       NA        \n",
       "4 45559   0        2013-01-22    Finn Water              267       FINN WATER\n",
       "5 49871 500        2013-03-27    Bruder                 1260       BRUDER    \n",
       "6 52449   0        2013-03-04    Government Of Tanzania 1685       DWE       \n",
       "  longitude latitude   wpt_name                num_private\n",
       "1 35.29080   -4.059696 Dinamu Secondary School 0          \n",
       "2 36.65671   -3.309214 Kimnyak                 0          \n",
       "3 34.76786   -5.004344 Puma Secondary          0          \n",
       "4 38.05805   -9.418672 Kwa Mzee Pange          0          \n",
       "5 35.00612  -10.950412 Kwa Mzee Turuka         0          \n",
       "6 36.68528   -3.302420 Masaga                  0          \n",
       "  basin                   subvillage region  region_code district_code\n",
       "1 Internal                Magoma     Manyara 21           3           \n",
       "2 Pangani                 Kimnyak    Arusha   2           2           \n",
       "3 Internal                Msatu      Singida 13           2           \n",
       "4 Ruvuma / Southern Coast Kipindimbi Lindi   80          43           \n",
       "5 Ruvuma / Southern Coast Losonga    Ruvuma  10           3           \n",
       "6 Pangani                 Masaga     Arusha   2           2           \n",
       "  lga           ward         population public_meeting recorded_by            \n",
       "1 Mbulu         Bashay       321        True           GeoData Consultants Ltd\n",
       "2 Arusha Rural  Kimnyaki     300        True           GeoData Consultants Ltd\n",
       "3 Singida Rural Puma         500        True           GeoData Consultants Ltd\n",
       "4 Liwale        Mkutano      250        NA             GeoData Consultants Ltd\n",
       "5 Mbinga        Mbinga Urban  60        NA             GeoData Consultants Ltd\n",
       "6 Arusha Rural  Ilkiding'a   200        True           GeoData Consultants Ltd\n",
       "  scheme_management scheme_name                     permit construction_year\n",
       "1 Parastatal        NA                              True   2012             \n",
       "2 VWC               TPRI pipe line                  True   2000             \n",
       "3 VWC               P                               NA     2010             \n",
       "4 VWC               NA                              True   1987             \n",
       "5 Water Board       BRUDER                          True   2000             \n",
       "6 VWC               Timbolo sambasha TPRI pipe line True   1990             \n",
       "  extraction_type extraction_type_group extraction_type_class management \n",
       "1 other           other                 other                 parastatal \n",
       "2 gravity         gravity               gravity               vwc        \n",
       "3 other           other                 other                 vwc        \n",
       "4 other           other                 other                 vwc        \n",
       "5 gravity         gravity               gravity               water board\n",
       "6 gravity         gravity               gravity               vwc        \n",
       "  management_group payment     payment_type water_quality quality_group\n",
       "1 parastatal       never pay   never pay    soft          good         \n",
       "2 user-group       never pay   never pay    soft          good         \n",
       "3 user-group       never pay   never pay    soft          good         \n",
       "4 user-group       NA          NA           soft          good         \n",
       "5 user-group       pay monthly monthly      soft          good         \n",
       "6 user-group       never pay   never pay    soft          good         \n",
       "  quantity     quantity_group source               source_type         \n",
       "1 seasonal     seasonal       rainwater harvesting rainwater harvesting\n",
       "2 insufficient insufficient   spring               spring              \n",
       "3 insufficient insufficient   rainwater harvesting rainwater harvesting\n",
       "4 dry          dry            shallow well         shallow well        \n",
       "5 enough       enough         spring               spring              \n",
       "6 enough       enough         spring               spring              \n",
       "  source_class waterpoint_type    waterpoint_type_group\n",
       "1 surface      other              other                \n",
       "2 groundwater  communal standpipe communal standpipe   \n",
       "3 surface      other              other                \n",
       "4 groundwater  other              other                \n",
       "5 groundwater  communal standpipe communal standpipe   \n",
       "6 groundwater  communal standpipe communal standpipe   "
      ]
     },
     "metadata": {},
     "output_type": "display_data"
    },
    {
     "data": {
      "text/html": [
       "<table class=\"dataframe\">\n",
       "<caption>A data.frame: 6 × 40</caption>\n",
       "<thead>\n",
       "\t<tr><th></th><th scope=col>id</th><th scope=col>amount_tsh</th><th scope=col>date_recorded</th><th scope=col>funder</th><th scope=col>gps_height</th><th scope=col>installer</th><th scope=col>longitude</th><th scope=col>latitude</th><th scope=col>wpt_name</th><th scope=col>num_private</th><th scope=col>basin</th><th scope=col>subvillage</th><th scope=col>region</th><th scope=col>region_code</th><th scope=col>district_code</th><th scope=col>lga</th><th scope=col>ward</th><th scope=col>population</th><th scope=col>public_meeting</th><th scope=col>recorded_by</th><th scope=col>scheme_management</th><th scope=col>scheme_name</th><th scope=col>permit</th><th scope=col>construction_year</th><th scope=col>extraction_type</th><th scope=col>extraction_type_group</th><th scope=col>extraction_type_class</th><th scope=col>management</th><th scope=col>management_group</th><th scope=col>payment</th><th scope=col>payment_type</th><th scope=col>water_quality</th><th scope=col>quality_group</th><th scope=col>quantity</th><th scope=col>quantity_group</th><th scope=col>source</th><th scope=col>source_type</th><th scope=col>source_class</th><th scope=col>waterpoint_type</th><th scope=col>waterpoint_type_group</th></tr>\n",
       "\t<tr><th></th><th scope=col>&lt;int&gt;</th><th scope=col>&lt;dbl&gt;</th><th scope=col>&lt;fct&gt;</th><th scope=col>&lt;fct&gt;</th><th scope=col>&lt;int&gt;</th><th scope=col>&lt;fct&gt;</th><th scope=col>&lt;dbl&gt;</th><th scope=col>&lt;dbl&gt;</th><th scope=col>&lt;fct&gt;</th><th scope=col>&lt;int&gt;</th><th scope=col>&lt;fct&gt;</th><th scope=col>&lt;fct&gt;</th><th scope=col>&lt;fct&gt;</th><th scope=col>&lt;int&gt;</th><th scope=col>&lt;int&gt;</th><th scope=col>&lt;fct&gt;</th><th scope=col>&lt;fct&gt;</th><th scope=col>&lt;int&gt;</th><th scope=col>&lt;fct&gt;</th><th scope=col>&lt;fct&gt;</th><th scope=col>&lt;fct&gt;</th><th scope=col>&lt;fct&gt;</th><th scope=col>&lt;fct&gt;</th><th scope=col>&lt;int&gt;</th><th scope=col>&lt;fct&gt;</th><th scope=col>&lt;fct&gt;</th><th scope=col>&lt;fct&gt;</th><th scope=col>&lt;fct&gt;</th><th scope=col>&lt;fct&gt;</th><th scope=col>&lt;fct&gt;</th><th scope=col>&lt;fct&gt;</th><th scope=col>&lt;fct&gt;</th><th scope=col>&lt;fct&gt;</th><th scope=col>&lt;fct&gt;</th><th scope=col>&lt;fct&gt;</th><th scope=col>&lt;fct&gt;</th><th scope=col>&lt;fct&gt;</th><th scope=col>&lt;fct&gt;</th><th scope=col>&lt;fct&gt;</th><th scope=col>&lt;fct&gt;</th></tr>\n",
       "</thead>\n",
       "<tbody>\n",
       "\t<tr><th scope=row>1</th><td>69572</td><td>6000</td><td>2011-03-14</td><td>Roman              </td><td>1390</td><td>Roman       </td><td>34.93809</td><td> -9.856322</td><td>NA                  </td><td>0</td><td>Lake Nyasa             </td><td>Mnyusi B   </td><td>Iringa </td><td>11</td><td> 5</td><td>Ludewa   </td><td>Mundindi  </td><td>109</td><td>True</td><td>GeoData Consultants Ltd</td><td>VWC  </td><td>Roman                      </td><td>False</td><td>1999</td><td>gravity    </td><td>gravity    </td><td>gravity    </td><td>vwc  </td><td>user-group</td><td>pay annually  </td><td>annually  </td><td>soft </td><td>good </td><td>enough      </td><td>enough      </td><td>spring              </td><td>spring              </td><td>groundwater</td><td>communal standpipe         </td><td>communal standpipe</td></tr>\n",
       "\t<tr><th scope=row>2</th><td> 8776</td><td>   0</td><td>2013-03-06</td><td>Grumeti            </td><td>1399</td><td>GRUMETI     </td><td>34.69877</td><td> -2.147466</td><td>Zahanati            </td><td>0</td><td>Lake Victoria          </td><td>Nyamara    </td><td>Mara   </td><td>20</td><td> 2</td><td>Serengeti</td><td>Natta     </td><td>280</td><td>NA  </td><td>GeoData Consultants Ltd</td><td>Other</td><td>NA                         </td><td>True </td><td>2010</td><td>gravity    </td><td>gravity    </td><td>gravity    </td><td>wug  </td><td>user-group</td><td>never pay     </td><td>never pay </td><td>soft </td><td>good </td><td>insufficient</td><td>insufficient</td><td>rainwater harvesting</td><td>rainwater harvesting</td><td>surface    </td><td>communal standpipe         </td><td>communal standpipe</td></tr>\n",
       "\t<tr><th scope=row>3</th><td>34310</td><td>  25</td><td>2013-02-25</td><td>Lottery Club       </td><td> 686</td><td>World vision</td><td>37.46066</td><td> -3.821329</td><td>Kwa Mahundi         </td><td>0</td><td>Pangani                </td><td>Majengo    </td><td>Manyara</td><td>21</td><td> 4</td><td>Simanjiro</td><td>Ngorika   </td><td>250</td><td>True</td><td>GeoData Consultants Ltd</td><td>VWC  </td><td>Nyumba ya mungu pipe scheme</td><td>True </td><td>2009</td><td>gravity    </td><td>gravity    </td><td>gravity    </td><td>vwc  </td><td>user-group</td><td>pay per bucket</td><td>per bucket</td><td>soft </td><td>good </td><td>enough      </td><td>enough      </td><td>dam                 </td><td>dam                 </td><td>surface    </td><td>communal standpipe multiple</td><td>communal standpipe</td></tr>\n",
       "\t<tr><th scope=row>4</th><td>67743</td><td>   0</td><td>2013-01-28</td><td>Unicef             </td><td> 263</td><td>UNICEF      </td><td>38.48616</td><td>-11.155298</td><td>Zahanati Ya Nanyumbu</td><td>0</td><td>Ruvuma / Southern Coast</td><td>Mahakamani </td><td>Mtwara </td><td>90</td><td>63</td><td>Nanyumbu </td><td>Nanyumbu  </td><td> 58</td><td>True</td><td>GeoData Consultants Ltd</td><td>VWC  </td><td>NA                         </td><td>True </td><td>1986</td><td>submersible</td><td>submersible</td><td>submersible</td><td>vwc  </td><td>user-group</td><td>never pay     </td><td>never pay </td><td>soft </td><td>good </td><td>dry         </td><td>dry         </td><td>machine dbh         </td><td>borehole            </td><td>groundwater</td><td>communal standpipe multiple</td><td>communal standpipe</td></tr>\n",
       "\t<tr><th scope=row>5</th><td>19728</td><td>   0</td><td>2011-07-13</td><td>Action In A        </td><td>   0</td><td>Artisan     </td><td>31.13085</td><td> -1.825359</td><td>Shuleni             </td><td>0</td><td>Lake Victoria          </td><td>Kyanyamisa </td><td>Kagera </td><td>18</td><td> 1</td><td>Karagwe  </td><td>Nyakasimbi</td><td>  0</td><td>True</td><td>GeoData Consultants Ltd</td><td>NA   </td><td>NA                         </td><td>True </td><td>   0</td><td>gravity    </td><td>gravity    </td><td>gravity    </td><td>other</td><td>other     </td><td>never pay     </td><td>never pay </td><td>soft </td><td>good </td><td>seasonal    </td><td>seasonal    </td><td>rainwater harvesting</td><td>rainwater harvesting</td><td>surface    </td><td>communal standpipe         </td><td>communal standpipe</td></tr>\n",
       "\t<tr><th scope=row>6</th><td> 9944</td><td>  20</td><td>2011-03-13</td><td>Mkinga Distric Coun</td><td>   0</td><td>DWE         </td><td>39.17280</td><td> -4.765587</td><td>Tajiri              </td><td>0</td><td>Pangani                </td><td>Moa/Mwereme</td><td>Tanga  </td><td> 4</td><td> 8</td><td>Mkinga   </td><td>Moa       </td><td>  1</td><td>True</td><td>GeoData Consultants Ltd</td><td>VWC  </td><td>Zingibali                  </td><td>True </td><td>2009</td><td>submersible</td><td>submersible</td><td>submersible</td><td>vwc  </td><td>user-group</td><td>pay per bucket</td><td>per bucket</td><td>salty</td><td>salty</td><td>enough      </td><td>enough      </td><td>other               </td><td>other               </td><td>NA         </td><td>communal standpipe multiple</td><td>communal standpipe</td></tr>\n",
       "</tbody>\n",
       "</table>\n"
      ],
      "text/latex": [
       "A data.frame: 6 × 40\n",
       "\\begin{tabular}{r|llllllllllllllllllllllllllllllllllllllll}\n",
       "  & id & amount\\_tsh & date\\_recorded & funder & gps\\_height & installer & longitude & latitude & wpt\\_name & num\\_private & basin & subvillage & region & region\\_code & district\\_code & lga & ward & population & public\\_meeting & recorded\\_by & scheme\\_management & scheme\\_name & permit & construction\\_year & extraction\\_type & extraction\\_type\\_group & extraction\\_type\\_class & management & management\\_group & payment & payment\\_type & water\\_quality & quality\\_group & quantity & quantity\\_group & source & source\\_type & source\\_class & waterpoint\\_type & waterpoint\\_type\\_group\\\\\n",
       "  & <int> & <dbl> & <fct> & <fct> & <int> & <fct> & <dbl> & <dbl> & <fct> & <int> & <fct> & <fct> & <fct> & <int> & <int> & <fct> & <fct> & <int> & <fct> & <fct> & <fct> & <fct> & <fct> & <int> & <fct> & <fct> & <fct> & <fct> & <fct> & <fct> & <fct> & <fct> & <fct> & <fct> & <fct> & <fct> & <fct> & <fct> & <fct> & <fct>\\\\\n",
       "\\hline\n",
       "\t1 & 69572 & 6000 & 2011-03-14 & Roman               & 1390 & Roman        & 34.93809 &  -9.856322 & NA                   & 0 & Lake Nyasa              & Mnyusi B    & Iringa  & 11 &  5 & Ludewa    & Mundindi   & 109 & True & GeoData Consultants Ltd & VWC   & Roman                       & False & 1999 & gravity     & gravity     & gravity     & vwc   & user-group & pay annually   & annually   & soft  & good  & enough       & enough       & spring               & spring               & groundwater & communal standpipe          & communal standpipe\\\\\n",
       "\t2 &  8776 &    0 & 2013-03-06 & Grumeti             & 1399 & GRUMETI      & 34.69877 &  -2.147466 & Zahanati             & 0 & Lake Victoria           & Nyamara     & Mara    & 20 &  2 & Serengeti & Natta      & 280 & NA   & GeoData Consultants Ltd & Other & NA                          & True  & 2010 & gravity     & gravity     & gravity     & wug   & user-group & never pay      & never pay  & soft  & good  & insufficient & insufficient & rainwater harvesting & rainwater harvesting & surface     & communal standpipe          & communal standpipe\\\\\n",
       "\t3 & 34310 &   25 & 2013-02-25 & Lottery Club        &  686 & World vision & 37.46066 &  -3.821329 & Kwa Mahundi          & 0 & Pangani                 & Majengo     & Manyara & 21 &  4 & Simanjiro & Ngorika    & 250 & True & GeoData Consultants Ltd & VWC   & Nyumba ya mungu pipe scheme & True  & 2009 & gravity     & gravity     & gravity     & vwc   & user-group & pay per bucket & per bucket & soft  & good  & enough       & enough       & dam                  & dam                  & surface     & communal standpipe multiple & communal standpipe\\\\\n",
       "\t4 & 67743 &    0 & 2013-01-28 & Unicef              &  263 & UNICEF       & 38.48616 & -11.155298 & Zahanati Ya Nanyumbu & 0 & Ruvuma / Southern Coast & Mahakamani  & Mtwara  & 90 & 63 & Nanyumbu  & Nanyumbu   &  58 & True & GeoData Consultants Ltd & VWC   & NA                          & True  & 1986 & submersible & submersible & submersible & vwc   & user-group & never pay      & never pay  & soft  & good  & dry          & dry          & machine dbh          & borehole             & groundwater & communal standpipe multiple & communal standpipe\\\\\n",
       "\t5 & 19728 &    0 & 2011-07-13 & Action In A         &    0 & Artisan      & 31.13085 &  -1.825359 & Shuleni              & 0 & Lake Victoria           & Kyanyamisa  & Kagera  & 18 &  1 & Karagwe   & Nyakasimbi &   0 & True & GeoData Consultants Ltd & NA    & NA                          & True  &    0 & gravity     & gravity     & gravity     & other & other      & never pay      & never pay  & soft  & good  & seasonal     & seasonal     & rainwater harvesting & rainwater harvesting & surface     & communal standpipe          & communal standpipe\\\\\n",
       "\t6 &  9944 &   20 & 2011-03-13 & Mkinga Distric Coun &    0 & DWE          & 39.17280 &  -4.765587 & Tajiri               & 0 & Pangani                 & Moa/Mwereme & Tanga   &  4 &  8 & Mkinga    & Moa        &   1 & True & GeoData Consultants Ltd & VWC   & Zingibali                   & True  & 2009 & submersible & submersible & submersible & vwc   & user-group & pay per bucket & per bucket & salty & salty & enough       & enough       & other                & other                & NA          & communal standpipe multiple & communal standpipe\\\\\n",
       "\\end{tabular}\n"
      ],
      "text/markdown": [
       "\n",
       "A data.frame: 6 × 40\n",
       "\n",
       "| <!--/--> | id &lt;int&gt; | amount_tsh &lt;dbl&gt; | date_recorded &lt;fct&gt; | funder &lt;fct&gt; | gps_height &lt;int&gt; | installer &lt;fct&gt; | longitude &lt;dbl&gt; | latitude &lt;dbl&gt; | wpt_name &lt;fct&gt; | num_private &lt;int&gt; | basin &lt;fct&gt; | subvillage &lt;fct&gt; | region &lt;fct&gt; | region_code &lt;int&gt; | district_code &lt;int&gt; | lga &lt;fct&gt; | ward &lt;fct&gt; | population &lt;int&gt; | public_meeting &lt;fct&gt; | recorded_by &lt;fct&gt; | scheme_management &lt;fct&gt; | scheme_name &lt;fct&gt; | permit &lt;fct&gt; | construction_year &lt;int&gt; | extraction_type &lt;fct&gt; | extraction_type_group &lt;fct&gt; | extraction_type_class &lt;fct&gt; | management &lt;fct&gt; | management_group &lt;fct&gt; | payment &lt;fct&gt; | payment_type &lt;fct&gt; | water_quality &lt;fct&gt; | quality_group &lt;fct&gt; | quantity &lt;fct&gt; | quantity_group &lt;fct&gt; | source &lt;fct&gt; | source_type &lt;fct&gt; | source_class &lt;fct&gt; | waterpoint_type &lt;fct&gt; | waterpoint_type_group &lt;fct&gt; |\n",
       "|---|---|---|---|---|---|---|---|---|---|---|---|---|---|---|---|---|---|---|---|---|---|---|---|---|---|---|---|---|---|---|---|---|---|---|---|---|---|---|---|---|\n",
       "| 1 | 69572 | 6000 | 2011-03-14 | Roman               | 1390 | Roman        | 34.93809 |  -9.856322 | NA                   | 0 | Lake Nyasa              | Mnyusi B    | Iringa  | 11 |  5 | Ludewa    | Mundindi   | 109 | True | GeoData Consultants Ltd | VWC   | Roman                       | False | 1999 | gravity     | gravity     | gravity     | vwc   | user-group | pay annually   | annually   | soft  | good  | enough       | enough       | spring               | spring               | groundwater | communal standpipe          | communal standpipe |\n",
       "| 2 |  8776 |    0 | 2013-03-06 | Grumeti             | 1399 | GRUMETI      | 34.69877 |  -2.147466 | Zahanati             | 0 | Lake Victoria           | Nyamara     | Mara    | 20 |  2 | Serengeti | Natta      | 280 | NA   | GeoData Consultants Ltd | Other | NA                          | True  | 2010 | gravity     | gravity     | gravity     | wug   | user-group | never pay      | never pay  | soft  | good  | insufficient | insufficient | rainwater harvesting | rainwater harvesting | surface     | communal standpipe          | communal standpipe |\n",
       "| 3 | 34310 |   25 | 2013-02-25 | Lottery Club        |  686 | World vision | 37.46066 |  -3.821329 | Kwa Mahundi          | 0 | Pangani                 | Majengo     | Manyara | 21 |  4 | Simanjiro | Ngorika    | 250 | True | GeoData Consultants Ltd | VWC   | Nyumba ya mungu pipe scheme | True  | 2009 | gravity     | gravity     | gravity     | vwc   | user-group | pay per bucket | per bucket | soft  | good  | enough       | enough       | dam                  | dam                  | surface     | communal standpipe multiple | communal standpipe |\n",
       "| 4 | 67743 |    0 | 2013-01-28 | Unicef              |  263 | UNICEF       | 38.48616 | -11.155298 | Zahanati Ya Nanyumbu | 0 | Ruvuma / Southern Coast | Mahakamani  | Mtwara  | 90 | 63 | Nanyumbu  | Nanyumbu   |  58 | True | GeoData Consultants Ltd | VWC   | NA                          | True  | 1986 | submersible | submersible | submersible | vwc   | user-group | never pay      | never pay  | soft  | good  | dry          | dry          | machine dbh          | borehole             | groundwater | communal standpipe multiple | communal standpipe |\n",
       "| 5 | 19728 |    0 | 2011-07-13 | Action In A         |    0 | Artisan      | 31.13085 |  -1.825359 | Shuleni              | 0 | Lake Victoria           | Kyanyamisa  | Kagera  | 18 |  1 | Karagwe   | Nyakasimbi |   0 | True | GeoData Consultants Ltd | NA    | NA                          | True  |    0 | gravity     | gravity     | gravity     | other | other      | never pay      | never pay  | soft  | good  | seasonal     | seasonal     | rainwater harvesting | rainwater harvesting | surface     | communal standpipe          | communal standpipe |\n",
       "| 6 |  9944 |   20 | 2011-03-13 | Mkinga Distric Coun |    0 | DWE          | 39.17280 |  -4.765587 | Tajiri               | 0 | Pangani                 | Moa/Mwereme | Tanga   |  4 |  8 | Mkinga    | Moa        |   1 | True | GeoData Consultants Ltd | VWC   | Zingibali                   | True  | 2009 | submersible | submersible | submersible | vwc   | user-group | pay per bucket | per bucket | salty | salty | enough       | enough       | other                | other                | NA          | communal standpipe multiple | communal standpipe |\n",
       "\n"
      ],
      "text/plain": [
       "  id    amount_tsh date_recorded funder              gps_height installer   \n",
       "1 69572 6000       2011-03-14    Roman               1390       Roman       \n",
       "2  8776    0       2013-03-06    Grumeti             1399       GRUMETI     \n",
       "3 34310   25       2013-02-25    Lottery Club         686       World vision\n",
       "4 67743    0       2013-01-28    Unicef               263       UNICEF      \n",
       "5 19728    0       2011-07-13    Action In A            0       Artisan     \n",
       "6  9944   20       2011-03-13    Mkinga Distric Coun    0       DWE         \n",
       "  longitude latitude   wpt_name             num_private basin                  \n",
       "1 34.93809   -9.856322 NA                   0           Lake Nyasa             \n",
       "2 34.69877   -2.147466 Zahanati             0           Lake Victoria          \n",
       "3 37.46066   -3.821329 Kwa Mahundi          0           Pangani                \n",
       "4 38.48616  -11.155298 Zahanati Ya Nanyumbu 0           Ruvuma / Southern Coast\n",
       "5 31.13085   -1.825359 Shuleni              0           Lake Victoria          \n",
       "6 39.17280   -4.765587 Tajiri               0           Pangani                \n",
       "  subvillage  region  region_code district_code lga       ward       population\n",
       "1 Mnyusi B    Iringa  11           5            Ludewa    Mundindi   109       \n",
       "2 Nyamara     Mara    20           2            Serengeti Natta      280       \n",
       "3 Majengo     Manyara 21           4            Simanjiro Ngorika    250       \n",
       "4 Mahakamani  Mtwara  90          63            Nanyumbu  Nanyumbu    58       \n",
       "5 Kyanyamisa  Kagera  18           1            Karagwe   Nyakasimbi   0       \n",
       "6 Moa/Mwereme Tanga    4           8            Mkinga    Moa          1       \n",
       "  public_meeting recorded_by             scheme_management\n",
       "1 True           GeoData Consultants Ltd VWC              \n",
       "2 NA             GeoData Consultants Ltd Other            \n",
       "3 True           GeoData Consultants Ltd VWC              \n",
       "4 True           GeoData Consultants Ltd VWC              \n",
       "5 True           GeoData Consultants Ltd NA               \n",
       "6 True           GeoData Consultants Ltd VWC              \n",
       "  scheme_name                 permit construction_year extraction_type\n",
       "1 Roman                       False  1999              gravity        \n",
       "2 NA                          True   2010              gravity        \n",
       "3 Nyumba ya mungu pipe scheme True   2009              gravity        \n",
       "4 NA                          True   1986              submersible    \n",
       "5 NA                          True      0              gravity        \n",
       "6 Zingibali                   True   2009              submersible    \n",
       "  extraction_type_group extraction_type_class management management_group\n",
       "1 gravity               gravity               vwc        user-group      \n",
       "2 gravity               gravity               wug        user-group      \n",
       "3 gravity               gravity               vwc        user-group      \n",
       "4 submersible           submersible           vwc        user-group      \n",
       "5 gravity               gravity               other      other           \n",
       "6 submersible           submersible           vwc        user-group      \n",
       "  payment        payment_type water_quality quality_group quantity    \n",
       "1 pay annually   annually     soft          good          enough      \n",
       "2 never pay      never pay    soft          good          insufficient\n",
       "3 pay per bucket per bucket   soft          good          enough      \n",
       "4 never pay      never pay    soft          good          dry         \n",
       "5 never pay      never pay    soft          good          seasonal    \n",
       "6 pay per bucket per bucket   salty         salty         enough      \n",
       "  quantity_group source               source_type          source_class\n",
       "1 enough         spring               spring               groundwater \n",
       "2 insufficient   rainwater harvesting rainwater harvesting surface     \n",
       "3 enough         dam                  dam                  surface     \n",
       "4 dry            machine dbh          borehole             groundwater \n",
       "5 seasonal       rainwater harvesting rainwater harvesting surface     \n",
       "6 enough         other                other                NA          \n",
       "  waterpoint_type             waterpoint_type_group\n",
       "1 communal standpipe          communal standpipe   \n",
       "2 communal standpipe          communal standpipe   \n",
       "3 communal standpipe multiple communal standpipe   \n",
       "4 communal standpipe multiple communal standpipe   \n",
       "5 communal standpipe          communal standpipe   \n",
       "6 communal standpipe multiple communal standpipe   "
      ]
     },
     "metadata": {},
     "output_type": "display_data"
    },
    {
     "name": "stderr",
     "output_type": "stream",
     "text": [
      "Warning message in model.matrix.default(~x - 1, model.frame(~x - 1), contrasts = FALSE):\n",
      "\"non-list contrasts argument ignored\"\n",
      "Warning message in model.matrix.default(~x - 1, model.frame(~x - 1), contrasts = FALSE):\n",
      "\"non-list contrasts argument ignored\"\n"
     ]
    },
    {
     "name": "stdout",
     "output_type": "stream",
     "text": [
      "[1] \"Heads of data after preprocessing\"\n"
     ]
    },
    {
     "data": {
      "text/html": [
       "<table class=\"dataframe\">\n",
       "<caption>A data.frame: 6 × 2</caption>\n",
       "<thead>\n",
       "\t<tr><th></th><th scope=col>id</th><th scope=col>status_group</th></tr>\n",
       "\t<tr><th></th><th scope=col>&lt;int&gt;</th><th scope=col>&lt;fct&gt;</th></tr>\n",
       "</thead>\n",
       "<tbody>\n",
       "\t<tr><th scope=row>1</th><td>69572</td><td>functional    </td></tr>\n",
       "\t<tr><th scope=row>2</th><td> 8776</td><td>functional    </td></tr>\n",
       "\t<tr><th scope=row>3</th><td>34310</td><td>functional    </td></tr>\n",
       "\t<tr><th scope=row>4</th><td>67743</td><td>non functional</td></tr>\n",
       "\t<tr><th scope=row>5</th><td>19728</td><td>functional    </td></tr>\n",
       "\t<tr><th scope=row>6</th><td> 9944</td><td>functional    </td></tr>\n",
       "</tbody>\n",
       "</table>\n"
      ],
      "text/latex": [
       "A data.frame: 6 × 2\n",
       "\\begin{tabular}{r|ll}\n",
       "  & id & status\\_group\\\\\n",
       "  & <int> & <fct>\\\\\n",
       "\\hline\n",
       "\t1 & 69572 & functional    \\\\\n",
       "\t2 &  8776 & functional    \\\\\n",
       "\t3 & 34310 & functional    \\\\\n",
       "\t4 & 67743 & non functional\\\\\n",
       "\t5 & 19728 & functional    \\\\\n",
       "\t6 &  9944 & functional    \\\\\n",
       "\\end{tabular}\n"
      ],
      "text/markdown": [
       "\n",
       "A data.frame: 6 × 2\n",
       "\n",
       "| <!--/--> | id &lt;int&gt; | status_group &lt;fct&gt; |\n",
       "|---|---|---|\n",
       "| 1 | 69572 | functional     |\n",
       "| 2 |  8776 | functional     |\n",
       "| 3 | 34310 | functional     |\n",
       "| 4 | 67743 | non functional |\n",
       "| 5 | 19728 | functional     |\n",
       "| 6 |  9944 | functional     |\n",
       "\n"
      ],
      "text/plain": [
       "  id    status_group  \n",
       "1 69572 functional    \n",
       "2  8776 functional    \n",
       "3 34310 functional    \n",
       "4 67743 non functional\n",
       "5 19728 functional    \n",
       "6  9944 functional    "
      ]
     },
     "metadata": {},
     "output_type": "display_data"
    },
    {
     "data": {
      "text/html": [
       "<table class=\"dataframe\">\n",
       "<caption>A data.frame: 6 × 19</caption>\n",
       "<thead>\n",
       "\t<tr><th></th><th scope=col>amount_tsh</th><th scope=col>gps_height</th><th scope=col>region_code</th><th scope=col>construction_year</th><th scope=col>water_quality_coloured</th><th scope=col>water_quality_fluoride</th><th scope=col>water_quality_fluoride_abandoned</th><th scope=col>water_quality_milky</th><th scope=col>water_quality_salty</th><th scope=col>water_quality_salty_abandoned</th><th scope=col>water_quality_soft</th><th scope=col>water_quality_unknown</th><th scope=col>water_quality_NA</th><th scope=col>quantity_dry</th><th scope=col>quantity_enough</th><th scope=col>quantity_insufficient</th><th scope=col>quantity_seasonal</th><th scope=col>quantity_unknown</th><th scope=col>quantity_NA</th></tr>\n",
       "\t<tr><th></th><th scope=col>&lt;dbl&gt;</th><th scope=col>&lt;int&gt;</th><th scope=col>&lt;int&gt;</th><th scope=col>&lt;int&gt;</th><th scope=col>&lt;int&gt;</th><th scope=col>&lt;int&gt;</th><th scope=col>&lt;int&gt;</th><th scope=col>&lt;int&gt;</th><th scope=col>&lt;int&gt;</th><th scope=col>&lt;int&gt;</th><th scope=col>&lt;int&gt;</th><th scope=col>&lt;int&gt;</th><th scope=col>&lt;int&gt;</th><th scope=col>&lt;int&gt;</th><th scope=col>&lt;int&gt;</th><th scope=col>&lt;int&gt;</th><th scope=col>&lt;int&gt;</th><th scope=col>&lt;int&gt;</th><th scope=col>&lt;int&gt;</th></tr>\n",
       "</thead>\n",
       "<tbody>\n",
       "\t<tr><th scope=row>59401</th><td>  0</td><td>1996</td><td>21</td><td>2012</td><td>0</td><td>0</td><td>0</td><td>0</td><td>0</td><td>0</td><td>1</td><td>0</td><td>0</td><td>0</td><td>0</td><td>0</td><td>1</td><td>0</td><td>0</td></tr>\n",
       "\t<tr><th scope=row>59402</th><td>  0</td><td>1569</td><td> 2</td><td>2000</td><td>0</td><td>0</td><td>0</td><td>0</td><td>0</td><td>0</td><td>1</td><td>0</td><td>0</td><td>0</td><td>0</td><td>1</td><td>0</td><td>0</td><td>0</td></tr>\n",
       "\t<tr><th scope=row>59403</th><td>  0</td><td>1567</td><td>13</td><td>2010</td><td>0</td><td>0</td><td>0</td><td>0</td><td>0</td><td>0</td><td>1</td><td>0</td><td>0</td><td>0</td><td>0</td><td>1</td><td>0</td><td>0</td><td>0</td></tr>\n",
       "\t<tr><th scope=row>59404</th><td>  0</td><td> 267</td><td>80</td><td>1987</td><td>0</td><td>0</td><td>0</td><td>0</td><td>0</td><td>0</td><td>1</td><td>0</td><td>0</td><td>1</td><td>0</td><td>0</td><td>0</td><td>0</td><td>0</td></tr>\n",
       "\t<tr><th scope=row>59405</th><td>500</td><td>1260</td><td>10</td><td>2000</td><td>0</td><td>0</td><td>0</td><td>0</td><td>0</td><td>0</td><td>1</td><td>0</td><td>0</td><td>0</td><td>1</td><td>0</td><td>0</td><td>0</td><td>0</td></tr>\n",
       "\t<tr><th scope=row>59406</th><td>  0</td><td>1685</td><td> 2</td><td>1990</td><td>0</td><td>0</td><td>0</td><td>0</td><td>0</td><td>0</td><td>1</td><td>0</td><td>0</td><td>0</td><td>1</td><td>0</td><td>0</td><td>0</td><td>0</td></tr>\n",
       "</tbody>\n",
       "</table>\n"
      ],
      "text/latex": [
       "A data.frame: 6 × 19\n",
       "\\begin{tabular}{r|lllllllllllllllllll}\n",
       "  & amount\\_tsh & gps\\_height & region\\_code & construction\\_year & water\\_quality\\_coloured & water\\_quality\\_fluoride & water\\_quality\\_fluoride\\_abandoned & water\\_quality\\_milky & water\\_quality\\_salty & water\\_quality\\_salty\\_abandoned & water\\_quality\\_soft & water\\_quality\\_unknown & water\\_quality\\_NA & quantity\\_dry & quantity\\_enough & quantity\\_insufficient & quantity\\_seasonal & quantity\\_unknown & quantity\\_NA\\\\\n",
       "  & <dbl> & <int> & <int> & <int> & <int> & <int> & <int> & <int> & <int> & <int> & <int> & <int> & <int> & <int> & <int> & <int> & <int> & <int> & <int>\\\\\n",
       "\\hline\n",
       "\t59401 &   0 & 1996 & 21 & 2012 & 0 & 0 & 0 & 0 & 0 & 0 & 1 & 0 & 0 & 0 & 0 & 0 & 1 & 0 & 0\\\\\n",
       "\t59402 &   0 & 1569 &  2 & 2000 & 0 & 0 & 0 & 0 & 0 & 0 & 1 & 0 & 0 & 0 & 0 & 1 & 0 & 0 & 0\\\\\n",
       "\t59403 &   0 & 1567 & 13 & 2010 & 0 & 0 & 0 & 0 & 0 & 0 & 1 & 0 & 0 & 0 & 0 & 1 & 0 & 0 & 0\\\\\n",
       "\t59404 &   0 &  267 & 80 & 1987 & 0 & 0 & 0 & 0 & 0 & 0 & 1 & 0 & 0 & 1 & 0 & 0 & 0 & 0 & 0\\\\\n",
       "\t59405 & 500 & 1260 & 10 & 2000 & 0 & 0 & 0 & 0 & 0 & 0 & 1 & 0 & 0 & 0 & 1 & 0 & 0 & 0 & 0\\\\\n",
       "\t59406 &   0 & 1685 &  2 & 1990 & 0 & 0 & 0 & 0 & 0 & 0 & 1 & 0 & 0 & 0 & 1 & 0 & 0 & 0 & 0\\\\\n",
       "\\end{tabular}\n"
      ],
      "text/markdown": [
       "\n",
       "A data.frame: 6 × 19\n",
       "\n",
       "| <!--/--> | amount_tsh &lt;dbl&gt; | gps_height &lt;int&gt; | region_code &lt;int&gt; | construction_year &lt;int&gt; | water_quality_coloured &lt;int&gt; | water_quality_fluoride &lt;int&gt; | water_quality_fluoride_abandoned &lt;int&gt; | water_quality_milky &lt;int&gt; | water_quality_salty &lt;int&gt; | water_quality_salty_abandoned &lt;int&gt; | water_quality_soft &lt;int&gt; | water_quality_unknown &lt;int&gt; | water_quality_NA &lt;int&gt; | quantity_dry &lt;int&gt; | quantity_enough &lt;int&gt; | quantity_insufficient &lt;int&gt; | quantity_seasonal &lt;int&gt; | quantity_unknown &lt;int&gt; | quantity_NA &lt;int&gt; |\n",
       "|---|---|---|---|---|---|---|---|---|---|---|---|---|---|---|---|---|---|---|---|\n",
       "| 59401 |   0 | 1996 | 21 | 2012 | 0 | 0 | 0 | 0 | 0 | 0 | 1 | 0 | 0 | 0 | 0 | 0 | 1 | 0 | 0 |\n",
       "| 59402 |   0 | 1569 |  2 | 2000 | 0 | 0 | 0 | 0 | 0 | 0 | 1 | 0 | 0 | 0 | 0 | 1 | 0 | 0 | 0 |\n",
       "| 59403 |   0 | 1567 | 13 | 2010 | 0 | 0 | 0 | 0 | 0 | 0 | 1 | 0 | 0 | 0 | 0 | 1 | 0 | 0 | 0 |\n",
       "| 59404 |   0 |  267 | 80 | 1987 | 0 | 0 | 0 | 0 | 0 | 0 | 1 | 0 | 0 | 1 | 0 | 0 | 0 | 0 | 0 |\n",
       "| 59405 | 500 | 1260 | 10 | 2000 | 0 | 0 | 0 | 0 | 0 | 0 | 1 | 0 | 0 | 0 | 1 | 0 | 0 | 0 | 0 |\n",
       "| 59406 |   0 | 1685 |  2 | 1990 | 0 | 0 | 0 | 0 | 0 | 0 | 1 | 0 | 0 | 0 | 1 | 0 | 0 | 0 | 0 |\n",
       "\n"
      ],
      "text/plain": [
       "      amount_tsh gps_height region_code construction_year\n",
       "59401   0        1996       21          2012             \n",
       "59402   0        1569        2          2000             \n",
       "59403   0        1567       13          2010             \n",
       "59404   0         267       80          1987             \n",
       "59405 500        1260       10          2000             \n",
       "59406   0        1685        2          1990             \n",
       "      water_quality_coloured water_quality_fluoride\n",
       "59401 0                      0                     \n",
       "59402 0                      0                     \n",
       "59403 0                      0                     \n",
       "59404 0                      0                     \n",
       "59405 0                      0                     \n",
       "59406 0                      0                     \n",
       "      water_quality_fluoride_abandoned water_quality_milky water_quality_salty\n",
       "59401 0                                0                   0                  \n",
       "59402 0                                0                   0                  \n",
       "59403 0                                0                   0                  \n",
       "59404 0                                0                   0                  \n",
       "59405 0                                0                   0                  \n",
       "59406 0                                0                   0                  \n",
       "      water_quality_salty_abandoned water_quality_soft water_quality_unknown\n",
       "59401 0                             1                  0                    \n",
       "59402 0                             1                  0                    \n",
       "59403 0                             1                  0                    \n",
       "59404 0                             1                  0                    \n",
       "59405 0                             1                  0                    \n",
       "59406 0                             1                  0                    \n",
       "      water_quality_NA quantity_dry quantity_enough quantity_insufficient\n",
       "59401 0                0            0               0                    \n",
       "59402 0                0            0               1                    \n",
       "59403 0                0            0               1                    \n",
       "59404 0                1            0               0                    \n",
       "59405 0                0            1               0                    \n",
       "59406 0                0            1               0                    \n",
       "      quantity_seasonal quantity_unknown quantity_NA\n",
       "59401 1                 0                0          \n",
       "59402 0                 0                0          \n",
       "59403 0                 0                0          \n",
       "59404 0                 0                0          \n",
       "59405 0                 0                0          \n",
       "59406 0                 0                0          "
      ]
     },
     "metadata": {},
     "output_type": "display_data"
    },
    {
     "data": {
      "text/html": [
       "<table class=\"dataframe\">\n",
       "<caption>A data.frame: 6 × 20</caption>\n",
       "<thead>\n",
       "\t<tr><th></th><th scope=col>amount_tsh</th><th scope=col>gps_height</th><th scope=col>region_code</th><th scope=col>construction_year</th><th scope=col>water_quality_coloured</th><th scope=col>water_quality_fluoride</th><th scope=col>water_quality_fluoride_abandoned</th><th scope=col>water_quality_milky</th><th scope=col>water_quality_salty</th><th scope=col>water_quality_salty_abandoned</th><th scope=col>water_quality_soft</th><th scope=col>water_quality_unknown</th><th scope=col>water_quality_NA</th><th scope=col>quantity_dry</th><th scope=col>quantity_enough</th><th scope=col>quantity_insufficient</th><th scope=col>quantity_seasonal</th><th scope=col>quantity_unknown</th><th scope=col>quantity_NA</th><th scope=col>status_group</th></tr>\n",
       "\t<tr><th></th><th scope=col>&lt;dbl&gt;</th><th scope=col>&lt;int&gt;</th><th scope=col>&lt;int&gt;</th><th scope=col>&lt;int&gt;</th><th scope=col>&lt;int&gt;</th><th scope=col>&lt;int&gt;</th><th scope=col>&lt;int&gt;</th><th scope=col>&lt;int&gt;</th><th scope=col>&lt;int&gt;</th><th scope=col>&lt;int&gt;</th><th scope=col>&lt;int&gt;</th><th scope=col>&lt;int&gt;</th><th scope=col>&lt;int&gt;</th><th scope=col>&lt;int&gt;</th><th scope=col>&lt;int&gt;</th><th scope=col>&lt;int&gt;</th><th scope=col>&lt;int&gt;</th><th scope=col>&lt;int&gt;</th><th scope=col>&lt;int&gt;</th><th scope=col>&lt;fct&gt;</th></tr>\n",
       "</thead>\n",
       "<tbody>\n",
       "\t<tr><th scope=row>1</th><td>6000</td><td>1390</td><td>11</td><td>1999</td><td>0</td><td>0</td><td>0</td><td>0</td><td>0</td><td>0</td><td>1</td><td>0</td><td>0</td><td>0</td><td>1</td><td>0</td><td>0</td><td>0</td><td>0</td><td>functional    </td></tr>\n",
       "\t<tr><th scope=row>2</th><td>   0</td><td>1399</td><td>20</td><td>2010</td><td>0</td><td>0</td><td>0</td><td>0</td><td>0</td><td>0</td><td>1</td><td>0</td><td>0</td><td>0</td><td>0</td><td>1</td><td>0</td><td>0</td><td>0</td><td>functional    </td></tr>\n",
       "\t<tr><th scope=row>3</th><td>  25</td><td> 686</td><td>21</td><td>2009</td><td>0</td><td>0</td><td>0</td><td>0</td><td>0</td><td>0</td><td>1</td><td>0</td><td>0</td><td>0</td><td>1</td><td>0</td><td>0</td><td>0</td><td>0</td><td>functional    </td></tr>\n",
       "\t<tr><th scope=row>4</th><td>   0</td><td> 263</td><td>90</td><td>1986</td><td>0</td><td>0</td><td>0</td><td>0</td><td>0</td><td>0</td><td>1</td><td>0</td><td>0</td><td>1</td><td>0</td><td>0</td><td>0</td><td>0</td><td>0</td><td>non functional</td></tr>\n",
       "\t<tr><th scope=row>5</th><td>   0</td><td>   0</td><td>18</td><td>   0</td><td>0</td><td>0</td><td>0</td><td>0</td><td>0</td><td>0</td><td>1</td><td>0</td><td>0</td><td>0</td><td>0</td><td>0</td><td>1</td><td>0</td><td>0</td><td>functional    </td></tr>\n",
       "\t<tr><th scope=row>6</th><td>  20</td><td>   0</td><td> 4</td><td>2009</td><td>0</td><td>0</td><td>0</td><td>0</td><td>1</td><td>0</td><td>0</td><td>0</td><td>0</td><td>0</td><td>1</td><td>0</td><td>0</td><td>0</td><td>0</td><td>functional    </td></tr>\n",
       "</tbody>\n",
       "</table>\n"
      ],
      "text/latex": [
       "A data.frame: 6 × 20\n",
       "\\begin{tabular}{r|llllllllllllllllllll}\n",
       "  & amount\\_tsh & gps\\_height & region\\_code & construction\\_year & water\\_quality\\_coloured & water\\_quality\\_fluoride & water\\_quality\\_fluoride\\_abandoned & water\\_quality\\_milky & water\\_quality\\_salty & water\\_quality\\_salty\\_abandoned & water\\_quality\\_soft & water\\_quality\\_unknown & water\\_quality\\_NA & quantity\\_dry & quantity\\_enough & quantity\\_insufficient & quantity\\_seasonal & quantity\\_unknown & quantity\\_NA & status\\_group\\\\\n",
       "  & <dbl> & <int> & <int> & <int> & <int> & <int> & <int> & <int> & <int> & <int> & <int> & <int> & <int> & <int> & <int> & <int> & <int> & <int> & <int> & <fct>\\\\\n",
       "\\hline\n",
       "\t1 & 6000 & 1390 & 11 & 1999 & 0 & 0 & 0 & 0 & 0 & 0 & 1 & 0 & 0 & 0 & 1 & 0 & 0 & 0 & 0 & functional    \\\\\n",
       "\t2 &    0 & 1399 & 20 & 2010 & 0 & 0 & 0 & 0 & 0 & 0 & 1 & 0 & 0 & 0 & 0 & 1 & 0 & 0 & 0 & functional    \\\\\n",
       "\t3 &   25 &  686 & 21 & 2009 & 0 & 0 & 0 & 0 & 0 & 0 & 1 & 0 & 0 & 0 & 1 & 0 & 0 & 0 & 0 & functional    \\\\\n",
       "\t4 &    0 &  263 & 90 & 1986 & 0 & 0 & 0 & 0 & 0 & 0 & 1 & 0 & 0 & 1 & 0 & 0 & 0 & 0 & 0 & non functional\\\\\n",
       "\t5 &    0 &    0 & 18 &    0 & 0 & 0 & 0 & 0 & 0 & 0 & 1 & 0 & 0 & 0 & 0 & 0 & 1 & 0 & 0 & functional    \\\\\n",
       "\t6 &   20 &    0 &  4 & 2009 & 0 & 0 & 0 & 0 & 1 & 0 & 0 & 0 & 0 & 0 & 1 & 0 & 0 & 0 & 0 & functional    \\\\\n",
       "\\end{tabular}\n"
      ],
      "text/markdown": [
       "\n",
       "A data.frame: 6 × 20\n",
       "\n",
       "| <!--/--> | amount_tsh &lt;dbl&gt; | gps_height &lt;int&gt; | region_code &lt;int&gt; | construction_year &lt;int&gt; | water_quality_coloured &lt;int&gt; | water_quality_fluoride &lt;int&gt; | water_quality_fluoride_abandoned &lt;int&gt; | water_quality_milky &lt;int&gt; | water_quality_salty &lt;int&gt; | water_quality_salty_abandoned &lt;int&gt; | water_quality_soft &lt;int&gt; | water_quality_unknown &lt;int&gt; | water_quality_NA &lt;int&gt; | quantity_dry &lt;int&gt; | quantity_enough &lt;int&gt; | quantity_insufficient &lt;int&gt; | quantity_seasonal &lt;int&gt; | quantity_unknown &lt;int&gt; | quantity_NA &lt;int&gt; | status_group &lt;fct&gt; |\n",
       "|---|---|---|---|---|---|---|---|---|---|---|---|---|---|---|---|---|---|---|---|---|\n",
       "| 1 | 6000 | 1390 | 11 | 1999 | 0 | 0 | 0 | 0 | 0 | 0 | 1 | 0 | 0 | 0 | 1 | 0 | 0 | 0 | 0 | functional     |\n",
       "| 2 |    0 | 1399 | 20 | 2010 | 0 | 0 | 0 | 0 | 0 | 0 | 1 | 0 | 0 | 0 | 0 | 1 | 0 | 0 | 0 | functional     |\n",
       "| 3 |   25 |  686 | 21 | 2009 | 0 | 0 | 0 | 0 | 0 | 0 | 1 | 0 | 0 | 0 | 1 | 0 | 0 | 0 | 0 | functional     |\n",
       "| 4 |    0 |  263 | 90 | 1986 | 0 | 0 | 0 | 0 | 0 | 0 | 1 | 0 | 0 | 1 | 0 | 0 | 0 | 0 | 0 | non functional |\n",
       "| 5 |    0 |    0 | 18 |    0 | 0 | 0 | 0 | 0 | 0 | 0 | 1 | 0 | 0 | 0 | 0 | 0 | 1 | 0 | 0 | functional     |\n",
       "| 6 |   20 |    0 |  4 | 2009 | 0 | 0 | 0 | 0 | 1 | 0 | 0 | 0 | 0 | 0 | 1 | 0 | 0 | 0 | 0 | functional     |\n",
       "\n"
      ],
      "text/plain": [
       "  amount_tsh gps_height region_code construction_year water_quality_coloured\n",
       "1 6000       1390       11          1999              0                     \n",
       "2    0       1399       20          2010              0                     \n",
       "3   25        686       21          2009              0                     \n",
       "4    0        263       90          1986              0                     \n",
       "5    0          0       18             0              0                     \n",
       "6   20          0        4          2009              0                     \n",
       "  water_quality_fluoride water_quality_fluoride_abandoned water_quality_milky\n",
       "1 0                      0                                0                  \n",
       "2 0                      0                                0                  \n",
       "3 0                      0                                0                  \n",
       "4 0                      0                                0                  \n",
       "5 0                      0                                0                  \n",
       "6 0                      0                                0                  \n",
       "  water_quality_salty water_quality_salty_abandoned water_quality_soft\n",
       "1 0                   0                             1                 \n",
       "2 0                   0                             1                 \n",
       "3 0                   0                             1                 \n",
       "4 0                   0                             1                 \n",
       "5 0                   0                             1                 \n",
       "6 1                   0                             0                 \n",
       "  water_quality_unknown water_quality_NA quantity_dry quantity_enough\n",
       "1 0                     0                0            1              \n",
       "2 0                     0                0            0              \n",
       "3 0                     0                0            1              \n",
       "4 0                     0                1            0              \n",
       "5 0                     0                0            0              \n",
       "6 0                     0                0            1              \n",
       "  quantity_insufficient quantity_seasonal quantity_unknown quantity_NA\n",
       "1 0                     0                 0                0          \n",
       "2 1                     0                 0                0          \n",
       "3 0                     0                 0                0          \n",
       "4 0                     0                 0                0          \n",
       "5 0                     1                 0                0          \n",
       "6 0                     0                 0                0          \n",
       "  status_group  \n",
       "1 functional    \n",
       "2 functional    \n",
       "3 functional    \n",
       "4 non functional\n",
       "5 functional    \n",
       "6 functional    "
      ]
     },
     "metadata": {},
     "output_type": "display_data"
    }
   ],
   "source": [
    "preprocessing <- function() {\n",
    "    load_data()\n",
    "    remove_always_same_columns()\n",
    "    remove_almost_always_same_columns()\n",
    "    remove_highly_correlated_column_in_pair()\n",
    "    big_removal()\n",
    "    replace_na_with_unknown()\n",
    "    dummify()\n",
    "}\n",
    "big_preprocessing <- function() {\n",
    "    load_data()\n",
    "    remove_always_same_columns()\n",
    "    remove_almost_always_same_columns()\n",
    "    remove_highly_correlated_column_in_pair()\n",
    "    big_removal()\n",
    "    replace_na_with_unknown()\n",
    "    extreme_dummify()\n",
    "}\n",
    "load_data()\n",
    "\n",
    "print(\"Heads of data before preprocessing\")\n",
    "head(training_set_labels)\n",
    "head(test_set_values)\n",
    "head(training_set_values)\n",
    "\n",
    "preprocessing()\n",
    "\n",
    "\n",
    "print(\"Heads of data after preprocessing\")\n",
    "head(training_set_labels)\n",
    "head(test_set_values)\n",
    "head(training_set_values)"
   ]
  },
  {
   "cell_type": "markdown",
   "metadata": {},
   "source": [
    "# Model selection\n",
    "\n",
    "As stated in the introduction, we used the four following models/libraries: \n",
    "\n",
    "- Decision Tree (library: rpart)\n",
    "- Neural Network (library: nnet)\n",
    "- Random Forest (library: randomForest)\n",
    "- Naive Bayes (library: e1071)\n",
    "\n"
   ]
  },
  {
   "cell_type": "markdown",
   "metadata": {},
   "source": [
    "## Model 1: Decision Tree\n",
    "We chose to use Decision tree since it is one of the simplest machine learning technique, and also that it can help us build intuition about what makes a pump functional or not. \n",
    "\n",
    "The decision tree produced might or might not be relevant to the real case problem, but it will be useful to predict the data of the model."
   ]
  },
  {
   "cell_type": "code",
   "execution_count": 15,
   "metadata": {
    "scrolled": true
   },
   "outputs": [
    {
     "name": "stderr",
     "output_type": "stream",
     "text": [
      "Warning message in model.matrix.default(~x - 1, model.frame(~x - 1), contrasts = FALSE):\n",
      "\"non-list contrasts argument ignored\"\n",
      "Warning message in model.matrix.default(~x - 1, model.frame(~x - 1), contrasts = FALSE):\n",
      "\"non-list contrasts argument ignored\"\n"
     ]
    },
    {
     "data": {
      "text/html": [
       "<table class=\"dataframe\">\n",
       "<caption>A data.frame: 6 × 2</caption>\n",
       "<thead>\n",
       "\t<tr><th></th><th scope=col>id</th><th scope=col>status_group</th></tr>\n",
       "\t<tr><th></th><th scope=col>&lt;int&gt;</th><th scope=col>&lt;fct&gt;</th></tr>\n",
       "</thead>\n",
       "<tbody>\n",
       "\t<tr><th scope=row>59401</th><td>50785</td><td>functional    </td></tr>\n",
       "\t<tr><th scope=row>59402</th><td>51630</td><td>functional    </td></tr>\n",
       "\t<tr><th scope=row>59403</th><td>17168</td><td>functional    </td></tr>\n",
       "\t<tr><th scope=row>59404</th><td>45559</td><td>non functional</td></tr>\n",
       "\t<tr><th scope=row>59405</th><td>49871</td><td>functional    </td></tr>\n",
       "\t<tr><th scope=row>59406</th><td>52449</td><td>functional    </td></tr>\n",
       "</tbody>\n",
       "</table>\n"
      ],
      "text/latex": [
       "A data.frame: 6 × 2\n",
       "\\begin{tabular}{r|ll}\n",
       "  & id & status\\_group\\\\\n",
       "  & <int> & <fct>\\\\\n",
       "\\hline\n",
       "\t59401 & 50785 & functional    \\\\\n",
       "\t59402 & 51630 & functional    \\\\\n",
       "\t59403 & 17168 & functional    \\\\\n",
       "\t59404 & 45559 & non functional\\\\\n",
       "\t59405 & 49871 & functional    \\\\\n",
       "\t59406 & 52449 & functional    \\\\\n",
       "\\end{tabular}\n"
      ],
      "text/markdown": [
       "\n",
       "A data.frame: 6 × 2\n",
       "\n",
       "| <!--/--> | id &lt;int&gt; | status_group &lt;fct&gt; |\n",
       "|---|---|---|\n",
       "| 59401 | 50785 | functional     |\n",
       "| 59402 | 51630 | functional     |\n",
       "| 59403 | 17168 | functional     |\n",
       "| 59404 | 45559 | non functional |\n",
       "| 59405 | 49871 | functional     |\n",
       "| 59406 | 52449 | functional     |\n",
       "\n"
      ],
      "text/plain": [
       "      id    status_group  \n",
       "59401 50785 functional    \n",
       "59402 51630 functional    \n",
       "59403 17168 functional    \n",
       "59404 45559 non functional\n",
       "59405 49871 functional    \n",
       "59406 52449 functional    "
      ]
     },
     "metadata": {},
     "output_type": "display_data"
    },
    {
     "data": {
      "text/plain": [
       "\n",
       "FALSE  TRUE \n",
       " 3126 11724 "
      ]
     },
     "metadata": {},
     "output_type": "display_data"
    },
    {
     "data": {
      "image/png": "[encoded data removed]",
      "text/plain": [
       "plot without title"
      ]
     },
     "metadata": {
      "image/png": {
       "height": 420,
       "width": 420
      }
     },
     "output_type": "display_data"
    }
   ],
   "source": [
    "library(rpart)\n",
    "library(rpart.plot)\n",
    "\n",
    "preprocessing()  # Preprocessing\n",
    "decision_tree_model <- rpart(status_group~., data = training_set_values, method = 'class')  # Modelling\n",
    "\n",
    "decision_tree_prediction <- cbind(save_id, predict(decision_tree_model, test_set_values, type = 'class'))  # Predicting\n",
    "names(decision_tree_prediction) <- c(\"id\", \"status_group\")  # Reformatting\n",
    "\n",
    "# Printing\n",
    "prp(decision_tree_model)\n",
    "head(decision_tree_prediction)\n",
    "table(decision_tree_prediction[\"status_group\"] == \"functional\")\n",
    "\n",
    "# Saving\n",
    "write.csv(decision_tree_prediction,\"predictions/decisionTree.csv\",row.names = FALSE)"
   ]
  },
  {
   "cell_type": "markdown",
   "metadata": {},
   "source": [
    "## Model 2: Neural Network"
   ]
  },
  {
   "cell_type": "markdown",
   "metadata": {},
   "source": [
    "Given how popular Neural Networks are, we will also use it for the data. However we do not expect enormous result with this model since Neural Network work better for other type of problems."
   ]
  },
  {
   "cell_type": "code",
   "execution_count": 16,
   "metadata": {
    "scrolled": true
   },
   "outputs": [
    {
     "name": "stderr",
     "output_type": "stream",
     "text": [
      "Warning message in model.matrix.default(~x - 1, model.frame(~x - 1), contrasts = FALSE):\n",
      "\"non-list contrasts argument ignored\"\n",
      "Warning message in model.matrix.default(~x - 1, model.frame(~x - 1), contrasts = FALSE):\n",
      "\"non-list contrasts argument ignored\"\n"
     ]
    },
    {
     "name": "stdout",
     "output_type": "stream",
     "text": [
      "# weights:  739\n",
      "initial  value 64370.443833 \n",
      "iter  10 value 52976.273055\n",
      "iter  20 value 51074.353071\n",
      "iter  30 value 49954.319020\n",
      "iter  40 value 49281.053966\n",
      "iter  50 value 48930.777145\n",
      "iter  60 value 48729.427637\n",
      "iter  70 value 48574.912494\n",
      "iter  80 value 48481.068109\n",
      "iter  90 value 48350.275535\n",
      "iter 100 value 48285.094896\n",
      "iter 110 value 48180.179082\n",
      "iter 120 value 48110.143375\n",
      "iter 130 value 48016.584467\n",
      "iter 140 value 47907.993350\n",
      "iter 150 value 47853.036597\n",
      "iter 160 value 47770.126601\n",
      "iter 170 value 47732.252177\n",
      "iter 180 value 47562.594436\n",
      "iter 190 value 47416.769496\n",
      "iter 200 value 47029.252456\n",
      "iter 210 value 46511.057384\n",
      "iter 220 value 46331.526102\n",
      "iter 230 value 45994.835612\n",
      "iter 240 value 45754.096639\n",
      "iter 250 value 45691.965140\n",
      "iter 260 value 45628.713770\n",
      "iter 270 value 45578.536837\n",
      "iter 280 value 45534.143242\n",
      "iter 290 value 45446.173597\n",
      "iter 300 value 45415.866140\n",
      "iter 310 value 45260.081130\n",
      "iter 320 value 45224.135145\n",
      "iter 330 value 45204.199447\n",
      "iter 340 value 45189.910525\n",
      "iter 350 value 45172.857677\n",
      "iter 360 value 45164.136573\n",
      "iter 370 value 45138.835434\n",
      "iter 380 value 45106.573231\n",
      "iter 390 value 45060.737373\n",
      "iter 400 value 45027.055488\n",
      "iter 410 value 45010.045610\n",
      "iter 420 value 45004.323064\n",
      "iter 430 value 44999.123592\n",
      "iter 440 value 44987.750903\n",
      "iter 450 value 44976.161070\n",
      "iter 460 value 44953.472189\n",
      "iter 470 value 44927.583657\n",
      "iter 480 value 44893.076440\n",
      "iter 490 value 44867.165458\n",
      "iter 500 value 44844.420458\n",
      "final  value 44844.420458 \n",
      "stopped after 500 iterations\n"
     ]
    },
    {
     "data": {
      "text/html": [
       "<table class=\"dataframe\">\n",
       "<caption>A data.frame: 6 × 2</caption>\n",
       "<thead>\n",
       "\t<tr><th></th><th scope=col>id</th><th scope=col>status_group</th></tr>\n",
       "\t<tr><th></th><th scope=col>&lt;int&gt;</th><th scope=col>&lt;fct&gt;</th></tr>\n",
       "</thead>\n",
       "<tbody>\n",
       "\t<tr><th scope=row>1</th><td>50785</td><td>functional    </td></tr>\n",
       "\t<tr><th scope=row>2</th><td>51630</td><td>functional    </td></tr>\n",
       "\t<tr><th scope=row>3</th><td>17168</td><td>functional    </td></tr>\n",
       "\t<tr><th scope=row>4</th><td>45559</td><td>non functional</td></tr>\n",
       "\t<tr><th scope=row>5</th><td>49871</td><td>functional    </td></tr>\n",
       "\t<tr><th scope=row>6</th><td>52449</td><td>functional    </td></tr>\n",
       "</tbody>\n",
       "</table>\n"
      ],
      "text/latex": [
       "A data.frame: 6 × 2\n",
       "\\begin{tabular}{r|ll}\n",
       "  & id & status\\_group\\\\\n",
       "  & <int> & <fct>\\\\\n",
       "\\hline\n",
       "\t1 & 50785 & functional    \\\\\n",
       "\t2 & 51630 & functional    \\\\\n",
       "\t3 & 17168 & functional    \\\\\n",
       "\t4 & 45559 & non functional\\\\\n",
       "\t5 & 49871 & functional    \\\\\n",
       "\t6 & 52449 & functional    \\\\\n",
       "\\end{tabular}\n"
      ],
      "text/markdown": [
       "\n",
       "A data.frame: 6 × 2\n",
       "\n",
       "| <!--/--> | id &lt;int&gt; | status_group &lt;fct&gt; |\n",
       "|---|---|---|\n",
       "| 1 | 50785 | functional     |\n",
       "| 2 | 51630 | functional     |\n",
       "| 3 | 17168 | functional     |\n",
       "| 4 | 45559 | non functional |\n",
       "| 5 | 49871 | functional     |\n",
       "| 6 | 52449 | functional     |\n",
       "\n"
      ],
      "text/plain": [
       "  id    status_group  \n",
       "1 50785 functional    \n",
       "2 51630 functional    \n",
       "3 17168 functional    \n",
       "4 45559 non functional\n",
       "5 49871 functional    \n",
       "6 52449 functional    "
      ]
     },
     "metadata": {},
     "output_type": "display_data"
    },
    {
     "data": {
      "text/plain": [
       "\n",
       "FALSE  TRUE \n",
       " 2784 12066 "
      ]
     },
     "metadata": {},
     "output_type": "display_data"
    }
   ],
   "source": [
    "library(nnet)\n",
    "\n",
    "preprocessing()  # Preprocessing\n",
    "\n",
    "nnet_model <- nnet(status_group~., data = training_set_values, size = 32, decay=5e-4, maxit=500,\n",
    "                  MaxNWts=10000)  # Modelling\n",
    "\n",
    "nnet_prediction <- cbind(save_id, predict(nnet_model, test_set_values, type= 'class'))  # Predicting\n",
    "names(nnet_prediction) <- c(\"id\", \"status_group\")  # Reformatting\n",
    "\n",
    "# Printing\n",
    "head(nnet_prediction)\n",
    "table(nnet_prediction[\"status_group\"] == \"functional\")\n",
    "\n",
    "# Saving\n",
    "write.csv(nnet_prediction,\"predictions/NeuralNetwork.csv\",row.names = FALSE)"
   ]
  },
  {
   "cell_type": "markdown",
   "metadata": {},
   "source": [
    "## Model 3: Random Forest\n",
    "\n",
    "We chose this model because it is the continuity of decision tree and we think it is a good way to achieve a correct prediction."
   ]
  },
  {
   "cell_type": "code",
   "execution_count": 17,
   "metadata": {
    "scrolled": true
   },
   "outputs": [
    {
     "name": "stderr",
     "output_type": "stream",
     "text": [
      "randomForest 4.6-14\n",
      "\n",
      "Type rfNews() to see new features/changes/bug fixes.\n",
      "\n",
      "Warning message in model.matrix.default(~x - 1, model.frame(~x - 1), contrasts = FALSE):\n",
      "\"non-list contrasts argument ignored\"\n",
      "Warning message in model.matrix.default(~x - 1, model.frame(~x - 1), contrasts = FALSE):\n",
      "\"non-list contrasts argument ignored\"\n"
     ]
    },
    {
     "data": {
      "text/plain": [
       "\n",
       "Call:\n",
       " randomForest(formula = status_group ~ ., data = training_set_values,      ntrees = 500) \n",
       "               Type of random forest: classification\n",
       "                     Number of trees: 500\n",
       "No. of variables tried at each split: 4\n",
       "\n",
       "        OOB estimate of  error rate: 29.8%\n",
       "Confusion matrix:\n",
       "                        functional functional needs repair non functional\n",
       "functional                   30338                       8           1913\n",
       "functional needs repair       3807                      28            482\n",
       "non functional               11487                       3          11334\n",
       "                        class.error\n",
       "functional               0.05954927\n",
       "functional needs repair  0.99351401\n",
       "non functional           0.50341746"
      ]
     },
     "metadata": {},
     "output_type": "display_data"
    },
    {
     "data": {
      "text/html": [
       "<table class=\"dataframe\">\n",
       "<caption>A data.frame: 6 × 2</caption>\n",
       "<thead>\n",
       "\t<tr><th></th><th scope=col>id</th><th scope=col>status_group</th></tr>\n",
       "\t<tr><th></th><th scope=col>&lt;int&gt;</th><th scope=col>&lt;fct&gt;</th></tr>\n",
       "</thead>\n",
       "<tbody>\n",
       "\t<tr><th scope=row>59401</th><td>50785</td><td>functional    </td></tr>\n",
       "\t<tr><th scope=row>59402</th><td>51630</td><td>functional    </td></tr>\n",
       "\t<tr><th scope=row>59403</th><td>17168</td><td>functional    </td></tr>\n",
       "\t<tr><th scope=row>59404</th><td>45559</td><td>non functional</td></tr>\n",
       "\t<tr><th scope=row>59405</th><td>49871</td><td>functional    </td></tr>\n",
       "\t<tr><th scope=row>59406</th><td>52449</td><td>functional    </td></tr>\n",
       "</tbody>\n",
       "</table>\n"
      ],
      "text/latex": [
       "A data.frame: 6 × 2\n",
       "\\begin{tabular}{r|ll}\n",
       "  & id & status\\_group\\\\\n",
       "  & <int> & <fct>\\\\\n",
       "\\hline\n",
       "\t59401 & 50785 & functional    \\\\\n",
       "\t59402 & 51630 & functional    \\\\\n",
       "\t59403 & 17168 & functional    \\\\\n",
       "\t59404 & 45559 & non functional\\\\\n",
       "\t59405 & 49871 & functional    \\\\\n",
       "\t59406 & 52449 & functional    \\\\\n",
       "\\end{tabular}\n"
      ],
      "text/markdown": [
       "\n",
       "A data.frame: 6 × 2\n",
       "\n",
       "| <!--/--> | id &lt;int&gt; | status_group &lt;fct&gt; |\n",
       "|---|---|---|\n",
       "| 59401 | 50785 | functional     |\n",
       "| 59402 | 51630 | functional     |\n",
       "| 59403 | 17168 | functional     |\n",
       "| 59404 | 45559 | non functional |\n",
       "| 59405 | 49871 | functional     |\n",
       "| 59406 | 52449 | functional     |\n",
       "\n"
      ],
      "text/plain": [
       "      id    status_group  \n",
       "59401 50785 functional    \n",
       "59402 51630 functional    \n",
       "59403 17168 functional    \n",
       "59404 45559 non functional\n",
       "59405 49871 functional    \n",
       "59406 52449 functional    "
      ]
     },
     "metadata": {},
     "output_type": "display_data"
    },
    {
     "data": {
      "text/plain": [
       "\n",
       "FALSE  TRUE \n",
       " 3213 11637 "
      ]
     },
     "metadata": {},
     "output_type": "display_data"
    }
   ],
   "source": [
    "library(\"randomForest\")\n",
    "preprocessing()  # Preprocessing\n",
    "\n",
    "rf_model<- randomForest(status_group~., data = training_set_values, ntrees = 500)  # Modelling\n",
    "rf_model\n",
    "rf_prediction <- cbind(save_id, predict(rf_model, test_set_values, type = 'class'))  # Predicting\n",
    "names(rf_prediction) <- c(\"id\", \"status_group\")  # Reformatting\n",
    "\n",
    "# Printing\n",
    "head(rf_prediction)\n",
    "table(rf_prediction[\"status_group\"] == \"functional\")\n",
    "\n",
    "# Saving\n",
    "write.csv(rf_prediction,\"predictions/randomForest.csv\",row.names = FALSE)"
   ]
  },
  {
   "cell_type": "markdown",
   "metadata": {},
   "source": [
    "The cell below takes a lot of RAM and takes some time to run. The reason is because we dummify 15 variables, so the vector is huge."
   ]
  },
  {
   "cell_type": "code",
   "execution_count": 18,
   "metadata": {},
   "outputs": [],
   "source": [
    "# # Extreme random forest\n",
    "# library(\"randomForest\")\n",
    "\n",
    "# big_preprocessing()  # Preprocessing\n",
    "# # training_set_values <<- cbind(training_set_values, training_set_labels[2])\n",
    "\n",
    "# rf_model<- randomForest(status_group~., data = training_set_values, ntrees = 2000)  # Modelling\n",
    "# rf_model\n",
    "\n",
    "# rf_prediction <- cbind(save_id, predict(rf_model, test_set_values, type = 'class'))  # Predicting\n",
    "# names(rf_prediction) <- c(\"id\", \"status_group\")  # Reformatting\n",
    "\n",
    "# # Printing\n",
    "# head(rf_prediction)\n",
    "# table(rf_prediction[\"status_group\"] == \"functional\")\n",
    "\n",
    "# # Saving\n",
    "# write.csv(rf_prediction,\"predictions/extreme_randomForest\",row.names = FALSE)"
   ]
  },
  {
   "cell_type": "markdown",
   "metadata": {},
   "source": [
    "## Model 4: Naive Bayes\n",
    "We also chose as a bonus to use Naive Bayes. This models is similar to the previous one except that it assumes all the column are independant, this is what gives it its naive name.\n"
   ]
  },
  {
   "cell_type": "code",
   "execution_count": 19,
   "metadata": {},
   "outputs": [
    {
     "data": {
      "text/html": [
       "<table class=\"dataframe\">\n",
       "<caption>A data.frame: 6 × 2</caption>\n",
       "<thead>\n",
       "\t<tr><th></th><th scope=col>id</th><th scope=col>status_group</th></tr>\n",
       "\t<tr><th></th><th scope=col>&lt;int&gt;</th><th scope=col>&lt;fct&gt;</th></tr>\n",
       "</thead>\n",
       "<tbody>\n",
       "\t<tr><th scope=row>1</th><td>50785</td><td>functional needs repair</td></tr>\n",
       "\t<tr><th scope=row>2</th><td>51630</td><td>functional needs repair</td></tr>\n",
       "\t<tr><th scope=row>3</th><td>17168</td><td>functional needs repair</td></tr>\n",
       "\t<tr><th scope=row>4</th><td>45559</td><td>non functional         </td></tr>\n",
       "\t<tr><th scope=row>5</th><td>49871</td><td>functional needs repair</td></tr>\n",
       "\t<tr><th scope=row>6</th><td>52449</td><td>functional needs repair</td></tr>\n",
       "</tbody>\n",
       "</table>\n"
      ],
      "text/latex": [
       "A data.frame: 6 × 2\n",
       "\\begin{tabular}{r|ll}\n",
       "  & id & status\\_group\\\\\n",
       "  & <int> & <fct>\\\\\n",
       "\\hline\n",
       "\t1 & 50785 & functional needs repair\\\\\n",
       "\t2 & 51630 & functional needs repair\\\\\n",
       "\t3 & 17168 & functional needs repair\\\\\n",
       "\t4 & 45559 & non functional         \\\\\n",
       "\t5 & 49871 & functional needs repair\\\\\n",
       "\t6 & 52449 & functional needs repair\\\\\n",
       "\\end{tabular}\n"
      ],
      "text/markdown": [
       "\n",
       "A data.frame: 6 × 2\n",
       "\n",
       "| <!--/--> | id &lt;int&gt; | status_group &lt;fct&gt; |\n",
       "|---|---|---|\n",
       "| 1 | 50785 | functional needs repair |\n",
       "| 2 | 51630 | functional needs repair |\n",
       "| 3 | 17168 | functional needs repair |\n",
       "| 4 | 45559 | non functional          |\n",
       "| 5 | 49871 | functional needs repair |\n",
       "| 6 | 52449 | functional needs repair |\n",
       "\n"
      ],
      "text/plain": [
       "  id    status_group           \n",
       "1 50785 functional needs repair\n",
       "2 51630 functional needs repair\n",
       "3 17168 functional needs repair\n",
       "4 45559 non functional         \n",
       "5 49871 functional needs repair\n",
       "6 52449 functional needs repair"
      ]
     },
     "metadata": {},
     "output_type": "display_data"
    },
    {
     "data": {
      "text/plain": [
       "\n",
       "FALSE  TRUE \n",
       "14420   430 "
      ]
     },
     "metadata": {},
     "output_type": "display_data"
    }
   ],
   "source": [
    "library(e1071)\n",
    "\n",
    "nb_model <- naiveBayes(status_group~., data=training_set_values)\n",
    "\n",
    "nb_prediction <- cbind(save_id, predict(nb_model, newdata = test_set_values))  # Predicting\n",
    "names(nb_prediction) <- c(\"id\", \"status_group\")  # Reformatting\n",
    "\n",
    "# Printing\n",
    "head(nb_prediction)\n",
    "table(nb_prediction[\"status_group\"] == \"functional\")\n",
    "\n",
    "write.csv(nb_prediction,\"predictions/naive_bayes.csv\",row.names = FALSE)"
   ]
  },
  {
   "cell_type": "markdown",
   "metadata": {},
   "source": [
    "# Alternative models\n",
    "\n",
    "As an alternative model, we used the Gradient Boosting Model library (gbm). It also works with tree and we set the value to 500. However we can increase that value to have a better prediction but it will increase the computing time. 5000 would be a sufficient value for a really precise classification\n",
    "\n"
   ]
  },
  {
   "cell_type": "code",
   "execution_count": null,
   "metadata": {
    "scrolled": true
   },
   "outputs": [
    {
     "name": "stderr",
     "output_type": "stream",
     "text": [
      "Warning message in model.matrix.default(~x - 1, model.frame(~x - 1), contrasts = FALSE):\n",
      "\"non-list contrasts argument ignored\"\n",
      "Warning message in model.matrix.default(~x - 1, model.frame(~x - 1), contrasts = FALSE):\n",
      "\"non-list contrasts argument ignored\"\n",
      "Warning message:\n",
      "\"Setting `distribution = \"multinomial\"` is ill-advised as it is currently broken. It exists only for backwards compatibility. Use at your own risk.\"\n",
      "Warning message in gbm.fit(x = x, y = y, offset = offset, distribution = distribution, :\n",
      "\"variable 13: water_quality_NA has no variation.\"\n",
      "Warning message in gbm.fit(x = x, y = y, offset = offset, distribution = distribution, :\n",
      "\"variable 19: quantity_NA has no variation.\"\n"
     ]
    }
   ],
   "source": [
    "# GRADIENT BOOSTING\n",
    "library(gbm)\n",
    "n <- 500\n",
    "\n",
    "preprocessing()  # Preprocessing\n",
    "\n",
    "gm_model <- gbm(formula = status_group~., distribution = \"multinomial\", data = training_set_values, n.trees = n,\n",
    "            interaction.depth = 4, shrinkage = 0.01, cv.folds = 10, n.minobsinnode = 10)  # Modelling\n",
    "print(gm_model)\n",
    "gm_prediction <- predict(gm_model, newdata = test_set_values, type=\"response\", n.trees = n)  # Predicting\n",
    "print(dim(gm_prediction))\n",
    "# Reformatting\n",
    "status_group <- colnames(gm_prediction)[apply(gm_prediction, 1, which.max)]\n",
    "gm_prediction <- cbind(save_id, status_group)\n",
    "\n",
    "\n",
    "# Printing\n",
    "head(gm_prediction)\n",
    "table(gm_prediction[\"status_group\"] == \"functional\")\n",
    "\n",
    "# Saving\n",
    "write.csv(gm_prediction,\"predictions/gradient_boosting.csv\",row.names = FALSE)"
   ]
  },
  {
   "cell_type": "markdown",
   "metadata": {},
   "source": [
    "# Conclusions\n",
    "\n",
    "We found that random forest works best among our 5 models, and we think it would be even better with more accurate data (for exemple pressure sensors, temperature sensors, etc ... ). Decision Tree and gbm also worked well since they are based on the same principle\n",
    "\n",
    "Neural Network is also be a good candidate for this type of problem because it can create abstraction about data in a smarter way than Nearest Neighbor to understand that geographically close waterpumps might or might not suffer the same problem\n",
    "\n",
    "This project helped us to learn how to use the machine learning tools at our disposal, hiding the model behind a simple function call. This is a good thing to program very easily machine learning classification but the documentation doesn't provide us with how the model actually works."
   ]
  }
 ],
 "metadata": {
  "kernelspec": {
   "display_name": "R",
   "language": "R",
   "name": "ir"
  },
  "language_info": {
   "codemirror_mode": "r",
   "file_extension": ".r",
   "mimetype": "text/x-r-source",
   "name": "R",
   "pygments_lexer": "r",
   "version": "3.6.3"
  }
 },
 "nbformat": 4,
 "nbformat_minor": 4
}

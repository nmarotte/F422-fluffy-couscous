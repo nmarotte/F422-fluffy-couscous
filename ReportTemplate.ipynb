{
 "cells": [
  {
   "cell_type": "markdown",
   "metadata": {},
   "source": [
    "# INFO-F-422 -  Statistical Foundations of Machine Learning \n",
    "\n",
    "### Student 1 - __[antoine.bedaton@ulb.be](mailto:antoine.bedaton@ulb.be) - Student ID 459482__\n",
    "### Student 2 - __[pierre.defraene@ulb.be](mailto:pierre.defraene@ulb.be) - Student ID 463941__\n",
    "### Student 3 - __[nathan.marotte@ulb.be](mailto:nathan.marotte@ulb.be) - Student ID 459274__\n",
    "\n",
    "### Video presentation: www.youtube.com/abcd1234\n",
    "\n",
    "## Project Title\n"
   ]
  },
  {
   "cell_type": "markdown",
   "metadata": {},
   "source": [
    "# Introduction"
   ]
  },
  {
   "cell_type": "markdown",
   "metadata": {},
   "source": [
    "Using data from Taarifa and the Tanzanian Ministry of Water, we are asked to predict which pump are functional, non functional, or functional but need some repairs. The data contains information about each pump (position, region name, population, type of payment, installator, etc ...) and comes in 3 files : \n",
    "\n",
    "- training_set_labels : Contains the list of all id followed by their status (functionning, non functionning or needing repairs)\n",
    "\n",
    "- training_set_values : Contains all the information about each pump with their id that correspond to training_set_labels\n",
    "\n",
    "- test_set_values : The same structure as training_set_values but for which the status is unknown and that we will have to predict.\n",
    "\n",
    "First, we will preprocess the data to remove redundent or useless information. For exemple the name of the pump isn't really relevant for guessing if it is working or not, while the name of the constructor is.\n",
    "\n",
    "Once we reduced the size of the input space, we will run our 3 models on the data, that is training_set_values with their status_group column added.\n",
    "\n",
    "Our group chose the 3 following models : \n",
    "\n",
    "- Decision Tree (rpart library)\n",
    "- Neural Network (nnet library)\n",
    "- Random Forest (randomForest library)\n",
    "\n",
    "Uncomment and execute the following cell to install all the require libraries"
   ]
  },
  {
   "cell_type": "code",
   "execution_count": 1,
   "metadata": {},
   "outputs": [],
   "source": [
    "# install.packages('dummies')\n",
    "# install.packages('rpart')\n",
    "# install.packages('rpart.plot')\n",
    "# install.packages('nnet')\n",
    "# install.packages('randomForest')\n"
   ]
  },
  {
   "cell_type": "markdown",
   "metadata": {},
   "source": [
    "We will be using R in version 3.6.1\n",
    "This can be checked by executing the following cell"
   ]
  },
  {
   "cell_type": "code",
   "execution_count": 2,
   "metadata": {},
   "outputs": [
    {
     "data": {
      "text/html": [
       "'R version 3.6.3 (2020-02-29)'"
      ],
      "text/latex": [
       "'R version 3.6.3 (2020-02-29)'"
      ],
      "text/markdown": [
       "'R version 3.6.3 (2020-02-29)'"
      ],
      "text/plain": [
       "[1] \"R version 3.6.3 (2020-02-29)\""
      ]
     },
     "metadata": {},
     "output_type": "display_data"
    }
   ],
   "source": [
    "R.version$version.string"
   ]
  },
  {
   "cell_type": "markdown",
   "metadata": {},
   "source": [
    "We will use the data provided by the competition \"Pump it Up: Data Mining the Water Table\" available [here](https://www.drivendata.org/competitions/7/pump-it-up-data-mining-the-water-table/])"
   ]
  },
  {
   "cell_type": "code",
   "execution_count": 3,
   "metadata": {},
   "outputs": [],
   "source": [
    "training_set_labels <- read.csv(file = 'data/training_set_labels.csv', stringsAsFactors = T)\n",
    "test_set_values <- read.csv(file = 'data/test_set_values.csv', stringsAsFactors = T)\n",
    "training_set_values <- read.csv(file = 'data/training_set_values.csv', stringsAsFactors = T)\n",
    "\n",
    "#training_set_labels\n",
    "#summary(test_set_values)"
   ]
  },
  {
   "cell_type": "markdown",
   "metadata": {},
   "source": [
    "# Data preprocessing\n",
    "\n",
    "## The raw Data\n",
    "Here is the data as received, as we can see it contains a lot of column and rows, some of which might not be useful"
   ]
  },
  {
   "cell_type": "code",
   "execution_count": 4,
   "metadata": {},
   "outputs": [
    {
     "data": {
      "text/html": [
       "<table class=\"dataframe\">\n",
       "<caption>A data.frame: 59400 × 40</caption>\n",
       "<thead>\n",
       "\t<tr><th scope=col>id</th><th scope=col>amount_tsh</th><th scope=col>date_recorded</th><th scope=col>funder</th><th scope=col>gps_height</th><th scope=col>installer</th><th scope=col>longitude</th><th scope=col>latitude</th><th scope=col>wpt_name</th><th scope=col>num_private</th><th scope=col>...</th><th scope=col>payment_type</th><th scope=col>water_quality</th><th scope=col>quality_group</th><th scope=col>quantity</th><th scope=col>quantity_group</th><th scope=col>source</th><th scope=col>source_type</th><th scope=col>source_class</th><th scope=col>waterpoint_type</th><th scope=col>waterpoint_type_group</th></tr>\n",
       "\t<tr><th scope=col>&lt;int&gt;</th><th scope=col>&lt;dbl&gt;</th><th scope=col>&lt;fct&gt;</th><th scope=col>&lt;fct&gt;</th><th scope=col>&lt;int&gt;</th><th scope=col>&lt;fct&gt;</th><th scope=col>&lt;dbl&gt;</th><th scope=col>&lt;dbl&gt;</th><th scope=col>&lt;fct&gt;</th><th scope=col>&lt;int&gt;</th><th scope=col>...</th><th scope=col>&lt;fct&gt;</th><th scope=col>&lt;fct&gt;</th><th scope=col>&lt;fct&gt;</th><th scope=col>&lt;fct&gt;</th><th scope=col>&lt;fct&gt;</th><th scope=col>&lt;fct&gt;</th><th scope=col>&lt;fct&gt;</th><th scope=col>&lt;fct&gt;</th><th scope=col>&lt;fct&gt;</th><th scope=col>&lt;fct&gt;</th></tr>\n",
       "</thead>\n",
       "<tbody>\n",
       "\t<tr><td>69572</td><td>6000</td><td>2011-03-14</td><td>Roman                   </td><td>1390</td><td>Roman               </td><td>34.93809</td><td> -9.85632177</td><td>none                  </td><td>0</td><td>...</td><td>annually  </td><td>soft   </td><td>good   </td><td>enough      </td><td>enough      </td><td>spring              </td><td>spring              </td><td>groundwater</td><td>communal standpipe         </td><td>communal standpipe</td></tr>\n",
       "\t<tr><td> 8776</td><td>   0</td><td>2013-03-06</td><td>Grumeti                 </td><td>1399</td><td>GRUMETI             </td><td>34.69877</td><td> -2.14746569</td><td>Zahanati              </td><td>0</td><td>...</td><td>never pay </td><td>soft   </td><td>good   </td><td>insufficient</td><td>insufficient</td><td>rainwater harvesting</td><td>rainwater harvesting</td><td>surface    </td><td>communal standpipe         </td><td>communal standpipe</td></tr>\n",
       "\t<tr><td>34310</td><td>  25</td><td>2013-02-25</td><td>Lottery Club            </td><td> 686</td><td>World vision        </td><td>37.46066</td><td> -3.82132853</td><td>Kwa Mahundi           </td><td>0</td><td>...</td><td>per bucket</td><td>soft   </td><td>good   </td><td>enough      </td><td>enough      </td><td>dam                 </td><td>dam                 </td><td>surface    </td><td>communal standpipe multiple</td><td>communal standpipe</td></tr>\n",
       "\t<tr><td>67743</td><td>   0</td><td>2013-01-28</td><td>Unicef                  </td><td> 263</td><td>UNICEF              </td><td>38.48616</td><td>-11.15529772</td><td>Zahanati Ya Nanyumbu  </td><td>0</td><td>...</td><td>never pay </td><td>soft   </td><td>good   </td><td>dry         </td><td>dry         </td><td>machine dbh         </td><td>borehole            </td><td>groundwater</td><td>communal standpipe multiple</td><td>communal standpipe</td></tr>\n",
       "\t<tr><td>19728</td><td>   0</td><td>2011-07-13</td><td>Action In A             </td><td>   0</td><td>Artisan             </td><td>31.13085</td><td> -1.82535885</td><td>Shuleni               </td><td>0</td><td>...</td><td>never pay </td><td>soft   </td><td>good   </td><td>seasonal    </td><td>seasonal    </td><td>rainwater harvesting</td><td>rainwater harvesting</td><td>surface    </td><td>communal standpipe         </td><td>communal standpipe</td></tr>\n",
       "\t<tr><td> 9944</td><td>  20</td><td>2011-03-13</td><td>Mkinga Distric Coun     </td><td>   0</td><td>DWE                 </td><td>39.17280</td><td> -4.76558728</td><td>Tajiri                </td><td>0</td><td>...</td><td>per bucket</td><td>salty  </td><td>salty  </td><td>enough      </td><td>enough      </td><td>other               </td><td>other               </td><td>unknown    </td><td>communal standpipe multiple</td><td>communal standpipe</td></tr>\n",
       "\t<tr><td>19816</td><td>   0</td><td>2012-10-01</td><td>Dwsp                    </td><td>   0</td><td>DWSP                </td><td>33.36241</td><td> -3.76636472</td><td>Kwa Ngomho            </td><td>0</td><td>...</td><td>never pay </td><td>soft   </td><td>good   </td><td>enough      </td><td>enough      </td><td>machine dbh         </td><td>borehole            </td><td>groundwater</td><td>hand pump                  </td><td>hand pump         </td></tr>\n",
       "\t<tr><td>54551</td><td>   0</td><td>2012-10-09</td><td>Rwssp                   </td><td>   0</td><td>DWE                 </td><td>32.62062</td><td> -4.22619802</td><td>Tushirikiane          </td><td>0</td><td>...</td><td>unknown   </td><td>milky  </td><td>milky  </td><td>enough      </td><td>enough      </td><td>shallow well        </td><td>shallow well        </td><td>groundwater</td><td>hand pump                  </td><td>hand pump         </td></tr>\n",
       "\t<tr><td>53934</td><td>   0</td><td>2012-11-03</td><td>Wateraid                </td><td>   0</td><td>Water Aid           </td><td>32.71110</td><td> -5.14671181</td><td>Kwa Ramadhan Musa     </td><td>0</td><td>...</td><td>never pay </td><td>salty  </td><td>salty  </td><td>seasonal    </td><td>seasonal    </td><td>machine dbh         </td><td>borehole            </td><td>groundwater</td><td>hand pump                  </td><td>hand pump         </td></tr>\n",
       "\t<tr><td>46144</td><td>   0</td><td>2011-08-03</td><td>Isingiro Ho             </td><td>   0</td><td>Artisan             </td><td>30.62699</td><td> -1.25705061</td><td>Kwapeto               </td><td>0</td><td>...</td><td>never pay </td><td>soft   </td><td>good   </td><td>enough      </td><td>enough      </td><td>shallow well        </td><td>shallow well        </td><td>groundwater</td><td>hand pump                  </td><td>hand pump         </td></tr>\n",
       "\t<tr><td>49056</td><td>   0</td><td>2011-02-20</td><td>Private                 </td><td>  62</td><td>Private             </td><td>39.20952</td><td> -7.03413939</td><td>Mzee Hokororo         </td><td>0</td><td>...</td><td>never pay </td><td>salty  </td><td>salty  </td><td>enough      </td><td>enough      </td><td>machine dbh         </td><td>borehole            </td><td>groundwater</td><td>other                      </td><td>other             </td></tr>\n",
       "\t<tr><td>50409</td><td> 200</td><td>2013-02-18</td><td>Danida                  </td><td>1062</td><td>DANIDA              </td><td>35.77026</td><td>-10.57417468</td><td>Kwa Alid Nchimbi      </td><td>0</td><td>...</td><td>on failure</td><td>soft   </td><td>good   </td><td>insufficient</td><td>insufficient</td><td>shallow well        </td><td>shallow well        </td><td>groundwater</td><td>hand pump                  </td><td>hand pump         </td></tr>\n",
       "\t<tr><td>36957</td><td>   0</td><td>2012-10-14</td><td>World Vision            </td><td>   0</td><td>World vision        </td><td>33.79811</td><td> -3.29019380</td><td>Pamba                 </td><td>0</td><td>...</td><td>other     </td><td>soft   </td><td>good   </td><td>enough      </td><td>enough      </td><td>shallow well        </td><td>shallow well        </td><td>groundwater</td><td>hand pump                  </td><td>hand pump         </td></tr>\n",
       "\t<tr><td>50495</td><td>   0</td><td>2013-03-15</td><td>Lawatefuka Water Supply </td><td>1368</td><td>Lawatefuka water sup</td><td>37.09257</td><td> -3.18178330</td><td>Kwa John Izack Mmari  </td><td>0</td><td>...</td><td>monthly   </td><td>soft   </td><td>good   </td><td>enough      </td><td>enough      </td><td>spring              </td><td>spring              </td><td>groundwater</td><td>communal standpipe         </td><td>communal standpipe</td></tr>\n",
       "\t<tr><td>53752</td><td>   0</td><td>2012-10-20</td><td>Biore                   </td><td>   0</td><td>WEDECO              </td><td>34.36407</td><td> -3.62933335</td><td>Mwabasabi             </td><td>0</td><td>...</td><td>never pay </td><td>soft   </td><td>good   </td><td>enough      </td><td>enough      </td><td>shallow well        </td><td>shallow well        </td><td>groundwater</td><td>hand pump                  </td><td>hand pump         </td></tr>\n",
       "\t<tr><td>61848</td><td>   0</td><td>2011-08-04</td><td>Rudep                   </td><td>1645</td><td>DWE                 </td><td>31.44412</td><td> -8.27496163</td><td>Kwa Juvenal Ching'Ombe</td><td>0</td><td>...</td><td>never pay </td><td>soft   </td><td>good   </td><td>enough      </td><td>enough      </td><td>machine dbh         </td><td>borehole            </td><td>groundwater</td><td>hand pump                  </td><td>hand pump         </td></tr>\n",
       "\t<tr><td>48451</td><td> 500</td><td>2011-07-04</td><td>Unicef                  </td><td>1703</td><td>DWE                 </td><td>34.64244</td><td> -9.10618458</td><td>Kwa John Mtenzi       </td><td>0</td><td>...</td><td>monthly   </td><td>soft   </td><td>good   </td><td>dry         </td><td>dry         </td><td>river               </td><td>river/lake          </td><td>surface    </td><td>communal standpipe         </td><td>communal standpipe</td></tr>\n",
       "\t<tr><td>58155</td><td>   0</td><td>2011-09-04</td><td>Unicef                  </td><td>1656</td><td>DWE                 </td><td>34.56927</td><td> -9.08551497</td><td>Kwa Rose Chaula       </td><td>0</td><td>...</td><td>on failure</td><td>soft   </td><td>good   </td><td>dry         </td><td>dry         </td><td>river               </td><td>river/lake          </td><td>surface    </td><td>communal standpipe         </td><td>communal standpipe</td></tr>\n",
       "\t<tr><td>34169</td><td>   0</td><td>2011-07-22</td><td>Hesawa                  </td><td>1162</td><td>DWE                 </td><td>32.92015</td><td> -1.94786801</td><td>Ngomee                </td><td>0</td><td>...</td><td>never pay </td><td>milky  </td><td>milky  </td><td>insufficient</td><td>insufficient</td><td>spring              </td><td>spring              </td><td>groundwater</td><td>other                      </td><td>other             </td></tr>\n",
       "\t<tr><td>18274</td><td> 500</td><td>2011-02-22</td><td>Danida                  </td><td>1763</td><td>Danid               </td><td>34.50897</td><td> -9.89441250</td><td>none                  </td><td>0</td><td>...</td><td>annually  </td><td>soft   </td><td>good   </td><td>enough      </td><td>enough      </td><td>spring              </td><td>spring              </td><td>groundwater</td><td>communal standpipe         </td><td>communal standpipe</td></tr>\n",
       "\t<tr><td>48375</td><td> 200</td><td>2011-02-27</td><td>Twe                     </td><td>2216</td><td>TWE                 </td><td>34.47343</td><td> -9.59498965</td><td>none                  </td><td>0</td><td>...</td><td>monthly   </td><td>soft   </td><td>good   </td><td>enough      </td><td>enough      </td><td>spring              </td><td>spring              </td><td>groundwater</td><td>communal standpipe         </td><td>communal standpipe</td></tr>\n",
       "\t<tr><td> 6091</td><td>   0</td><td>2013-02-10</td><td>Dwsp                    </td><td>   0</td><td>DWE                 </td><td> 0.00000</td><td> -0.00000002</td><td>Muungano              </td><td>0</td><td>...</td><td>unknown   </td><td>unknown</td><td>unknown</td><td>unknown     </td><td>unknown     </td><td>shallow well        </td><td>shallow well        </td><td>groundwater</td><td>hand pump                  </td><td>hand pump         </td></tr>\n",
       "\t<tr><td>58500</td><td>   0</td><td>2011-10-04</td><td>Unicef                  </td><td>1510</td><td>DWE                 </td><td>34.58690</td><td> -8.98001429</td><td>Shuleni               </td><td>0</td><td>...</td><td>never pay </td><td>soft   </td><td>good   </td><td>enough      </td><td>enough      </td><td>river               </td><td>river/lake          </td><td>surface    </td><td>communal standpipe         </td><td>communal standpipe</td></tr>\n",
       "\t<tr><td>37862</td><td> 500</td><td>2013-11-03</td><td>Isf                     </td><td> 672</td><td>ISF                 </td><td>37.94003</td><td> -4.12559468</td><td>Kinonga               </td><td>0</td><td>...</td><td>monthly   </td><td>soft   </td><td>good   </td><td>enough      </td><td>enough      </td><td>river               </td><td>river/lake          </td><td>surface    </td><td>communal standpipe         </td><td>communal standpipe</td></tr>\n",
       "\t<tr><td>51058</td><td>   0</td><td>2013-01-21</td><td>African Development Bank</td><td>1645</td><td>DWE                 </td><td>29.74707</td><td> -4.49556758</td><td>Kamsasa               </td><td>0</td><td>...</td><td>unknown   </td><td>soft   </td><td>good   </td><td>enough      </td><td>enough      </td><td>spring              </td><td>spring              </td><td>groundwater</td><td>improved spring            </td><td>improved spring   </td></tr>\n",
       "\t<tr><td>22308</td><td>   0</td><td>2013-02-25</td><td>Government Of Tanzania  </td><td>1273</td><td>DWE                 </td><td>37.42275</td><td> -3.31753648</td><td>Kwa Tukai             </td><td>0</td><td>...</td><td>unknown   </td><td>soft   </td><td>good   </td><td>enough      </td><td>enough      </td><td>spring              </td><td>spring              </td><td>groundwater</td><td>communal standpipe         </td><td>communal standpipe</td></tr>\n",
       "\t<tr><td>55012</td><td> 500</td><td>2013-01-16</td><td>Sobodo                  </td><td> 200</td><td>Kilolo Star         </td><td>39.37078</td><td> -9.94253166</td><td>Ruhoma Primary School </td><td>0</td><td>...</td><td>monthly   </td><td>soft   </td><td>good   </td><td>enough      </td><td>enough      </td><td>machine dbh         </td><td>borehole            </td><td>groundwater</td><td>hand pump                  </td><td>hand pump         </td></tr>\n",
       "\t<tr><td>20145</td><td>   0</td><td>2011-07-11</td><td>Hesawa                  </td><td>   0</td><td>DWE                 </td><td>31.10426</td><td> -1.73536124</td><td>Kwawilliam            </td><td>0</td><td>...</td><td>never pay </td><td>soft   </td><td>good   </td><td>enough      </td><td>enough      </td><td>shallow well        </td><td>shallow well        </td><td>groundwater</td><td>hand pump                  </td><td>hand pump         </td></tr>\n",
       "\t<tr><td>19685</td><td>   0</td><td>2013-03-05</td><td>Government Of Tanzania  </td><td>1443</td><td>District council    </td><td>37.61113</td><td> -3.26352630</td><td>Kwa Kibakaya          </td><td>0</td><td>...</td><td>monthly   </td><td>soft   </td><td>good   </td><td>insufficient</td><td>insufficient</td><td>spring              </td><td>spring              </td><td>groundwater</td><td>communal standpipe         </td><td>communal standpipe</td></tr>\n",
       "\t<tr><td>69124</td><td>   0</td><td>2013-03-16</td><td>Lawatefuka Water Supply </td><td>1256</td><td>Lawatefuka water sup</td><td>37.06169</td><td> -3.19198926</td><td>Kwa Willium Kinda     </td><td>0</td><td>...</td><td>monthly   </td><td>soft   </td><td>good   </td><td>enough      </td><td>enough      </td><td>spring              </td><td>spring              </td><td>groundwater</td><td>communal standpipe         </td><td>communal standpipe</td></tr>\n",
       "\t<tr><td>...</td><td>...</td><td>...</td><td>...</td><td>...</td><td>...</td><td>...</td><td>...</td><td>...</td><td>...</td><td></td><td>...</td><td>...</td><td>...</td><td>...</td><td>...</td><td>...</td><td>...</td><td>...</td><td>...</td><td>...</td></tr>\n",
       "\t<tr><td>14796</td><td>  200</td><td>2013-01-29</td><td>                      </td><td>1154</td><td>          </td><td>30.05873</td><td> -4.90263299</td><td>Village Office           </td><td>0</td><td>...</td><td>monthly   </td><td>unknown </td><td>unknown </td><td>unknown     </td><td>unknown     </td><td>unknown             </td><td>other               </td><td>unknown    </td><td>other                      </td><td>other             </td></tr>\n",
       "\t<tr><td>20387</td><td>    0</td><td>2012-10-09</td><td>Netherlands           </td><td>   0</td><td>DWE       </td><td>33.58641</td><td> -3.04036855</td><td>Ushirika                 </td><td>0</td><td>...</td><td>never pay </td><td>soft    </td><td>good    </td><td>enough      </td><td>enough      </td><td>shallow well        </td><td>shallow well        </td><td>groundwater</td><td>hand pump                  </td><td>hand pump         </td></tr>\n",
       "\t<tr><td>29940</td><td>    0</td><td>2012-10-31</td><td>Tlc                   </td><td>   0</td><td>TLC       </td><td>32.05855</td><td> -5.05210104</td><td>Kwa Mzee Kamanya         </td><td>0</td><td>...</td><td>per bucket</td><td>salty   </td><td>salty   </td><td>insufficient</td><td>insufficient</td><td>shallow well        </td><td>shallow well        </td><td>groundwater</td><td>other                      </td><td>other             </td></tr>\n",
       "\t<tr><td>15233</td><td> 5000</td><td>2013-01-30</td><td>Rudep                 </td><td>1137</td><td>Distri    </td><td>32.12502</td><td> -6.78435778</td><td>Kwa Kadiega              </td><td>0</td><td>...</td><td>annually  </td><td>soft    </td><td>good    </td><td>enough      </td><td>enough      </td><td>machine dbh         </td><td>borehole            </td><td>groundwater</td><td>hand pump                  </td><td>hand pump         </td></tr>\n",
       "\t<tr><td>49651</td><td>    0</td><td>2012-10-29</td><td>Rwssp                 </td><td>   0</td><td>DWE       </td><td> 0.00000</td><td> -0.00000002</td><td>Nguvu Kazi               </td><td>0</td><td>...</td><td>other     </td><td>soft    </td><td>good    </td><td>enough      </td><td>enough      </td><td>shallow well        </td><td>shallow well        </td><td>groundwater</td><td>hand pump                  </td><td>hand pump         </td></tr>\n",
       "\t<tr><td>50998</td><td>40000</td><td>2011-08-03</td><td>Government Of Tanzania</td><td>  54</td><td>DWE       </td><td>39.04694</td><td> -5.06149401</td><td>Sekondari                </td><td>0</td><td>...</td><td>monthly   </td><td>soft    </td><td>good    </td><td>enough      </td><td>enough      </td><td>river               </td><td>river/lake          </td><td>surface    </td><td>communal standpipe         </td><td>communal standpipe</td></tr>\n",
       "\t<tr><td>34716</td><td>    0</td><td>2013-02-03</td><td>                      </td><td>1581</td><td>          </td><td>34.82104</td><td> -5.07625759</td><td>Nasingo                  </td><td>0</td><td>...</td><td>unknown   </td><td>unknown </td><td>unknown </td><td>dry         </td><td>dry         </td><td>shallow well        </td><td>shallow well        </td><td>groundwater</td><td>other                      </td><td>other             </td></tr>\n",
       "\t<tr><td>43986</td><td>    0</td><td>2012-10-23</td><td>Government Of Tanzania</td><td>   0</td><td>Government</td><td>33.43701</td><td> -4.42359381</td><td>Fpct                     </td><td>0</td><td>...</td><td>never pay </td><td>soft    </td><td>good    </td><td>insufficient</td><td>insufficient</td><td>dam                 </td><td>dam                 </td><td>surface    </td><td>communal standpipe multiple</td><td>communal standpipe</td></tr>\n",
       "\t<tr><td>38067</td><td>  500</td><td>2011-03-21</td><td>Rc                    </td><td>2101</td><td>ACRA      </td><td>34.62039</td><td> -9.35840452</td><td>Michael Msigwa           </td><td>0</td><td>...</td><td>monthly   </td><td>soft    </td><td>good    </td><td>enough      </td><td>enough      </td><td>spring              </td><td>spring              </td><td>groundwater</td><td>communal standpipe         </td><td>communal standpipe</td></tr>\n",
       "\t<tr><td>58255</td><td>    0</td><td>2011-07-13</td><td>Do                    </td><td>   0</td><td>DO        </td><td>31.61328</td><td> -1.82022635</td><td>Coffee Plantati          </td><td>0</td><td>...</td><td>never pay </td><td>soft    </td><td>good    </td><td>enough      </td><td>enough      </td><td>spring              </td><td>spring              </td><td>groundwater</td><td>communal standpipe         </td><td>communal standpipe</td></tr>\n",
       "\t<tr><td>30647</td><td> 6000</td><td>2011-03-14</td><td>Roman                 </td><td>1439</td><td>Roman     </td><td>34.94210</td><td> -9.84919761</td><td>none                     </td><td>0</td><td>...</td><td>annually  </td><td>soft    </td><td>good    </td><td>dry         </td><td>dry         </td><td>spring              </td><td>spring              </td><td>groundwater</td><td>communal standpipe         </td><td>communal standpipe</td></tr>\n",
       "\t<tr><td>67885</td><td>    0</td><td>2011-03-16</td><td>Mkinga Distric Coun   </td><td>   0</td><td>DWE       </td><td>38.83500</td><td> -4.88020370</td><td>Mijohoroni               </td><td>0</td><td>...</td><td>never pay </td><td>soft    </td><td>good    </td><td>insufficient</td><td>insufficient</td><td>spring              </td><td>spring              </td><td>groundwater</td><td>communal standpipe         </td><td>communal standpipe</td></tr>\n",
       "\t<tr><td>47002</td><td>    6</td><td>2013-08-03</td><td>Ces(gmbh)             </td><td>1383</td><td>DWE       </td><td>37.45476</td><td> -3.32359911</td><td>Kwa Luka Msaki           </td><td>0</td><td>...</td><td>per bucket</td><td>soft    </td><td>good    </td><td>enough      </td><td>enough      </td><td>spring              </td><td>spring              </td><td>groundwater</td><td>communal standpipe         </td><td>communal standpipe</td></tr>\n",
       "\t<tr><td>44616</td><td>    0</td><td>2013-01-19</td><td>World Bank            </td><td>  11</td><td>World bank</td><td>39.62601</td><td>-10.05749942</td><td>Shuleni                  </td><td>0</td><td>...</td><td>unknown   </td><td>soft    </td><td>good    </td><td>enough      </td><td>enough      </td><td>rainwater harvesting</td><td>rainwater harvesting</td><td>surface    </td><td>hand pump                  </td><td>hand pump         </td></tr>\n",
       "\t<tr><td>72148</td><td>    0</td><td>2011-07-10</td><td>Concern               </td><td>   0</td><td>CONCERN   </td><td>30.66780</td><td> -2.48370953</td><td>Chamkube                 </td><td>0</td><td>...</td><td>never pay </td><td>soft    </td><td>good    </td><td>insufficient</td><td>insufficient</td><td>spring              </td><td>spring              </td><td>groundwater</td><td>communal standpipe         </td><td>communal standpipe</td></tr>\n",
       "\t<tr><td>34473</td><td>  500</td><td>2012-11-03</td><td>Jaica                 </td><td>1327</td><td>JAICA CO  </td><td>33.95168</td><td> -2.02185406</td><td>Kwa Marunda              </td><td>0</td><td>...</td><td>monthly   </td><td>salty   </td><td>salty   </td><td>enough      </td><td>enough      </td><td>machine dbh         </td><td>borehole            </td><td>groundwater</td><td>hand pump                  </td><td>hand pump         </td></tr>\n",
       "\t<tr><td>34952</td><td>    0</td><td>2011-08-22</td><td>Adb                   </td><td>1786</td><td>DWE       </td><td>31.73879</td><td> -8.53201255</td><td>Shule Ya Sekondari Katazi</td><td>0</td><td>...</td><td>never pay </td><td>soft    </td><td>good    </td><td>enough      </td><td>enough      </td><td>machine dbh         </td><td>borehole            </td><td>groundwater</td><td>hand pump                  </td><td>hand pump         </td></tr>\n",
       "\t<tr><td>26640</td><td>  100</td><td>2013-03-12</td><td>0                     </td><td>  25</td><td>0         </td><td>39.17648</td><td> -6.95709837</td><td>Kwa Maliba               </td><td>0</td><td>...</td><td>per bucket</td><td>soft    </td><td>good    </td><td>enough      </td><td>enough      </td><td>machine dbh         </td><td>borehole            </td><td>groundwater</td><td>communal standpipe         </td><td>communal standpipe</td></tr>\n",
       "\t<tr><td>72559</td><td>    0</td><td>2013-01-29</td><td>Kidep                 </td><td>1414</td><td>DWE       </td><td>30.69240</td><td> -3.59382702</td><td>Kwa Philipo Kibeba       </td><td>0</td><td>...</td><td>unknown   </td><td>soft    </td><td>good    </td><td>insufficient</td><td>insufficient</td><td>spring              </td><td>spring              </td><td>groundwater</td><td>improved spring            </td><td>improved spring   </td></tr>\n",
       "\t<tr><td>30410</td><td>    0</td><td>2011-08-06</td><td>Co                    </td><td> 783</td><td>DWE       </td><td>30.64649</td><td> -7.36541790</td><td>Sekondari                </td><td>0</td><td>...</td><td>never pay </td><td>soft    </td><td>good    </td><td>enough      </td><td>enough      </td><td>machine dbh         </td><td>borehole            </td><td>groundwater</td><td>hand pump                  </td><td>hand pump         </td></tr>\n",
       "\t<tr><td>13677</td><td>    0</td><td>2011-08-04</td><td>Rudep                 </td><td>1715</td><td>DWE       </td><td>31.37085</td><td> -8.25816008</td><td>Kwa Mzee Atanas          </td><td>0</td><td>...</td><td>never pay </td><td>soft    </td><td>good    </td><td>insufficient</td><td>insufficient</td><td>machine dbh         </td><td>borehole            </td><td>groundwater</td><td>hand pump                  </td><td>hand pump         </td></tr>\n",
       "\t<tr><td>44885</td><td>    0</td><td>2013-08-03</td><td>Government Of Tanzania</td><td> 540</td><td>Government</td><td>38.04407</td><td> -4.27221758</td><td>Kwa                      </td><td>0</td><td>...</td><td>never pay </td><td>soft    </td><td>good    </td><td>enough      </td><td>enough      </td><td>river               </td><td>river/lake          </td><td>surface    </td><td>communal standpipe         </td><td>communal standpipe</td></tr>\n",
       "\t<tr><td>40607</td><td>    0</td><td>2011-04-15</td><td>Government Of Tanzania</td><td>   0</td><td>Government</td><td>33.00944</td><td> -8.52088818</td><td>Benard Charles           </td><td>0</td><td>...</td><td>never pay </td><td>soft    </td><td>good    </td><td>enough      </td><td>enough      </td><td>spring              </td><td>spring              </td><td>groundwater</td><td>communal standpipe         </td><td>communal standpipe</td></tr>\n",
       "\t<tr><td>48348</td><td>    0</td><td>2012-10-27</td><td>Private               </td><td>   0</td><td>Private   </td><td>33.86685</td><td> -4.28740983</td><td>Kwa Peter                </td><td>0</td><td>...</td><td>per bucket</td><td>soft    </td><td>good    </td><td>insufficient</td><td>insufficient</td><td>dam                 </td><td>dam                 </td><td>surface    </td><td>other                      </td><td>other             </td></tr>\n",
       "\t<tr><td>11164</td><td>  500</td><td>2011-03-09</td><td>World Bank            </td><td> 351</td><td>ML appro  </td><td>37.63405</td><td> -6.12482968</td><td>Chimeredya               </td><td>0</td><td>...</td><td>monthly   </td><td>soft    </td><td>good    </td><td>enough      </td><td>enough      </td><td>machine dbh         </td><td>borehole            </td><td>groundwater</td><td>communal standpipe         </td><td>communal standpipe</td></tr>\n",
       "\t<tr><td>60739</td><td>   10</td><td>2013-05-03</td><td>Germany Republi       </td><td>1210</td><td>CES       </td><td>37.16981</td><td> -3.25384746</td><td>Area Three Namba 27      </td><td>0</td><td>...</td><td>per bucket</td><td>soft    </td><td>good    </td><td>enough      </td><td>enough      </td><td>spring              </td><td>spring              </td><td>groundwater</td><td>communal standpipe         </td><td>communal standpipe</td></tr>\n",
       "\t<tr><td>27263</td><td> 4700</td><td>2011-05-07</td><td>Cefa-njombe           </td><td>1212</td><td>Cefa      </td><td>35.24999</td><td> -9.07062880</td><td>Kwa Yahona Kuvala        </td><td>0</td><td>...</td><td>annually  </td><td>soft    </td><td>good    </td><td>enough      </td><td>enough      </td><td>river               </td><td>river/lake          </td><td>surface    </td><td>communal standpipe         </td><td>communal standpipe</td></tr>\n",
       "\t<tr><td>37057</td><td>    0</td><td>2011-04-11</td><td>                      </td><td>   0</td><td>          </td><td>34.01709</td><td> -8.75043433</td><td>Mashine                  </td><td>0</td><td>...</td><td>monthly   </td><td>fluoride</td><td>fluoride</td><td>enough      </td><td>enough      </td><td>machine dbh         </td><td>borehole            </td><td>groundwater</td><td>hand pump                  </td><td>hand pump         </td></tr>\n",
       "\t<tr><td>31282</td><td>    0</td><td>2011-03-08</td><td>Malec                 </td><td>   0</td><td>Musa      </td><td>35.86132</td><td> -6.37857327</td><td>Mshoro                   </td><td>0</td><td>...</td><td>never pay </td><td>soft    </td><td>good    </td><td>insufficient</td><td>insufficient</td><td>shallow well        </td><td>shallow well        </td><td>groundwater</td><td>hand pump                  </td><td>hand pump         </td></tr>\n",
       "\t<tr><td>26348</td><td>    0</td><td>2011-03-23</td><td>World Bank            </td><td> 191</td><td>World     </td><td>38.10405</td><td> -6.74746425</td><td>Kwa Mzee Lugawa          </td><td>0</td><td>...</td><td>on failure</td><td>salty   </td><td>salty   </td><td>enough      </td><td>enough      </td><td>shallow well        </td><td>shallow well        </td><td>groundwater</td><td>hand pump                  </td><td>hand pump         </td></tr>\n",
       "</tbody>\n",
       "</table>\n"
      ],
      "text/latex": [
       "A data.frame: 59400 × 40\n",
       "\\begin{tabular}{lllllllllllllllllllll}\n",
       " id & amount\\_tsh & date\\_recorded & funder & gps\\_height & installer & longitude & latitude & wpt\\_name & num\\_private & ... & payment\\_type & water\\_quality & quality\\_group & quantity & quantity\\_group & source & source\\_type & source\\_class & waterpoint\\_type & waterpoint\\_type\\_group\\\\\n",
       " <int> & <dbl> & <fct> & <fct> & <int> & <fct> & <dbl> & <dbl> & <fct> & <int> & ... & <fct> & <fct> & <fct> & <fct> & <fct> & <fct> & <fct> & <fct> & <fct> & <fct>\\\\\n",
       "\\hline\n",
       "\t 69572 & 6000 & 2011-03-14 & Roman                    & 1390 & Roman                & 34.93809 &  -9.85632177 & none                   & 0 & ... & annually   & soft    & good    & enough       & enough       & spring               & spring               & groundwater & communal standpipe          & communal standpipe\\\\\n",
       "\t  8776 &    0 & 2013-03-06 & Grumeti                  & 1399 & GRUMETI              & 34.69877 &  -2.14746569 & Zahanati               & 0 & ... & never pay  & soft    & good    & insufficient & insufficient & rainwater harvesting & rainwater harvesting & surface     & communal standpipe          & communal standpipe\\\\\n",
       "\t 34310 &   25 & 2013-02-25 & Lottery Club             &  686 & World vision         & 37.46066 &  -3.82132853 & Kwa Mahundi            & 0 & ... & per bucket & soft    & good    & enough       & enough       & dam                  & dam                  & surface     & communal standpipe multiple & communal standpipe\\\\\n",
       "\t 67743 &    0 & 2013-01-28 & Unicef                   &  263 & UNICEF               & 38.48616 & -11.15529772 & Zahanati Ya Nanyumbu   & 0 & ... & never pay  & soft    & good    & dry          & dry          & machine dbh          & borehole             & groundwater & communal standpipe multiple & communal standpipe\\\\\n",
       "\t 19728 &    0 & 2011-07-13 & Action In A              &    0 & Artisan              & 31.13085 &  -1.82535885 & Shuleni                & 0 & ... & never pay  & soft    & good    & seasonal     & seasonal     & rainwater harvesting & rainwater harvesting & surface     & communal standpipe          & communal standpipe\\\\\n",
       "\t  9944 &   20 & 2011-03-13 & Mkinga Distric Coun      &    0 & DWE                  & 39.17280 &  -4.76558728 & Tajiri                 & 0 & ... & per bucket & salty   & salty   & enough       & enough       & other                & other                & unknown     & communal standpipe multiple & communal standpipe\\\\\n",
       "\t 19816 &    0 & 2012-10-01 & Dwsp                     &    0 & DWSP                 & 33.36241 &  -3.76636472 & Kwa Ngomho             & 0 & ... & never pay  & soft    & good    & enough       & enough       & machine dbh          & borehole             & groundwater & hand pump                   & hand pump         \\\\\n",
       "\t 54551 &    0 & 2012-10-09 & Rwssp                    &    0 & DWE                  & 32.62062 &  -4.22619802 & Tushirikiane           & 0 & ... & unknown    & milky   & milky   & enough       & enough       & shallow well         & shallow well         & groundwater & hand pump                   & hand pump         \\\\\n",
       "\t 53934 &    0 & 2012-11-03 & Wateraid                 &    0 & Water Aid            & 32.71110 &  -5.14671181 & Kwa Ramadhan Musa      & 0 & ... & never pay  & salty   & salty   & seasonal     & seasonal     & machine dbh          & borehole             & groundwater & hand pump                   & hand pump         \\\\\n",
       "\t 46144 &    0 & 2011-08-03 & Isingiro Ho              &    0 & Artisan              & 30.62699 &  -1.25705061 & Kwapeto                & 0 & ... & never pay  & soft    & good    & enough       & enough       & shallow well         & shallow well         & groundwater & hand pump                   & hand pump         \\\\\n",
       "\t 49056 &    0 & 2011-02-20 & Private                  &   62 & Private              & 39.20952 &  -7.03413939 & Mzee Hokororo          & 0 & ... & never pay  & salty   & salty   & enough       & enough       & machine dbh          & borehole             & groundwater & other                       & other             \\\\\n",
       "\t 50409 &  200 & 2013-02-18 & Danida                   & 1062 & DANIDA               & 35.77026 & -10.57417468 & Kwa Alid Nchimbi       & 0 & ... & on failure & soft    & good    & insufficient & insufficient & shallow well         & shallow well         & groundwater & hand pump                   & hand pump         \\\\\n",
       "\t 36957 &    0 & 2012-10-14 & World Vision             &    0 & World vision         & 33.79811 &  -3.29019380 & Pamba                  & 0 & ... & other      & soft    & good    & enough       & enough       & shallow well         & shallow well         & groundwater & hand pump                   & hand pump         \\\\\n",
       "\t 50495 &    0 & 2013-03-15 & Lawatefuka Water Supply  & 1368 & Lawatefuka water sup & 37.09257 &  -3.18178330 & Kwa John Izack Mmari   & 0 & ... & monthly    & soft    & good    & enough       & enough       & spring               & spring               & groundwater & communal standpipe          & communal standpipe\\\\\n",
       "\t 53752 &    0 & 2012-10-20 & Biore                    &    0 & WEDECO               & 34.36407 &  -3.62933335 & Mwabasabi              & 0 & ... & never pay  & soft    & good    & enough       & enough       & shallow well         & shallow well         & groundwater & hand pump                   & hand pump         \\\\\n",
       "\t 61848 &    0 & 2011-08-04 & Rudep                    & 1645 & DWE                  & 31.44412 &  -8.27496163 & Kwa Juvenal Ching'Ombe & 0 & ... & never pay  & soft    & good    & enough       & enough       & machine dbh          & borehole             & groundwater & hand pump                   & hand pump         \\\\\n",
       "\t 48451 &  500 & 2011-07-04 & Unicef                   & 1703 & DWE                  & 34.64244 &  -9.10618458 & Kwa John Mtenzi        & 0 & ... & monthly    & soft    & good    & dry          & dry          & river                & river/lake           & surface     & communal standpipe          & communal standpipe\\\\\n",
       "\t 58155 &    0 & 2011-09-04 & Unicef                   & 1656 & DWE                  & 34.56927 &  -9.08551497 & Kwa Rose Chaula        & 0 & ... & on failure & soft    & good    & dry          & dry          & river                & river/lake           & surface     & communal standpipe          & communal standpipe\\\\\n",
       "\t 34169 &    0 & 2011-07-22 & Hesawa                   & 1162 & DWE                  & 32.92015 &  -1.94786801 & Ngomee                 & 0 & ... & never pay  & milky   & milky   & insufficient & insufficient & spring               & spring               & groundwater & other                       & other             \\\\\n",
       "\t 18274 &  500 & 2011-02-22 & Danida                   & 1763 & Danid                & 34.50897 &  -9.89441250 & none                   & 0 & ... & annually   & soft    & good    & enough       & enough       & spring               & spring               & groundwater & communal standpipe          & communal standpipe\\\\\n",
       "\t 48375 &  200 & 2011-02-27 & Twe                      & 2216 & TWE                  & 34.47343 &  -9.59498965 & none                   & 0 & ... & monthly    & soft    & good    & enough       & enough       & spring               & spring               & groundwater & communal standpipe          & communal standpipe\\\\\n",
       "\t  6091 &    0 & 2013-02-10 & Dwsp                     &    0 & DWE                  &  0.00000 &  -0.00000002 & Muungano               & 0 & ... & unknown    & unknown & unknown & unknown      & unknown      & shallow well         & shallow well         & groundwater & hand pump                   & hand pump         \\\\\n",
       "\t 58500 &    0 & 2011-10-04 & Unicef                   & 1510 & DWE                  & 34.58690 &  -8.98001429 & Shuleni                & 0 & ... & never pay  & soft    & good    & enough       & enough       & river                & river/lake           & surface     & communal standpipe          & communal standpipe\\\\\n",
       "\t 37862 &  500 & 2013-11-03 & Isf                      &  672 & ISF                  & 37.94003 &  -4.12559468 & Kinonga                & 0 & ... & monthly    & soft    & good    & enough       & enough       & river                & river/lake           & surface     & communal standpipe          & communal standpipe\\\\\n",
       "\t 51058 &    0 & 2013-01-21 & African Development Bank & 1645 & DWE                  & 29.74707 &  -4.49556758 & Kamsasa                & 0 & ... & unknown    & soft    & good    & enough       & enough       & spring               & spring               & groundwater & improved spring             & improved spring   \\\\\n",
       "\t 22308 &    0 & 2013-02-25 & Government Of Tanzania   & 1273 & DWE                  & 37.42275 &  -3.31753648 & Kwa Tukai              & 0 & ... & unknown    & soft    & good    & enough       & enough       & spring               & spring               & groundwater & communal standpipe          & communal standpipe\\\\\n",
       "\t 55012 &  500 & 2013-01-16 & Sobodo                   &  200 & Kilolo Star          & 39.37078 &  -9.94253166 & Ruhoma Primary School  & 0 & ... & monthly    & soft    & good    & enough       & enough       & machine dbh          & borehole             & groundwater & hand pump                   & hand pump         \\\\\n",
       "\t 20145 &    0 & 2011-07-11 & Hesawa                   &    0 & DWE                  & 31.10426 &  -1.73536124 & Kwawilliam             & 0 & ... & never pay  & soft    & good    & enough       & enough       & shallow well         & shallow well         & groundwater & hand pump                   & hand pump         \\\\\n",
       "\t 19685 &    0 & 2013-03-05 & Government Of Tanzania   & 1443 & District council     & 37.61113 &  -3.26352630 & Kwa Kibakaya           & 0 & ... & monthly    & soft    & good    & insufficient & insufficient & spring               & spring               & groundwater & communal standpipe          & communal standpipe\\\\\n",
       "\t 69124 &    0 & 2013-03-16 & Lawatefuka Water Supply  & 1256 & Lawatefuka water sup & 37.06169 &  -3.19198926 & Kwa Willium Kinda      & 0 & ... & monthly    & soft    & good    & enough       & enough       & spring               & spring               & groundwater & communal standpipe          & communal standpipe\\\\\n",
       "\t ... & ... & ... & ... & ... & ... & ... & ... & ... & ... &  & ... & ... & ... & ... & ... & ... & ... & ... & ... & ...\\\\\n",
       "\t 14796 &   200 & 2013-01-29 &                        & 1154 &            & 30.05873 &  -4.90263299 & Village Office            & 0 & ... & monthly    & unknown  & unknown  & unknown      & unknown      & unknown              & other                & unknown     & other                       & other             \\\\\n",
       "\t 20387 &     0 & 2012-10-09 & Netherlands            &    0 & DWE        & 33.58641 &  -3.04036855 & Ushirika                  & 0 & ... & never pay  & soft     & good     & enough       & enough       & shallow well         & shallow well         & groundwater & hand pump                   & hand pump         \\\\\n",
       "\t 29940 &     0 & 2012-10-31 & Tlc                    &    0 & TLC        & 32.05855 &  -5.05210104 & Kwa Mzee Kamanya          & 0 & ... & per bucket & salty    & salty    & insufficient & insufficient & shallow well         & shallow well         & groundwater & other                       & other             \\\\\n",
       "\t 15233 &  5000 & 2013-01-30 & Rudep                  & 1137 & Distri     & 32.12502 &  -6.78435778 & Kwa Kadiega               & 0 & ... & annually   & soft     & good     & enough       & enough       & machine dbh          & borehole             & groundwater & hand pump                   & hand pump         \\\\\n",
       "\t 49651 &     0 & 2012-10-29 & Rwssp                  &    0 & DWE        &  0.00000 &  -0.00000002 & Nguvu Kazi                & 0 & ... & other      & soft     & good     & enough       & enough       & shallow well         & shallow well         & groundwater & hand pump                   & hand pump         \\\\\n",
       "\t 50998 & 40000 & 2011-08-03 & Government Of Tanzania &   54 & DWE        & 39.04694 &  -5.06149401 & Sekondari                 & 0 & ... & monthly    & soft     & good     & enough       & enough       & river                & river/lake           & surface     & communal standpipe          & communal standpipe\\\\\n",
       "\t 34716 &     0 & 2013-02-03 &                        & 1581 &            & 34.82104 &  -5.07625759 & Nasingo                   & 0 & ... & unknown    & unknown  & unknown  & dry          & dry          & shallow well         & shallow well         & groundwater & other                       & other             \\\\\n",
       "\t 43986 &     0 & 2012-10-23 & Government Of Tanzania &    0 & Government & 33.43701 &  -4.42359381 & Fpct                      & 0 & ... & never pay  & soft     & good     & insufficient & insufficient & dam                  & dam                  & surface     & communal standpipe multiple & communal standpipe\\\\\n",
       "\t 38067 &   500 & 2011-03-21 & Rc                     & 2101 & ACRA       & 34.62039 &  -9.35840452 & Michael Msigwa            & 0 & ... & monthly    & soft     & good     & enough       & enough       & spring               & spring               & groundwater & communal standpipe          & communal standpipe\\\\\n",
       "\t 58255 &     0 & 2011-07-13 & Do                     &    0 & DO         & 31.61328 &  -1.82022635 & Coffee Plantati           & 0 & ... & never pay  & soft     & good     & enough       & enough       & spring               & spring               & groundwater & communal standpipe          & communal standpipe\\\\\n",
       "\t 30647 &  6000 & 2011-03-14 & Roman                  & 1439 & Roman      & 34.94210 &  -9.84919761 & none                      & 0 & ... & annually   & soft     & good     & dry          & dry          & spring               & spring               & groundwater & communal standpipe          & communal standpipe\\\\\n",
       "\t 67885 &     0 & 2011-03-16 & Mkinga Distric Coun    &    0 & DWE        & 38.83500 &  -4.88020370 & Mijohoroni                & 0 & ... & never pay  & soft     & good     & insufficient & insufficient & spring               & spring               & groundwater & communal standpipe          & communal standpipe\\\\\n",
       "\t 47002 &     6 & 2013-08-03 & Ces(gmbh)              & 1383 & DWE        & 37.45476 &  -3.32359911 & Kwa Luka Msaki            & 0 & ... & per bucket & soft     & good     & enough       & enough       & spring               & spring               & groundwater & communal standpipe          & communal standpipe\\\\\n",
       "\t 44616 &     0 & 2013-01-19 & World Bank             &   11 & World bank & 39.62601 & -10.05749942 & Shuleni                   & 0 & ... & unknown    & soft     & good     & enough       & enough       & rainwater harvesting & rainwater harvesting & surface     & hand pump                   & hand pump         \\\\\n",
       "\t 72148 &     0 & 2011-07-10 & Concern                &    0 & CONCERN    & 30.66780 &  -2.48370953 & Chamkube                  & 0 & ... & never pay  & soft     & good     & insufficient & insufficient & spring               & spring               & groundwater & communal standpipe          & communal standpipe\\\\\n",
       "\t 34473 &   500 & 2012-11-03 & Jaica                  & 1327 & JAICA CO   & 33.95168 &  -2.02185406 & Kwa Marunda               & 0 & ... & monthly    & salty    & salty    & enough       & enough       & machine dbh          & borehole             & groundwater & hand pump                   & hand pump         \\\\\n",
       "\t 34952 &     0 & 2011-08-22 & Adb                    & 1786 & DWE        & 31.73879 &  -8.53201255 & Shule Ya Sekondari Katazi & 0 & ... & never pay  & soft     & good     & enough       & enough       & machine dbh          & borehole             & groundwater & hand pump                   & hand pump         \\\\\n",
       "\t 26640 &   100 & 2013-03-12 & 0                      &   25 & 0          & 39.17648 &  -6.95709837 & Kwa Maliba                & 0 & ... & per bucket & soft     & good     & enough       & enough       & machine dbh          & borehole             & groundwater & communal standpipe          & communal standpipe\\\\\n",
       "\t 72559 &     0 & 2013-01-29 & Kidep                  & 1414 & DWE        & 30.69240 &  -3.59382702 & Kwa Philipo Kibeba        & 0 & ... & unknown    & soft     & good     & insufficient & insufficient & spring               & spring               & groundwater & improved spring             & improved spring   \\\\\n",
       "\t 30410 &     0 & 2011-08-06 & Co                     &  783 & DWE        & 30.64649 &  -7.36541790 & Sekondari                 & 0 & ... & never pay  & soft     & good     & enough       & enough       & machine dbh          & borehole             & groundwater & hand pump                   & hand pump         \\\\\n",
       "\t 13677 &     0 & 2011-08-04 & Rudep                  & 1715 & DWE        & 31.37085 &  -8.25816008 & Kwa Mzee Atanas           & 0 & ... & never pay  & soft     & good     & insufficient & insufficient & machine dbh          & borehole             & groundwater & hand pump                   & hand pump         \\\\\n",
       "\t 44885 &     0 & 2013-08-03 & Government Of Tanzania &  540 & Government & 38.04407 &  -4.27221758 & Kwa                       & 0 & ... & never pay  & soft     & good     & enough       & enough       & river                & river/lake           & surface     & communal standpipe          & communal standpipe\\\\\n",
       "\t 40607 &     0 & 2011-04-15 & Government Of Tanzania &    0 & Government & 33.00944 &  -8.52088818 & Benard Charles            & 0 & ... & never pay  & soft     & good     & enough       & enough       & spring               & spring               & groundwater & communal standpipe          & communal standpipe\\\\\n",
       "\t 48348 &     0 & 2012-10-27 & Private                &    0 & Private    & 33.86685 &  -4.28740983 & Kwa Peter                 & 0 & ... & per bucket & soft     & good     & insufficient & insufficient & dam                  & dam                  & surface     & other                       & other             \\\\\n",
       "\t 11164 &   500 & 2011-03-09 & World Bank             &  351 & ML appro   & 37.63405 &  -6.12482968 & Chimeredya                & 0 & ... & monthly    & soft     & good     & enough       & enough       & machine dbh          & borehole             & groundwater & communal standpipe          & communal standpipe\\\\\n",
       "\t 60739 &    10 & 2013-05-03 & Germany Republi        & 1210 & CES        & 37.16981 &  -3.25384746 & Area Three Namba 27       & 0 & ... & per bucket & soft     & good     & enough       & enough       & spring               & spring               & groundwater & communal standpipe          & communal standpipe\\\\\n",
       "\t 27263 &  4700 & 2011-05-07 & Cefa-njombe            & 1212 & Cefa       & 35.24999 &  -9.07062880 & Kwa Yahona Kuvala         & 0 & ... & annually   & soft     & good     & enough       & enough       & river                & river/lake           & surface     & communal standpipe          & communal standpipe\\\\\n",
       "\t 37057 &     0 & 2011-04-11 &                        &    0 &            & 34.01709 &  -8.75043433 & Mashine                   & 0 & ... & monthly    & fluoride & fluoride & enough       & enough       & machine dbh          & borehole             & groundwater & hand pump                   & hand pump         \\\\\n",
       "\t 31282 &     0 & 2011-03-08 & Malec                  &    0 & Musa       & 35.86132 &  -6.37857327 & Mshoro                    & 0 & ... & never pay  & soft     & good     & insufficient & insufficient & shallow well         & shallow well         & groundwater & hand pump                   & hand pump         \\\\\n",
       "\t 26348 &     0 & 2011-03-23 & World Bank             &  191 & World      & 38.10405 &  -6.74746425 & Kwa Mzee Lugawa           & 0 & ... & on failure & salty    & salty    & enough       & enough       & shallow well         & shallow well         & groundwater & hand pump                   & hand pump         \\\\\n",
       "\\end{tabular}\n"
      ],
      "text/markdown": [
       "\n",
       "A data.frame: 59400 × 40\n",
       "\n",
       "| id &lt;int&gt; | amount_tsh &lt;dbl&gt; | date_recorded &lt;fct&gt; | funder &lt;fct&gt; | gps_height &lt;int&gt; | installer &lt;fct&gt; | longitude &lt;dbl&gt; | latitude &lt;dbl&gt; | wpt_name &lt;fct&gt; | num_private &lt;int&gt; | ... ... | payment_type &lt;fct&gt; | water_quality &lt;fct&gt; | quality_group &lt;fct&gt; | quantity &lt;fct&gt; | quantity_group &lt;fct&gt; | source &lt;fct&gt; | source_type &lt;fct&gt; | source_class &lt;fct&gt; | waterpoint_type &lt;fct&gt; | waterpoint_type_group &lt;fct&gt; |\n",
       "|---|---|---|---|---|---|---|---|---|---|---|---|---|---|---|---|---|---|---|---|---|\n",
       "| 69572 | 6000 | 2011-03-14 | Roman                    | 1390 | Roman                | 34.93809 |  -9.85632177 | none                   | 0 | ... | annually   | soft    | good    | enough       | enough       | spring               | spring               | groundwater | communal standpipe          | communal standpipe |\n",
       "|  8776 |    0 | 2013-03-06 | Grumeti                  | 1399 | GRUMETI              | 34.69877 |  -2.14746569 | Zahanati               | 0 | ... | never pay  | soft    | good    | insufficient | insufficient | rainwater harvesting | rainwater harvesting | surface     | communal standpipe          | communal standpipe |\n",
       "| 34310 |   25 | 2013-02-25 | Lottery Club             |  686 | World vision         | 37.46066 |  -3.82132853 | Kwa Mahundi            | 0 | ... | per bucket | soft    | good    | enough       | enough       | dam                  | dam                  | surface     | communal standpipe multiple | communal standpipe |\n",
       "| 67743 |    0 | 2013-01-28 | Unicef                   |  263 | UNICEF               | 38.48616 | -11.15529772 | Zahanati Ya Nanyumbu   | 0 | ... | never pay  | soft    | good    | dry          | dry          | machine dbh          | borehole             | groundwater | communal standpipe multiple | communal standpipe |\n",
       "| 19728 |    0 | 2011-07-13 | Action In A              |    0 | Artisan              | 31.13085 |  -1.82535885 | Shuleni                | 0 | ... | never pay  | soft    | good    | seasonal     | seasonal     | rainwater harvesting | rainwater harvesting | surface     | communal standpipe          | communal standpipe |\n",
       "|  9944 |   20 | 2011-03-13 | Mkinga Distric Coun      |    0 | DWE                  | 39.17280 |  -4.76558728 | Tajiri                 | 0 | ... | per bucket | salty   | salty   | enough       | enough       | other                | other                | unknown     | communal standpipe multiple | communal standpipe |\n",
       "| 19816 |    0 | 2012-10-01 | Dwsp                     |    0 | DWSP                 | 33.36241 |  -3.76636472 | Kwa Ngomho             | 0 | ... | never pay  | soft    | good    | enough       | enough       | machine dbh          | borehole             | groundwater | hand pump                   | hand pump          |\n",
       "| 54551 |    0 | 2012-10-09 | Rwssp                    |    0 | DWE                  | 32.62062 |  -4.22619802 | Tushirikiane           | 0 | ... | unknown    | milky   | milky   | enough       | enough       | shallow well         | shallow well         | groundwater | hand pump                   | hand pump          |\n",
       "| 53934 |    0 | 2012-11-03 | Wateraid                 |    0 | Water Aid            | 32.71110 |  -5.14671181 | Kwa Ramadhan Musa      | 0 | ... | never pay  | salty   | salty   | seasonal     | seasonal     | machine dbh          | borehole             | groundwater | hand pump                   | hand pump          |\n",
       "| 46144 |    0 | 2011-08-03 | Isingiro Ho              |    0 | Artisan              | 30.62699 |  -1.25705061 | Kwapeto                | 0 | ... | never pay  | soft    | good    | enough       | enough       | shallow well         | shallow well         | groundwater | hand pump                   | hand pump          |\n",
       "| 49056 |    0 | 2011-02-20 | Private                  |   62 | Private              | 39.20952 |  -7.03413939 | Mzee Hokororo          | 0 | ... | never pay  | salty   | salty   | enough       | enough       | machine dbh          | borehole             | groundwater | other                       | other              |\n",
       "| 50409 |  200 | 2013-02-18 | Danida                   | 1062 | DANIDA               | 35.77026 | -10.57417468 | Kwa Alid Nchimbi       | 0 | ... | on failure | soft    | good    | insufficient | insufficient | shallow well         | shallow well         | groundwater | hand pump                   | hand pump          |\n",
       "| 36957 |    0 | 2012-10-14 | World Vision             |    0 | World vision         | 33.79811 |  -3.29019380 | Pamba                  | 0 | ... | other      | soft    | good    | enough       | enough       | shallow well         | shallow well         | groundwater | hand pump                   | hand pump          |\n",
       "| 50495 |    0 | 2013-03-15 | Lawatefuka Water Supply  | 1368 | Lawatefuka water sup | 37.09257 |  -3.18178330 | Kwa John Izack Mmari   | 0 | ... | monthly    | soft    | good    | enough       | enough       | spring               | spring               | groundwater | communal standpipe          | communal standpipe |\n",
       "| 53752 |    0 | 2012-10-20 | Biore                    |    0 | WEDECO               | 34.36407 |  -3.62933335 | Mwabasabi              | 0 | ... | never pay  | soft    | good    | enough       | enough       | shallow well         | shallow well         | groundwater | hand pump                   | hand pump          |\n",
       "| 61848 |    0 | 2011-08-04 | Rudep                    | 1645 | DWE                  | 31.44412 |  -8.27496163 | Kwa Juvenal Ching'Ombe | 0 | ... | never pay  | soft    | good    | enough       | enough       | machine dbh          | borehole             | groundwater | hand pump                   | hand pump          |\n",
       "| 48451 |  500 | 2011-07-04 | Unicef                   | 1703 | DWE                  | 34.64244 |  -9.10618458 | Kwa John Mtenzi        | 0 | ... | monthly    | soft    | good    | dry          | dry          | river                | river/lake           | surface     | communal standpipe          | communal standpipe |\n",
       "| 58155 |    0 | 2011-09-04 | Unicef                   | 1656 | DWE                  | 34.56927 |  -9.08551497 | Kwa Rose Chaula        | 0 | ... | on failure | soft    | good    | dry          | dry          | river                | river/lake           | surface     | communal standpipe          | communal standpipe |\n",
       "| 34169 |    0 | 2011-07-22 | Hesawa                   | 1162 | DWE                  | 32.92015 |  -1.94786801 | Ngomee                 | 0 | ... | never pay  | milky   | milky   | insufficient | insufficient | spring               | spring               | groundwater | other                       | other              |\n",
       "| 18274 |  500 | 2011-02-22 | Danida                   | 1763 | Danid                | 34.50897 |  -9.89441250 | none                   | 0 | ... | annually   | soft    | good    | enough       | enough       | spring               | spring               | groundwater | communal standpipe          | communal standpipe |\n",
       "| 48375 |  200 | 2011-02-27 | Twe                      | 2216 | TWE                  | 34.47343 |  -9.59498965 | none                   | 0 | ... | monthly    | soft    | good    | enough       | enough       | spring               | spring               | groundwater | communal standpipe          | communal standpipe |\n",
       "|  6091 |    0 | 2013-02-10 | Dwsp                     |    0 | DWE                  |  0.00000 |  -0.00000002 | Muungano               | 0 | ... | unknown    | unknown | unknown | unknown      | unknown      | shallow well         | shallow well         | groundwater | hand pump                   | hand pump          |\n",
       "| 58500 |    0 | 2011-10-04 | Unicef                   | 1510 | DWE                  | 34.58690 |  -8.98001429 | Shuleni                | 0 | ... | never pay  | soft    | good    | enough       | enough       | river                | river/lake           | surface     | communal standpipe          | communal standpipe |\n",
       "| 37862 |  500 | 2013-11-03 | Isf                      |  672 | ISF                  | 37.94003 |  -4.12559468 | Kinonga                | 0 | ... | monthly    | soft    | good    | enough       | enough       | river                | river/lake           | surface     | communal standpipe          | communal standpipe |\n",
       "| 51058 |    0 | 2013-01-21 | African Development Bank | 1645 | DWE                  | 29.74707 |  -4.49556758 | Kamsasa                | 0 | ... | unknown    | soft    | good    | enough       | enough       | spring               | spring               | groundwater | improved spring             | improved spring    |\n",
       "| 22308 |    0 | 2013-02-25 | Government Of Tanzania   | 1273 | DWE                  | 37.42275 |  -3.31753648 | Kwa Tukai              | 0 | ... | unknown    | soft    | good    | enough       | enough       | spring               | spring               | groundwater | communal standpipe          | communal standpipe |\n",
       "| 55012 |  500 | 2013-01-16 | Sobodo                   |  200 | Kilolo Star          | 39.37078 |  -9.94253166 | Ruhoma Primary School  | 0 | ... | monthly    | soft    | good    | enough       | enough       | machine dbh          | borehole             | groundwater | hand pump                   | hand pump          |\n",
       "| 20145 |    0 | 2011-07-11 | Hesawa                   |    0 | DWE                  | 31.10426 |  -1.73536124 | Kwawilliam             | 0 | ... | never pay  | soft    | good    | enough       | enough       | shallow well         | shallow well         | groundwater | hand pump                   | hand pump          |\n",
       "| 19685 |    0 | 2013-03-05 | Government Of Tanzania   | 1443 | District council     | 37.61113 |  -3.26352630 | Kwa Kibakaya           | 0 | ... | monthly    | soft    | good    | insufficient | insufficient | spring               | spring               | groundwater | communal standpipe          | communal standpipe |\n",
       "| 69124 |    0 | 2013-03-16 | Lawatefuka Water Supply  | 1256 | Lawatefuka water sup | 37.06169 |  -3.19198926 | Kwa Willium Kinda      | 0 | ... | monthly    | soft    | good    | enough       | enough       | spring               | spring               | groundwater | communal standpipe          | communal standpipe |\n",
       "| ... | ... | ... | ... | ... | ... | ... | ... | ... | ... | <!----> | ... | ... | ... | ... | ... | ... | ... | ... | ... | ... |\n",
       "| 14796 |   200 | 2013-01-29 | <!----> | 1154 | <!----> | 30.05873 |  -4.90263299 | Village Office            | 0 | ... | monthly    | unknown  | unknown  | unknown      | unknown      | unknown              | other                | unknown     | other                       | other              |\n",
       "| 20387 |     0 | 2012-10-09 | Netherlands            |    0 | DWE        | 33.58641 |  -3.04036855 | Ushirika                  | 0 | ... | never pay  | soft     | good     | enough       | enough       | shallow well         | shallow well         | groundwater | hand pump                   | hand pump          |\n",
       "| 29940 |     0 | 2012-10-31 | Tlc                    |    0 | TLC        | 32.05855 |  -5.05210104 | Kwa Mzee Kamanya          | 0 | ... | per bucket | salty    | salty    | insufficient | insufficient | shallow well         | shallow well         | groundwater | other                       | other              |\n",
       "| 15233 |  5000 | 2013-01-30 | Rudep                  | 1137 | Distri     | 32.12502 |  -6.78435778 | Kwa Kadiega               | 0 | ... | annually   | soft     | good     | enough       | enough       | machine dbh          | borehole             | groundwater | hand pump                   | hand pump          |\n",
       "| 49651 |     0 | 2012-10-29 | Rwssp                  |    0 | DWE        |  0.00000 |  -0.00000002 | Nguvu Kazi                | 0 | ... | other      | soft     | good     | enough       | enough       | shallow well         | shallow well         | groundwater | hand pump                   | hand pump          |\n",
       "| 50998 | 40000 | 2011-08-03 | Government Of Tanzania |   54 | DWE        | 39.04694 |  -5.06149401 | Sekondari                 | 0 | ... | monthly    | soft     | good     | enough       | enough       | river                | river/lake           | surface     | communal standpipe          | communal standpipe |\n",
       "| 34716 |     0 | 2013-02-03 | <!----> | 1581 | <!----> | 34.82104 |  -5.07625759 | Nasingo                   | 0 | ... | unknown    | unknown  | unknown  | dry          | dry          | shallow well         | shallow well         | groundwater | other                       | other              |\n",
       "| 43986 |     0 | 2012-10-23 | Government Of Tanzania |    0 | Government | 33.43701 |  -4.42359381 | Fpct                      | 0 | ... | never pay  | soft     | good     | insufficient | insufficient | dam                  | dam                  | surface     | communal standpipe multiple | communal standpipe |\n",
       "| 38067 |   500 | 2011-03-21 | Rc                     | 2101 | ACRA       | 34.62039 |  -9.35840452 | Michael Msigwa            | 0 | ... | monthly    | soft     | good     | enough       | enough       | spring               | spring               | groundwater | communal standpipe          | communal standpipe |\n",
       "| 58255 |     0 | 2011-07-13 | Do                     |    0 | DO         | 31.61328 |  -1.82022635 | Coffee Plantati           | 0 | ... | never pay  | soft     | good     | enough       | enough       | spring               | spring               | groundwater | communal standpipe          | communal standpipe |\n",
       "| 30647 |  6000 | 2011-03-14 | Roman                  | 1439 | Roman      | 34.94210 |  -9.84919761 | none                      | 0 | ... | annually   | soft     | good     | dry          | dry          | spring               | spring               | groundwater | communal standpipe          | communal standpipe |\n",
       "| 67885 |     0 | 2011-03-16 | Mkinga Distric Coun    |    0 | DWE        | 38.83500 |  -4.88020370 | Mijohoroni                | 0 | ... | never pay  | soft     | good     | insufficient | insufficient | spring               | spring               | groundwater | communal standpipe          | communal standpipe |\n",
       "| 47002 |     6 | 2013-08-03 | Ces(gmbh)              | 1383 | DWE        | 37.45476 |  -3.32359911 | Kwa Luka Msaki            | 0 | ... | per bucket | soft     | good     | enough       | enough       | spring               | spring               | groundwater | communal standpipe          | communal standpipe |\n",
       "| 44616 |     0 | 2013-01-19 | World Bank             |   11 | World bank | 39.62601 | -10.05749942 | Shuleni                   | 0 | ... | unknown    | soft     | good     | enough       | enough       | rainwater harvesting | rainwater harvesting | surface     | hand pump                   | hand pump          |\n",
       "| 72148 |     0 | 2011-07-10 | Concern                |    0 | CONCERN    | 30.66780 |  -2.48370953 | Chamkube                  | 0 | ... | never pay  | soft     | good     | insufficient | insufficient | spring               | spring               | groundwater | communal standpipe          | communal standpipe |\n",
       "| 34473 |   500 | 2012-11-03 | Jaica                  | 1327 | JAICA CO   | 33.95168 |  -2.02185406 | Kwa Marunda               | 0 | ... | monthly    | salty    | salty    | enough       | enough       | machine dbh          | borehole             | groundwater | hand pump                   | hand pump          |\n",
       "| 34952 |     0 | 2011-08-22 | Adb                    | 1786 | DWE        | 31.73879 |  -8.53201255 | Shule Ya Sekondari Katazi | 0 | ... | never pay  | soft     | good     | enough       | enough       | machine dbh          | borehole             | groundwater | hand pump                   | hand pump          |\n",
       "| 26640 |   100 | 2013-03-12 | 0                      |   25 | 0          | 39.17648 |  -6.95709837 | Kwa Maliba                | 0 | ... | per bucket | soft     | good     | enough       | enough       | machine dbh          | borehole             | groundwater | communal standpipe          | communal standpipe |\n",
       "| 72559 |     0 | 2013-01-29 | Kidep                  | 1414 | DWE        | 30.69240 |  -3.59382702 | Kwa Philipo Kibeba        | 0 | ... | unknown    | soft     | good     | insufficient | insufficient | spring               | spring               | groundwater | improved spring             | improved spring    |\n",
       "| 30410 |     0 | 2011-08-06 | Co                     |  783 | DWE        | 30.64649 |  -7.36541790 | Sekondari                 | 0 | ... | never pay  | soft     | good     | enough       | enough       | machine dbh          | borehole             | groundwater | hand pump                   | hand pump          |\n",
       "| 13677 |     0 | 2011-08-04 | Rudep                  | 1715 | DWE        | 31.37085 |  -8.25816008 | Kwa Mzee Atanas           | 0 | ... | never pay  | soft     | good     | insufficient | insufficient | machine dbh          | borehole             | groundwater | hand pump                   | hand pump          |\n",
       "| 44885 |     0 | 2013-08-03 | Government Of Tanzania |  540 | Government | 38.04407 |  -4.27221758 | Kwa                       | 0 | ... | never pay  | soft     | good     | enough       | enough       | river                | river/lake           | surface     | communal standpipe          | communal standpipe |\n",
       "| 40607 |     0 | 2011-04-15 | Government Of Tanzania |    0 | Government | 33.00944 |  -8.52088818 | Benard Charles            | 0 | ... | never pay  | soft     | good     | enough       | enough       | spring               | spring               | groundwater | communal standpipe          | communal standpipe |\n",
       "| 48348 |     0 | 2012-10-27 | Private                |    0 | Private    | 33.86685 |  -4.28740983 | Kwa Peter                 | 0 | ... | per bucket | soft     | good     | insufficient | insufficient | dam                  | dam                  | surface     | other                       | other              |\n",
       "| 11164 |   500 | 2011-03-09 | World Bank             |  351 | ML appro   | 37.63405 |  -6.12482968 | Chimeredya                | 0 | ... | monthly    | soft     | good     | enough       | enough       | machine dbh          | borehole             | groundwater | communal standpipe          | communal standpipe |\n",
       "| 60739 |    10 | 2013-05-03 | Germany Republi        | 1210 | CES        | 37.16981 |  -3.25384746 | Area Three Namba 27       | 0 | ... | per bucket | soft     | good     | enough       | enough       | spring               | spring               | groundwater | communal standpipe          | communal standpipe |\n",
       "| 27263 |  4700 | 2011-05-07 | Cefa-njombe            | 1212 | Cefa       | 35.24999 |  -9.07062880 | Kwa Yahona Kuvala         | 0 | ... | annually   | soft     | good     | enough       | enough       | river                | river/lake           | surface     | communal standpipe          | communal standpipe |\n",
       "| 37057 |     0 | 2011-04-11 | <!----> |    0 | <!----> | 34.01709 |  -8.75043433 | Mashine                   | 0 | ... | monthly    | fluoride | fluoride | enough       | enough       | machine dbh          | borehole             | groundwater | hand pump                   | hand pump          |\n",
       "| 31282 |     0 | 2011-03-08 | Malec                  |    0 | Musa       | 35.86132 |  -6.37857327 | Mshoro                    | 0 | ... | never pay  | soft     | good     | insufficient | insufficient | shallow well         | shallow well         | groundwater | hand pump                   | hand pump          |\n",
       "| 26348 |     0 | 2011-03-23 | World Bank             |  191 | World      | 38.10405 |  -6.74746425 | Kwa Mzee Lugawa           | 0 | ... | on failure | salty    | salty    | enough       | enough       | shallow well         | shallow well         | groundwater | hand pump                   | hand pump          |\n",
       "\n"
      ],
      "text/plain": [
       "      id    amount_tsh date_recorded funder                   gps_height\n",
       "1     69572 6000       2011-03-14    Roman                    1390      \n",
       "2      8776    0       2013-03-06    Grumeti                  1399      \n",
       "3     34310   25       2013-02-25    Lottery Club              686      \n",
       "4     67743    0       2013-01-28    Unicef                    263      \n",
       "5     19728    0       2011-07-13    Action In A                 0      \n",
       "6      9944   20       2011-03-13    Mkinga Distric Coun         0      \n",
       "7     19816    0       2012-10-01    Dwsp                        0      \n",
       "8     54551    0       2012-10-09    Rwssp                       0      \n",
       "9     53934    0       2012-11-03    Wateraid                    0      \n",
       "10    46144    0       2011-08-03    Isingiro Ho                 0      \n",
       "11    49056    0       2011-02-20    Private                    62      \n",
       "12    50409  200       2013-02-18    Danida                   1062      \n",
       "13    36957    0       2012-10-14    World Vision                0      \n",
       "14    50495    0       2013-03-15    Lawatefuka Water Supply  1368      \n",
       "15    53752    0       2012-10-20    Biore                       0      \n",
       "16    61848    0       2011-08-04    Rudep                    1645      \n",
       "17    48451  500       2011-07-04    Unicef                   1703      \n",
       "18    58155    0       2011-09-04    Unicef                   1656      \n",
       "19    34169    0       2011-07-22    Hesawa                   1162      \n",
       "20    18274  500       2011-02-22    Danida                   1763      \n",
       "21    48375  200       2011-02-27    Twe                      2216      \n",
       "22     6091    0       2013-02-10    Dwsp                        0      \n",
       "23    58500    0       2011-10-04    Unicef                   1510      \n",
       "24    37862  500       2013-11-03    Isf                       672      \n",
       "25    51058    0       2013-01-21    African Development Bank 1645      \n",
       "26    22308    0       2013-02-25    Government Of Tanzania   1273      \n",
       "27    55012  500       2013-01-16    Sobodo                    200      \n",
       "28    20145    0       2011-07-11    Hesawa                      0      \n",
       "29    19685    0       2013-03-05    Government Of Tanzania   1443      \n",
       "30    69124    0       2013-03-16    Lawatefuka Water Supply  1256      \n",
       "...   ...   ...        ...           ...                      ...       \n",
       "59371 14796   200      2013-01-29                             1154      \n",
       "59372 20387     0      2012-10-09    Netherlands                 0      \n",
       "59373 29940     0      2012-10-31    Tlc                         0      \n",
       "59374 15233  5000      2013-01-30    Rudep                    1137      \n",
       "59375 49651     0      2012-10-29    Rwssp                       0      \n",
       "59376 50998 40000      2011-08-03    Government Of Tanzania     54      \n",
       "59377 34716     0      2013-02-03                             1581      \n",
       "59378 43986     0      2012-10-23    Government Of Tanzania      0      \n",
       "59379 38067   500      2011-03-21    Rc                       2101      \n",
       "59380 58255     0      2011-07-13    Do                          0      \n",
       "59381 30647  6000      2011-03-14    Roman                    1439      \n",
       "59382 67885     0      2011-03-16    Mkinga Distric Coun         0      \n",
       "59383 47002     6      2013-08-03    Ces(gmbh)                1383      \n",
       "59384 44616     0      2013-01-19    World Bank                 11      \n",
       "59385 72148     0      2011-07-10    Concern                     0      \n",
       "59386 34473   500      2012-11-03    Jaica                    1327      \n",
       "59387 34952     0      2011-08-22    Adb                      1786      \n",
       "59388 26640   100      2013-03-12    0                          25      \n",
       "59389 72559     0      2013-01-29    Kidep                    1414      \n",
       "59390 30410     0      2011-08-06    Co                        783      \n",
       "59391 13677     0      2011-08-04    Rudep                    1715      \n",
       "59392 44885     0      2013-08-03    Government Of Tanzania    540      \n",
       "59393 40607     0      2011-04-15    Government Of Tanzania      0      \n",
       "59394 48348     0      2012-10-27    Private                     0      \n",
       "59395 11164   500      2011-03-09    World Bank                351      \n",
       "59396 60739    10      2013-05-03    Germany Republi          1210      \n",
       "59397 27263  4700      2011-05-07    Cefa-njombe              1212      \n",
       "59398 37057     0      2011-04-11                                0      \n",
       "59399 31282     0      2011-03-08    Malec                       0      \n",
       "59400 26348     0      2011-03-23    World Bank                191      \n",
       "      installer            longitude latitude     wpt_name                 \n",
       "1     Roman                34.93809   -9.85632177 none                     \n",
       "2     GRUMETI              34.69877   -2.14746569 Zahanati                 \n",
       "3     World vision         37.46066   -3.82132853 Kwa Mahundi              \n",
       "4     UNICEF               38.48616  -11.15529772 Zahanati Ya Nanyumbu     \n",
       "5     Artisan              31.13085   -1.82535885 Shuleni                  \n",
       "6     DWE                  39.17280   -4.76558728 Tajiri                   \n",
       "7     DWSP                 33.36241   -3.76636472 Kwa Ngomho               \n",
       "8     DWE                  32.62062   -4.22619802 Tushirikiane             \n",
       "9     Water Aid            32.71110   -5.14671181 Kwa Ramadhan Musa        \n",
       "10    Artisan              30.62699   -1.25705061 Kwapeto                  \n",
       "11    Private              39.20952   -7.03413939 Mzee Hokororo            \n",
       "12    DANIDA               35.77026  -10.57417468 Kwa Alid Nchimbi         \n",
       "13    World vision         33.79811   -3.29019380 Pamba                    \n",
       "14    Lawatefuka water sup 37.09257   -3.18178330 Kwa John Izack Mmari     \n",
       "15    WEDECO               34.36407   -3.62933335 Mwabasabi                \n",
       "16    DWE                  31.44412   -8.27496163 Kwa Juvenal Ching'Ombe   \n",
       "17    DWE                  34.64244   -9.10618458 Kwa John Mtenzi          \n",
       "18    DWE                  34.56927   -9.08551497 Kwa Rose Chaula          \n",
       "19    DWE                  32.92015   -1.94786801 Ngomee                   \n",
       "20    Danid                34.50897   -9.89441250 none                     \n",
       "21    TWE                  34.47343   -9.59498965 none                     \n",
       "22    DWE                   0.00000   -0.00000002 Muungano                 \n",
       "23    DWE                  34.58690   -8.98001429 Shuleni                  \n",
       "24    ISF                  37.94003   -4.12559468 Kinonga                  \n",
       "25    DWE                  29.74707   -4.49556758 Kamsasa                  \n",
       "26    DWE                  37.42275   -3.31753648 Kwa Tukai                \n",
       "27    Kilolo Star          39.37078   -9.94253166 Ruhoma Primary School    \n",
       "28    DWE                  31.10426   -1.73536124 Kwawilliam               \n",
       "29    District council     37.61113   -3.26352630 Kwa Kibakaya             \n",
       "30    Lawatefuka water sup 37.06169   -3.19198926 Kwa Willium Kinda        \n",
       "...   ...                  ...       ...          ...                      \n",
       "59371                      30.05873   -4.90263299 Village Office           \n",
       "59372 DWE                  33.58641   -3.04036855 Ushirika                 \n",
       "59373 TLC                  32.05855   -5.05210104 Kwa Mzee Kamanya         \n",
       "59374 Distri               32.12502   -6.78435778 Kwa Kadiega              \n",
       "59375 DWE                   0.00000   -0.00000002 Nguvu Kazi               \n",
       "59376 DWE                  39.04694   -5.06149401 Sekondari                \n",
       "59377                      34.82104   -5.07625759 Nasingo                  \n",
       "59378 Government           33.43701   -4.42359381 Fpct                     \n",
       "59379 ACRA                 34.62039   -9.35840452 Michael Msigwa           \n",
       "59380 DO                   31.61328   -1.82022635 Coffee Plantati          \n",
       "59381 Roman                34.94210   -9.84919761 none                     \n",
       "59382 DWE                  38.83500   -4.88020370 Mijohoroni               \n",
       "59383 DWE                  37.45476   -3.32359911 Kwa Luka Msaki           \n",
       "59384 World bank           39.62601  -10.05749942 Shuleni                  \n",
       "59385 CONCERN              30.66780   -2.48370953 Chamkube                 \n",
       "59386 JAICA CO             33.95168   -2.02185406 Kwa Marunda              \n",
       "59387 DWE                  31.73879   -8.53201255 Shule Ya Sekondari Katazi\n",
       "59388 0                    39.17648   -6.95709837 Kwa Maliba               \n",
       "59389 DWE                  30.69240   -3.59382702 Kwa Philipo Kibeba       \n",
       "59390 DWE                  30.64649   -7.36541790 Sekondari                \n",
       "59391 DWE                  31.37085   -8.25816008 Kwa Mzee Atanas          \n",
       "59392 Government           38.04407   -4.27221758 Kwa                      \n",
       "59393 Government           33.00944   -8.52088818 Benard Charles           \n",
       "59394 Private              33.86685   -4.28740983 Kwa Peter                \n",
       "59395 ML appro             37.63405   -6.12482968 Chimeredya               \n",
       "59396 CES                  37.16981   -3.25384746 Area Three Namba 27      \n",
       "59397 Cefa                 35.24999   -9.07062880 Kwa Yahona Kuvala        \n",
       "59398                      34.01709   -8.75043433 Mashine                  \n",
       "59399 Musa                 35.86132   -6.37857327 Mshoro                   \n",
       "59400 World                38.10405   -6.74746425 Kwa Mzee Lugawa          \n",
       "      num_private ... payment_type water_quality quality_group quantity    \n",
       "1     0           ... annually     soft          good          enough      \n",
       "2     0           ... never pay    soft          good          insufficient\n",
       "3     0           ... per bucket   soft          good          enough      \n",
       "4     0           ... never pay    soft          good          dry         \n",
       "5     0           ... never pay    soft          good          seasonal    \n",
       "6     0           ... per bucket   salty         salty         enough      \n",
       "7     0           ... never pay    soft          good          enough      \n",
       "8     0           ... unknown      milky         milky         enough      \n",
       "9     0           ... never pay    salty         salty         seasonal    \n",
       "10    0           ... never pay    soft          good          enough      \n",
       "11    0           ... never pay    salty         salty         enough      \n",
       "12    0           ... on failure   soft          good          insufficient\n",
       "13    0           ... other        soft          good          enough      \n",
       "14    0           ... monthly      soft          good          enough      \n",
       "15    0           ... never pay    soft          good          enough      \n",
       "16    0           ... never pay    soft          good          enough      \n",
       "17    0           ... monthly      soft          good          dry         \n",
       "18    0           ... on failure   soft          good          dry         \n",
       "19    0           ... never pay    milky         milky         insufficient\n",
       "20    0           ... annually     soft          good          enough      \n",
       "21    0           ... monthly      soft          good          enough      \n",
       "22    0           ... unknown      unknown       unknown       unknown     \n",
       "23    0           ... never pay    soft          good          enough      \n",
       "24    0           ... monthly      soft          good          enough      \n",
       "25    0           ... unknown      soft          good          enough      \n",
       "26    0           ... unknown      soft          good          enough      \n",
       "27    0           ... monthly      soft          good          enough      \n",
       "28    0           ... never pay    soft          good          enough      \n",
       "29    0           ... monthly      soft          good          insufficient\n",
       "30    0           ... monthly      soft          good          enough      \n",
       "...   ...             ...          ...           ...           ...         \n",
       "59371 0           ... monthly      unknown       unknown       unknown     \n",
       "59372 0           ... never pay    soft          good          enough      \n",
       "59373 0           ... per bucket   salty         salty         insufficient\n",
       "59374 0           ... annually     soft          good          enough      \n",
       "59375 0           ... other        soft          good          enough      \n",
       "59376 0           ... monthly      soft          good          enough      \n",
       "59377 0           ... unknown      unknown       unknown       dry         \n",
       "59378 0           ... never pay    soft          good          insufficient\n",
       "59379 0           ... monthly      soft          good          enough      \n",
       "59380 0           ... never pay    soft          good          enough      \n",
       "59381 0           ... annually     soft          good          dry         \n",
       "59382 0           ... never pay    soft          good          insufficient\n",
       "59383 0           ... per bucket   soft          good          enough      \n",
       "59384 0           ... unknown      soft          good          enough      \n",
       "59385 0           ... never pay    soft          good          insufficient\n",
       "59386 0           ... monthly      salty         salty         enough      \n",
       "59387 0           ... never pay    soft          good          enough      \n",
       "59388 0           ... per bucket   soft          good          enough      \n",
       "59389 0           ... unknown      soft          good          insufficient\n",
       "59390 0           ... never pay    soft          good          enough      \n",
       "59391 0           ... never pay    soft          good          insufficient\n",
       "59392 0           ... never pay    soft          good          enough      \n",
       "59393 0           ... never pay    soft          good          enough      \n",
       "59394 0           ... per bucket   soft          good          insufficient\n",
       "59395 0           ... monthly      soft          good          enough      \n",
       "59396 0           ... per bucket   soft          good          enough      \n",
       "59397 0           ... annually     soft          good          enough      \n",
       "59398 0           ... monthly      fluoride      fluoride      enough      \n",
       "59399 0           ... never pay    soft          good          insufficient\n",
       "59400 0           ... on failure   salty         salty         enough      \n",
       "      quantity_group source               source_type          source_class\n",
       "1     enough         spring               spring               groundwater \n",
       "2     insufficient   rainwater harvesting rainwater harvesting surface     \n",
       "3     enough         dam                  dam                  surface     \n",
       "4     dry            machine dbh          borehole             groundwater \n",
       "5     seasonal       rainwater harvesting rainwater harvesting surface     \n",
       "6     enough         other                other                unknown     \n",
       "7     enough         machine dbh          borehole             groundwater \n",
       "8     enough         shallow well         shallow well         groundwater \n",
       "9     seasonal       machine dbh          borehole             groundwater \n",
       "10    enough         shallow well         shallow well         groundwater \n",
       "11    enough         machine dbh          borehole             groundwater \n",
       "12    insufficient   shallow well         shallow well         groundwater \n",
       "13    enough         shallow well         shallow well         groundwater \n",
       "14    enough         spring               spring               groundwater \n",
       "15    enough         shallow well         shallow well         groundwater \n",
       "16    enough         machine dbh          borehole             groundwater \n",
       "17    dry            river                river/lake           surface     \n",
       "18    dry            river                river/lake           surface     \n",
       "19    insufficient   spring               spring               groundwater \n",
       "20    enough         spring               spring               groundwater \n",
       "21    enough         spring               spring               groundwater \n",
       "22    unknown        shallow well         shallow well         groundwater \n",
       "23    enough         river                river/lake           surface     \n",
       "24    enough         river                river/lake           surface     \n",
       "25    enough         spring               spring               groundwater \n",
       "26    enough         spring               spring               groundwater \n",
       "27    enough         machine dbh          borehole             groundwater \n",
       "28    enough         shallow well         shallow well         groundwater \n",
       "29    insufficient   spring               spring               groundwater \n",
       "30    enough         spring               spring               groundwater \n",
       "...   ...            ...                  ...                  ...         \n",
       "59371 unknown        unknown              other                unknown     \n",
       "59372 enough         shallow well         shallow well         groundwater \n",
       "59373 insufficient   shallow well         shallow well         groundwater \n",
       "59374 enough         machine dbh          borehole             groundwater \n",
       "59375 enough         shallow well         shallow well         groundwater \n",
       "59376 enough         river                river/lake           surface     \n",
       "59377 dry            shallow well         shallow well         groundwater \n",
       "59378 insufficient   dam                  dam                  surface     \n",
       "59379 enough         spring               spring               groundwater \n",
       "59380 enough         spring               spring               groundwater \n",
       "59381 dry            spring               spring               groundwater \n",
       "59382 insufficient   spring               spring               groundwater \n",
       "59383 enough         spring               spring               groundwater \n",
       "59384 enough         rainwater harvesting rainwater harvesting surface     \n",
       "59385 insufficient   spring               spring               groundwater \n",
       "59386 enough         machine dbh          borehole             groundwater \n",
       "59387 enough         machine dbh          borehole             groundwater \n",
       "59388 enough         machine dbh          borehole             groundwater \n",
       "59389 insufficient   spring               spring               groundwater \n",
       "59390 enough         machine dbh          borehole             groundwater \n",
       "59391 insufficient   machine dbh          borehole             groundwater \n",
       "59392 enough         river                river/lake           surface     \n",
       "59393 enough         spring               spring               groundwater \n",
       "59394 insufficient   dam                  dam                  surface     \n",
       "59395 enough         machine dbh          borehole             groundwater \n",
       "59396 enough         spring               spring               groundwater \n",
       "59397 enough         river                river/lake           surface     \n",
       "59398 enough         machine dbh          borehole             groundwater \n",
       "59399 insufficient   shallow well         shallow well         groundwater \n",
       "59400 enough         shallow well         shallow well         groundwater \n",
       "      waterpoint_type             waterpoint_type_group\n",
       "1     communal standpipe          communal standpipe   \n",
       "2     communal standpipe          communal standpipe   \n",
       "3     communal standpipe multiple communal standpipe   \n",
       "4     communal standpipe multiple communal standpipe   \n",
       "5     communal standpipe          communal standpipe   \n",
       "6     communal standpipe multiple communal standpipe   \n",
       "7     hand pump                   hand pump            \n",
       "8     hand pump                   hand pump            \n",
       "9     hand pump                   hand pump            \n",
       "10    hand pump                   hand pump            \n",
       "11    other                       other                \n",
       "12    hand pump                   hand pump            \n",
       "13    hand pump                   hand pump            \n",
       "14    communal standpipe          communal standpipe   \n",
       "15    hand pump                   hand pump            \n",
       "16    hand pump                   hand pump            \n",
       "17    communal standpipe          communal standpipe   \n",
       "18    communal standpipe          communal standpipe   \n",
       "19    other                       other                \n",
       "20    communal standpipe          communal standpipe   \n",
       "21    communal standpipe          communal standpipe   \n",
       "22    hand pump                   hand pump            \n",
       "23    communal standpipe          communal standpipe   \n",
       "24    communal standpipe          communal standpipe   \n",
       "25    improved spring             improved spring      \n",
       "26    communal standpipe          communal standpipe   \n",
       "27    hand pump                   hand pump            \n",
       "28    hand pump                   hand pump            \n",
       "29    communal standpipe          communal standpipe   \n",
       "30    communal standpipe          communal standpipe   \n",
       "...   ...                         ...                  \n",
       "59371 other                       other                \n",
       "59372 hand pump                   hand pump            \n",
       "59373 other                       other                \n",
       "59374 hand pump                   hand pump            \n",
       "59375 hand pump                   hand pump            \n",
       "59376 communal standpipe          communal standpipe   \n",
       "59377 other                       other                \n",
       "59378 communal standpipe multiple communal standpipe   \n",
       "59379 communal standpipe          communal standpipe   \n",
       "59380 communal standpipe          communal standpipe   \n",
       "59381 communal standpipe          communal standpipe   \n",
       "59382 communal standpipe          communal standpipe   \n",
       "59383 communal standpipe          communal standpipe   \n",
       "59384 hand pump                   hand pump            \n",
       "59385 communal standpipe          communal standpipe   \n",
       "59386 hand pump                   hand pump            \n",
       "59387 hand pump                   hand pump            \n",
       "59388 communal standpipe          communal standpipe   \n",
       "59389 improved spring             improved spring      \n",
       "59390 hand pump                   hand pump            \n",
       "59391 hand pump                   hand pump            \n",
       "59392 communal standpipe          communal standpipe   \n",
       "59393 communal standpipe          communal standpipe   \n",
       "59394 other                       other                \n",
       "59395 communal standpipe          communal standpipe   \n",
       "59396 communal standpipe          communal standpipe   \n",
       "59397 communal standpipe          communal standpipe   \n",
       "59398 hand pump                   hand pump            \n",
       "59399 hand pump                   hand pump            \n",
       "59400 hand pump                   hand pump            "
      ]
     },
     "metadata": {},
     "output_type": "display_data"
    }
   ],
   "source": [
    "training_set_values"
   ]
  },
  {
   "cell_type": "markdown",
   "metadata": {},
   "source": [
    "## The Preprocessing\n",
    "\n",
    "Before starting the modeling, we must first process the data. We are given a huge number of columns and rows, some of which are not useful to determine the functioning of the pump. For instance, maybe the name of the pump is not important to guess if it is working or not."
   ]
  },
  {
   "cell_type": "markdown",
   "metadata": {},
   "source": [
    "### Removing useless columns\n",
    "First we will check all the columns and check if, by chance, one column has always the same value. If there exist such a column, we can safely delete it since it doesn't bring any information to the model."
   ]
  },
  {
   "cell_type": "code",
   "execution_count": 5,
   "metadata": {},
   "outputs": [
    {
     "name": "stdout",
     "output_type": "stream",
     "text": [
      "[1] \"the column recorded_by has always the same value\"\n"
     ]
    }
   ],
   "source": [
    "for (colname in names(training_set_values)) {\n",
    "    list_of_unique <- unique(training_set_values[colname])\n",
    "    if (nrow(list_of_unique) == 1){\n",
    "        print(paste(\"the column\", colname, \"has always the same value\"))\n",
    "    }\n",
    "}"
   ]
  },
  {
   "cell_type": "markdown",
   "metadata": {},
   "source": [
    "One column was found that is always the same value, we will then remove it from the dataset"
   ]
  },
  {
   "cell_type": "code",
   "execution_count": 6,
   "metadata": {},
   "outputs": [],
   "source": [
    "training_set_values <- training_set_values[,setdiff(colnames(training_set_values),\"recorded_by\")] # remove recorded_by train_data\n",
    "\n",
    "test_set_values <- test_set_values[,setdiff(colnames(test_set_values),\"recorded_by\")] # remove recorded_by _train_test"
   ]
  },
  {
   "cell_type": "markdown",
   "metadata": {},
   "source": [
    "Now we can look at the data in a less strict manner. What if for only a few of the entries, we have a different value ? This won't be detected with the above loop, but can be detected manually by checking the number of occurence of the most common value. If it appears, let's say more than 99 % of the time, we assume it is always that value and remove that column."
   ]
  },
  {
   "cell_type": "code",
   "execution_count": 7,
   "metadata": {
    "scrolled": false
   },
   "outputs": [
    {
     "data": {
      "text/html": [
       "<table class=\"dataframe\">\n",
       "<caption>A data.frame: 6 × 2</caption>\n",
       "<thead>\n",
       "\t<tr><th></th><th scope=col>names.training_set_values.</th><th scope=col>maxima</th></tr>\n",
       "\t<tr><th></th><th scope=col>&lt;fct&gt;</th><th scope=col>&lt;dbl&gt;</th></tr>\n",
       "</thead>\n",
       "<tbody>\n",
       "\t<tr><th scope=row>10</th><td>num_private     </td><td>0.9872559</td></tr>\n",
       "\t<tr><th scope=row>28</th><td>management_group</td><td>0.8836700</td></tr>\n",
       "\t<tr><th scope=row>19</th><td>public_meeting  </td><td>0.8587710</td></tr>\n",
       "\t<tr><th scope=row>31</th><td>water_quality   </td><td>0.8555219</td></tr>\n",
       "\t<tr><th scope=row>32</th><td>quality_group   </td><td>0.8555219</td></tr>\n",
       "\t<tr><th scope=row>37</th><td>source_class    </td><td>0.7709428</td></tr>\n",
       "</tbody>\n",
       "</table>\n"
      ],
      "text/latex": [
       "A data.frame: 6 × 2\n",
       "\\begin{tabular}{r|ll}\n",
       "  & names.training\\_set\\_values. & maxima\\\\\n",
       "  & <fct> & <dbl>\\\\\n",
       "\\hline\n",
       "\t10 & num\\_private      & 0.9872559\\\\\n",
       "\t28 & management\\_group & 0.8836700\\\\\n",
       "\t19 & public\\_meeting   & 0.8587710\\\\\n",
       "\t31 & water\\_quality    & 0.8555219\\\\\n",
       "\t32 & quality\\_group    & 0.8555219\\\\\n",
       "\t37 & source\\_class     & 0.7709428\\\\\n",
       "\\end{tabular}\n"
      ],
      "text/markdown": [
       "\n",
       "A data.frame: 6 × 2\n",
       "\n",
       "| <!--/--> | names.training_set_values. &lt;fct&gt; | maxima &lt;dbl&gt; |\n",
       "|---|---|---|\n",
       "| 10 | num_private      | 0.9872559 |\n",
       "| 28 | management_group | 0.8836700 |\n",
       "| 19 | public_meeting   | 0.8587710 |\n",
       "| 31 | water_quality    | 0.8555219 |\n",
       "| 32 | quality_group    | 0.8555219 |\n",
       "| 37 | source_class     | 0.7709428 |\n",
       "\n"
      ],
      "text/plain": [
       "   names.training_set_values. maxima   \n",
       "10 num_private                0.9872559\n",
       "28 management_group           0.8836700\n",
       "19 public_meeting             0.8587710\n",
       "31 water_quality              0.8555219\n",
       "32 quality_group              0.8555219\n",
       "37 source_class               0.7709428"
      ]
     },
     "metadata": {},
     "output_type": "display_data"
    }
   ],
   "source": [
    "\n",
    "# Computes the ratio of the value that appear the most compared to the rest of the data\n",
    "maxima <- c()\n",
    "for (colname in names(training_set_values)) {\n",
    "   maxima <- rbind(maxima, max(table(training_set_values[colname]))/59400)\n",
    "}\n",
    "\n",
    "# Shows it nicely\n",
    "df <- data.frame(names(training_set_values), maxima)\n",
    "df <- df[order(df$maxima, decreasing=TRUE),]\n",
    "head(df)\n"
   ]
  },
  {
   "cell_type": "markdown",
   "metadata": {},
   "source": [
    "We see that num_private has almost 99% of the time the same value. Given the huge amount of columns and data, we do not feel that it is necessary to keep that information, it would only make the model more complicated for a slight change in the error rate. Therefore we delete that column."
   ]
  },
  {
   "cell_type": "code",
   "execution_count": 8,
   "metadata": {},
   "outputs": [],
   "source": [
    "training_set_values <- training_set_values[,setdiff(colnames(training_set_values),\"num_private\")] # remove num_private train_set\n",
    "\n",
    "test_set_values <- test_set_values[,setdiff(colnames(test_set_values),\"num_private\")] # remove num_private test_est"
   ]
  },
  {
   "cell_type": "markdown",
   "metadata": {},
   "source": [
    "## Looking at the corelation between columns"
   ]
  },
  {
   "cell_type": "markdown",
   "metadata": {},
   "source": [
    "When looking through the data, we found multiple columns that were repeated. We suspected that `quantity` and `quantity_group` were highly corolated, so we ran the following command to check directly if there is a bijection for every variable."
   ]
  },
  {
   "cell_type": "code",
   "execution_count": 9,
   "metadata": {},
   "outputs": [
    {
     "data": {
      "text/plain": [
       "              \n",
       "                 dry enough insufficient seasonal unknown\n",
       "  dry           6246      0            0        0       0\n",
       "  enough           0  33186            0        0       0\n",
       "  insufficient     0      0        15129        0       0\n",
       "  seasonal         0      0            0     4050       0\n",
       "  unknown          0      0            0        0     789"
      ]
     },
     "metadata": {},
     "output_type": "display_data"
    }
   ],
   "source": [
    "table(training_set_values$quantity, training_set_values$quantity_group)"
   ]
  },
  {
   "cell_type": "markdown",
   "metadata": {},
   "source": [
    "It appears that when `quantity` is `dry`, 100% of the time `quantity_group` is also dry. Those two columns have a corelation of 100%, it means one of the two is redundant and can safely be removed.\n",
    "\n",
    "We could then do that for all the combination of columns, but this isn't efficient and we can decide by ourselves by looking at what the columns represent, and test for corelation between them. This can be done via `chiqs.test` of the contingency table of the two columns. \n",
    "\n",
    "For exemple with `quantity` and `quantity_group` compared to `quantity` and `payment_type`"
   ]
  },
  {
   "cell_type": "code",
   "execution_count": 10,
   "metadata": {},
   "outputs": [
    {
     "data": {
      "text/plain": [
       "\n",
       "\tPearson's Chi-squared test\n",
       "\n",
       "data:  table(training_set_values$quantity, training_set_values$quantity_group)\n",
       "X-squared = 237600, df = 16, p-value < 2.2e-16\n"
      ]
     },
     "metadata": {},
     "output_type": "display_data"
    },
    {
     "data": {
      "text/plain": [
       "\n",
       "\tPearson's Chi-squared test\n",
       "\n",
       "data:  table(training_set_values$quantity, training_set_values$payment_type)\n",
       "X-squared = 3859.7, df = 24, p-value < 2.2e-16\n"
      ]
     },
     "metadata": {},
     "output_type": "display_data"
    }
   ],
   "source": [
    "chisq.test(table(training_set_values$quantity, training_set_values$quantity_group))\n",
    "chisq.test(table(training_set_values$quantity, training_set_values$payment_type))"
   ]
  },
  {
   "cell_type": "markdown",
   "metadata": {},
   "source": [
    "We get a high X-squared value, this means the two columns are highly correlated. We also check with two uncorrelated columns to see that we indeed get a small X-squared value.\n",
    "\n",
    "We have to be careful with Chi-squared test since the degree of freedom also influences X-squared value. If we have a high degree of freedom, we might have more problems interpreting the X-square value because of that.\n",
    "\n",
    "We now have a way to check efficiently if two columns are correlated, so we will use that with the one we suspect are. We can also use the contingency table if we are not sure that they are."
   ]
  },
  {
   "cell_type": "code",
   "execution_count": 11,
   "metadata": {},
   "outputs": [
    {
     "data": {
      "text/html": [
       "<table class=\"dataframe\">\n",
       "<caption>A data.frame: 6 × 38</caption>\n",
       "<thead>\n",
       "\t<tr><th></th><th scope=col>id</th><th scope=col>amount_tsh</th><th scope=col>date_recorded</th><th scope=col>funder</th><th scope=col>gps_height</th><th scope=col>installer</th><th scope=col>longitude</th><th scope=col>latitude</th><th scope=col>wpt_name</th><th scope=col>basin</th><th scope=col>...</th><th scope=col>payment_type</th><th scope=col>water_quality</th><th scope=col>quality_group</th><th scope=col>quantity</th><th scope=col>quantity_group</th><th scope=col>source</th><th scope=col>source_type</th><th scope=col>source_class</th><th scope=col>waterpoint_type</th><th scope=col>waterpoint_type_group</th></tr>\n",
       "\t<tr><th></th><th scope=col>&lt;int&gt;</th><th scope=col>&lt;dbl&gt;</th><th scope=col>&lt;fct&gt;</th><th scope=col>&lt;fct&gt;</th><th scope=col>&lt;int&gt;</th><th scope=col>&lt;fct&gt;</th><th scope=col>&lt;dbl&gt;</th><th scope=col>&lt;dbl&gt;</th><th scope=col>&lt;fct&gt;</th><th scope=col>&lt;fct&gt;</th><th scope=col>...</th><th scope=col>&lt;fct&gt;</th><th scope=col>&lt;fct&gt;</th><th scope=col>&lt;fct&gt;</th><th scope=col>&lt;fct&gt;</th><th scope=col>&lt;fct&gt;</th><th scope=col>&lt;fct&gt;</th><th scope=col>&lt;fct&gt;</th><th scope=col>&lt;fct&gt;</th><th scope=col>&lt;fct&gt;</th><th scope=col>&lt;fct&gt;</th></tr>\n",
       "</thead>\n",
       "<tbody>\n",
       "\t<tr><th scope=row>1</th><td>69572</td><td>6000</td><td>2011-03-14</td><td>Roman              </td><td>1390</td><td>Roman       </td><td>34.93809</td><td> -9.856322</td><td>none                </td><td>Lake Nyasa             </td><td>...</td><td>annually  </td><td>soft </td><td>good </td><td>enough      </td><td>enough      </td><td>spring              </td><td>spring              </td><td>groundwater</td><td>communal standpipe         </td><td>communal standpipe</td></tr>\n",
       "\t<tr><th scope=row>2</th><td> 8776</td><td>   0</td><td>2013-03-06</td><td>Grumeti            </td><td>1399</td><td>GRUMETI     </td><td>34.69877</td><td> -2.147466</td><td>Zahanati            </td><td>Lake Victoria          </td><td>...</td><td>never pay </td><td>soft </td><td>good </td><td>insufficient</td><td>insufficient</td><td>rainwater harvesting</td><td>rainwater harvesting</td><td>surface    </td><td>communal standpipe         </td><td>communal standpipe</td></tr>\n",
       "\t<tr><th scope=row>3</th><td>34310</td><td>  25</td><td>2013-02-25</td><td>Lottery Club       </td><td> 686</td><td>World vision</td><td>37.46066</td><td> -3.821329</td><td>Kwa Mahundi         </td><td>Pangani                </td><td>...</td><td>per bucket</td><td>soft </td><td>good </td><td>enough      </td><td>enough      </td><td>dam                 </td><td>dam                 </td><td>surface    </td><td>communal standpipe multiple</td><td>communal standpipe</td></tr>\n",
       "\t<tr><th scope=row>4</th><td>67743</td><td>   0</td><td>2013-01-28</td><td>Unicef             </td><td> 263</td><td>UNICEF      </td><td>38.48616</td><td>-11.155298</td><td>Zahanati Ya Nanyumbu</td><td>Ruvuma / Southern Coast</td><td>...</td><td>never pay </td><td>soft </td><td>good </td><td>dry         </td><td>dry         </td><td>machine dbh         </td><td>borehole            </td><td>groundwater</td><td>communal standpipe multiple</td><td>communal standpipe</td></tr>\n",
       "\t<tr><th scope=row>5</th><td>19728</td><td>   0</td><td>2011-07-13</td><td>Action In A        </td><td>   0</td><td>Artisan     </td><td>31.13085</td><td> -1.825359</td><td>Shuleni             </td><td>Lake Victoria          </td><td>...</td><td>never pay </td><td>soft </td><td>good </td><td>seasonal    </td><td>seasonal    </td><td>rainwater harvesting</td><td>rainwater harvesting</td><td>surface    </td><td>communal standpipe         </td><td>communal standpipe</td></tr>\n",
       "\t<tr><th scope=row>6</th><td> 9944</td><td>  20</td><td>2011-03-13</td><td>Mkinga Distric Coun</td><td>   0</td><td>DWE         </td><td>39.17280</td><td> -4.765587</td><td>Tajiri              </td><td>Pangani                </td><td>...</td><td>per bucket</td><td>salty</td><td>salty</td><td>enough      </td><td>enough      </td><td>other               </td><td>other               </td><td>unknown    </td><td>communal standpipe multiple</td><td>communal standpipe</td></tr>\n",
       "</tbody>\n",
       "</table>\n"
      ],
      "text/latex": [
       "A data.frame: 6 × 38\n",
       "\\begin{tabular}{r|lllllllllllllllllllll}\n",
       "  & id & amount\\_tsh & date\\_recorded & funder & gps\\_height & installer & longitude & latitude & wpt\\_name & basin & ... & payment\\_type & water\\_quality & quality\\_group & quantity & quantity\\_group & source & source\\_type & source\\_class & waterpoint\\_type & waterpoint\\_type\\_group\\\\\n",
       "  & <int> & <dbl> & <fct> & <fct> & <int> & <fct> & <dbl> & <dbl> & <fct> & <fct> & ... & <fct> & <fct> & <fct> & <fct> & <fct> & <fct> & <fct> & <fct> & <fct> & <fct>\\\\\n",
       "\\hline\n",
       "\t1 & 69572 & 6000 & 2011-03-14 & Roman               & 1390 & Roman        & 34.93809 &  -9.856322 & none                 & Lake Nyasa              & ... & annually   & soft  & good  & enough       & enough       & spring               & spring               & groundwater & communal standpipe          & communal standpipe\\\\\n",
       "\t2 &  8776 &    0 & 2013-03-06 & Grumeti             & 1399 & GRUMETI      & 34.69877 &  -2.147466 & Zahanati             & Lake Victoria           & ... & never pay  & soft  & good  & insufficient & insufficient & rainwater harvesting & rainwater harvesting & surface     & communal standpipe          & communal standpipe\\\\\n",
       "\t3 & 34310 &   25 & 2013-02-25 & Lottery Club        &  686 & World vision & 37.46066 &  -3.821329 & Kwa Mahundi          & Pangani                 & ... & per bucket & soft  & good  & enough       & enough       & dam                  & dam                  & surface     & communal standpipe multiple & communal standpipe\\\\\n",
       "\t4 & 67743 &    0 & 2013-01-28 & Unicef              &  263 & UNICEF       & 38.48616 & -11.155298 & Zahanati Ya Nanyumbu & Ruvuma / Southern Coast & ... & never pay  & soft  & good  & dry          & dry          & machine dbh          & borehole             & groundwater & communal standpipe multiple & communal standpipe\\\\\n",
       "\t5 & 19728 &    0 & 2011-07-13 & Action In A         &    0 & Artisan      & 31.13085 &  -1.825359 & Shuleni              & Lake Victoria           & ... & never pay  & soft  & good  & seasonal     & seasonal     & rainwater harvesting & rainwater harvesting & surface     & communal standpipe          & communal standpipe\\\\\n",
       "\t6 &  9944 &   20 & 2011-03-13 & Mkinga Distric Coun &    0 & DWE          & 39.17280 &  -4.765587 & Tajiri               & Pangani                 & ... & per bucket & salty & salty & enough       & enough       & other                & other                & unknown     & communal standpipe multiple & communal standpipe\\\\\n",
       "\\end{tabular}\n"
      ],
      "text/markdown": [
       "\n",
       "A data.frame: 6 × 38\n",
       "\n",
       "| <!--/--> | id &lt;int&gt; | amount_tsh &lt;dbl&gt; | date_recorded &lt;fct&gt; | funder &lt;fct&gt; | gps_height &lt;int&gt; | installer &lt;fct&gt; | longitude &lt;dbl&gt; | latitude &lt;dbl&gt; | wpt_name &lt;fct&gt; | basin &lt;fct&gt; | ... ... | payment_type &lt;fct&gt; | water_quality &lt;fct&gt; | quality_group &lt;fct&gt; | quantity &lt;fct&gt; | quantity_group &lt;fct&gt; | source &lt;fct&gt; | source_type &lt;fct&gt; | source_class &lt;fct&gt; | waterpoint_type &lt;fct&gt; | waterpoint_type_group &lt;fct&gt; |\n",
       "|---|---|---|---|---|---|---|---|---|---|---|---|---|---|---|---|---|---|---|---|---|---|\n",
       "| 1 | 69572 | 6000 | 2011-03-14 | Roman               | 1390 | Roman        | 34.93809 |  -9.856322 | none                 | Lake Nyasa              | ... | annually   | soft  | good  | enough       | enough       | spring               | spring               | groundwater | communal standpipe          | communal standpipe |\n",
       "| 2 |  8776 |    0 | 2013-03-06 | Grumeti             | 1399 | GRUMETI      | 34.69877 |  -2.147466 | Zahanati             | Lake Victoria           | ... | never pay  | soft  | good  | insufficient | insufficient | rainwater harvesting | rainwater harvesting | surface     | communal standpipe          | communal standpipe |\n",
       "| 3 | 34310 |   25 | 2013-02-25 | Lottery Club        |  686 | World vision | 37.46066 |  -3.821329 | Kwa Mahundi          | Pangani                 | ... | per bucket | soft  | good  | enough       | enough       | dam                  | dam                  | surface     | communal standpipe multiple | communal standpipe |\n",
       "| 4 | 67743 |    0 | 2013-01-28 | Unicef              |  263 | UNICEF       | 38.48616 | -11.155298 | Zahanati Ya Nanyumbu | Ruvuma / Southern Coast | ... | never pay  | soft  | good  | dry          | dry          | machine dbh          | borehole             | groundwater | communal standpipe multiple | communal standpipe |\n",
       "| 5 | 19728 |    0 | 2011-07-13 | Action In A         |    0 | Artisan      | 31.13085 |  -1.825359 | Shuleni              | Lake Victoria           | ... | never pay  | soft  | good  | seasonal     | seasonal     | rainwater harvesting | rainwater harvesting | surface     | communal standpipe          | communal standpipe |\n",
       "| 6 |  9944 |   20 | 2011-03-13 | Mkinga Distric Coun |    0 | DWE          | 39.17280 |  -4.765587 | Tajiri               | Pangani                 | ... | per bucket | salty | salty | enough       | enough       | other                | other                | unknown     | communal standpipe multiple | communal standpipe |\n",
       "\n"
      ],
      "text/plain": [
       "  id    amount_tsh date_recorded funder              gps_height installer   \n",
       "1 69572 6000       2011-03-14    Roman               1390       Roman       \n",
       "2  8776    0       2013-03-06    Grumeti             1399       GRUMETI     \n",
       "3 34310   25       2013-02-25    Lottery Club         686       World vision\n",
       "4 67743    0       2013-01-28    Unicef               263       UNICEF      \n",
       "5 19728    0       2011-07-13    Action In A            0       Artisan     \n",
       "6  9944   20       2011-03-13    Mkinga Distric Coun    0       DWE         \n",
       "  longitude latitude   wpt_name             basin                   ...\n",
       "1 34.93809   -9.856322 none                 Lake Nyasa              ...\n",
       "2 34.69877   -2.147466 Zahanati             Lake Victoria           ...\n",
       "3 37.46066   -3.821329 Kwa Mahundi          Pangani                 ...\n",
       "4 38.48616  -11.155298 Zahanati Ya Nanyumbu Ruvuma / Southern Coast ...\n",
       "5 31.13085   -1.825359 Shuleni              Lake Victoria           ...\n",
       "6 39.17280   -4.765587 Tajiri               Pangani                 ...\n",
       "  payment_type water_quality quality_group quantity     quantity_group\n",
       "1 annually     soft          good          enough       enough        \n",
       "2 never pay    soft          good          insufficient insufficient  \n",
       "3 per bucket   soft          good          enough       enough        \n",
       "4 never pay    soft          good          dry          dry           \n",
       "5 never pay    soft          good          seasonal     seasonal      \n",
       "6 per bucket   salty         salty         enough       enough        \n",
       "  source               source_type          source_class\n",
       "1 spring               spring               groundwater \n",
       "2 rainwater harvesting rainwater harvesting surface     \n",
       "3 dam                  dam                  surface     \n",
       "4 machine dbh          borehole             groundwater \n",
       "5 rainwater harvesting rainwater harvesting surface     \n",
       "6 other                other                unknown     \n",
       "  waterpoint_type             waterpoint_type_group\n",
       "1 communal standpipe          communal standpipe   \n",
       "2 communal standpipe          communal standpipe   \n",
       "3 communal standpipe multiple communal standpipe   \n",
       "4 communal standpipe multiple communal standpipe   \n",
       "5 communal standpipe          communal standpipe   \n",
       "6 communal standpipe multiple communal standpipe   "
      ]
     },
     "metadata": {},
     "output_type": "display_data"
    },
    {
     "name": "stderr",
     "output_type": "stream",
     "text": [
      "Warning message in chisq.test(table(training_set_values$funder, training_set_values$payment_type)):\n",
      "\"Chi-squared approximation may be incorrect\"\n"
     ]
    },
    {
     "data": {
      "text/plain": [
       "\n",
       "\tPearson's Chi-squared test\n",
       "\n",
       "data:  table(training_set_values$funder, training_set_values$payment_type)\n",
       "X-squared = 89600, df = 11382, p-value < 2.2e-16\n"
      ]
     },
     "metadata": {},
     "output_type": "display_data"
    },
    {
     "name": "stderr",
     "output_type": "stream",
     "text": [
      "Warning message in chisq.test(table(training_set_values$water_quality, training_set_values$quality_group)):\n",
      "\"Chi-squared approximation may be incorrect\"\n"
     ]
    },
    {
     "data": {
      "text/plain": [
       "\n",
       "\tPearson's Chi-squared test\n",
       "\n",
       "data:  table(training_set_values$water_quality, training_set_values$quality_group)\n",
       "X-squared = 297000, df = 35, p-value < 2.2e-16\n"
      ]
     },
     "metadata": {},
     "output_type": "display_data"
    }
   ],
   "source": [
    "head(training_set_values)\n",
    "\n",
    "chisq.test(table(training_set_values$funder, training_set_values$payment_type))\n",
    "# table(training_set_values$funder, training_set_values$payment_type)  # We see that it's mostly random\n",
    "chisq.test(table(training_set_values$water_quality, training_set_values$quality_group))\n"
   ]
  },
  {
   "cell_type": "markdown",
   "metadata": {},
   "source": [
    "## Feature engineering\n",
    "\n",
    "For this part, we will check our model and see if we cannot create new features for the data. For exemple we could merge `pay monthly` and `pay annualy` into `periodic_payment`.\n",
    "However we didn't find that very useful for the data presented.\n",
    "\n",
    "## Feature selection\n",
    "We want to look at the correlation between every input and the output. to do so we will make a `chiqs.test` for every column."
   ]
  },
  {
   "cell_type": "code",
   "execution_count": 12,
   "metadata": {},
   "outputs": [
    {
     "name": "stderr",
     "output_type": "stream",
     "text": [
      "Warning message in chisq.test(table(test_correlation$amount_tsh, test_correlation$status_group)):\n",
      "\"Chi-squared approximation may be incorrect\"\n"
     ]
    },
    {
     "data": {
      "text/plain": [
       "\n",
       "\tPearson's Chi-squared test\n",
       "\n",
       "data:  table(test_correlation$amount_tsh, test_correlation$status_group)\n",
       "X-squared = 4307.2, df = 194, p-value < 2.2e-16\n"
      ]
     },
     "metadata": {},
     "output_type": "display_data"
    },
    {
     "name": "stderr",
     "output_type": "stream",
     "text": [
      "Warning message in chisq.test(table(test_correlation$date_recorded, test_correlation$status_group)):\n",
      "\"Chi-squared approximation may be incorrect\"\n"
     ]
    },
    {
     "data": {
      "text/plain": [
       "\n",
       "\tPearson's Chi-squared test\n",
       "\n",
       "data:  table(test_correlation$date_recorded, test_correlation$status_group)\n",
       "X-squared = 5005.7, df = 710, p-value < 2.2e-16\n"
      ]
     },
     "metadata": {},
     "output_type": "display_data"
    },
    {
     "name": "stderr",
     "output_type": "stream",
     "text": [
      "Warning message in chisq.test(table(test_correlation$funder, test_correlation$status_group)):\n",
      "\"Chi-squared approximation may be incorrect\"\n"
     ]
    },
    {
     "data": {
      "text/plain": [
       "\n",
       "\tPearson's Chi-squared test\n",
       "\n",
       "data:  table(test_correlation$funder, test_correlation$status_group)\n",
       "X-squared = 14169, df = 3794, p-value < 2.2e-16\n"
      ]
     },
     "metadata": {},
     "output_type": "display_data"
    },
    {
     "name": "stderr",
     "output_type": "stream",
     "text": [
      "Warning message in chisq.test(table(test_correlation$gps_height, test_correlation$status_group)):\n",
      "\"Chi-squared approximation may be incorrect\"\n"
     ]
    },
    {
     "data": {
      "text/plain": [
       "\n",
       "\tPearson's Chi-squared test\n",
       "\n",
       "data:  table(test_correlation$gps_height, test_correlation$status_group)\n",
       "X-squared = 6279.7, df = 4854, p-value < 2.2e-16\n"
      ]
     },
     "metadata": {},
     "output_type": "display_data"
    },
    {
     "name": "stderr",
     "output_type": "stream",
     "text": [
      "Warning message in chisq.test(table(test_correlation$installer, test_correlation$status_group)):\n",
      "\"Chi-squared approximation may be incorrect\"\n"
     ]
    },
    {
     "data": {
      "text/plain": [
       "\n",
       "\tPearson's Chi-squared test\n",
       "\n",
       "data:  table(test_correlation$installer, test_correlation$status_group)\n",
       "X-squared = 14748, df = 4290, p-value < 2.2e-16\n"
      ]
     },
     "metadata": {},
     "output_type": "display_data"
    },
    {
     "name": "stderr",
     "output_type": "stream",
     "text": [
      "Warning message in chisq.test(table(test_correlation$longitude, test_correlation$status_group)):\n",
      "\"Chi-squared approximation may be incorrect\"\n"
     ]
    },
    {
     "data": {
      "text/plain": [
       "\n",
       "\tPearson's Chi-squared test\n",
       "\n",
       "data:  table(test_correlation$longitude, test_correlation$status_group)\n",
       "X-squared = 112780, df = 115030, p-value = 1\n"
      ]
     },
     "metadata": {},
     "output_type": "display_data"
    },
    {
     "name": "stderr",
     "output_type": "stream",
     "text": [
      "Warning message in chisq.test(table(test_correlation$latitude, test_correlation$status_group)):\n",
      "\"Chi-squared approximation may be incorrect\"\n"
     ]
    },
    {
     "data": {
      "text/plain": [
       "\n",
       "\tPearson's Chi-squared test\n",
       "\n",
       "data:  table(test_correlation$latitude, test_correlation$status_group)\n",
       "X-squared = 112782, df = 115032, p-value = 1\n"
      ]
     },
     "metadata": {},
     "output_type": "display_data"
    },
    {
     "name": "stderr",
     "output_type": "stream",
     "text": [
      "Warning message in chisq.test(table(test_correlation$wpt_name, test_correlation$status_group)):\n",
      "\"Chi-squared approximation may be incorrect\"\n"
     ]
    },
    {
     "data": {
      "text/plain": [
       "\n",
       "\tPearson's Chi-squared test\n",
       "\n",
       "data:  table(test_correlation$wpt_name, test_correlation$status_group)\n",
       "X-squared = 77854, df = 74798, p-value = 3.167e-15\n"
      ]
     },
     "metadata": {},
     "output_type": "display_data"
    },
    {
     "data": {
      "text/plain": [
       "\n",
       "\tPearson's Chi-squared test\n",
       "\n",
       "data:  table(test_correlation$basin, test_correlation$status_group)\n",
       "X-squared = 1921, df = 16, p-value < 2.2e-16\n"
      ]
     },
     "metadata": {},
     "output_type": "display_data"
    },
    {
     "name": "stderr",
     "output_type": "stream",
     "text": [
      "Warning message in chisq.test(table(test_correlation$subvillage, test_correlation$status_group)):\n",
      "\"Chi-squared approximation may be incorrect\"\n"
     ]
    },
    {
     "data": {
      "text/plain": [
       "\n",
       "\tPearson's Chi-squared test\n",
       "\n",
       "data:  table(test_correlation$subvillage, test_correlation$status_group)\n",
       "X-squared = 55210, df = 38574, p-value < 2.2e-16\n"
      ]
     },
     "metadata": {},
     "output_type": "display_data"
    },
    {
     "data": {
      "text/plain": [
       "\n",
       "\tPearson's Chi-squared test\n",
       "\n",
       "data:  table(test_correlation$region, test_correlation$status_group)\n",
       "X-squared = 4794.6, df = 40, p-value < 2.2e-16\n"
      ]
     },
     "metadata": {},
     "output_type": "display_data"
    },
    {
     "name": "stderr",
     "output_type": "stream",
     "text": [
      "Warning message in chisq.test(table(test_correlation$region_code, test_correlation$status_group)):\n",
      "\"Chi-squared approximation may be incorrect\"\n"
     ]
    },
    {
     "data": {
      "text/plain": [
       "\n",
       "\tPearson's Chi-squared test\n",
       "\n",
       "data:  table(test_correlation$region_code, test_correlation$status_group)\n",
       "X-squared = 5157.4, df = 52, p-value < 2.2e-16\n"
      ]
     },
     "metadata": {},
     "output_type": "display_data"
    },
    {
     "name": "stderr",
     "output_type": "stream",
     "text": [
      "Warning message in chisq.test(table(test_correlation$district_code, test_correlation$status_group)):\n",
      "\"Chi-squared approximation may be incorrect\"\n"
     ]
    },
    {
     "data": {
      "text/plain": [
       "\n",
       "\tPearson's Chi-squared test\n",
       "\n",
       "data:  table(test_correlation$district_code, test_correlation$status_group)\n",
       "X-squared = 1673.5, df = 38, p-value < 2.2e-16\n"
      ]
     },
     "metadata": {},
     "output_type": "display_data"
    },
    {
     "name": "stderr",
     "output_type": "stream",
     "text": [
      "Warning message in chisq.test(table(test_correlation$lga, test_correlation$status_group)):\n",
      "\"Chi-squared approximation may be incorrect\"\n"
     ]
    },
    {
     "data": {
      "text/plain": [
       "\n",
       "\tPearson's Chi-squared test\n",
       "\n",
       "data:  table(test_correlation$lga, test_correlation$status_group)\n",
       "X-squared = 11530, df = 248, p-value < 2.2e-16\n"
      ]
     },
     "metadata": {},
     "output_type": "display_data"
    },
    {
     "name": "stderr",
     "output_type": "stream",
     "text": [
      "Warning message in chisq.test(table(test_correlation$ward, test_correlation$status_group)):\n",
      "\"Chi-squared approximation may be incorrect\"\n"
     ]
    },
    {
     "data": {
      "text/plain": [
       "\n",
       "\tPearson's Chi-squared test\n",
       "\n",
       "data:  table(test_correlation$ward, test_correlation$status_group)\n",
       "X-squared = 26145, df = 4182, p-value < 2.2e-16\n"
      ]
     },
     "metadata": {},
     "output_type": "display_data"
    },
    {
     "name": "stderr",
     "output_type": "stream",
     "text": [
      "Warning message in chisq.test(table(test_correlation$population, test_correlation$status_group)):\n",
      "\"Chi-squared approximation may be incorrect\"\n"
     ]
    },
    {
     "data": {
      "text/plain": [
       "\n",
       "\tPearson's Chi-squared test\n",
       "\n",
       "data:  table(test_correlation$population, test_correlation$status_group)\n",
       "X-squared = 4480, df = 2096, p-value < 2.2e-16\n"
      ]
     },
     "metadata": {},
     "output_type": "display_data"
    },
    {
     "data": {
      "text/plain": [
       "\n",
       "\tPearson's Chi-squared test\n",
       "\n",
       "data:  table(test_correlation$public_meeting, test_correlation$status_group)\n",
       "X-squared = 384, df = 4, p-value < 2.2e-16\n"
      ]
     },
     "metadata": {},
     "output_type": "display_data"
    },
    {
     "name": "stderr",
     "output_type": "stream",
     "text": [
      "Warning message in chisq.test(table(test_correlation$scheme_management, test_correlation$status_group)):\n",
      "\"Chi-squared approximation may be incorrect\"\n"
     ]
    },
    {
     "data": {
      "text/plain": [
       "\n",
       "\tPearson's Chi-squared test\n",
       "\n",
       "data:  table(test_correlation$scheme_management, test_correlation$status_group)\n",
       "X-squared = 1991.1, df = 24, p-value < 2.2e-16\n"
      ]
     },
     "metadata": {},
     "output_type": "display_data"
    },
    {
     "name": "stderr",
     "output_type": "stream",
     "text": [
      "Warning message in chisq.test(table(test_correlation$scheme_name, test_correlation$status_group)):\n",
      "\"Chi-squared approximation may be incorrect\"\n"
     ]
    },
    {
     "data": {
      "text/plain": [
       "\n",
       "\tPearson's Chi-squared test\n",
       "\n",
       "data:  table(test_correlation$scheme_name, test_correlation$status_group)\n",
       "X-squared = 21643, df = 5392, p-value < 2.2e-16\n"
      ]
     },
     "metadata": {},
     "output_type": "display_data"
    },
    {
     "data": {
      "text/plain": [
       "\n",
       "\tPearson's Chi-squared test\n",
       "\n",
       "data:  table(test_correlation$permit, test_correlation$status_group)\n",
       "X-squared = 104.18, df = 4, p-value < 2.2e-16\n"
      ]
     },
     "metadata": {},
     "output_type": "display_data"
    },
    {
     "name": "stderr",
     "output_type": "stream",
     "text": [
      "Warning message in chisq.test(table(test_correlation$construction_year, test_correlation$status_group)):\n",
      "\"Chi-squared approximation may be incorrect\"\n"
     ]
    },
    {
     "data": {
      "text/plain": [
       "\n",
       "\tPearson's Chi-squared test\n",
       "\n",
       "data:  table(test_correlation$construction_year, test_correlation$status_group)\n",
       "X-squared = 4098.4, df = 108, p-value < 2.2e-16\n"
      ]
     },
     "metadata": {},
     "output_type": "display_data"
    },
    {
     "name": "stderr",
     "output_type": "stream",
     "text": [
      "Warning message in chisq.test(table(test_correlation$extraction_type, test_correlation$status_group)):\n",
      "\"Chi-squared approximation may be incorrect\"\n"
     ]
    },
    {
     "data": {
      "text/plain": [
       "\n",
       "\tPearson's Chi-squared test\n",
       "\n",
       "data:  table(test_correlation$extraction_type, test_correlation$status_group)\n",
       "X-squared = 7365.6, df = 34, p-value < 2.2e-16\n"
      ]
     },
     "metadata": {},
     "output_type": "display_data"
    },
    {
     "data": {
      "text/plain": [
       "\n",
       "\tPearson's Chi-squared test\n",
       "\n",
       "data:  table(test_correlation$management, test_correlation$status_group)\n",
       "X-squared = 2081.1, df = 22, p-value < 2.2e-16\n"
      ]
     },
     "metadata": {},
     "output_type": "display_data"
    },
    {
     "data": {
      "text/plain": [
       "\n",
       "\tPearson's Chi-squared test\n",
       "\n",
       "data:  table(test_correlation$payment, test_correlation$status_group)\n",
       "X-squared = 3965.6, df = 12, p-value < 2.2e-16\n"
      ]
     },
     "metadata": {},
     "output_type": "display_data"
    },
    {
     "name": "stderr",
     "output_type": "stream",
     "text": [
      "Warning message in chisq.test(table(test_correlation$water_quality, test_correlation$status_group)):\n",
      "\"Chi-squared approximation may be incorrect\"\n"
     ]
    },
    {
     "data": {
      "text/plain": [
       "\n",
       "\tPearson's Chi-squared test\n",
       "\n",
       "data:  table(test_correlation$water_quality, test_correlation$status_group)\n",
       "X-squared = 2277.4, df = 14, p-value < 2.2e-16\n"
      ]
     },
     "metadata": {},
     "output_type": "display_data"
    },
    {
     "data": {
      "text/plain": [
       "\n",
       "\tPearson's Chi-squared test\n",
       "\n",
       "data:  table(test_correlation$quantity, test_correlation$status_group)\n",
       "X-squared = 11361, df = 8, p-value < 2.2e-16\n"
      ]
     },
     "metadata": {},
     "output_type": "display_data"
    },
    {
     "name": "stderr",
     "output_type": "stream",
     "text": [
      "Warning message in chisq.test(table(test_correlation$source, test_correlation$status_group)):\n",
      "\"Chi-squared approximation may be incorrect\"\n"
     ]
    },
    {
     "data": {
      "text/plain": [
       "\n",
       "\tPearson's Chi-squared test\n",
       "\n",
       "data:  table(test_correlation$source, test_correlation$status_group)\n",
       "X-squared = 2624, df = 18, p-value < 2.2e-16\n"
      ]
     },
     "metadata": {},
     "output_type": "display_data"
    },
    {
     "name": "stderr",
     "output_type": "stream",
     "text": [
      "Warning message in chisq.test(table(test_correlation$waterpoint_type, test_correlation$status_group)):\n",
      "\"Chi-squared approximation may be incorrect\"\n"
     ]
    },
    {
     "data": {
      "text/plain": [
       "\n",
       "\tPearson's Chi-squared test\n",
       "\n",
       "data:  table(test_correlation$waterpoint_type, test_correlation$status_group)\n",
       "X-squared = 7450.3, df = 12, p-value < 2.2e-16\n"
      ]
     },
     "metadata": {},
     "output_type": "display_data"
    }
   ],
   "source": [
    "test_correlation <- cbind(training_set_values,training_set_labels[2])\n",
    "\n",
    "chisq.test(table(test_correlation$amount_tsh, test_correlation$status_group))\n",
    "chisq.test(table(test_correlation$date_recorded, test_correlation$status_group))\n",
    "chisq.test(table(test_correlation$funder, test_correlation$status_group))\n",
    "chisq.test(table(test_correlation$gps_height, test_correlation$status_group))\n",
    "chisq.test(table(test_correlation$installer, test_correlation$status_group))\n",
    "chisq.test(table(test_correlation$longitude, test_correlation$status_group))\n",
    "chisq.test(table(test_correlation$latitude, test_correlation$status_group))\n",
    "chisq.test(table(test_correlation$wpt_name, test_correlation$status_group))\n",
    "chisq.test(table(test_correlation$basin, test_correlation$status_group))\n",
    "chisq.test(table(test_correlation$subvillage, test_correlation$status_group))\n",
    "chisq.test(table(test_correlation$region, test_correlation$status_group))\n",
    "chisq.test(table(test_correlation$region_code, test_correlation$status_group))\n",
    "chisq.test(table(test_correlation$district_code, test_correlation$status_group))\n",
    "chisq.test(table(test_correlation$lga, test_correlation$status_group))\n",
    "chisq.test(table(test_correlation$ward, test_correlation$status_group))\n",
    "chisq.test(table(test_correlation$population, test_correlation$status_group))\n",
    "chisq.test(table(test_correlation$public_meeting, test_correlation$status_group))\n",
    "chisq.test(table(test_correlation$scheme_management, test_correlation$status_group))\n",
    "chisq.test(table(test_correlation$scheme_name, test_correlation$status_group))\n",
    "chisq.test(table(test_correlation$permit, test_correlation$status_group))\n",
    "chisq.test(table(test_correlation$construction_year, test_correlation$status_group))\n",
    "chisq.test(table(test_correlation$extraction_type, test_correlation$status_group))\n",
    "chisq.test(table(test_correlation$management, test_correlation$status_group))\n",
    "chisq.test(table(test_correlation$payment, test_correlation$status_group))\n",
    "chisq.test(table(test_correlation$water_quality, test_correlation$status_group))\n",
    "chisq.test(table(test_correlation$quantity, test_correlation$status_group))\n",
    "chisq.test(table(test_correlation$source, test_correlation$status_group))\n",
    "chisq.test(table(test_correlation$waterpoint_type, test_correlation$status_group))"
   ]
  },
  {
   "cell_type": "markdown",
   "metadata": {},
   "source": [
    "Now, we will look at pairs of columns that seem similar and compare their contingency table. \n",
    "\n",
    "The columns mentionned in the next cell are removed because of their contigency table with another column. We removed them if it indicated that they brought the same or less information to the model"
   ]
  },
  {
   "cell_type": "code",
   "execution_count": 13,
   "metadata": {
    "scrolled": true
   },
   "outputs": [
    {
     "data": {
      "text/html": [
       "<style>\n",
       ".list-inline {list-style: none; margin:0; padding: 0}\n",
       ".list-inline>li {display: inline-block}\n",
       ".list-inline>li:not(:last-child)::after {content: \"\\00b7\"; padding: 0 .5ex}\n",
       "</style>\n",
       "<ol class=list-inline><li>'id'</li><li>'amount_tsh'</li><li>'date_recorded'</li><li>'funder'</li><li>'gps_height'</li><li>'installer'</li><li>'longitude'</li><li>'latitude'</li><li>'wpt_name'</li><li>'basin'</li><li>'subvillage'</li><li>'region'</li><li>'region_code'</li><li>'district_code'</li><li>'lga'</li><li>'ward'</li><li>'population'</li><li>'public_meeting'</li><li>'scheme_management'</li><li>'scheme_name'</li><li>'permit'</li><li>'construction_year'</li><li>'extraction_type'</li><li>'extraction_type_class'</li><li>'management'</li><li>'payment'</li><li>'water_quality'</li><li>'quantity'</li><li>'source'</li><li>'waterpoint_type'</li></ol>\n"
      ],
      "text/latex": [
       "\\begin{enumerate*}\n",
       "\\item 'id'\n",
       "\\item 'amount\\_tsh'\n",
       "\\item 'date\\_recorded'\n",
       "\\item 'funder'\n",
       "\\item 'gps\\_height'\n",
       "\\item 'installer'\n",
       "\\item 'longitude'\n",
       "\\item 'latitude'\n",
       "\\item 'wpt\\_name'\n",
       "\\item 'basin'\n",
       "\\item 'subvillage'\n",
       "\\item 'region'\n",
       "\\item 'region\\_code'\n",
       "\\item 'district\\_code'\n",
       "\\item 'lga'\n",
       "\\item 'ward'\n",
       "\\item 'population'\n",
       "\\item 'public\\_meeting'\n",
       "\\item 'scheme\\_management'\n",
       "\\item 'scheme\\_name'\n",
       "\\item 'permit'\n",
       "\\item 'construction\\_year'\n",
       "\\item 'extraction\\_type'\n",
       "\\item 'extraction\\_type\\_class'\n",
       "\\item 'management'\n",
       "\\item 'payment'\n",
       "\\item 'water\\_quality'\n",
       "\\item 'quantity'\n",
       "\\item 'source'\n",
       "\\item 'waterpoint\\_type'\n",
       "\\end{enumerate*}\n"
      ],
      "text/markdown": [
       "1. 'id'\n",
       "2. 'amount_tsh'\n",
       "3. 'date_recorded'\n",
       "4. 'funder'\n",
       "5. 'gps_height'\n",
       "6. 'installer'\n",
       "7. 'longitude'\n",
       "8. 'latitude'\n",
       "9. 'wpt_name'\n",
       "10. 'basin'\n",
       "11. 'subvillage'\n",
       "12. 'region'\n",
       "13. 'region_code'\n",
       "14. 'district_code'\n",
       "15. 'lga'\n",
       "16. 'ward'\n",
       "17. 'population'\n",
       "18. 'public_meeting'\n",
       "19. 'scheme_management'\n",
       "20. 'scheme_name'\n",
       "21. 'permit'\n",
       "22. 'construction_year'\n",
       "23. 'extraction_type'\n",
       "24. 'extraction_type_class'\n",
       "25. 'management'\n",
       "26. 'payment'\n",
       "27. 'water_quality'\n",
       "28. 'quantity'\n",
       "29. 'source'\n",
       "30. 'waterpoint_type'\n",
       "\n",
       "\n"
      ],
      "text/plain": [
       " [1] \"id\"                    \"amount_tsh\"            \"date_recorded\"        \n",
       " [4] \"funder\"                \"gps_height\"            \"installer\"            \n",
       " [7] \"longitude\"             \"latitude\"              \"wpt_name\"             \n",
       "[10] \"basin\"                 \"subvillage\"            \"region\"               \n",
       "[13] \"region_code\"           \"district_code\"         \"lga\"                  \n",
       "[16] \"ward\"                  \"population\"            \"public_meeting\"       \n",
       "[19] \"scheme_management\"     \"scheme_name\"           \"permit\"               \n",
       "[22] \"construction_year\"     \"extraction_type\"       \"extraction_type_class\"\n",
       "[25] \"management\"            \"payment\"               \"water_quality\"        \n",
       "[28] \"quantity\"              \"source\"                \"waterpoint_type\"      "
      ]
     },
     "metadata": {},
     "output_type": "display_data"
    },
    {
     "data": {
      "text/html": [
       "30"
      ],
      "text/latex": [
       "30"
      ],
      "text/markdown": [
       "30"
      ],
      "text/plain": [
       "[1] 30"
      ]
     },
     "metadata": {},
     "output_type": "display_data"
    },
    {
     "data": {
      "text/html": [
       "<table class=\"dataframe\">\n",
       "<caption>A data.frame: 59400 × 30</caption>\n",
       "<thead>\n",
       "\t<tr><th scope=col>id</th><th scope=col>amount_tsh</th><th scope=col>date_recorded</th><th scope=col>funder</th><th scope=col>gps_height</th><th scope=col>installer</th><th scope=col>longitude</th><th scope=col>latitude</th><th scope=col>wpt_name</th><th scope=col>basin</th><th scope=col>subvillage</th><th scope=col>region</th><th scope=col>region_code</th><th scope=col>district_code</th><th scope=col>lga</th><th scope=col>ward</th><th scope=col>population</th><th scope=col>public_meeting</th><th scope=col>scheme_management</th><th scope=col>scheme_name</th><th scope=col>permit</th><th scope=col>construction_year</th><th scope=col>extraction_type</th><th scope=col>extraction_type_class</th><th scope=col>management</th><th scope=col>payment</th><th scope=col>water_quality</th><th scope=col>quantity</th><th scope=col>source</th><th scope=col>waterpoint_type</th></tr>\n",
       "\t<tr><th scope=col>&lt;int&gt;</th><th scope=col>&lt;dbl&gt;</th><th scope=col>&lt;fct&gt;</th><th scope=col>&lt;fct&gt;</th><th scope=col>&lt;int&gt;</th><th scope=col>&lt;fct&gt;</th><th scope=col>&lt;dbl&gt;</th><th scope=col>&lt;dbl&gt;</th><th scope=col>&lt;fct&gt;</th><th scope=col>&lt;fct&gt;</th><th scope=col>&lt;fct&gt;</th><th scope=col>&lt;fct&gt;</th><th scope=col>&lt;int&gt;</th><th scope=col>&lt;int&gt;</th><th scope=col>&lt;fct&gt;</th><th scope=col>&lt;fct&gt;</th><th scope=col>&lt;int&gt;</th><th scope=col>&lt;fct&gt;</th><th scope=col>&lt;fct&gt;</th><th scope=col>&lt;fct&gt;</th><th scope=col>&lt;fct&gt;</th><th scope=col>&lt;int&gt;</th><th scope=col>&lt;fct&gt;</th><th scope=col>&lt;fct&gt;</th><th scope=col>&lt;fct&gt;</th><th scope=col>&lt;fct&gt;</th><th scope=col>&lt;fct&gt;</th><th scope=col>&lt;fct&gt;</th><th scope=col>&lt;fct&gt;</th><th scope=col>&lt;fct&gt;</th></tr>\n",
       "</thead>\n",
       "<tbody>\n",
       "\t<tr><td>69572</td><td>6000</td><td>2011-03-14</td><td>Roman       </td><td>1390</td><td>Roman       </td><td>34.93809</td><td> -9.856322</td><td>none                </td><td>Lake Nyasa             </td><td>Mnyusi B  </td><td>Iringa </td><td>11</td><td> 5</td><td>Ludewa   </td><td>Mundindi  </td><td>109</td><td>True</td><td>VWC  </td><td>Roman                      </td><td>False</td><td>1999</td><td>gravity    </td><td>gravity    </td><td>vwc  </td><td>pay annually  </td><td>soft</td><td>enough      </td><td>spring              </td><td>communal standpipe         </td></tr>\n",
       "\t<tr><td> 8776</td><td>   0</td><td>2013-03-06</td><td>Grumeti     </td><td>1399</td><td>GRUMETI     </td><td>34.69877</td><td> -2.147466</td><td>Zahanati            </td><td>Lake Victoria          </td><td>Nyamara   </td><td>Mara   </td><td>20</td><td> 2</td><td>Serengeti</td><td>Natta     </td><td>280</td><td>    </td><td>Other</td><td>                           </td><td>True </td><td>2010</td><td>gravity    </td><td>gravity    </td><td>wug  </td><td>never pay     </td><td>soft</td><td>insufficient</td><td>rainwater harvesting</td><td>communal standpipe         </td></tr>\n",
       "\t<tr><td>34310</td><td>  25</td><td>2013-02-25</td><td>Lottery Club</td><td> 686</td><td>World vision</td><td>37.46066</td><td> -3.821329</td><td>Kwa Mahundi         </td><td>Pangani                </td><td>Majengo   </td><td>Manyara</td><td>21</td><td> 4</td><td>Simanjiro</td><td>Ngorika   </td><td>250</td><td>True</td><td>VWC  </td><td>Nyumba ya mungu pipe scheme</td><td>True </td><td>2009</td><td>gravity    </td><td>gravity    </td><td>vwc  </td><td>pay per bucket</td><td>soft</td><td>enough      </td><td>dam                 </td><td>communal standpipe multiple</td></tr>\n",
       "\t<tr><td>67743</td><td>   0</td><td>2013-01-28</td><td>Unicef      </td><td> 263</td><td>UNICEF      </td><td>38.48616</td><td>-11.155298</td><td>Zahanati Ya Nanyumbu</td><td>Ruvuma / Southern Coast</td><td>Mahakamani</td><td>Mtwara </td><td>90</td><td>63</td><td>Nanyumbu </td><td>Nanyumbu  </td><td> 58</td><td>True</td><td>VWC  </td><td>                           </td><td>True </td><td>1986</td><td>submersible</td><td>submersible</td><td>vwc  </td><td>never pay     </td><td>soft</td><td>dry         </td><td>machine dbh         </td><td>communal standpipe multiple</td></tr>\n",
       "\t<tr><td>19728</td><td>   0</td><td>2011-07-13</td><td>Action In A </td><td>   0</td><td>Artisan     </td><td>31.13085</td><td> -1.825359</td><td>Shuleni             </td><td>Lake Victoria          </td><td>Kyanyamisa</td><td>Kagera </td><td>18</td><td> 1</td><td>Karagwe  </td><td>Nyakasimbi</td><td>  0</td><td>True</td><td>     </td><td>                           </td><td>True </td><td>   0</td><td>gravity    </td><td>gravity    </td><td>other</td><td>never pay     </td><td>soft</td><td>seasonal    </td><td>rainwater harvesting</td><td>communal standpipe         </td></tr>\n",
       "\t<tr><td>...</td><td>...</td><td>...</td><td>...</td><td>...</td><td>...</td><td>...</td><td>...</td><td>...</td><td>...</td><td>...</td><td>...</td><td>...</td><td>...</td><td>...</td><td>...</td><td>...</td><td>...</td><td>...</td><td>...</td><td>...</td><td>...</td><td>...</td><td>...</td><td>...</td><td>...</td><td>...</td><td>...</td><td>...</td><td>...</td></tr>\n",
       "\t<tr><td>60739</td><td>  10</td><td>2013-05-03</td><td>Germany Republi</td><td>1210</td><td>CES  </td><td>37.16981</td><td>-3.253847</td><td>Area Three Namba 27</td><td>Pangani    </td><td>Kiduruni    </td><td>Kilimanjaro</td><td> 3</td><td>5</td><td>Hai           </td><td>Masama Magharibi</td><td>125</td><td>True</td><td>Water Board</td><td>Losaa Kia water supply     </td><td>True </td><td>1999</td><td>gravity    </td><td>gravity </td><td>water board</td><td>pay per bucket       </td><td>soft    </td><td>enough      </td><td>spring      </td><td>communal standpipe</td></tr>\n",
       "\t<tr><td>27263</td><td>4700</td><td>2011-05-07</td><td>Cefa-njombe    </td><td>1212</td><td>Cefa </td><td>35.24999</td><td>-9.070629</td><td>Kwa Yahona Kuvala  </td><td>Rufiji     </td><td>Igumbilo    </td><td>Iringa     </td><td>11</td><td>4</td><td>Njombe        </td><td>Ikondo          </td><td> 56</td><td>True</td><td>VWC        </td><td>Ikondo electrical water sch</td><td>True </td><td>1996</td><td>gravity    </td><td>gravity </td><td>vwc        </td><td>pay annually         </td><td>soft    </td><td>enough      </td><td>river       </td><td>communal standpipe</td></tr>\n",
       "\t<tr><td>37057</td><td>   0</td><td>2011-04-11</td><td>               </td><td>   0</td><td>     </td><td>34.01709</td><td>-8.750434</td><td>Mashine            </td><td>Rufiji     </td><td>Madungulu   </td><td>Mbeya      </td><td>12</td><td>7</td><td>Mbarali       </td><td>Chimala         </td><td>  0</td><td>True</td><td>VWC        </td><td>                           </td><td>False</td><td>   0</td><td>swn 80     </td><td>handpump</td><td>vwc        </td><td>pay monthly          </td><td>fluoride</td><td>enough      </td><td>machine dbh </td><td>hand pump         </td></tr>\n",
       "\t<tr><td>31282</td><td>   0</td><td>2011-03-08</td><td>Malec          </td><td>   0</td><td>Musa </td><td>35.86132</td><td>-6.378573</td><td>Mshoro             </td><td>Rufiji     </td><td>Mwinyi      </td><td>Dodoma     </td><td> 1</td><td>4</td><td>Chamwino      </td><td>Mvumi Makulu    </td><td>  0</td><td>True</td><td>VWC        </td><td>                           </td><td>True </td><td>   0</td><td>nira/tanira</td><td>handpump</td><td>vwc        </td><td>never pay            </td><td>soft    </td><td>insufficient</td><td>shallow well</td><td>hand pump         </td></tr>\n",
       "\t<tr><td>26348</td><td>   0</td><td>2011-03-23</td><td>World Bank     </td><td> 191</td><td>World</td><td>38.10405</td><td>-6.747464</td><td>Kwa Mzee Lugawa    </td><td>Wami / Ruvu</td><td>Kikatanyemba</td><td>Morogoro   </td><td> 5</td><td>2</td><td>Morogoro Rural</td><td>Ngerengere      </td><td>150</td><td>True</td><td>VWC        </td><td>                           </td><td>True </td><td>2002</td><td>nira/tanira</td><td>handpump</td><td>vwc        </td><td>pay when scheme fails</td><td>salty   </td><td>enough      </td><td>shallow well</td><td>hand pump         </td></tr>\n",
       "</tbody>\n",
       "</table>\n"
      ],
      "text/latex": [
       "A data.frame: 59400 × 30\n",
       "\\begin{tabular}{llllllllllllllllllllllllllllll}\n",
       " id & amount\\_tsh & date\\_recorded & funder & gps\\_height & installer & longitude & latitude & wpt\\_name & basin & subvillage & region & region\\_code & district\\_code & lga & ward & population & public\\_meeting & scheme\\_management & scheme\\_name & permit & construction\\_year & extraction\\_type & extraction\\_type\\_class & management & payment & water\\_quality & quantity & source & waterpoint\\_type\\\\\n",
       " <int> & <dbl> & <fct> & <fct> & <int> & <fct> & <dbl> & <dbl> & <fct> & <fct> & <fct> & <fct> & <int> & <int> & <fct> & <fct> & <int> & <fct> & <fct> & <fct> & <fct> & <int> & <fct> & <fct> & <fct> & <fct> & <fct> & <fct> & <fct> & <fct>\\\\\n",
       "\\hline\n",
       "\t 69572 & 6000 & 2011-03-14 & Roman        & 1390 & Roman        & 34.93809 &  -9.856322 & none                 & Lake Nyasa              & Mnyusi B   & Iringa  & 11 &  5 & Ludewa    & Mundindi   & 109 & True & VWC   & Roman                       & False & 1999 & gravity     & gravity     & vwc   & pay annually   & soft & enough       & spring               & communal standpipe         \\\\\n",
       "\t  8776 &    0 & 2013-03-06 & Grumeti      & 1399 & GRUMETI      & 34.69877 &  -2.147466 & Zahanati             & Lake Victoria           & Nyamara    & Mara    & 20 &  2 & Serengeti & Natta      & 280 &      & Other &                             & True  & 2010 & gravity     & gravity     & wug   & never pay      & soft & insufficient & rainwater harvesting & communal standpipe         \\\\\n",
       "\t 34310 &   25 & 2013-02-25 & Lottery Club &  686 & World vision & 37.46066 &  -3.821329 & Kwa Mahundi          & Pangani                 & Majengo    & Manyara & 21 &  4 & Simanjiro & Ngorika    & 250 & True & VWC   & Nyumba ya mungu pipe scheme & True  & 2009 & gravity     & gravity     & vwc   & pay per bucket & soft & enough       & dam                  & communal standpipe multiple\\\\\n",
       "\t 67743 &    0 & 2013-01-28 & Unicef       &  263 & UNICEF       & 38.48616 & -11.155298 & Zahanati Ya Nanyumbu & Ruvuma / Southern Coast & Mahakamani & Mtwara  & 90 & 63 & Nanyumbu  & Nanyumbu   &  58 & True & VWC   &                             & True  & 1986 & submersible & submersible & vwc   & never pay      & soft & dry          & machine dbh          & communal standpipe multiple\\\\\n",
       "\t 19728 &    0 & 2011-07-13 & Action In A  &    0 & Artisan      & 31.13085 &  -1.825359 & Shuleni              & Lake Victoria           & Kyanyamisa & Kagera  & 18 &  1 & Karagwe   & Nyakasimbi &   0 & True &       &                             & True  &    0 & gravity     & gravity     & other & never pay      & soft & seasonal     & rainwater harvesting & communal standpipe         \\\\\n",
       "\t ... & ... & ... & ... & ... & ... & ... & ... & ... & ... & ... & ... & ... & ... & ... & ... & ... & ... & ... & ... & ... & ... & ... & ... & ... & ... & ... & ... & ... & ...\\\\\n",
       "\t 60739 &   10 & 2013-05-03 & Germany Republi & 1210 & CES   & 37.16981 & -3.253847 & Area Three Namba 27 & Pangani     & Kiduruni     & Kilimanjaro &  3 & 5 & Hai            & Masama Magharibi & 125 & True & Water Board & Losaa Kia water supply      & True  & 1999 & gravity     & gravity  & water board & pay per bucket        & soft     & enough       & spring       & communal standpipe\\\\\n",
       "\t 27263 & 4700 & 2011-05-07 & Cefa-njombe     & 1212 & Cefa  & 35.24999 & -9.070629 & Kwa Yahona Kuvala   & Rufiji      & Igumbilo     & Iringa      & 11 & 4 & Njombe         & Ikondo           &  56 & True & VWC         & Ikondo electrical water sch & True  & 1996 & gravity     & gravity  & vwc         & pay annually          & soft     & enough       & river        & communal standpipe\\\\\n",
       "\t 37057 &    0 & 2011-04-11 &                 &    0 &       & 34.01709 & -8.750434 & Mashine             & Rufiji      & Madungulu    & Mbeya       & 12 & 7 & Mbarali        & Chimala          &   0 & True & VWC         &                             & False &    0 & swn 80      & handpump & vwc         & pay monthly           & fluoride & enough       & machine dbh  & hand pump         \\\\\n",
       "\t 31282 &    0 & 2011-03-08 & Malec           &    0 & Musa  & 35.86132 & -6.378573 & Mshoro              & Rufiji      & Mwinyi       & Dodoma      &  1 & 4 & Chamwino       & Mvumi Makulu     &   0 & True & VWC         &                             & True  &    0 & nira/tanira & handpump & vwc         & never pay             & soft     & insufficient & shallow well & hand pump         \\\\\n",
       "\t 26348 &    0 & 2011-03-23 & World Bank      &  191 & World & 38.10405 & -6.747464 & Kwa Mzee Lugawa     & Wami / Ruvu & Kikatanyemba & Morogoro    &  5 & 2 & Morogoro Rural & Ngerengere       & 150 & True & VWC         &                             & True  & 2002 & nira/tanira & handpump & vwc         & pay when scheme fails & salty    & enough       & shallow well & hand pump         \\\\\n",
       "\\end{tabular}\n"
      ],
      "text/markdown": [
       "\n",
       "A data.frame: 59400 × 30\n",
       "\n",
       "| id &lt;int&gt; | amount_tsh &lt;dbl&gt; | date_recorded &lt;fct&gt; | funder &lt;fct&gt; | gps_height &lt;int&gt; | installer &lt;fct&gt; | longitude &lt;dbl&gt; | latitude &lt;dbl&gt; | wpt_name &lt;fct&gt; | basin &lt;fct&gt; | subvillage &lt;fct&gt; | region &lt;fct&gt; | region_code &lt;int&gt; | district_code &lt;int&gt; | lga &lt;fct&gt; | ward &lt;fct&gt; | population &lt;int&gt; | public_meeting &lt;fct&gt; | scheme_management &lt;fct&gt; | scheme_name &lt;fct&gt; | permit &lt;fct&gt; | construction_year &lt;int&gt; | extraction_type &lt;fct&gt; | extraction_type_class &lt;fct&gt; | management &lt;fct&gt; | payment &lt;fct&gt; | water_quality &lt;fct&gt; | quantity &lt;fct&gt; | source &lt;fct&gt; | waterpoint_type &lt;fct&gt; |\n",
       "|---|---|---|---|---|---|---|---|---|---|---|---|---|---|---|---|---|---|---|---|---|---|---|---|---|---|---|---|---|---|\n",
       "| 69572 | 6000 | 2011-03-14 | Roman        | 1390 | Roman        | 34.93809 |  -9.856322 | none                 | Lake Nyasa              | Mnyusi B   | Iringa  | 11 |  5 | Ludewa    | Mundindi   | 109 | True | VWC   | Roman                       | False | 1999 | gravity     | gravity     | vwc   | pay annually   | soft | enough       | spring               | communal standpipe          |\n",
       "|  8776 |    0 | 2013-03-06 | Grumeti      | 1399 | GRUMETI      | 34.69877 |  -2.147466 | Zahanati             | Lake Victoria           | Nyamara    | Mara    | 20 |  2 | Serengeti | Natta      | 280 | <!----> | Other | <!----> | True  | 2010 | gravity     | gravity     | wug   | never pay      | soft | insufficient | rainwater harvesting | communal standpipe          |\n",
       "| 34310 |   25 | 2013-02-25 | Lottery Club |  686 | World vision | 37.46066 |  -3.821329 | Kwa Mahundi          | Pangani                 | Majengo    | Manyara | 21 |  4 | Simanjiro | Ngorika    | 250 | True | VWC   | Nyumba ya mungu pipe scheme | True  | 2009 | gravity     | gravity     | vwc   | pay per bucket | soft | enough       | dam                  | communal standpipe multiple |\n",
       "| 67743 |    0 | 2013-01-28 | Unicef       |  263 | UNICEF       | 38.48616 | -11.155298 | Zahanati Ya Nanyumbu | Ruvuma / Southern Coast | Mahakamani | Mtwara  | 90 | 63 | Nanyumbu  | Nanyumbu   |  58 | True | VWC   | <!----> | True  | 1986 | submersible | submersible | vwc   | never pay      | soft | dry          | machine dbh          | communal standpipe multiple |\n",
       "| 19728 |    0 | 2011-07-13 | Action In A  |    0 | Artisan      | 31.13085 |  -1.825359 | Shuleni              | Lake Victoria           | Kyanyamisa | Kagera  | 18 |  1 | Karagwe   | Nyakasimbi |   0 | True | <!----> | <!----> | True  |    0 | gravity     | gravity     | other | never pay      | soft | seasonal     | rainwater harvesting | communal standpipe          |\n",
       "| ... | ... | ... | ... | ... | ... | ... | ... | ... | ... | ... | ... | ... | ... | ... | ... | ... | ... | ... | ... | ... | ... | ... | ... | ... | ... | ... | ... | ... | ... |\n",
       "| 60739 |   10 | 2013-05-03 | Germany Republi | 1210 | CES   | 37.16981 | -3.253847 | Area Three Namba 27 | Pangani     | Kiduruni     | Kilimanjaro |  3 | 5 | Hai            | Masama Magharibi | 125 | True | Water Board | Losaa Kia water supply      | True  | 1999 | gravity     | gravity  | water board | pay per bucket        | soft     | enough       | spring       | communal standpipe |\n",
       "| 27263 | 4700 | 2011-05-07 | Cefa-njombe     | 1212 | Cefa  | 35.24999 | -9.070629 | Kwa Yahona Kuvala   | Rufiji      | Igumbilo     | Iringa      | 11 | 4 | Njombe         | Ikondo           |  56 | True | VWC         | Ikondo electrical water sch | True  | 1996 | gravity     | gravity  | vwc         | pay annually          | soft     | enough       | river        | communal standpipe |\n",
       "| 37057 |    0 | 2011-04-11 | <!----> |    0 | <!----> | 34.01709 | -8.750434 | Mashine             | Rufiji      | Madungulu    | Mbeya       | 12 | 7 | Mbarali        | Chimala          |   0 | True | VWC         | <!----> | False |    0 | swn 80      | handpump | vwc         | pay monthly           | fluoride | enough       | machine dbh  | hand pump          |\n",
       "| 31282 |    0 | 2011-03-08 | Malec           |    0 | Musa  | 35.86132 | -6.378573 | Mshoro              | Rufiji      | Mwinyi       | Dodoma      |  1 | 4 | Chamwino       | Mvumi Makulu     |   0 | True | VWC         | <!----> | True  |    0 | nira/tanira | handpump | vwc         | never pay             | soft     | insufficient | shallow well | hand pump          |\n",
       "| 26348 |    0 | 2011-03-23 | World Bank      |  191 | World | 38.10405 | -6.747464 | Kwa Mzee Lugawa     | Wami / Ruvu | Kikatanyemba | Morogoro    |  5 | 2 | Morogoro Rural | Ngerengere       | 150 | True | VWC         | <!----> | True  | 2002 | nira/tanira | handpump | vwc         | pay when scheme fails | salty    | enough       | shallow well | hand pump          |\n",
       "\n"
      ],
      "text/plain": [
       "      id    amount_tsh date_recorded funder          gps_height installer   \n",
       "1     69572 6000       2011-03-14    Roman           1390       Roman       \n",
       "2      8776    0       2013-03-06    Grumeti         1399       GRUMETI     \n",
       "3     34310   25       2013-02-25    Lottery Club     686       World vision\n",
       "4     67743    0       2013-01-28    Unicef           263       UNICEF      \n",
       "5     19728    0       2011-07-13    Action In A        0       Artisan     \n",
       "...   ...   ...        ...           ...             ...        ...         \n",
       "59396 60739   10       2013-05-03    Germany Republi 1210       CES         \n",
       "59397 27263 4700       2011-05-07    Cefa-njombe     1212       Cefa        \n",
       "59398 37057    0       2011-04-11                       0                   \n",
       "59399 31282    0       2011-03-08    Malec              0       Musa        \n",
       "59400 26348    0       2011-03-23    World Bank       191       World       \n",
       "      longitude latitude   wpt_name             basin                  \n",
       "1     34.93809   -9.856322 none                 Lake Nyasa             \n",
       "2     34.69877   -2.147466 Zahanati             Lake Victoria          \n",
       "3     37.46066   -3.821329 Kwa Mahundi          Pangani                \n",
       "4     38.48616  -11.155298 Zahanati Ya Nanyumbu Ruvuma / Southern Coast\n",
       "5     31.13085   -1.825359 Shuleni              Lake Victoria          \n",
       "...   ...       ...        ...                  ...                    \n",
       "59396 37.16981  -3.253847  Area Three Namba 27  Pangani                \n",
       "59397 35.24999  -9.070629  Kwa Yahona Kuvala    Rufiji                 \n",
       "59398 34.01709  -8.750434  Mashine              Rufiji                 \n",
       "59399 35.86132  -6.378573  Mshoro               Rufiji                 \n",
       "59400 38.10405  -6.747464  Kwa Mzee Lugawa      Wami / Ruvu            \n",
       "      subvillage   region      region_code district_code lga           \n",
       "1     Mnyusi B     Iringa      11           5            Ludewa        \n",
       "2     Nyamara      Mara        20           2            Serengeti     \n",
       "3     Majengo      Manyara     21           4            Simanjiro     \n",
       "4     Mahakamani   Mtwara      90          63            Nanyumbu      \n",
       "5     Kyanyamisa   Kagera      18           1            Karagwe       \n",
       "...   ...          ...         ...         ...           ...           \n",
       "59396 Kiduruni     Kilimanjaro  3          5             Hai           \n",
       "59397 Igumbilo     Iringa      11          4             Njombe        \n",
       "59398 Madungulu    Mbeya       12          7             Mbarali       \n",
       "59399 Mwinyi       Dodoma       1          4             Chamwino      \n",
       "59400 Kikatanyemba Morogoro     5          2             Morogoro Rural\n",
       "      ward             population public_meeting scheme_management\n",
       "1     Mundindi         109        True           VWC              \n",
       "2     Natta            280                       Other            \n",
       "3     Ngorika          250        True           VWC              \n",
       "4     Nanyumbu          58        True           VWC              \n",
       "5     Nyakasimbi         0        True                            \n",
       "...   ...              ...        ...            ...              \n",
       "59396 Masama Magharibi 125        True           Water Board      \n",
       "59397 Ikondo            56        True           VWC              \n",
       "59398 Chimala            0        True           VWC              \n",
       "59399 Mvumi Makulu       0        True           VWC              \n",
       "59400 Ngerengere       150        True           VWC              \n",
       "      scheme_name                 permit construction_year extraction_type\n",
       "1     Roman                       False  1999              gravity        \n",
       "2                                 True   2010              gravity        \n",
       "3     Nyumba ya mungu pipe scheme True   2009              gravity        \n",
       "4                                 True   1986              submersible    \n",
       "5                                 True      0              gravity        \n",
       "...   ...                         ...    ...               ...            \n",
       "59396 Losaa Kia water supply      True   1999              gravity        \n",
       "59397 Ikondo electrical water sch True   1996              gravity        \n",
       "59398                             False     0              swn 80         \n",
       "59399                             True      0              nira/tanira    \n",
       "59400                             True   2002              nira/tanira    \n",
       "      extraction_type_class management  payment               water_quality\n",
       "1     gravity               vwc         pay annually          soft         \n",
       "2     gravity               wug         never pay             soft         \n",
       "3     gravity               vwc         pay per bucket        soft         \n",
       "4     submersible           vwc         never pay             soft         \n",
       "5     gravity               other       never pay             soft         \n",
       "...   ...                   ...         ...                   ...          \n",
       "59396 gravity               water board pay per bucket        soft         \n",
       "59397 gravity               vwc         pay annually          soft         \n",
       "59398 handpump              vwc         pay monthly           fluoride     \n",
       "59399 handpump              vwc         never pay             soft         \n",
       "59400 handpump              vwc         pay when scheme fails salty        \n",
       "      quantity     source               waterpoint_type            \n",
       "1     enough       spring               communal standpipe         \n",
       "2     insufficient rainwater harvesting communal standpipe         \n",
       "3     enough       dam                  communal standpipe multiple\n",
       "4     dry          machine dbh          communal standpipe multiple\n",
       "5     seasonal     rainwater harvesting communal standpipe         \n",
       "...   ...          ...                  ...                        \n",
       "59396 enough       spring               communal standpipe         \n",
       "59397 enough       river                communal standpipe         \n",
       "59398 enough       machine dbh          hand pump                  \n",
       "59399 insufficient shallow well         hand pump                  \n",
       "59400 enough       shallow well         hand pump                  "
      ]
     },
     "metadata": {},
     "output_type": "display_data"
    },
    {
     "data": {
      "text/html": [
       "<table class=\"dataframe\">\n",
       "<caption>A data.frame: 59400 × 2</caption>\n",
       "<thead>\n",
       "\t<tr><th scope=col>id</th><th scope=col>status_group</th></tr>\n",
       "\t<tr><th scope=col>&lt;int&gt;</th><th scope=col>&lt;fct&gt;</th></tr>\n",
       "</thead>\n",
       "<tbody>\n",
       "\t<tr><td>69572</td><td>functional    </td></tr>\n",
       "\t<tr><td> 8776</td><td>functional    </td></tr>\n",
       "\t<tr><td>34310</td><td>functional    </td></tr>\n",
       "\t<tr><td>67743</td><td>non functional</td></tr>\n",
       "\t<tr><td>19728</td><td>functional    </td></tr>\n",
       "\t<tr><td>...</td><td>...</td></tr>\n",
       "\t<tr><td>60739</td><td>functional</td></tr>\n",
       "\t<tr><td>27263</td><td>functional</td></tr>\n",
       "\t<tr><td>37057</td><td>functional</td></tr>\n",
       "\t<tr><td>31282</td><td>functional</td></tr>\n",
       "\t<tr><td>26348</td><td>functional</td></tr>\n",
       "</tbody>\n",
       "</table>\n"
      ],
      "text/latex": [
       "A data.frame: 59400 × 2\n",
       "\\begin{tabular}{ll}\n",
       " id & status\\_group\\\\\n",
       " <int> & <fct>\\\\\n",
       "\\hline\n",
       "\t 69572 & functional    \\\\\n",
       "\t  8776 & functional    \\\\\n",
       "\t 34310 & functional    \\\\\n",
       "\t 67743 & non functional\\\\\n",
       "\t 19728 & functional    \\\\\n",
       "\t ... & ...\\\\\n",
       "\t 60739 & functional\\\\\n",
       "\t 27263 & functional\\\\\n",
       "\t 37057 & functional\\\\\n",
       "\t 31282 & functional\\\\\n",
       "\t 26348 & functional\\\\\n",
       "\\end{tabular}\n"
      ],
      "text/markdown": [
       "\n",
       "A data.frame: 59400 × 2\n",
       "\n",
       "| id &lt;int&gt; | status_group &lt;fct&gt; |\n",
       "|---|---|\n",
       "| 69572 | functional     |\n",
       "|  8776 | functional     |\n",
       "| 34310 | functional     |\n",
       "| 67743 | non functional |\n",
       "| 19728 | functional     |\n",
       "| ... | ... |\n",
       "| 60739 | functional |\n",
       "| 27263 | functional |\n",
       "| 37057 | functional |\n",
       "| 31282 | functional |\n",
       "| 26348 | functional |\n",
       "\n"
      ],
      "text/plain": [
       "      id    status_group  \n",
       "1     69572 functional    \n",
       "2      8776 functional    \n",
       "3     34310 functional    \n",
       "4     67743 non functional\n",
       "5     19728 functional    \n",
       "...   ...   ...           \n",
       "59396 60739 functional    \n",
       "59397 27263 functional    \n",
       "59398 37057 functional    \n",
       "59399 31282 functional    \n",
       "59400 26348 functional    "
      ]
     },
     "metadata": {},
     "output_type": "display_data"
    }
   ],
   "source": [
    "options(repr.matrix.max.rows=10, repr.matrix.max.cols=100) # option pour la taille des prints\n",
    "\n",
    "\n",
    "\n",
    "# table(training_set_values$waterpoint_type_group, training_set_values$waterpoint_type)  # less information\n",
    "training_set_values <- training_set_values[,setdiff(colnames(training_set_values),\"waterpoint_type_group\")]\n",
    "test_set_values <- test_set_values[,setdiff(colnames(test_set_values),\"waterpoint_type_group\")]\n",
    "\n",
    "# table(training_set_values$source_type, training_set_values$source_class)  # less information\n",
    "training_set_values <- training_set_values[,setdiff(colnames(training_set_values),\"source_class\")]\n",
    "test_set_values <- test_set_values[,setdiff(colnames(test_set_values),\"source_class\")]\n",
    "\n",
    "# table(training_set_values$source, training_set_values$source_type)  # less information\n",
    "training_set_values <- training_set_values[,setdiff(colnames(training_set_values),\"source_type\")]\n",
    "test_set_values <- test_set_values[,setdiff(colnames(test_set_values),\"source_type\")]\n",
    "\n",
    "# table(training_set_values$water_quality, training_set_values$quality_group)  # less information\n",
    "training_set_values <- training_set_values[,setdiff(colnames(training_set_values),\"quality_group\")]\n",
    "test_set_values <- test_set_values[,setdiff(colnames(test_set_values),\"quality_group\")]\n",
    "\n",
    "# table(training_set_values$quantity, training_set_values$quantity_group)  # equivalent, we delete column\n",
    "training_set_values <- training_set_values[,setdiff(colnames(training_set_values),\"quantity_group\")]\n",
    "test_set_values <- test_set_values[,setdiff(colnames(test_set_values),\"quantity_group\")]\n",
    "\n",
    "# table(training_set_values$extraction_type, training_set_values$extraction_type_group)  # we can delete column\n",
    "training_set_values <- training_set_values[,setdiff(colnames(training_set_values),\"extraction_type_group\")]\n",
    "test_set_values <- test_set_values[,setdiff(colnames(test_set_values),\"extraction_type_group\")]\n",
    "\n",
    "# table(training_set_values$extraction_type, training_set_values$extraction_type_class)  # We can delete column\n",
    "# training_set_values <- training_set_values[,setdiff(colnames(training_set_values),\"extraction_type_class\")]\n",
    "\n",
    "# table(training_set_values$payment, training_set_values$payment_type)  # equivalent,  we delete column\n",
    "training_set_values <- training_set_values[,setdiff(colnames(training_set_values),\"payment_type\")]\n",
    "test_set_values <- test_set_values[,setdiff(colnames(test_set_values),\"payment_type\")]\n",
    "\n",
    "# table(training_set_values$management, training_set_values$management_group)  # we delete column\n",
    "training_set_values <- training_set_values[,setdiff(colnames(training_set_values),\"management_group\")]\n",
    "test_set_values <- test_set_values[,setdiff(colnames(test_set_values),\"management_group\")]\n",
    "\n",
    "# table(training_set_values$region, training_set_values$region_code)  # very correlated but some cities/code are ambigius\n",
    "# table(training_set_values$basin, training_set_values$subvillage)  # not really correlated, keep\n",
    "\n",
    "\n",
    "# TODO REMOVE PRINT\n",
    "\n",
    "# head(training_set_values)\n",
    "names(training_set_values)\n",
    "length(names(training_set_values))\n",
    "#training_set_values[-c(40, 38, 37, 33, 35, 26, 27, 31, 29, 14, 12)]\n",
    "training_set_values\n",
    "# subvillage > region \n",
    "training_set_labels\n"
   ]
  },
  {
   "cell_type": "markdown",
   "metadata": {},
   "source": [
    "## Missing value imputation\n",
    "In this part, we will have to replace missing value by something else. One approach could be to simply remove rows that are missing a value if they are not so common, otherwise we can also take the average of that column, or replace the missing value with the most common value. \n",
    "\n",
    "We chose to replace the empty value with a new category : `unknown`. This might be a  problem for the model since for exemple, it could indicate that all rows which `funder` is `unkown` are broken, but this could actually be truthful since, indeed, if the funder is unknown, maybe the pump has more chance of breaking\n",
    "\n",
    "This will be done for all the columns that contain text entries, since there isn't missing data for numbers"
   ]
  },
  {
   "cell_type": "code",
   "execution_count": 14,
   "metadata": {
    "scrolled": false
   },
   "outputs": [
    {
     "data": {
      "text/html": [
       "<table class=\"dataframe\">\n",
       "<caption>A data.frame: 6 × 30</caption>\n",
       "<thead>\n",
       "\t<tr><th></th><th scope=col>id</th><th scope=col>amount_tsh</th><th scope=col>date_recorded</th><th scope=col>funder</th><th scope=col>gps_height</th><th scope=col>installer</th><th scope=col>longitude</th><th scope=col>latitude</th><th scope=col>wpt_name</th><th scope=col>basin</th><th scope=col>subvillage</th><th scope=col>region</th><th scope=col>region_code</th><th scope=col>district_code</th><th scope=col>lga</th><th scope=col>ward</th><th scope=col>population</th><th scope=col>public_meeting</th><th scope=col>scheme_management</th><th scope=col>scheme_name</th><th scope=col>permit</th><th scope=col>construction_year</th><th scope=col>extraction_type</th><th scope=col>extraction_type_class</th><th scope=col>management</th><th scope=col>payment</th><th scope=col>water_quality</th><th scope=col>quantity</th><th scope=col>source</th><th scope=col>waterpoint_type</th></tr>\n",
       "\t<tr><th></th><th scope=col>&lt;int&gt;</th><th scope=col>&lt;dbl&gt;</th><th scope=col>&lt;fct&gt;</th><th scope=col>&lt;fct&gt;</th><th scope=col>&lt;int&gt;</th><th scope=col>&lt;fct&gt;</th><th scope=col>&lt;dbl&gt;</th><th scope=col>&lt;dbl&gt;</th><th scope=col>&lt;fct&gt;</th><th scope=col>&lt;fct&gt;</th><th scope=col>&lt;fct&gt;</th><th scope=col>&lt;fct&gt;</th><th scope=col>&lt;int&gt;</th><th scope=col>&lt;int&gt;</th><th scope=col>&lt;fct&gt;</th><th scope=col>&lt;fct&gt;</th><th scope=col>&lt;int&gt;</th><th scope=col>&lt;fct&gt;</th><th scope=col>&lt;fct&gt;</th><th scope=col>&lt;fct&gt;</th><th scope=col>&lt;fct&gt;</th><th scope=col>&lt;int&gt;</th><th scope=col>&lt;fct&gt;</th><th scope=col>&lt;fct&gt;</th><th scope=col>&lt;fct&gt;</th><th scope=col>&lt;fct&gt;</th><th scope=col>&lt;fct&gt;</th><th scope=col>&lt;fct&gt;</th><th scope=col>&lt;fct&gt;</th><th scope=col>&lt;fct&gt;</th></tr>\n",
       "</thead>\n",
       "<tbody>\n",
       "\t<tr><th scope=row>1</th><td>69572</td><td>6000</td><td>2011-03-14</td><td>Roman              </td><td>1390</td><td>Roman       </td><td>34.93809</td><td> -9.856322</td><td>none                </td><td>Lake Nyasa             </td><td>Mnyusi B   </td><td>Iringa </td><td>11</td><td> 5</td><td>Ludewa   </td><td>Mundindi  </td><td>109</td><td>True</td><td>VWC  </td><td>Roman                      </td><td>False</td><td>1999</td><td>gravity    </td><td>gravity    </td><td>vwc  </td><td>pay annually  </td><td>soft </td><td>enough      </td><td>spring              </td><td>communal standpipe         </td></tr>\n",
       "\t<tr><th scope=row>2</th><td> 8776</td><td>   0</td><td>2013-03-06</td><td>Grumeti            </td><td>1399</td><td>GRUMETI     </td><td>34.69877</td><td> -2.147466</td><td>Zahanati            </td><td>Lake Victoria          </td><td>Nyamara    </td><td>Mara   </td><td>20</td><td> 2</td><td>Serengeti</td><td>Natta     </td><td>280</td><td>    </td><td>Other</td><td>                           </td><td>True </td><td>2010</td><td>gravity    </td><td>gravity    </td><td>wug  </td><td>never pay     </td><td>soft </td><td>insufficient</td><td>rainwater harvesting</td><td>communal standpipe         </td></tr>\n",
       "\t<tr><th scope=row>3</th><td>34310</td><td>  25</td><td>2013-02-25</td><td>Lottery Club       </td><td> 686</td><td>World vision</td><td>37.46066</td><td> -3.821329</td><td>Kwa Mahundi         </td><td>Pangani                </td><td>Majengo    </td><td>Manyara</td><td>21</td><td> 4</td><td>Simanjiro</td><td>Ngorika   </td><td>250</td><td>True</td><td>VWC  </td><td>Nyumba ya mungu pipe scheme</td><td>True </td><td>2009</td><td>gravity    </td><td>gravity    </td><td>vwc  </td><td>pay per bucket</td><td>soft </td><td>enough      </td><td>dam                 </td><td>communal standpipe multiple</td></tr>\n",
       "\t<tr><th scope=row>4</th><td>67743</td><td>   0</td><td>2013-01-28</td><td>Unicef             </td><td> 263</td><td>UNICEF      </td><td>38.48616</td><td>-11.155298</td><td>Zahanati Ya Nanyumbu</td><td>Ruvuma / Southern Coast</td><td>Mahakamani </td><td>Mtwara </td><td>90</td><td>63</td><td>Nanyumbu </td><td>Nanyumbu  </td><td> 58</td><td>True</td><td>VWC  </td><td>                           </td><td>True </td><td>1986</td><td>submersible</td><td>submersible</td><td>vwc  </td><td>never pay     </td><td>soft </td><td>dry         </td><td>machine dbh         </td><td>communal standpipe multiple</td></tr>\n",
       "\t<tr><th scope=row>5</th><td>19728</td><td>   0</td><td>2011-07-13</td><td>Action In A        </td><td>   0</td><td>Artisan     </td><td>31.13085</td><td> -1.825359</td><td>Shuleni             </td><td>Lake Victoria          </td><td>Kyanyamisa </td><td>Kagera </td><td>18</td><td> 1</td><td>Karagwe  </td><td>Nyakasimbi</td><td>  0</td><td>True</td><td>     </td><td>                           </td><td>True </td><td>   0</td><td>gravity    </td><td>gravity    </td><td>other</td><td>never pay     </td><td>soft </td><td>seasonal    </td><td>rainwater harvesting</td><td>communal standpipe         </td></tr>\n",
       "\t<tr><th scope=row>6</th><td> 9944</td><td>  20</td><td>2011-03-13</td><td>Mkinga Distric Coun</td><td>   0</td><td>DWE         </td><td>39.17280</td><td> -4.765587</td><td>Tajiri              </td><td>Pangani                </td><td>Moa/Mwereme</td><td>Tanga  </td><td> 4</td><td> 8</td><td>Mkinga   </td><td>Moa       </td><td>  1</td><td>True</td><td>VWC  </td><td>Zingibali                  </td><td>True </td><td>2009</td><td>submersible</td><td>submersible</td><td>vwc  </td><td>pay per bucket</td><td>salty</td><td>enough      </td><td>other               </td><td>communal standpipe multiple</td></tr>\n",
       "</tbody>\n",
       "</table>\n"
      ],
      "text/latex": [
       "A data.frame: 6 × 30\n",
       "\\begin{tabular}{r|llllllllllllllllllllllllllllll}\n",
       "  & id & amount\\_tsh & date\\_recorded & funder & gps\\_height & installer & longitude & latitude & wpt\\_name & basin & subvillage & region & region\\_code & district\\_code & lga & ward & population & public\\_meeting & scheme\\_management & scheme\\_name & permit & construction\\_year & extraction\\_type & extraction\\_type\\_class & management & payment & water\\_quality & quantity & source & waterpoint\\_type\\\\\n",
       "  & <int> & <dbl> & <fct> & <fct> & <int> & <fct> & <dbl> & <dbl> & <fct> & <fct> & <fct> & <fct> & <int> & <int> & <fct> & <fct> & <int> & <fct> & <fct> & <fct> & <fct> & <int> & <fct> & <fct> & <fct> & <fct> & <fct> & <fct> & <fct> & <fct>\\\\\n",
       "\\hline\n",
       "\t1 & 69572 & 6000 & 2011-03-14 & Roman               & 1390 & Roman        & 34.93809 &  -9.856322 & none                 & Lake Nyasa              & Mnyusi B    & Iringa  & 11 &  5 & Ludewa    & Mundindi   & 109 & True & VWC   & Roman                       & False & 1999 & gravity     & gravity     & vwc   & pay annually   & soft  & enough       & spring               & communal standpipe         \\\\\n",
       "\t2 &  8776 &    0 & 2013-03-06 & Grumeti             & 1399 & GRUMETI      & 34.69877 &  -2.147466 & Zahanati             & Lake Victoria           & Nyamara     & Mara    & 20 &  2 & Serengeti & Natta      & 280 &      & Other &                             & True  & 2010 & gravity     & gravity     & wug   & never pay      & soft  & insufficient & rainwater harvesting & communal standpipe         \\\\\n",
       "\t3 & 34310 &   25 & 2013-02-25 & Lottery Club        &  686 & World vision & 37.46066 &  -3.821329 & Kwa Mahundi          & Pangani                 & Majengo     & Manyara & 21 &  4 & Simanjiro & Ngorika    & 250 & True & VWC   & Nyumba ya mungu pipe scheme & True  & 2009 & gravity     & gravity     & vwc   & pay per bucket & soft  & enough       & dam                  & communal standpipe multiple\\\\\n",
       "\t4 & 67743 &    0 & 2013-01-28 & Unicef              &  263 & UNICEF       & 38.48616 & -11.155298 & Zahanati Ya Nanyumbu & Ruvuma / Southern Coast & Mahakamani  & Mtwara  & 90 & 63 & Nanyumbu  & Nanyumbu   &  58 & True & VWC   &                             & True  & 1986 & submersible & submersible & vwc   & never pay      & soft  & dry          & machine dbh          & communal standpipe multiple\\\\\n",
       "\t5 & 19728 &    0 & 2011-07-13 & Action In A         &    0 & Artisan      & 31.13085 &  -1.825359 & Shuleni              & Lake Victoria           & Kyanyamisa  & Kagera  & 18 &  1 & Karagwe   & Nyakasimbi &   0 & True &       &                             & True  &    0 & gravity     & gravity     & other & never pay      & soft  & seasonal     & rainwater harvesting & communal standpipe         \\\\\n",
       "\t6 &  9944 &   20 & 2011-03-13 & Mkinga Distric Coun &    0 & DWE          & 39.17280 &  -4.765587 & Tajiri               & Pangani                 & Moa/Mwereme & Tanga   &  4 &  8 & Mkinga    & Moa        &   1 & True & VWC   & Zingibali                   & True  & 2009 & submersible & submersible & vwc   & pay per bucket & salty & enough       & other                & communal standpipe multiple\\\\\n",
       "\\end{tabular}\n"
      ],
      "text/markdown": [
       "\n",
       "A data.frame: 6 × 30\n",
       "\n",
       "| <!--/--> | id &lt;int&gt; | amount_tsh &lt;dbl&gt; | date_recorded &lt;fct&gt; | funder &lt;fct&gt; | gps_height &lt;int&gt; | installer &lt;fct&gt; | longitude &lt;dbl&gt; | latitude &lt;dbl&gt; | wpt_name &lt;fct&gt; | basin &lt;fct&gt; | subvillage &lt;fct&gt; | region &lt;fct&gt; | region_code &lt;int&gt; | district_code &lt;int&gt; | lga &lt;fct&gt; | ward &lt;fct&gt; | population &lt;int&gt; | public_meeting &lt;fct&gt; | scheme_management &lt;fct&gt; | scheme_name &lt;fct&gt; | permit &lt;fct&gt; | construction_year &lt;int&gt; | extraction_type &lt;fct&gt; | extraction_type_class &lt;fct&gt; | management &lt;fct&gt; | payment &lt;fct&gt; | water_quality &lt;fct&gt; | quantity &lt;fct&gt; | source &lt;fct&gt; | waterpoint_type &lt;fct&gt; |\n",
       "|---|---|---|---|---|---|---|---|---|---|---|---|---|---|---|---|---|---|---|---|---|---|---|---|---|---|---|---|---|---|---|\n",
       "| 1 | 69572 | 6000 | 2011-03-14 | Roman               | 1390 | Roman        | 34.93809 |  -9.856322 | none                 | Lake Nyasa              | Mnyusi B    | Iringa  | 11 |  5 | Ludewa    | Mundindi   | 109 | True | VWC   | Roman                       | False | 1999 | gravity     | gravity     | vwc   | pay annually   | soft  | enough       | spring               | communal standpipe          |\n",
       "| 2 |  8776 |    0 | 2013-03-06 | Grumeti             | 1399 | GRUMETI      | 34.69877 |  -2.147466 | Zahanati             | Lake Victoria           | Nyamara     | Mara    | 20 |  2 | Serengeti | Natta      | 280 | <!----> | Other | <!----> | True  | 2010 | gravity     | gravity     | wug   | never pay      | soft  | insufficient | rainwater harvesting | communal standpipe          |\n",
       "| 3 | 34310 |   25 | 2013-02-25 | Lottery Club        |  686 | World vision | 37.46066 |  -3.821329 | Kwa Mahundi          | Pangani                 | Majengo     | Manyara | 21 |  4 | Simanjiro | Ngorika    | 250 | True | VWC   | Nyumba ya mungu pipe scheme | True  | 2009 | gravity     | gravity     | vwc   | pay per bucket | soft  | enough       | dam                  | communal standpipe multiple |\n",
       "| 4 | 67743 |    0 | 2013-01-28 | Unicef              |  263 | UNICEF       | 38.48616 | -11.155298 | Zahanati Ya Nanyumbu | Ruvuma / Southern Coast | Mahakamani  | Mtwara  | 90 | 63 | Nanyumbu  | Nanyumbu   |  58 | True | VWC   | <!----> | True  | 1986 | submersible | submersible | vwc   | never pay      | soft  | dry          | machine dbh          | communal standpipe multiple |\n",
       "| 5 | 19728 |    0 | 2011-07-13 | Action In A         |    0 | Artisan      | 31.13085 |  -1.825359 | Shuleni              | Lake Victoria           | Kyanyamisa  | Kagera  | 18 |  1 | Karagwe   | Nyakasimbi |   0 | True | <!----> | <!----> | True  |    0 | gravity     | gravity     | other | never pay      | soft  | seasonal     | rainwater harvesting | communal standpipe          |\n",
       "| 6 |  9944 |   20 | 2011-03-13 | Mkinga Distric Coun |    0 | DWE          | 39.17280 |  -4.765587 | Tajiri               | Pangani                 | Moa/Mwereme | Tanga   |  4 |  8 | Mkinga    | Moa        |   1 | True | VWC   | Zingibali                   | True  | 2009 | submersible | submersible | vwc   | pay per bucket | salty | enough       | other                | communal standpipe multiple |\n",
       "\n"
      ],
      "text/plain": [
       "  id    amount_tsh date_recorded funder              gps_height installer   \n",
       "1 69572 6000       2011-03-14    Roman               1390       Roman       \n",
       "2  8776    0       2013-03-06    Grumeti             1399       GRUMETI     \n",
       "3 34310   25       2013-02-25    Lottery Club         686       World vision\n",
       "4 67743    0       2013-01-28    Unicef               263       UNICEF      \n",
       "5 19728    0       2011-07-13    Action In A            0       Artisan     \n",
       "6  9944   20       2011-03-13    Mkinga Distric Coun    0       DWE         \n",
       "  longitude latitude   wpt_name             basin                   subvillage \n",
       "1 34.93809   -9.856322 none                 Lake Nyasa              Mnyusi B   \n",
       "2 34.69877   -2.147466 Zahanati             Lake Victoria           Nyamara    \n",
       "3 37.46066   -3.821329 Kwa Mahundi          Pangani                 Majengo    \n",
       "4 38.48616  -11.155298 Zahanati Ya Nanyumbu Ruvuma / Southern Coast Mahakamani \n",
       "5 31.13085   -1.825359 Shuleni              Lake Victoria           Kyanyamisa \n",
       "6 39.17280   -4.765587 Tajiri               Pangani                 Moa/Mwereme\n",
       "  region  region_code district_code lga       ward       population\n",
       "1 Iringa  11           5            Ludewa    Mundindi   109       \n",
       "2 Mara    20           2            Serengeti Natta      280       \n",
       "3 Manyara 21           4            Simanjiro Ngorika    250       \n",
       "4 Mtwara  90          63            Nanyumbu  Nanyumbu    58       \n",
       "5 Kagera  18           1            Karagwe   Nyakasimbi   0       \n",
       "6 Tanga    4           8            Mkinga    Moa          1       \n",
       "  public_meeting scheme_management scheme_name                 permit\n",
       "1 True           VWC               Roman                       False \n",
       "2                Other                                         True  \n",
       "3 True           VWC               Nyumba ya mungu pipe scheme True  \n",
       "4 True           VWC                                           True  \n",
       "5 True                                                         True  \n",
       "6 True           VWC               Zingibali                   True  \n",
       "  construction_year extraction_type extraction_type_class management\n",
       "1 1999              gravity         gravity               vwc       \n",
       "2 2010              gravity         gravity               wug       \n",
       "3 2009              gravity         gravity               vwc       \n",
       "4 1986              submersible     submersible           vwc       \n",
       "5    0              gravity         gravity               other     \n",
       "6 2009              submersible     submersible           vwc       \n",
       "  payment        water_quality quantity     source              \n",
       "1 pay annually   soft          enough       spring              \n",
       "2 never pay      soft          insufficient rainwater harvesting\n",
       "3 pay per bucket soft          enough       dam                 \n",
       "4 never pay      soft          dry          machine dbh         \n",
       "5 never pay      soft          seasonal     rainwater harvesting\n",
       "6 pay per bucket salty         enough       other               \n",
       "  waterpoint_type            \n",
       "1 communal standpipe         \n",
       "2 communal standpipe         \n",
       "3 communal standpipe multiple\n",
       "4 communal standpipe multiple\n",
       "5 communal standpipe         \n",
       "6 communal standpipe multiple"
      ]
     },
     "metadata": {},
     "output_type": "display_data"
    }
   ],
   "source": [
    "#head(training_set_values, 10)[3, 2]\n",
    "empty_check <- c(\"funder\", \"installer\", \"basin\", \"subvillage\", \"region\", \"lga\", \"ward\", \"scheme_management\", \"scheme_name\", \"permit\", \"extraction_type\", \"extraction_type_class\", \"payment\", \"water_quality\", \"quantity\", \"source\", \"waterpoint_type\", \"permit\", \"public_meeting\") \n",
    "for (row in 1:nrow(head(training_set_values, 10))){\n",
    "    #print(training_set_values[row])\n",
    "    for (col in 1:ncol(head(training_set_values, 10))){\n",
    "        col_name <- names(training_set_values[row])\n",
    "        if (col_name %in% empty_check){\n",
    "            if (is.na(training_set_values[row, col])){\n",
    "                print(paste(\"Changing\"))\n",
    "                training_set_values[row, col] = as.factor(\"unknown\")\n",
    "            }\n",
    "        }\n",
    "    }\n",
    "}\n",
    "head(training_set_values)"
   ]
  },
  {
   "cell_type": "markdown",
   "metadata": {},
   "source": [
    "## End of preprocessing"
   ]
  },
  {
   "cell_type": "markdown",
   "metadata": {},
   "source": [
    "We need to transform also categorical variable with 'one-hot-encoding'. To do so, we will use `dummies` package. To facilitate the work, we will merge the training set and the test set to have all different possibilities for each columns."
   ]
  },
  {
   "cell_type": "code",
   "execution_count": 15,
   "metadata": {},
   "outputs": [
    {
     "name": "stderr",
     "output_type": "stream",
     "text": [
      "dummies-1.5.6 provided by Decision Patterns\n",
      "\n",
      "\n",
      "Warning message in model.matrix.default(~x - 1, model.frame(~x - 1), contrasts = FALSE):\n",
      "\"non-list contrasts argument ignored\"\n",
      "Warning message in model.matrix.default(~x - 1, model.frame(~x - 1), contrasts = FALSE):\n",
      "\"non-list contrasts argument ignored\"\n",
      "Warning message in model.matrix.default(~x - 1, model.frame(~x - 1), contrasts = FALSE):\n",
      "\"non-list contrasts argument ignored\"\n"
     ]
    },
    {
     "data": {
      "text/html": [
       "<table class=\"dataframe\">\n",
       "<caption>A data.frame: 2 × 30</caption>\n",
       "<thead>\n",
       "\t<tr><th></th><th scope=col>waterpoint_type_cattle trough</th><th scope=col>waterpoint_type_communal standpipe</th><th scope=col>waterpoint_type_communal standpipe multiple</th><th scope=col>waterpoint_type_dam</th><th scope=col>waterpoint_type_hand pump</th><th scope=col>waterpoint_type_improved spring</th><th scope=col>waterpoint_type_other</th><th scope=col>quantity_dry</th><th scope=col>quantity_enough</th><th scope=col>quantity_insufficient</th><th scope=col>quantity_seasonal</th><th scope=col>quantity_unknown</th><th scope=col>extraction_type_afridev</th><th scope=col>extraction_type_cemo</th><th scope=col>extraction_type_climax</th><th scope=col>extraction_type_gravity</th><th scope=col>extraction_type_india mark ii</th><th scope=col>extraction_type_india mark iii</th><th scope=col>extraction_type_ksb</th><th scope=col>extraction_type_mono</th><th scope=col>extraction_type_nira/tanira</th><th scope=col>extraction_type_other</th><th scope=col>extraction_type_other - mkulima/shinyanga</th><th scope=col>extraction_type_other - play pump</th><th scope=col>extraction_type_other - rope pump</th><th scope=col>extraction_type_other - swn 81</th><th scope=col>extraction_type_submersible</th><th scope=col>extraction_type_swn 80</th><th scope=col>extraction_type_walimi</th><th scope=col>extraction_type_windmill</th></tr>\n",
       "\t<tr><th></th><th scope=col>&lt;int&gt;</th><th scope=col>&lt;int&gt;</th><th scope=col>&lt;int&gt;</th><th scope=col>&lt;int&gt;</th><th scope=col>&lt;int&gt;</th><th scope=col>&lt;int&gt;</th><th scope=col>&lt;int&gt;</th><th scope=col>&lt;int&gt;</th><th scope=col>&lt;int&gt;</th><th scope=col>&lt;int&gt;</th><th scope=col>&lt;int&gt;</th><th scope=col>&lt;int&gt;</th><th scope=col>&lt;int&gt;</th><th scope=col>&lt;int&gt;</th><th scope=col>&lt;int&gt;</th><th scope=col>&lt;int&gt;</th><th scope=col>&lt;int&gt;</th><th scope=col>&lt;int&gt;</th><th scope=col>&lt;int&gt;</th><th scope=col>&lt;int&gt;</th><th scope=col>&lt;int&gt;</th><th scope=col>&lt;int&gt;</th><th scope=col>&lt;int&gt;</th><th scope=col>&lt;int&gt;</th><th scope=col>&lt;int&gt;</th><th scope=col>&lt;int&gt;</th><th scope=col>&lt;int&gt;</th><th scope=col>&lt;int&gt;</th><th scope=col>&lt;int&gt;</th><th scope=col>&lt;int&gt;</th></tr>\n",
       "</thead>\n",
       "<tbody>\n",
       "\t<tr><th scope=row>1</th><td>0</td><td>1</td><td>0</td><td>0</td><td>0</td><td>0</td><td>0</td><td>0</td><td>1</td><td>0</td><td>0</td><td>0</td><td>0</td><td>0</td><td>0</td><td>1</td><td>0</td><td>0</td><td>0</td><td>0</td><td>0</td><td>0</td><td>0</td><td>0</td><td>0</td><td>0</td><td>0</td><td>0</td><td>0</td><td>0</td></tr>\n",
       "\t<tr><th scope=row>2</th><td>0</td><td>1</td><td>0</td><td>0</td><td>0</td><td>0</td><td>0</td><td>0</td><td>0</td><td>1</td><td>0</td><td>0</td><td>0</td><td>0</td><td>0</td><td>1</td><td>0</td><td>0</td><td>0</td><td>0</td><td>0</td><td>0</td><td>0</td><td>0</td><td>0</td><td>0</td><td>0</td><td>0</td><td>0</td><td>0</td></tr>\n",
       "</tbody>\n",
       "</table>\n"
      ],
      "text/latex": [
       "A data.frame: 2 × 30\n",
       "\\begin{tabular}{r|llllllllllllllllllllllllllllll}\n",
       "  & waterpoint\\_type\\_cattle trough & waterpoint\\_type\\_communal standpipe & waterpoint\\_type\\_communal standpipe multiple & waterpoint\\_type\\_dam & waterpoint\\_type\\_hand pump & waterpoint\\_type\\_improved spring & waterpoint\\_type\\_other & quantity\\_dry & quantity\\_enough & quantity\\_insufficient & quantity\\_seasonal & quantity\\_unknown & extraction\\_type\\_afridev & extraction\\_type\\_cemo & extraction\\_type\\_climax & extraction\\_type\\_gravity & extraction\\_type\\_india mark ii & extraction\\_type\\_india mark iii & extraction\\_type\\_ksb & extraction\\_type\\_mono & extraction\\_type\\_nira/tanira & extraction\\_type\\_other & extraction\\_type\\_other - mkulima/shinyanga & extraction\\_type\\_other - play pump & extraction\\_type\\_other - rope pump & extraction\\_type\\_other - swn 81 & extraction\\_type\\_submersible & extraction\\_type\\_swn 80 & extraction\\_type\\_walimi & extraction\\_type\\_windmill\\\\\n",
       "  & <int> & <int> & <int> & <int> & <int> & <int> & <int> & <int> & <int> & <int> & <int> & <int> & <int> & <int> & <int> & <int> & <int> & <int> & <int> & <int> & <int> & <int> & <int> & <int> & <int> & <int> & <int> & <int> & <int> & <int>\\\\\n",
       "\\hline\n",
       "\t1 & 0 & 1 & 0 & 0 & 0 & 0 & 0 & 0 & 1 & 0 & 0 & 0 & 0 & 0 & 0 & 1 & 0 & 0 & 0 & 0 & 0 & 0 & 0 & 0 & 0 & 0 & 0 & 0 & 0 & 0\\\\\n",
       "\t2 & 0 & 1 & 0 & 0 & 0 & 0 & 0 & 0 & 0 & 1 & 0 & 0 & 0 & 0 & 0 & 1 & 0 & 0 & 0 & 0 & 0 & 0 & 0 & 0 & 0 & 0 & 0 & 0 & 0 & 0\\\\\n",
       "\\end{tabular}\n"
      ],
      "text/markdown": [
       "\n",
       "A data.frame: 2 × 30\n",
       "\n",
       "| <!--/--> | waterpoint_type_cattle trough &lt;int&gt; | waterpoint_type_communal standpipe &lt;int&gt; | waterpoint_type_communal standpipe multiple &lt;int&gt; | waterpoint_type_dam &lt;int&gt; | waterpoint_type_hand pump &lt;int&gt; | waterpoint_type_improved spring &lt;int&gt; | waterpoint_type_other &lt;int&gt; | quantity_dry &lt;int&gt; | quantity_enough &lt;int&gt; | quantity_insufficient &lt;int&gt; | quantity_seasonal &lt;int&gt; | quantity_unknown &lt;int&gt; | extraction_type_afridev &lt;int&gt; | extraction_type_cemo &lt;int&gt; | extraction_type_climax &lt;int&gt; | extraction_type_gravity &lt;int&gt; | extraction_type_india mark ii &lt;int&gt; | extraction_type_india mark iii &lt;int&gt; | extraction_type_ksb &lt;int&gt; | extraction_type_mono &lt;int&gt; | extraction_type_nira/tanira &lt;int&gt; | extraction_type_other &lt;int&gt; | extraction_type_other - mkulima/shinyanga &lt;int&gt; | extraction_type_other - play pump &lt;int&gt; | extraction_type_other - rope pump &lt;int&gt; | extraction_type_other - swn 81 &lt;int&gt; | extraction_type_submersible &lt;int&gt; | extraction_type_swn 80 &lt;int&gt; | extraction_type_walimi &lt;int&gt; | extraction_type_windmill &lt;int&gt; |\n",
       "|---|---|---|---|---|---|---|---|---|---|---|---|---|---|---|---|---|---|---|---|---|---|---|---|---|---|---|---|---|---|---|\n",
       "| 1 | 0 | 1 | 0 | 0 | 0 | 0 | 0 | 0 | 1 | 0 | 0 | 0 | 0 | 0 | 0 | 1 | 0 | 0 | 0 | 0 | 0 | 0 | 0 | 0 | 0 | 0 | 0 | 0 | 0 | 0 |\n",
       "| 2 | 0 | 1 | 0 | 0 | 0 | 0 | 0 | 0 | 0 | 1 | 0 | 0 | 0 | 0 | 0 | 1 | 0 | 0 | 0 | 0 | 0 | 0 | 0 | 0 | 0 | 0 | 0 | 0 | 0 | 0 |\n",
       "\n"
      ],
      "text/plain": [
       "  waterpoint_type_cattle trough waterpoint_type_communal standpipe\n",
       "1 0                             1                                 \n",
       "2 0                             1                                 \n",
       "  waterpoint_type_communal standpipe multiple waterpoint_type_dam\n",
       "1 0                                           0                  \n",
       "2 0                                           0                  \n",
       "  waterpoint_type_hand pump waterpoint_type_improved spring\n",
       "1 0                         0                              \n",
       "2 0                         0                              \n",
       "  waterpoint_type_other quantity_dry quantity_enough quantity_insufficient\n",
       "1 0                     0            1               0                    \n",
       "2 0                     0            0               1                    \n",
       "  quantity_seasonal quantity_unknown extraction_type_afridev\n",
       "1 0                 0                0                      \n",
       "2 0                 0                0                      \n",
       "  extraction_type_cemo extraction_type_climax extraction_type_gravity\n",
       "1 0                    0                      1                      \n",
       "2 0                    0                      1                      \n",
       "  extraction_type_india mark ii extraction_type_india mark iii\n",
       "1 0                             0                             \n",
       "2 0                             0                             \n",
       "  extraction_type_ksb extraction_type_mono extraction_type_nira/tanira\n",
       "1 0                   0                    0                          \n",
       "2 0                   0                    0                          \n",
       "  extraction_type_other extraction_type_other - mkulima/shinyanga\n",
       "1 0                     0                                        \n",
       "2 0                     0                                        \n",
       "  extraction_type_other - play pump extraction_type_other - rope pump\n",
       "1 0                                 0                                \n",
       "2 0                                 0                                \n",
       "  extraction_type_other - swn 81 extraction_type_submersible\n",
       "1 0                              0                          \n",
       "2 0                              0                          \n",
       "  extraction_type_swn 80 extraction_type_walimi extraction_type_windmill\n",
       "1 0                      0                      0                       \n",
       "2 0                      0                      0                       "
      ]
     },
     "metadata": {},
     "output_type": "display_data"
    },
    {
     "data": {
      "text/html": [
       "<style>\n",
       ".list-inline {list-style: none; margin:0; padding: 0}\n",
       ".list-inline>li {display: inline-block}\n",
       ".list-inline>li:not(:last-child)::after {content: \"\\00b7\"; padding: 0 .5ex}\n",
       "</style>\n",
       "<ol class=list-inline><li>74250</li><li>30</li></ol>\n"
      ],
      "text/latex": [
       "\\begin{enumerate*}\n",
       "\\item 74250\n",
       "\\item 30\n",
       "\\end{enumerate*}\n"
      ],
      "text/markdown": [
       "1. 74250\n",
       "2. 30\n",
       "\n",
       "\n"
      ],
      "text/plain": [
       "[1] 74250    30"
      ]
     },
     "metadata": {},
     "output_type": "display_data"
    },
    {
     "data": {
      "text/html": [
       "<style>\n",
       ".list-inline {list-style: none; margin:0; padding: 0}\n",
       ".list-inline>li {display: inline-block}\n",
       ".list-inline>li:not(:last-child)::after {content: \"\\00b7\"; padding: 0 .5ex}\n",
       "</style>\n",
       "<ol class=list-inline><li>59400</li><li>30</li></ol>\n"
      ],
      "text/latex": [
       "\\begin{enumerate*}\n",
       "\\item 59400\n",
       "\\item 30\n",
       "\\end{enumerate*}\n"
      ],
      "text/markdown": [
       "1. 59400\n",
       "2. 30\n",
       "\n",
       "\n"
      ],
      "text/plain": [
       "[1] 59400    30"
      ]
     },
     "metadata": {},
     "output_type": "display_data"
    },
    {
     "data": {
      "text/html": [
       "<table class=\"dataframe\">\n",
       "<caption>A data.frame: 59400 × 40</caption>\n",
       "<thead>\n",
       "\t<tr><th></th><th scope=col>id</th><th scope=col>amount_tsh</th><th scope=col>gps_height</th><th scope=col>longitude</th><th scope=col>latitude</th><th scope=col>region_code</th><th scope=col>district_code</th><th scope=col>population</th><th scope=col>construction_year</th><th scope=col>waterpoint_type_cattle trough</th><th scope=col>waterpoint_type_communal standpipe</th><th scope=col>waterpoint_type_communal standpipe multiple</th><th scope=col>waterpoint_type_dam</th><th scope=col>waterpoint_type_hand pump</th><th scope=col>waterpoint_type_improved spring</th><th scope=col>waterpoint_type_other</th><th scope=col>quantity_dry</th><th scope=col>quantity_enough</th><th scope=col>quantity_insufficient</th><th scope=col>quantity_seasonal</th><th scope=col>quantity_unknown</th><th scope=col>extraction_type_afridev</th><th scope=col>extraction_type_cemo</th><th scope=col>extraction_type_climax</th><th scope=col>extraction_type_gravity</th><th scope=col>extraction_type_india mark ii</th><th scope=col>extraction_type_india mark iii</th><th scope=col>extraction_type_ksb</th><th scope=col>extraction_type_mono</th><th scope=col>extraction_type_nira/tanira</th><th scope=col>extraction_type_other</th><th scope=col>extraction_type_other - mkulima/shinyanga</th><th scope=col>extraction_type_other - play pump</th><th scope=col>extraction_type_other - rope pump</th><th scope=col>extraction_type_other - swn 81</th><th scope=col>extraction_type_submersible</th><th scope=col>extraction_type_swn 80</th><th scope=col>extraction_type_walimi</th><th scope=col>extraction_type_windmill</th><th scope=col>status_group</th></tr>\n",
       "\t<tr><th></th><th scope=col>&lt;int&gt;</th><th scope=col>&lt;dbl&gt;</th><th scope=col>&lt;int&gt;</th><th scope=col>&lt;dbl&gt;</th><th scope=col>&lt;dbl&gt;</th><th scope=col>&lt;int&gt;</th><th scope=col>&lt;int&gt;</th><th scope=col>&lt;int&gt;</th><th scope=col>&lt;int&gt;</th><th scope=col>&lt;int&gt;</th><th scope=col>&lt;int&gt;</th><th scope=col>&lt;int&gt;</th><th scope=col>&lt;int&gt;</th><th scope=col>&lt;int&gt;</th><th scope=col>&lt;int&gt;</th><th scope=col>&lt;int&gt;</th><th scope=col>&lt;int&gt;</th><th scope=col>&lt;int&gt;</th><th scope=col>&lt;int&gt;</th><th scope=col>&lt;int&gt;</th><th scope=col>&lt;int&gt;</th><th scope=col>&lt;int&gt;</th><th scope=col>&lt;int&gt;</th><th scope=col>&lt;int&gt;</th><th scope=col>&lt;int&gt;</th><th scope=col>&lt;int&gt;</th><th scope=col>&lt;int&gt;</th><th scope=col>&lt;int&gt;</th><th scope=col>&lt;int&gt;</th><th scope=col>&lt;int&gt;</th><th scope=col>&lt;int&gt;</th><th scope=col>&lt;int&gt;</th><th scope=col>&lt;int&gt;</th><th scope=col>&lt;int&gt;</th><th scope=col>&lt;int&gt;</th><th scope=col>&lt;int&gt;</th><th scope=col>&lt;int&gt;</th><th scope=col>&lt;int&gt;</th><th scope=col>&lt;int&gt;</th><th scope=col>&lt;fct&gt;</th></tr>\n",
       "</thead>\n",
       "<tbody>\n",
       "\t<tr><th scope=row>1</th><td>69572</td><td>6000</td><td>1390</td><td>34.93809</td><td> -9.856322</td><td>11</td><td> 5</td><td>109</td><td>1999</td><td>0</td><td>1</td><td>0</td><td>0</td><td>0</td><td>0</td><td>0</td><td>0</td><td>1</td><td>0</td><td>0</td><td>0</td><td>0</td><td>0</td><td>0</td><td>1</td><td>0</td><td>0</td><td>0</td><td>0</td><td>0</td><td>0</td><td>0</td><td>0</td><td>0</td><td>0</td><td>0</td><td>0</td><td>0</td><td>0</td><td>functional    </td></tr>\n",
       "\t<tr><th scope=row>2</th><td> 8776</td><td>   0</td><td>1399</td><td>34.69877</td><td> -2.147466</td><td>20</td><td> 2</td><td>280</td><td>2010</td><td>0</td><td>1</td><td>0</td><td>0</td><td>0</td><td>0</td><td>0</td><td>0</td><td>0</td><td>1</td><td>0</td><td>0</td><td>0</td><td>0</td><td>0</td><td>1</td><td>0</td><td>0</td><td>0</td><td>0</td><td>0</td><td>0</td><td>0</td><td>0</td><td>0</td><td>0</td><td>0</td><td>0</td><td>0</td><td>0</td><td>functional    </td></tr>\n",
       "\t<tr><th scope=row>3</th><td>34310</td><td>  25</td><td> 686</td><td>37.46066</td><td> -3.821329</td><td>21</td><td> 4</td><td>250</td><td>2009</td><td>0</td><td>0</td><td>1</td><td>0</td><td>0</td><td>0</td><td>0</td><td>0</td><td>1</td><td>0</td><td>0</td><td>0</td><td>0</td><td>0</td><td>0</td><td>1</td><td>0</td><td>0</td><td>0</td><td>0</td><td>0</td><td>0</td><td>0</td><td>0</td><td>0</td><td>0</td><td>0</td><td>0</td><td>0</td><td>0</td><td>functional    </td></tr>\n",
       "\t<tr><th scope=row>4</th><td>67743</td><td>   0</td><td> 263</td><td>38.48616</td><td>-11.155298</td><td>90</td><td>63</td><td> 58</td><td>1986</td><td>0</td><td>0</td><td>1</td><td>0</td><td>0</td><td>0</td><td>0</td><td>1</td><td>0</td><td>0</td><td>0</td><td>0</td><td>0</td><td>0</td><td>0</td><td>0</td><td>0</td><td>0</td><td>0</td><td>0</td><td>0</td><td>0</td><td>0</td><td>0</td><td>0</td><td>0</td><td>1</td><td>0</td><td>0</td><td>0</td><td>non functional</td></tr>\n",
       "\t<tr><th scope=row>5</th><td>19728</td><td>   0</td><td>   0</td><td>31.13085</td><td> -1.825359</td><td>18</td><td> 1</td><td>  0</td><td>   0</td><td>0</td><td>1</td><td>0</td><td>0</td><td>0</td><td>0</td><td>0</td><td>0</td><td>0</td><td>0</td><td>1</td><td>0</td><td>0</td><td>0</td><td>0</td><td>1</td><td>0</td><td>0</td><td>0</td><td>0</td><td>0</td><td>0</td><td>0</td><td>0</td><td>0</td><td>0</td><td>0</td><td>0</td><td>0</td><td>0</td><td>functional    </td></tr>\n",
       "\t<tr><th scope=row>...</th><td>...</td><td>...</td><td>...</td><td>...</td><td>...</td><td>...</td><td>...</td><td>...</td><td>...</td><td>...</td><td>...</td><td>...</td><td>...</td><td>...</td><td>...</td><td>...</td><td>...</td><td>...</td><td>...</td><td>...</td><td>...</td><td>...</td><td>...</td><td>...</td><td>...</td><td>...</td><td>...</td><td>...</td><td>...</td><td>...</td><td>...</td><td>...</td><td>...</td><td>...</td><td>...</td><td>...</td><td>...</td><td>...</td><td>...</td><td>...</td></tr>\n",
       "\t<tr><th scope=row>59396</th><td>60739</td><td>  10</td><td>1210</td><td>37.16981</td><td>-3.253847</td><td> 3</td><td>5</td><td>125</td><td>1999</td><td>0</td><td>1</td><td>0</td><td>0</td><td>0</td><td>0</td><td>0</td><td>0</td><td>1</td><td>0</td><td>0</td><td>0</td><td>0</td><td>0</td><td>0</td><td>1</td><td>0</td><td>0</td><td>0</td><td>0</td><td>0</td><td>0</td><td>0</td><td>0</td><td>0</td><td>0</td><td>0</td><td>0</td><td>0</td><td>0</td><td>functional</td></tr>\n",
       "\t<tr><th scope=row>59397</th><td>27263</td><td>4700</td><td>1212</td><td>35.24999</td><td>-9.070629</td><td>11</td><td>4</td><td> 56</td><td>1996</td><td>0</td><td>1</td><td>0</td><td>0</td><td>0</td><td>0</td><td>0</td><td>0</td><td>1</td><td>0</td><td>0</td><td>0</td><td>0</td><td>0</td><td>0</td><td>1</td><td>0</td><td>0</td><td>0</td><td>0</td><td>0</td><td>0</td><td>0</td><td>0</td><td>0</td><td>0</td><td>0</td><td>0</td><td>0</td><td>0</td><td>functional</td></tr>\n",
       "\t<tr><th scope=row>59398</th><td>37057</td><td>   0</td><td>   0</td><td>34.01709</td><td>-8.750434</td><td>12</td><td>7</td><td>  0</td><td>   0</td><td>0</td><td>0</td><td>0</td><td>0</td><td>1</td><td>0</td><td>0</td><td>0</td><td>1</td><td>0</td><td>0</td><td>0</td><td>0</td><td>0</td><td>0</td><td>0</td><td>0</td><td>0</td><td>0</td><td>0</td><td>0</td><td>0</td><td>0</td><td>0</td><td>0</td><td>0</td><td>0</td><td>1</td><td>0</td><td>0</td><td>functional</td></tr>\n",
       "\t<tr><th scope=row>59399</th><td>31282</td><td>   0</td><td>   0</td><td>35.86132</td><td>-6.378573</td><td> 1</td><td>4</td><td>  0</td><td>   0</td><td>0</td><td>0</td><td>0</td><td>0</td><td>1</td><td>0</td><td>0</td><td>0</td><td>0</td><td>1</td><td>0</td><td>0</td><td>0</td><td>0</td><td>0</td><td>0</td><td>0</td><td>0</td><td>0</td><td>0</td><td>1</td><td>0</td><td>0</td><td>0</td><td>0</td><td>0</td><td>0</td><td>0</td><td>0</td><td>0</td><td>functional</td></tr>\n",
       "\t<tr><th scope=row>59400</th><td>26348</td><td>   0</td><td> 191</td><td>38.10405</td><td>-6.747464</td><td> 5</td><td>2</td><td>150</td><td>2002</td><td>0</td><td>0</td><td>0</td><td>0</td><td>1</td><td>0</td><td>0</td><td>0</td><td>1</td><td>0</td><td>0</td><td>0</td><td>0</td><td>0</td><td>0</td><td>0</td><td>0</td><td>0</td><td>0</td><td>0</td><td>1</td><td>0</td><td>0</td><td>0</td><td>0</td><td>0</td><td>0</td><td>0</td><td>0</td><td>0</td><td>functional</td></tr>\n",
       "</tbody>\n",
       "</table>\n"
      ],
      "text/latex": [
       "A data.frame: 59400 × 40\n",
       "\\begin{tabular}{r|llllllllllllllllllllllllllllllllllllllll}\n",
       "  & id & amount\\_tsh & gps\\_height & longitude & latitude & region\\_code & district\\_code & population & construction\\_year & waterpoint\\_type\\_cattle trough & waterpoint\\_type\\_communal standpipe & waterpoint\\_type\\_communal standpipe multiple & waterpoint\\_type\\_dam & waterpoint\\_type\\_hand pump & waterpoint\\_type\\_improved spring & waterpoint\\_type\\_other & quantity\\_dry & quantity\\_enough & quantity\\_insufficient & quantity\\_seasonal & quantity\\_unknown & extraction\\_type\\_afridev & extraction\\_type\\_cemo & extraction\\_type\\_climax & extraction\\_type\\_gravity & extraction\\_type\\_india mark ii & extraction\\_type\\_india mark iii & extraction\\_type\\_ksb & extraction\\_type\\_mono & extraction\\_type\\_nira/tanira & extraction\\_type\\_other & extraction\\_type\\_other - mkulima/shinyanga & extraction\\_type\\_other - play pump & extraction\\_type\\_other - rope pump & extraction\\_type\\_other - swn 81 & extraction\\_type\\_submersible & extraction\\_type\\_swn 80 & extraction\\_type\\_walimi & extraction\\_type\\_windmill & status\\_group\\\\\n",
       "  & <int> & <dbl> & <int> & <dbl> & <dbl> & <int> & <int> & <int> & <int> & <int> & <int> & <int> & <int> & <int> & <int> & <int> & <int> & <int> & <int> & <int> & <int> & <int> & <int> & <int> & <int> & <int> & <int> & <int> & <int> & <int> & <int> & <int> & <int> & <int> & <int> & <int> & <int> & <int> & <int> & <fct>\\\\\n",
       "\\hline\n",
       "\t1 & 69572 & 6000 & 1390 & 34.93809 &  -9.856322 & 11 &  5 & 109 & 1999 & 0 & 1 & 0 & 0 & 0 & 0 & 0 & 0 & 1 & 0 & 0 & 0 & 0 & 0 & 0 & 1 & 0 & 0 & 0 & 0 & 0 & 0 & 0 & 0 & 0 & 0 & 0 & 0 & 0 & 0 & functional    \\\\\n",
       "\t2 &  8776 &    0 & 1399 & 34.69877 &  -2.147466 & 20 &  2 & 280 & 2010 & 0 & 1 & 0 & 0 & 0 & 0 & 0 & 0 & 0 & 1 & 0 & 0 & 0 & 0 & 0 & 1 & 0 & 0 & 0 & 0 & 0 & 0 & 0 & 0 & 0 & 0 & 0 & 0 & 0 & 0 & functional    \\\\\n",
       "\t3 & 34310 &   25 &  686 & 37.46066 &  -3.821329 & 21 &  4 & 250 & 2009 & 0 & 0 & 1 & 0 & 0 & 0 & 0 & 0 & 1 & 0 & 0 & 0 & 0 & 0 & 0 & 1 & 0 & 0 & 0 & 0 & 0 & 0 & 0 & 0 & 0 & 0 & 0 & 0 & 0 & 0 & functional    \\\\\n",
       "\t4 & 67743 &    0 &  263 & 38.48616 & -11.155298 & 90 & 63 &  58 & 1986 & 0 & 0 & 1 & 0 & 0 & 0 & 0 & 1 & 0 & 0 & 0 & 0 & 0 & 0 & 0 & 0 & 0 & 0 & 0 & 0 & 0 & 0 & 0 & 0 & 0 & 0 & 1 & 0 & 0 & 0 & non functional\\\\\n",
       "\t5 & 19728 &    0 &    0 & 31.13085 &  -1.825359 & 18 &  1 &   0 &    0 & 0 & 1 & 0 & 0 & 0 & 0 & 0 & 0 & 0 & 0 & 1 & 0 & 0 & 0 & 0 & 1 & 0 & 0 & 0 & 0 & 0 & 0 & 0 & 0 & 0 & 0 & 0 & 0 & 0 & 0 & functional    \\\\\n",
       "\t... & ... & ... & ... & ... & ... & ... & ... & ... & ... & ... & ... & ... & ... & ... & ... & ... & ... & ... & ... & ... & ... & ... & ... & ... & ... & ... & ... & ... & ... & ... & ... & ... & ... & ... & ... & ... & ... & ... & ... & ...\\\\\n",
       "\t59396 & 60739 &   10 & 1210 & 37.16981 & -3.253847 &  3 & 5 & 125 & 1999 & 0 & 1 & 0 & 0 & 0 & 0 & 0 & 0 & 1 & 0 & 0 & 0 & 0 & 0 & 0 & 1 & 0 & 0 & 0 & 0 & 0 & 0 & 0 & 0 & 0 & 0 & 0 & 0 & 0 & 0 & functional\\\\\n",
       "\t59397 & 27263 & 4700 & 1212 & 35.24999 & -9.070629 & 11 & 4 &  56 & 1996 & 0 & 1 & 0 & 0 & 0 & 0 & 0 & 0 & 1 & 0 & 0 & 0 & 0 & 0 & 0 & 1 & 0 & 0 & 0 & 0 & 0 & 0 & 0 & 0 & 0 & 0 & 0 & 0 & 0 & 0 & functional\\\\\n",
       "\t59398 & 37057 &    0 &    0 & 34.01709 & -8.750434 & 12 & 7 &   0 &    0 & 0 & 0 & 0 & 0 & 1 & 0 & 0 & 0 & 1 & 0 & 0 & 0 & 0 & 0 & 0 & 0 & 0 & 0 & 0 & 0 & 0 & 0 & 0 & 0 & 0 & 0 & 0 & 1 & 0 & 0 & functional\\\\\n",
       "\t59399 & 31282 &    0 &    0 & 35.86132 & -6.378573 &  1 & 4 &   0 &    0 & 0 & 0 & 0 & 0 & 1 & 0 & 0 & 0 & 0 & 1 & 0 & 0 & 0 & 0 & 0 & 0 & 0 & 0 & 0 & 0 & 1 & 0 & 0 & 0 & 0 & 0 & 0 & 0 & 0 & 0 & functional\\\\\n",
       "\t59400 & 26348 &    0 &  191 & 38.10405 & -6.747464 &  5 & 2 & 150 & 2002 & 0 & 0 & 0 & 0 & 1 & 0 & 0 & 0 & 1 & 0 & 0 & 0 & 0 & 0 & 0 & 0 & 0 & 0 & 0 & 0 & 1 & 0 & 0 & 0 & 0 & 0 & 0 & 0 & 0 & 0 & functional\\\\\n",
       "\\end{tabular}\n"
      ],
      "text/markdown": [
       "\n",
       "A data.frame: 59400 × 40\n",
       "\n",
       "| <!--/--> | id &lt;int&gt; | amount_tsh &lt;dbl&gt; | gps_height &lt;int&gt; | longitude &lt;dbl&gt; | latitude &lt;dbl&gt; | region_code &lt;int&gt; | district_code &lt;int&gt; | population &lt;int&gt; | construction_year &lt;int&gt; | waterpoint_type_cattle trough &lt;int&gt; | waterpoint_type_communal standpipe &lt;int&gt; | waterpoint_type_communal standpipe multiple &lt;int&gt; | waterpoint_type_dam &lt;int&gt; | waterpoint_type_hand pump &lt;int&gt; | waterpoint_type_improved spring &lt;int&gt; | waterpoint_type_other &lt;int&gt; | quantity_dry &lt;int&gt; | quantity_enough &lt;int&gt; | quantity_insufficient &lt;int&gt; | quantity_seasonal &lt;int&gt; | quantity_unknown &lt;int&gt; | extraction_type_afridev &lt;int&gt; | extraction_type_cemo &lt;int&gt; | extraction_type_climax &lt;int&gt; | extraction_type_gravity &lt;int&gt; | extraction_type_india mark ii &lt;int&gt; | extraction_type_india mark iii &lt;int&gt; | extraction_type_ksb &lt;int&gt; | extraction_type_mono &lt;int&gt; | extraction_type_nira/tanira &lt;int&gt; | extraction_type_other &lt;int&gt; | extraction_type_other - mkulima/shinyanga &lt;int&gt; | extraction_type_other - play pump &lt;int&gt; | extraction_type_other - rope pump &lt;int&gt; | extraction_type_other - swn 81 &lt;int&gt; | extraction_type_submersible &lt;int&gt; | extraction_type_swn 80 &lt;int&gt; | extraction_type_walimi &lt;int&gt; | extraction_type_windmill &lt;int&gt; | status_group &lt;fct&gt; |\n",
       "|---|---|---|---|---|---|---|---|---|---|---|---|---|---|---|---|---|---|---|---|---|---|---|---|---|---|---|---|---|---|---|---|---|---|---|---|---|---|---|---|---|\n",
       "| 1 | 69572 | 6000 | 1390 | 34.93809 |  -9.856322 | 11 |  5 | 109 | 1999 | 0 | 1 | 0 | 0 | 0 | 0 | 0 | 0 | 1 | 0 | 0 | 0 | 0 | 0 | 0 | 1 | 0 | 0 | 0 | 0 | 0 | 0 | 0 | 0 | 0 | 0 | 0 | 0 | 0 | 0 | functional     |\n",
       "| 2 |  8776 |    0 | 1399 | 34.69877 |  -2.147466 | 20 |  2 | 280 | 2010 | 0 | 1 | 0 | 0 | 0 | 0 | 0 | 0 | 0 | 1 | 0 | 0 | 0 | 0 | 0 | 1 | 0 | 0 | 0 | 0 | 0 | 0 | 0 | 0 | 0 | 0 | 0 | 0 | 0 | 0 | functional     |\n",
       "| 3 | 34310 |   25 |  686 | 37.46066 |  -3.821329 | 21 |  4 | 250 | 2009 | 0 | 0 | 1 | 0 | 0 | 0 | 0 | 0 | 1 | 0 | 0 | 0 | 0 | 0 | 0 | 1 | 0 | 0 | 0 | 0 | 0 | 0 | 0 | 0 | 0 | 0 | 0 | 0 | 0 | 0 | functional     |\n",
       "| 4 | 67743 |    0 |  263 | 38.48616 | -11.155298 | 90 | 63 |  58 | 1986 | 0 | 0 | 1 | 0 | 0 | 0 | 0 | 1 | 0 | 0 | 0 | 0 | 0 | 0 | 0 | 0 | 0 | 0 | 0 | 0 | 0 | 0 | 0 | 0 | 0 | 0 | 1 | 0 | 0 | 0 | non functional |\n",
       "| 5 | 19728 |    0 |    0 | 31.13085 |  -1.825359 | 18 |  1 |   0 |    0 | 0 | 1 | 0 | 0 | 0 | 0 | 0 | 0 | 0 | 0 | 1 | 0 | 0 | 0 | 0 | 1 | 0 | 0 | 0 | 0 | 0 | 0 | 0 | 0 | 0 | 0 | 0 | 0 | 0 | 0 | functional     |\n",
       "| ... | ... | ... | ... | ... | ... | ... | ... | ... | ... | ... | ... | ... | ... | ... | ... | ... | ... | ... | ... | ... | ... | ... | ... | ... | ... | ... | ... | ... | ... | ... | ... | ... | ... | ... | ... | ... | ... | ... | ... | ... |\n",
       "| 59396 | 60739 |   10 | 1210 | 37.16981 | -3.253847 |  3 | 5 | 125 | 1999 | 0 | 1 | 0 | 0 | 0 | 0 | 0 | 0 | 1 | 0 | 0 | 0 | 0 | 0 | 0 | 1 | 0 | 0 | 0 | 0 | 0 | 0 | 0 | 0 | 0 | 0 | 0 | 0 | 0 | 0 | functional |\n",
       "| 59397 | 27263 | 4700 | 1212 | 35.24999 | -9.070629 | 11 | 4 |  56 | 1996 | 0 | 1 | 0 | 0 | 0 | 0 | 0 | 0 | 1 | 0 | 0 | 0 | 0 | 0 | 0 | 1 | 0 | 0 | 0 | 0 | 0 | 0 | 0 | 0 | 0 | 0 | 0 | 0 | 0 | 0 | functional |\n",
       "| 59398 | 37057 |    0 |    0 | 34.01709 | -8.750434 | 12 | 7 |   0 |    0 | 0 | 0 | 0 | 0 | 1 | 0 | 0 | 0 | 1 | 0 | 0 | 0 | 0 | 0 | 0 | 0 | 0 | 0 | 0 | 0 | 0 | 0 | 0 | 0 | 0 | 0 | 0 | 1 | 0 | 0 | functional |\n",
       "| 59399 | 31282 |    0 |    0 | 35.86132 | -6.378573 |  1 | 4 |   0 |    0 | 0 | 0 | 0 | 0 | 1 | 0 | 0 | 0 | 0 | 1 | 0 | 0 | 0 | 0 | 0 | 0 | 0 | 0 | 0 | 0 | 1 | 0 | 0 | 0 | 0 | 0 | 0 | 0 | 0 | 0 | functional |\n",
       "| 59400 | 26348 |    0 |  191 | 38.10405 | -6.747464 |  5 | 2 | 150 | 2002 | 0 | 0 | 0 | 0 | 1 | 0 | 0 | 0 | 1 | 0 | 0 | 0 | 0 | 0 | 0 | 0 | 0 | 0 | 0 | 0 | 1 | 0 | 0 | 0 | 0 | 0 | 0 | 0 | 0 | 0 | functional |\n",
       "\n"
      ],
      "text/plain": [
       "      id    amount_tsh gps_height longitude latitude   region_code\n",
       "1     69572 6000       1390       34.93809   -9.856322 11         \n",
       "2      8776    0       1399       34.69877   -2.147466 20         \n",
       "3     34310   25        686       37.46066   -3.821329 21         \n",
       "4     67743    0        263       38.48616  -11.155298 90         \n",
       "5     19728    0          0       31.13085   -1.825359 18         \n",
       "...   ...   ...        ...        ...       ...        ...        \n",
       "59396 60739   10       1210       37.16981  -3.253847   3         \n",
       "59397 27263 4700       1212       35.24999  -9.070629  11         \n",
       "59398 37057    0          0       34.01709  -8.750434  12         \n",
       "59399 31282    0          0       35.86132  -6.378573   1         \n",
       "59400 26348    0        191       38.10405  -6.747464   5         \n",
       "      district_code population construction_year waterpoint_type_cattle trough\n",
       "1      5            109        1999              0                            \n",
       "2      2            280        2010              0                            \n",
       "3      4            250        2009              0                            \n",
       "4     63             58        1986              0                            \n",
       "5      1              0           0              0                            \n",
       "...   ...           ...        ...               ...                          \n",
       "59396 5             125        1999              0                            \n",
       "59397 4              56        1996              0                            \n",
       "59398 7               0           0              0                            \n",
       "59399 4               0           0              0                            \n",
       "59400 2             150        2002              0                            \n",
       "      waterpoint_type_communal standpipe\n",
       "1     1                                 \n",
       "2     1                                 \n",
       "3     0                                 \n",
       "4     0                                 \n",
       "5     1                                 \n",
       "...   ...                               \n",
       "59396 1                                 \n",
       "59397 1                                 \n",
       "59398 0                                 \n",
       "59399 0                                 \n",
       "59400 0                                 \n",
       "      waterpoint_type_communal standpipe multiple waterpoint_type_dam\n",
       "1     0                                           0                  \n",
       "2     0                                           0                  \n",
       "3     1                                           0                  \n",
       "4     1                                           0                  \n",
       "5     0                                           0                  \n",
       "...   ...                                         ...                \n",
       "59396 0                                           0                  \n",
       "59397 0                                           0                  \n",
       "59398 0                                           0                  \n",
       "59399 0                                           0                  \n",
       "59400 0                                           0                  \n",
       "      waterpoint_type_hand pump waterpoint_type_improved spring\n",
       "1     0                         0                              \n",
       "2     0                         0                              \n",
       "3     0                         0                              \n",
       "4     0                         0                              \n",
       "5     0                         0                              \n",
       "...   ...                       ...                            \n",
       "59396 0                         0                              \n",
       "59397 0                         0                              \n",
       "59398 1                         0                              \n",
       "59399 1                         0                              \n",
       "59400 1                         0                              \n",
       "      waterpoint_type_other quantity_dry quantity_enough quantity_insufficient\n",
       "1     0                     0            1               0                    \n",
       "2     0                     0            0               1                    \n",
       "3     0                     0            1               0                    \n",
       "4     0                     1            0               0                    \n",
       "5     0                     0            0               0                    \n",
       "...   ...                   ...          ...             ...                  \n",
       "59396 0                     0            1               0                    \n",
       "59397 0                     0            1               0                    \n",
       "59398 0                     0            1               0                    \n",
       "59399 0                     0            0               1                    \n",
       "59400 0                     0            1               0                    \n",
       "      quantity_seasonal quantity_unknown extraction_type_afridev\n",
       "1     0                 0                0                      \n",
       "2     0                 0                0                      \n",
       "3     0                 0                0                      \n",
       "4     0                 0                0                      \n",
       "5     1                 0                0                      \n",
       "...   ...               ...              ...                    \n",
       "59396 0                 0                0                      \n",
       "59397 0                 0                0                      \n",
       "59398 0                 0                0                      \n",
       "59399 0                 0                0                      \n",
       "59400 0                 0                0                      \n",
       "      extraction_type_cemo extraction_type_climax extraction_type_gravity\n",
       "1     0                    0                      1                      \n",
       "2     0                    0                      1                      \n",
       "3     0                    0                      1                      \n",
       "4     0                    0                      0                      \n",
       "5     0                    0                      1                      \n",
       "...   ...                  ...                    ...                    \n",
       "59396 0                    0                      1                      \n",
       "59397 0                    0                      1                      \n",
       "59398 0                    0                      0                      \n",
       "59399 0                    0                      0                      \n",
       "59400 0                    0                      0                      \n",
       "      extraction_type_india mark ii extraction_type_india mark iii\n",
       "1     0                             0                             \n",
       "2     0                             0                             \n",
       "3     0                             0                             \n",
       "4     0                             0                             \n",
       "5     0                             0                             \n",
       "...   ...                           ...                           \n",
       "59396 0                             0                             \n",
       "59397 0                             0                             \n",
       "59398 0                             0                             \n",
       "59399 0                             0                             \n",
       "59400 0                             0                             \n",
       "      extraction_type_ksb extraction_type_mono extraction_type_nira/tanira\n",
       "1     0                   0                    0                          \n",
       "2     0                   0                    0                          \n",
       "3     0                   0                    0                          \n",
       "4     0                   0                    0                          \n",
       "5     0                   0                    0                          \n",
       "...   ...                 ...                  ...                        \n",
       "59396 0                   0                    0                          \n",
       "59397 0                   0                    0                          \n",
       "59398 0                   0                    0                          \n",
       "59399 0                   0                    1                          \n",
       "59400 0                   0                    1                          \n",
       "      extraction_type_other extraction_type_other - mkulima/shinyanga\n",
       "1     0                     0                                        \n",
       "2     0                     0                                        \n",
       "3     0                     0                                        \n",
       "4     0                     0                                        \n",
       "5     0                     0                                        \n",
       "...   ...                   ...                                      \n",
       "59396 0                     0                                        \n",
       "59397 0                     0                                        \n",
       "59398 0                     0                                        \n",
       "59399 0                     0                                        \n",
       "59400 0                     0                                        \n",
       "      extraction_type_other - play pump extraction_type_other - rope pump\n",
       "1     0                                 0                                \n",
       "2     0                                 0                                \n",
       "3     0                                 0                                \n",
       "4     0                                 0                                \n",
       "5     0                                 0                                \n",
       "...   ...                               ...                              \n",
       "59396 0                                 0                                \n",
       "59397 0                                 0                                \n",
       "59398 0                                 0                                \n",
       "59399 0                                 0                                \n",
       "59400 0                                 0                                \n",
       "      extraction_type_other - swn 81 extraction_type_submersible\n",
       "1     0                              0                          \n",
       "2     0                              0                          \n",
       "3     0                              0                          \n",
       "4     0                              1                          \n",
       "5     0                              0                          \n",
       "...   ...                            ...                        \n",
       "59396 0                              0                          \n",
       "59397 0                              0                          \n",
       "59398 0                              0                          \n",
       "59399 0                              0                          \n",
       "59400 0                              0                          \n",
       "      extraction_type_swn 80 extraction_type_walimi extraction_type_windmill\n",
       "1     0                      0                      0                       \n",
       "2     0                      0                      0                       \n",
       "3     0                      0                      0                       \n",
       "4     0                      0                      0                       \n",
       "5     0                      0                      0                       \n",
       "...   ...                    ...                    ...                     \n",
       "59396 0                      0                      0                       \n",
       "59397 0                      0                      0                       \n",
       "59398 1                      0                      0                       \n",
       "59399 0                      0                      0                       \n",
       "59400 0                      0                      0                       \n",
       "      status_group  \n",
       "1     functional    \n",
       "2     functional    \n",
       "3     functional    \n",
       "4     non functional\n",
       "5     functional    \n",
       "...   ...           \n",
       "59396 functional    \n",
       "59397 functional    \n",
       "59398 functional    \n",
       "59399 functional    \n",
       "59400 functional    "
      ]
     },
     "metadata": {},
     "output_type": "display_data"
    }
   ],
   "source": [
    "library(dummies)\n",
    "\n",
    "total_data <- rbind(training_set_values,test_set_values) # merge train and test to make dummies variable\n",
    "\n",
    "factor_variables <- which(sapply(total_data[1,],class)==\"factor\") # take only factor variable\n",
    "\n",
    "data_fact <- total_data[,factor_variables]\n",
    "\n",
    "only_num_var <- total_data[,-factor_variables]\n",
    "\n",
    "variables_to_keep <- c(\"waterpoint_type\",\"quantity\",\"extraction_type\") # variable to transform\n",
    "\n",
    "data_factor_onehot <- dummy.data.frame(data_fact[,variables_to_keep], sep=\"_\")\n",
    "\n",
    "\n",
    "data_factor_onehot[1:2,]\n",
    "\n",
    "dim(total_data)\n",
    "dim(training_set_values)\n",
    "\n",
    "total_with_dummies <- cbind(only_num_var,data_factor_onehot)\n",
    "\n",
    "# resplit data\n",
    "# data_train\n",
    "data_train <- total_with_dummies[1:59400,]\n",
    "data_train <- cbind(data_train, training_set_labels[2])\n",
    "\n",
    "data_train\n",
    "\n",
    "\n",
    "# data_test\n",
    "data_test <- total_with_dummies[59401:74250,]\n"
   ]
  },
  {
   "cell_type": "markdown",
   "metadata": {},
   "source": [
    "# Model selection\n",
    "\n",
    "As stated in the introduction, we used the three following models/libraries : \n",
    "\n",
    "- Decision Tree (rpart library)\n",
    "- Neural Network (nnet library)\n",
    "- Random Forest (randomForest library)\n",
    "\n",
    "\n"
   ]
  },
  {
   "cell_type": "markdown",
   "metadata": {},
   "source": [
    "## Model 1 : Decision Tree\n",
    "We chose to use Decision tree since it is one of the simplest machine learning technique, and also that it can help us build intuition about what makes a pump functional or not. \n",
    "\n",
    "The decision tree produced might or might not be relevant to the real case problem, but it will be useful to predict the data of the model"
   ]
  },
  {
   "cell_type": "code",
   "execution_count": 16,
   "metadata": {},
   "outputs": [
    {
     "data": {
      "text/html": [
       "<table class=\"dataframe\">\n",
       "<caption>A data.frame: 59400 × 40</caption>\n",
       "<thead>\n",
       "\t<tr><th></th><th scope=col>id</th><th scope=col>amount_tsh</th><th scope=col>gps_height</th><th scope=col>longitude</th><th scope=col>latitude</th><th scope=col>region_code</th><th scope=col>district_code</th><th scope=col>population</th><th scope=col>construction_year</th><th scope=col>waterpoint_type_cattle trough</th><th scope=col>waterpoint_type_communal standpipe</th><th scope=col>waterpoint_type_communal standpipe multiple</th><th scope=col>waterpoint_type_dam</th><th scope=col>waterpoint_type_hand pump</th><th scope=col>waterpoint_type_improved spring</th><th scope=col>waterpoint_type_other</th><th scope=col>quantity_dry</th><th scope=col>quantity_enough</th><th scope=col>quantity_insufficient</th><th scope=col>quantity_seasonal</th><th scope=col>quantity_unknown</th><th scope=col>extraction_type_afridev</th><th scope=col>extraction_type_cemo</th><th scope=col>extraction_type_climax</th><th scope=col>extraction_type_gravity</th><th scope=col>extraction_type_india mark ii</th><th scope=col>extraction_type_india mark iii</th><th scope=col>extraction_type_ksb</th><th scope=col>extraction_type_mono</th><th scope=col>extraction_type_nira/tanira</th><th scope=col>extraction_type_other</th><th scope=col>extraction_type_other - mkulima/shinyanga</th><th scope=col>extraction_type_other - play pump</th><th scope=col>extraction_type_other - rope pump</th><th scope=col>extraction_type_other - swn 81</th><th scope=col>extraction_type_submersible</th><th scope=col>extraction_type_swn 80</th><th scope=col>extraction_type_walimi</th><th scope=col>extraction_type_windmill</th><th scope=col>status_group</th></tr>\n",
       "\t<tr><th></th><th scope=col>&lt;int&gt;</th><th scope=col>&lt;dbl&gt;</th><th scope=col>&lt;int&gt;</th><th scope=col>&lt;dbl&gt;</th><th scope=col>&lt;dbl&gt;</th><th scope=col>&lt;int&gt;</th><th scope=col>&lt;int&gt;</th><th scope=col>&lt;int&gt;</th><th scope=col>&lt;int&gt;</th><th scope=col>&lt;int&gt;</th><th scope=col>&lt;int&gt;</th><th scope=col>&lt;int&gt;</th><th scope=col>&lt;int&gt;</th><th scope=col>&lt;int&gt;</th><th scope=col>&lt;int&gt;</th><th scope=col>&lt;int&gt;</th><th scope=col>&lt;int&gt;</th><th scope=col>&lt;int&gt;</th><th scope=col>&lt;int&gt;</th><th scope=col>&lt;int&gt;</th><th scope=col>&lt;int&gt;</th><th scope=col>&lt;int&gt;</th><th scope=col>&lt;int&gt;</th><th scope=col>&lt;int&gt;</th><th scope=col>&lt;int&gt;</th><th scope=col>&lt;int&gt;</th><th scope=col>&lt;int&gt;</th><th scope=col>&lt;int&gt;</th><th scope=col>&lt;int&gt;</th><th scope=col>&lt;int&gt;</th><th scope=col>&lt;int&gt;</th><th scope=col>&lt;int&gt;</th><th scope=col>&lt;int&gt;</th><th scope=col>&lt;int&gt;</th><th scope=col>&lt;int&gt;</th><th scope=col>&lt;int&gt;</th><th scope=col>&lt;int&gt;</th><th scope=col>&lt;int&gt;</th><th scope=col>&lt;int&gt;</th><th scope=col>&lt;fct&gt;</th></tr>\n",
       "</thead>\n",
       "<tbody>\n",
       "\t<tr><th scope=row>1</th><td>69572</td><td>6000</td><td>1390</td><td>34.93809</td><td> -9.856322</td><td>11</td><td> 5</td><td>109</td><td>1999</td><td>0</td><td>1</td><td>0</td><td>0</td><td>0</td><td>0</td><td>0</td><td>0</td><td>1</td><td>0</td><td>0</td><td>0</td><td>0</td><td>0</td><td>0</td><td>1</td><td>0</td><td>0</td><td>0</td><td>0</td><td>0</td><td>0</td><td>0</td><td>0</td><td>0</td><td>0</td><td>0</td><td>0</td><td>0</td><td>0</td><td>functional    </td></tr>\n",
       "\t<tr><th scope=row>2</th><td> 8776</td><td>   0</td><td>1399</td><td>34.69877</td><td> -2.147466</td><td>20</td><td> 2</td><td>280</td><td>2010</td><td>0</td><td>1</td><td>0</td><td>0</td><td>0</td><td>0</td><td>0</td><td>0</td><td>0</td><td>1</td><td>0</td><td>0</td><td>0</td><td>0</td><td>0</td><td>1</td><td>0</td><td>0</td><td>0</td><td>0</td><td>0</td><td>0</td><td>0</td><td>0</td><td>0</td><td>0</td><td>0</td><td>0</td><td>0</td><td>0</td><td>functional    </td></tr>\n",
       "\t<tr><th scope=row>3</th><td>34310</td><td>  25</td><td> 686</td><td>37.46066</td><td> -3.821329</td><td>21</td><td> 4</td><td>250</td><td>2009</td><td>0</td><td>0</td><td>1</td><td>0</td><td>0</td><td>0</td><td>0</td><td>0</td><td>1</td><td>0</td><td>0</td><td>0</td><td>0</td><td>0</td><td>0</td><td>1</td><td>0</td><td>0</td><td>0</td><td>0</td><td>0</td><td>0</td><td>0</td><td>0</td><td>0</td><td>0</td><td>0</td><td>0</td><td>0</td><td>0</td><td>functional    </td></tr>\n",
       "\t<tr><th scope=row>4</th><td>67743</td><td>   0</td><td> 263</td><td>38.48616</td><td>-11.155298</td><td>90</td><td>63</td><td> 58</td><td>1986</td><td>0</td><td>0</td><td>1</td><td>0</td><td>0</td><td>0</td><td>0</td><td>1</td><td>0</td><td>0</td><td>0</td><td>0</td><td>0</td><td>0</td><td>0</td><td>0</td><td>0</td><td>0</td><td>0</td><td>0</td><td>0</td><td>0</td><td>0</td><td>0</td><td>0</td><td>0</td><td>1</td><td>0</td><td>0</td><td>0</td><td>non functional</td></tr>\n",
       "\t<tr><th scope=row>5</th><td>19728</td><td>   0</td><td>   0</td><td>31.13085</td><td> -1.825359</td><td>18</td><td> 1</td><td>  0</td><td>   0</td><td>0</td><td>1</td><td>0</td><td>0</td><td>0</td><td>0</td><td>0</td><td>0</td><td>0</td><td>0</td><td>1</td><td>0</td><td>0</td><td>0</td><td>0</td><td>1</td><td>0</td><td>0</td><td>0</td><td>0</td><td>0</td><td>0</td><td>0</td><td>0</td><td>0</td><td>0</td><td>0</td><td>0</td><td>0</td><td>0</td><td>functional    </td></tr>\n",
       "\t<tr><th scope=row>...</th><td>...</td><td>...</td><td>...</td><td>...</td><td>...</td><td>...</td><td>...</td><td>...</td><td>...</td><td>...</td><td>...</td><td>...</td><td>...</td><td>...</td><td>...</td><td>...</td><td>...</td><td>...</td><td>...</td><td>...</td><td>...</td><td>...</td><td>...</td><td>...</td><td>...</td><td>...</td><td>...</td><td>...</td><td>...</td><td>...</td><td>...</td><td>...</td><td>...</td><td>...</td><td>...</td><td>...</td><td>...</td><td>...</td><td>...</td><td>...</td></tr>\n",
       "\t<tr><th scope=row>59396</th><td>60739</td><td>  10</td><td>1210</td><td>37.16981</td><td>-3.253847</td><td> 3</td><td>5</td><td>125</td><td>1999</td><td>0</td><td>1</td><td>0</td><td>0</td><td>0</td><td>0</td><td>0</td><td>0</td><td>1</td><td>0</td><td>0</td><td>0</td><td>0</td><td>0</td><td>0</td><td>1</td><td>0</td><td>0</td><td>0</td><td>0</td><td>0</td><td>0</td><td>0</td><td>0</td><td>0</td><td>0</td><td>0</td><td>0</td><td>0</td><td>0</td><td>functional</td></tr>\n",
       "\t<tr><th scope=row>59397</th><td>27263</td><td>4700</td><td>1212</td><td>35.24999</td><td>-9.070629</td><td>11</td><td>4</td><td> 56</td><td>1996</td><td>0</td><td>1</td><td>0</td><td>0</td><td>0</td><td>0</td><td>0</td><td>0</td><td>1</td><td>0</td><td>0</td><td>0</td><td>0</td><td>0</td><td>0</td><td>1</td><td>0</td><td>0</td><td>0</td><td>0</td><td>0</td><td>0</td><td>0</td><td>0</td><td>0</td><td>0</td><td>0</td><td>0</td><td>0</td><td>0</td><td>functional</td></tr>\n",
       "\t<tr><th scope=row>59398</th><td>37057</td><td>   0</td><td>   0</td><td>34.01709</td><td>-8.750434</td><td>12</td><td>7</td><td>  0</td><td>   0</td><td>0</td><td>0</td><td>0</td><td>0</td><td>1</td><td>0</td><td>0</td><td>0</td><td>1</td><td>0</td><td>0</td><td>0</td><td>0</td><td>0</td><td>0</td><td>0</td><td>0</td><td>0</td><td>0</td><td>0</td><td>0</td><td>0</td><td>0</td><td>0</td><td>0</td><td>0</td><td>0</td><td>1</td><td>0</td><td>0</td><td>functional</td></tr>\n",
       "\t<tr><th scope=row>59399</th><td>31282</td><td>   0</td><td>   0</td><td>35.86132</td><td>-6.378573</td><td> 1</td><td>4</td><td>  0</td><td>   0</td><td>0</td><td>0</td><td>0</td><td>0</td><td>1</td><td>0</td><td>0</td><td>0</td><td>0</td><td>1</td><td>0</td><td>0</td><td>0</td><td>0</td><td>0</td><td>0</td><td>0</td><td>0</td><td>0</td><td>0</td><td>1</td><td>0</td><td>0</td><td>0</td><td>0</td><td>0</td><td>0</td><td>0</td><td>0</td><td>0</td><td>functional</td></tr>\n",
       "\t<tr><th scope=row>59400</th><td>26348</td><td>   0</td><td> 191</td><td>38.10405</td><td>-6.747464</td><td> 5</td><td>2</td><td>150</td><td>2002</td><td>0</td><td>0</td><td>0</td><td>0</td><td>1</td><td>0</td><td>0</td><td>0</td><td>1</td><td>0</td><td>0</td><td>0</td><td>0</td><td>0</td><td>0</td><td>0</td><td>0</td><td>0</td><td>0</td><td>0</td><td>1</td><td>0</td><td>0</td><td>0</td><td>0</td><td>0</td><td>0</td><td>0</td><td>0</td><td>0</td><td>functional</td></tr>\n",
       "</tbody>\n",
       "</table>\n"
      ],
      "text/latex": [
       "A data.frame: 59400 × 40\n",
       "\\begin{tabular}{r|llllllllllllllllllllllllllllllllllllllll}\n",
       "  & id & amount\\_tsh & gps\\_height & longitude & latitude & region\\_code & district\\_code & population & construction\\_year & waterpoint\\_type\\_cattle trough & waterpoint\\_type\\_communal standpipe & waterpoint\\_type\\_communal standpipe multiple & waterpoint\\_type\\_dam & waterpoint\\_type\\_hand pump & waterpoint\\_type\\_improved spring & waterpoint\\_type\\_other & quantity\\_dry & quantity\\_enough & quantity\\_insufficient & quantity\\_seasonal & quantity\\_unknown & extraction\\_type\\_afridev & extraction\\_type\\_cemo & extraction\\_type\\_climax & extraction\\_type\\_gravity & extraction\\_type\\_india mark ii & extraction\\_type\\_india mark iii & extraction\\_type\\_ksb & extraction\\_type\\_mono & extraction\\_type\\_nira/tanira & extraction\\_type\\_other & extraction\\_type\\_other - mkulima/shinyanga & extraction\\_type\\_other - play pump & extraction\\_type\\_other - rope pump & extraction\\_type\\_other - swn 81 & extraction\\_type\\_submersible & extraction\\_type\\_swn 80 & extraction\\_type\\_walimi & extraction\\_type\\_windmill & status\\_group\\\\\n",
       "  & <int> & <dbl> & <int> & <dbl> & <dbl> & <int> & <int> & <int> & <int> & <int> & <int> & <int> & <int> & <int> & <int> & <int> & <int> & <int> & <int> & <int> & <int> & <int> & <int> & <int> & <int> & <int> & <int> & <int> & <int> & <int> & <int> & <int> & <int> & <int> & <int> & <int> & <int> & <int> & <int> & <fct>\\\\\n",
       "\\hline\n",
       "\t1 & 69572 & 6000 & 1390 & 34.93809 &  -9.856322 & 11 &  5 & 109 & 1999 & 0 & 1 & 0 & 0 & 0 & 0 & 0 & 0 & 1 & 0 & 0 & 0 & 0 & 0 & 0 & 1 & 0 & 0 & 0 & 0 & 0 & 0 & 0 & 0 & 0 & 0 & 0 & 0 & 0 & 0 & functional    \\\\\n",
       "\t2 &  8776 &    0 & 1399 & 34.69877 &  -2.147466 & 20 &  2 & 280 & 2010 & 0 & 1 & 0 & 0 & 0 & 0 & 0 & 0 & 0 & 1 & 0 & 0 & 0 & 0 & 0 & 1 & 0 & 0 & 0 & 0 & 0 & 0 & 0 & 0 & 0 & 0 & 0 & 0 & 0 & 0 & functional    \\\\\n",
       "\t3 & 34310 &   25 &  686 & 37.46066 &  -3.821329 & 21 &  4 & 250 & 2009 & 0 & 0 & 1 & 0 & 0 & 0 & 0 & 0 & 1 & 0 & 0 & 0 & 0 & 0 & 0 & 1 & 0 & 0 & 0 & 0 & 0 & 0 & 0 & 0 & 0 & 0 & 0 & 0 & 0 & 0 & functional    \\\\\n",
       "\t4 & 67743 &    0 &  263 & 38.48616 & -11.155298 & 90 & 63 &  58 & 1986 & 0 & 0 & 1 & 0 & 0 & 0 & 0 & 1 & 0 & 0 & 0 & 0 & 0 & 0 & 0 & 0 & 0 & 0 & 0 & 0 & 0 & 0 & 0 & 0 & 0 & 0 & 1 & 0 & 0 & 0 & non functional\\\\\n",
       "\t5 & 19728 &    0 &    0 & 31.13085 &  -1.825359 & 18 &  1 &   0 &    0 & 0 & 1 & 0 & 0 & 0 & 0 & 0 & 0 & 0 & 0 & 1 & 0 & 0 & 0 & 0 & 1 & 0 & 0 & 0 & 0 & 0 & 0 & 0 & 0 & 0 & 0 & 0 & 0 & 0 & 0 & functional    \\\\\n",
       "\t... & ... & ... & ... & ... & ... & ... & ... & ... & ... & ... & ... & ... & ... & ... & ... & ... & ... & ... & ... & ... & ... & ... & ... & ... & ... & ... & ... & ... & ... & ... & ... & ... & ... & ... & ... & ... & ... & ... & ... & ...\\\\\n",
       "\t59396 & 60739 &   10 & 1210 & 37.16981 & -3.253847 &  3 & 5 & 125 & 1999 & 0 & 1 & 0 & 0 & 0 & 0 & 0 & 0 & 1 & 0 & 0 & 0 & 0 & 0 & 0 & 1 & 0 & 0 & 0 & 0 & 0 & 0 & 0 & 0 & 0 & 0 & 0 & 0 & 0 & 0 & functional\\\\\n",
       "\t59397 & 27263 & 4700 & 1212 & 35.24999 & -9.070629 & 11 & 4 &  56 & 1996 & 0 & 1 & 0 & 0 & 0 & 0 & 0 & 0 & 1 & 0 & 0 & 0 & 0 & 0 & 0 & 1 & 0 & 0 & 0 & 0 & 0 & 0 & 0 & 0 & 0 & 0 & 0 & 0 & 0 & 0 & functional\\\\\n",
       "\t59398 & 37057 &    0 &    0 & 34.01709 & -8.750434 & 12 & 7 &   0 &    0 & 0 & 0 & 0 & 0 & 1 & 0 & 0 & 0 & 1 & 0 & 0 & 0 & 0 & 0 & 0 & 0 & 0 & 0 & 0 & 0 & 0 & 0 & 0 & 0 & 0 & 0 & 0 & 1 & 0 & 0 & functional\\\\\n",
       "\t59399 & 31282 &    0 &    0 & 35.86132 & -6.378573 &  1 & 4 &   0 &    0 & 0 & 0 & 0 & 0 & 1 & 0 & 0 & 0 & 0 & 1 & 0 & 0 & 0 & 0 & 0 & 0 & 0 & 0 & 0 & 0 & 1 & 0 & 0 & 0 & 0 & 0 & 0 & 0 & 0 & 0 & functional\\\\\n",
       "\t59400 & 26348 &    0 &  191 & 38.10405 & -6.747464 &  5 & 2 & 150 & 2002 & 0 & 0 & 0 & 0 & 1 & 0 & 0 & 0 & 1 & 0 & 0 & 0 & 0 & 0 & 0 & 0 & 0 & 0 & 0 & 0 & 1 & 0 & 0 & 0 & 0 & 0 & 0 & 0 & 0 & 0 & functional\\\\\n",
       "\\end{tabular}\n"
      ],
      "text/markdown": [
       "\n",
       "A data.frame: 59400 × 40\n",
       "\n",
       "| <!--/--> | id &lt;int&gt; | amount_tsh &lt;dbl&gt; | gps_height &lt;int&gt; | longitude &lt;dbl&gt; | latitude &lt;dbl&gt; | region_code &lt;int&gt; | district_code &lt;int&gt; | population &lt;int&gt; | construction_year &lt;int&gt; | waterpoint_type_cattle trough &lt;int&gt; | waterpoint_type_communal standpipe &lt;int&gt; | waterpoint_type_communal standpipe multiple &lt;int&gt; | waterpoint_type_dam &lt;int&gt; | waterpoint_type_hand pump &lt;int&gt; | waterpoint_type_improved spring &lt;int&gt; | waterpoint_type_other &lt;int&gt; | quantity_dry &lt;int&gt; | quantity_enough &lt;int&gt; | quantity_insufficient &lt;int&gt; | quantity_seasonal &lt;int&gt; | quantity_unknown &lt;int&gt; | extraction_type_afridev &lt;int&gt; | extraction_type_cemo &lt;int&gt; | extraction_type_climax &lt;int&gt; | extraction_type_gravity &lt;int&gt; | extraction_type_india mark ii &lt;int&gt; | extraction_type_india mark iii &lt;int&gt; | extraction_type_ksb &lt;int&gt; | extraction_type_mono &lt;int&gt; | extraction_type_nira/tanira &lt;int&gt; | extraction_type_other &lt;int&gt; | extraction_type_other - mkulima/shinyanga &lt;int&gt; | extraction_type_other - play pump &lt;int&gt; | extraction_type_other - rope pump &lt;int&gt; | extraction_type_other - swn 81 &lt;int&gt; | extraction_type_submersible &lt;int&gt; | extraction_type_swn 80 &lt;int&gt; | extraction_type_walimi &lt;int&gt; | extraction_type_windmill &lt;int&gt; | status_group &lt;fct&gt; |\n",
       "|---|---|---|---|---|---|---|---|---|---|---|---|---|---|---|---|---|---|---|---|---|---|---|---|---|---|---|---|---|---|---|---|---|---|---|---|---|---|---|---|---|\n",
       "| 1 | 69572 | 6000 | 1390 | 34.93809 |  -9.856322 | 11 |  5 | 109 | 1999 | 0 | 1 | 0 | 0 | 0 | 0 | 0 | 0 | 1 | 0 | 0 | 0 | 0 | 0 | 0 | 1 | 0 | 0 | 0 | 0 | 0 | 0 | 0 | 0 | 0 | 0 | 0 | 0 | 0 | 0 | functional     |\n",
       "| 2 |  8776 |    0 | 1399 | 34.69877 |  -2.147466 | 20 |  2 | 280 | 2010 | 0 | 1 | 0 | 0 | 0 | 0 | 0 | 0 | 0 | 1 | 0 | 0 | 0 | 0 | 0 | 1 | 0 | 0 | 0 | 0 | 0 | 0 | 0 | 0 | 0 | 0 | 0 | 0 | 0 | 0 | functional     |\n",
       "| 3 | 34310 |   25 |  686 | 37.46066 |  -3.821329 | 21 |  4 | 250 | 2009 | 0 | 0 | 1 | 0 | 0 | 0 | 0 | 0 | 1 | 0 | 0 | 0 | 0 | 0 | 0 | 1 | 0 | 0 | 0 | 0 | 0 | 0 | 0 | 0 | 0 | 0 | 0 | 0 | 0 | 0 | functional     |\n",
       "| 4 | 67743 |    0 |  263 | 38.48616 | -11.155298 | 90 | 63 |  58 | 1986 | 0 | 0 | 1 | 0 | 0 | 0 | 0 | 1 | 0 | 0 | 0 | 0 | 0 | 0 | 0 | 0 | 0 | 0 | 0 | 0 | 0 | 0 | 0 | 0 | 0 | 0 | 1 | 0 | 0 | 0 | non functional |\n",
       "| 5 | 19728 |    0 |    0 | 31.13085 |  -1.825359 | 18 |  1 |   0 |    0 | 0 | 1 | 0 | 0 | 0 | 0 | 0 | 0 | 0 | 0 | 1 | 0 | 0 | 0 | 0 | 1 | 0 | 0 | 0 | 0 | 0 | 0 | 0 | 0 | 0 | 0 | 0 | 0 | 0 | 0 | functional     |\n",
       "| ... | ... | ... | ... | ... | ... | ... | ... | ... | ... | ... | ... | ... | ... | ... | ... | ... | ... | ... | ... | ... | ... | ... | ... | ... | ... | ... | ... | ... | ... | ... | ... | ... | ... | ... | ... | ... | ... | ... | ... | ... |\n",
       "| 59396 | 60739 |   10 | 1210 | 37.16981 | -3.253847 |  3 | 5 | 125 | 1999 | 0 | 1 | 0 | 0 | 0 | 0 | 0 | 0 | 1 | 0 | 0 | 0 | 0 | 0 | 0 | 1 | 0 | 0 | 0 | 0 | 0 | 0 | 0 | 0 | 0 | 0 | 0 | 0 | 0 | 0 | functional |\n",
       "| 59397 | 27263 | 4700 | 1212 | 35.24999 | -9.070629 | 11 | 4 |  56 | 1996 | 0 | 1 | 0 | 0 | 0 | 0 | 0 | 0 | 1 | 0 | 0 | 0 | 0 | 0 | 0 | 1 | 0 | 0 | 0 | 0 | 0 | 0 | 0 | 0 | 0 | 0 | 0 | 0 | 0 | 0 | functional |\n",
       "| 59398 | 37057 |    0 |    0 | 34.01709 | -8.750434 | 12 | 7 |   0 |    0 | 0 | 0 | 0 | 0 | 1 | 0 | 0 | 0 | 1 | 0 | 0 | 0 | 0 | 0 | 0 | 0 | 0 | 0 | 0 | 0 | 0 | 0 | 0 | 0 | 0 | 0 | 0 | 1 | 0 | 0 | functional |\n",
       "| 59399 | 31282 |    0 |    0 | 35.86132 | -6.378573 |  1 | 4 |   0 |    0 | 0 | 0 | 0 | 0 | 1 | 0 | 0 | 0 | 0 | 1 | 0 | 0 | 0 | 0 | 0 | 0 | 0 | 0 | 0 | 0 | 1 | 0 | 0 | 0 | 0 | 0 | 0 | 0 | 0 | 0 | functional |\n",
       "| 59400 | 26348 |    0 |  191 | 38.10405 | -6.747464 |  5 | 2 | 150 | 2002 | 0 | 0 | 0 | 0 | 1 | 0 | 0 | 0 | 1 | 0 | 0 | 0 | 0 | 0 | 0 | 0 | 0 | 0 | 0 | 0 | 1 | 0 | 0 | 0 | 0 | 0 | 0 | 0 | 0 | 0 | functional |\n",
       "\n"
      ],
      "text/plain": [
       "      id    amount_tsh gps_height longitude latitude   region_code\n",
       "1     69572 6000       1390       34.93809   -9.856322 11         \n",
       "2      8776    0       1399       34.69877   -2.147466 20         \n",
       "3     34310   25        686       37.46066   -3.821329 21         \n",
       "4     67743    0        263       38.48616  -11.155298 90         \n",
       "5     19728    0          0       31.13085   -1.825359 18         \n",
       "...   ...   ...        ...        ...       ...        ...        \n",
       "59396 60739   10       1210       37.16981  -3.253847   3         \n",
       "59397 27263 4700       1212       35.24999  -9.070629  11         \n",
       "59398 37057    0          0       34.01709  -8.750434  12         \n",
       "59399 31282    0          0       35.86132  -6.378573   1         \n",
       "59400 26348    0        191       38.10405  -6.747464   5         \n",
       "      district_code population construction_year waterpoint_type_cattle trough\n",
       "1      5            109        1999              0                            \n",
       "2      2            280        2010              0                            \n",
       "3      4            250        2009              0                            \n",
       "4     63             58        1986              0                            \n",
       "5      1              0           0              0                            \n",
       "...   ...           ...        ...               ...                          \n",
       "59396 5             125        1999              0                            \n",
       "59397 4              56        1996              0                            \n",
       "59398 7               0           0              0                            \n",
       "59399 4               0           0              0                            \n",
       "59400 2             150        2002              0                            \n",
       "      waterpoint_type_communal standpipe\n",
       "1     1                                 \n",
       "2     1                                 \n",
       "3     0                                 \n",
       "4     0                                 \n",
       "5     1                                 \n",
       "...   ...                               \n",
       "59396 1                                 \n",
       "59397 1                                 \n",
       "59398 0                                 \n",
       "59399 0                                 \n",
       "59400 0                                 \n",
       "      waterpoint_type_communal standpipe multiple waterpoint_type_dam\n",
       "1     0                                           0                  \n",
       "2     0                                           0                  \n",
       "3     1                                           0                  \n",
       "4     1                                           0                  \n",
       "5     0                                           0                  \n",
       "...   ...                                         ...                \n",
       "59396 0                                           0                  \n",
       "59397 0                                           0                  \n",
       "59398 0                                           0                  \n",
       "59399 0                                           0                  \n",
       "59400 0                                           0                  \n",
       "      waterpoint_type_hand pump waterpoint_type_improved spring\n",
       "1     0                         0                              \n",
       "2     0                         0                              \n",
       "3     0                         0                              \n",
       "4     0                         0                              \n",
       "5     0                         0                              \n",
       "...   ...                       ...                            \n",
       "59396 0                         0                              \n",
       "59397 0                         0                              \n",
       "59398 1                         0                              \n",
       "59399 1                         0                              \n",
       "59400 1                         0                              \n",
       "      waterpoint_type_other quantity_dry quantity_enough quantity_insufficient\n",
       "1     0                     0            1               0                    \n",
       "2     0                     0            0               1                    \n",
       "3     0                     0            1               0                    \n",
       "4     0                     1            0               0                    \n",
       "5     0                     0            0               0                    \n",
       "...   ...                   ...          ...             ...                  \n",
       "59396 0                     0            1               0                    \n",
       "59397 0                     0            1               0                    \n",
       "59398 0                     0            1               0                    \n",
       "59399 0                     0            0               1                    \n",
       "59400 0                     0            1               0                    \n",
       "      quantity_seasonal quantity_unknown extraction_type_afridev\n",
       "1     0                 0                0                      \n",
       "2     0                 0                0                      \n",
       "3     0                 0                0                      \n",
       "4     0                 0                0                      \n",
       "5     1                 0                0                      \n",
       "...   ...               ...              ...                    \n",
       "59396 0                 0                0                      \n",
       "59397 0                 0                0                      \n",
       "59398 0                 0                0                      \n",
       "59399 0                 0                0                      \n",
       "59400 0                 0                0                      \n",
       "      extraction_type_cemo extraction_type_climax extraction_type_gravity\n",
       "1     0                    0                      1                      \n",
       "2     0                    0                      1                      \n",
       "3     0                    0                      1                      \n",
       "4     0                    0                      0                      \n",
       "5     0                    0                      1                      \n",
       "...   ...                  ...                    ...                    \n",
       "59396 0                    0                      1                      \n",
       "59397 0                    0                      1                      \n",
       "59398 0                    0                      0                      \n",
       "59399 0                    0                      0                      \n",
       "59400 0                    0                      0                      \n",
       "      extraction_type_india mark ii extraction_type_india mark iii\n",
       "1     0                             0                             \n",
       "2     0                             0                             \n",
       "3     0                             0                             \n",
       "4     0                             0                             \n",
       "5     0                             0                             \n",
       "...   ...                           ...                           \n",
       "59396 0                             0                             \n",
       "59397 0                             0                             \n",
       "59398 0                             0                             \n",
       "59399 0                             0                             \n",
       "59400 0                             0                             \n",
       "      extraction_type_ksb extraction_type_mono extraction_type_nira/tanira\n",
       "1     0                   0                    0                          \n",
       "2     0                   0                    0                          \n",
       "3     0                   0                    0                          \n",
       "4     0                   0                    0                          \n",
       "5     0                   0                    0                          \n",
       "...   ...                 ...                  ...                        \n",
       "59396 0                   0                    0                          \n",
       "59397 0                   0                    0                          \n",
       "59398 0                   0                    0                          \n",
       "59399 0                   0                    1                          \n",
       "59400 0                   0                    1                          \n",
       "      extraction_type_other extraction_type_other - mkulima/shinyanga\n",
       "1     0                     0                                        \n",
       "2     0                     0                                        \n",
       "3     0                     0                                        \n",
       "4     0                     0                                        \n",
       "5     0                     0                                        \n",
       "...   ...                   ...                                      \n",
       "59396 0                     0                                        \n",
       "59397 0                     0                                        \n",
       "59398 0                     0                                        \n",
       "59399 0                     0                                        \n",
       "59400 0                     0                                        \n",
       "      extraction_type_other - play pump extraction_type_other - rope pump\n",
       "1     0                                 0                                \n",
       "2     0                                 0                                \n",
       "3     0                                 0                                \n",
       "4     0                                 0                                \n",
       "5     0                                 0                                \n",
       "...   ...                               ...                              \n",
       "59396 0                                 0                                \n",
       "59397 0                                 0                                \n",
       "59398 0                                 0                                \n",
       "59399 0                                 0                                \n",
       "59400 0                                 0                                \n",
       "      extraction_type_other - swn 81 extraction_type_submersible\n",
       "1     0                              0                          \n",
       "2     0                              0                          \n",
       "3     0                              0                          \n",
       "4     0                              1                          \n",
       "5     0                              0                          \n",
       "...   ...                            ...                        \n",
       "59396 0                              0                          \n",
       "59397 0                              0                          \n",
       "59398 0                              0                          \n",
       "59399 0                              0                          \n",
       "59400 0                              0                          \n",
       "      extraction_type_swn 80 extraction_type_walimi extraction_type_windmill\n",
       "1     0                      0                      0                       \n",
       "2     0                      0                      0                       \n",
       "3     0                      0                      0                       \n",
       "4     0                      0                      0                       \n",
       "5     0                      0                      0                       \n",
       "...   ...                    ...                    ...                     \n",
       "59396 0                      0                      0                       \n",
       "59397 0                      0                      0                       \n",
       "59398 1                      0                      0                       \n",
       "59399 0                      0                      0                       \n",
       "59400 0                      0                      0                       \n",
       "      status_group  \n",
       "1     functional    \n",
       "2     functional    \n",
       "3     functional    \n",
       "4     non functional\n",
       "5     functional    \n",
       "...   ...           \n",
       "59396 functional    \n",
       "59397 functional    \n",
       "59398 functional    \n",
       "59399 functional    \n",
       "59400 functional    "
      ]
     },
     "metadata": {},
     "output_type": "display_data"
    },
    {
     "data": {
      "text/plain": [
       "\n",
       "FALSE  TRUE \n",
       " 2811 12039 "
      ]
     },
     "metadata": {},
     "output_type": "display_data"
    },
    {
     "data": {
      "text/html": [
       "<table class=\"dataframe\">\n",
       "<caption>A data.frame: 14850 × 2</caption>\n",
       "<thead>\n",
       "\t<tr><th></th><th scope=col>id</th><th scope=col>status_group</th></tr>\n",
       "\t<tr><th></th><th scope=col>&lt;int&gt;</th><th scope=col>&lt;fct&gt;</th></tr>\n",
       "</thead>\n",
       "<tbody>\n",
       "\t<tr><th scope=row>59401</th><td>50785</td><td>non functional</td></tr>\n",
       "\t<tr><th scope=row>59402</th><td>51630</td><td>functional    </td></tr>\n",
       "\t<tr><th scope=row>59403</th><td>17168</td><td>non functional</td></tr>\n",
       "\t<tr><th scope=row>59404</th><td>45559</td><td>non functional</td></tr>\n",
       "\t<tr><th scope=row>59405</th><td>49871</td><td>functional    </td></tr>\n",
       "\t<tr><th scope=row>...</th><td>...</td><td>...</td></tr>\n",
       "\t<tr><th scope=row>74246</th><td>39307</td><td>functional    </td></tr>\n",
       "\t<tr><th scope=row>74247</th><td>18990</td><td>functional    </td></tr>\n",
       "\t<tr><th scope=row>74248</th><td>28749</td><td>functional    </td></tr>\n",
       "\t<tr><th scope=row>74249</th><td>33492</td><td>functional    </td></tr>\n",
       "\t<tr><th scope=row>74250</th><td>68707</td><td>non functional</td></tr>\n",
       "</tbody>\n",
       "</table>\n"
      ],
      "text/latex": [
       "A data.frame: 14850 × 2\n",
       "\\begin{tabular}{r|ll}\n",
       "  & id & status\\_group\\\\\n",
       "  & <int> & <fct>\\\\\n",
       "\\hline\n",
       "\t59401 & 50785 & non functional\\\\\n",
       "\t59402 & 51630 & functional    \\\\\n",
       "\t59403 & 17168 & non functional\\\\\n",
       "\t59404 & 45559 & non functional\\\\\n",
       "\t59405 & 49871 & functional    \\\\\n",
       "\t... & ... & ...\\\\\n",
       "\t74246 & 39307 & functional    \\\\\n",
       "\t74247 & 18990 & functional    \\\\\n",
       "\t74248 & 28749 & functional    \\\\\n",
       "\t74249 & 33492 & functional    \\\\\n",
       "\t74250 & 68707 & non functional\\\\\n",
       "\\end{tabular}\n"
      ],
      "text/markdown": [
       "\n",
       "A data.frame: 14850 × 2\n",
       "\n",
       "| <!--/--> | id &lt;int&gt; | status_group &lt;fct&gt; |\n",
       "|---|---|---|\n",
       "| 59401 | 50785 | non functional |\n",
       "| 59402 | 51630 | functional     |\n",
       "| 59403 | 17168 | non functional |\n",
       "| 59404 | 45559 | non functional |\n",
       "| 59405 | 49871 | functional     |\n",
       "| ... | ... | ... |\n",
       "| 74246 | 39307 | functional     |\n",
       "| 74247 | 18990 | functional     |\n",
       "| 74248 | 28749 | functional     |\n",
       "| 74249 | 33492 | functional     |\n",
       "| 74250 | 68707 | non functional |\n",
       "\n"
      ],
      "text/plain": [
       "      id    status_group  \n",
       "59401 50785 non functional\n",
       "59402 51630 functional    \n",
       "59403 17168 non functional\n",
       "59404 45559 non functional\n",
       "59405 49871 functional    \n",
       "...   ...   ...           \n",
       "74246 39307 functional    \n",
       "74247 18990 functional    \n",
       "74248 28749 functional    \n",
       "74249 33492 functional    \n",
       "74250 68707 non functional"
      ]
     },
     "metadata": {},
     "output_type": "display_data"
    },
    {
     "data": {
      "image/png": "[encoded data removed]",
      "text/plain": [
       "plot without title"
      ]
     },
     "metadata": {
      "image/png": {
       "height": 420,
       "width": 420
      }
     },
     "output_type": "display_data"
    }
   ],
   "source": [
    "library(rpart)\n",
    "library(rpart.plot)\n",
    "\n",
    "data_train\n",
    "\n",
    "# example model \n",
    "\n",
    "model<- rpart(status_group~., data= data_train, method = 'class') # creation of the model\n",
    "\n",
    "\n",
    "prp(model) # print tree\n",
    "\n",
    "predict_unseen <- predict(model,data_test, type = 'class') # prediction\n",
    "\n",
    "status_group <-predict_unseen\n",
    "\n",
    "data_predict <- test_set_values\n",
    "\n",
    "\n",
    "\n",
    "\n",
    "data_predict <- cbind(data_predict[1],status_group)\n",
    "\n",
    "table(data_predict[\"status_group\"] == \"functional\")\n",
    "\n",
    "data_predict\n",
    "\n",
    "write.csv(data_predict,\"decisionTree.csv\",row.names = FALSE)"
   ]
  },
  {
   "cell_type": "markdown",
   "metadata": {},
   "source": [
    "## Model 2 : Neural Network"
   ]
  },
  {
   "cell_type": "markdown",
   "metadata": {},
   "source": [
    "Given how popular Neural Networks are, we will also use it for the data. However we do not expect enormous result with this model since Neural Network work better for other type of problems"
   ]
  },
  {
   "cell_type": "code",
   "execution_count": 17,
   "metadata": {},
   "outputs": [
    {
     "data": {
      "text/html": [
       "<table class=\"dataframe\">\n",
       "<caption>A data.frame: 59400 × 40</caption>\n",
       "<thead>\n",
       "\t<tr><th></th><th scope=col>id</th><th scope=col>amount_tsh</th><th scope=col>gps_height</th><th scope=col>longitude</th><th scope=col>latitude</th><th scope=col>region_code</th><th scope=col>district_code</th><th scope=col>population</th><th scope=col>construction_year</th><th scope=col>waterpoint_type_cattle trough</th><th scope=col>waterpoint_type_communal standpipe</th><th scope=col>waterpoint_type_communal standpipe multiple</th><th scope=col>waterpoint_type_dam</th><th scope=col>waterpoint_type_hand pump</th><th scope=col>waterpoint_type_improved spring</th><th scope=col>waterpoint_type_other</th><th scope=col>quantity_dry</th><th scope=col>quantity_enough</th><th scope=col>quantity_insufficient</th><th scope=col>quantity_seasonal</th><th scope=col>quantity_unknown</th><th scope=col>extraction_type_afridev</th><th scope=col>extraction_type_cemo</th><th scope=col>extraction_type_climax</th><th scope=col>extraction_type_gravity</th><th scope=col>extraction_type_india mark ii</th><th scope=col>extraction_type_india mark iii</th><th scope=col>extraction_type_ksb</th><th scope=col>extraction_type_mono</th><th scope=col>extraction_type_nira/tanira</th><th scope=col>extraction_type_other</th><th scope=col>extraction_type_other - mkulima/shinyanga</th><th scope=col>extraction_type_other - play pump</th><th scope=col>extraction_type_other - rope pump</th><th scope=col>extraction_type_other - swn 81</th><th scope=col>extraction_type_submersible</th><th scope=col>extraction_type_swn 80</th><th scope=col>extraction_type_walimi</th><th scope=col>extraction_type_windmill</th><th scope=col>status_group</th></tr>\n",
       "\t<tr><th></th><th scope=col>&lt;int&gt;</th><th scope=col>&lt;dbl&gt;</th><th scope=col>&lt;int&gt;</th><th scope=col>&lt;dbl&gt;</th><th scope=col>&lt;dbl&gt;</th><th scope=col>&lt;int&gt;</th><th scope=col>&lt;int&gt;</th><th scope=col>&lt;int&gt;</th><th scope=col>&lt;int&gt;</th><th scope=col>&lt;int&gt;</th><th scope=col>&lt;int&gt;</th><th scope=col>&lt;int&gt;</th><th scope=col>&lt;int&gt;</th><th scope=col>&lt;int&gt;</th><th scope=col>&lt;int&gt;</th><th scope=col>&lt;int&gt;</th><th scope=col>&lt;int&gt;</th><th scope=col>&lt;int&gt;</th><th scope=col>&lt;int&gt;</th><th scope=col>&lt;int&gt;</th><th scope=col>&lt;int&gt;</th><th scope=col>&lt;int&gt;</th><th scope=col>&lt;int&gt;</th><th scope=col>&lt;int&gt;</th><th scope=col>&lt;int&gt;</th><th scope=col>&lt;int&gt;</th><th scope=col>&lt;int&gt;</th><th scope=col>&lt;int&gt;</th><th scope=col>&lt;int&gt;</th><th scope=col>&lt;int&gt;</th><th scope=col>&lt;int&gt;</th><th scope=col>&lt;int&gt;</th><th scope=col>&lt;int&gt;</th><th scope=col>&lt;int&gt;</th><th scope=col>&lt;int&gt;</th><th scope=col>&lt;int&gt;</th><th scope=col>&lt;int&gt;</th><th scope=col>&lt;int&gt;</th><th scope=col>&lt;int&gt;</th><th scope=col>&lt;fct&gt;</th></tr>\n",
       "</thead>\n",
       "<tbody>\n",
       "\t<tr><th scope=row>1</th><td>69572</td><td>6000</td><td>1390</td><td>34.93809</td><td> -9.856322</td><td>11</td><td> 5</td><td>109</td><td>1999</td><td>0</td><td>1</td><td>0</td><td>0</td><td>0</td><td>0</td><td>0</td><td>0</td><td>1</td><td>0</td><td>0</td><td>0</td><td>0</td><td>0</td><td>0</td><td>1</td><td>0</td><td>0</td><td>0</td><td>0</td><td>0</td><td>0</td><td>0</td><td>0</td><td>0</td><td>0</td><td>0</td><td>0</td><td>0</td><td>0</td><td>functional    </td></tr>\n",
       "\t<tr><th scope=row>2</th><td> 8776</td><td>   0</td><td>1399</td><td>34.69877</td><td> -2.147466</td><td>20</td><td> 2</td><td>280</td><td>2010</td><td>0</td><td>1</td><td>0</td><td>0</td><td>0</td><td>0</td><td>0</td><td>0</td><td>0</td><td>1</td><td>0</td><td>0</td><td>0</td><td>0</td><td>0</td><td>1</td><td>0</td><td>0</td><td>0</td><td>0</td><td>0</td><td>0</td><td>0</td><td>0</td><td>0</td><td>0</td><td>0</td><td>0</td><td>0</td><td>0</td><td>functional    </td></tr>\n",
       "\t<tr><th scope=row>3</th><td>34310</td><td>  25</td><td> 686</td><td>37.46066</td><td> -3.821329</td><td>21</td><td> 4</td><td>250</td><td>2009</td><td>0</td><td>0</td><td>1</td><td>0</td><td>0</td><td>0</td><td>0</td><td>0</td><td>1</td><td>0</td><td>0</td><td>0</td><td>0</td><td>0</td><td>0</td><td>1</td><td>0</td><td>0</td><td>0</td><td>0</td><td>0</td><td>0</td><td>0</td><td>0</td><td>0</td><td>0</td><td>0</td><td>0</td><td>0</td><td>0</td><td>functional    </td></tr>\n",
       "\t<tr><th scope=row>4</th><td>67743</td><td>   0</td><td> 263</td><td>38.48616</td><td>-11.155298</td><td>90</td><td>63</td><td> 58</td><td>1986</td><td>0</td><td>0</td><td>1</td><td>0</td><td>0</td><td>0</td><td>0</td><td>1</td><td>0</td><td>0</td><td>0</td><td>0</td><td>0</td><td>0</td><td>0</td><td>0</td><td>0</td><td>0</td><td>0</td><td>0</td><td>0</td><td>0</td><td>0</td><td>0</td><td>0</td><td>0</td><td>1</td><td>0</td><td>0</td><td>0</td><td>non functional</td></tr>\n",
       "\t<tr><th scope=row>5</th><td>19728</td><td>   0</td><td>   0</td><td>31.13085</td><td> -1.825359</td><td>18</td><td> 1</td><td>  0</td><td>   0</td><td>0</td><td>1</td><td>0</td><td>0</td><td>0</td><td>0</td><td>0</td><td>0</td><td>0</td><td>0</td><td>1</td><td>0</td><td>0</td><td>0</td><td>0</td><td>1</td><td>0</td><td>0</td><td>0</td><td>0</td><td>0</td><td>0</td><td>0</td><td>0</td><td>0</td><td>0</td><td>0</td><td>0</td><td>0</td><td>0</td><td>functional    </td></tr>\n",
       "\t<tr><th scope=row>...</th><td>...</td><td>...</td><td>...</td><td>...</td><td>...</td><td>...</td><td>...</td><td>...</td><td>...</td><td>...</td><td>...</td><td>...</td><td>...</td><td>...</td><td>...</td><td>...</td><td>...</td><td>...</td><td>...</td><td>...</td><td>...</td><td>...</td><td>...</td><td>...</td><td>...</td><td>...</td><td>...</td><td>...</td><td>...</td><td>...</td><td>...</td><td>...</td><td>...</td><td>...</td><td>...</td><td>...</td><td>...</td><td>...</td><td>...</td><td>...</td></tr>\n",
       "\t<tr><th scope=row>59396</th><td>60739</td><td>  10</td><td>1210</td><td>37.16981</td><td>-3.253847</td><td> 3</td><td>5</td><td>125</td><td>1999</td><td>0</td><td>1</td><td>0</td><td>0</td><td>0</td><td>0</td><td>0</td><td>0</td><td>1</td><td>0</td><td>0</td><td>0</td><td>0</td><td>0</td><td>0</td><td>1</td><td>0</td><td>0</td><td>0</td><td>0</td><td>0</td><td>0</td><td>0</td><td>0</td><td>0</td><td>0</td><td>0</td><td>0</td><td>0</td><td>0</td><td>functional</td></tr>\n",
       "\t<tr><th scope=row>59397</th><td>27263</td><td>4700</td><td>1212</td><td>35.24999</td><td>-9.070629</td><td>11</td><td>4</td><td> 56</td><td>1996</td><td>0</td><td>1</td><td>0</td><td>0</td><td>0</td><td>0</td><td>0</td><td>0</td><td>1</td><td>0</td><td>0</td><td>0</td><td>0</td><td>0</td><td>0</td><td>1</td><td>0</td><td>0</td><td>0</td><td>0</td><td>0</td><td>0</td><td>0</td><td>0</td><td>0</td><td>0</td><td>0</td><td>0</td><td>0</td><td>0</td><td>functional</td></tr>\n",
       "\t<tr><th scope=row>59398</th><td>37057</td><td>   0</td><td>   0</td><td>34.01709</td><td>-8.750434</td><td>12</td><td>7</td><td>  0</td><td>   0</td><td>0</td><td>0</td><td>0</td><td>0</td><td>1</td><td>0</td><td>0</td><td>0</td><td>1</td><td>0</td><td>0</td><td>0</td><td>0</td><td>0</td><td>0</td><td>0</td><td>0</td><td>0</td><td>0</td><td>0</td><td>0</td><td>0</td><td>0</td><td>0</td><td>0</td><td>0</td><td>0</td><td>1</td><td>0</td><td>0</td><td>functional</td></tr>\n",
       "\t<tr><th scope=row>59399</th><td>31282</td><td>   0</td><td>   0</td><td>35.86132</td><td>-6.378573</td><td> 1</td><td>4</td><td>  0</td><td>   0</td><td>0</td><td>0</td><td>0</td><td>0</td><td>1</td><td>0</td><td>0</td><td>0</td><td>0</td><td>1</td><td>0</td><td>0</td><td>0</td><td>0</td><td>0</td><td>0</td><td>0</td><td>0</td><td>0</td><td>0</td><td>1</td><td>0</td><td>0</td><td>0</td><td>0</td><td>0</td><td>0</td><td>0</td><td>0</td><td>0</td><td>functional</td></tr>\n",
       "\t<tr><th scope=row>59400</th><td>26348</td><td>   0</td><td> 191</td><td>38.10405</td><td>-6.747464</td><td> 5</td><td>2</td><td>150</td><td>2002</td><td>0</td><td>0</td><td>0</td><td>0</td><td>1</td><td>0</td><td>0</td><td>0</td><td>1</td><td>0</td><td>0</td><td>0</td><td>0</td><td>0</td><td>0</td><td>0</td><td>0</td><td>0</td><td>0</td><td>0</td><td>1</td><td>0</td><td>0</td><td>0</td><td>0</td><td>0</td><td>0</td><td>0</td><td>0</td><td>0</td><td>functional</td></tr>\n",
       "</tbody>\n",
       "</table>\n"
      ],
      "text/latex": [
       "A data.frame: 59400 × 40\n",
       "\\begin{tabular}{r|llllllllllllllllllllllllllllllllllllllll}\n",
       "  & id & amount\\_tsh & gps\\_height & longitude & latitude & region\\_code & district\\_code & population & construction\\_year & waterpoint\\_type\\_cattle trough & waterpoint\\_type\\_communal standpipe & waterpoint\\_type\\_communal standpipe multiple & waterpoint\\_type\\_dam & waterpoint\\_type\\_hand pump & waterpoint\\_type\\_improved spring & waterpoint\\_type\\_other & quantity\\_dry & quantity\\_enough & quantity\\_insufficient & quantity\\_seasonal & quantity\\_unknown & extraction\\_type\\_afridev & extraction\\_type\\_cemo & extraction\\_type\\_climax & extraction\\_type\\_gravity & extraction\\_type\\_india mark ii & extraction\\_type\\_india mark iii & extraction\\_type\\_ksb & extraction\\_type\\_mono & extraction\\_type\\_nira/tanira & extraction\\_type\\_other & extraction\\_type\\_other - mkulima/shinyanga & extraction\\_type\\_other - play pump & extraction\\_type\\_other - rope pump & extraction\\_type\\_other - swn 81 & extraction\\_type\\_submersible & extraction\\_type\\_swn 80 & extraction\\_type\\_walimi & extraction\\_type\\_windmill & status\\_group\\\\\n",
       "  & <int> & <dbl> & <int> & <dbl> & <dbl> & <int> & <int> & <int> & <int> & <int> & <int> & <int> & <int> & <int> & <int> & <int> & <int> & <int> & <int> & <int> & <int> & <int> & <int> & <int> & <int> & <int> & <int> & <int> & <int> & <int> & <int> & <int> & <int> & <int> & <int> & <int> & <int> & <int> & <int> & <fct>\\\\\n",
       "\\hline\n",
       "\t1 & 69572 & 6000 & 1390 & 34.93809 &  -9.856322 & 11 &  5 & 109 & 1999 & 0 & 1 & 0 & 0 & 0 & 0 & 0 & 0 & 1 & 0 & 0 & 0 & 0 & 0 & 0 & 1 & 0 & 0 & 0 & 0 & 0 & 0 & 0 & 0 & 0 & 0 & 0 & 0 & 0 & 0 & functional    \\\\\n",
       "\t2 &  8776 &    0 & 1399 & 34.69877 &  -2.147466 & 20 &  2 & 280 & 2010 & 0 & 1 & 0 & 0 & 0 & 0 & 0 & 0 & 0 & 1 & 0 & 0 & 0 & 0 & 0 & 1 & 0 & 0 & 0 & 0 & 0 & 0 & 0 & 0 & 0 & 0 & 0 & 0 & 0 & 0 & functional    \\\\\n",
       "\t3 & 34310 &   25 &  686 & 37.46066 &  -3.821329 & 21 &  4 & 250 & 2009 & 0 & 0 & 1 & 0 & 0 & 0 & 0 & 0 & 1 & 0 & 0 & 0 & 0 & 0 & 0 & 1 & 0 & 0 & 0 & 0 & 0 & 0 & 0 & 0 & 0 & 0 & 0 & 0 & 0 & 0 & functional    \\\\\n",
       "\t4 & 67743 &    0 &  263 & 38.48616 & -11.155298 & 90 & 63 &  58 & 1986 & 0 & 0 & 1 & 0 & 0 & 0 & 0 & 1 & 0 & 0 & 0 & 0 & 0 & 0 & 0 & 0 & 0 & 0 & 0 & 0 & 0 & 0 & 0 & 0 & 0 & 0 & 1 & 0 & 0 & 0 & non functional\\\\\n",
       "\t5 & 19728 &    0 &    0 & 31.13085 &  -1.825359 & 18 &  1 &   0 &    0 & 0 & 1 & 0 & 0 & 0 & 0 & 0 & 0 & 0 & 0 & 1 & 0 & 0 & 0 & 0 & 1 & 0 & 0 & 0 & 0 & 0 & 0 & 0 & 0 & 0 & 0 & 0 & 0 & 0 & 0 & functional    \\\\\n",
       "\t... & ... & ... & ... & ... & ... & ... & ... & ... & ... & ... & ... & ... & ... & ... & ... & ... & ... & ... & ... & ... & ... & ... & ... & ... & ... & ... & ... & ... & ... & ... & ... & ... & ... & ... & ... & ... & ... & ... & ... & ...\\\\\n",
       "\t59396 & 60739 &   10 & 1210 & 37.16981 & -3.253847 &  3 & 5 & 125 & 1999 & 0 & 1 & 0 & 0 & 0 & 0 & 0 & 0 & 1 & 0 & 0 & 0 & 0 & 0 & 0 & 1 & 0 & 0 & 0 & 0 & 0 & 0 & 0 & 0 & 0 & 0 & 0 & 0 & 0 & 0 & functional\\\\\n",
       "\t59397 & 27263 & 4700 & 1212 & 35.24999 & -9.070629 & 11 & 4 &  56 & 1996 & 0 & 1 & 0 & 0 & 0 & 0 & 0 & 0 & 1 & 0 & 0 & 0 & 0 & 0 & 0 & 1 & 0 & 0 & 0 & 0 & 0 & 0 & 0 & 0 & 0 & 0 & 0 & 0 & 0 & 0 & functional\\\\\n",
       "\t59398 & 37057 &    0 &    0 & 34.01709 & -8.750434 & 12 & 7 &   0 &    0 & 0 & 0 & 0 & 0 & 1 & 0 & 0 & 0 & 1 & 0 & 0 & 0 & 0 & 0 & 0 & 0 & 0 & 0 & 0 & 0 & 0 & 0 & 0 & 0 & 0 & 0 & 0 & 1 & 0 & 0 & functional\\\\\n",
       "\t59399 & 31282 &    0 &    0 & 35.86132 & -6.378573 &  1 & 4 &   0 &    0 & 0 & 0 & 0 & 0 & 1 & 0 & 0 & 0 & 0 & 1 & 0 & 0 & 0 & 0 & 0 & 0 & 0 & 0 & 0 & 0 & 1 & 0 & 0 & 0 & 0 & 0 & 0 & 0 & 0 & 0 & functional\\\\\n",
       "\t59400 & 26348 &    0 &  191 & 38.10405 & -6.747464 &  5 & 2 & 150 & 2002 & 0 & 0 & 0 & 0 & 1 & 0 & 0 & 0 & 1 & 0 & 0 & 0 & 0 & 0 & 0 & 0 & 0 & 0 & 0 & 0 & 1 & 0 & 0 & 0 & 0 & 0 & 0 & 0 & 0 & 0 & functional\\\\\n",
       "\\end{tabular}\n"
      ],
      "text/markdown": [
       "\n",
       "A data.frame: 59400 × 40\n",
       "\n",
       "| <!--/--> | id &lt;int&gt; | amount_tsh &lt;dbl&gt; | gps_height &lt;int&gt; | longitude &lt;dbl&gt; | latitude &lt;dbl&gt; | region_code &lt;int&gt; | district_code &lt;int&gt; | population &lt;int&gt; | construction_year &lt;int&gt; | waterpoint_type_cattle trough &lt;int&gt; | waterpoint_type_communal standpipe &lt;int&gt; | waterpoint_type_communal standpipe multiple &lt;int&gt; | waterpoint_type_dam &lt;int&gt; | waterpoint_type_hand pump &lt;int&gt; | waterpoint_type_improved spring &lt;int&gt; | waterpoint_type_other &lt;int&gt; | quantity_dry &lt;int&gt; | quantity_enough &lt;int&gt; | quantity_insufficient &lt;int&gt; | quantity_seasonal &lt;int&gt; | quantity_unknown &lt;int&gt; | extraction_type_afridev &lt;int&gt; | extraction_type_cemo &lt;int&gt; | extraction_type_climax &lt;int&gt; | extraction_type_gravity &lt;int&gt; | extraction_type_india mark ii &lt;int&gt; | extraction_type_india mark iii &lt;int&gt; | extraction_type_ksb &lt;int&gt; | extraction_type_mono &lt;int&gt; | extraction_type_nira/tanira &lt;int&gt; | extraction_type_other &lt;int&gt; | extraction_type_other - mkulima/shinyanga &lt;int&gt; | extraction_type_other - play pump &lt;int&gt; | extraction_type_other - rope pump &lt;int&gt; | extraction_type_other - swn 81 &lt;int&gt; | extraction_type_submersible &lt;int&gt; | extraction_type_swn 80 &lt;int&gt; | extraction_type_walimi &lt;int&gt; | extraction_type_windmill &lt;int&gt; | status_group &lt;fct&gt; |\n",
       "|---|---|---|---|---|---|---|---|---|---|---|---|---|---|---|---|---|---|---|---|---|---|---|---|---|---|---|---|---|---|---|---|---|---|---|---|---|---|---|---|---|\n",
       "| 1 | 69572 | 6000 | 1390 | 34.93809 |  -9.856322 | 11 |  5 | 109 | 1999 | 0 | 1 | 0 | 0 | 0 | 0 | 0 | 0 | 1 | 0 | 0 | 0 | 0 | 0 | 0 | 1 | 0 | 0 | 0 | 0 | 0 | 0 | 0 | 0 | 0 | 0 | 0 | 0 | 0 | 0 | functional     |\n",
       "| 2 |  8776 |    0 | 1399 | 34.69877 |  -2.147466 | 20 |  2 | 280 | 2010 | 0 | 1 | 0 | 0 | 0 | 0 | 0 | 0 | 0 | 1 | 0 | 0 | 0 | 0 | 0 | 1 | 0 | 0 | 0 | 0 | 0 | 0 | 0 | 0 | 0 | 0 | 0 | 0 | 0 | 0 | functional     |\n",
       "| 3 | 34310 |   25 |  686 | 37.46066 |  -3.821329 | 21 |  4 | 250 | 2009 | 0 | 0 | 1 | 0 | 0 | 0 | 0 | 0 | 1 | 0 | 0 | 0 | 0 | 0 | 0 | 1 | 0 | 0 | 0 | 0 | 0 | 0 | 0 | 0 | 0 | 0 | 0 | 0 | 0 | 0 | functional     |\n",
       "| 4 | 67743 |    0 |  263 | 38.48616 | -11.155298 | 90 | 63 |  58 | 1986 | 0 | 0 | 1 | 0 | 0 | 0 | 0 | 1 | 0 | 0 | 0 | 0 | 0 | 0 | 0 | 0 | 0 | 0 | 0 | 0 | 0 | 0 | 0 | 0 | 0 | 0 | 1 | 0 | 0 | 0 | non functional |\n",
       "| 5 | 19728 |    0 |    0 | 31.13085 |  -1.825359 | 18 |  1 |   0 |    0 | 0 | 1 | 0 | 0 | 0 | 0 | 0 | 0 | 0 | 0 | 1 | 0 | 0 | 0 | 0 | 1 | 0 | 0 | 0 | 0 | 0 | 0 | 0 | 0 | 0 | 0 | 0 | 0 | 0 | 0 | functional     |\n",
       "| ... | ... | ... | ... | ... | ... | ... | ... | ... | ... | ... | ... | ... | ... | ... | ... | ... | ... | ... | ... | ... | ... | ... | ... | ... | ... | ... | ... | ... | ... | ... | ... | ... | ... | ... | ... | ... | ... | ... | ... | ... |\n",
       "| 59396 | 60739 |   10 | 1210 | 37.16981 | -3.253847 |  3 | 5 | 125 | 1999 | 0 | 1 | 0 | 0 | 0 | 0 | 0 | 0 | 1 | 0 | 0 | 0 | 0 | 0 | 0 | 1 | 0 | 0 | 0 | 0 | 0 | 0 | 0 | 0 | 0 | 0 | 0 | 0 | 0 | 0 | functional |\n",
       "| 59397 | 27263 | 4700 | 1212 | 35.24999 | -9.070629 | 11 | 4 |  56 | 1996 | 0 | 1 | 0 | 0 | 0 | 0 | 0 | 0 | 1 | 0 | 0 | 0 | 0 | 0 | 0 | 1 | 0 | 0 | 0 | 0 | 0 | 0 | 0 | 0 | 0 | 0 | 0 | 0 | 0 | 0 | functional |\n",
       "| 59398 | 37057 |    0 |    0 | 34.01709 | -8.750434 | 12 | 7 |   0 |    0 | 0 | 0 | 0 | 0 | 1 | 0 | 0 | 0 | 1 | 0 | 0 | 0 | 0 | 0 | 0 | 0 | 0 | 0 | 0 | 0 | 0 | 0 | 0 | 0 | 0 | 0 | 0 | 1 | 0 | 0 | functional |\n",
       "| 59399 | 31282 |    0 |    0 | 35.86132 | -6.378573 |  1 | 4 |   0 |    0 | 0 | 0 | 0 | 0 | 1 | 0 | 0 | 0 | 0 | 1 | 0 | 0 | 0 | 0 | 0 | 0 | 0 | 0 | 0 | 0 | 1 | 0 | 0 | 0 | 0 | 0 | 0 | 0 | 0 | 0 | functional |\n",
       "| 59400 | 26348 |    0 |  191 | 38.10405 | -6.747464 |  5 | 2 | 150 | 2002 | 0 | 0 | 0 | 0 | 1 | 0 | 0 | 0 | 1 | 0 | 0 | 0 | 0 | 0 | 0 | 0 | 0 | 0 | 0 | 0 | 1 | 0 | 0 | 0 | 0 | 0 | 0 | 0 | 0 | 0 | functional |\n",
       "\n"
      ],
      "text/plain": [
       "      id    amount_tsh gps_height longitude latitude   region_code\n",
       "1     69572 6000       1390       34.93809   -9.856322 11         \n",
       "2      8776    0       1399       34.69877   -2.147466 20         \n",
       "3     34310   25        686       37.46066   -3.821329 21         \n",
       "4     67743    0        263       38.48616  -11.155298 90         \n",
       "5     19728    0          0       31.13085   -1.825359 18         \n",
       "...   ...   ...        ...        ...       ...        ...        \n",
       "59396 60739   10       1210       37.16981  -3.253847   3         \n",
       "59397 27263 4700       1212       35.24999  -9.070629  11         \n",
       "59398 37057    0          0       34.01709  -8.750434  12         \n",
       "59399 31282    0          0       35.86132  -6.378573   1         \n",
       "59400 26348    0        191       38.10405  -6.747464   5         \n",
       "      district_code population construction_year waterpoint_type_cattle trough\n",
       "1      5            109        1999              0                            \n",
       "2      2            280        2010              0                            \n",
       "3      4            250        2009              0                            \n",
       "4     63             58        1986              0                            \n",
       "5      1              0           0              0                            \n",
       "...   ...           ...        ...               ...                          \n",
       "59396 5             125        1999              0                            \n",
       "59397 4              56        1996              0                            \n",
       "59398 7               0           0              0                            \n",
       "59399 4               0           0              0                            \n",
       "59400 2             150        2002              0                            \n",
       "      waterpoint_type_communal standpipe\n",
       "1     1                                 \n",
       "2     1                                 \n",
       "3     0                                 \n",
       "4     0                                 \n",
       "5     1                                 \n",
       "...   ...                               \n",
       "59396 1                                 \n",
       "59397 1                                 \n",
       "59398 0                                 \n",
       "59399 0                                 \n",
       "59400 0                                 \n",
       "      waterpoint_type_communal standpipe multiple waterpoint_type_dam\n",
       "1     0                                           0                  \n",
       "2     0                                           0                  \n",
       "3     1                                           0                  \n",
       "4     1                                           0                  \n",
       "5     0                                           0                  \n",
       "...   ...                                         ...                \n",
       "59396 0                                           0                  \n",
       "59397 0                                           0                  \n",
       "59398 0                                           0                  \n",
       "59399 0                                           0                  \n",
       "59400 0                                           0                  \n",
       "      waterpoint_type_hand pump waterpoint_type_improved spring\n",
       "1     0                         0                              \n",
       "2     0                         0                              \n",
       "3     0                         0                              \n",
       "4     0                         0                              \n",
       "5     0                         0                              \n",
       "...   ...                       ...                            \n",
       "59396 0                         0                              \n",
       "59397 0                         0                              \n",
       "59398 1                         0                              \n",
       "59399 1                         0                              \n",
       "59400 1                         0                              \n",
       "      waterpoint_type_other quantity_dry quantity_enough quantity_insufficient\n",
       "1     0                     0            1               0                    \n",
       "2     0                     0            0               1                    \n",
       "3     0                     0            1               0                    \n",
       "4     0                     1            0               0                    \n",
       "5     0                     0            0               0                    \n",
       "...   ...                   ...          ...             ...                  \n",
       "59396 0                     0            1               0                    \n",
       "59397 0                     0            1               0                    \n",
       "59398 0                     0            1               0                    \n",
       "59399 0                     0            0               1                    \n",
       "59400 0                     0            1               0                    \n",
       "      quantity_seasonal quantity_unknown extraction_type_afridev\n",
       "1     0                 0                0                      \n",
       "2     0                 0                0                      \n",
       "3     0                 0                0                      \n",
       "4     0                 0                0                      \n",
       "5     1                 0                0                      \n",
       "...   ...               ...              ...                    \n",
       "59396 0                 0                0                      \n",
       "59397 0                 0                0                      \n",
       "59398 0                 0                0                      \n",
       "59399 0                 0                0                      \n",
       "59400 0                 0                0                      \n",
       "      extraction_type_cemo extraction_type_climax extraction_type_gravity\n",
       "1     0                    0                      1                      \n",
       "2     0                    0                      1                      \n",
       "3     0                    0                      1                      \n",
       "4     0                    0                      0                      \n",
       "5     0                    0                      1                      \n",
       "...   ...                  ...                    ...                    \n",
       "59396 0                    0                      1                      \n",
       "59397 0                    0                      1                      \n",
       "59398 0                    0                      0                      \n",
       "59399 0                    0                      0                      \n",
       "59400 0                    0                      0                      \n",
       "      extraction_type_india mark ii extraction_type_india mark iii\n",
       "1     0                             0                             \n",
       "2     0                             0                             \n",
       "3     0                             0                             \n",
       "4     0                             0                             \n",
       "5     0                             0                             \n",
       "...   ...                           ...                           \n",
       "59396 0                             0                             \n",
       "59397 0                             0                             \n",
       "59398 0                             0                             \n",
       "59399 0                             0                             \n",
       "59400 0                             0                             \n",
       "      extraction_type_ksb extraction_type_mono extraction_type_nira/tanira\n",
       "1     0                   0                    0                          \n",
       "2     0                   0                    0                          \n",
       "3     0                   0                    0                          \n",
       "4     0                   0                    0                          \n",
       "5     0                   0                    0                          \n",
       "...   ...                 ...                  ...                        \n",
       "59396 0                   0                    0                          \n",
       "59397 0                   0                    0                          \n",
       "59398 0                   0                    0                          \n",
       "59399 0                   0                    1                          \n",
       "59400 0                   0                    1                          \n",
       "      extraction_type_other extraction_type_other - mkulima/shinyanga\n",
       "1     0                     0                                        \n",
       "2     0                     0                                        \n",
       "3     0                     0                                        \n",
       "4     0                     0                                        \n",
       "5     0                     0                                        \n",
       "...   ...                   ...                                      \n",
       "59396 0                     0                                        \n",
       "59397 0                     0                                        \n",
       "59398 0                     0                                        \n",
       "59399 0                     0                                        \n",
       "59400 0                     0                                        \n",
       "      extraction_type_other - play pump extraction_type_other - rope pump\n",
       "1     0                                 0                                \n",
       "2     0                                 0                                \n",
       "3     0                                 0                                \n",
       "4     0                                 0                                \n",
       "5     0                                 0                                \n",
       "...   ...                               ...                              \n",
       "59396 0                                 0                                \n",
       "59397 0                                 0                                \n",
       "59398 0                                 0                                \n",
       "59399 0                                 0                                \n",
       "59400 0                                 0                                \n",
       "      extraction_type_other - swn 81 extraction_type_submersible\n",
       "1     0                              0                          \n",
       "2     0                              0                          \n",
       "3     0                              0                          \n",
       "4     0                              1                          \n",
       "5     0                              0                          \n",
       "...   ...                            ...                        \n",
       "59396 0                              0                          \n",
       "59397 0                              0                          \n",
       "59398 0                              0                          \n",
       "59399 0                              0                          \n",
       "59400 0                              0                          \n",
       "      extraction_type_swn 80 extraction_type_walimi extraction_type_windmill\n",
       "1     0                      0                      0                       \n",
       "2     0                      0                      0                       \n",
       "3     0                      0                      0                       \n",
       "4     0                      0                      0                       \n",
       "5     0                      0                      0                       \n",
       "...   ...                    ...                    ...                     \n",
       "59396 0                      0                      0                       \n",
       "59397 0                      0                      0                       \n",
       "59398 1                      0                      0                       \n",
       "59399 0                      0                      0                       \n",
       "59400 0                      0                      0                       \n",
       "      status_group  \n",
       "1     functional    \n",
       "2     functional    \n",
       "3     functional    \n",
       "4     non functional\n",
       "5     functional    \n",
       "...   ...           \n",
       "59396 functional    \n",
       "59397 functional    \n",
       "59398 functional    \n",
       "59399 functional    \n",
       "59400 functional    "
      ]
     },
     "metadata": {},
     "output_type": "display_data"
    },
    {
     "name": "stdout",
     "output_type": "stream",
     "text": [
      "# weights:  347\n",
      "initial  value 66332.912884 \n",
      "iter  10 value 52870.590277\n",
      "iter  20 value 52762.795115\n",
      "iter  30 value 52593.692677\n",
      "iter  40 value 52444.222842\n",
      "iter  50 value 52350.021714\n",
      "iter  60 value 52279.425844\n",
      "iter  70 value 52224.442164\n",
      "iter  80 value 52108.281078\n",
      "iter  90 value 52093.808021\n",
      "iter 100 value 52001.546993\n",
      "iter 110 value 51408.625688\n",
      "iter 120 value 51116.305597\n",
      "iter 130 value 50999.007125\n",
      "iter 140 value 50823.853764\n",
      "iter 150 value 50569.095262\n",
      "iter 160 value 50500.031238\n",
      "iter 170 value 50436.885280\n",
      "iter 180 value 50335.778268\n",
      "iter 190 value 49405.404086\n",
      "iter 200 value 47838.748542\n",
      "final  value 47838.748542 \n",
      "stopped after 200 iterations\n"
     ]
    },
    {
     "data": {
      "text/html": [
       "<table class=\"dataframe\">\n",
       "<caption>A data.frame: 14850 × 2</caption>\n",
       "<thead>\n",
       "\t<tr><th></th><th scope=col>id</th><th scope=col>status_group</th></tr>\n",
       "\t<tr><th></th><th scope=col>&lt;int&gt;</th><th scope=col>&lt;fct&gt;</th></tr>\n",
       "</thead>\n",
       "<tbody>\n",
       "\t<tr><th scope=row>59401</th><td>50785</td><td>functional    </td></tr>\n",
       "\t<tr><th scope=row>59402</th><td>51630</td><td>functional    </td></tr>\n",
       "\t<tr><th scope=row>59403</th><td>17168</td><td>functional    </td></tr>\n",
       "\t<tr><th scope=row>59404</th><td>45559</td><td>non functional</td></tr>\n",
       "\t<tr><th scope=row>59405</th><td>49871</td><td>functional    </td></tr>\n",
       "\t<tr><th scope=row>...</th><td>...</td><td>...</td></tr>\n",
       "\t<tr><th scope=row>74246</th><td>39307</td><td>functional    </td></tr>\n",
       "\t<tr><th scope=row>74247</th><td>18990</td><td>functional    </td></tr>\n",
       "\t<tr><th scope=row>74248</th><td>28749</td><td>non functional</td></tr>\n",
       "\t<tr><th scope=row>74249</th><td>33492</td><td>functional    </td></tr>\n",
       "\t<tr><th scope=row>74250</th><td>68707</td><td>non functional</td></tr>\n",
       "</tbody>\n",
       "</table>\n"
      ],
      "text/latex": [
       "A data.frame: 14850 × 2\n",
       "\\begin{tabular}{r|ll}\n",
       "  & id & status\\_group\\\\\n",
       "  & <int> & <fct>\\\\\n",
       "\\hline\n",
       "\t59401 & 50785 & functional    \\\\\n",
       "\t59402 & 51630 & functional    \\\\\n",
       "\t59403 & 17168 & functional    \\\\\n",
       "\t59404 & 45559 & non functional\\\\\n",
       "\t59405 & 49871 & functional    \\\\\n",
       "\t... & ... & ...\\\\\n",
       "\t74246 & 39307 & functional    \\\\\n",
       "\t74247 & 18990 & functional    \\\\\n",
       "\t74248 & 28749 & non functional\\\\\n",
       "\t74249 & 33492 & functional    \\\\\n",
       "\t74250 & 68707 & non functional\\\\\n",
       "\\end{tabular}\n"
      ],
      "text/markdown": [
       "\n",
       "A data.frame: 14850 × 2\n",
       "\n",
       "| <!--/--> | id &lt;int&gt; | status_group &lt;fct&gt; |\n",
       "|---|---|---|\n",
       "| 59401 | 50785 | functional     |\n",
       "| 59402 | 51630 | functional     |\n",
       "| 59403 | 17168 | functional     |\n",
       "| 59404 | 45559 | non functional |\n",
       "| 59405 | 49871 | functional     |\n",
       "| ... | ... | ... |\n",
       "| 74246 | 39307 | functional     |\n",
       "| 74247 | 18990 | functional     |\n",
       "| 74248 | 28749 | non functional |\n",
       "| 74249 | 33492 | functional     |\n",
       "| 74250 | 68707 | non functional |\n",
       "\n"
      ],
      "text/plain": [
       "      id    status_group  \n",
       "59401 50785 functional    \n",
       "59402 51630 functional    \n",
       "59403 17168 functional    \n",
       "59404 45559 non functional\n",
       "59405 49871 functional    \n",
       "...   ...   ...           \n",
       "74246 39307 functional    \n",
       "74247 18990 functional    \n",
       "74248 28749 non functional\n",
       "74249 33492 functional    \n",
       "74250 68707 non functional"
      ]
     },
     "metadata": {},
     "output_type": "display_data"
    },
    {
     "data": {
      "text/plain": [
       "\n",
       "FALSE  TRUE \n",
       " 3796 11054 "
      ]
     },
     "metadata": {},
     "output_type": "display_data"
    }
   ],
   "source": [
    "library(nnet)\n",
    "\n",
    "data_train\n",
    "\n",
    "# example model \n",
    "\n",
    "\n",
    "nnet_model <- nnet(status_group~., data= data_train, size = 8, decay=5e-4, maxit=200) # what we need to change according of the model\n",
    "\n",
    "predict_unseen <- predict(nnet_model, data_test, type= 'class')\n",
    "\n",
    "status_group <-predict_unseen\n",
    "\n",
    "nnet_data_predict <- cbind(data_predict[1],status_group)\n",
    "\n",
    "nnet_data_predict\n",
    "\n",
    "table(nnet_data_predict[\"status_group\"] == \"functional\")\n",
    "\n",
    "write.csv(nnet_data_predict,\"NeuralNetwork.csv\",row.names = FALSE)"
   ]
  },
  {
   "cell_type": "code",
   "execution_count": 18,
   "metadata": {},
   "outputs": [],
   "source": [
    "#predict_unseen <- predict(nnet_model,only_num_var_train, type= 'class') # test nathan with know variable"
   ]
  },
  {
   "cell_type": "code",
   "execution_count": 19,
   "metadata": {},
   "outputs": [],
   "source": [
    "#results <- table(ifelse(predict_unseen == training_set_labels$status_group, \"true\", \"false\"))\n",
    "#results[\"true\"]/(results[\"true\"]+results[\"false\"])"
   ]
  },
  {
   "cell_type": "markdown",
   "metadata": {},
   "source": [
    "## Model 3 : Random Forest\n",
    "\n",
    "We chose this model because it is the continuity of decision tree and we think it is a good way to achieve a correct prediction"
   ]
  },
  {
   "cell_type": "code",
   "execution_count": 20,
   "metadata": {
    "scrolled": false
   },
   "outputs": [
    {
     "name": "stderr",
     "output_type": "stream",
     "text": [
      "randomForest 4.6-14\n",
      "\n",
      "Type rfNews() to see new features/changes/bug fixes.\n",
      "\n"
     ]
    },
    {
     "ename": "ERROR",
     "evalue": "Error in eval(predvars, data, env): objet 'waterpoint_type_cattle trough' introuvable\n",
     "output_type": "error",
     "traceback": [
      "Error in eval(predvars, data, env): objet 'waterpoint_type_cattle trough' introuvable\nTraceback:\n",
      "1. randomForest(status_group ~ ., data = data_train)",
      "2. randomForest.formula(status_group ~ ., data = data_train)",
      "3. model.frame(terms(reformulate(attributes(Terms)$term.labels)), \n .     data.frame(m))",
      "4. model.frame.default(terms(reformulate(attributes(Terms)$term.labels)), \n .     data.frame(m))",
      "5. eval(predvars, data, env)",
      "6. eval(predvars, data, env)"
     ]
    }
   ],
   "source": [
    "library(\"randomForest\")\n",
    "\n",
    "rf_model<- randomForest(status_group~., data= data_train) # what we need to change according of the model\n",
    "\n",
    "\n",
    "rf_predict_unseen <- predict(rf_model,data_test, type = 'class')\n",
    "\n",
    "rf_predict_unseen\n",
    "\n",
    "status_group <-rf_predict_unseen\n",
    "\n",
    "rf_data_predict <- test_set_values\n",
    "\n",
    "\n",
    "rf_data_predict <- cbind(data_predict[1],status_group)\n",
    "\n",
    "\n",
    "rf_data_predict\n",
    "\n",
    "write.csv(rf_data_predict,\"randomForest.csv\",row.names = FALSE)"
   ]
  },
  {
   "cell_type": "code",
   "execution_count": null,
   "metadata": {},
   "outputs": [],
   "source": [
    "rf_model"
   ]
  },
  {
   "cell_type": "code",
   "execution_count": null,
   "metadata": {},
   "outputs": [],
   "source": []
  },
  {
   "cell_type": "code",
   "execution_count": null,
   "metadata": {},
   "outputs": [
    {
     "name": "stderr",
     "output_type": "stream",
     "text": [
      "Loading required package: lattice\n",
      "\n",
      "Loading required package: ggplot2\n",
      "\n",
      "\n",
      "Attaching package: 'ggplot2'\n",
      "\n",
      "\n",
      "The following object is masked from 'package:randomForest':\n",
      "\n",
      "    margin\n",
      "\n",
      "\n"
     ]
    }
   ],
   "source": [
    "# Caret\n",
    "library(caret)\n",
    "\n",
    "caret_model<- train(status_group~., data= data_train) # what we need to change according of the model\n",
    "\n",
    "\n",
    "caret_predict_unseen <- predict(caret_model,data_test, type = 'class')\n",
    "\n",
    "caret_predict_unseen\n",
    "\n",
    "status_group <-caret_predict_unseen\n",
    "\n",
    "caret_data_predict <- test_set_values\n",
    "\n",
    "\n",
    "caret_data_predict <- cbind(data_predict[1],status_group)\n",
    "\n",
    "\n",
    "caret_data_predict"
   ]
  },
  {
   "cell_type": "markdown",
   "metadata": {},
   "source": [
    "# Alternative models\n",
    "\n",
    "\n",
    "TODO : trouver un modèle qui n'existe pas\n",
    "\n",
    "\n"
   ]
  },
  {
   "cell_type": "markdown",
   "metadata": {},
   "source": [
    "# Conclusions\n",
    "\n",
    "In conclusion, we found that decision tree / random forest works best between our 3 models, and we think it would be even better with more accurate data (for exemple pressure sensors, temperature sensors, etc ... ). \n",
    "\n",
    "Neural Network is also be a good candidate for this type of problem because it can create abstraction about data in a smarter way than Nearest Neighbor to understand that geographically close waterpumps might or might not suffer the same problem"
   ]
  },
  {
   "cell_type": "code",
   "execution_count": null,
   "metadata": {},
   "outputs": [],
   "source": []
  }
 ],
 "metadata": {
  "kernelspec": {
   "display_name": "R",
   "language": "R",
   "name": "ir"
  },
  "language_info": {
   "codemirror_mode": "r",
   "file_extension": ".r",
   "mimetype": "text/x-r-source",
   "name": "R",
   "pygments_lexer": "r",
   "version": "4.0.5"
  }
 },
 "nbformat": 4,
 "nbformat_minor": 4
}

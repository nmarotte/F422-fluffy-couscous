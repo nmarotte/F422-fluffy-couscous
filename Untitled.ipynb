{
 "cells": [
  {
   "cell_type": "code",
   "execution_count": 3,
   "id": "609d4db4",
   "metadata": {},
   "outputs": [
    {
     "name": "stderr",
     "output_type": "stream",
     "text": [
      "Registered S3 method overwritten by 'rvest':\n",
      "  method            from\n",
      "  read_xml.response xml2\n",
      "-- Attaching packages ------------------------------------------------------------------------------- tidyverse 1.2.1 --\n",
      "v tibble  2.1.1       v purrr   0.3.4  \n",
      "v tidyr   0.8.3       v dplyr   0.8.0.1\n",
      "v readr   1.3.1       v stringr 1.4.0  \n",
      "v tibble  2.1.1       v forcats 0.4.0  \n",
      "Warning message:\n",
      "\"package 'purrr' was built under R version 3.6.3\"-- Conflicts ---------------------------------------------------------------------------------- tidyverse_conflicts() --\n",
      "x dplyr::filter() masks stats::filter()\n",
      "x dplyr::lag()    masks stats::lag()\n",
      "x purrr::lift()   masks caret::lift()\n"
     ]
    },
    {
     "name": "stdout",
     "output_type": "stream",
     "text": [
      "[1] \"R version 3.6.1 (2019-07-05)\"\n",
      "[1] \"the column recorded_by has always the same value\"\n"
     ]
    },
    {
     "data": {
      "text/plain": [
       "\n",
       "\tPearson's Chi-squared test\n",
       "\n",
       "data:  table(training_set_values$quantity, training_set_values$quantity_group)\n",
       "X-squared = 175833, df = 9, p-value < 2.2e-16\n"
      ]
     },
     "metadata": {},
     "output_type": "display_data"
    },
    {
     "data": {
      "text/plain": [
       "\n",
       "\tPearson's Chi-squared test\n",
       "\n",
       "data:  table(training_set_values$quantity, training_set_values$payment_type)\n",
       "X-squared = 1723.9, df = 15, p-value < 2.2e-16\n"
      ]
     },
     "metadata": {},
     "output_type": "display_data"
    },
    {
     "name": "stderr",
     "output_type": "stream",
     "text": [
      "Warning message in chisq.test(table(training_set_values$funder, training_set_values$payment_type)):\n",
      "\"Chi-squared approximation may be incorrect\""
     ]
    },
    {
     "data": {
      "text/plain": [
       "\n",
       "\tPearson's Chi-squared test\n",
       "\n",
       "data:  table(training_set_values$funder, training_set_values$payment_type)\n",
       "X-squared = NaN, df = 9480, p-value = NA\n"
      ]
     },
     "metadata": {},
     "output_type": "display_data"
    },
    {
     "name": "stderr",
     "output_type": "stream",
     "text": [
      "Warning message in chisq.test(table(training_set_values$water_quality, training_set_values$quality_group)):\n",
      "\"Chi-squared approximation may be incorrect\""
     ]
    },
    {
     "data": {
      "text/plain": [
       "\n",
       "\tPearson's Chi-squared test\n",
       "\n",
       "data:  table(training_set_values$water_quality, training_set_values$quality_group)\n",
       "X-squared = 230096, df = 24, p-value < 2.2e-16\n"
      ]
     },
     "metadata": {},
     "output_type": "display_data"
    },
    {
     "name": "stderr",
     "output_type": "stream",
     "text": [
      "Warning message in chisq.test(table(test_correlation$amount_tsh, test_correlation$status_group)):\n",
      "\"Chi-squared approximation may be incorrect\""
     ]
    },
    {
     "data": {
      "text/plain": [
       "\n",
       "\tPearson's Chi-squared test\n",
       "\n",
       "data:  table(test_correlation$amount_tsh, test_correlation$status_group)\n",
       "X-squared = 4307.2, df = 194, p-value < 2.2e-16\n"
      ]
     },
     "metadata": {},
     "output_type": "display_data"
    },
    {
     "name": "stderr",
     "output_type": "stream",
     "text": [
      "Warning message in chisq.test(table(test_correlation$date_recorded, test_correlation$status_group)):\n",
      "\"Chi-squared approximation may be incorrect\""
     ]
    },
    {
     "data": {
      "text/plain": [
       "\n",
       "\tPearson's Chi-squared test\n",
       "\n",
       "data:  table(test_correlation$date_recorded, test_correlation$status_group)\n",
       "X-squared = 5005.7, df = 710, p-value < 2.2e-16\n"
      ]
     },
     "metadata": {},
     "output_type": "display_data"
    },
    {
     "name": "stderr",
     "output_type": "stream",
     "text": [
      "Warning message in chisq.test(table(test_correlation$funder, test_correlation$status_group)):\n",
      "\"Chi-squared approximation may be incorrect\""
     ]
    },
    {
     "data": {
      "text/plain": [
       "\n",
       "\tPearson's Chi-squared test\n",
       "\n",
       "data:  table(test_correlation$funder, test_correlation$status_group)\n",
       "X-squared = 14173, df = 3792, p-value < 2.2e-16\n"
      ]
     },
     "metadata": {},
     "output_type": "display_data"
    },
    {
     "name": "stderr",
     "output_type": "stream",
     "text": [
      "Warning message in chisq.test(table(test_correlation$gps_height, test_correlation$status_group)):\n",
      "\"Chi-squared approximation may be incorrect\""
     ]
    },
    {
     "data": {
      "text/plain": [
       "\n",
       "\tPearson's Chi-squared test\n",
       "\n",
       "data:  table(test_correlation$gps_height, test_correlation$status_group)\n",
       "X-squared = 6279.7, df = 4854, p-value < 2.2e-16\n"
      ]
     },
     "metadata": {},
     "output_type": "display_data"
    },
    {
     "name": "stderr",
     "output_type": "stream",
     "text": [
      "Warning message in chisq.test(table(test_correlation$installer, test_correlation$status_group)):\n",
      "\"Chi-squared approximation may be incorrect\""
     ]
    },
    {
     "data": {
      "text/plain": [
       "\n",
       "\tPearson's Chi-squared test\n",
       "\n",
       "data:  table(test_correlation$installer, test_correlation$status_group)\n",
       "X-squared = 14721, df = 4286, p-value < 2.2e-16\n"
      ]
     },
     "metadata": {},
     "output_type": "display_data"
    },
    {
     "name": "stderr",
     "output_type": "stream",
     "text": [
      "Warning message in chisq.test(table(test_correlation$longitude, test_correlation$status_group)):\n",
      "\"Chi-squared approximation may be incorrect\""
     ]
    },
    {
     "data": {
      "text/plain": [
       "\n",
       "\tPearson's Chi-squared test\n",
       "\n",
       "data:  table(test_correlation$longitude, test_correlation$status_group)\n",
       "X-squared = 112780, df = 115030, p-value = 1\n"
      ]
     },
     "metadata": {},
     "output_type": "display_data"
    },
    {
     "name": "stderr",
     "output_type": "stream",
     "text": [
      "Warning message in chisq.test(table(test_correlation$latitude, test_correlation$status_group)):\n",
      "\"Chi-squared approximation may be incorrect\""
     ]
    },
    {
     "data": {
      "text/plain": [
       "\n",
       "\tPearson's Chi-squared test\n",
       "\n",
       "data:  table(test_correlation$latitude, test_correlation$status_group)\n",
       "X-squared = 112782, df = 115032, p-value = 1\n"
      ]
     },
     "metadata": {},
     "output_type": "display_data"
    },
    {
     "name": "stderr",
     "output_type": "stream",
     "text": [
      "Warning message in chisq.test(table(test_correlation$wpt_name, test_correlation$status_group)):\n",
      "\"Chi-squared approximation may be incorrect\""
     ]
    },
    {
     "data": {
      "text/plain": [
       "\n",
       "\tPearson's Chi-squared test\n",
       "\n",
       "data:  table(test_correlation$wpt_name, test_correlation$status_group)\n",
       "X-squared = 75575, df = 74796, p-value = 0.02224\n"
      ]
     },
     "metadata": {},
     "output_type": "display_data"
    },
    {
     "data": {
      "text/plain": [
       "\n",
       "\tPearson's Chi-squared test\n",
       "\n",
       "data:  table(test_correlation$basin, test_correlation$status_group)\n",
       "X-squared = 1921, df = 16, p-value < 2.2e-16\n"
      ]
     },
     "metadata": {},
     "output_type": "display_data"
    },
    {
     "name": "stderr",
     "output_type": "stream",
     "text": [
      "Warning message in chisq.test(table(test_correlation$subvillage, test_correlation$status_group)):\n",
      "\"Chi-squared approximation may be incorrect\""
     ]
    },
    {
     "data": {
      "text/plain": [
       "\n",
       "\tPearson's Chi-squared test\n",
       "\n",
       "data:  table(test_correlation$subvillage, test_correlation$status_group)\n",
       "X-squared = 55053, df = 38572, p-value < 2.2e-16\n"
      ]
     },
     "metadata": {},
     "output_type": "display_data"
    },
    {
     "data": {
      "text/plain": [
       "\n",
       "\tPearson's Chi-squared test\n",
       "\n",
       "data:  table(test_correlation$region, test_correlation$status_group)\n",
       "X-squared = 4794.6, df = 40, p-value < 2.2e-16\n"
      ]
     },
     "metadata": {},
     "output_type": "display_data"
    },
    {
     "name": "stderr",
     "output_type": "stream",
     "text": [
      "Warning message in chisq.test(table(test_correlation$region_code, test_correlation$status_group)):\n",
      "\"Chi-squared approximation may be incorrect\""
     ]
    },
    {
     "data": {
      "text/plain": [
       "\n",
       "\tPearson's Chi-squared test\n",
       "\n",
       "data:  table(test_correlation$region_code, test_correlation$status_group)\n",
       "X-squared = 5157.4, df = 52, p-value < 2.2e-16\n"
      ]
     },
     "metadata": {},
     "output_type": "display_data"
    },
    {
     "name": "stderr",
     "output_type": "stream",
     "text": [
      "Warning message in chisq.test(table(test_correlation$district_code, test_correlation$status_group)):\n",
      "\"Chi-squared approximation may be incorrect\""
     ]
    },
    {
     "data": {
      "text/plain": [
       "\n",
       "\tPearson's Chi-squared test\n",
       "\n",
       "data:  table(test_correlation$district_code, test_correlation$status_group)\n",
       "X-squared = 1673.5, df = 38, p-value < 2.2e-16\n"
      ]
     },
     "metadata": {},
     "output_type": "display_data"
    },
    {
     "name": "stderr",
     "output_type": "stream",
     "text": [
      "Warning message in chisq.test(table(test_correlation$lga, test_correlation$status_group)):\n",
      "\"Chi-squared approximation may be incorrect\""
     ]
    },
    {
     "data": {
      "text/plain": [
       "\n",
       "\tPearson's Chi-squared test\n",
       "\n",
       "data:  table(test_correlation$lga, test_correlation$status_group)\n",
       "X-squared = 11530, df = 248, p-value < 2.2e-16\n"
      ]
     },
     "metadata": {},
     "output_type": "display_data"
    },
    {
     "name": "stderr",
     "output_type": "stream",
     "text": [
      "Warning message in chisq.test(table(test_correlation$ward, test_correlation$status_group)):\n",
      "\"Chi-squared approximation may be incorrect\""
     ]
    },
    {
     "data": {
      "text/plain": [
       "\n",
       "\tPearson's Chi-squared test\n",
       "\n",
       "data:  table(test_correlation$ward, test_correlation$status_group)\n",
       "X-squared = 26145, df = 4182, p-value < 2.2e-16\n"
      ]
     },
     "metadata": {},
     "output_type": "display_data"
    },
    {
     "name": "stderr",
     "output_type": "stream",
     "text": [
      "Warning message in chisq.test(table(test_correlation$population, test_correlation$status_group)):\n",
      "\"Chi-squared approximation may be incorrect\""
     ]
    },
    {
     "data": {
      "text/plain": [
       "\n",
       "\tPearson's Chi-squared test\n",
       "\n",
       "data:  table(test_correlation$population, test_correlation$status_group)\n",
       "X-squared = 4480, df = 2096, p-value < 2.2e-16\n"
      ]
     },
     "metadata": {},
     "output_type": "display_data"
    },
    {
     "data": {
      "text/plain": [
       "\n",
       "\tPearson's Chi-squared test\n",
       "\n",
       "data:  table(test_correlation$public_meeting, test_correlation$status_group)\n",
       "X-squared = 302.18, df = 2, p-value < 2.2e-16\n"
      ]
     },
     "metadata": {},
     "output_type": "display_data"
    },
    {
     "name": "stderr",
     "output_type": "stream",
     "text": [
      "Warning message in chisq.test(table(test_correlation$scheme_management, test_correlation$status_group)):\n",
      "\"Chi-squared approximation may be incorrect\""
     ]
    },
    {
     "data": {
      "text/plain": [
       "\n",
       "\tPearson's Chi-squared test\n",
       "\n",
       "data:  table(test_correlation$scheme_management, test_correlation$status_group)\n",
       "X-squared = 1887.1, df = 22, p-value < 2.2e-16\n"
      ]
     },
     "metadata": {},
     "output_type": "display_data"
    },
    {
     "name": "stderr",
     "output_type": "stream",
     "text": [
      "Warning message in chisq.test(table(test_correlation$scheme_name, test_correlation$status_group)):\n",
      "\"Chi-squared approximation may be incorrect\""
     ]
    },
    {
     "data": {
      "text/plain": [
       "\n",
       "\tPearson's Chi-squared test\n",
       "\n",
       "data:  table(test_correlation$scheme_name, test_correlation$status_group)\n",
       "X-squared = 21616, df = 5388, p-value < 2.2e-16\n"
      ]
     },
     "metadata": {},
     "output_type": "display_data"
    },
    {
     "data": {
      "text/plain": [
       "\n",
       "\tPearson's Chi-squared test\n",
       "\n",
       "data:  table(test_correlation$permit, test_correlation$status_group)\n",
       "X-squared = 67.79, df = 2, p-value = 1.904e-15\n"
      ]
     },
     "metadata": {},
     "output_type": "display_data"
    },
    {
     "name": "stderr",
     "output_type": "stream",
     "text": [
      "Warning message in chisq.test(table(test_correlation$construction_year, test_correlation$status_group)):\n",
      "\"Chi-squared approximation may be incorrect\""
     ]
    },
    {
     "data": {
      "text/plain": [
       "\n",
       "\tPearson's Chi-squared test\n",
       "\n",
       "data:  table(test_correlation$construction_year, test_correlation$status_group)\n",
       "X-squared = 4098.4, df = 108, p-value < 2.2e-16\n"
      ]
     },
     "metadata": {},
     "output_type": "display_data"
    },
    {
     "name": "stderr",
     "output_type": "stream",
     "text": [
      "Warning message in chisq.test(table(test_correlation$extraction_type, test_correlation$status_group)):\n",
      "\"Chi-squared approximation may be incorrect\""
     ]
    },
    {
     "data": {
      "text/plain": [
       "\n",
       "\tPearson's Chi-squared test\n",
       "\n",
       "data:  table(test_correlation$extraction_type, test_correlation$status_group)\n",
       "X-squared = 7365.6, df = 34, p-value < 2.2e-16\n"
      ]
     },
     "metadata": {},
     "output_type": "display_data"
    },
    {
     "data": {
      "text/plain": [
       "\n",
       "\tPearson's Chi-squared test\n",
       "\n",
       "data:  table(test_correlation$management, test_correlation$status_group)\n",
       "X-squared = 2015.2, df = 20, p-value < 2.2e-16\n"
      ]
     },
     "metadata": {},
     "output_type": "display_data"
    },
    {
     "data": {
      "text/plain": [
       "\n",
       "\tPearson's Chi-squared test\n",
       "\n",
       "data:  table(test_correlation$payment, test_correlation$status_group)\n",
       "X-squared = 3334.7, df = 10, p-value < 2.2e-16\n"
      ]
     },
     "metadata": {},
     "output_type": "display_data"
    },
    {
     "name": "stderr",
     "output_type": "stream",
     "text": [
      "Warning message in chisq.test(table(test_correlation$water_quality, test_correlation$status_group)):\n",
      "\"Chi-squared approximation may be incorrect\""
     ]
    },
    {
     "data": {
      "text/plain": [
       "\n",
       "\tPearson's Chi-squared test\n",
       "\n",
       "data:  table(test_correlation$water_quality, test_correlation$status_group)\n",
       "X-squared = 575.43, df = 12, p-value < 2.2e-16\n"
      ]
     },
     "metadata": {},
     "output_type": "display_data"
    },
    {
     "data": {
      "text/plain": [
       "\n",
       "\tPearson's Chi-squared test\n",
       "\n",
       "data:  table(test_correlation$quantity, test_correlation$status_group)\n",
       "X-squared = 11039, df = 6, p-value < 2.2e-16\n"
      ]
     },
     "metadata": {},
     "output_type": "display_data"
    },
    {
     "data": {
      "text/plain": [
       "\n",
       "\tPearson's Chi-squared test\n",
       "\n",
       "data:  table(test_correlation$source, test_correlation$status_group)\n",
       "X-squared = 2622.7, df = 16, p-value < 2.2e-16\n"
      ]
     },
     "metadata": {},
     "output_type": "display_data"
    },
    {
     "name": "stderr",
     "output_type": "stream",
     "text": [
      "Warning message in chisq.test(table(test_correlation$waterpoint_type, test_correlation$status_group)):\n",
      "\"Chi-squared approximation may be incorrect\""
     ]
    },
    {
     "data": {
      "text/plain": [
       "\n",
       "\tPearson's Chi-squared test\n",
       "\n",
       "data:  table(test_correlation$waterpoint_type, test_correlation$status_group)\n",
       "X-squared = 7450.3, df = 12, p-value < 2.2e-16\n"
      ]
     },
     "metadata": {},
     "output_type": "display_data"
    }
   ],
   "source": [
    "# install.packages('dummies')\n",
    "# install.packages('stringi')\n",
    "# install.packages('rpart.plot')\n",
    "# install.packages('dplyr', repos = 'https://cloud.r-project.org')\n",
    "# install.packages('caret', dependencies = TRUE)\n",
    "# install.packages(\"C:\\\\Users\\\\antoi\\\\Downloads\\\\stringi_1.5.3.zip\")\n",
    "# install.packages('dplyr', repos = 'https://cloud.r-project.org')\n",
    "# install.packages(\"doParallel\")\n",
    "library(tidyverse)\n",
    "\n",
    "print(R.version$version.string)\n",
    "training_set_labels <- read.csv(file = 'data/training_set_labels.csv', na.strings = c(\"\", \" \", \"none\", \"unknown\"))\n",
    "test_set_values <- read.csv(file = 'data/test_set_values.csv', na.strings = c(\"\", \" \", \"none\", \"unknown\"))\n",
    "training_set_values <- read.csv(file = 'data/training_set_values.csv',  na.strings = c(\"\", \" \", \"none\", \"unknown\"))\n",
    "\n",
    "for (colname in names(training_set_values)) {\n",
    "    list_of_unique <- unique(training_set_values[colname])\n",
    "    if (nrow(list_of_unique) == 1){\n",
    "        print(paste(\"the column\", colname, \"has always the same value\"))\n",
    "    }\n",
    "}\n",
    "\n",
    "training_set_values <- training_set_values[,setdiff(colnames(training_set_values),\"recorded_by\")] # remove recorded_by train_data\n",
    "\n",
    "test_set_values <- test_set_values[,setdiff(colnames(test_set_values),\"recorded_by\")] # remove recorded_by _train_test\n",
    "\n",
    "maxima <- c()\n",
    "for (colname in names(training_set_values)) {\n",
    "   maxima <- rbind(maxima, max(table(training_set_values[colname]))/59400)\n",
    "}\n",
    "\n",
    "# Shows it nicely\n",
    "df <- data.frame(names(training_set_values), maxima)\n",
    "df <- df[order(df$maxima, decreasing=TRUE),]\n",
    "training_set_values <- training_set_values[,setdiff(colnames(training_set_values),\"num_private\")] # remove num_private train_set\n",
    "\n",
    "test_set_values <- test_set_values[,setdiff(colnames(test_set_values),\"num_private\")] # remove num_private test_est\n",
    "chisq.test(table(training_set_values$quantity, training_set_values$quantity_group))\n",
    "chisq.test(table(training_set_values$quantity, training_set_values$payment_type))\n",
    "chisq.test(table(training_set_values$funder, training_set_values$payment_type))\n",
    "# table(training_set_values$funder, training_set_values$payment_type)  # We see that it's mostly random\n",
    "chisq.test(table(training_set_values$water_quality, training_set_values$quality_group))\n",
    "\n",
    "test_correlation <- cbind(training_set_values,training_set_labels[2])\n",
    "\n",
    "chisq.test(table(test_correlation$amount_tsh, test_correlation$status_group))\n",
    "chisq.test(table(test_correlation$date_recorded, test_correlation$status_group))\n",
    "chisq.test(table(test_correlation$funder, test_correlation$status_group))\n",
    "chisq.test(table(test_correlation$gps_height, test_correlation$status_group))\n",
    "chisq.test(table(test_correlation$installer, test_correlation$status_group))\n",
    "chisq.test(table(test_correlation$longitude, test_correlation$status_group))\n",
    "chisq.test(table(test_correlation$latitude, test_correlation$status_group))\n",
    "chisq.test(table(test_correlation$wpt_name, test_correlation$status_group))\n",
    "chisq.test(table(test_correlation$basin, test_correlation$status_group))\n",
    "chisq.test(table(test_correlation$subvillage, test_correlation$status_group))\n",
    "chisq.test(table(test_correlation$region, test_correlation$status_group))\n",
    "chisq.test(table(test_correlation$region_code, test_correlation$status_group))\n",
    "chisq.test(table(test_correlation$district_code, test_correlation$status_group))\n",
    "chisq.test(table(test_correlation$lga, test_correlation$status_group))\n",
    "chisq.test(table(test_correlation$ward, test_correlation$status_group))\n",
    "chisq.test(table(test_correlation$population, test_correlation$status_group))\n",
    "chisq.test(table(test_correlation$public_meeting, test_correlation$status_group))\n",
    "chisq.test(table(test_correlation$scheme_management, test_correlation$status_group))\n",
    "chisq.test(table(test_correlation$scheme_name, test_correlation$status_group))\n",
    "chisq.test(table(test_correlation$permit, test_correlation$status_group))\n",
    "chisq.test(table(test_correlation$construction_year, test_correlation$status_group))\n",
    "chisq.test(table(test_correlation$extraction_type, test_correlation$status_group))\n",
    "chisq.test(table(test_correlation$management, test_correlation$status_group))\n",
    "chisq.test(table(test_correlation$payment, test_correlation$status_group))\n",
    "chisq.test(table(test_correlation$water_quality, test_correlation$status_group))\n",
    "chisq.test(table(test_correlation$quantity, test_correlation$status_group))\n",
    "chisq.test(table(test_correlation$source, test_correlation$status_group))\n",
    "chisq.test(table(test_correlation$waterpoint_type, test_correlation$status_group))\n",
    "options(repr.matrix.max.rows=10, repr.matrix.max.cols=100) # option pour la taille des prints\n",
    "\n",
    "\n",
    "\n",
    "# table(training_set_values$waterpoint_type_group, training_set_values$waterpoint_type)  # less information\n",
    "training_set_values <- training_set_values[,setdiff(colnames(training_set_values),\"waterpoint_type_group\")]\n",
    "test_set_values <- test_set_values[,setdiff(colnames(test_set_values),\"waterpoint_type_group\")]\n",
    "\n",
    "# table(training_set_values$source_type, training_set_values$source_class)  # less information\n",
    "training_set_values <- training_set_values[,setdiff(colnames(training_set_values),\"source_class\")]\n",
    "test_set_values <- test_set_values[,setdiff(colnames(test_set_values),\"source_class\")]\n",
    "\n",
    "# table(training_set_values$source, training_set_values$source_type)  # less information\n",
    "training_set_values <- training_set_values[,setdiff(colnames(training_set_values),\"source_type\")]\n",
    "test_set_values <- test_set_values[,setdiff(colnames(test_set_values),\"source_type\")]\n",
    "\n",
    "# table(training_set_values$water_quality, training_set_values$quality_group)  # less information\n",
    "training_set_values <- training_set_values[,setdiff(colnames(training_set_values),\"quality_group\")]\n",
    "test_set_values <- test_set_values[,setdiff(colnames(test_set_values),\"quality_group\")]\n",
    "\n",
    "# table(training_set_values$quantity, training_set_values$quantity_group)  # equivalent, we delete column\n",
    "training_set_values <- training_set_values[,setdiff(colnames(training_set_values),\"quantity_group\")]\n",
    "test_set_values <- test_set_values[,setdiff(colnames(test_set_values),\"quantity_group\")]\n",
    "\n",
    "# table(training_set_values$extraction_type, training_set_values$extraction_type_group)  # we can delete column\n",
    "training_set_values <- training_set_values[,setdiff(colnames(training_set_values),\"extraction_type_group\")]\n",
    "test_set_values <- test_set_values[,setdiff(colnames(test_set_values),\"extraction_type_group\")]\n",
    "\n",
    "# table(training_set_values$extraction_type, training_set_values$extraction_type_class)  # We can delete column\n",
    "# training_set_values <- training_set_values[,setdiff(colnames(training_set_values),\"extraction_type_class\")]\n",
    "\n",
    "# table(training_set_values$payment, training_set_values$payment_type)  # equivalent,  we delete column\n",
    "training_set_values <- training_set_values[,setdiff(colnames(training_set_values),\"payment_type\")]\n",
    "test_set_values <- test_set_values[,setdiff(colnames(test_set_values),\"payment_type\")]\n",
    "\n",
    "# table(training_set_values$management, training_set_values$management_group)  # we delete column\n",
    "training_set_values <- training_set_values[,setdiff(colnames(training_set_values),\"management_group\")]\n",
    "test_set_values <- test_set_values[,setdiff(colnames(test_set_values),\"management_group\")]\n",
    "\n",
    "# table(training_set_values$region, training_set_values$region_code)  # very correlated but some cities/code are ambigius\n",
    "# table(training_set_values$basin, training_set_values$subvillage)  # not really correlated, keep\n",
    "\n",
    "\n"
   ]
  },
  {
   "cell_type": "code",
   "execution_count": 4,
   "id": "6e30cde5",
   "metadata": {},
   "outputs": [
    {
     "data": {
      "text/html": [
       "<table>\n",
       "<thead><tr><th scope=col>id</th><th scope=col>amount_tsh</th><th scope=col>date_recorded</th><th scope=col>funder</th><th scope=col>gps_height</th><th scope=col>installer</th><th scope=col>longitude</th><th scope=col>latitude</th><th scope=col>wpt_name</th><th scope=col>basin</th><th scope=col>subvillage</th><th scope=col>region</th><th scope=col>region_code</th><th scope=col>district_code</th><th scope=col>lga</th><th scope=col>ward</th><th scope=col>population</th><th scope=col>public_meeting</th><th scope=col>scheme_management</th><th scope=col>scheme_name</th><th scope=col>permit</th><th scope=col>construction_year</th><th scope=col>extraction_type</th><th scope=col>extraction_type_class</th><th scope=col>management</th><th scope=col>payment</th><th scope=col>water_quality</th><th scope=col>quantity</th><th scope=col>source</th><th scope=col>waterpoint_type</th></tr></thead>\n",
       "<tbody>\n",
       "\t<tr><td>69572                      </td><td>6000                       </td><td>2011-03-14                 </td><td>Roman                      </td><td>1390                       </td><td>Roman                      </td><td>34.93809                   </td><td> -9.856322                 </td><td>unknown                    </td><td>Lake Nyasa                 </td><td>Mnyusi B                   </td><td>Iringa                     </td><td>11                         </td><td> 5                         </td><td>Ludewa                     </td><td>Mundindi                   </td><td>109                        </td><td>True                       </td><td>VWC                        </td><td>Roman                      </td><td>False                      </td><td>1999                       </td><td>gravity                    </td><td>gravity                    </td><td>vwc                        </td><td>pay annually               </td><td>soft                       </td><td>enough                     </td><td>spring                     </td><td>communal standpipe         </td></tr>\n",
       "\t<tr><td> 8776                      </td><td>   0                       </td><td>2013-03-06                 </td><td>Grumeti                    </td><td>1399                       </td><td>GRUMETI                    </td><td>34.69877                   </td><td> -2.147466                 </td><td>Zahanati                   </td><td>Lake Victoria              </td><td>Nyamara                    </td><td>Mara                       </td><td>20                         </td><td> 2                         </td><td>Serengeti                  </td><td>Natta                      </td><td>280                        </td><td>unknown                    </td><td>Other                      </td><td>unknown                    </td><td>True                       </td><td>2010                       </td><td>gravity                    </td><td>gravity                    </td><td>wug                        </td><td>never pay                  </td><td>soft                       </td><td>insufficient               </td><td>rainwater harvesting       </td><td>communal standpipe         </td></tr>\n",
       "\t<tr><td>34310                      </td><td>  25                       </td><td>2013-02-25                 </td><td>Lottery Club               </td><td> 686                       </td><td>World vision               </td><td>37.46066                   </td><td> -3.821329                 </td><td>Kwa Mahundi                </td><td>Pangani                    </td><td>Majengo                    </td><td>Manyara                    </td><td>21                         </td><td> 4                         </td><td>Simanjiro                  </td><td>Ngorika                    </td><td>250                        </td><td>True                       </td><td>VWC                        </td><td>Nyumba ya mungu pipe scheme</td><td>True                       </td><td>2009                       </td><td>gravity                    </td><td>gravity                    </td><td>vwc                        </td><td>pay per bucket             </td><td>soft                       </td><td>enough                     </td><td>dam                        </td><td>communal standpipe multiple</td></tr>\n",
       "\t<tr><td>67743                      </td><td>   0                       </td><td>2013-01-28                 </td><td>Unicef                     </td><td> 263                       </td><td>UNICEF                     </td><td>38.48616                   </td><td>-11.155298                 </td><td>Zahanati Ya Nanyumbu       </td><td>Ruvuma / Southern Coast    </td><td>Mahakamani                 </td><td>Mtwara                     </td><td>90                         </td><td>63                         </td><td>Nanyumbu                   </td><td>Nanyumbu                   </td><td> 58                        </td><td>True                       </td><td>VWC                        </td><td>unknown                    </td><td>True                       </td><td>1986                       </td><td>submersible                </td><td>submersible                </td><td>vwc                        </td><td>never pay                  </td><td>soft                       </td><td>dry                        </td><td>machine dbh                </td><td>communal standpipe multiple</td></tr>\n",
       "\t<tr><td>19728                      </td><td>   0                       </td><td>2011-07-13                 </td><td>Action In A                </td><td>   0                       </td><td>Artisan                    </td><td>31.13085                   </td><td> -1.825359                 </td><td>Shuleni                    </td><td>Lake Victoria              </td><td>Kyanyamisa                 </td><td>Kagera                     </td><td>18                         </td><td> 1                         </td><td>Karagwe                    </td><td>Nyakasimbi                 </td><td>  0                        </td><td>True                       </td><td>unknown                    </td><td>unknown                    </td><td>True                       </td><td>   0                       </td><td>gravity                    </td><td>gravity                    </td><td>other                      </td><td>never pay                  </td><td>soft                       </td><td>seasonal                   </td><td>rainwater harvesting       </td><td>communal standpipe         </td></tr>\n",
       "\t<tr><td> 9944                      </td><td>  20                       </td><td>2011-03-13                 </td><td>Mkinga Distric Coun        </td><td>   0                       </td><td>DWE                        </td><td>39.17280                   </td><td> -4.765587                 </td><td>Tajiri                     </td><td>Pangani                    </td><td>Moa/Mwereme                </td><td>Tanga                      </td><td> 4                         </td><td> 8                         </td><td>Mkinga                     </td><td>Moa                        </td><td>  1                        </td><td>True                       </td><td>VWC                        </td><td>Zingibali                  </td><td>True                       </td><td>2009                       </td><td>submersible                </td><td>submersible                </td><td>vwc                        </td><td>pay per bucket             </td><td>salty                      </td><td>enough                     </td><td>other                      </td><td>communal standpipe multiple</td></tr>\n",
       "</tbody>\n",
       "</table>\n"
      ],
      "text/latex": [
       "\\begin{tabular}{r|llllllllllllllllllllllllllllll}\n",
       " id & amount\\_tsh & date\\_recorded & funder & gps\\_height & installer & longitude & latitude & wpt\\_name & basin & subvillage & region & region\\_code & district\\_code & lga & ward & population & public\\_meeting & scheme\\_management & scheme\\_name & permit & construction\\_year & extraction\\_type & extraction\\_type\\_class & management & payment & water\\_quality & quantity & source & waterpoint\\_type\\\\\n",
       "\\hline\n",
       "\t 69572                       & 6000                        & 2011-03-14                  & Roman                       & 1390                        & Roman                       & 34.93809                    &  -9.856322                  & unknown                     & Lake Nyasa                  & Mnyusi B                    & Iringa                      & 11                          &  5                          & Ludewa                      & Mundindi                    & 109                         & True                        & VWC                         & Roman                       & False                       & 1999                        & gravity                     & gravity                     & vwc                         & pay annually                & soft                        & enough                      & spring                      & communal standpipe         \\\\\n",
       "\t  8776                       &    0                        & 2013-03-06                  & Grumeti                     & 1399                        & GRUMETI                     & 34.69877                    &  -2.147466                  & Zahanati                    & Lake Victoria               & Nyamara                     & Mara                        & 20                          &  2                          & Serengeti                   & Natta                       & 280                         & unknown                     & Other                       & unknown                     & True                        & 2010                        & gravity                     & gravity                     & wug                         & never pay                   & soft                        & insufficient                & rainwater harvesting        & communal standpipe         \\\\\n",
       "\t 34310                       &   25                        & 2013-02-25                  & Lottery Club                &  686                        & World vision                & 37.46066                    &  -3.821329                  & Kwa Mahundi                 & Pangani                     & Majengo                     & Manyara                     & 21                          &  4                          & Simanjiro                   & Ngorika                     & 250                         & True                        & VWC                         & Nyumba ya mungu pipe scheme & True                        & 2009                        & gravity                     & gravity                     & vwc                         & pay per bucket              & soft                        & enough                      & dam                         & communal standpipe multiple\\\\\n",
       "\t 67743                       &    0                        & 2013-01-28                  & Unicef                      &  263                        & UNICEF                      & 38.48616                    & -11.155298                  & Zahanati Ya Nanyumbu        & Ruvuma / Southern Coast     & Mahakamani                  & Mtwara                      & 90                          & 63                          & Nanyumbu                    & Nanyumbu                    &  58                         & True                        & VWC                         & unknown                     & True                        & 1986                        & submersible                 & submersible                 & vwc                         & never pay                   & soft                        & dry                         & machine dbh                 & communal standpipe multiple\\\\\n",
       "\t 19728                       &    0                        & 2011-07-13                  & Action In A                 &    0                        & Artisan                     & 31.13085                    &  -1.825359                  & Shuleni                     & Lake Victoria               & Kyanyamisa                  & Kagera                      & 18                          &  1                          & Karagwe                     & Nyakasimbi                  &   0                         & True                        & unknown                     & unknown                     & True                        &    0                        & gravity                     & gravity                     & other                       & never pay                   & soft                        & seasonal                    & rainwater harvesting        & communal standpipe         \\\\\n",
       "\t  9944                       &   20                        & 2011-03-13                  & Mkinga Distric Coun         &    0                        & DWE                         & 39.17280                    &  -4.765587                  & Tajiri                      & Pangani                     & Moa/Mwereme                 & Tanga                       &  4                          &  8                          & Mkinga                      & Moa                         &   1                         & True                        & VWC                         & Zingibali                   & True                        & 2009                        & submersible                 & submersible                 & vwc                         & pay per bucket              & salty                       & enough                      & other                       & communal standpipe multiple\\\\\n",
       "\\end{tabular}\n"
      ],
      "text/markdown": [
       "\n",
       "| id | amount_tsh | date_recorded | funder | gps_height | installer | longitude | latitude | wpt_name | basin | subvillage | region | region_code | district_code | lga | ward | population | public_meeting | scheme_management | scheme_name | permit | construction_year | extraction_type | extraction_type_class | management | payment | water_quality | quantity | source | waterpoint_type |\n",
       "|---|---|---|---|---|---|---|---|---|---|---|---|---|---|---|---|---|---|---|---|---|---|---|---|---|---|---|---|---|---|\n",
       "| 69572                       | 6000                        | 2011-03-14                  | Roman                       | 1390                        | Roman                       | 34.93809                    |  -9.856322                  | unknown                     | Lake Nyasa                  | Mnyusi B                    | Iringa                      | 11                          |  5                          | Ludewa                      | Mundindi                    | 109                         | True                        | VWC                         | Roman                       | False                       | 1999                        | gravity                     | gravity                     | vwc                         | pay annually                | soft                        | enough                      | spring                      | communal standpipe          |\n",
       "|  8776                       |    0                        | 2013-03-06                  | Grumeti                     | 1399                        | GRUMETI                     | 34.69877                    |  -2.147466                  | Zahanati                    | Lake Victoria               | Nyamara                     | Mara                        | 20                          |  2                          | Serengeti                   | Natta                       | 280                         | unknown                     | Other                       | unknown                     | True                        | 2010                        | gravity                     | gravity                     | wug                         | never pay                   | soft                        | insufficient                | rainwater harvesting        | communal standpipe          |\n",
       "| 34310                       |   25                        | 2013-02-25                  | Lottery Club                |  686                        | World vision                | 37.46066                    |  -3.821329                  | Kwa Mahundi                 | Pangani                     | Majengo                     | Manyara                     | 21                          |  4                          | Simanjiro                   | Ngorika                     | 250                         | True                        | VWC                         | Nyumba ya mungu pipe scheme | True                        | 2009                        | gravity                     | gravity                     | vwc                         | pay per bucket              | soft                        | enough                      | dam                         | communal standpipe multiple |\n",
       "| 67743                       |    0                        | 2013-01-28                  | Unicef                      |  263                        | UNICEF                      | 38.48616                    | -11.155298                  | Zahanati Ya Nanyumbu        | Ruvuma / Southern Coast     | Mahakamani                  | Mtwara                      | 90                          | 63                          | Nanyumbu                    | Nanyumbu                    |  58                         | True                        | VWC                         | unknown                     | True                        | 1986                        | submersible                 | submersible                 | vwc                         | never pay                   | soft                        | dry                         | machine dbh                 | communal standpipe multiple |\n",
       "| 19728                       |    0                        | 2011-07-13                  | Action In A                 |    0                        | Artisan                     | 31.13085                    |  -1.825359                  | Shuleni                     | Lake Victoria               | Kyanyamisa                  | Kagera                      | 18                          |  1                          | Karagwe                     | Nyakasimbi                  |   0                         | True                        | unknown                     | unknown                     | True                        |    0                        | gravity                     | gravity                     | other                       | never pay                   | soft                        | seasonal                    | rainwater harvesting        | communal standpipe          |\n",
       "|  9944                       |   20                        | 2011-03-13                  | Mkinga Distric Coun         |    0                        | DWE                         | 39.17280                    |  -4.765587                  | Tajiri                      | Pangani                     | Moa/Mwereme                 | Tanga                       |  4                          |  8                          | Mkinga                      | Moa                         |   1                         | True                        | VWC                         | Zingibali                   | True                        | 2009                        | submersible                 | submersible                 | vwc                         | pay per bucket              | salty                       | enough                      | other                       | communal standpipe multiple |\n",
       "\n"
      ],
      "text/plain": [
       "  id    amount_tsh date_recorded funder              gps_height installer   \n",
       "1 69572 6000       2011-03-14    Roman               1390       Roman       \n",
       "2  8776    0       2013-03-06    Grumeti             1399       GRUMETI     \n",
       "3 34310   25       2013-02-25    Lottery Club         686       World vision\n",
       "4 67743    0       2013-01-28    Unicef               263       UNICEF      \n",
       "5 19728    0       2011-07-13    Action In A            0       Artisan     \n",
       "6  9944   20       2011-03-13    Mkinga Distric Coun    0       DWE         \n",
       "  longitude latitude   wpt_name             basin                   subvillage \n",
       "1 34.93809   -9.856322 unknown              Lake Nyasa              Mnyusi B   \n",
       "2 34.69877   -2.147466 Zahanati             Lake Victoria           Nyamara    \n",
       "3 37.46066   -3.821329 Kwa Mahundi          Pangani                 Majengo    \n",
       "4 38.48616  -11.155298 Zahanati Ya Nanyumbu Ruvuma / Southern Coast Mahakamani \n",
       "5 31.13085   -1.825359 Shuleni              Lake Victoria           Kyanyamisa \n",
       "6 39.17280   -4.765587 Tajiri               Pangani                 Moa/Mwereme\n",
       "  region  region_code district_code lga       ward       population\n",
       "1 Iringa  11           5            Ludewa    Mundindi   109       \n",
       "2 Mara    20           2            Serengeti Natta      280       \n",
       "3 Manyara 21           4            Simanjiro Ngorika    250       \n",
       "4 Mtwara  90          63            Nanyumbu  Nanyumbu    58       \n",
       "5 Kagera  18           1            Karagwe   Nyakasimbi   0       \n",
       "6 Tanga    4           8            Mkinga    Moa          1       \n",
       "  public_meeting scheme_management scheme_name                 permit\n",
       "1 True           VWC               Roman                       False \n",
       "2 unknown        Other             unknown                     True  \n",
       "3 True           VWC               Nyumba ya mungu pipe scheme True  \n",
       "4 True           VWC               unknown                     True  \n",
       "5 True           unknown           unknown                     True  \n",
       "6 True           VWC               Zingibali                   True  \n",
       "  construction_year extraction_type extraction_type_class management\n",
       "1 1999              gravity         gravity               vwc       \n",
       "2 2010              gravity         gravity               wug       \n",
       "3 2009              gravity         gravity               vwc       \n",
       "4 1986              submersible     submersible           vwc       \n",
       "5    0              gravity         gravity               other     \n",
       "6 2009              submersible     submersible           vwc       \n",
       "  payment        water_quality quantity     source              \n",
       "1 pay annually   soft          enough       spring              \n",
       "2 never pay      soft          insufficient rainwater harvesting\n",
       "3 pay per bucket soft          enough       dam                 \n",
       "4 never pay      soft          dry          machine dbh         \n",
       "5 never pay      soft          seasonal     rainwater harvesting\n",
       "6 pay per bucket salty         enough       other               \n",
       "  waterpoint_type            \n",
       "1 communal standpipe         \n",
       "2 communal standpipe         \n",
       "3 communal standpipe multiple\n",
       "4 communal standpipe multiple\n",
       "5 communal standpipe         \n",
       "6 communal standpipe multiple"
      ]
     },
     "metadata": {},
     "output_type": "display_data"
    }
   ],
   "source": [
    "# Replacing NA values with \"unknown\"\n",
    "i <- sapply(training_set_values, is.factor)\n",
    "training_set_values[i] <- lapply(training_set_values[i], as.character)\n",
    "training_set_values[is.na(training_set_values)] <- \"unknown\"\n",
    "training_set_values[i] <- lapply(training_set_values[i], as.factor)\n",
    "head(training_set_values)"
   ]
  },
  {
   "cell_type": "code",
   "execution_count": 5,
   "id": "15309f3b",
   "metadata": {},
   "outputs": [
    {
     "name": "stderr",
     "output_type": "stream",
     "text": [
      "dummies-1.5.6 provided by Decision Patterns\n",
      "\n",
      "Warning message in model.matrix.default(~x - 1, model.frame(~x - 1), contrasts = FALSE):\n",
      "\"non-list contrasts argument ignored\"Warning message in model.matrix.default(~x - 1, model.frame(~x - 1), contrasts = FALSE):\n",
      "\"non-list contrasts argument ignored\""
     ]
    },
    {
     "data": {
      "text/html": [
       "<table>\n",
       "<thead><tr><th scope=col>permit_False</th><th scope=col>permit_True</th><th scope=col>permit_unknown</th><th scope=col>permit_NA</th><th scope=col>quantity_dry</th><th scope=col>quantity_enough</th><th scope=col>quantity_insufficient</th><th scope=col>quantity_seasonal</th><th scope=col>quantity_unknown</th><th scope=col>quantity_NA</th></tr></thead>\n",
       "<tbody>\n",
       "\t<tr><td>1</td><td>0</td><td>0</td><td>0</td><td>0</td><td>1</td><td>0</td><td>0</td><td>0</td><td>0</td></tr>\n",
       "\t<tr><td>0</td><td>1</td><td>0</td><td>0</td><td>0</td><td>0</td><td>1</td><td>0</td><td>0</td><td>0</td></tr>\n",
       "</tbody>\n",
       "</table>\n"
      ],
      "text/latex": [
       "\\begin{tabular}{r|llllllllll}\n",
       " permit\\_False & permit\\_True & permit\\_unknown & permit\\_NA & quantity\\_dry & quantity\\_enough & quantity\\_insufficient & quantity\\_seasonal & quantity\\_unknown & quantity\\_NA\\\\\n",
       "\\hline\n",
       "\t 1 & 0 & 0 & 0 & 0 & 1 & 0 & 0 & 0 & 0\\\\\n",
       "\t 0 & 1 & 0 & 0 & 0 & 0 & 1 & 0 & 0 & 0\\\\\n",
       "\\end{tabular}\n"
      ],
      "text/markdown": [
       "\n",
       "| permit_False | permit_True | permit_unknown | permit_NA | quantity_dry | quantity_enough | quantity_insufficient | quantity_seasonal | quantity_unknown | quantity_NA |\n",
       "|---|---|---|---|---|---|---|---|---|---|\n",
       "| 1 | 0 | 0 | 0 | 0 | 1 | 0 | 0 | 0 | 0 |\n",
       "| 0 | 1 | 0 | 0 | 0 | 0 | 1 | 0 | 0 | 0 |\n",
       "\n"
      ],
      "text/plain": [
       "  permit_False permit_True permit_unknown permit_NA quantity_dry\n",
       "1 1            0           0              0         0           \n",
       "2 0            1           0              0         0           \n",
       "  quantity_enough quantity_insufficient quantity_seasonal quantity_unknown\n",
       "1 1               0                     0                 0               \n",
       "2 0               1                     0                 0               \n",
       "  quantity_NA\n",
       "1 0          \n",
       "2 0          "
      ]
     },
     "metadata": {},
     "output_type": "display_data"
    },
    {
     "data": {
      "text/html": [
       "<ol class=list-inline>\n",
       "\t<li>74250</li>\n",
       "\t<li>30</li>\n",
       "</ol>\n"
      ],
      "text/latex": [
       "\\begin{enumerate*}\n",
       "\\item 74250\n",
       "\\item 30\n",
       "\\end{enumerate*}\n"
      ],
      "text/markdown": [
       "1. 74250\n",
       "2. 30\n",
       "\n",
       "\n"
      ],
      "text/plain": [
       "[1] 74250    30"
      ]
     },
     "metadata": {},
     "output_type": "display_data"
    },
    {
     "data": {
      "text/html": [
       "<ol class=list-inline>\n",
       "\t<li>59400</li>\n",
       "\t<li>30</li>\n",
       "</ol>\n"
      ],
      "text/latex": [
       "\\begin{enumerate*}\n",
       "\\item 59400\n",
       "\\item 30\n",
       "\\end{enumerate*}\n"
      ],
      "text/markdown": [
       "1. 59400\n",
       "2. 30\n",
       "\n",
       "\n"
      ],
      "text/plain": [
       "[1] 59400    30"
      ]
     },
     "metadata": {},
     "output_type": "display_data"
    }
   ],
   "source": [
    "library(dummies)\n",
    "\n",
    "total_data <- rbind(training_set_values,test_set_values) # merge train and test to make dummies variable\n",
    "\n",
    "factor_variables <- which(sapply(total_data[1,],class)==\"factor\") # take only factor variable\n",
    "data_fact <- total_data[,factor_variables]\n",
    "\n",
    "only_num_var <- total_data[,-factor_variables]\n",
    "\n",
    "variables_to_keep <- c(\"permit\", \"quantity\") # variable to transform\n",
    "\n",
    "data_factor_onehot <- dummy.data.frame(data_fact[,variables_to_keep], sep=\"_\")\n",
    "\n",
    "\n",
    "data_factor_onehot[1:2,]\n",
    "\n",
    "dim(total_data)\n",
    "dim(training_set_values)\n",
    "\n",
    "total_with_dummies <- cbind(only_num_var,data_factor_onehot)\n",
    "\n",
    "# resplit data\n",
    "# data_train\n",
    "data_train <- total_with_dummies[1:59400,]\n",
    "data_train <- cbind(data_train, training_set_labels[2])\n",
    "\n",
    "\n",
    "# data_test\n",
    "data_test <- total_with_dummies[59401:74250,]\n"
   ]
  },
  {
   "cell_type": "code",
   "execution_count": 6,
   "id": "a4733c5f",
   "metadata": {},
   "outputs": [
    {
     "data": {
      "text/html": [
       "<table>\n",
       "<thead><tr><th scope=col>id</th><th scope=col>amount_tsh</th><th scope=col>gps_height</th><th scope=col>longitude</th><th scope=col>latitude</th><th scope=col>region_code</th><th scope=col>district_code</th><th scope=col>population</th><th scope=col>construction_year</th><th scope=col>permit_False</th><th scope=col>permit_True</th><th scope=col>permit_unknown</th><th scope=col>permit_NA</th><th scope=col>quantity_dry</th><th scope=col>quantity_enough</th><th scope=col>quantity_insufficient</th><th scope=col>quantity_seasonal</th><th scope=col>quantity_unknown</th><th scope=col>quantity_NA</th><th scope=col>status_group</th></tr></thead>\n",
       "<tbody>\n",
       "\t<tr><td>69572         </td><td>6000          </td><td>1390          </td><td>34.93809      </td><td> -9.856322    </td><td>11            </td><td> 5            </td><td>109           </td><td>1999          </td><td>1             </td><td>0             </td><td>0             </td><td>0             </td><td>0             </td><td>1             </td><td>0             </td><td>0             </td><td>0             </td><td>0             </td><td>functional    </td></tr>\n",
       "\t<tr><td> 8776         </td><td>   0          </td><td>1399          </td><td>34.69877      </td><td> -2.147466    </td><td>20            </td><td> 2            </td><td>280           </td><td>2010          </td><td>0             </td><td>1             </td><td>0             </td><td>0             </td><td>0             </td><td>0             </td><td>1             </td><td>0             </td><td>0             </td><td>0             </td><td>functional    </td></tr>\n",
       "\t<tr><td>34310         </td><td>  25          </td><td> 686          </td><td>37.46066      </td><td> -3.821329    </td><td>21            </td><td> 4            </td><td>250           </td><td>2009          </td><td>0             </td><td>1             </td><td>0             </td><td>0             </td><td>0             </td><td>1             </td><td>0             </td><td>0             </td><td>0             </td><td>0             </td><td>functional    </td></tr>\n",
       "\t<tr><td>67743         </td><td>   0          </td><td> 263          </td><td>38.48616      </td><td>-11.155298    </td><td>90            </td><td>63            </td><td> 58           </td><td>1986          </td><td>0             </td><td>1             </td><td>0             </td><td>0             </td><td>1             </td><td>0             </td><td>0             </td><td>0             </td><td>0             </td><td>0             </td><td>non functional</td></tr>\n",
       "\t<tr><td>19728         </td><td>   0          </td><td>   0          </td><td>31.13085      </td><td> -1.825359    </td><td>18            </td><td> 1            </td><td>  0           </td><td>   0          </td><td>0             </td><td>1             </td><td>0             </td><td>0             </td><td>0             </td><td>0             </td><td>0             </td><td>1             </td><td>0             </td><td>0             </td><td>functional    </td></tr>\n",
       "\t<tr><td> 9944         </td><td>  20          </td><td>   0          </td><td>39.17280      </td><td> -4.765587    </td><td> 4            </td><td> 8            </td><td>  1           </td><td>2009          </td><td>0             </td><td>1             </td><td>0             </td><td>0             </td><td>0             </td><td>1             </td><td>0             </td><td>0             </td><td>0             </td><td>0             </td><td>functional    </td></tr>\n",
       "</tbody>\n",
       "</table>\n"
      ],
      "text/latex": [
       "\\begin{tabular}{r|llllllllllllllllllll}\n",
       " id & amount\\_tsh & gps\\_height & longitude & latitude & region\\_code & district\\_code & population & construction\\_year & permit\\_False & permit\\_True & permit\\_unknown & permit\\_NA & quantity\\_dry & quantity\\_enough & quantity\\_insufficient & quantity\\_seasonal & quantity\\_unknown & quantity\\_NA & status\\_group\\\\\n",
       "\\hline\n",
       "\t 69572          & 6000           & 1390           & 34.93809       &  -9.856322     & 11             &  5             & 109            & 1999           & 1              & 0              & 0              & 0              & 0              & 1              & 0              & 0              & 0              & 0              & functional    \\\\\n",
       "\t  8776          &    0           & 1399           & 34.69877       &  -2.147466     & 20             &  2             & 280            & 2010           & 0              & 1              & 0              & 0              & 0              & 0              & 1              & 0              & 0              & 0              & functional    \\\\\n",
       "\t 34310          &   25           &  686           & 37.46066       &  -3.821329     & 21             &  4             & 250            & 2009           & 0              & 1              & 0              & 0              & 0              & 1              & 0              & 0              & 0              & 0              & functional    \\\\\n",
       "\t 67743          &    0           &  263           & 38.48616       & -11.155298     & 90             & 63             &  58            & 1986           & 0              & 1              & 0              & 0              & 1              & 0              & 0              & 0              & 0              & 0              & non functional\\\\\n",
       "\t 19728          &    0           &    0           & 31.13085       &  -1.825359     & 18             &  1             &   0            &    0           & 0              & 1              & 0              & 0              & 0              & 0              & 0              & 1              & 0              & 0              & functional    \\\\\n",
       "\t  9944          &   20           &    0           & 39.17280       &  -4.765587     &  4             &  8             &   1            & 2009           & 0              & 1              & 0              & 0              & 0              & 1              & 0              & 0              & 0              & 0              & functional    \\\\\n",
       "\\end{tabular}\n"
      ],
      "text/markdown": [
       "\n",
       "| id | amount_tsh | gps_height | longitude | latitude | region_code | district_code | population | construction_year | permit_False | permit_True | permit_unknown | permit_NA | quantity_dry | quantity_enough | quantity_insufficient | quantity_seasonal | quantity_unknown | quantity_NA | status_group |\n",
       "|---|---|---|---|---|---|---|---|---|---|---|---|---|---|---|---|---|---|---|---|\n",
       "| 69572          | 6000           | 1390           | 34.93809       |  -9.856322     | 11             |  5             | 109            | 1999           | 1              | 0              | 0              | 0              | 0              | 1              | 0              | 0              | 0              | 0              | functional     |\n",
       "|  8776          |    0           | 1399           | 34.69877       |  -2.147466     | 20             |  2             | 280            | 2010           | 0              | 1              | 0              | 0              | 0              | 0              | 1              | 0              | 0              | 0              | functional     |\n",
       "| 34310          |   25           |  686           | 37.46066       |  -3.821329     | 21             |  4             | 250            | 2009           | 0              | 1              | 0              | 0              | 0              | 1              | 0              | 0              | 0              | 0              | functional     |\n",
       "| 67743          |    0           |  263           | 38.48616       | -11.155298     | 90             | 63             |  58            | 1986           | 0              | 1              | 0              | 0              | 1              | 0              | 0              | 0              | 0              | 0              | non functional |\n",
       "| 19728          |    0           |    0           | 31.13085       |  -1.825359     | 18             |  1             |   0            |    0           | 0              | 1              | 0              | 0              | 0              | 0              | 0              | 1              | 0              | 0              | functional     |\n",
       "|  9944          |   20           |    0           | 39.17280       |  -4.765587     |  4             |  8             |   1            | 2009           | 0              | 1              | 0              | 0              | 0              | 1              | 0              | 0              | 0              | 0              | functional     |\n",
       "\n"
      ],
      "text/plain": [
       "  id    amount_tsh gps_height longitude latitude   region_code district_code\n",
       "1 69572 6000       1390       34.93809   -9.856322 11           5           \n",
       "2  8776    0       1399       34.69877   -2.147466 20           2           \n",
       "3 34310   25        686       37.46066   -3.821329 21           4           \n",
       "4 67743    0        263       38.48616  -11.155298 90          63           \n",
       "5 19728    0          0       31.13085   -1.825359 18           1           \n",
       "6  9944   20          0       39.17280   -4.765587  4           8           \n",
       "  population construction_year permit_False permit_True permit_unknown\n",
       "1 109        1999              1            0           0             \n",
       "2 280        2010              0            1           0             \n",
       "3 250        2009              0            1           0             \n",
       "4  58        1986              0            1           0             \n",
       "5   0           0              0            1           0             \n",
       "6   1        2009              0            1           0             \n",
       "  permit_NA quantity_dry quantity_enough quantity_insufficient\n",
       "1 0         0            1               0                    \n",
       "2 0         0            0               1                    \n",
       "3 0         0            1               0                    \n",
       "4 0         1            0               0                    \n",
       "5 0         0            0               0                    \n",
       "6 0         0            1               0                    \n",
       "  quantity_seasonal quantity_unknown quantity_NA status_group  \n",
       "1 0                 0                0           functional    \n",
       "2 0                 0                0           functional    \n",
       "3 0                 0                0           functional    \n",
       "4 0                 0                0           non functional\n",
       "5 1                 0                0           functional    \n",
       "6 0                 0                0           functional    "
      ]
     },
     "metadata": {},
     "output_type": "display_data"
    }
   ],
   "source": [
    "# library(tidyverse)\n",
    "#names(data_train) <- gsub(\" \", \"_\", names(data_train))\n",
    "names(data_train) <- make.names(names(data_train))\n",
    "#names(data_test) <- gsub(\" \", \"_\", names(data_test))\n",
    "names(data_test) <- make.names(names(data_test))\n",
    "data_test <- unique(data_test)\n",
    "data_train <- unique(data_train)\n",
    "head(data_train)"
   ]
  },
  {
   "cell_type": "code",
   "execution_count": null,
   "id": "18bbe704",
   "metadata": {},
   "outputs": [],
   "source": []
  },
  {
   "cell_type": "code",
   "execution_count": 7,
   "id": "5b58d7e7",
   "metadata": {},
   "outputs": [],
   "source": [
    "# data_train <- sapply(data_train,function(x) as.numeric(as.character(x)))\n",
    "# data_test  <-  sapply(data_test,function(x) as.numeric(as.character(x))) "
   ]
  },
  {
   "cell_type": "code",
   "execution_count": 18,
   "id": "2956f887",
   "metadata": {},
   "outputs": [
    {
     "data": {
      "text/html": [
       "<table>\n",
       "<thead><tr><th scope=col>id</th><th scope=col>status_group</th></tr></thead>\n",
       "<tbody>\n",
       "\t<tr><td>50785         </td><td>functional    </td></tr>\n",
       "\t<tr><td>51630         </td><td>functional    </td></tr>\n",
       "\t<tr><td>17168         </td><td>functional    </td></tr>\n",
       "\t<tr><td>45559         </td><td>non functional</td></tr>\n",
       "\t<tr><td>49871         </td><td>functional    </td></tr>\n",
       "\t<tr><td>...</td><td>...</td></tr>\n",
       "\t<tr><td>39307         </td><td>functional    </td></tr>\n",
       "\t<tr><td>18990         </td><td>functional    </td></tr>\n",
       "\t<tr><td>28749         </td><td>functional    </td></tr>\n",
       "\t<tr><td>33492         </td><td>functional    </td></tr>\n",
       "\t<tr><td>68707         </td><td>non functional</td></tr>\n",
       "</tbody>\n",
       "</table>\n"
      ],
      "text/latex": [
       "\\begin{tabular}{r|ll}\n",
       " id & status\\_group\\\\\n",
       "\\hline\n",
       "\t 50785          & functional    \\\\\n",
       "\t 51630          & functional    \\\\\n",
       "\t 17168          & functional    \\\\\n",
       "\t 45559          & non functional\\\\\n",
       "\t 49871          & functional    \\\\\n",
       "\t ... & ...\\\\\n",
       "\t 39307          & functional    \\\\\n",
       "\t 18990          & functional    \\\\\n",
       "\t 28749          & functional    \\\\\n",
       "\t 33492          & functional    \\\\\n",
       "\t 68707          & non functional\\\\\n",
       "\\end{tabular}\n"
      ],
      "text/markdown": [
       "\n",
       "| id | status_group |\n",
       "|---|---|\n",
       "| 50785          | functional     |\n",
       "| 51630          | functional     |\n",
       "| 17168          | functional     |\n",
       "| 45559          | non functional |\n",
       "| 49871          | functional     |\n",
       "| ... | ... |\n",
       "| 39307          | functional     |\n",
       "| 18990          | functional     |\n",
       "| 28749          | functional     |\n",
       "| 33492          | functional     |\n",
       "| 68707          | non functional |\n",
       "\n"
      ],
      "text/plain": [
       "      id    status_group  \n",
       "1     50785 functional    \n",
       "2     51630 functional    \n",
       "3     17168 functional    \n",
       "4     45559 non functional\n",
       "5     49871 functional    \n",
       "...   ...   ...           \n",
       "14846 39307 functional    \n",
       "14847 18990 functional    \n",
       "14848 28749 functional    \n",
       "14849 33492 functional    \n",
       "14850 68707 non functional"
      ]
     },
     "metadata": {},
     "output_type": "display_data"
    }
   ],
   "source": [
    "# NAIVE BAYES\n",
    "library(e1071)\n",
    "#library(caTools)\n",
    "library(caret)\n",
    "\n",
    "classifier <- naiveBayes(status_group~., data=data_train)\n",
    "# print(classifier)\n",
    "\n",
    "y_pred <- predict(classifier, newdata = data_test)\n",
    "#print(y_pred)\n",
    "\n",
    "status_group <- y_pred\n",
    "\n",
    "\n",
    "data_predict <- test_set_values\n",
    "\n",
    "\n",
    "data_predict <- cbind(data_predict[1],status_group)\n",
    "\n",
    "data_predict\n",
    "\n",
    "write.csv(data_predict,\"Bayes.csv\",row.names = FALSE)\n",
    "\n",
    "# confusion_matrix <- table(training_set_labels$status_group, y_pred)\n",
    "# print(confusion_matrix)\n",
    "\n",
    "# print(confusionMatrix(confusion_matrix))"
   ]
  },
  {
   "cell_type": "code",
   "execution_count": null,
   "id": "c7b3b53d",
   "metadata": {},
   "outputs": [],
   "source": []
  },
  {
   "cell_type": "code",
   "execution_count": null,
   "id": "58e09c2a",
   "metadata": {},
   "outputs": [
    {
     "name": "stderr",
     "output_type": "stream",
     "text": [
      "Warning message:\n",
      "\"Setting `distribution = \"multinomial\"` is ill-advised as it is currently broken. It exists only for backwards compatibility. Use at your own risk.\"\n"
     ]
    }
   ],
   "source": [
    "# GRADIENT BOOSTING\n",
    "library(gbm)\n",
    "\n",
    "\n",
    "model <- gbm(formula = status_group~., distribution = \"multinomial\", data = data_train, n.trees = 5000,\n",
    "            interaction.depth = 4, shrinkage = 0.01, cv.folds = 10, n.minobsinnode = 10)\n",
    "\n",
    "# rf_model <- randomForest(status_group~., data= data_train) # what we need to change according of the model\n",
    "# rf_model\n",
    "rf_predict_unseen <- predict(model, newdata = data_test, type=\"response\", n.trees = 5000)\n",
    "\n",
    "# rf_predict_unseen\n",
    "# cm = confusionMatrix(data_test$status_group, as.factor(labels))\n",
    "\n",
    "status_group <- colnames(rf_predict_unseen)[apply(rf_predict_unseen, 1, which.max)]\n",
    "\n",
    "rf_data_predict <- cbind(data_test[1], status_group)\n",
    "rf_data_predict\n",
    "# cm = confusionMatrix(data_test$status_group, as.factor(labels))\n",
    "# print(cm)\n",
    "# result <- data.frame(data_test$status_group, labels)\n",
    "# print(result)\n",
    "# status_group <-rf_predict_unseen\n",
    "\n",
    "# rf_data_predict <- test_set_values\n",
    "\n",
    "\n",
    "# rf_data_predict <- cbind(rf_data_predict[1],status_group)\n",
    "\n",
    "\n",
    "# rf_data_predict\n",
    "\n",
    "write.csv(rf_data_predict,\"boosting.csv\",row.names = FALSE)"
   ]
  },
  {
   "cell_type": "code",
   "execution_count": null,
   "id": "78782719",
   "metadata": {},
   "outputs": [],
   "source": []
  },
  {
   "cell_type": "code",
   "execution_count": null,
   "id": "81deffa8",
   "metadata": {},
   "outputs": [],
   "source": []
  },
  {
   "cell_type": "code",
   "execution_count": null,
   "id": "58c51ea1",
   "metadata": {},
   "outputs": [],
   "source": []
  }
 ],
 "metadata": {
  "kernelspec": {
   "display_name": "R",
   "language": "R",
   "name": "ir"
  },
  "language_info": {
   "codemirror_mode": "r",
   "file_extension": ".r",
   "mimetype": "text/x-r-source",
   "name": "R",
   "pygments_lexer": "r",
   "version": "3.6.1"
  }
 },
 "nbformat": 4,
 "nbformat_minor": 5
}

{
 "cells": [
  {
   "cell_type": "code",
   "execution_count": 2,
   "id": "c7f7bb0a",
   "metadata": {},
   "outputs": [
    {
     "name": "stdout",
     "output_type": "stream",
     "text": [
      "[1] \"R version 3.6.3 (2020-02-29)\"\n",
      "[1] \"the column recorded_by has always the same value\"\n"
     ]
    },
    {
     "data": {
      "text/plain": [
       "\n",
       "\tPearson's Chi-squared test\n",
       "\n",
       "data:  table(training_set_values$quantity, training_set_values$quantity_group)\n",
       "X-squared = 237600, df = 16, p-value < 2.2e-16\n"
      ]
     },
     "metadata": {},
     "output_type": "display_data"
    },
    {
     "data": {
      "text/plain": [
       "\n",
       "\tPearson's Chi-squared test\n",
       "\n",
       "data:  table(training_set_values$quantity, training_set_values$payment_type)\n",
       "X-squared = 3859.7, df = 24, p-value < 2.2e-16\n"
      ]
     },
     "metadata": {},
     "output_type": "display_data"
    },
    {
     "name": "stderr",
     "output_type": "stream",
     "text": [
      "Warning message in chisq.test(table(training_set_values$funder, training_set_values$payment_type)):\n",
      "“Chi-squared approximation may be incorrect”\n"
     ]
    },
    {
     "data": {
      "text/plain": [
       "\n",
       "\tPearson's Chi-squared test\n",
       "\n",
       "data:  table(training_set_values$funder, training_set_values$payment_type)\n",
       "X-squared = 89600, df = 11382, p-value < 2.2e-16\n"
      ]
     },
     "metadata": {},
     "output_type": "display_data"
    },
    {
     "name": "stderr",
     "output_type": "stream",
     "text": [
      "Warning message in chisq.test(table(training_set_values$water_quality, training_set_values$quality_group)):\n",
      "“Chi-squared approximation may be incorrect”\n"
     ]
    },
    {
     "data": {
      "text/plain": [
       "\n",
       "\tPearson's Chi-squared test\n",
       "\n",
       "data:  table(training_set_values$water_quality, training_set_values$quality_group)\n",
       "X-squared = 297000, df = 35, p-value < 2.2e-16\n"
      ]
     },
     "metadata": {},
     "output_type": "display_data"
    },
    {
     "name": "stderr",
     "output_type": "stream",
     "text": [
      "Warning message in chisq.test(table(test_correlation$amount_tsh, test_correlation$status_group)):\n",
      "“Chi-squared approximation may be incorrect”\n"
     ]
    },
    {
     "data": {
      "text/plain": [
       "\n",
       "\tPearson's Chi-squared test\n",
       "\n",
       "data:  table(test_correlation$amount_tsh, test_correlation$status_group)\n",
       "X-squared = 4307.2, df = 194, p-value < 2.2e-16\n"
      ]
     },
     "metadata": {},
     "output_type": "display_data"
    },
    {
     "name": "stderr",
     "output_type": "stream",
     "text": [
      "Warning message in chisq.test(table(test_correlation$date_recorded, test_correlation$status_group)):\n",
      "“Chi-squared approximation may be incorrect”\n"
     ]
    },
    {
     "data": {
      "text/plain": [
       "\n",
       "\tPearson's Chi-squared test\n",
       "\n",
       "data:  table(test_correlation$date_recorded, test_correlation$status_group)\n",
       "X-squared = 5005.7, df = 710, p-value < 2.2e-16\n"
      ]
     },
     "metadata": {},
     "output_type": "display_data"
    },
    {
     "name": "stderr",
     "output_type": "stream",
     "text": [
      "Warning message in chisq.test(table(test_correlation$funder, test_correlation$status_group)):\n",
      "“Chi-squared approximation may be incorrect”\n"
     ]
    },
    {
     "data": {
      "text/plain": [
       "\n",
       "\tPearson's Chi-squared test\n",
       "\n",
       "data:  table(test_correlation$funder, test_correlation$status_group)\n",
       "X-squared = 14169, df = 3794, p-value < 2.2e-16\n"
      ]
     },
     "metadata": {},
     "output_type": "display_data"
    },
    {
     "name": "stderr",
     "output_type": "stream",
     "text": [
      "Warning message in chisq.test(table(test_correlation$gps_height, test_correlation$status_group)):\n",
      "“Chi-squared approximation may be incorrect”\n"
     ]
    },
    {
     "data": {
      "text/plain": [
       "\n",
       "\tPearson's Chi-squared test\n",
       "\n",
       "data:  table(test_correlation$gps_height, test_correlation$status_group)\n",
       "X-squared = 6279.7, df = 4854, p-value < 2.2e-16\n"
      ]
     },
     "metadata": {},
     "output_type": "display_data"
    },
    {
     "name": "stderr",
     "output_type": "stream",
     "text": [
      "Warning message in chisq.test(table(test_correlation$installer, test_correlation$status_group)):\n",
      "“Chi-squared approximation may be incorrect”\n"
     ]
    },
    {
     "data": {
      "text/plain": [
       "\n",
       "\tPearson's Chi-squared test\n",
       "\n",
       "data:  table(test_correlation$installer, test_correlation$status_group)\n",
       "X-squared = 14748, df = 4290, p-value < 2.2e-16\n"
      ]
     },
     "metadata": {},
     "output_type": "display_data"
    },
    {
     "name": "stderr",
     "output_type": "stream",
     "text": [
      "Warning message in chisq.test(table(test_correlation$longitude, test_correlation$status_group)):\n",
      "“Chi-squared approximation may be incorrect”\n"
     ]
    },
    {
     "data": {
      "text/plain": [
       "\n",
       "\tPearson's Chi-squared test\n",
       "\n",
       "data:  table(test_correlation$longitude, test_correlation$status_group)\n",
       "X-squared = 112780, df = 115030, p-value = 1\n"
      ]
     },
     "metadata": {},
     "output_type": "display_data"
    },
    {
     "name": "stderr",
     "output_type": "stream",
     "text": [
      "Warning message in chisq.test(table(test_correlation$latitude, test_correlation$status_group)):\n",
      "“Chi-squared approximation may be incorrect”\n"
     ]
    },
    {
     "data": {
      "text/plain": [
       "\n",
       "\tPearson's Chi-squared test\n",
       "\n",
       "data:  table(test_correlation$latitude, test_correlation$status_group)\n",
       "X-squared = 112782, df = 115032, p-value = 1\n"
      ]
     },
     "metadata": {},
     "output_type": "display_data"
    },
    {
     "name": "stderr",
     "output_type": "stream",
     "text": [
      "Warning message in chisq.test(table(test_correlation$wpt_name, test_correlation$status_group)):\n",
      "“Chi-squared approximation may be incorrect”\n"
     ]
    },
    {
     "data": {
      "text/plain": [
       "\n",
       "\tPearson's Chi-squared test\n",
       "\n",
       "data:  table(test_correlation$wpt_name, test_correlation$status_group)\n",
       "X-squared = 77854, df = 74798, p-value = 3.167e-15\n"
      ]
     },
     "metadata": {},
     "output_type": "display_data"
    },
    {
     "data": {
      "text/plain": [
       "\n",
       "\tPearson's Chi-squared test\n",
       "\n",
       "data:  table(test_correlation$basin, test_correlation$status_group)\n",
       "X-squared = 1921, df = 16, p-value < 2.2e-16\n"
      ]
     },
     "metadata": {},
     "output_type": "display_data"
    },
    {
     "name": "stderr",
     "output_type": "stream",
     "text": [
      "Warning message in chisq.test(table(test_correlation$subvillage, test_correlation$status_group)):\n",
      "“Chi-squared approximation may be incorrect”\n"
     ]
    },
    {
     "data": {
      "text/plain": [
       "\n",
       "\tPearson's Chi-squared test\n",
       "\n",
       "data:  table(test_correlation$subvillage, test_correlation$status_group)\n",
       "X-squared = 55210, df = 38574, p-value < 2.2e-16\n"
      ]
     },
     "metadata": {},
     "output_type": "display_data"
    },
    {
     "data": {
      "text/plain": [
       "\n",
       "\tPearson's Chi-squared test\n",
       "\n",
       "data:  table(test_correlation$region, test_correlation$status_group)\n",
       "X-squared = 4794.6, df = 40, p-value < 2.2e-16\n"
      ]
     },
     "metadata": {},
     "output_type": "display_data"
    },
    {
     "name": "stderr",
     "output_type": "stream",
     "text": [
      "Warning message in chisq.test(table(test_correlation$region_code, test_correlation$status_group)):\n",
      "“Chi-squared approximation may be incorrect”\n"
     ]
    },
    {
     "data": {
      "text/plain": [
       "\n",
       "\tPearson's Chi-squared test\n",
       "\n",
       "data:  table(test_correlation$region_code, test_correlation$status_group)\n",
       "X-squared = 5157.4, df = 52, p-value < 2.2e-16\n"
      ]
     },
     "metadata": {},
     "output_type": "display_data"
    },
    {
     "name": "stderr",
     "output_type": "stream",
     "text": [
      "Warning message in chisq.test(table(test_correlation$district_code, test_correlation$status_group)):\n",
      "“Chi-squared approximation may be incorrect”\n"
     ]
    },
    {
     "data": {
      "text/plain": [
       "\n",
       "\tPearson's Chi-squared test\n",
       "\n",
       "data:  table(test_correlation$district_code, test_correlation$status_group)\n",
       "X-squared = 1673.5, df = 38, p-value < 2.2e-16\n"
      ]
     },
     "metadata": {},
     "output_type": "display_data"
    },
    {
     "name": "stderr",
     "output_type": "stream",
     "text": [
      "Warning message in chisq.test(table(test_correlation$lga, test_correlation$status_group)):\n",
      "“Chi-squared approximation may be incorrect”\n"
     ]
    },
    {
     "data": {
      "text/plain": [
       "\n",
       "\tPearson's Chi-squared test\n",
       "\n",
       "data:  table(test_correlation$lga, test_correlation$status_group)\n",
       "X-squared = 11530, df = 248, p-value < 2.2e-16\n"
      ]
     },
     "metadata": {},
     "output_type": "display_data"
    },
    {
     "name": "stderr",
     "output_type": "stream",
     "text": [
      "Warning message in chisq.test(table(test_correlation$ward, test_correlation$status_group)):\n",
      "“Chi-squared approximation may be incorrect”\n"
     ]
    },
    {
     "data": {
      "text/plain": [
       "\n",
       "\tPearson's Chi-squared test\n",
       "\n",
       "data:  table(test_correlation$ward, test_correlation$status_group)\n",
       "X-squared = 26145, df = 4182, p-value < 2.2e-16\n"
      ]
     },
     "metadata": {},
     "output_type": "display_data"
    },
    {
     "name": "stderr",
     "output_type": "stream",
     "text": [
      "Warning message in chisq.test(table(test_correlation$population, test_correlation$status_group)):\n",
      "“Chi-squared approximation may be incorrect”\n"
     ]
    },
    {
     "data": {
      "text/plain": [
       "\n",
       "\tPearson's Chi-squared test\n",
       "\n",
       "data:  table(test_correlation$population, test_correlation$status_group)\n",
       "X-squared = 4480, df = 2096, p-value < 2.2e-16\n"
      ]
     },
     "metadata": {},
     "output_type": "display_data"
    },
    {
     "data": {
      "text/plain": [
       "\n",
       "\tPearson's Chi-squared test\n",
       "\n",
       "data:  table(test_correlation$public_meeting, test_correlation$status_group)\n",
       "X-squared = 384, df = 4, p-value < 2.2e-16\n"
      ]
     },
     "metadata": {},
     "output_type": "display_data"
    },
    {
     "name": "stderr",
     "output_type": "stream",
     "text": [
      "Warning message in chisq.test(table(test_correlation$scheme_management, test_correlation$status_group)):\n",
      "“Chi-squared approximation may be incorrect”\n"
     ]
    },
    {
     "data": {
      "text/plain": [
       "\n",
       "\tPearson's Chi-squared test\n",
       "\n",
       "data:  table(test_correlation$scheme_management, test_correlation$status_group)\n",
       "X-squared = 1991.1, df = 24, p-value < 2.2e-16\n"
      ]
     },
     "metadata": {},
     "output_type": "display_data"
    },
    {
     "name": "stderr",
     "output_type": "stream",
     "text": [
      "Warning message in chisq.test(table(test_correlation$scheme_name, test_correlation$status_group)):\n",
      "“Chi-squared approximation may be incorrect”\n"
     ]
    },
    {
     "data": {
      "text/plain": [
       "\n",
       "\tPearson's Chi-squared test\n",
       "\n",
       "data:  table(test_correlation$scheme_name, test_correlation$status_group)\n",
       "X-squared = 21643, df = 5392, p-value < 2.2e-16\n"
      ]
     },
     "metadata": {},
     "output_type": "display_data"
    },
    {
     "data": {
      "text/plain": [
       "\n",
       "\tPearson's Chi-squared test\n",
       "\n",
       "data:  table(test_correlation$permit, test_correlation$status_group)\n",
       "X-squared = 104.18, df = 4, p-value < 2.2e-16\n"
      ]
     },
     "metadata": {},
     "output_type": "display_data"
    },
    {
     "name": "stderr",
     "output_type": "stream",
     "text": [
      "Warning message in chisq.test(table(test_correlation$construction_year, test_correlation$status_group)):\n",
      "“Chi-squared approximation may be incorrect”\n"
     ]
    },
    {
     "data": {
      "text/plain": [
       "\n",
       "\tPearson's Chi-squared test\n",
       "\n",
       "data:  table(test_correlation$construction_year, test_correlation$status_group)\n",
       "X-squared = 4098.4, df = 108, p-value < 2.2e-16\n"
      ]
     },
     "metadata": {},
     "output_type": "display_data"
    },
    {
     "name": "stderr",
     "output_type": "stream",
     "text": [
      "Warning message in chisq.test(table(test_correlation$extraction_type, test_correlation$status_group)):\n",
      "“Chi-squared approximation may be incorrect”\n"
     ]
    },
    {
     "data": {
      "text/plain": [
       "\n",
       "\tPearson's Chi-squared test\n",
       "\n",
       "data:  table(test_correlation$extraction_type, test_correlation$status_group)\n",
       "X-squared = 7365.6, df = 34, p-value < 2.2e-16\n"
      ]
     },
     "metadata": {},
     "output_type": "display_data"
    },
    {
     "data": {
      "text/plain": [
       "\n",
       "\tPearson's Chi-squared test\n",
       "\n",
       "data:  table(test_correlation$management, test_correlation$status_group)\n",
       "X-squared = 2081.1, df = 22, p-value < 2.2e-16\n"
      ]
     },
     "metadata": {},
     "output_type": "display_data"
    },
    {
     "data": {
      "text/plain": [
       "\n",
       "\tPearson's Chi-squared test\n",
       "\n",
       "data:  table(test_correlation$payment, test_correlation$status_group)\n",
       "X-squared = 3965.6, df = 12, p-value < 2.2e-16\n"
      ]
     },
     "metadata": {},
     "output_type": "display_data"
    },
    {
     "name": "stderr",
     "output_type": "stream",
     "text": [
      "Warning message in chisq.test(table(test_correlation$water_quality, test_correlation$status_group)):\n",
      "“Chi-squared approximation may be incorrect”\n"
     ]
    },
    {
     "data": {
      "text/plain": [
       "\n",
       "\tPearson's Chi-squared test\n",
       "\n",
       "data:  table(test_correlation$water_quality, test_correlation$status_group)\n",
       "X-squared = 2277.4, df = 14, p-value < 2.2e-16\n"
      ]
     },
     "metadata": {},
     "output_type": "display_data"
    },
    {
     "data": {
      "text/plain": [
       "\n",
       "\tPearson's Chi-squared test\n",
       "\n",
       "data:  table(test_correlation$quantity, test_correlation$status_group)\n",
       "X-squared = 11361, df = 8, p-value < 2.2e-16\n"
      ]
     },
     "metadata": {},
     "output_type": "display_data"
    },
    {
     "name": "stderr",
     "output_type": "stream",
     "text": [
      "Warning message in chisq.test(table(test_correlation$source, test_correlation$status_group)):\n",
      "“Chi-squared approximation may be incorrect”\n"
     ]
    },
    {
     "data": {
      "text/plain": [
       "\n",
       "\tPearson's Chi-squared test\n",
       "\n",
       "data:  table(test_correlation$source, test_correlation$status_group)\n",
       "X-squared = 2624, df = 18, p-value < 2.2e-16\n"
      ]
     },
     "metadata": {},
     "output_type": "display_data"
    },
    {
     "name": "stderr",
     "output_type": "stream",
     "text": [
      "Warning message in chisq.test(table(test_correlation$waterpoint_type, test_correlation$status_group)):\n",
      "“Chi-squared approximation may be incorrect”\n"
     ]
    },
    {
     "data": {
      "text/plain": [
       "\n",
       "\tPearson's Chi-squared test\n",
       "\n",
       "data:  table(test_correlation$waterpoint_type, test_correlation$status_group)\n",
       "X-squared = 7450.3, df = 12, p-value < 2.2e-16\n"
      ]
     },
     "metadata": {},
     "output_type": "display_data"
    }
   ],
   "source": [
    "# install.packages('dummies')\n",
    "# install.packages('stringi')\n",
    "# install.packages('rpart.plot')\n",
    "# install.packages('dplyr', repos = 'https://cloud.r-project.org')\n",
    "# install.packages('caret', dependencies = TRUE)\n",
    "# install.packages(\"C:\\\\Users\\\\antoi\\\\Downloads\\\\stringi_1.5.3.zip\")\n",
    "# install.packages('dplyr', repos = 'https://cloud.r-project.org')\n",
    "# install.packages(\"doParallel\")\n",
    "\n",
    "print(R.version$version.string)\n",
    "training_set_labels <- read.csv(file = 'data/training_set_labels.csv', stringsAsFactors = T)\n",
    "test_set_values <- read.csv(file = 'data/test_set_values.csv', stringsAsFactors = T)\n",
    "training_set_values <- read.csv(file = 'data/training_set_values.csv', stringsAsFactors = T)\n",
    "\n",
    "for (colname in names(training_set_values)) {\n",
    "    list_of_unique <- unique(training_set_values[colname])\n",
    "    if (nrow(list_of_unique) == 1){\n",
    "        print(paste(\"the column\", colname, \"has always the same value\"))\n",
    "    }\n",
    "}\n",
    "\n",
    "training_set_values <- training_set_values[,setdiff(colnames(training_set_values),\"recorded_by\")] # remove recorded_by train_data\n",
    "\n",
    "test_set_values <- test_set_values[,setdiff(colnames(test_set_values),\"recorded_by\")] # remove recorded_by _train_test\n",
    "\n",
    "maxima <- c()\n",
    "for (colname in names(training_set_values)) {\n",
    "   maxima <- rbind(maxima, max(table(training_set_values[colname]))/59400)\n",
    "}\n",
    "\n",
    "# Shows it nicely\n",
    "df <- data.frame(names(training_set_values), maxima)\n",
    "df <- df[order(df$maxima, decreasing=TRUE),]\n",
    "training_set_values <- training_set_values[,setdiff(colnames(training_set_values),\"num_private\")] # remove num_private train_set\n",
    "\n",
    "test_set_values <- test_set_values[,setdiff(colnames(test_set_values),\"num_private\")] # remove num_private test_est\n",
    "chisq.test(table(training_set_values$quantity, training_set_values$quantity_group))\n",
    "chisq.test(table(training_set_values$quantity, training_set_values$payment_type))\n",
    "chisq.test(table(training_set_values$funder, training_set_values$payment_type))\n",
    "# table(training_set_values$funder, training_set_values$payment_type)  # We see that it's mostly random\n",
    "chisq.test(table(training_set_values$water_quality, training_set_values$quality_group))\n",
    "\n",
    "test_correlation <- cbind(training_set_values,training_set_labels[2])\n",
    "\n",
    "chisq.test(table(test_correlation$amount_tsh, test_correlation$status_group))\n",
    "chisq.test(table(test_correlation$date_recorded, test_correlation$status_group))\n",
    "chisq.test(table(test_correlation$funder, test_correlation$status_group))\n",
    "chisq.test(table(test_correlation$gps_height, test_correlation$status_group))\n",
    "chisq.test(table(test_correlation$installer, test_correlation$status_group))\n",
    "chisq.test(table(test_correlation$longitude, test_correlation$status_group))\n",
    "chisq.test(table(test_correlation$latitude, test_correlation$status_group))\n",
    "chisq.test(table(test_correlation$wpt_name, test_correlation$status_group))\n",
    "chisq.test(table(test_correlation$basin, test_correlation$status_group))\n",
    "chisq.test(table(test_correlation$subvillage, test_correlation$status_group))\n",
    "chisq.test(table(test_correlation$region, test_correlation$status_group))\n",
    "chisq.test(table(test_correlation$region_code, test_correlation$status_group))\n",
    "chisq.test(table(test_correlation$district_code, test_correlation$status_group))\n",
    "chisq.test(table(test_correlation$lga, test_correlation$status_group))\n",
    "chisq.test(table(test_correlation$ward, test_correlation$status_group))\n",
    "chisq.test(table(test_correlation$population, test_correlation$status_group))\n",
    "chisq.test(table(test_correlation$public_meeting, test_correlation$status_group))\n",
    "chisq.test(table(test_correlation$scheme_management, test_correlation$status_group))\n",
    "chisq.test(table(test_correlation$scheme_name, test_correlation$status_group))\n",
    "chisq.test(table(test_correlation$permit, test_correlation$status_group))\n",
    "chisq.test(table(test_correlation$construction_year, test_correlation$status_group))\n",
    "chisq.test(table(test_correlation$extraction_type, test_correlation$status_group))\n",
    "chisq.test(table(test_correlation$management, test_correlation$status_group))\n",
    "chisq.test(table(test_correlation$payment, test_correlation$status_group))\n",
    "chisq.test(table(test_correlation$water_quality, test_correlation$status_group))\n",
    "chisq.test(table(test_correlation$quantity, test_correlation$status_group))\n",
    "chisq.test(table(test_correlation$source, test_correlation$status_group))\n",
    "chisq.test(table(test_correlation$waterpoint_type, test_correlation$status_group))\n",
    "options(repr.matrix.max.rows=10, repr.matrix.max.cols=100) # option pour la taille des prints\n",
    "\n",
    "\n",
    "\n",
    "# table(training_set_values$waterpoint_type_group, training_set_values$waterpoint_type)  # less information\n",
    "training_set_values <- training_set_values[,setdiff(colnames(training_set_values),\"waterpoint_type_group\")]\n",
    "test_set_values <- test_set_values[,setdiff(colnames(test_set_values),\"waterpoint_type_group\")]\n",
    "\n",
    "# table(training_set_values$source_type, training_set_values$source_class)  # less information\n",
    "training_set_values <- training_set_values[,setdiff(colnames(training_set_values),\"source_class\")]\n",
    "test_set_values <- test_set_values[,setdiff(colnames(test_set_values),\"source_class\")]\n",
    "\n",
    "# table(training_set_values$source, training_set_values$source_type)  # less information\n",
    "training_set_values <- training_set_values[,setdiff(colnames(training_set_values),\"source_type\")]\n",
    "test_set_values <- test_set_values[,setdiff(colnames(test_set_values),\"source_type\")]\n",
    "\n",
    "# table(training_set_values$water_quality, training_set_values$quality_group)  # less information\n",
    "training_set_values <- training_set_values[,setdiff(colnames(training_set_values),\"quality_group\")]\n",
    "test_set_values <- test_set_values[,setdiff(colnames(test_set_values),\"quality_group\")]\n",
    "\n",
    "# table(training_set_values$quantity, training_set_values$quantity_group)  # equivalent, we delete column\n",
    "training_set_values <- training_set_values[,setdiff(colnames(training_set_values),\"quantity_group\")]\n",
    "test_set_values <- test_set_values[,setdiff(colnames(test_set_values),\"quantity_group\")]\n",
    "\n",
    "# table(training_set_values$extraction_type, training_set_values$extraction_type_group)  # we can delete column\n",
    "training_set_values <- training_set_values[,setdiff(colnames(training_set_values),\"extraction_type_group\")]\n",
    "test_set_values <- test_set_values[,setdiff(colnames(test_set_values),\"extraction_type_group\")]\n",
    "\n",
    "# table(training_set_values$extraction_type, training_set_values$extraction_type_class)  # We can delete column\n",
    "# training_set_values <- training_set_values[,setdiff(colnames(training_set_values),\"extraction_type_class\")]\n",
    "\n",
    "# table(training_set_values$payment, training_set_values$payment_type)  # equivalent,  we delete column\n",
    "training_set_values <- training_set_values[,setdiff(colnames(training_set_values),\"payment_type\")]\n",
    "test_set_values <- test_set_values[,setdiff(colnames(test_set_values),\"payment_type\")]\n",
    "\n",
    "# table(training_set_values$management, training_set_values$management_group)  # we delete column\n",
    "training_set_values <- training_set_values[,setdiff(colnames(training_set_values),\"management_group\")]\n",
    "test_set_values <- test_set_values[,setdiff(colnames(test_set_values),\"management_group\")]\n",
    "\n",
    "# table(training_set_values$region, training_set_values$region_code)  # very correlated but some cities/code are ambigius\n",
    "# table(training_set_values$basin, training_set_values$subvillage)  # not really correlated, keep\n",
    "\n",
    "empty_check <- c(\"funder\", \"installer\", \"basin\", \"subvillage\", \"region\", \"lga\", \"ward\", \"scheme_management\", \"scheme_name\", \"permit\", \"extraction_type\", \"extraction_type_class\", \"payment\", \"water_quality\", \"quantity\", \"source\", \"waterpoint_type\", \"permit\", \"public_meeting\") \n",
    "for (row in 1:nrow(head(training_set_values, 10))){\n",
    "    #print(training_set_values[row])\n",
    "    for (col in 1:ncol(head(training_set_values, 10))){\n",
    "        col_name <- names(training_set_values[row])\n",
    "        if (col_name %in% empty_check){\n",
    "            if (is.na(training_set_values[row, col])){\n",
    "                print(paste(\"Changing\"))\n",
    "                training_set_values[row, col] = as.factor(\"unknown\")\n",
    "            }\n",
    "        }\n",
    "    }\n",
    "}\n"
   ]
  },
  {
   "cell_type": "code",
   "execution_count": 3,
   "id": "a68d87c4",
   "metadata": {},
   "outputs": [
    {
     "name": "stderr",
     "output_type": "stream",
     "text": [
      "Warning message in model.matrix.default(~x - 1, model.frame(~x - 1), contrasts = FALSE):\n",
      "“non-list contrasts argument ignored”\n",
      "Warning message in model.matrix.default(~x - 1, model.frame(~x - 1), contrasts = FALSE):\n",
      "“non-list contrasts argument ignored”\n"
     ]
    },
    {
     "data": {
      "text/html": [
       "<table class=\"dataframe\">\n",
       "<caption>A data.frame: 2 × 5010</caption>\n",
       "<thead>\n",
       "\t<tr><th></th><th scope=col>funder_</th><th scope=col>funder_0</th><th scope=col>funder_A/co Germany</th><th scope=col>funder_Aar</th><th scope=col>funder_Abas Ka</th><th scope=col>funder_Abasia</th><th scope=col>funder_Abc-ihushi Development Cent</th><th scope=col>funder_Abd</th><th scope=col>funder_Abdala</th><th scope=col>funder_Abddwe</th><th scope=col>funder_Abdul</th><th scope=col>funder_Abood</th><th scope=col>funder_Abs</th><th scope=col>funder_Aco/germany</th><th scope=col>funder_Acord</th><th scope=col>funder_Acord Ngo</th><th scope=col>funder_Acra</th><th scope=col>funder_Act</th><th scope=col>funder_Act Mara</th><th scope=col>funder_Action Aid</th><th scope=col>funder_Action Contre La Faim</th><th scope=col>funder_Action In A</th><th scope=col>funder_Adap</th><th scope=col>funder_Adb</th><th scope=col>funder_Adf</th><th scope=col>funder_Adp</th><th scope=col>funder_Adp Bungu</th><th scope=col>funder_Adp Mombo</th><th scope=col>funder_Adp/w</th><th scope=col>funder_Adra</th><th scope=col>funder_Af</th><th scope=col>funder_Afdp</th><th scope=col>funder_Afric</th><th scope=col>funder_Africa</th><th scope=col>funder_Africa 2000 Network/undp</th><th scope=col>funder_Africa Amini Alama</th><th scope=col>funder_Africa Project Ev Germany</th><th scope=col>funder_African</th><th scope=col>funder_African 2000 Network</th><th scope=col>funder_African Barrick Gold</th><th scope=col>funder_African Development Bank</th><th scope=col>funder_African Development Foundation</th><th scope=col>funder_African Muslim Agency</th><th scope=col>funder_African Realief Committe Of Ku</th><th scope=col>funder_African Reflections Foundation</th><th scope=col>funder_African Relie</th><th scope=col>funder_Africaone Ltd</th><th scope=col>funder_Africare</th><th scope=col>funder_Afriican Reli</th><th scope=col>funder_Afroz Ismail</th><th scope=col>⋯</th><th scope=col>scheme_name_Mwaboza</th><th scope=col>scheme_name_Mwakikonge Dam</th><th scope=col>scheme_name_Mwamagembe windmill piped scheme</th><th scope=col>scheme_name_Mwarasi</th><th scope=col>scheme_name_Mwilamb</th><th scope=col>scheme_name_Naliendele</th><th scope=col>scheme_name_Naluwale Mkwajuni Water Supply</th><th scope=col>scheme_name_Nandagala</th><th scope=col>scheme_name_Nanganga</th><th scope=col>scheme_name_NDEB</th><th scope=col>scheme_name_Ndoleleji piped scheme</th><th scope=col>scheme_name_Ndoleleji windmill piped scheme</th><th scope=col>scheme_name_New Keni water supply</th><th scope=col>scheme_name_Ng'ang</th><th scope=col>scheme_name_Ngha</th><th scope=col>scheme_name_Njinjo Water supply</th><th scope=col>scheme_name_Nkalakala water supply</th><th scope=col>scheme_name_Nyalusangi spring source</th><th scope=col>scheme_name_Nyampa A</th><th scope=col>scheme_name_NYamtukuza</th><th scope=col>scheme_name_Nyamwaga/ keisangura water  suplly</th><th scope=col>scheme_name_Pump House Sanungu</th><th scope=col>scheme_name_Pung</th><th scope=col>scheme_name_requires good management</th><th scope=col>scheme_name_River Zigi</th><th scope=col>scheme_name_Rumashi  gravity water supply</th><th scope=col>scheme_name_Rungwa water supply</th><th scope=col>scheme_name_Sanga  piped scheme</th><th scope=col>scheme_name_Sawasa water supoly</th><th scope=col>scheme_name_Segese Pipe scheme</th><th scope=col>scheme_name_Segs</th><th scope=col>scheme_name_Sere natural spring</th><th scope=col>scheme_name_Sinohydro</th><th scope=col>scheme_name_Songambele azimio wate</th><th scope=col>scheme_name_Tala</th><th scope=col>scheme_name_Tanzania and Egypt</th><th scope=col>scheme_name_Tewe water supply</th><th scope=col>scheme_name_Thaw</th><th scope=col>scheme_name_TLMP</th><th scope=col>scheme_name_TM Namwe</th><th scope=col>scheme_name_Uhindi water supply</th><th scope=col>scheme_name_UPPER RUVU</th><th scope=col>scheme_name_Uwamalu</th><th scope=col>scheme_name_Uzizi Water Supply</th><th scope=col>scheme_name_VIFAFI</th><th scope=col>scheme_name_Village water supplying</th><th scope=col>scheme_name_Water  Aid</th><th scope=col>scheme_name_water supply in Kalebejo</th><th scope=col>scheme_name_WeKULE</th><th scope=col>scheme_name_Welei water supply</th></tr>\n",
       "\t<tr><th></th><th scope=col>&lt;int&gt;</th><th scope=col>&lt;int&gt;</th><th scope=col>&lt;int&gt;</th><th scope=col>&lt;int&gt;</th><th scope=col>&lt;int&gt;</th><th scope=col>&lt;int&gt;</th><th scope=col>&lt;int&gt;</th><th scope=col>&lt;int&gt;</th><th scope=col>&lt;int&gt;</th><th scope=col>&lt;int&gt;</th><th scope=col>&lt;int&gt;</th><th scope=col>&lt;int&gt;</th><th scope=col>&lt;int&gt;</th><th scope=col>&lt;int&gt;</th><th scope=col>&lt;int&gt;</th><th scope=col>&lt;int&gt;</th><th scope=col>&lt;int&gt;</th><th scope=col>&lt;int&gt;</th><th scope=col>&lt;int&gt;</th><th scope=col>&lt;int&gt;</th><th scope=col>&lt;int&gt;</th><th scope=col>&lt;int&gt;</th><th scope=col>&lt;int&gt;</th><th scope=col>&lt;int&gt;</th><th scope=col>&lt;int&gt;</th><th scope=col>&lt;int&gt;</th><th scope=col>&lt;int&gt;</th><th scope=col>&lt;int&gt;</th><th scope=col>&lt;int&gt;</th><th scope=col>&lt;int&gt;</th><th scope=col>&lt;int&gt;</th><th scope=col>&lt;int&gt;</th><th scope=col>&lt;int&gt;</th><th scope=col>&lt;int&gt;</th><th scope=col>&lt;int&gt;</th><th scope=col>&lt;int&gt;</th><th scope=col>&lt;int&gt;</th><th scope=col>&lt;int&gt;</th><th scope=col>&lt;int&gt;</th><th scope=col>&lt;int&gt;</th><th scope=col>&lt;int&gt;</th><th scope=col>&lt;int&gt;</th><th scope=col>&lt;int&gt;</th><th scope=col>&lt;int&gt;</th><th scope=col>&lt;int&gt;</th><th scope=col>&lt;int&gt;</th><th scope=col>&lt;int&gt;</th><th scope=col>&lt;int&gt;</th><th scope=col>&lt;int&gt;</th><th scope=col>&lt;int&gt;</th><th scope=col>⋯</th><th scope=col>&lt;int&gt;</th><th scope=col>&lt;int&gt;</th><th scope=col>&lt;int&gt;</th><th scope=col>&lt;int&gt;</th><th scope=col>&lt;int&gt;</th><th scope=col>&lt;int&gt;</th><th scope=col>&lt;int&gt;</th><th scope=col>&lt;int&gt;</th><th scope=col>&lt;int&gt;</th><th scope=col>&lt;int&gt;</th><th scope=col>&lt;int&gt;</th><th scope=col>&lt;int&gt;</th><th scope=col>&lt;int&gt;</th><th scope=col>&lt;int&gt;</th><th scope=col>&lt;int&gt;</th><th scope=col>&lt;int&gt;</th><th scope=col>&lt;int&gt;</th><th scope=col>&lt;int&gt;</th><th scope=col>&lt;int&gt;</th><th scope=col>&lt;int&gt;</th><th scope=col>&lt;int&gt;</th><th scope=col>&lt;int&gt;</th><th scope=col>&lt;int&gt;</th><th scope=col>&lt;int&gt;</th><th scope=col>&lt;int&gt;</th><th scope=col>&lt;int&gt;</th><th scope=col>&lt;int&gt;</th><th scope=col>&lt;int&gt;</th><th scope=col>&lt;int&gt;</th><th scope=col>&lt;int&gt;</th><th scope=col>&lt;int&gt;</th><th scope=col>&lt;int&gt;</th><th scope=col>&lt;int&gt;</th><th scope=col>&lt;int&gt;</th><th scope=col>&lt;int&gt;</th><th scope=col>&lt;int&gt;</th><th scope=col>&lt;int&gt;</th><th scope=col>&lt;int&gt;</th><th scope=col>&lt;int&gt;</th><th scope=col>&lt;int&gt;</th><th scope=col>&lt;int&gt;</th><th scope=col>&lt;int&gt;</th><th scope=col>&lt;int&gt;</th><th scope=col>&lt;int&gt;</th><th scope=col>&lt;int&gt;</th><th scope=col>&lt;int&gt;</th><th scope=col>&lt;int&gt;</th><th scope=col>&lt;int&gt;</th><th scope=col>&lt;int&gt;</th><th scope=col>&lt;int&gt;</th></tr>\n",
       "</thead>\n",
       "<tbody>\n",
       "\t<tr><th scope=row>1</th><td>0</td><td>0</td><td>0</td><td>0</td><td>0</td><td>0</td><td>0</td><td>0</td><td>0</td><td>0</td><td>0</td><td>0</td><td>0</td><td>0</td><td>0</td><td>0</td><td>0</td><td>0</td><td>0</td><td>0</td><td>0</td><td>0</td><td>0</td><td>0</td><td>0</td><td>0</td><td>0</td><td>0</td><td>0</td><td>0</td><td>0</td><td>0</td><td>0</td><td>0</td><td>0</td><td>0</td><td>0</td><td>0</td><td>0</td><td>0</td><td>0</td><td>0</td><td>0</td><td>0</td><td>0</td><td>0</td><td>0</td><td>0</td><td>0</td><td>0</td><td>⋯</td><td>0</td><td>0</td><td>0</td><td>0</td><td>0</td><td>0</td><td>0</td><td>0</td><td>0</td><td>0</td><td>0</td><td>0</td><td>0</td><td>0</td><td>0</td><td>0</td><td>0</td><td>0</td><td>0</td><td>0</td><td>0</td><td>0</td><td>0</td><td>0</td><td>0</td><td>0</td><td>0</td><td>0</td><td>0</td><td>0</td><td>0</td><td>0</td><td>0</td><td>0</td><td>0</td><td>0</td><td>0</td><td>0</td><td>0</td><td>0</td><td>0</td><td>0</td><td>0</td><td>0</td><td>0</td><td>0</td><td>0</td><td>0</td><td>0</td><td>0</td></tr>\n",
       "\t<tr><th scope=row>2</th><td>0</td><td>0</td><td>0</td><td>0</td><td>0</td><td>0</td><td>0</td><td>0</td><td>0</td><td>0</td><td>0</td><td>0</td><td>0</td><td>0</td><td>0</td><td>0</td><td>0</td><td>0</td><td>0</td><td>0</td><td>0</td><td>0</td><td>0</td><td>0</td><td>0</td><td>0</td><td>0</td><td>0</td><td>0</td><td>0</td><td>0</td><td>0</td><td>0</td><td>0</td><td>0</td><td>0</td><td>0</td><td>0</td><td>0</td><td>0</td><td>0</td><td>0</td><td>0</td><td>0</td><td>0</td><td>0</td><td>0</td><td>0</td><td>0</td><td>0</td><td>⋯</td><td>0</td><td>0</td><td>0</td><td>0</td><td>0</td><td>0</td><td>0</td><td>0</td><td>0</td><td>0</td><td>0</td><td>0</td><td>0</td><td>0</td><td>0</td><td>0</td><td>0</td><td>0</td><td>0</td><td>0</td><td>0</td><td>0</td><td>0</td><td>0</td><td>0</td><td>0</td><td>0</td><td>0</td><td>0</td><td>0</td><td>0</td><td>0</td><td>0</td><td>0</td><td>0</td><td>0</td><td>0</td><td>0</td><td>0</td><td>0</td><td>0</td><td>0</td><td>0</td><td>0</td><td>0</td><td>0</td><td>0</td><td>0</td><td>0</td><td>0</td></tr>\n",
       "</tbody>\n",
       "</table>\n"
      ],
      "text/latex": [
       "A data.frame: 2 × 5010\n",
       "\\begin{tabular}{r|lllllllllllllllllllllllllllllllllllllllllllllllllllllllllllllllllllllllllllllllllllllllllllllllllllll}\n",
       "  & funder\\_ & funder\\_0 & funder\\_A/co Germany & funder\\_Aar & funder\\_Abas Ka & funder\\_Abasia & funder\\_Abc-ihushi Development Cent & funder\\_Abd & funder\\_Abdala & funder\\_Abddwe & funder\\_Abdul & funder\\_Abood & funder\\_Abs & funder\\_Aco/germany & funder\\_Acord & funder\\_Acord Ngo & funder\\_Acra & funder\\_Act & funder\\_Act Mara & funder\\_Action Aid & funder\\_Action Contre La Faim & funder\\_Action In A & funder\\_Adap & funder\\_Adb & funder\\_Adf & funder\\_Adp & funder\\_Adp Bungu & funder\\_Adp Mombo & funder\\_Adp/w & funder\\_Adra & funder\\_Af & funder\\_Afdp & funder\\_Afric & funder\\_Africa & funder\\_Africa 2000 Network/undp & funder\\_Africa Amini Alama & funder\\_Africa Project Ev Germany & funder\\_African & funder\\_African 2000 Network & funder\\_African Barrick Gold & funder\\_African Development Bank & funder\\_African Development Foundation & funder\\_African Muslim Agency & funder\\_African Realief Committe Of Ku & funder\\_African Reflections Foundation & funder\\_African Relie & funder\\_Africaone Ltd & funder\\_Africare & funder\\_Afriican Reli & funder\\_Afroz Ismail & ⋯ & scheme\\_name\\_Mwaboza & scheme\\_name\\_Mwakikonge Dam & scheme\\_name\\_Mwamagembe windmill piped scheme & scheme\\_name\\_Mwarasi & scheme\\_name\\_Mwilamb & scheme\\_name\\_Naliendele & scheme\\_name\\_Naluwale Mkwajuni Water Supply & scheme\\_name\\_Nandagala & scheme\\_name\\_Nanganga & scheme\\_name\\_NDEB & scheme\\_name\\_Ndoleleji piped scheme & scheme\\_name\\_Ndoleleji windmill piped scheme & scheme\\_name\\_New Keni water supply & scheme\\_name\\_Ng'ang & scheme\\_name\\_Ngha & scheme\\_name\\_Njinjo Water supply & scheme\\_name\\_Nkalakala water supply & scheme\\_name\\_Nyalusangi spring source & scheme\\_name\\_Nyampa A & scheme\\_name\\_NYamtukuza & scheme\\_name\\_Nyamwaga/ keisangura water  suplly & scheme\\_name\\_Pump House Sanungu & scheme\\_name\\_Pung & scheme\\_name\\_requires good management & scheme\\_name\\_River Zigi & scheme\\_name\\_Rumashi  gravity water supply & scheme\\_name\\_Rungwa water supply & scheme\\_name\\_Sanga  piped scheme & scheme\\_name\\_Sawasa water supoly & scheme\\_name\\_Segese Pipe scheme & scheme\\_name\\_Segs & scheme\\_name\\_Sere natural spring & scheme\\_name\\_Sinohydro & scheme\\_name\\_Songambele azimio wate & scheme\\_name\\_Tala & scheme\\_name\\_Tanzania and Egypt & scheme\\_name\\_Tewe water supply & scheme\\_name\\_Thaw & scheme\\_name\\_TLMP & scheme\\_name\\_TM Namwe & scheme\\_name\\_Uhindi water supply & scheme\\_name\\_UPPER RUVU & scheme\\_name\\_Uwamalu & scheme\\_name\\_Uzizi Water Supply & scheme\\_name\\_VIFAFI & scheme\\_name\\_Village water supplying & scheme\\_name\\_Water  Aid & scheme\\_name\\_water supply in Kalebejo & scheme\\_name\\_WeKULE & scheme\\_name\\_Welei water supply\\\\\n",
       "  & <int> & <int> & <int> & <int> & <int> & <int> & <int> & <int> & <int> & <int> & <int> & <int> & <int> & <int> & <int> & <int> & <int> & <int> & <int> & <int> & <int> & <int> & <int> & <int> & <int> & <int> & <int> & <int> & <int> & <int> & <int> & <int> & <int> & <int> & <int> & <int> & <int> & <int> & <int> & <int> & <int> & <int> & <int> & <int> & <int> & <int> & <int> & <int> & <int> & <int> & ⋯ & <int> & <int> & <int> & <int> & <int> & <int> & <int> & <int> & <int> & <int> & <int> & <int> & <int> & <int> & <int> & <int> & <int> & <int> & <int> & <int> & <int> & <int> & <int> & <int> & <int> & <int> & <int> & <int> & <int> & <int> & <int> & <int> & <int> & <int> & <int> & <int> & <int> & <int> & <int> & <int> & <int> & <int> & <int> & <int> & <int> & <int> & <int> & <int> & <int> & <int>\\\\\n",
       "\\hline\n",
       "\t1 & 0 & 0 & 0 & 0 & 0 & 0 & 0 & 0 & 0 & 0 & 0 & 0 & 0 & 0 & 0 & 0 & 0 & 0 & 0 & 0 & 0 & 0 & 0 & 0 & 0 & 0 & 0 & 0 & 0 & 0 & 0 & 0 & 0 & 0 & 0 & 0 & 0 & 0 & 0 & 0 & 0 & 0 & 0 & 0 & 0 & 0 & 0 & 0 & 0 & 0 & ⋯ & 0 & 0 & 0 & 0 & 0 & 0 & 0 & 0 & 0 & 0 & 0 & 0 & 0 & 0 & 0 & 0 & 0 & 0 & 0 & 0 & 0 & 0 & 0 & 0 & 0 & 0 & 0 & 0 & 0 & 0 & 0 & 0 & 0 & 0 & 0 & 0 & 0 & 0 & 0 & 0 & 0 & 0 & 0 & 0 & 0 & 0 & 0 & 0 & 0 & 0\\\\\n",
       "\t2 & 0 & 0 & 0 & 0 & 0 & 0 & 0 & 0 & 0 & 0 & 0 & 0 & 0 & 0 & 0 & 0 & 0 & 0 & 0 & 0 & 0 & 0 & 0 & 0 & 0 & 0 & 0 & 0 & 0 & 0 & 0 & 0 & 0 & 0 & 0 & 0 & 0 & 0 & 0 & 0 & 0 & 0 & 0 & 0 & 0 & 0 & 0 & 0 & 0 & 0 & ⋯ & 0 & 0 & 0 & 0 & 0 & 0 & 0 & 0 & 0 & 0 & 0 & 0 & 0 & 0 & 0 & 0 & 0 & 0 & 0 & 0 & 0 & 0 & 0 & 0 & 0 & 0 & 0 & 0 & 0 & 0 & 0 & 0 & 0 & 0 & 0 & 0 & 0 & 0 & 0 & 0 & 0 & 0 & 0 & 0 & 0 & 0 & 0 & 0 & 0 & 0\\\\\n",
       "\\end{tabular}\n"
      ],
      "text/markdown": [
       "\n",
       "A data.frame: 2 × 5010\n",
       "\n",
       "| <!--/--> | funder_ &lt;int&gt; | funder_0 &lt;int&gt; | funder_A/co Germany &lt;int&gt; | funder_Aar &lt;int&gt; | funder_Abas Ka &lt;int&gt; | funder_Abasia &lt;int&gt; | funder_Abc-ihushi Development Cent &lt;int&gt; | funder_Abd &lt;int&gt; | funder_Abdala &lt;int&gt; | funder_Abddwe &lt;int&gt; | funder_Abdul &lt;int&gt; | funder_Abood &lt;int&gt; | funder_Abs &lt;int&gt; | funder_Aco/germany &lt;int&gt; | funder_Acord &lt;int&gt; | funder_Acord Ngo &lt;int&gt; | funder_Acra &lt;int&gt; | funder_Act &lt;int&gt; | funder_Act Mara &lt;int&gt; | funder_Action Aid &lt;int&gt; | funder_Action Contre La Faim &lt;int&gt; | funder_Action In A &lt;int&gt; | funder_Adap &lt;int&gt; | funder_Adb &lt;int&gt; | funder_Adf &lt;int&gt; | funder_Adp &lt;int&gt; | funder_Adp Bungu &lt;int&gt; | funder_Adp Mombo &lt;int&gt; | funder_Adp/w &lt;int&gt; | funder_Adra &lt;int&gt; | funder_Af &lt;int&gt; | funder_Afdp &lt;int&gt; | funder_Afric &lt;int&gt; | funder_Africa &lt;int&gt; | funder_Africa 2000 Network/undp &lt;int&gt; | funder_Africa Amini Alama &lt;int&gt; | funder_Africa Project Ev Germany &lt;int&gt; | funder_African &lt;int&gt; | funder_African 2000 Network &lt;int&gt; | funder_African Barrick Gold &lt;int&gt; | funder_African Development Bank &lt;int&gt; | funder_African Development Foundation &lt;int&gt; | funder_African Muslim Agency &lt;int&gt; | funder_African Realief Committe Of Ku &lt;int&gt; | funder_African Reflections Foundation &lt;int&gt; | funder_African Relie &lt;int&gt; | funder_Africaone Ltd &lt;int&gt; | funder_Africare &lt;int&gt; | funder_Afriican Reli &lt;int&gt; | funder_Afroz Ismail &lt;int&gt; | ⋯ ⋯ | scheme_name_Mwaboza &lt;int&gt; | scheme_name_Mwakikonge Dam &lt;int&gt; | scheme_name_Mwamagembe windmill piped scheme &lt;int&gt; | scheme_name_Mwarasi &lt;int&gt; | scheme_name_Mwilamb &lt;int&gt; | scheme_name_Naliendele &lt;int&gt; | scheme_name_Naluwale Mkwajuni Water Supply &lt;int&gt; | scheme_name_Nandagala &lt;int&gt; | scheme_name_Nanganga &lt;int&gt; | scheme_name_NDEB &lt;int&gt; | scheme_name_Ndoleleji piped scheme &lt;int&gt; | scheme_name_Ndoleleji windmill piped scheme &lt;int&gt; | scheme_name_New Keni water supply &lt;int&gt; | scheme_name_Ng'ang &lt;int&gt; | scheme_name_Ngha &lt;int&gt; | scheme_name_Njinjo Water supply &lt;int&gt; | scheme_name_Nkalakala water supply &lt;int&gt; | scheme_name_Nyalusangi spring source &lt;int&gt; | scheme_name_Nyampa A &lt;int&gt; | scheme_name_NYamtukuza &lt;int&gt; | scheme_name_Nyamwaga/ keisangura water  suplly &lt;int&gt; | scheme_name_Pump House Sanungu &lt;int&gt; | scheme_name_Pung &lt;int&gt; | scheme_name_requires good management &lt;int&gt; | scheme_name_River Zigi &lt;int&gt; | scheme_name_Rumashi  gravity water supply &lt;int&gt; | scheme_name_Rungwa water supply &lt;int&gt; | scheme_name_Sanga  piped scheme &lt;int&gt; | scheme_name_Sawasa water supoly &lt;int&gt; | scheme_name_Segese Pipe scheme &lt;int&gt; | scheme_name_Segs &lt;int&gt; | scheme_name_Sere natural spring &lt;int&gt; | scheme_name_Sinohydro &lt;int&gt; | scheme_name_Songambele azimio wate &lt;int&gt; | scheme_name_Tala &lt;int&gt; | scheme_name_Tanzania and Egypt &lt;int&gt; | scheme_name_Tewe water supply &lt;int&gt; | scheme_name_Thaw &lt;int&gt; | scheme_name_TLMP &lt;int&gt; | scheme_name_TM Namwe &lt;int&gt; | scheme_name_Uhindi water supply &lt;int&gt; | scheme_name_UPPER RUVU &lt;int&gt; | scheme_name_Uwamalu &lt;int&gt; | scheme_name_Uzizi Water Supply &lt;int&gt; | scheme_name_VIFAFI &lt;int&gt; | scheme_name_Village water supplying &lt;int&gt; | scheme_name_Water  Aid &lt;int&gt; | scheme_name_water supply in Kalebejo &lt;int&gt; | scheme_name_WeKULE &lt;int&gt; | scheme_name_Welei water supply &lt;int&gt; |\n",
       "|---|---|---|---|---|---|---|---|---|---|---|---|---|---|---|---|---|---|---|---|---|---|---|---|---|---|---|---|---|---|---|---|---|---|---|---|---|---|---|---|---|---|---|---|---|---|---|---|---|---|---|---|---|---|---|---|---|---|---|---|---|---|---|---|---|---|---|---|---|---|---|---|---|---|---|---|---|---|---|---|---|---|---|---|---|---|---|---|---|---|---|---|---|---|---|---|---|---|---|---|---|---|\n",
       "| 1 | 0 | 0 | 0 | 0 | 0 | 0 | 0 | 0 | 0 | 0 | 0 | 0 | 0 | 0 | 0 | 0 | 0 | 0 | 0 | 0 | 0 | 0 | 0 | 0 | 0 | 0 | 0 | 0 | 0 | 0 | 0 | 0 | 0 | 0 | 0 | 0 | 0 | 0 | 0 | 0 | 0 | 0 | 0 | 0 | 0 | 0 | 0 | 0 | 0 | 0 | ⋯ | 0 | 0 | 0 | 0 | 0 | 0 | 0 | 0 | 0 | 0 | 0 | 0 | 0 | 0 | 0 | 0 | 0 | 0 | 0 | 0 | 0 | 0 | 0 | 0 | 0 | 0 | 0 | 0 | 0 | 0 | 0 | 0 | 0 | 0 | 0 | 0 | 0 | 0 | 0 | 0 | 0 | 0 | 0 | 0 | 0 | 0 | 0 | 0 | 0 | 0 |\n",
       "| 2 | 0 | 0 | 0 | 0 | 0 | 0 | 0 | 0 | 0 | 0 | 0 | 0 | 0 | 0 | 0 | 0 | 0 | 0 | 0 | 0 | 0 | 0 | 0 | 0 | 0 | 0 | 0 | 0 | 0 | 0 | 0 | 0 | 0 | 0 | 0 | 0 | 0 | 0 | 0 | 0 | 0 | 0 | 0 | 0 | 0 | 0 | 0 | 0 | 0 | 0 | ⋯ | 0 | 0 | 0 | 0 | 0 | 0 | 0 | 0 | 0 | 0 | 0 | 0 | 0 | 0 | 0 | 0 | 0 | 0 | 0 | 0 | 0 | 0 | 0 | 0 | 0 | 0 | 0 | 0 | 0 | 0 | 0 | 0 | 0 | 0 | 0 | 0 | 0 | 0 | 0 | 0 | 0 | 0 | 0 | 0 | 0 | 0 | 0 | 0 | 0 | 0 |\n",
       "\n"
      ],
      "text/plain": [
       "  funder_ funder_0 funder_A/co Germany funder_Aar funder_Abas Ka funder_Abasia\n",
       "1 0       0        0                   0          0              0            \n",
       "2 0       0        0                   0          0              0            \n",
       "  funder_Abc-ihushi Development Cent funder_Abd funder_Abdala funder_Abddwe\n",
       "1 0                                  0          0             0            \n",
       "2 0                                  0          0             0            \n",
       "  funder_Abdul funder_Abood funder_Abs funder_Aco/germany funder_Acord\n",
       "1 0            0            0          0                  0           \n",
       "2 0            0            0          0                  0           \n",
       "  funder_Acord Ngo funder_Acra funder_Act funder_Act Mara funder_Action Aid\n",
       "1 0                0           0          0               0                \n",
       "2 0                0           0          0               0                \n",
       "  funder_Action Contre La Faim funder_Action In A funder_Adap funder_Adb\n",
       "1 0                            0                  0           0         \n",
       "2 0                            0                  0           0         \n",
       "  funder_Adf funder_Adp funder_Adp Bungu funder_Adp Mombo funder_Adp/w\n",
       "1 0          0          0                0                0           \n",
       "2 0          0          0                0                0           \n",
       "  funder_Adra funder_Af funder_Afdp funder_Afric funder_Africa\n",
       "1 0           0         0           0            0            \n",
       "2 0           0         0           0            0            \n",
       "  funder_Africa 2000 Network/undp funder_Africa Amini Alama\n",
       "1 0                               0                        \n",
       "2 0                               0                        \n",
       "  funder_Africa Project Ev Germany funder_African funder_African 2000 Network\n",
       "1 0                                0              0                          \n",
       "2 0                                0              0                          \n",
       "  funder_African Barrick Gold funder_African Development Bank\n",
       "1 0                           0                              \n",
       "2 0                           0                              \n",
       "  funder_African Development Foundation funder_African Muslim Agency\n",
       "1 0                                     0                           \n",
       "2 0                                     0                           \n",
       "  funder_African Realief Committe Of Ku funder_African Reflections Foundation\n",
       "1 0                                     0                                    \n",
       "2 0                                     0                                    \n",
       "  funder_African Relie funder_Africaone Ltd funder_Africare\n",
       "1 0                    0                    0              \n",
       "2 0                    0                    0              \n",
       "  funder_Afriican Reli funder_Afroz Ismail ⋯ scheme_name_Mwaboza\n",
       "1 0                    0                   ⋯ 0                  \n",
       "2 0                    0                   ⋯ 0                  \n",
       "  scheme_name_Mwakikonge Dam scheme_name_Mwamagembe windmill piped scheme\n",
       "1 0                          0                                           \n",
       "2 0                          0                                           \n",
       "  scheme_name_Mwarasi scheme_name_Mwilamb scheme_name_Naliendele\n",
       "1 0                   0                   0                     \n",
       "2 0                   0                   0                     \n",
       "  scheme_name_Naluwale Mkwajuni Water Supply scheme_name_Nandagala\n",
       "1 0                                          0                    \n",
       "2 0                                          0                    \n",
       "  scheme_name_Nanganga scheme_name_NDEB scheme_name_Ndoleleji piped scheme\n",
       "1 0                    0                0                                 \n",
       "2 0                    0                0                                 \n",
       "  scheme_name_Ndoleleji windmill piped scheme scheme_name_New Keni water supply\n",
       "1 0                                           0                                \n",
       "2 0                                           0                                \n",
       "  scheme_name_Ng'ang scheme_name_Ngha scheme_name_Njinjo Water supply\n",
       "1 0                  0                0                              \n",
       "2 0                  0                0                              \n",
       "  scheme_name_Nkalakala water supply scheme_name_Nyalusangi spring source\n",
       "1 0                                  0                                   \n",
       "2 0                                  0                                   \n",
       "  scheme_name_Nyampa A scheme_name_NYamtukuza\n",
       "1 0                    0                     \n",
       "2 0                    0                     \n",
       "  scheme_name_Nyamwaga/ keisangura water  suplly scheme_name_Pump House Sanungu\n",
       "1 0                                              0                             \n",
       "2 0                                              0                             \n",
       "  scheme_name_Pung scheme_name_requires good management scheme_name_River Zigi\n",
       "1 0                0                                    0                     \n",
       "2 0                0                                    0                     \n",
       "  scheme_name_Rumashi  gravity water supply scheme_name_Rungwa water supply\n",
       "1 0                                         0                              \n",
       "2 0                                         0                              \n",
       "  scheme_name_Sanga  piped scheme scheme_name_Sawasa water supoly\n",
       "1 0                               0                              \n",
       "2 0                               0                              \n",
       "  scheme_name_Segese Pipe scheme scheme_name_Segs\n",
       "1 0                              0               \n",
       "2 0                              0               \n",
       "  scheme_name_Sere natural spring scheme_name_Sinohydro\n",
       "1 0                               0                    \n",
       "2 0                               0                    \n",
       "  scheme_name_Songambele azimio wate scheme_name_Tala\n",
       "1 0                                  0               \n",
       "2 0                                  0               \n",
       "  scheme_name_Tanzania and Egypt scheme_name_Tewe water supply scheme_name_Thaw\n",
       "1 0                              0                             0               \n",
       "2 0                              0                             0               \n",
       "  scheme_name_TLMP scheme_name_TM Namwe scheme_name_Uhindi water supply\n",
       "1 0                0                    0                              \n",
       "2 0                0                    0                              \n",
       "  scheme_name_UPPER RUVU scheme_name_Uwamalu scheme_name_Uzizi Water Supply\n",
       "1 0                      0                   0                             \n",
       "2 0                      0                   0                             \n",
       "  scheme_name_VIFAFI scheme_name_Village water supplying scheme_name_Water  Aid\n",
       "1 0                  0                                   0                     \n",
       "2 0                  0                                   0                     \n",
       "  scheme_name_water supply in Kalebejo scheme_name_WeKULE\n",
       "1 0                                    0                 \n",
       "2 0                                    0                 \n",
       "  scheme_name_Welei water supply\n",
       "1 0                             \n",
       "2 0                             "
      ]
     },
     "metadata": {},
     "output_type": "display_data"
    },
    {
     "data": {
      "text/html": [
       "<style>\n",
       ".list-inline {list-style: none; margin:0; padding: 0}\n",
       ".list-inline>li {display: inline-block}\n",
       ".list-inline>li:not(:last-child)::after {content: \"\\00b7\"; padding: 0 .5ex}\n",
       "</style>\n",
       "<ol class=list-inline><li>74250</li><li>30</li></ol>\n"
      ],
      "text/latex": [
       "\\begin{enumerate*}\n",
       "\\item 74250\n",
       "\\item 30\n",
       "\\end{enumerate*}\n"
      ],
      "text/markdown": [
       "1. 74250\n",
       "2. 30\n",
       "\n",
       "\n"
      ],
      "text/plain": [
       "[1] 74250    30"
      ]
     },
     "metadata": {},
     "output_type": "display_data"
    },
    {
     "data": {
      "text/html": [
       "<style>\n",
       ".list-inline {list-style: none; margin:0; padding: 0}\n",
       ".list-inline>li {display: inline-block}\n",
       ".list-inline>li:not(:last-child)::after {content: \"\\00b7\"; padding: 0 .5ex}\n",
       "</style>\n",
       "<ol class=list-inline><li>59400</li><li>30</li></ol>\n"
      ],
      "text/latex": [
       "\\begin{enumerate*}\n",
       "\\item 59400\n",
       "\\item 30\n",
       "\\end{enumerate*}\n"
      ],
      "text/markdown": [
       "1. 59400\n",
       "2. 30\n",
       "\n",
       "\n"
      ],
      "text/plain": [
       "[1] 59400    30"
      ]
     },
     "metadata": {},
     "output_type": "display_data"
    }
   ],
   "source": [
    "library(dummies)\n",
    "\n",
    "total_data <- rbind(training_set_values,test_set_values) # merge train and test to make dummies variable\n",
    "\n",
    "factor_variables <- which(sapply(total_data[1,],class)==\"factor\") # take only factor variable\n",
    "data_fact <- total_data[,factor_variables]\n",
    "\n",
    "only_num_var <- total_data[,-factor_variables]\n",
    "\n",
    "variables_to_keep <- c(\"funder\",\"scheme_name\") # variable to transform\n",
    "\n",
    "data_factor_onehot <- dummy.data.frame(data_fact[,variables_to_keep], sep=\"_\")\n",
    "\n",
    "\n",
    "data_factor_onehot[1:2,]\n",
    "\n",
    "dim(total_data)\n",
    "dim(training_set_values)\n",
    "\n",
    "total_with_dummies <- cbind(only_num_var,data_factor_onehot)\n",
    "\n",
    "# resplit data\n",
    "# data_train\n",
    "data_train <- total_with_dummies[1:59400,]\n",
    "data_train <- cbind(data_train, training_set_labels[2])\n",
    "\n",
    "\n",
    "# data_test\n",
    "data_test <- total_with_dummies[59401:74250,]\n"
   ]
  },
  {
   "cell_type": "code",
   "execution_count": 18,
   "id": "f6011ef3",
   "metadata": {},
   "outputs": [
    {
     "data": {
      "text/html": [
       "<table class=\"dataframe\">\n",
       "<caption>A data.frame: 6 × 5020</caption>\n",
       "<thead>\n",
       "\t<tr><th></th><th scope=col>id</th><th scope=col>amount_tsh</th><th scope=col>gps_height</th><th scope=col>longitude</th><th scope=col>latitude</th><th scope=col>region_code</th><th scope=col>district_code</th><th scope=col>population</th><th scope=col>construction_year</th><th scope=col>funder_</th><th scope=col>funder_0</th><th scope=col>funder_A.co_Germany</th><th scope=col>funder_Aar</th><th scope=col>funder_Abas_Ka</th><th scope=col>funder_Abasia</th><th scope=col>funder_Abc.ihushi_Development_Cent</th><th scope=col>funder_Abd</th><th scope=col>funder_Abdala</th><th scope=col>funder_Abddwe</th><th scope=col>funder_Abdul</th><th scope=col>funder_Abood</th><th scope=col>funder_Abs</th><th scope=col>funder_Aco.germany</th><th scope=col>funder_Acord</th><th scope=col>funder_Acord_Ngo</th><th scope=col>funder_Acra</th><th scope=col>funder_Act</th><th scope=col>funder_Act_Mara</th><th scope=col>funder_Action_Aid</th><th scope=col>funder_Action_Contre_La_Faim</th><th scope=col>funder_Action_In_A</th><th scope=col>funder_Adap</th><th scope=col>funder_Adb</th><th scope=col>funder_Adf</th><th scope=col>funder_Adp</th><th scope=col>funder_Adp_Bungu</th><th scope=col>funder_Adp_Mombo</th><th scope=col>funder_Adp.w</th><th scope=col>funder_Adra</th><th scope=col>funder_Af</th><th scope=col>funder_Afdp</th><th scope=col>funder_Afric</th><th scope=col>funder_Africa</th><th scope=col>funder_Africa_2000_Network.undp</th><th scope=col>funder_Africa_Amini_Alama</th><th scope=col>funder_Africa_Project_Ev_Germany</th><th scope=col>funder_African</th><th scope=col>funder_African_2000_Network</th><th scope=col>funder_African_Barrick_Gold</th><th scope=col>funder_African_Development_Bank</th><th scope=col>⋯</th><th scope=col>scheme_name_Mwakikonge_Dam</th><th scope=col>scheme_name_Mwamagembe_windmill_piped_scheme</th><th scope=col>scheme_name_Mwarasi</th><th scope=col>scheme_name_Mwilamb</th><th scope=col>scheme_name_Naliendele</th><th scope=col>scheme_name_Naluwale_Mkwajuni_Water_Supply</th><th scope=col>scheme_name_Nandagala</th><th scope=col>scheme_name_Nanganga</th><th scope=col>scheme_name_NDEB</th><th scope=col>scheme_name_Ndoleleji_piped_scheme</th><th scope=col>scheme_name_Ndoleleji_windmill_piped_scheme</th><th scope=col>scheme_name_New_Keni_water_supply</th><th scope=col>scheme_name_Ng.ang</th><th scope=col>scheme_name_Ngha</th><th scope=col>scheme_name_Njinjo_Water_supply</th><th scope=col>scheme_name_Nkalakala_water_supply</th><th scope=col>scheme_name_Nyalusangi_spring_source</th><th scope=col>scheme_name_Nyampa_A</th><th scope=col>scheme_name_NYamtukuza</th><th scope=col>scheme_name_Nyamwaga._keisangura_water__suplly</th><th scope=col>scheme_name_Pump_House_Sanungu</th><th scope=col>scheme_name_Pung</th><th scope=col>scheme_name_requires_good_management</th><th scope=col>scheme_name_River_Zigi</th><th scope=col>scheme_name_Rumashi__gravity_water_supply</th><th scope=col>scheme_name_Rungwa_water_supply</th><th scope=col>scheme_name_Sanga__piped_scheme</th><th scope=col>scheme_name_Sawasa_water_supoly</th><th scope=col>scheme_name_Segese_Pipe_scheme</th><th scope=col>scheme_name_Segs</th><th scope=col>scheme_name_Sere_natural_spring</th><th scope=col>scheme_name_Sinohydro</th><th scope=col>scheme_name_Songambele_azimio_wate</th><th scope=col>scheme_name_Tala</th><th scope=col>scheme_name_Tanzania_and_Egypt</th><th scope=col>scheme_name_Tewe_water_supply</th><th scope=col>scheme_name_Thaw</th><th scope=col>scheme_name_TLMP</th><th scope=col>scheme_name_TM_Namwe</th><th scope=col>scheme_name_Uhindi_water_supply</th><th scope=col>scheme_name_UPPER_RUVU</th><th scope=col>scheme_name_Uwamalu</th><th scope=col>scheme_name_Uzizi_Water_Supply</th><th scope=col>scheme_name_VIFAFI</th><th scope=col>scheme_name_Village_water_supplying</th><th scope=col>scheme_name_Water__Aid</th><th scope=col>scheme_name_water_supply_in_Kalebejo</th><th scope=col>scheme_name_WeKULE</th><th scope=col>scheme_name_Welei_water_supply</th><th scope=col>status_group</th></tr>\n",
       "\t<tr><th></th><th scope=col>&lt;int&gt;</th><th scope=col>&lt;dbl&gt;</th><th scope=col>&lt;int&gt;</th><th scope=col>&lt;dbl&gt;</th><th scope=col>&lt;dbl&gt;</th><th scope=col>&lt;int&gt;</th><th scope=col>&lt;int&gt;</th><th scope=col>&lt;int&gt;</th><th scope=col>&lt;int&gt;</th><th scope=col>&lt;int&gt;</th><th scope=col>&lt;int&gt;</th><th scope=col>&lt;int&gt;</th><th scope=col>&lt;int&gt;</th><th scope=col>&lt;int&gt;</th><th scope=col>&lt;int&gt;</th><th scope=col>&lt;int&gt;</th><th scope=col>&lt;int&gt;</th><th scope=col>&lt;int&gt;</th><th scope=col>&lt;int&gt;</th><th scope=col>&lt;int&gt;</th><th scope=col>&lt;int&gt;</th><th scope=col>&lt;int&gt;</th><th scope=col>&lt;int&gt;</th><th scope=col>&lt;int&gt;</th><th scope=col>&lt;int&gt;</th><th scope=col>&lt;int&gt;</th><th scope=col>&lt;int&gt;</th><th scope=col>&lt;int&gt;</th><th scope=col>&lt;int&gt;</th><th scope=col>&lt;int&gt;</th><th scope=col>&lt;int&gt;</th><th scope=col>&lt;int&gt;</th><th scope=col>&lt;int&gt;</th><th scope=col>&lt;int&gt;</th><th scope=col>&lt;int&gt;</th><th scope=col>&lt;int&gt;</th><th scope=col>&lt;int&gt;</th><th scope=col>&lt;int&gt;</th><th scope=col>&lt;int&gt;</th><th scope=col>&lt;int&gt;</th><th scope=col>&lt;int&gt;</th><th scope=col>&lt;int&gt;</th><th scope=col>&lt;int&gt;</th><th scope=col>&lt;int&gt;</th><th scope=col>&lt;int&gt;</th><th scope=col>&lt;int&gt;</th><th scope=col>&lt;int&gt;</th><th scope=col>&lt;int&gt;</th><th scope=col>&lt;int&gt;</th><th scope=col>&lt;int&gt;</th><th scope=col>⋯</th><th scope=col>&lt;int&gt;</th><th scope=col>&lt;int&gt;</th><th scope=col>&lt;int&gt;</th><th scope=col>&lt;int&gt;</th><th scope=col>&lt;int&gt;</th><th scope=col>&lt;int&gt;</th><th scope=col>&lt;int&gt;</th><th scope=col>&lt;int&gt;</th><th scope=col>&lt;int&gt;</th><th scope=col>&lt;int&gt;</th><th scope=col>&lt;int&gt;</th><th scope=col>&lt;int&gt;</th><th scope=col>&lt;int&gt;</th><th scope=col>&lt;int&gt;</th><th scope=col>&lt;int&gt;</th><th scope=col>&lt;int&gt;</th><th scope=col>&lt;int&gt;</th><th scope=col>&lt;int&gt;</th><th scope=col>&lt;int&gt;</th><th scope=col>&lt;int&gt;</th><th scope=col>&lt;int&gt;</th><th scope=col>&lt;int&gt;</th><th scope=col>&lt;int&gt;</th><th scope=col>&lt;int&gt;</th><th scope=col>&lt;int&gt;</th><th scope=col>&lt;int&gt;</th><th scope=col>&lt;int&gt;</th><th scope=col>&lt;int&gt;</th><th scope=col>&lt;int&gt;</th><th scope=col>&lt;int&gt;</th><th scope=col>&lt;int&gt;</th><th scope=col>&lt;int&gt;</th><th scope=col>&lt;int&gt;</th><th scope=col>&lt;int&gt;</th><th scope=col>&lt;int&gt;</th><th scope=col>&lt;int&gt;</th><th scope=col>&lt;int&gt;</th><th scope=col>&lt;int&gt;</th><th scope=col>&lt;int&gt;</th><th scope=col>&lt;int&gt;</th><th scope=col>&lt;int&gt;</th><th scope=col>&lt;int&gt;</th><th scope=col>&lt;int&gt;</th><th scope=col>&lt;int&gt;</th><th scope=col>&lt;int&gt;</th><th scope=col>&lt;int&gt;</th><th scope=col>&lt;int&gt;</th><th scope=col>&lt;int&gt;</th><th scope=col>&lt;int&gt;</th><th scope=col>&lt;fct&gt;</th></tr>\n",
       "</thead>\n",
       "<tbody>\n",
       "\t<tr><th scope=row>1</th><td>69572</td><td>6000</td><td>1390</td><td>34.93809</td><td> -9.856322</td><td>11</td><td> 5</td><td>109</td><td>1999</td><td>0</td><td>0</td><td>0</td><td>0</td><td>0</td><td>0</td><td>0</td><td>0</td><td>0</td><td>0</td><td>0</td><td>0</td><td>0</td><td>0</td><td>0</td><td>0</td><td>0</td><td>0</td><td>0</td><td>0</td><td>0</td><td>0</td><td>0</td><td>0</td><td>0</td><td>0</td><td>0</td><td>0</td><td>0</td><td>0</td><td>0</td><td>0</td><td>0</td><td>0</td><td>0</td><td>0</td><td>0</td><td>0</td><td>0</td><td>0</td><td>0</td><td>⋯</td><td>0</td><td>0</td><td>0</td><td>0</td><td>0</td><td>0</td><td>0</td><td>0</td><td>0</td><td>0</td><td>0</td><td>0</td><td>0</td><td>0</td><td>0</td><td>0</td><td>0</td><td>0</td><td>0</td><td>0</td><td>0</td><td>0</td><td>0</td><td>0</td><td>0</td><td>0</td><td>0</td><td>0</td><td>0</td><td>0</td><td>0</td><td>0</td><td>0</td><td>0</td><td>0</td><td>0</td><td>0</td><td>0</td><td>0</td><td>0</td><td>0</td><td>0</td><td>0</td><td>0</td><td>0</td><td>0</td><td>0</td><td>0</td><td>0</td><td>functional    </td></tr>\n",
       "\t<tr><th scope=row>2</th><td> 8776</td><td>   0</td><td>1399</td><td>34.69877</td><td> -2.147466</td><td>20</td><td> 2</td><td>280</td><td>2010</td><td>0</td><td>0</td><td>0</td><td>0</td><td>0</td><td>0</td><td>0</td><td>0</td><td>0</td><td>0</td><td>0</td><td>0</td><td>0</td><td>0</td><td>0</td><td>0</td><td>0</td><td>0</td><td>0</td><td>0</td><td>0</td><td>0</td><td>0</td><td>0</td><td>0</td><td>0</td><td>0</td><td>0</td><td>0</td><td>0</td><td>0</td><td>0</td><td>0</td><td>0</td><td>0</td><td>0</td><td>0</td><td>0</td><td>0</td><td>0</td><td>0</td><td>⋯</td><td>0</td><td>0</td><td>0</td><td>0</td><td>0</td><td>0</td><td>0</td><td>0</td><td>0</td><td>0</td><td>0</td><td>0</td><td>0</td><td>0</td><td>0</td><td>0</td><td>0</td><td>0</td><td>0</td><td>0</td><td>0</td><td>0</td><td>0</td><td>0</td><td>0</td><td>0</td><td>0</td><td>0</td><td>0</td><td>0</td><td>0</td><td>0</td><td>0</td><td>0</td><td>0</td><td>0</td><td>0</td><td>0</td><td>0</td><td>0</td><td>0</td><td>0</td><td>0</td><td>0</td><td>0</td><td>0</td><td>0</td><td>0</td><td>0</td><td>functional    </td></tr>\n",
       "\t<tr><th scope=row>3</th><td>34310</td><td>  25</td><td> 686</td><td>37.46066</td><td> -3.821329</td><td>21</td><td> 4</td><td>250</td><td>2009</td><td>0</td><td>0</td><td>0</td><td>0</td><td>0</td><td>0</td><td>0</td><td>0</td><td>0</td><td>0</td><td>0</td><td>0</td><td>0</td><td>0</td><td>0</td><td>0</td><td>0</td><td>0</td><td>0</td><td>0</td><td>0</td><td>0</td><td>0</td><td>0</td><td>0</td><td>0</td><td>0</td><td>0</td><td>0</td><td>0</td><td>0</td><td>0</td><td>0</td><td>0</td><td>0</td><td>0</td><td>0</td><td>0</td><td>0</td><td>0</td><td>0</td><td>⋯</td><td>0</td><td>0</td><td>0</td><td>0</td><td>0</td><td>0</td><td>0</td><td>0</td><td>0</td><td>0</td><td>0</td><td>0</td><td>0</td><td>0</td><td>0</td><td>0</td><td>0</td><td>0</td><td>0</td><td>0</td><td>0</td><td>0</td><td>0</td><td>0</td><td>0</td><td>0</td><td>0</td><td>0</td><td>0</td><td>0</td><td>0</td><td>0</td><td>0</td><td>0</td><td>0</td><td>0</td><td>0</td><td>0</td><td>0</td><td>0</td><td>0</td><td>0</td><td>0</td><td>0</td><td>0</td><td>0</td><td>0</td><td>0</td><td>0</td><td>functional    </td></tr>\n",
       "\t<tr><th scope=row>4</th><td>67743</td><td>   0</td><td> 263</td><td>38.48616</td><td>-11.155298</td><td>90</td><td>63</td><td> 58</td><td>1986</td><td>0</td><td>0</td><td>0</td><td>0</td><td>0</td><td>0</td><td>0</td><td>0</td><td>0</td><td>0</td><td>0</td><td>0</td><td>0</td><td>0</td><td>0</td><td>0</td><td>0</td><td>0</td><td>0</td><td>0</td><td>0</td><td>0</td><td>0</td><td>0</td><td>0</td><td>0</td><td>0</td><td>0</td><td>0</td><td>0</td><td>0</td><td>0</td><td>0</td><td>0</td><td>0</td><td>0</td><td>0</td><td>0</td><td>0</td><td>0</td><td>0</td><td>⋯</td><td>0</td><td>0</td><td>0</td><td>0</td><td>0</td><td>0</td><td>0</td><td>0</td><td>0</td><td>0</td><td>0</td><td>0</td><td>0</td><td>0</td><td>0</td><td>0</td><td>0</td><td>0</td><td>0</td><td>0</td><td>0</td><td>0</td><td>0</td><td>0</td><td>0</td><td>0</td><td>0</td><td>0</td><td>0</td><td>0</td><td>0</td><td>0</td><td>0</td><td>0</td><td>0</td><td>0</td><td>0</td><td>0</td><td>0</td><td>0</td><td>0</td><td>0</td><td>0</td><td>0</td><td>0</td><td>0</td><td>0</td><td>0</td><td>0</td><td>non functional</td></tr>\n",
       "\t<tr><th scope=row>5</th><td>19728</td><td>   0</td><td>   0</td><td>31.13085</td><td> -1.825359</td><td>18</td><td> 1</td><td>  0</td><td>   0</td><td>0</td><td>0</td><td>0</td><td>0</td><td>0</td><td>0</td><td>0</td><td>0</td><td>0</td><td>0</td><td>0</td><td>0</td><td>0</td><td>0</td><td>0</td><td>0</td><td>0</td><td>0</td><td>0</td><td>0</td><td>0</td><td>1</td><td>0</td><td>0</td><td>0</td><td>0</td><td>0</td><td>0</td><td>0</td><td>0</td><td>0</td><td>0</td><td>0</td><td>0</td><td>0</td><td>0</td><td>0</td><td>0</td><td>0</td><td>0</td><td>0</td><td>⋯</td><td>0</td><td>0</td><td>0</td><td>0</td><td>0</td><td>0</td><td>0</td><td>0</td><td>0</td><td>0</td><td>0</td><td>0</td><td>0</td><td>0</td><td>0</td><td>0</td><td>0</td><td>0</td><td>0</td><td>0</td><td>0</td><td>0</td><td>0</td><td>0</td><td>0</td><td>0</td><td>0</td><td>0</td><td>0</td><td>0</td><td>0</td><td>0</td><td>0</td><td>0</td><td>0</td><td>0</td><td>0</td><td>0</td><td>0</td><td>0</td><td>0</td><td>0</td><td>0</td><td>0</td><td>0</td><td>0</td><td>0</td><td>0</td><td>0</td><td>functional    </td></tr>\n",
       "\t<tr><th scope=row>6</th><td> 9944</td><td>  20</td><td>   0</td><td>39.17280</td><td> -4.765587</td><td> 4</td><td> 8</td><td>  1</td><td>2009</td><td>0</td><td>0</td><td>0</td><td>0</td><td>0</td><td>0</td><td>0</td><td>0</td><td>0</td><td>0</td><td>0</td><td>0</td><td>0</td><td>0</td><td>0</td><td>0</td><td>0</td><td>0</td><td>0</td><td>0</td><td>0</td><td>0</td><td>0</td><td>0</td><td>0</td><td>0</td><td>0</td><td>0</td><td>0</td><td>0</td><td>0</td><td>0</td><td>0</td><td>0</td><td>0</td><td>0</td><td>0</td><td>0</td><td>0</td><td>0</td><td>0</td><td>⋯</td><td>0</td><td>0</td><td>0</td><td>0</td><td>0</td><td>0</td><td>0</td><td>0</td><td>0</td><td>0</td><td>0</td><td>0</td><td>0</td><td>0</td><td>0</td><td>0</td><td>0</td><td>0</td><td>0</td><td>0</td><td>0</td><td>0</td><td>0</td><td>0</td><td>0</td><td>0</td><td>0</td><td>0</td><td>0</td><td>0</td><td>0</td><td>0</td><td>0</td><td>0</td><td>0</td><td>0</td><td>0</td><td>0</td><td>0</td><td>0</td><td>0</td><td>0</td><td>0</td><td>0</td><td>0</td><td>0</td><td>0</td><td>0</td><td>0</td><td>functional    </td></tr>\n",
       "</tbody>\n",
       "</table>\n"
      ],
      "text/latex": [
       "A data.frame: 6 × 5020\n",
       "\\begin{tabular}{r|lllllllllllllllllllllllllllllllllllllllllllllllllllllllllllllllllllllllllllllllllllllllllllllllllllll}\n",
       "  & id & amount\\_tsh & gps\\_height & longitude & latitude & region\\_code & district\\_code & population & construction\\_year & funder\\_ & funder\\_0 & funder\\_A.co\\_Germany & funder\\_Aar & funder\\_Abas\\_Ka & funder\\_Abasia & funder\\_Abc.ihushi\\_Development\\_Cent & funder\\_Abd & funder\\_Abdala & funder\\_Abddwe & funder\\_Abdul & funder\\_Abood & funder\\_Abs & funder\\_Aco.germany & funder\\_Acord & funder\\_Acord\\_Ngo & funder\\_Acra & funder\\_Act & funder\\_Act\\_Mara & funder\\_Action\\_Aid & funder\\_Action\\_Contre\\_La\\_Faim & funder\\_Action\\_In\\_A & funder\\_Adap & funder\\_Adb & funder\\_Adf & funder\\_Adp & funder\\_Adp\\_Bungu & funder\\_Adp\\_Mombo & funder\\_Adp.w & funder\\_Adra & funder\\_Af & funder\\_Afdp & funder\\_Afric & funder\\_Africa & funder\\_Africa\\_2000\\_Network.undp & funder\\_Africa\\_Amini\\_Alama & funder\\_Africa\\_Project\\_Ev\\_Germany & funder\\_African & funder\\_African\\_2000\\_Network & funder\\_African\\_Barrick\\_Gold & funder\\_African\\_Development\\_Bank & ⋯ & scheme\\_name\\_Mwakikonge\\_Dam & scheme\\_name\\_Mwamagembe\\_windmill\\_piped\\_scheme & scheme\\_name\\_Mwarasi & scheme\\_name\\_Mwilamb & scheme\\_name\\_Naliendele & scheme\\_name\\_Naluwale\\_Mkwajuni\\_Water\\_Supply & scheme\\_name\\_Nandagala & scheme\\_name\\_Nanganga & scheme\\_name\\_NDEB & scheme\\_name\\_Ndoleleji\\_piped\\_scheme & scheme\\_name\\_Ndoleleji\\_windmill\\_piped\\_scheme & scheme\\_name\\_New\\_Keni\\_water\\_supply & scheme\\_name\\_Ng.ang & scheme\\_name\\_Ngha & scheme\\_name\\_Njinjo\\_Water\\_supply & scheme\\_name\\_Nkalakala\\_water\\_supply & scheme\\_name\\_Nyalusangi\\_spring\\_source & scheme\\_name\\_Nyampa\\_A & scheme\\_name\\_NYamtukuza & scheme\\_name\\_Nyamwaga.\\_keisangura\\_water\\_\\_suplly & scheme\\_name\\_Pump\\_House\\_Sanungu & scheme\\_name\\_Pung & scheme\\_name\\_requires\\_good\\_management & scheme\\_name\\_River\\_Zigi & scheme\\_name\\_Rumashi\\_\\_gravity\\_water\\_supply & scheme\\_name\\_Rungwa\\_water\\_supply & scheme\\_name\\_Sanga\\_\\_piped\\_scheme & scheme\\_name\\_Sawasa\\_water\\_supoly & scheme\\_name\\_Segese\\_Pipe\\_scheme & scheme\\_name\\_Segs & scheme\\_name\\_Sere\\_natural\\_spring & scheme\\_name\\_Sinohydro & scheme\\_name\\_Songambele\\_azimio\\_wate & scheme\\_name\\_Tala & scheme\\_name\\_Tanzania\\_and\\_Egypt & scheme\\_name\\_Tewe\\_water\\_supply & scheme\\_name\\_Thaw & scheme\\_name\\_TLMP & scheme\\_name\\_TM\\_Namwe & scheme\\_name\\_Uhindi\\_water\\_supply & scheme\\_name\\_UPPER\\_RUVU & scheme\\_name\\_Uwamalu & scheme\\_name\\_Uzizi\\_Water\\_Supply & scheme\\_name\\_VIFAFI & scheme\\_name\\_Village\\_water\\_supplying & scheme\\_name\\_Water\\_\\_Aid & scheme\\_name\\_water\\_supply\\_in\\_Kalebejo & scheme\\_name\\_WeKULE & scheme\\_name\\_Welei\\_water\\_supply & status\\_group\\\\\n",
       "  & <int> & <dbl> & <int> & <dbl> & <dbl> & <int> & <int> & <int> & <int> & <int> & <int> & <int> & <int> & <int> & <int> & <int> & <int> & <int> & <int> & <int> & <int> & <int> & <int> & <int> & <int> & <int> & <int> & <int> & <int> & <int> & <int> & <int> & <int> & <int> & <int> & <int> & <int> & <int> & <int> & <int> & <int> & <int> & <int> & <int> & <int> & <int> & <int> & <int> & <int> & <int> & ⋯ & <int> & <int> & <int> & <int> & <int> & <int> & <int> & <int> & <int> & <int> & <int> & <int> & <int> & <int> & <int> & <int> & <int> & <int> & <int> & <int> & <int> & <int> & <int> & <int> & <int> & <int> & <int> & <int> & <int> & <int> & <int> & <int> & <int> & <int> & <int> & <int> & <int> & <int> & <int> & <int> & <int> & <int> & <int> & <int> & <int> & <int> & <int> & <int> & <int> & <fct>\\\\\n",
       "\\hline\n",
       "\t1 & 69572 & 6000 & 1390 & 34.93809 &  -9.856322 & 11 &  5 & 109 & 1999 & 0 & 0 & 0 & 0 & 0 & 0 & 0 & 0 & 0 & 0 & 0 & 0 & 0 & 0 & 0 & 0 & 0 & 0 & 0 & 0 & 0 & 0 & 0 & 0 & 0 & 0 & 0 & 0 & 0 & 0 & 0 & 0 & 0 & 0 & 0 & 0 & 0 & 0 & 0 & 0 & 0 & ⋯ & 0 & 0 & 0 & 0 & 0 & 0 & 0 & 0 & 0 & 0 & 0 & 0 & 0 & 0 & 0 & 0 & 0 & 0 & 0 & 0 & 0 & 0 & 0 & 0 & 0 & 0 & 0 & 0 & 0 & 0 & 0 & 0 & 0 & 0 & 0 & 0 & 0 & 0 & 0 & 0 & 0 & 0 & 0 & 0 & 0 & 0 & 0 & 0 & 0 & functional    \\\\\n",
       "\t2 &  8776 &    0 & 1399 & 34.69877 &  -2.147466 & 20 &  2 & 280 & 2010 & 0 & 0 & 0 & 0 & 0 & 0 & 0 & 0 & 0 & 0 & 0 & 0 & 0 & 0 & 0 & 0 & 0 & 0 & 0 & 0 & 0 & 0 & 0 & 0 & 0 & 0 & 0 & 0 & 0 & 0 & 0 & 0 & 0 & 0 & 0 & 0 & 0 & 0 & 0 & 0 & 0 & ⋯ & 0 & 0 & 0 & 0 & 0 & 0 & 0 & 0 & 0 & 0 & 0 & 0 & 0 & 0 & 0 & 0 & 0 & 0 & 0 & 0 & 0 & 0 & 0 & 0 & 0 & 0 & 0 & 0 & 0 & 0 & 0 & 0 & 0 & 0 & 0 & 0 & 0 & 0 & 0 & 0 & 0 & 0 & 0 & 0 & 0 & 0 & 0 & 0 & 0 & functional    \\\\\n",
       "\t3 & 34310 &   25 &  686 & 37.46066 &  -3.821329 & 21 &  4 & 250 & 2009 & 0 & 0 & 0 & 0 & 0 & 0 & 0 & 0 & 0 & 0 & 0 & 0 & 0 & 0 & 0 & 0 & 0 & 0 & 0 & 0 & 0 & 0 & 0 & 0 & 0 & 0 & 0 & 0 & 0 & 0 & 0 & 0 & 0 & 0 & 0 & 0 & 0 & 0 & 0 & 0 & 0 & ⋯ & 0 & 0 & 0 & 0 & 0 & 0 & 0 & 0 & 0 & 0 & 0 & 0 & 0 & 0 & 0 & 0 & 0 & 0 & 0 & 0 & 0 & 0 & 0 & 0 & 0 & 0 & 0 & 0 & 0 & 0 & 0 & 0 & 0 & 0 & 0 & 0 & 0 & 0 & 0 & 0 & 0 & 0 & 0 & 0 & 0 & 0 & 0 & 0 & 0 & functional    \\\\\n",
       "\t4 & 67743 &    0 &  263 & 38.48616 & -11.155298 & 90 & 63 &  58 & 1986 & 0 & 0 & 0 & 0 & 0 & 0 & 0 & 0 & 0 & 0 & 0 & 0 & 0 & 0 & 0 & 0 & 0 & 0 & 0 & 0 & 0 & 0 & 0 & 0 & 0 & 0 & 0 & 0 & 0 & 0 & 0 & 0 & 0 & 0 & 0 & 0 & 0 & 0 & 0 & 0 & 0 & ⋯ & 0 & 0 & 0 & 0 & 0 & 0 & 0 & 0 & 0 & 0 & 0 & 0 & 0 & 0 & 0 & 0 & 0 & 0 & 0 & 0 & 0 & 0 & 0 & 0 & 0 & 0 & 0 & 0 & 0 & 0 & 0 & 0 & 0 & 0 & 0 & 0 & 0 & 0 & 0 & 0 & 0 & 0 & 0 & 0 & 0 & 0 & 0 & 0 & 0 & non functional\\\\\n",
       "\t5 & 19728 &    0 &    0 & 31.13085 &  -1.825359 & 18 &  1 &   0 &    0 & 0 & 0 & 0 & 0 & 0 & 0 & 0 & 0 & 0 & 0 & 0 & 0 & 0 & 0 & 0 & 0 & 0 & 0 & 0 & 0 & 0 & 1 & 0 & 0 & 0 & 0 & 0 & 0 & 0 & 0 & 0 & 0 & 0 & 0 & 0 & 0 & 0 & 0 & 0 & 0 & 0 & ⋯ & 0 & 0 & 0 & 0 & 0 & 0 & 0 & 0 & 0 & 0 & 0 & 0 & 0 & 0 & 0 & 0 & 0 & 0 & 0 & 0 & 0 & 0 & 0 & 0 & 0 & 0 & 0 & 0 & 0 & 0 & 0 & 0 & 0 & 0 & 0 & 0 & 0 & 0 & 0 & 0 & 0 & 0 & 0 & 0 & 0 & 0 & 0 & 0 & 0 & functional    \\\\\n",
       "\t6 &  9944 &   20 &    0 & 39.17280 &  -4.765587 &  4 &  8 &   1 & 2009 & 0 & 0 & 0 & 0 & 0 & 0 & 0 & 0 & 0 & 0 & 0 & 0 & 0 & 0 & 0 & 0 & 0 & 0 & 0 & 0 & 0 & 0 & 0 & 0 & 0 & 0 & 0 & 0 & 0 & 0 & 0 & 0 & 0 & 0 & 0 & 0 & 0 & 0 & 0 & 0 & 0 & ⋯ & 0 & 0 & 0 & 0 & 0 & 0 & 0 & 0 & 0 & 0 & 0 & 0 & 0 & 0 & 0 & 0 & 0 & 0 & 0 & 0 & 0 & 0 & 0 & 0 & 0 & 0 & 0 & 0 & 0 & 0 & 0 & 0 & 0 & 0 & 0 & 0 & 0 & 0 & 0 & 0 & 0 & 0 & 0 & 0 & 0 & 0 & 0 & 0 & 0 & functional    \\\\\n",
       "\\end{tabular}\n"
      ],
      "text/markdown": [
       "\n",
       "A data.frame: 6 × 5020\n",
       "\n",
       "| <!--/--> | id &lt;int&gt; | amount_tsh &lt;dbl&gt; | gps_height &lt;int&gt; | longitude &lt;dbl&gt; | latitude &lt;dbl&gt; | region_code &lt;int&gt; | district_code &lt;int&gt; | population &lt;int&gt; | construction_year &lt;int&gt; | funder_ &lt;int&gt; | funder_0 &lt;int&gt; | funder_A.co_Germany &lt;int&gt; | funder_Aar &lt;int&gt; | funder_Abas_Ka &lt;int&gt; | funder_Abasia &lt;int&gt; | funder_Abc.ihushi_Development_Cent &lt;int&gt; | funder_Abd &lt;int&gt; | funder_Abdala &lt;int&gt; | funder_Abddwe &lt;int&gt; | funder_Abdul &lt;int&gt; | funder_Abood &lt;int&gt; | funder_Abs &lt;int&gt; | funder_Aco.germany &lt;int&gt; | funder_Acord &lt;int&gt; | funder_Acord_Ngo &lt;int&gt; | funder_Acra &lt;int&gt; | funder_Act &lt;int&gt; | funder_Act_Mara &lt;int&gt; | funder_Action_Aid &lt;int&gt; | funder_Action_Contre_La_Faim &lt;int&gt; | funder_Action_In_A &lt;int&gt; | funder_Adap &lt;int&gt; | funder_Adb &lt;int&gt; | funder_Adf &lt;int&gt; | funder_Adp &lt;int&gt; | funder_Adp_Bungu &lt;int&gt; | funder_Adp_Mombo &lt;int&gt; | funder_Adp.w &lt;int&gt; | funder_Adra &lt;int&gt; | funder_Af &lt;int&gt; | funder_Afdp &lt;int&gt; | funder_Afric &lt;int&gt; | funder_Africa &lt;int&gt; | funder_Africa_2000_Network.undp &lt;int&gt; | funder_Africa_Amini_Alama &lt;int&gt; | funder_Africa_Project_Ev_Germany &lt;int&gt; | funder_African &lt;int&gt; | funder_African_2000_Network &lt;int&gt; | funder_African_Barrick_Gold &lt;int&gt; | funder_African_Development_Bank &lt;int&gt; | ⋯ ⋯ | scheme_name_Mwakikonge_Dam &lt;int&gt; | scheme_name_Mwamagembe_windmill_piped_scheme &lt;int&gt; | scheme_name_Mwarasi &lt;int&gt; | scheme_name_Mwilamb &lt;int&gt; | scheme_name_Naliendele &lt;int&gt; | scheme_name_Naluwale_Mkwajuni_Water_Supply &lt;int&gt; | scheme_name_Nandagala &lt;int&gt; | scheme_name_Nanganga &lt;int&gt; | scheme_name_NDEB &lt;int&gt; | scheme_name_Ndoleleji_piped_scheme &lt;int&gt; | scheme_name_Ndoleleji_windmill_piped_scheme &lt;int&gt; | scheme_name_New_Keni_water_supply &lt;int&gt; | scheme_name_Ng.ang &lt;int&gt; | scheme_name_Ngha &lt;int&gt; | scheme_name_Njinjo_Water_supply &lt;int&gt; | scheme_name_Nkalakala_water_supply &lt;int&gt; | scheme_name_Nyalusangi_spring_source &lt;int&gt; | scheme_name_Nyampa_A &lt;int&gt; | scheme_name_NYamtukuza &lt;int&gt; | scheme_name_Nyamwaga._keisangura_water__suplly &lt;int&gt; | scheme_name_Pump_House_Sanungu &lt;int&gt; | scheme_name_Pung &lt;int&gt; | scheme_name_requires_good_management &lt;int&gt; | scheme_name_River_Zigi &lt;int&gt; | scheme_name_Rumashi__gravity_water_supply &lt;int&gt; | scheme_name_Rungwa_water_supply &lt;int&gt; | scheme_name_Sanga__piped_scheme &lt;int&gt; | scheme_name_Sawasa_water_supoly &lt;int&gt; | scheme_name_Segese_Pipe_scheme &lt;int&gt; | scheme_name_Segs &lt;int&gt; | scheme_name_Sere_natural_spring &lt;int&gt; | scheme_name_Sinohydro &lt;int&gt; | scheme_name_Songambele_azimio_wate &lt;int&gt; | scheme_name_Tala &lt;int&gt; | scheme_name_Tanzania_and_Egypt &lt;int&gt; | scheme_name_Tewe_water_supply &lt;int&gt; | scheme_name_Thaw &lt;int&gt; | scheme_name_TLMP &lt;int&gt; | scheme_name_TM_Namwe &lt;int&gt; | scheme_name_Uhindi_water_supply &lt;int&gt; | scheme_name_UPPER_RUVU &lt;int&gt; | scheme_name_Uwamalu &lt;int&gt; | scheme_name_Uzizi_Water_Supply &lt;int&gt; | scheme_name_VIFAFI &lt;int&gt; | scheme_name_Village_water_supplying &lt;int&gt; | scheme_name_Water__Aid &lt;int&gt; | scheme_name_water_supply_in_Kalebejo &lt;int&gt; | scheme_name_WeKULE &lt;int&gt; | scheme_name_Welei_water_supply &lt;int&gt; | status_group &lt;fct&gt; |\n",
       "|---|---|---|---|---|---|---|---|---|---|---|---|---|---|---|---|---|---|---|---|---|---|---|---|---|---|---|---|---|---|---|---|---|---|---|---|---|---|---|---|---|---|---|---|---|---|---|---|---|---|---|---|---|---|---|---|---|---|---|---|---|---|---|---|---|---|---|---|---|---|---|---|---|---|---|---|---|---|---|---|---|---|---|---|---|---|---|---|---|---|---|---|---|---|---|---|---|---|---|---|---|---|\n",
       "| 1 | 69572 | 6000 | 1390 | 34.93809 |  -9.856322 | 11 |  5 | 109 | 1999 | 0 | 0 | 0 | 0 | 0 | 0 | 0 | 0 | 0 | 0 | 0 | 0 | 0 | 0 | 0 | 0 | 0 | 0 | 0 | 0 | 0 | 0 | 0 | 0 | 0 | 0 | 0 | 0 | 0 | 0 | 0 | 0 | 0 | 0 | 0 | 0 | 0 | 0 | 0 | 0 | 0 | ⋯ | 0 | 0 | 0 | 0 | 0 | 0 | 0 | 0 | 0 | 0 | 0 | 0 | 0 | 0 | 0 | 0 | 0 | 0 | 0 | 0 | 0 | 0 | 0 | 0 | 0 | 0 | 0 | 0 | 0 | 0 | 0 | 0 | 0 | 0 | 0 | 0 | 0 | 0 | 0 | 0 | 0 | 0 | 0 | 0 | 0 | 0 | 0 | 0 | 0 | functional     |\n",
       "| 2 |  8776 |    0 | 1399 | 34.69877 |  -2.147466 | 20 |  2 | 280 | 2010 | 0 | 0 | 0 | 0 | 0 | 0 | 0 | 0 | 0 | 0 | 0 | 0 | 0 | 0 | 0 | 0 | 0 | 0 | 0 | 0 | 0 | 0 | 0 | 0 | 0 | 0 | 0 | 0 | 0 | 0 | 0 | 0 | 0 | 0 | 0 | 0 | 0 | 0 | 0 | 0 | 0 | ⋯ | 0 | 0 | 0 | 0 | 0 | 0 | 0 | 0 | 0 | 0 | 0 | 0 | 0 | 0 | 0 | 0 | 0 | 0 | 0 | 0 | 0 | 0 | 0 | 0 | 0 | 0 | 0 | 0 | 0 | 0 | 0 | 0 | 0 | 0 | 0 | 0 | 0 | 0 | 0 | 0 | 0 | 0 | 0 | 0 | 0 | 0 | 0 | 0 | 0 | functional     |\n",
       "| 3 | 34310 |   25 |  686 | 37.46066 |  -3.821329 | 21 |  4 | 250 | 2009 | 0 | 0 | 0 | 0 | 0 | 0 | 0 | 0 | 0 | 0 | 0 | 0 | 0 | 0 | 0 | 0 | 0 | 0 | 0 | 0 | 0 | 0 | 0 | 0 | 0 | 0 | 0 | 0 | 0 | 0 | 0 | 0 | 0 | 0 | 0 | 0 | 0 | 0 | 0 | 0 | 0 | ⋯ | 0 | 0 | 0 | 0 | 0 | 0 | 0 | 0 | 0 | 0 | 0 | 0 | 0 | 0 | 0 | 0 | 0 | 0 | 0 | 0 | 0 | 0 | 0 | 0 | 0 | 0 | 0 | 0 | 0 | 0 | 0 | 0 | 0 | 0 | 0 | 0 | 0 | 0 | 0 | 0 | 0 | 0 | 0 | 0 | 0 | 0 | 0 | 0 | 0 | functional     |\n",
       "| 4 | 67743 |    0 |  263 | 38.48616 | -11.155298 | 90 | 63 |  58 | 1986 | 0 | 0 | 0 | 0 | 0 | 0 | 0 | 0 | 0 | 0 | 0 | 0 | 0 | 0 | 0 | 0 | 0 | 0 | 0 | 0 | 0 | 0 | 0 | 0 | 0 | 0 | 0 | 0 | 0 | 0 | 0 | 0 | 0 | 0 | 0 | 0 | 0 | 0 | 0 | 0 | 0 | ⋯ | 0 | 0 | 0 | 0 | 0 | 0 | 0 | 0 | 0 | 0 | 0 | 0 | 0 | 0 | 0 | 0 | 0 | 0 | 0 | 0 | 0 | 0 | 0 | 0 | 0 | 0 | 0 | 0 | 0 | 0 | 0 | 0 | 0 | 0 | 0 | 0 | 0 | 0 | 0 | 0 | 0 | 0 | 0 | 0 | 0 | 0 | 0 | 0 | 0 | non functional |\n",
       "| 5 | 19728 |    0 |    0 | 31.13085 |  -1.825359 | 18 |  1 |   0 |    0 | 0 | 0 | 0 | 0 | 0 | 0 | 0 | 0 | 0 | 0 | 0 | 0 | 0 | 0 | 0 | 0 | 0 | 0 | 0 | 0 | 0 | 1 | 0 | 0 | 0 | 0 | 0 | 0 | 0 | 0 | 0 | 0 | 0 | 0 | 0 | 0 | 0 | 0 | 0 | 0 | 0 | ⋯ | 0 | 0 | 0 | 0 | 0 | 0 | 0 | 0 | 0 | 0 | 0 | 0 | 0 | 0 | 0 | 0 | 0 | 0 | 0 | 0 | 0 | 0 | 0 | 0 | 0 | 0 | 0 | 0 | 0 | 0 | 0 | 0 | 0 | 0 | 0 | 0 | 0 | 0 | 0 | 0 | 0 | 0 | 0 | 0 | 0 | 0 | 0 | 0 | 0 | functional     |\n",
       "| 6 |  9944 |   20 |    0 | 39.17280 |  -4.765587 |  4 |  8 |   1 | 2009 | 0 | 0 | 0 | 0 | 0 | 0 | 0 | 0 | 0 | 0 | 0 | 0 | 0 | 0 | 0 | 0 | 0 | 0 | 0 | 0 | 0 | 0 | 0 | 0 | 0 | 0 | 0 | 0 | 0 | 0 | 0 | 0 | 0 | 0 | 0 | 0 | 0 | 0 | 0 | 0 | 0 | ⋯ | 0 | 0 | 0 | 0 | 0 | 0 | 0 | 0 | 0 | 0 | 0 | 0 | 0 | 0 | 0 | 0 | 0 | 0 | 0 | 0 | 0 | 0 | 0 | 0 | 0 | 0 | 0 | 0 | 0 | 0 | 0 | 0 | 0 | 0 | 0 | 0 | 0 | 0 | 0 | 0 | 0 | 0 | 0 | 0 | 0 | 0 | 0 | 0 | 0 | functional     |\n",
       "\n"
      ],
      "text/plain": [
       "  id    amount_tsh gps_height longitude latitude   region_code district_code\n",
       "1 69572 6000       1390       34.93809   -9.856322 11           5           \n",
       "2  8776    0       1399       34.69877   -2.147466 20           2           \n",
       "3 34310   25        686       37.46066   -3.821329 21           4           \n",
       "4 67743    0        263       38.48616  -11.155298 90          63           \n",
       "5 19728    0          0       31.13085   -1.825359 18           1           \n",
       "6  9944   20          0       39.17280   -4.765587  4           8           \n",
       "  population construction_year funder_ funder_0 funder_A.co_Germany funder_Aar\n",
       "1 109        1999              0       0        0                   0         \n",
       "2 280        2010              0       0        0                   0         \n",
       "3 250        2009              0       0        0                   0         \n",
       "4  58        1986              0       0        0                   0         \n",
       "5   0           0              0       0        0                   0         \n",
       "6   1        2009              0       0        0                   0         \n",
       "  funder_Abas_Ka funder_Abasia funder_Abc.ihushi_Development_Cent funder_Abd\n",
       "1 0              0             0                                  0         \n",
       "2 0              0             0                                  0         \n",
       "3 0              0             0                                  0         \n",
       "4 0              0             0                                  0         \n",
       "5 0              0             0                                  0         \n",
       "6 0              0             0                                  0         \n",
       "  funder_Abdala funder_Abddwe funder_Abdul funder_Abood funder_Abs\n",
       "1 0             0             0            0            0         \n",
       "2 0             0             0            0            0         \n",
       "3 0             0             0            0            0         \n",
       "4 0             0             0            0            0         \n",
       "5 0             0             0            0            0         \n",
       "6 0             0             0            0            0         \n",
       "  funder_Aco.germany funder_Acord funder_Acord_Ngo funder_Acra funder_Act\n",
       "1 0                  0            0                0           0         \n",
       "2 0                  0            0                0           0         \n",
       "3 0                  0            0                0           0         \n",
       "4 0                  0            0                0           0         \n",
       "5 0                  0            0                0           0         \n",
       "6 0                  0            0                0           0         \n",
       "  funder_Act_Mara funder_Action_Aid funder_Action_Contre_La_Faim\n",
       "1 0               0                 0                           \n",
       "2 0               0                 0                           \n",
       "3 0               0                 0                           \n",
       "4 0               0                 0                           \n",
       "5 0               0                 0                           \n",
       "6 0               0                 0                           \n",
       "  funder_Action_In_A funder_Adap funder_Adb funder_Adf funder_Adp\n",
       "1 0                  0           0          0          0         \n",
       "2 0                  0           0          0          0         \n",
       "3 0                  0           0          0          0         \n",
       "4 0                  0           0          0          0         \n",
       "5 1                  0           0          0          0         \n",
       "6 0                  0           0          0          0         \n",
       "  funder_Adp_Bungu funder_Adp_Mombo funder_Adp.w funder_Adra funder_Af\n",
       "1 0                0                0            0           0        \n",
       "2 0                0                0            0           0        \n",
       "3 0                0                0            0           0        \n",
       "4 0                0                0            0           0        \n",
       "5 0                0                0            0           0        \n",
       "6 0                0                0            0           0        \n",
       "  funder_Afdp funder_Afric funder_Africa funder_Africa_2000_Network.undp\n",
       "1 0           0            0             0                              \n",
       "2 0           0            0             0                              \n",
       "3 0           0            0             0                              \n",
       "4 0           0            0             0                              \n",
       "5 0           0            0             0                              \n",
       "6 0           0            0             0                              \n",
       "  funder_Africa_Amini_Alama funder_Africa_Project_Ev_Germany funder_African\n",
       "1 0                         0                                0             \n",
       "2 0                         0                                0             \n",
       "3 0                         0                                0             \n",
       "4 0                         0                                0             \n",
       "5 0                         0                                0             \n",
       "6 0                         0                                0             \n",
       "  funder_African_2000_Network funder_African_Barrick_Gold\n",
       "1 0                           0                          \n",
       "2 0                           0                          \n",
       "3 0                           0                          \n",
       "4 0                           0                          \n",
       "5 0                           0                          \n",
       "6 0                           0                          \n",
       "  funder_African_Development_Bank ⋯ scheme_name_Mwakikonge_Dam\n",
       "1 0                               ⋯ 0                         \n",
       "2 0                               ⋯ 0                         \n",
       "3 0                               ⋯ 0                         \n",
       "4 0                               ⋯ 0                         \n",
       "5 0                               ⋯ 0                         \n",
       "6 0                               ⋯ 0                         \n",
       "  scheme_name_Mwamagembe_windmill_piped_scheme scheme_name_Mwarasi\n",
       "1 0                                            0                  \n",
       "2 0                                            0                  \n",
       "3 0                                            0                  \n",
       "4 0                                            0                  \n",
       "5 0                                            0                  \n",
       "6 0                                            0                  \n",
       "  scheme_name_Mwilamb scheme_name_Naliendele\n",
       "1 0                   0                     \n",
       "2 0                   0                     \n",
       "3 0                   0                     \n",
       "4 0                   0                     \n",
       "5 0                   0                     \n",
       "6 0                   0                     \n",
       "  scheme_name_Naluwale_Mkwajuni_Water_Supply scheme_name_Nandagala\n",
       "1 0                                          0                    \n",
       "2 0                                          0                    \n",
       "3 0                                          0                    \n",
       "4 0                                          0                    \n",
       "5 0                                          0                    \n",
       "6 0                                          0                    \n",
       "  scheme_name_Nanganga scheme_name_NDEB scheme_name_Ndoleleji_piped_scheme\n",
       "1 0                    0                0                                 \n",
       "2 0                    0                0                                 \n",
       "3 0                    0                0                                 \n",
       "4 0                    0                0                                 \n",
       "5 0                    0                0                                 \n",
       "6 0                    0                0                                 \n",
       "  scheme_name_Ndoleleji_windmill_piped_scheme scheme_name_New_Keni_water_supply\n",
       "1 0                                           0                                \n",
       "2 0                                           0                                \n",
       "3 0                                           0                                \n",
       "4 0                                           0                                \n",
       "5 0                                           0                                \n",
       "6 0                                           0                                \n",
       "  scheme_name_Ng.ang scheme_name_Ngha scheme_name_Njinjo_Water_supply\n",
       "1 0                  0                0                              \n",
       "2 0                  0                0                              \n",
       "3 0                  0                0                              \n",
       "4 0                  0                0                              \n",
       "5 0                  0                0                              \n",
       "6 0                  0                0                              \n",
       "  scheme_name_Nkalakala_water_supply scheme_name_Nyalusangi_spring_source\n",
       "1 0                                  0                                   \n",
       "2 0                                  0                                   \n",
       "3 0                                  0                                   \n",
       "4 0                                  0                                   \n",
       "5 0                                  0                                   \n",
       "6 0                                  0                                   \n",
       "  scheme_name_Nyampa_A scheme_name_NYamtukuza\n",
       "1 0                    0                     \n",
       "2 0                    0                     \n",
       "3 0                    0                     \n",
       "4 0                    0                     \n",
       "5 0                    0                     \n",
       "6 0                    0                     \n",
       "  scheme_name_Nyamwaga._keisangura_water__suplly scheme_name_Pump_House_Sanungu\n",
       "1 0                                              0                             \n",
       "2 0                                              0                             \n",
       "3 0                                              0                             \n",
       "4 0                                              0                             \n",
       "5 0                                              0                             \n",
       "6 0                                              0                             \n",
       "  scheme_name_Pung scheme_name_requires_good_management scheme_name_River_Zigi\n",
       "1 0                0                                    0                     \n",
       "2 0                0                                    0                     \n",
       "3 0                0                                    0                     \n",
       "4 0                0                                    0                     \n",
       "5 0                0                                    0                     \n",
       "6 0                0                                    0                     \n",
       "  scheme_name_Rumashi__gravity_water_supply scheme_name_Rungwa_water_supply\n",
       "1 0                                         0                              \n",
       "2 0                                         0                              \n",
       "3 0                                         0                              \n",
       "4 0                                         0                              \n",
       "5 0                                         0                              \n",
       "6 0                                         0                              \n",
       "  scheme_name_Sanga__piped_scheme scheme_name_Sawasa_water_supoly\n",
       "1 0                               0                              \n",
       "2 0                               0                              \n",
       "3 0                               0                              \n",
       "4 0                               0                              \n",
       "5 0                               0                              \n",
       "6 0                               0                              \n",
       "  scheme_name_Segese_Pipe_scheme scheme_name_Segs\n",
       "1 0                              0               \n",
       "2 0                              0               \n",
       "3 0                              0               \n",
       "4 0                              0               \n",
       "5 0                              0               \n",
       "6 0                              0               \n",
       "  scheme_name_Sere_natural_spring scheme_name_Sinohydro\n",
       "1 0                               0                    \n",
       "2 0                               0                    \n",
       "3 0                               0                    \n",
       "4 0                               0                    \n",
       "5 0                               0                    \n",
       "6 0                               0                    \n",
       "  scheme_name_Songambele_azimio_wate scheme_name_Tala\n",
       "1 0                                  0               \n",
       "2 0                                  0               \n",
       "3 0                                  0               \n",
       "4 0                                  0               \n",
       "5 0                                  0               \n",
       "6 0                                  0               \n",
       "  scheme_name_Tanzania_and_Egypt scheme_name_Tewe_water_supply scheme_name_Thaw\n",
       "1 0                              0                             0               \n",
       "2 0                              0                             0               \n",
       "3 0                              0                             0               \n",
       "4 0                              0                             0               \n",
       "5 0                              0                             0               \n",
       "6 0                              0                             0               \n",
       "  scheme_name_TLMP scheme_name_TM_Namwe scheme_name_Uhindi_water_supply\n",
       "1 0                0                    0                              \n",
       "2 0                0                    0                              \n",
       "3 0                0                    0                              \n",
       "4 0                0                    0                              \n",
       "5 0                0                    0                              \n",
       "6 0                0                    0                              \n",
       "  scheme_name_UPPER_RUVU scheme_name_Uwamalu scheme_name_Uzizi_Water_Supply\n",
       "1 0                      0                   0                             \n",
       "2 0                      0                   0                             \n",
       "3 0                      0                   0                             \n",
       "4 0                      0                   0                             \n",
       "5 0                      0                   0                             \n",
       "6 0                      0                   0                             \n",
       "  scheme_name_VIFAFI scheme_name_Village_water_supplying scheme_name_Water__Aid\n",
       "1 0                  0                                   0                     \n",
       "2 0                  0                                   0                     \n",
       "3 0                  0                                   0                     \n",
       "4 0                  0                                   0                     \n",
       "5 0                  0                                   0                     \n",
       "6 0                  0                                   0                     \n",
       "  scheme_name_water_supply_in_Kalebejo scheme_name_WeKULE\n",
       "1 0                                    0                 \n",
       "2 0                                    0                 \n",
       "3 0                                    0                 \n",
       "4 0                                    0                 \n",
       "5 0                                    0                 \n",
       "6 0                                    0                 \n",
       "  scheme_name_Welei_water_supply status_group  \n",
       "1 0                              functional    \n",
       "2 0                              functional    \n",
       "3 0                              functional    \n",
       "4 0                              non functional\n",
       "5 0                              functional    \n",
       "6 0                              functional    "
      ]
     },
     "metadata": {},
     "output_type": "display_data"
    }
   ],
   "source": [
    "library(tidyverse)\n",
    "names(data_train) <- gsub(\" \", \"_\", names(data_train))\n",
    "names(data_train) <- make.names(names(data_train))\n",
    "head(data_train)"
   ]
  },
  {
   "cell_type": "code",
   "execution_count": null,
   "id": "c4f4d607",
   "metadata": {},
   "outputs": [],
   "source": [
    "#-128 54 -94\n",
    "library(randomForest)\n",
    "\n",
    "caret_model <- randomForest(status_group~., data= data_train) # what we need to change according of the model\n",
    "\n",
    "#caret_model\n",
    "\n",
    "#lm1 <- train(caret_model, data = data_test, method = 'lm')\n",
    "#rf1 <- train(caret_model, data = data_test, method = 'rf')\n",
    "\n",
    "# caret_predict_unseen\n",
    "\n",
    "# status_group <-caret_predict_unseen\n",
    "\n",
    "# caret_data_predict <- test_set_values\n",
    "\n",
    "\n",
    "# caret_data_predict <- cbind(data_predict[1],status_group)\n",
    "\n",
    "\n",
    "# caret_data_predict"
   ]
  },
  {
   "cell_type": "code",
   "execution_count": null,
   "id": "dfd17563",
   "metadata": {},
   "outputs": [],
   "source": []
  },
  {
   "cell_type": "code",
   "execution_count": null,
   "id": "42e90c52",
   "metadata": {},
   "outputs": [],
   "source": []
  },
  {
   "cell_type": "code",
   "execution_count": null,
   "id": "72360d76",
   "metadata": {},
   "outputs": [],
   "source": []
  }
 ],
 "metadata": {
  "kernelspec": {
   "display_name": "R",
   "language": "R",
   "name": "ir"
  },
  "language_info": {
   "codemirror_mode": "r",
   "file_extension": ".r",
   "mimetype": "text/x-r-source",
   "name": "R",
   "pygments_lexer": "r",
   "version": "3.6.3"
  }
 },
 "nbformat": 4,
 "nbformat_minor": 5
}

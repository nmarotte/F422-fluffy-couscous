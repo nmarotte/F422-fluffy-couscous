{
 "cells": [
  {
   "cell_type": "code",
   "execution_count": 3,
   "id": "ad1f9e53",
   "metadata": {},
   "outputs": [
    {
     "name": "stdout",
     "output_type": "stream",
     "text": [
      "[1] \"R version 4.0.5 (2021-03-31)\"\n"
     ]
    }
   ],
   "source": [
    "# install.packages('dummies')\n",
    "# install.packages('rpart')\n",
    "# install.packages('rpart.plot')\n",
    "# install.packages('nnet')\n",
    "# install.packages('randomForest')\n",
    "#install.packages('caret', dependencies = TRUE)\n",
    "library(caret)\n",
    "print(R.version$version.string)\n",
    "training_set_labels <- read.csv(file = 'data/training_set_labels.csv', stringsAsFactors = T)\n",
    "test_set_values <- read.csv(file = 'data/test_set_values.csv', stringsAsFactors = T)\n",
    "training_set_values <- read.csv(file = 'data/training_set_values.csv', stringsAsFactors = T)\n",
    "\n",
    "#training_set_labels\n",
    "#summary(test_set_values)\n",
    "\n",
    "\n"
   ]
  }
 ],
 "metadata": {
  "kernelspec": {
   "display_name": "R 3.3",
   "language": "R",
   "name": "ir33"
  },
  "language_info": {
   "codemirror_mode": "r",
   "file_extension": ".r",
   "mimetype": "text/x-r-source",
   "name": "R",
   "pygments_lexer": "r",
   "version": "4.0.5"
  }
 },
 "nbformat": 4,
 "nbformat_minor": 5
}

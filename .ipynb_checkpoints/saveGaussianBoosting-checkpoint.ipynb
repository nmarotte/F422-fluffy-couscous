{
 "cells": [
  {
   "cell_type": "code",
   "execution_count": 1,
   "metadata": {},
   "outputs": [
    {
     "name": "stderr",
     "output_type": "stream",
     "text": [
      "-- \u001b[1mAttaching packages\u001b[22m ------------------------------------------------------------------------------- tidyverse 1.3.1 --\n",
      "\n",
      "\u001b[32mv\u001b[39m \u001b[34mggplot2\u001b[39m 3.3.3     \u001b[32mv\u001b[39m \u001b[34mpurrr  \u001b[39m 0.3.4\n",
      "\u001b[32mv\u001b[39m \u001b[34mtibble \u001b[39m 3.1.1     \u001b[32mv\u001b[39m \u001b[34mdplyr  \u001b[39m 1.0.6\n",
      "\u001b[32mv\u001b[39m \u001b[34mtidyr  \u001b[39m 1.1.3     \u001b[32mv\u001b[39m \u001b[34mstringr\u001b[39m 1.4.0\n",
      "\u001b[32mv\u001b[39m \u001b[34mreadr  \u001b[39m 1.4.0     \u001b[32mv\u001b[39m \u001b[34mforcats\u001b[39m 0.5.1\n",
      "\n",
      "-- \u001b[1mConflicts\u001b[22m ---------------------------------------------------------------------------------- tidyverse_conflicts() --\n",
      "\u001b[31mx\u001b[39m \u001b[34mdplyr\u001b[39m::\u001b[32mfilter()\u001b[39m masks \u001b[34mstats\u001b[39m::filter()\n",
      "\u001b[31mx\u001b[39m \u001b[34mdplyr\u001b[39m::\u001b[32mlag()\u001b[39m    masks \u001b[34mstats\u001b[39m::lag()\n",
      "\n"
     ]
    },
    {
     "name": "stdout",
     "output_type": "stream",
     "text": [
      "[1] \"R version 3.6.3 (2020-02-29)\"\n",
      "[1] \"the column recorded_by has always the same value\"\n"
     ]
    },
    {
     "data": {
      "text/plain": [
       "\n",
       "\tPearson's Chi-squared test\n",
       "\n",
       "data:  table(training_set_values$quantity, training_set_values$quantity_group)\n",
       "X-squared = 175833, df = 9, p-value < 2.2e-16\n"
      ]
     },
     "metadata": {},
     "output_type": "display_data"
    },
    {
     "data": {
      "text/plain": [
       "\n",
       "\tPearson's Chi-squared test\n",
       "\n",
       "data:  table(training_set_values$quantity, training_set_values$payment_type)\n",
       "X-squared = 1723.9, df = 15, p-value < 2.2e-16\n"
      ]
     },
     "metadata": {},
     "output_type": "display_data"
    },
    {
     "name": "stderr",
     "output_type": "stream",
     "text": [
      "Warning message in chisq.test(table(training_set_values$funder, training_set_values$payment_type)):\n",
      "\"Chi-squared approximation may be incorrect\"\n"
     ]
    },
    {
     "data": {
      "text/plain": [
       "\n",
       "\tPearson's Chi-squared test\n",
       "\n",
       "data:  table(training_set_values$funder, training_set_values$payment_type)\n",
       "X-squared = NaN, df = 9480, p-value = NA\n"
      ]
     },
     "metadata": {},
     "output_type": "display_data"
    },
    {
     "name": "stderr",
     "output_type": "stream",
     "text": [
      "Warning message in chisq.test(table(training_set_values$water_quality, training_set_values$quality_group)):\n",
      "\"Chi-squared approximation may be incorrect\"\n"
     ]
    },
    {
     "data": {
      "text/plain": [
       "\n",
       "\tPearson's Chi-squared test\n",
       "\n",
       "data:  table(training_set_values$water_quality, training_set_values$quality_group)\n",
       "X-squared = 230096, df = 24, p-value < 2.2e-16\n"
      ]
     },
     "metadata": {},
     "output_type": "display_data"
    },
    {
     "name": "stderr",
     "output_type": "stream",
     "text": [
      "Warning message in chisq.test(table(test_correlation$amount_tsh, test_correlation$status_group)):\n",
      "\"Chi-squared approximation may be incorrect\"\n"
     ]
    },
    {
     "data": {
      "text/plain": [
       "\n",
       "\tPearson's Chi-squared test\n",
       "\n",
       "data:  table(test_correlation$amount_tsh, test_correlation$status_group)\n",
       "X-squared = 4307.2, df = 194, p-value < 2.2e-16\n"
      ]
     },
     "metadata": {},
     "output_type": "display_data"
    },
    {
     "name": "stderr",
     "output_type": "stream",
     "text": [
      "Warning message in chisq.test(table(test_correlation$date_recorded, test_correlation$status_group)):\n",
      "\"Chi-squared approximation may be incorrect\"\n"
     ]
    },
    {
     "data": {
      "text/plain": [
       "\n",
       "\tPearson's Chi-squared test\n",
       "\n",
       "data:  table(test_correlation$date_recorded, test_correlation$status_group)\n",
       "X-squared = 5005.7, df = 710, p-value < 2.2e-16\n"
      ]
     },
     "metadata": {},
     "output_type": "display_data"
    },
    {
     "name": "stderr",
     "output_type": "stream",
     "text": [
      "Warning message in chisq.test(table(test_correlation$funder, test_correlation$status_group)):\n",
      "\"Chi-squared approximation may be incorrect\"\n"
     ]
    },
    {
     "data": {
      "text/plain": [
       "\n",
       "\tPearson's Chi-squared test\n",
       "\n",
       "data:  table(test_correlation$funder, test_correlation$status_group)\n",
       "X-squared = 14173, df = 3792, p-value < 2.2e-16\n"
      ]
     },
     "metadata": {},
     "output_type": "display_data"
    },
    {
     "name": "stderr",
     "output_type": "stream",
     "text": [
      "Warning message in chisq.test(table(test_correlation$gps_height, test_correlation$status_group)):\n",
      "\"Chi-squared approximation may be incorrect\"\n"
     ]
    },
    {
     "data": {
      "text/plain": [
       "\n",
       "\tPearson's Chi-squared test\n",
       "\n",
       "data:  table(test_correlation$gps_height, test_correlation$status_group)\n",
       "X-squared = 6279.7, df = 4854, p-value < 2.2e-16\n"
      ]
     },
     "metadata": {},
     "output_type": "display_data"
    },
    {
     "name": "stderr",
     "output_type": "stream",
     "text": [
      "Warning message in chisq.test(table(test_correlation$installer, test_correlation$status_group)):\n",
      "\"Chi-squared approximation may be incorrect\"\n"
     ]
    },
    {
     "data": {
      "text/plain": [
       "\n",
       "\tPearson's Chi-squared test\n",
       "\n",
       "data:  table(test_correlation$installer, test_correlation$status_group)\n",
       "X-squared = 14721, df = 4286, p-value < 2.2e-16\n"
      ]
     },
     "metadata": {},
     "output_type": "display_data"
    },
    {
     "name": "stderr",
     "output_type": "stream",
     "text": [
      "Warning message in chisq.test(table(test_correlation$longitude, test_correlation$status_group)):\n",
      "\"Chi-squared approximation may be incorrect\"\n"
     ]
    },
    {
     "data": {
      "text/plain": [
       "\n",
       "\tPearson's Chi-squared test\n",
       "\n",
       "data:  table(test_correlation$longitude, test_correlation$status_group)\n",
       "X-squared = 112780, df = 115030, p-value = 1\n"
      ]
     },
     "metadata": {},
     "output_type": "display_data"
    },
    {
     "name": "stderr",
     "output_type": "stream",
     "text": [
      "Warning message in chisq.test(table(test_correlation$latitude, test_correlation$status_group)):\n",
      "\"Chi-squared approximation may be incorrect\"\n"
     ]
    },
    {
     "data": {
      "text/plain": [
       "\n",
       "\tPearson's Chi-squared test\n",
       "\n",
       "data:  table(test_correlation$latitude, test_correlation$status_group)\n",
       "X-squared = 112782, df = 115032, p-value = 1\n"
      ]
     },
     "metadata": {},
     "output_type": "display_data"
    },
    {
     "name": "stderr",
     "output_type": "stream",
     "text": [
      "Warning message in chisq.test(table(test_correlation$wpt_name, test_correlation$status_group)):\n",
      "\"Chi-squared approximation may be incorrect\"\n"
     ]
    },
    {
     "data": {
      "text/plain": [
       "\n",
       "\tPearson's Chi-squared test\n",
       "\n",
       "data:  table(test_correlation$wpt_name, test_correlation$status_group)\n",
       "X-squared = 75575, df = 74796, p-value = 0.02224\n"
      ]
     },
     "metadata": {},
     "output_type": "display_data"
    },
    {
     "data": {
      "text/plain": [
       "\n",
       "\tPearson's Chi-squared test\n",
       "\n",
       "data:  table(test_correlation$basin, test_correlation$status_group)\n",
       "X-squared = 1921, df = 16, p-value < 2.2e-16\n"
      ]
     },
     "metadata": {},
     "output_type": "display_data"
    },
    {
     "name": "stderr",
     "output_type": "stream",
     "text": [
      "Warning message in chisq.test(table(test_correlation$subvillage, test_correlation$status_group)):\n",
      "\"Chi-squared approximation may be incorrect\"\n"
     ]
    },
    {
     "data": {
      "text/plain": [
       "\n",
       "\tPearson's Chi-squared test\n",
       "\n",
       "data:  table(test_correlation$subvillage, test_correlation$status_group)\n",
       "X-squared = 55053, df = 38572, p-value < 2.2e-16\n"
      ]
     },
     "metadata": {},
     "output_type": "display_data"
    },
    {
     "data": {
      "text/plain": [
       "\n",
       "\tPearson's Chi-squared test\n",
       "\n",
       "data:  table(test_correlation$region, test_correlation$status_group)\n",
       "X-squared = 4794.6, df = 40, p-value < 2.2e-16\n"
      ]
     },
     "metadata": {},
     "output_type": "display_data"
    },
    {
     "name": "stderr",
     "output_type": "stream",
     "text": [
      "Warning message in chisq.test(table(test_correlation$region_code, test_correlation$status_group)):\n",
      "\"Chi-squared approximation may be incorrect\"\n"
     ]
    },
    {
     "data": {
      "text/plain": [
       "\n",
       "\tPearson's Chi-squared test\n",
       "\n",
       "data:  table(test_correlation$region_code, test_correlation$status_group)\n",
       "X-squared = 5157.4, df = 52, p-value < 2.2e-16\n"
      ]
     },
     "metadata": {},
     "output_type": "display_data"
    },
    {
     "name": "stderr",
     "output_type": "stream",
     "text": [
      "Warning message in chisq.test(table(test_correlation$district_code, test_correlation$status_group)):\n",
      "\"Chi-squared approximation may be incorrect\"\n"
     ]
    },
    {
     "data": {
      "text/plain": [
       "\n",
       "\tPearson's Chi-squared test\n",
       "\n",
       "data:  table(test_correlation$district_code, test_correlation$status_group)\n",
       "X-squared = 1673.5, df = 38, p-value < 2.2e-16\n"
      ]
     },
     "metadata": {},
     "output_type": "display_data"
    },
    {
     "name": "stderr",
     "output_type": "stream",
     "text": [
      "Warning message in chisq.test(table(test_correlation$lga, test_correlation$status_group)):\n",
      "\"Chi-squared approximation may be incorrect\"\n"
     ]
    },
    {
     "data": {
      "text/plain": [
       "\n",
       "\tPearson's Chi-squared test\n",
       "\n",
       "data:  table(test_correlation$lga, test_correlation$status_group)\n",
       "X-squared = 11530, df = 248, p-value < 2.2e-16\n"
      ]
     },
     "metadata": {},
     "output_type": "display_data"
    },
    {
     "name": "stderr",
     "output_type": "stream",
     "text": [
      "Warning message in chisq.test(table(test_correlation$ward, test_correlation$status_group)):\n",
      "\"Chi-squared approximation may be incorrect\"\n"
     ]
    },
    {
     "data": {
      "text/plain": [
       "\n",
       "\tPearson's Chi-squared test\n",
       "\n",
       "data:  table(test_correlation$ward, test_correlation$status_group)\n",
       "X-squared = 26145, df = 4182, p-value < 2.2e-16\n"
      ]
     },
     "metadata": {},
     "output_type": "display_data"
    },
    {
     "name": "stderr",
     "output_type": "stream",
     "text": [
      "Warning message in chisq.test(table(test_correlation$population, test_correlation$status_group)):\n",
      "\"Chi-squared approximation may be incorrect\"\n"
     ]
    },
    {
     "data": {
      "text/plain": [
       "\n",
       "\tPearson's Chi-squared test\n",
       "\n",
       "data:  table(test_correlation$population, test_correlation$status_group)\n",
       "X-squared = 4480, df = 2096, p-value < 2.2e-16\n"
      ]
     },
     "metadata": {},
     "output_type": "display_data"
    },
    {
     "data": {
      "text/plain": [
       "\n",
       "\tPearson's Chi-squared test\n",
       "\n",
       "data:  table(test_correlation$public_meeting, test_correlation$status_group)\n",
       "X-squared = 302.18, df = 2, p-value < 2.2e-16\n"
      ]
     },
     "metadata": {},
     "output_type": "display_data"
    },
    {
     "name": "stderr",
     "output_type": "stream",
     "text": [
      "Warning message in chisq.test(table(test_correlation$scheme_management, test_correlation$status_group)):\n",
      "\"Chi-squared approximation may be incorrect\"\n"
     ]
    },
    {
     "data": {
      "text/plain": [
       "\n",
       "\tPearson's Chi-squared test\n",
       "\n",
       "data:  table(test_correlation$scheme_management, test_correlation$status_group)\n",
       "X-squared = 1887.1, df = 22, p-value < 2.2e-16\n"
      ]
     },
     "metadata": {},
     "output_type": "display_data"
    },
    {
     "name": "stderr",
     "output_type": "stream",
     "text": [
      "Warning message in chisq.test(table(test_correlation$scheme_name, test_correlation$status_group)):\n",
      "\"Chi-squared approximation may be incorrect\"\n"
     ]
    },
    {
     "data": {
      "text/plain": [
       "\n",
       "\tPearson's Chi-squared test\n",
       "\n",
       "data:  table(test_correlation$scheme_name, test_correlation$status_group)\n",
       "X-squared = 21616, df = 5388, p-value < 2.2e-16\n"
      ]
     },
     "metadata": {},
     "output_type": "display_data"
    },
    {
     "data": {
      "text/plain": [
       "\n",
       "\tPearson's Chi-squared test\n",
       "\n",
       "data:  table(test_correlation$permit, test_correlation$status_group)\n",
       "X-squared = 67.79, df = 2, p-value = 1.904e-15\n"
      ]
     },
     "metadata": {},
     "output_type": "display_data"
    },
    {
     "name": "stderr",
     "output_type": "stream",
     "text": [
      "Warning message in chisq.test(table(test_correlation$construction_year, test_correlation$status_group)):\n",
      "\"Chi-squared approximation may be incorrect\"\n"
     ]
    },
    {
     "data": {
      "text/plain": [
       "\n",
       "\tPearson's Chi-squared test\n",
       "\n",
       "data:  table(test_correlation$construction_year, test_correlation$status_group)\n",
       "X-squared = 4098.4, df = 108, p-value < 2.2e-16\n"
      ]
     },
     "metadata": {},
     "output_type": "display_data"
    },
    {
     "name": "stderr",
     "output_type": "stream",
     "text": [
      "Warning message in chisq.test(table(test_correlation$extraction_type, test_correlation$status_group)):\n",
      "\"Chi-squared approximation may be incorrect\"\n"
     ]
    },
    {
     "data": {
      "text/plain": [
       "\n",
       "\tPearson's Chi-squared test\n",
       "\n",
       "data:  table(test_correlation$extraction_type, test_correlation$status_group)\n",
       "X-squared = 7365.6, df = 34, p-value < 2.2e-16\n"
      ]
     },
     "metadata": {},
     "output_type": "display_data"
    },
    {
     "data": {
      "text/plain": [
       "\n",
       "\tPearson's Chi-squared test\n",
       "\n",
       "data:  table(test_correlation$management, test_correlation$status_group)\n",
       "X-squared = 2015.2, df = 20, p-value < 2.2e-16\n"
      ]
     },
     "metadata": {},
     "output_type": "display_data"
    },
    {
     "data": {
      "text/plain": [
       "\n",
       "\tPearson's Chi-squared test\n",
       "\n",
       "data:  table(test_correlation$payment, test_correlation$status_group)\n",
       "X-squared = 3334.7, df = 10, p-value < 2.2e-16\n"
      ]
     },
     "metadata": {},
     "output_type": "display_data"
    },
    {
     "name": "stderr",
     "output_type": "stream",
     "text": [
      "Warning message in chisq.test(table(test_correlation$water_quality, test_correlation$status_group)):\n",
      "\"Chi-squared approximation may be incorrect\"\n"
     ]
    },
    {
     "data": {
      "text/plain": [
       "\n",
       "\tPearson's Chi-squared test\n",
       "\n",
       "data:  table(test_correlation$water_quality, test_correlation$status_group)\n",
       "X-squared = 575.43, df = 12, p-value < 2.2e-16\n"
      ]
     },
     "metadata": {},
     "output_type": "display_data"
    },
    {
     "data": {
      "text/plain": [
       "\n",
       "\tPearson's Chi-squared test\n",
       "\n",
       "data:  table(test_correlation$quantity, test_correlation$status_group)\n",
       "X-squared = 11039, df = 6, p-value < 2.2e-16\n"
      ]
     },
     "metadata": {},
     "output_type": "display_data"
    },
    {
     "data": {
      "text/plain": [
       "\n",
       "\tPearson's Chi-squared test\n",
       "\n",
       "data:  table(test_correlation$source, test_correlation$status_group)\n",
       "X-squared = 2622.7, df = 16, p-value < 2.2e-16\n"
      ]
     },
     "metadata": {},
     "output_type": "display_data"
    },
    {
     "name": "stderr",
     "output_type": "stream",
     "text": [
      "Warning message in chisq.test(table(test_correlation$waterpoint_type, test_correlation$status_group)):\n",
      "\"Chi-squared approximation may be incorrect\"\n"
     ]
    },
    {
     "data": {
      "text/plain": [
       "\n",
       "\tPearson's Chi-squared test\n",
       "\n",
       "data:  table(test_correlation$waterpoint_type, test_correlation$status_group)\n",
       "X-squared = 7450.3, df = 12, p-value < 2.2e-16\n"
      ]
     },
     "metadata": {},
     "output_type": "display_data"
    }
   ],
   "source": [
    "# install.packages('dummies')\n",
    "# install.packages('stringi')\n",
    "# install.packages('rpart.plot')\n",
    "# install.packages('dplyr', repos = 'https://cloud.r-project.org')\n",
    "# install.packages('caret', dependencies = TRUE)\n",
    "# install.packages(\"C:\\\\Users\\\\antoi\\\\Downloads\\\\stringi_1.5.3.zip\")\n",
    "# install.packages('dplyr', repos = 'https://cloud.r-project.org')\n",
    "# install.packages(\"doParallel\")\n",
    "library(tidyverse)\n",
    "\n",
    "print(R.version$version.string)\n",
    "training_set_labels <- read.csv(file = 'data/training_set_labels.csv', na.strings = c(\"\", \" \", \"none\", \"unknown\"))\n",
    "test_set_values <- read.csv(file = 'data/test_set_values.csv', na.strings = c(\"\", \" \", \"none\", \"unknown\"))\n",
    "training_set_values <- read.csv(file = 'data/training_set_values.csv',  na.strings = c(\"\", \" \", \"none\", \"unknown\"))\n",
    "\n",
    "for (colname in names(training_set_values)) {\n",
    "    list_of_unique <- unique(training_set_values[colname])\n",
    "    if (nrow(list_of_unique) == 1){\n",
    "        print(paste(\"the column\", colname, \"has always the same value\"))\n",
    "    }\n",
    "}\n",
    "\n",
    "training_set_values <- training_set_values[,setdiff(colnames(training_set_values),\"recorded_by\")] # remove recorded_by train_data\n",
    "\n",
    "test_set_values <- test_set_values[,setdiff(colnames(test_set_values),\"recorded_by\")] # remove recorded_by _train_test\n",
    "\n",
    "maxima <- c()\n",
    "for (colname in names(training_set_values)) {\n",
    "   maxima <- rbind(maxima, max(table(training_set_values[colname]))/59400)\n",
    "}\n",
    "\n",
    "# Shows it nicely\n",
    "df <- data.frame(names(training_set_values), maxima)\n",
    "df <- df[order(df$maxima, decreasing=TRUE),]\n",
    "training_set_values <- training_set_values[,setdiff(colnames(training_set_values),\"num_private\")] # remove num_private train_set\n",
    "test_set_values <- test_set_values[,setdiff(colnames(test_set_values),\"num_private\")] # remove num_private test_est\n",
    "\n",
    "chisq.test(table(training_set_values$quantity, training_set_values$quantity_group))\n",
    "chisq.test(table(training_set_values$quantity, training_set_values$payment_type))\n",
    "chisq.test(table(training_set_values$funder, training_set_values$payment_type))\n",
    "# table(training_set_values$funder, training_set_values$payment_type)  # We see that it's mostly random\n",
    "chisq.test(table(training_set_values$water_quality, training_set_values$quality_group))\n",
    "\n",
    "test_correlation <- cbind(training_set_values,training_set_labels[2])\n",
    "\n",
    "chisq.test(table(test_correlation$amount_tsh, test_correlation$status_group))\n",
    "chisq.test(table(test_correlation$date_recorded, test_correlation$status_group))\n",
    "chisq.test(table(test_correlation$funder, test_correlation$status_group))\n",
    "chisq.test(table(test_correlation$gps_height, test_correlation$status_group))\n",
    "chisq.test(table(test_correlation$installer, test_correlation$status_group))\n",
    "chisq.test(table(test_correlation$longitude, test_correlation$status_group))\n",
    "chisq.test(table(test_correlation$latitude, test_correlation$status_group))\n",
    "chisq.test(table(test_correlation$wpt_name, test_correlation$status_group))\n",
    "chisq.test(table(test_correlation$basin, test_correlation$status_group))\n",
    "chisq.test(table(test_correlation$subvillage, test_correlation$status_group))\n",
    "chisq.test(table(test_correlation$region, test_correlation$status_group))\n",
    "chisq.test(table(test_correlation$region_code, test_correlation$status_group))\n",
    "chisq.test(table(test_correlation$district_code, test_correlation$status_group))\n",
    "chisq.test(table(test_correlation$lga, test_correlation$status_group))\n",
    "chisq.test(table(test_correlation$ward, test_correlation$status_group))\n",
    "chisq.test(table(test_correlation$population, test_correlation$status_group))\n",
    "chisq.test(table(test_correlation$public_meeting, test_correlation$status_group))\n",
    "chisq.test(table(test_correlation$scheme_management, test_correlation$status_group))\n",
    "chisq.test(table(test_correlation$scheme_name, test_correlation$status_group))\n",
    "chisq.test(table(test_correlation$permit, test_correlation$status_group))\n",
    "chisq.test(table(test_correlation$construction_year, test_correlation$status_group))\n",
    "chisq.test(table(test_correlation$extraction_type, test_correlation$status_group))\n",
    "chisq.test(table(test_correlation$management, test_correlation$status_group))\n",
    "chisq.test(table(test_correlation$payment, test_correlation$status_group))\n",
    "chisq.test(table(test_correlation$water_quality, test_correlation$status_group))\n",
    "chisq.test(table(test_correlation$quantity, test_correlation$status_group))\n",
    "chisq.test(table(test_correlation$source, test_correlation$status_group))\n",
    "chisq.test(table(test_correlation$waterpoint_type, test_correlation$status_group))\n",
    "options(repr.matrix.max.rows=10, repr.matrix.max.cols=100) # option pour la taille des prints\n",
    "\n",
    "\n",
    "\n",
    "# table(training_set_values$waterpoint_type_group, training_set_values$waterpoint_type)  # less information\n",
    "training_set_values <- training_set_values[,setdiff(colnames(training_set_values),\"waterpoint_type_group\")]\n",
    "test_set_values <- test_set_values[,setdiff(colnames(test_set_values),\"waterpoint_type_group\")]\n",
    "\n",
    "# table(training_set_values$source_type, training_set_values$source_class)  # less information\n",
    "training_set_values <- training_set_values[,setdiff(colnames(training_set_values),\"source_class\")]\n",
    "test_set_values <- test_set_values[,setdiff(colnames(test_set_values),\"source_class\")]\n",
    "\n",
    "# table(training_set_values$source, training_set_values$source_type)  # less information\n",
    "training_set_values <- training_set_values[,setdiff(colnames(training_set_values),\"source_type\")]\n",
    "test_set_values <- test_set_values[,setdiff(colnames(test_set_values),\"source_type\")]\n",
    "\n",
    "# table(training_set_values$water_quality, training_set_values$quality_group)  # less information\n",
    "training_set_values <- training_set_values[,setdiff(colnames(training_set_values),\"quality_group\")]\n",
    "test_set_values <- test_set_values[,setdiff(colnames(test_set_values),\"quality_group\")]\n",
    "\n",
    "# table(training_set_values$quantity, training_set_values$quantity_group)  # equivalent, we delete column\n",
    "training_set_values <- training_set_values[,setdiff(colnames(training_set_values),\"quantity_group\")]\n",
    "test_set_values <- test_set_values[,setdiff(colnames(test_set_values),\"quantity_group\")]\n",
    "\n",
    "# table(training_set_values$extraction_type, training_set_values$extraction_type_group)  # we can delete column\n",
    "training_set_values <- training_set_values[,setdiff(colnames(training_set_values),\"extraction_type_group\")]\n",
    "test_set_values <- test_set_values[,setdiff(colnames(test_set_values),\"extraction_type_group\")]\n",
    "\n",
    "# table(training_set_values$extraction_type, training_set_values$extraction_type_class)  # We can delete column\n",
    "# training_set_values <- training_set_values[,setdiff(colnames(training_set_values),\"extraction_type_class\")]\n",
    "\n",
    "# table(training_set_values$payment, training_set_values$payment_type)  # equivalent,  we delete column\n",
    "training_set_values <- training_set_values[,setdiff(colnames(training_set_values),\"payment_type\")]\n",
    "test_set_values <- test_set_values[,setdiff(colnames(test_set_values),\"payment_type\")]\n",
    "\n",
    "# table(training_set_values$management, training_set_values$management_group)  # we delete column\n",
    "training_set_values <- training_set_values[,setdiff(colnames(training_set_values),\"management_group\")]\n",
    "test_set_values <- test_set_values[,setdiff(colnames(test_set_values),\"management_group\")]\n",
    "\n",
    "# table(training_set_values$region, training_set_values$region_code)  # very correlated but some cities/code are ambigius\n",
    "# table(training_set_values$basin, training_set_values$subvillage)  # not really correlated, keep\n",
    "\n",
    "\n"
   ]
  },
  {
   "cell_type": "code",
   "execution_count": 2,
   "metadata": {},
   "outputs": [
    {
     "data": {
      "text/html": [
       "<table class=\"dataframe\">\n",
       "<caption>A data.frame: 6 × 30</caption>\n",
       "<thead>\n",
       "\t<tr><th></th><th scope=col>id</th><th scope=col>amount_tsh</th><th scope=col>date_recorded</th><th scope=col>funder</th><th scope=col>gps_height</th><th scope=col>installer</th><th scope=col>longitude</th><th scope=col>latitude</th><th scope=col>wpt_name</th><th scope=col>basin</th><th scope=col>subvillage</th><th scope=col>region</th><th scope=col>region_code</th><th scope=col>district_code</th><th scope=col>lga</th><th scope=col>ward</th><th scope=col>population</th><th scope=col>public_meeting</th><th scope=col>scheme_management</th><th scope=col>scheme_name</th><th scope=col>permit</th><th scope=col>construction_year</th><th scope=col>extraction_type</th><th scope=col>extraction_type_class</th><th scope=col>management</th><th scope=col>payment</th><th scope=col>water_quality</th><th scope=col>quantity</th><th scope=col>source</th><th scope=col>waterpoint_type</th></tr>\n",
       "\t<tr><th></th><th scope=col>&lt;int&gt;</th><th scope=col>&lt;dbl&gt;</th><th scope=col>&lt;fct&gt;</th><th scope=col>&lt;fct&gt;</th><th scope=col>&lt;int&gt;</th><th scope=col>&lt;fct&gt;</th><th scope=col>&lt;dbl&gt;</th><th scope=col>&lt;dbl&gt;</th><th scope=col>&lt;fct&gt;</th><th scope=col>&lt;fct&gt;</th><th scope=col>&lt;fct&gt;</th><th scope=col>&lt;fct&gt;</th><th scope=col>&lt;int&gt;</th><th scope=col>&lt;int&gt;</th><th scope=col>&lt;fct&gt;</th><th scope=col>&lt;fct&gt;</th><th scope=col>&lt;int&gt;</th><th scope=col>&lt;fct&gt;</th><th scope=col>&lt;fct&gt;</th><th scope=col>&lt;fct&gt;</th><th scope=col>&lt;fct&gt;</th><th scope=col>&lt;int&gt;</th><th scope=col>&lt;fct&gt;</th><th scope=col>&lt;fct&gt;</th><th scope=col>&lt;fct&gt;</th><th scope=col>&lt;fct&gt;</th><th scope=col>&lt;fct&gt;</th><th scope=col>&lt;fct&gt;</th><th scope=col>&lt;fct&gt;</th><th scope=col>&lt;fct&gt;</th></tr>\n",
       "</thead>\n",
       "<tbody>\n",
       "\t<tr><th scope=row>1</th><td>69572</td><td>6000</td><td>2011-03-14</td><td>Roman              </td><td>1390</td><td>Roman       </td><td>34.93809</td><td> -9.856322</td><td>unknown             </td><td>Lake Nyasa             </td><td>Mnyusi B   </td><td>Iringa </td><td>11</td><td> 5</td><td>Ludewa   </td><td>Mundindi  </td><td>109</td><td>True   </td><td>VWC    </td><td>Roman                      </td><td>False</td><td>1999</td><td>gravity    </td><td>gravity    </td><td>vwc  </td><td>pay annually  </td><td>soft </td><td>enough      </td><td>spring              </td><td>communal standpipe         </td></tr>\n",
       "\t<tr><th scope=row>2</th><td> 8776</td><td>   0</td><td>2013-03-06</td><td>Grumeti            </td><td>1399</td><td>GRUMETI     </td><td>34.69877</td><td> -2.147466</td><td>Zahanati            </td><td>Lake Victoria          </td><td>Nyamara    </td><td>Mara   </td><td>20</td><td> 2</td><td>Serengeti</td><td>Natta     </td><td>280</td><td>unknown</td><td>Other  </td><td>unknown                    </td><td>True </td><td>2010</td><td>gravity    </td><td>gravity    </td><td>wug  </td><td>never pay     </td><td>soft </td><td>insufficient</td><td>rainwater harvesting</td><td>communal standpipe         </td></tr>\n",
       "\t<tr><th scope=row>3</th><td>34310</td><td>  25</td><td>2013-02-25</td><td>Lottery Club       </td><td> 686</td><td>World vision</td><td>37.46066</td><td> -3.821329</td><td>Kwa Mahundi         </td><td>Pangani                </td><td>Majengo    </td><td>Manyara</td><td>21</td><td> 4</td><td>Simanjiro</td><td>Ngorika   </td><td>250</td><td>True   </td><td>VWC    </td><td>Nyumba ya mungu pipe scheme</td><td>True </td><td>2009</td><td>gravity    </td><td>gravity    </td><td>vwc  </td><td>pay per bucket</td><td>soft </td><td>enough      </td><td>dam                 </td><td>communal standpipe multiple</td></tr>\n",
       "\t<tr><th scope=row>4</th><td>67743</td><td>   0</td><td>2013-01-28</td><td>Unicef             </td><td> 263</td><td>UNICEF      </td><td>38.48616</td><td>-11.155298</td><td>Zahanati Ya Nanyumbu</td><td>Ruvuma / Southern Coast</td><td>Mahakamani </td><td>Mtwara </td><td>90</td><td>63</td><td>Nanyumbu </td><td>Nanyumbu  </td><td> 58</td><td>True   </td><td>VWC    </td><td>unknown                    </td><td>True </td><td>1986</td><td>submersible</td><td>submersible</td><td>vwc  </td><td>never pay     </td><td>soft </td><td>dry         </td><td>machine dbh         </td><td>communal standpipe multiple</td></tr>\n",
       "\t<tr><th scope=row>5</th><td>19728</td><td>   0</td><td>2011-07-13</td><td>Action In A        </td><td>   0</td><td>Artisan     </td><td>31.13085</td><td> -1.825359</td><td>Shuleni             </td><td>Lake Victoria          </td><td>Kyanyamisa </td><td>Kagera </td><td>18</td><td> 1</td><td>Karagwe  </td><td>Nyakasimbi</td><td>  0</td><td>True   </td><td>unknown</td><td>unknown                    </td><td>True </td><td>   0</td><td>gravity    </td><td>gravity    </td><td>other</td><td>never pay     </td><td>soft </td><td>seasonal    </td><td>rainwater harvesting</td><td>communal standpipe         </td></tr>\n",
       "\t<tr><th scope=row>6</th><td> 9944</td><td>  20</td><td>2011-03-13</td><td>Mkinga Distric Coun</td><td>   0</td><td>DWE         </td><td>39.17280</td><td> -4.765587</td><td>Tajiri              </td><td>Pangani                </td><td>Moa/Mwereme</td><td>Tanga  </td><td> 4</td><td> 8</td><td>Mkinga   </td><td>Moa       </td><td>  1</td><td>True   </td><td>VWC    </td><td>Zingibali                  </td><td>True </td><td>2009</td><td>submersible</td><td>submersible</td><td>vwc  </td><td>pay per bucket</td><td>salty</td><td>enough      </td><td>other               </td><td>communal standpipe multiple</td></tr>\n",
       "</tbody>\n",
       "</table>\n"
      ],
      "text/latex": [
       "A data.frame: 6 × 30\n",
       "\\begin{tabular}{r|llllllllllllllllllllllllllllll}\n",
       "  & id & amount\\_tsh & date\\_recorded & funder & gps\\_height & installer & longitude & latitude & wpt\\_name & basin & subvillage & region & region\\_code & district\\_code & lga & ward & population & public\\_meeting & scheme\\_management & scheme\\_name & permit & construction\\_year & extraction\\_type & extraction\\_type\\_class & management & payment & water\\_quality & quantity & source & waterpoint\\_type\\\\\n",
       "  & <int> & <dbl> & <fct> & <fct> & <int> & <fct> & <dbl> & <dbl> & <fct> & <fct> & <fct> & <fct> & <int> & <int> & <fct> & <fct> & <int> & <fct> & <fct> & <fct> & <fct> & <int> & <fct> & <fct> & <fct> & <fct> & <fct> & <fct> & <fct> & <fct>\\\\\n",
       "\\hline\n",
       "\t1 & 69572 & 6000 & 2011-03-14 & Roman               & 1390 & Roman        & 34.93809 &  -9.856322 & unknown              & Lake Nyasa              & Mnyusi B    & Iringa  & 11 &  5 & Ludewa    & Mundindi   & 109 & True    & VWC     & Roman                       & False & 1999 & gravity     & gravity     & vwc   & pay annually   & soft  & enough       & spring               & communal standpipe         \\\\\n",
       "\t2 &  8776 &    0 & 2013-03-06 & Grumeti             & 1399 & GRUMETI      & 34.69877 &  -2.147466 & Zahanati             & Lake Victoria           & Nyamara     & Mara    & 20 &  2 & Serengeti & Natta      & 280 & unknown & Other   & unknown                     & True  & 2010 & gravity     & gravity     & wug   & never pay      & soft  & insufficient & rainwater harvesting & communal standpipe         \\\\\n",
       "\t3 & 34310 &   25 & 2013-02-25 & Lottery Club        &  686 & World vision & 37.46066 &  -3.821329 & Kwa Mahundi          & Pangani                 & Majengo     & Manyara & 21 &  4 & Simanjiro & Ngorika    & 250 & True    & VWC     & Nyumba ya mungu pipe scheme & True  & 2009 & gravity     & gravity     & vwc   & pay per bucket & soft  & enough       & dam                  & communal standpipe multiple\\\\\n",
       "\t4 & 67743 &    0 & 2013-01-28 & Unicef              &  263 & UNICEF       & 38.48616 & -11.155298 & Zahanati Ya Nanyumbu & Ruvuma / Southern Coast & Mahakamani  & Mtwara  & 90 & 63 & Nanyumbu  & Nanyumbu   &  58 & True    & VWC     & unknown                     & True  & 1986 & submersible & submersible & vwc   & never pay      & soft  & dry          & machine dbh          & communal standpipe multiple\\\\\n",
       "\t5 & 19728 &    0 & 2011-07-13 & Action In A         &    0 & Artisan      & 31.13085 &  -1.825359 & Shuleni              & Lake Victoria           & Kyanyamisa  & Kagera  & 18 &  1 & Karagwe   & Nyakasimbi &   0 & True    & unknown & unknown                     & True  &    0 & gravity     & gravity     & other & never pay      & soft  & seasonal     & rainwater harvesting & communal standpipe         \\\\\n",
       "\t6 &  9944 &   20 & 2011-03-13 & Mkinga Distric Coun &    0 & DWE          & 39.17280 &  -4.765587 & Tajiri               & Pangani                 & Moa/Mwereme & Tanga   &  4 &  8 & Mkinga    & Moa        &   1 & True    & VWC     & Zingibali                   & True  & 2009 & submersible & submersible & vwc   & pay per bucket & salty & enough       & other                & communal standpipe multiple\\\\\n",
       "\\end{tabular}\n"
      ],
      "text/markdown": [
       "\n",
       "A data.frame: 6 × 30\n",
       "\n",
       "| <!--/--> | id &lt;int&gt; | amount_tsh &lt;dbl&gt; | date_recorded &lt;fct&gt; | funder &lt;fct&gt; | gps_height &lt;int&gt; | installer &lt;fct&gt; | longitude &lt;dbl&gt; | latitude &lt;dbl&gt; | wpt_name &lt;fct&gt; | basin &lt;fct&gt; | subvillage &lt;fct&gt; | region &lt;fct&gt; | region_code &lt;int&gt; | district_code &lt;int&gt; | lga &lt;fct&gt; | ward &lt;fct&gt; | population &lt;int&gt; | public_meeting &lt;fct&gt; | scheme_management &lt;fct&gt; | scheme_name &lt;fct&gt; | permit &lt;fct&gt; | construction_year &lt;int&gt; | extraction_type &lt;fct&gt; | extraction_type_class &lt;fct&gt; | management &lt;fct&gt; | payment &lt;fct&gt; | water_quality &lt;fct&gt; | quantity &lt;fct&gt; | source &lt;fct&gt; | waterpoint_type &lt;fct&gt; |\n",
       "|---|---|---|---|---|---|---|---|---|---|---|---|---|---|---|---|---|---|---|---|---|---|---|---|---|---|---|---|---|---|---|\n",
       "| 1 | 69572 | 6000 | 2011-03-14 | Roman               | 1390 | Roman        | 34.93809 |  -9.856322 | unknown              | Lake Nyasa              | Mnyusi B    | Iringa  | 11 |  5 | Ludewa    | Mundindi   | 109 | True    | VWC     | Roman                       | False | 1999 | gravity     | gravity     | vwc   | pay annually   | soft  | enough       | spring               | communal standpipe          |\n",
       "| 2 |  8776 |    0 | 2013-03-06 | Grumeti             | 1399 | GRUMETI      | 34.69877 |  -2.147466 | Zahanati             | Lake Victoria           | Nyamara     | Mara    | 20 |  2 | Serengeti | Natta      | 280 | unknown | Other   | unknown                     | True  | 2010 | gravity     | gravity     | wug   | never pay      | soft  | insufficient | rainwater harvesting | communal standpipe          |\n",
       "| 3 | 34310 |   25 | 2013-02-25 | Lottery Club        |  686 | World vision | 37.46066 |  -3.821329 | Kwa Mahundi          | Pangani                 | Majengo     | Manyara | 21 |  4 | Simanjiro | Ngorika    | 250 | True    | VWC     | Nyumba ya mungu pipe scheme | True  | 2009 | gravity     | gravity     | vwc   | pay per bucket | soft  | enough       | dam                  | communal standpipe multiple |\n",
       "| 4 | 67743 |    0 | 2013-01-28 | Unicef              |  263 | UNICEF       | 38.48616 | -11.155298 | Zahanati Ya Nanyumbu | Ruvuma / Southern Coast | Mahakamani  | Mtwara  | 90 | 63 | Nanyumbu  | Nanyumbu   |  58 | True    | VWC     | unknown                     | True  | 1986 | submersible | submersible | vwc   | never pay      | soft  | dry          | machine dbh          | communal standpipe multiple |\n",
       "| 5 | 19728 |    0 | 2011-07-13 | Action In A         |    0 | Artisan      | 31.13085 |  -1.825359 | Shuleni              | Lake Victoria           | Kyanyamisa  | Kagera  | 18 |  1 | Karagwe   | Nyakasimbi |   0 | True    | unknown | unknown                     | True  |    0 | gravity     | gravity     | other | never pay      | soft  | seasonal     | rainwater harvesting | communal standpipe          |\n",
       "| 6 |  9944 |   20 | 2011-03-13 | Mkinga Distric Coun |    0 | DWE          | 39.17280 |  -4.765587 | Tajiri               | Pangani                 | Moa/Mwereme | Tanga   |  4 |  8 | Mkinga    | Moa        |   1 | True    | VWC     | Zingibali                   | True  | 2009 | submersible | submersible | vwc   | pay per bucket | salty | enough       | other                | communal standpipe multiple |\n",
       "\n"
      ],
      "text/plain": [
       "  id    amount_tsh date_recorded funder              gps_height installer   \n",
       "1 69572 6000       2011-03-14    Roman               1390       Roman       \n",
       "2  8776    0       2013-03-06    Grumeti             1399       GRUMETI     \n",
       "3 34310   25       2013-02-25    Lottery Club         686       World vision\n",
       "4 67743    0       2013-01-28    Unicef               263       UNICEF      \n",
       "5 19728    0       2011-07-13    Action In A            0       Artisan     \n",
       "6  9944   20       2011-03-13    Mkinga Distric Coun    0       DWE         \n",
       "  longitude latitude   wpt_name             basin                   subvillage \n",
       "1 34.93809   -9.856322 unknown              Lake Nyasa              Mnyusi B   \n",
       "2 34.69877   -2.147466 Zahanati             Lake Victoria           Nyamara    \n",
       "3 37.46066   -3.821329 Kwa Mahundi          Pangani                 Majengo    \n",
       "4 38.48616  -11.155298 Zahanati Ya Nanyumbu Ruvuma / Southern Coast Mahakamani \n",
       "5 31.13085   -1.825359 Shuleni              Lake Victoria           Kyanyamisa \n",
       "6 39.17280   -4.765587 Tajiri               Pangani                 Moa/Mwereme\n",
       "  region  region_code district_code lga       ward       population\n",
       "1 Iringa  11           5            Ludewa    Mundindi   109       \n",
       "2 Mara    20           2            Serengeti Natta      280       \n",
       "3 Manyara 21           4            Simanjiro Ngorika    250       \n",
       "4 Mtwara  90          63            Nanyumbu  Nanyumbu    58       \n",
       "5 Kagera  18           1            Karagwe   Nyakasimbi   0       \n",
       "6 Tanga    4           8            Mkinga    Moa          1       \n",
       "  public_meeting scheme_management scheme_name                 permit\n",
       "1 True           VWC               Roman                       False \n",
       "2 unknown        Other             unknown                     True  \n",
       "3 True           VWC               Nyumba ya mungu pipe scheme True  \n",
       "4 True           VWC               unknown                     True  \n",
       "5 True           unknown           unknown                     True  \n",
       "6 True           VWC               Zingibali                   True  \n",
       "  construction_year extraction_type extraction_type_class management\n",
       "1 1999              gravity         gravity               vwc       \n",
       "2 2010              gravity         gravity               wug       \n",
       "3 2009              gravity         gravity               vwc       \n",
       "4 1986              submersible     submersible           vwc       \n",
       "5    0              gravity         gravity               other     \n",
       "6 2009              submersible     submersible           vwc       \n",
       "  payment        water_quality quantity     source              \n",
       "1 pay annually   soft          enough       spring              \n",
       "2 never pay      soft          insufficient rainwater harvesting\n",
       "3 pay per bucket soft          enough       dam                 \n",
       "4 never pay      soft          dry          machine dbh         \n",
       "5 never pay      soft          seasonal     rainwater harvesting\n",
       "6 pay per bucket salty         enough       other               \n",
       "  waterpoint_type            \n",
       "1 communal standpipe         \n",
       "2 communal standpipe         \n",
       "3 communal standpipe multiple\n",
       "4 communal standpipe multiple\n",
       "5 communal standpipe         \n",
       "6 communal standpipe multiple"
      ]
     },
     "metadata": {},
     "output_type": "display_data"
    }
   ],
   "source": [
    "# Replacing NA values with \"unknown\"\n",
    "i <- sapply(training_set_values, is.factor)\n",
    "training_set_values[i] <- lapply(training_set_values[i], as.character)\n",
    "training_set_values[is.na(training_set_values)] <- \"unknown\"\n",
    "training_set_values[i] <- lapply(training_set_values[i], as.factor)\n",
    "head(training_set_values)"
   ]
  },
  {
   "cell_type": "code",
   "execution_count": 3,
   "metadata": {},
   "outputs": [],
   "source": [
    "training_set_values <- training_set_values[,setdiff(colnames(training_set_values),\"longitude\")] # remove num_private train_set\n",
    "test_set_values <- test_set_values[,setdiff(colnames(test_set_values),\"longitude\")] # remove num_private test_est\n",
    "training_set_values <- training_set_values[,setdiff(colnames(training_set_values),\"latitude\")] # remove num_private train_set\n",
    "test_set_values <- test_set_values[,setdiff(colnames(test_set_values),\"latitude\")] # remove num_private test_est\n",
    "training_set_values <- training_set_values[,setdiff(colnames(training_set_values),\"funder\")] # remove num_private train_set\n",
    "test_set_values <- test_set_values[,setdiff(colnames(test_set_values),\"funder\")] # remove num_private test_est\n",
    "training_set_values <- training_set_values[,setdiff(colnames(training_set_values),\"region\")] # remove num_private train_set\n",
    "test_set_values <- test_set_values[,setdiff(colnames(test_set_values),\"region\")] # remove num_private test_est\n",
    "training_set_values <- training_set_values[,setdiff(colnames(training_set_values),\"district_code\")] # remove num_private train_set\n",
    "test_set_values <- test_set_values[,setdiff(colnames(test_set_values),\"district_code\")] # remove num_private test_est\n",
    "training_set_values <- training_set_values[,setdiff(colnames(training_set_values),\"ward\")] # remove num_private train_set\n",
    "test_set_values <- test_set_values[,setdiff(colnames(test_set_values),\"ward\")] # remove num_private test_est\n",
    "training_set_values <- training_set_values[,setdiff(colnames(training_set_values),\"lga\")] # remove num_private train_set\n",
    "test_set_values <- test_set_values[,setdiff(colnames(test_set_values),\"lga\")] # remove num_private test_est\n",
    "training_set_values <- training_set_values[,setdiff(colnames(training_set_values),\"population\")] # remove num_private train_set\n",
    "test_set_values <- test_set_values[,setdiff(colnames(test_set_values),\"population\")] # remove num_private test_est\n",
    "training_set_values <- training_set_values[,setdiff(colnames(training_set_values),\"public_meeting\")] # remove num_private train_set\n",
    "test_set_values <- test_set_values[,setdiff(colnames(test_set_values),\"public_meeting\")] # remove num_private test_est\n",
    "training_set_values <- training_set_values[,setdiff(colnames(training_set_values),\"extraction_type_class\")] # remove num_private train_set\n",
    "test_set_values <- test_set_values[,setdiff(colnames(test_set_values),\"extraction_type_class\")] # remove num_private test_est\n",
    "\n",
    "training_set_values$longitude <- NULL\n",
    "test_set_values$longitude <- NULL\n",
    "training_set_values$latitude <- NULL\n",
    "test_set_values$latitude <- NULL\n",
    "training_set_values$funder <- NULL\n",
    "test_set_values$funder <- NULL\n",
    "training_set_values$region <- NULL\n",
    "test_set_values$region <- NULL\n",
    "training_set_values$district_code <- NULL\n",
    "test_set_values$district_code <- NULL\n",
    "training_set_values$ward <- NULL\n",
    "test_set_values$ward <- NULL\n",
    "training_set_values$lga <- NULL\n",
    "test_set_values$lga <- NULL\n",
    "training_set_values$population <- NULL\n",
    "test_set_values$population <- NULL\n",
    "training_set_values$public_meeting <- NULL\n",
    "test_set_values$public_meeting <- NULL\n",
    "training_set_values$extraction_type_class <- NULL\n",
    "test_set_values$extraction_type_class <- NULL\n",
    "training_set_values$scheme_name <- NULL\n",
    "test_set_values$scheme_name <- NULL\n",
    "training_set_values$subvillage <- NULL\n",
    "test_set_values$subvillage <- NULL\n",
    "training_set_values$wpt_name <- NULL\n",
    "test_set_values$wpt_name <- NULL\n",
    "training_set_values$installer <- NULL\n",
    "test_set_values$installer <- NULL\n",
    "training_set_values$date_recorded <- NULL\n",
    "test_set_values$date_recorded <- NULL"
   ]
  },
  {
   "cell_type": "code",
   "execution_count": 4,
   "metadata": {},
   "outputs": [
    {
     "name": "stderr",
     "output_type": "stream",
     "text": [
      "dummies-1.5.6 provided by Decision Patterns\n",
      "\n",
      "\n"
     ]
    },
    {
     "data": {
      "text/html": [
       "<table class=\"dataframe\">\n",
       "<caption>A matrix: 2 × 6 of type dbl</caption>\n",
       "<thead>\n",
       "\t<tr><th></th><th scope=col>used</th><th scope=col>(Mb)</th><th scope=col>gc trigger</th><th scope=col>(Mb)</th><th scope=col>max used</th><th scope=col>(Mb)</th></tr>\n",
       "</thead>\n",
       "<tbody>\n",
       "\t<tr><th scope=row>Ncells</th><td>1037157</td><td>55.4</td><td> 1989778</td><td>106.3</td><td> 1910785</td><td>102.1</td></tr>\n",
       "\t<tr><th scope=row>Vcells</th><td>4352982</td><td>33.3</td><td>10358179</td><td> 79.1</td><td>10358179</td><td> 79.1</td></tr>\n",
       "</tbody>\n",
       "</table>\n"
      ],
      "text/latex": [
       "A matrix: 2 × 6 of type dbl\n",
       "\\begin{tabular}{r|llllll}\n",
       "  & used & (Mb) & gc trigger & (Mb) & max used & (Mb)\\\\\n",
       "\\hline\n",
       "\tNcells & 1037157 & 55.4 &  1989778 & 106.3 &  1910785 & 102.1\\\\\n",
       "\tVcells & 4352982 & 33.3 & 10358179 &  79.1 & 10358179 &  79.1\\\\\n",
       "\\end{tabular}\n"
      ],
      "text/markdown": [
       "\n",
       "A matrix: 2 × 6 of type dbl\n",
       "\n",
       "| <!--/--> | used | (Mb) | gc trigger | (Mb) | max used | (Mb) |\n",
       "|---|---|---|---|---|---|---|\n",
       "| Ncells | 1037157 | 55.4 |  1989778 | 106.3 |  1910785 | 102.1 |\n",
       "| Vcells | 4352982 | 33.3 | 10358179 |  79.1 | 10358179 |  79.1 |\n",
       "\n"
      ],
      "text/plain": [
       "       used    (Mb) gc trigger (Mb)  max used (Mb) \n",
       "Ncells 1037157 55.4  1989778   106.3  1910785 102.1\n",
       "Vcells 4352982 33.3 10358179    79.1 10358179  79.1"
      ]
     },
     "metadata": {},
     "output_type": "display_data"
    },
    {
     "data": {
      "text/html": [
       "999999999999"
      ],
      "text/latex": [
       "999999999999"
      ],
      "text/markdown": [
       "999999999999"
      ],
      "text/plain": [
       "[1] 1e+12"
      ]
     },
     "metadata": {},
     "output_type": "display_data"
    },
    {
     "name": "stderr",
     "output_type": "stream",
     "text": [
      "Warning message in model.matrix.default(~x - 1, model.frame(~x - 1), contrasts = FALSE):\n",
      "\"non-list contrasts argument ignored\"\n",
      "Warning message in model.matrix.default(~x - 1, model.frame(~x - 1), contrasts = FALSE):\n",
      "\"non-list contrasts argument ignored\"\n",
      "Warning message in model.matrix.default(~x - 1, model.frame(~x - 1), contrasts = FALSE):\n",
      "\"non-list contrasts argument ignored\"\n",
      "Warning message in model.matrix.default(~x - 1, model.frame(~x - 1), contrasts = FALSE):\n",
      "\"non-list contrasts argument ignored\"\n",
      "Warning message in model.matrix.default(~x - 1, model.frame(~x - 1), contrasts = FALSE):\n",
      "\"non-list contrasts argument ignored\"\n",
      "Warning message in model.matrix.default(~x - 1, model.frame(~x - 1), contrasts = FALSE):\n",
      "\"non-list contrasts argument ignored\"\n",
      "Warning message in model.matrix.default(~x - 1, model.frame(~x - 1), contrasts = FALSE):\n",
      "\"non-list contrasts argument ignored\"\n",
      "Warning message in model.matrix.default(~x - 1, model.frame(~x - 1), contrasts = FALSE):\n",
      "\"non-list contrasts argument ignored\"\n",
      "Warning message in model.matrix.default(~x - 1, model.frame(~x - 1), contrasts = FALSE):\n",
      "\"non-list contrasts argument ignored\"\n",
      "Warning message in model.matrix.default(~x - 1, model.frame(~x - 1), contrasts = FALSE):\n",
      "\"non-list contrasts argument ignored\"\n"
     ]
    },
    {
     "data": {
      "text/html": [
       "<table class=\"dataframe\">\n",
       "<caption>A matrix: 2 × 6 of type dbl</caption>\n",
       "<thead>\n",
       "\t<tr><th></th><th scope=col>used</th><th scope=col>(Mb)</th><th scope=col>gc trigger</th><th scope=col>(Mb)</th><th scope=col>max used</th><th scope=col>(Mb)</th></tr>\n",
       "</thead>\n",
       "<tbody>\n",
       "\t<tr><th scope=row>Ncells</th><td>1118471</td><td>59.8</td><td> 1989778</td><td>106.3</td><td> 1910785</td><td>102.1</td></tr>\n",
       "\t<tr><th scope=row>Vcells</th><td>8193549</td><td>62.6</td><td>15283542</td><td>116.7</td><td>13359218</td><td>102.0</td></tr>\n",
       "</tbody>\n",
       "</table>\n"
      ],
      "text/latex": [
       "A matrix: 2 × 6 of type dbl\n",
       "\\begin{tabular}{r|llllll}\n",
       "  & used & (Mb) & gc trigger & (Mb) & max used & (Mb)\\\\\n",
       "\\hline\n",
       "\tNcells & 1118471 & 59.8 &  1989778 & 106.3 &  1910785 & 102.1\\\\\n",
       "\tVcells & 8193549 & 62.6 & 15283542 & 116.7 & 13359218 & 102.0\\\\\n",
       "\\end{tabular}\n"
      ],
      "text/markdown": [
       "\n",
       "A matrix: 2 × 6 of type dbl\n",
       "\n",
       "| <!--/--> | used | (Mb) | gc trigger | (Mb) | max used | (Mb) |\n",
       "|---|---|---|---|---|---|---|\n",
       "| Ncells | 1118471 | 59.8 |  1989778 | 106.3 |  1910785 | 102.1 |\n",
       "| Vcells | 8193549 | 62.6 | 15283542 | 116.7 | 13359218 | 102.0 |\n",
       "\n"
      ],
      "text/plain": [
       "       used    (Mb) gc trigger (Mb)  max used (Mb) \n",
       "Ncells 1118471 59.8  1989778   106.3  1910785 102.1\n",
       "Vcells 8193549 62.6 15283542   116.7 13359218 102.0"
      ]
     },
     "metadata": {},
     "output_type": "display_data"
    },
    {
     "data": {
      "text/html": [
       "<table class=\"dataframe\">\n",
       "<caption>A data.frame: 2 × 99</caption>\n",
       "<thead>\n",
       "\t<tr><th></th><th scope=col>basin_Internal</th><th scope=col>basin_Lake Nyasa</th><th scope=col>basin_Lake Rukwa</th><th scope=col>basin_Lake Tanganyika</th><th scope=col>basin_Lake Victoria</th><th scope=col>basin_Pangani</th><th scope=col>basin_Rufiji</th><th scope=col>basin_Ruvuma / Southern Coast</th><th scope=col>basin_Wami / Ruvu</th><th scope=col>scheme_management_Company</th><th scope=col>scheme_management_None</th><th scope=col>scheme_management_Other</th><th scope=col>scheme_management_Parastatal</th><th scope=col>scheme_management_Private operator</th><th scope=col>scheme_management_SWC</th><th scope=col>scheme_management_Trust</th><th scope=col>scheme_management_unknown</th><th scope=col>scheme_management_VWC</th><th scope=col>scheme_management_Water authority</th><th scope=col>scheme_management_Water Board</th><th scope=col>scheme_management_WUA</th><th scope=col>scheme_management_WUG</th><th scope=col>scheme_management_NA</th><th scope=col>permit_False</th><th scope=col>permit_True</th><th scope=col>permit_unknown</th><th scope=col>permit_NA</th><th scope=col>extraction_type_afridev</th><th scope=col>extraction_type_cemo</th><th scope=col>extraction_type_climax</th><th scope=col>extraction_type_gravity</th><th scope=col>extraction_type_india mark ii</th><th scope=col>extraction_type_india mark iii</th><th scope=col>extraction_type_ksb</th><th scope=col>extraction_type_mono</th><th scope=col>extraction_type_nira/tanira</th><th scope=col>extraction_type_other</th><th scope=col>extraction_type_other - mkulima/shinyanga</th><th scope=col>extraction_type_other - play pump</th><th scope=col>extraction_type_other - rope pump</th><th scope=col>extraction_type_other - swn 81</th><th scope=col>extraction_type_submersible</th><th scope=col>extraction_type_swn 80</th><th scope=col>extraction_type_walimi</th><th scope=col>extraction_type_windmill</th><th scope=col>management_company</th><th scope=col>management_other</th><th scope=col>management_other - school</th><th scope=col>management_parastatal</th><th scope=col>management_private operator</th><th scope=col>management_trust</th><th scope=col>management_unknown</th><th scope=col>management_vwc</th><th scope=col>management_water authority</th><th scope=col>management_water board</th><th scope=col>management_wua</th><th scope=col>management_wug</th><th scope=col>management_NA</th><th scope=col>payment_never pay</th><th scope=col>payment_other</th><th scope=col>payment_pay annually</th><th scope=col>payment_pay monthly</th><th scope=col>payment_pay per bucket</th><th scope=col>payment_pay when scheme fails</th><th scope=col>payment_unknown</th><th scope=col>payment_NA</th><th scope=col>water_quality_coloured</th><th scope=col>water_quality_fluoride</th><th scope=col>water_quality_fluoride abandoned</th><th scope=col>water_quality_milky</th><th scope=col>water_quality_salty</th><th scope=col>water_quality_salty abandoned</th><th scope=col>water_quality_soft</th><th scope=col>water_quality_unknown</th><th scope=col>water_quality_NA</th><th scope=col>quantity_dry</th><th scope=col>quantity_enough</th><th scope=col>quantity_insufficient</th><th scope=col>quantity_seasonal</th><th scope=col>quantity_unknown</th><th scope=col>quantity_NA</th><th scope=col>source_dam</th><th scope=col>source_hand dtw</th><th scope=col>source_lake</th><th scope=col>source_machine dbh</th><th scope=col>source_other</th><th scope=col>source_rainwater harvesting</th><th scope=col>source_river</th><th scope=col>source_shallow well</th><th scope=col>source_spring</th><th scope=col>source_unknown</th><th scope=col>source_NA</th><th scope=col>waterpoint_type_cattle trough</th><th scope=col>waterpoint_type_communal standpipe</th><th scope=col>waterpoint_type_communal standpipe multiple</th><th scope=col>waterpoint_type_dam</th><th scope=col>waterpoint_type_hand pump</th><th scope=col>waterpoint_type_improved spring</th><th scope=col>waterpoint_type_other</th></tr>\n",
       "\t<tr><th></th><th scope=col>&lt;int&gt;</th><th scope=col>&lt;int&gt;</th><th scope=col>&lt;int&gt;</th><th scope=col>&lt;int&gt;</th><th scope=col>&lt;int&gt;</th><th scope=col>&lt;int&gt;</th><th scope=col>&lt;int&gt;</th><th scope=col>&lt;int&gt;</th><th scope=col>&lt;int&gt;</th><th scope=col>&lt;int&gt;</th><th scope=col>&lt;int&gt;</th><th scope=col>&lt;int&gt;</th><th scope=col>&lt;int&gt;</th><th scope=col>&lt;int&gt;</th><th scope=col>&lt;int&gt;</th><th scope=col>&lt;int&gt;</th><th scope=col>&lt;int&gt;</th><th scope=col>&lt;int&gt;</th><th scope=col>&lt;int&gt;</th><th scope=col>&lt;int&gt;</th><th scope=col>&lt;int&gt;</th><th scope=col>&lt;int&gt;</th><th scope=col>&lt;int&gt;</th><th scope=col>&lt;int&gt;</th><th scope=col>&lt;int&gt;</th><th scope=col>&lt;int&gt;</th><th scope=col>&lt;int&gt;</th><th scope=col>&lt;int&gt;</th><th scope=col>&lt;int&gt;</th><th scope=col>&lt;int&gt;</th><th scope=col>&lt;int&gt;</th><th scope=col>&lt;int&gt;</th><th scope=col>&lt;int&gt;</th><th scope=col>&lt;int&gt;</th><th scope=col>&lt;int&gt;</th><th scope=col>&lt;int&gt;</th><th scope=col>&lt;int&gt;</th><th scope=col>&lt;int&gt;</th><th scope=col>&lt;int&gt;</th><th scope=col>&lt;int&gt;</th><th scope=col>&lt;int&gt;</th><th scope=col>&lt;int&gt;</th><th scope=col>&lt;int&gt;</th><th scope=col>&lt;int&gt;</th><th scope=col>&lt;int&gt;</th><th scope=col>&lt;int&gt;</th><th scope=col>&lt;int&gt;</th><th scope=col>&lt;int&gt;</th><th scope=col>&lt;int&gt;</th><th scope=col>&lt;int&gt;</th><th scope=col>&lt;int&gt;</th><th scope=col>&lt;int&gt;</th><th scope=col>&lt;int&gt;</th><th scope=col>&lt;int&gt;</th><th scope=col>&lt;int&gt;</th><th scope=col>&lt;int&gt;</th><th scope=col>&lt;int&gt;</th><th scope=col>&lt;int&gt;</th><th scope=col>&lt;int&gt;</th><th scope=col>&lt;int&gt;</th><th scope=col>&lt;int&gt;</th><th scope=col>&lt;int&gt;</th><th scope=col>&lt;int&gt;</th><th scope=col>&lt;int&gt;</th><th scope=col>&lt;int&gt;</th><th scope=col>&lt;int&gt;</th><th scope=col>&lt;int&gt;</th><th scope=col>&lt;int&gt;</th><th scope=col>&lt;int&gt;</th><th scope=col>&lt;int&gt;</th><th scope=col>&lt;int&gt;</th><th scope=col>&lt;int&gt;</th><th scope=col>&lt;int&gt;</th><th scope=col>&lt;int&gt;</th><th scope=col>&lt;int&gt;</th><th scope=col>&lt;int&gt;</th><th scope=col>&lt;int&gt;</th><th scope=col>&lt;int&gt;</th><th scope=col>&lt;int&gt;</th><th scope=col>&lt;int&gt;</th><th scope=col>&lt;int&gt;</th><th scope=col>&lt;int&gt;</th><th scope=col>&lt;int&gt;</th><th scope=col>&lt;int&gt;</th><th scope=col>&lt;int&gt;</th><th scope=col>&lt;int&gt;</th><th scope=col>&lt;int&gt;</th><th scope=col>&lt;int&gt;</th><th scope=col>&lt;int&gt;</th><th scope=col>&lt;int&gt;</th><th scope=col>&lt;int&gt;</th><th scope=col>&lt;int&gt;</th><th scope=col>&lt;int&gt;</th><th scope=col>&lt;int&gt;</th><th scope=col>&lt;int&gt;</th><th scope=col>&lt;int&gt;</th><th scope=col>&lt;int&gt;</th><th scope=col>&lt;int&gt;</th><th scope=col>&lt;int&gt;</th></tr>\n",
       "</thead>\n",
       "<tbody>\n",
       "\t<tr><th scope=row>1</th><td>0</td><td>1</td><td>0</td><td>0</td><td>0</td><td>0</td><td>0</td><td>0</td><td>0</td><td>0</td><td>0</td><td>0</td><td>0</td><td>0</td><td>0</td><td>0</td><td>0</td><td>1</td><td>0</td><td>0</td><td>0</td><td>0</td><td>0</td><td>1</td><td>0</td><td>0</td><td>0</td><td>0</td><td>0</td><td>0</td><td>1</td><td>0</td><td>0</td><td>0</td><td>0</td><td>0</td><td>0</td><td>0</td><td>0</td><td>0</td><td>0</td><td>0</td><td>0</td><td>0</td><td>0</td><td>0</td><td>0</td><td>0</td><td>0</td><td>0</td><td>0</td><td>0</td><td>1</td><td>0</td><td>0</td><td>0</td><td>0</td><td>0</td><td>0</td><td>0</td><td>1</td><td>0</td><td>0</td><td>0</td><td>0</td><td>0</td><td>0</td><td>0</td><td>0</td><td>0</td><td>0</td><td>0</td><td>1</td><td>0</td><td>0</td><td>0</td><td>1</td><td>0</td><td>0</td><td>0</td><td>0</td><td>0</td><td>0</td><td>0</td><td>0</td><td>0</td><td>0</td><td>0</td><td>0</td><td>1</td><td>0</td><td>0</td><td>0</td><td>1</td><td>0</td><td>0</td><td>0</td><td>0</td><td>0</td></tr>\n",
       "\t<tr><th scope=row>2</th><td>0</td><td>0</td><td>0</td><td>0</td><td>1</td><td>0</td><td>0</td><td>0</td><td>0</td><td>0</td><td>0</td><td>1</td><td>0</td><td>0</td><td>0</td><td>0</td><td>0</td><td>0</td><td>0</td><td>0</td><td>0</td><td>0</td><td>0</td><td>0</td><td>1</td><td>0</td><td>0</td><td>0</td><td>0</td><td>0</td><td>1</td><td>0</td><td>0</td><td>0</td><td>0</td><td>0</td><td>0</td><td>0</td><td>0</td><td>0</td><td>0</td><td>0</td><td>0</td><td>0</td><td>0</td><td>0</td><td>0</td><td>0</td><td>0</td><td>0</td><td>0</td><td>0</td><td>0</td><td>0</td><td>0</td><td>0</td><td>1</td><td>0</td><td>1</td><td>0</td><td>0</td><td>0</td><td>0</td><td>0</td><td>0</td><td>0</td><td>0</td><td>0</td><td>0</td><td>0</td><td>0</td><td>0</td><td>1</td><td>0</td><td>0</td><td>0</td><td>0</td><td>1</td><td>0</td><td>0</td><td>0</td><td>0</td><td>0</td><td>0</td><td>0</td><td>0</td><td>1</td><td>0</td><td>0</td><td>0</td><td>0</td><td>0</td><td>0</td><td>1</td><td>0</td><td>0</td><td>0</td><td>0</td><td>0</td></tr>\n",
       "</tbody>\n",
       "</table>\n"
      ],
      "text/latex": [
       "A data.frame: 2 × 99\n",
       "\\begin{tabular}{r|lllllllllllllllllllllllllllllllllllllllllllllllllllllllllllllllllllllllllllllllllllllllllllllllllll}\n",
       "  & basin\\_Internal & basin\\_Lake Nyasa & basin\\_Lake Rukwa & basin\\_Lake Tanganyika & basin\\_Lake Victoria & basin\\_Pangani & basin\\_Rufiji & basin\\_Ruvuma / Southern Coast & basin\\_Wami / Ruvu & scheme\\_management\\_Company & scheme\\_management\\_None & scheme\\_management\\_Other & scheme\\_management\\_Parastatal & scheme\\_management\\_Private operator & scheme\\_management\\_SWC & scheme\\_management\\_Trust & scheme\\_management\\_unknown & scheme\\_management\\_VWC & scheme\\_management\\_Water authority & scheme\\_management\\_Water Board & scheme\\_management\\_WUA & scheme\\_management\\_WUG & scheme\\_management\\_NA & permit\\_False & permit\\_True & permit\\_unknown & permit\\_NA & extraction\\_type\\_afridev & extraction\\_type\\_cemo & extraction\\_type\\_climax & extraction\\_type\\_gravity & extraction\\_type\\_india mark ii & extraction\\_type\\_india mark iii & extraction\\_type\\_ksb & extraction\\_type\\_mono & extraction\\_type\\_nira/tanira & extraction\\_type\\_other & extraction\\_type\\_other - mkulima/shinyanga & extraction\\_type\\_other - play pump & extraction\\_type\\_other - rope pump & extraction\\_type\\_other - swn 81 & extraction\\_type\\_submersible & extraction\\_type\\_swn 80 & extraction\\_type\\_walimi & extraction\\_type\\_windmill & management\\_company & management\\_other & management\\_other - school & management\\_parastatal & management\\_private operator & management\\_trust & management\\_unknown & management\\_vwc & management\\_water authority & management\\_water board & management\\_wua & management\\_wug & management\\_NA & payment\\_never pay & payment\\_other & payment\\_pay annually & payment\\_pay monthly & payment\\_pay per bucket & payment\\_pay when scheme fails & payment\\_unknown & payment\\_NA & water\\_quality\\_coloured & water\\_quality\\_fluoride & water\\_quality\\_fluoride abandoned & water\\_quality\\_milky & water\\_quality\\_salty & water\\_quality\\_salty abandoned & water\\_quality\\_soft & water\\_quality\\_unknown & water\\_quality\\_NA & quantity\\_dry & quantity\\_enough & quantity\\_insufficient & quantity\\_seasonal & quantity\\_unknown & quantity\\_NA & source\\_dam & source\\_hand dtw & source\\_lake & source\\_machine dbh & source\\_other & source\\_rainwater harvesting & source\\_river & source\\_shallow well & source\\_spring & source\\_unknown & source\\_NA & waterpoint\\_type\\_cattle trough & waterpoint\\_type\\_communal standpipe & waterpoint\\_type\\_communal standpipe multiple & waterpoint\\_type\\_dam & waterpoint\\_type\\_hand pump & waterpoint\\_type\\_improved spring & waterpoint\\_type\\_other\\\\\n",
       "  & <int> & <int> & <int> & <int> & <int> & <int> & <int> & <int> & <int> & <int> & <int> & <int> & <int> & <int> & <int> & <int> & <int> & <int> & <int> & <int> & <int> & <int> & <int> & <int> & <int> & <int> & <int> & <int> & <int> & <int> & <int> & <int> & <int> & <int> & <int> & <int> & <int> & <int> & <int> & <int> & <int> & <int> & <int> & <int> & <int> & <int> & <int> & <int> & <int> & <int> & <int> & <int> & <int> & <int> & <int> & <int> & <int> & <int> & <int> & <int> & <int> & <int> & <int> & <int> & <int> & <int> & <int> & <int> & <int> & <int> & <int> & <int> & <int> & <int> & <int> & <int> & <int> & <int> & <int> & <int> & <int> & <int> & <int> & <int> & <int> & <int> & <int> & <int> & <int> & <int> & <int> & <int> & <int> & <int> & <int> & <int> & <int> & <int> & <int>\\\\\n",
       "\\hline\n",
       "\t1 & 0 & 1 & 0 & 0 & 0 & 0 & 0 & 0 & 0 & 0 & 0 & 0 & 0 & 0 & 0 & 0 & 0 & 1 & 0 & 0 & 0 & 0 & 0 & 1 & 0 & 0 & 0 & 0 & 0 & 0 & 1 & 0 & 0 & 0 & 0 & 0 & 0 & 0 & 0 & 0 & 0 & 0 & 0 & 0 & 0 & 0 & 0 & 0 & 0 & 0 & 0 & 0 & 1 & 0 & 0 & 0 & 0 & 0 & 0 & 0 & 1 & 0 & 0 & 0 & 0 & 0 & 0 & 0 & 0 & 0 & 0 & 0 & 1 & 0 & 0 & 0 & 1 & 0 & 0 & 0 & 0 & 0 & 0 & 0 & 0 & 0 & 0 & 0 & 0 & 1 & 0 & 0 & 0 & 1 & 0 & 0 & 0 & 0 & 0\\\\\n",
       "\t2 & 0 & 0 & 0 & 0 & 1 & 0 & 0 & 0 & 0 & 0 & 0 & 1 & 0 & 0 & 0 & 0 & 0 & 0 & 0 & 0 & 0 & 0 & 0 & 0 & 1 & 0 & 0 & 0 & 0 & 0 & 1 & 0 & 0 & 0 & 0 & 0 & 0 & 0 & 0 & 0 & 0 & 0 & 0 & 0 & 0 & 0 & 0 & 0 & 0 & 0 & 0 & 0 & 0 & 0 & 0 & 0 & 1 & 0 & 1 & 0 & 0 & 0 & 0 & 0 & 0 & 0 & 0 & 0 & 0 & 0 & 0 & 0 & 1 & 0 & 0 & 0 & 0 & 1 & 0 & 0 & 0 & 0 & 0 & 0 & 0 & 0 & 1 & 0 & 0 & 0 & 0 & 0 & 0 & 1 & 0 & 0 & 0 & 0 & 0\\\\\n",
       "\\end{tabular}\n"
      ],
      "text/markdown": [
       "\n",
       "A data.frame: 2 × 99\n",
       "\n",
       "| <!--/--> | basin_Internal &lt;int&gt; | basin_Lake Nyasa &lt;int&gt; | basin_Lake Rukwa &lt;int&gt; | basin_Lake Tanganyika &lt;int&gt; | basin_Lake Victoria &lt;int&gt; | basin_Pangani &lt;int&gt; | basin_Rufiji &lt;int&gt; | basin_Ruvuma / Southern Coast &lt;int&gt; | basin_Wami / Ruvu &lt;int&gt; | scheme_management_Company &lt;int&gt; | scheme_management_None &lt;int&gt; | scheme_management_Other &lt;int&gt; | scheme_management_Parastatal &lt;int&gt; | scheme_management_Private operator &lt;int&gt; | scheme_management_SWC &lt;int&gt; | scheme_management_Trust &lt;int&gt; | scheme_management_unknown &lt;int&gt; | scheme_management_VWC &lt;int&gt; | scheme_management_Water authority &lt;int&gt; | scheme_management_Water Board &lt;int&gt; | scheme_management_WUA &lt;int&gt; | scheme_management_WUG &lt;int&gt; | scheme_management_NA &lt;int&gt; | permit_False &lt;int&gt; | permit_True &lt;int&gt; | permit_unknown &lt;int&gt; | permit_NA &lt;int&gt; | extraction_type_afridev &lt;int&gt; | extraction_type_cemo &lt;int&gt; | extraction_type_climax &lt;int&gt; | extraction_type_gravity &lt;int&gt; | extraction_type_india mark ii &lt;int&gt; | extraction_type_india mark iii &lt;int&gt; | extraction_type_ksb &lt;int&gt; | extraction_type_mono &lt;int&gt; | extraction_type_nira/tanira &lt;int&gt; | extraction_type_other &lt;int&gt; | extraction_type_other - mkulima/shinyanga &lt;int&gt; | extraction_type_other - play pump &lt;int&gt; | extraction_type_other - rope pump &lt;int&gt; | extraction_type_other - swn 81 &lt;int&gt; | extraction_type_submersible &lt;int&gt; | extraction_type_swn 80 &lt;int&gt; | extraction_type_walimi &lt;int&gt; | extraction_type_windmill &lt;int&gt; | management_company &lt;int&gt; | management_other &lt;int&gt; | management_other - school &lt;int&gt; | management_parastatal &lt;int&gt; | management_private operator &lt;int&gt; | management_trust &lt;int&gt; | management_unknown &lt;int&gt; | management_vwc &lt;int&gt; | management_water authority &lt;int&gt; | management_water board &lt;int&gt; | management_wua &lt;int&gt; | management_wug &lt;int&gt; | management_NA &lt;int&gt; | payment_never pay &lt;int&gt; | payment_other &lt;int&gt; | payment_pay annually &lt;int&gt; | payment_pay monthly &lt;int&gt; | payment_pay per bucket &lt;int&gt; | payment_pay when scheme fails &lt;int&gt; | payment_unknown &lt;int&gt; | payment_NA &lt;int&gt; | water_quality_coloured &lt;int&gt; | water_quality_fluoride &lt;int&gt; | water_quality_fluoride abandoned &lt;int&gt; | water_quality_milky &lt;int&gt; | water_quality_salty &lt;int&gt; | water_quality_salty abandoned &lt;int&gt; | water_quality_soft &lt;int&gt; | water_quality_unknown &lt;int&gt; | water_quality_NA &lt;int&gt; | quantity_dry &lt;int&gt; | quantity_enough &lt;int&gt; | quantity_insufficient &lt;int&gt; | quantity_seasonal &lt;int&gt; | quantity_unknown &lt;int&gt; | quantity_NA &lt;int&gt; | source_dam &lt;int&gt; | source_hand dtw &lt;int&gt; | source_lake &lt;int&gt; | source_machine dbh &lt;int&gt; | source_other &lt;int&gt; | source_rainwater harvesting &lt;int&gt; | source_river &lt;int&gt; | source_shallow well &lt;int&gt; | source_spring &lt;int&gt; | source_unknown &lt;int&gt; | source_NA &lt;int&gt; | waterpoint_type_cattle trough &lt;int&gt; | waterpoint_type_communal standpipe &lt;int&gt; | waterpoint_type_communal standpipe multiple &lt;int&gt; | waterpoint_type_dam &lt;int&gt; | waterpoint_type_hand pump &lt;int&gt; | waterpoint_type_improved spring &lt;int&gt; | waterpoint_type_other &lt;int&gt; |\n",
       "|---|---|---|---|---|---|---|---|---|---|---|---|---|---|---|---|---|---|---|---|---|---|---|---|---|---|---|---|---|---|---|---|---|---|---|---|---|---|---|---|---|---|---|---|---|---|---|---|---|---|---|---|---|---|---|---|---|---|---|---|---|---|---|---|---|---|---|---|---|---|---|---|---|---|---|---|---|---|---|---|---|---|---|---|---|---|---|---|---|---|---|---|---|---|---|---|---|---|---|---|\n",
       "| 1 | 0 | 1 | 0 | 0 | 0 | 0 | 0 | 0 | 0 | 0 | 0 | 0 | 0 | 0 | 0 | 0 | 0 | 1 | 0 | 0 | 0 | 0 | 0 | 1 | 0 | 0 | 0 | 0 | 0 | 0 | 1 | 0 | 0 | 0 | 0 | 0 | 0 | 0 | 0 | 0 | 0 | 0 | 0 | 0 | 0 | 0 | 0 | 0 | 0 | 0 | 0 | 0 | 1 | 0 | 0 | 0 | 0 | 0 | 0 | 0 | 1 | 0 | 0 | 0 | 0 | 0 | 0 | 0 | 0 | 0 | 0 | 0 | 1 | 0 | 0 | 0 | 1 | 0 | 0 | 0 | 0 | 0 | 0 | 0 | 0 | 0 | 0 | 0 | 0 | 1 | 0 | 0 | 0 | 1 | 0 | 0 | 0 | 0 | 0 |\n",
       "| 2 | 0 | 0 | 0 | 0 | 1 | 0 | 0 | 0 | 0 | 0 | 0 | 1 | 0 | 0 | 0 | 0 | 0 | 0 | 0 | 0 | 0 | 0 | 0 | 0 | 1 | 0 | 0 | 0 | 0 | 0 | 1 | 0 | 0 | 0 | 0 | 0 | 0 | 0 | 0 | 0 | 0 | 0 | 0 | 0 | 0 | 0 | 0 | 0 | 0 | 0 | 0 | 0 | 0 | 0 | 0 | 0 | 1 | 0 | 1 | 0 | 0 | 0 | 0 | 0 | 0 | 0 | 0 | 0 | 0 | 0 | 0 | 0 | 1 | 0 | 0 | 0 | 0 | 1 | 0 | 0 | 0 | 0 | 0 | 0 | 0 | 0 | 1 | 0 | 0 | 0 | 0 | 0 | 0 | 1 | 0 | 0 | 0 | 0 | 0 |\n",
       "\n"
      ],
      "text/plain": [
       "  basin_Internal basin_Lake Nyasa basin_Lake Rukwa basin_Lake Tanganyika\n",
       "1 0              1                0                0                    \n",
       "2 0              0                0                0                    \n",
       "  basin_Lake Victoria basin_Pangani basin_Rufiji basin_Ruvuma / Southern Coast\n",
       "1 0                   0             0            0                            \n",
       "2 1                   0             0            0                            \n",
       "  basin_Wami / Ruvu scheme_management_Company scheme_management_None\n",
       "1 0                 0                         0                     \n",
       "2 0                 0                         0                     \n",
       "  scheme_management_Other scheme_management_Parastatal\n",
       "1 0                       0                           \n",
       "2 1                       0                           \n",
       "  scheme_management_Private operator scheme_management_SWC\n",
       "1 0                                  0                    \n",
       "2 0                                  0                    \n",
       "  scheme_management_Trust scheme_management_unknown scheme_management_VWC\n",
       "1 0                       0                         1                    \n",
       "2 0                       0                         0                    \n",
       "  scheme_management_Water authority scheme_management_Water Board\n",
       "1 0                                 0                            \n",
       "2 0                                 0                            \n",
       "  scheme_management_WUA scheme_management_WUG scheme_management_NA permit_False\n",
       "1 0                     0                     0                    1           \n",
       "2 0                     0                     0                    0           \n",
       "  permit_True permit_unknown permit_NA extraction_type_afridev\n",
       "1 0           0              0         0                      \n",
       "2 1           0              0         0                      \n",
       "  extraction_type_cemo extraction_type_climax extraction_type_gravity\n",
       "1 0                    0                      1                      \n",
       "2 0                    0                      1                      \n",
       "  extraction_type_india mark ii extraction_type_india mark iii\n",
       "1 0                             0                             \n",
       "2 0                             0                             \n",
       "  extraction_type_ksb extraction_type_mono extraction_type_nira/tanira\n",
       "1 0                   0                    0                          \n",
       "2 0                   0                    0                          \n",
       "  extraction_type_other extraction_type_other - mkulima/shinyanga\n",
       "1 0                     0                                        \n",
       "2 0                     0                                        \n",
       "  extraction_type_other - play pump extraction_type_other - rope pump\n",
       "1 0                                 0                                \n",
       "2 0                                 0                                \n",
       "  extraction_type_other - swn 81 extraction_type_submersible\n",
       "1 0                              0                          \n",
       "2 0                              0                          \n",
       "  extraction_type_swn 80 extraction_type_walimi extraction_type_windmill\n",
       "1 0                      0                      0                       \n",
       "2 0                      0                      0                       \n",
       "  management_company management_other management_other - school\n",
       "1 0                  0                0                        \n",
       "2 0                  0                0                        \n",
       "  management_parastatal management_private operator management_trust\n",
       "1 0                     0                           0               \n",
       "2 0                     0                           0               \n",
       "  management_unknown management_vwc management_water authority\n",
       "1 0                  1              0                         \n",
       "2 0                  0              0                         \n",
       "  management_water board management_wua management_wug management_NA\n",
       "1 0                      0              0              0            \n",
       "2 0                      0              1              0            \n",
       "  payment_never pay payment_other payment_pay annually payment_pay monthly\n",
       "1 0                 0             1                    0                  \n",
       "2 1                 0             0                    0                  \n",
       "  payment_pay per bucket payment_pay when scheme fails payment_unknown\n",
       "1 0                      0                             0              \n",
       "2 0                      0                             0              \n",
       "  payment_NA water_quality_coloured water_quality_fluoride\n",
       "1 0          0                      0                     \n",
       "2 0          0                      0                     \n",
       "  water_quality_fluoride abandoned water_quality_milky water_quality_salty\n",
       "1 0                                0                   0                  \n",
       "2 0                                0                   0                  \n",
       "  water_quality_salty abandoned water_quality_soft water_quality_unknown\n",
       "1 0                             1                  0                    \n",
       "2 0                             1                  0                    \n",
       "  water_quality_NA quantity_dry quantity_enough quantity_insufficient\n",
       "1 0                0            1               0                    \n",
       "2 0                0            0               1                    \n",
       "  quantity_seasonal quantity_unknown quantity_NA source_dam source_hand dtw\n",
       "1 0                 0                0           0          0              \n",
       "2 0                 0                0           0          0              \n",
       "  source_lake source_machine dbh source_other source_rainwater harvesting\n",
       "1 0           0                  0            0                          \n",
       "2 0           0                  0            1                          \n",
       "  source_river source_shallow well source_spring source_unknown source_NA\n",
       "1 0            0                   1             0              0        \n",
       "2 0            0                   0             0              0        \n",
       "  waterpoint_type_cattle trough waterpoint_type_communal standpipe\n",
       "1 0                             1                                 \n",
       "2 0                             1                                 \n",
       "  waterpoint_type_communal standpipe multiple waterpoint_type_dam\n",
       "1 0                                           0                  \n",
       "2 0                                           0                  \n",
       "  waterpoint_type_hand pump waterpoint_type_improved spring\n",
       "1 0                         0                              \n",
       "2 0                         0                              \n",
       "  waterpoint_type_other\n",
       "1 0                    \n",
       "2 0                    "
      ]
     },
     "metadata": {},
     "output_type": "display_data"
    },
    {
     "data": {
      "text/html": [
       "<style>\n",
       ".list-inline {list-style: none; margin:0; padding: 0}\n",
       ".list-inline>li {display: inline-block}\n",
       ".list-inline>li:not(:last-child)::after {content: \"\\00b7\"; padding: 0 .5ex}\n",
       "</style>\n",
       "<ol class=list-inline><li>74250</li><li>15</li></ol>\n"
      ],
      "text/latex": [
       "\\begin{enumerate*}\n",
       "\\item 74250\n",
       "\\item 15\n",
       "\\end{enumerate*}\n"
      ],
      "text/markdown": [
       "1. 74250\n",
       "2. 15\n",
       "\n",
       "\n"
      ],
      "text/plain": [
       "[1] 74250    15"
      ]
     },
     "metadata": {},
     "output_type": "display_data"
    },
    {
     "data": {
      "text/html": [
       "<style>\n",
       ".list-inline {list-style: none; margin:0; padding: 0}\n",
       ".list-inline>li {display: inline-block}\n",
       ".list-inline>li:not(:last-child)::after {content: \"\\00b7\"; padding: 0 .5ex}\n",
       "</style>\n",
       "<ol class=list-inline><li>59400</li><li>15</li></ol>\n"
      ],
      "text/latex": [
       "\\begin{enumerate*}\n",
       "\\item 59400\n",
       "\\item 15\n",
       "\\end{enumerate*}\n"
      ],
      "text/markdown": [
       "1. 59400\n",
       "2. 15\n",
       "\n",
       "\n"
      ],
      "text/plain": [
       "[1] 59400    15"
      ]
     },
     "metadata": {},
     "output_type": "display_data"
    }
   ],
   "source": [
    "library(dummies)\n",
    "\n",
    "total_data <- rbind(training_set_values,test_set_values) # merge train and test to make dummies variable\n",
    "\n",
    "factor_variables <- which(sapply(total_data[1,],class)==\"factor\") # take only factor variable\n",
    "data_fact <- total_data[,factor_variables]\n",
    "\n",
    "only_num_var <- total_data[,-factor_variables]\n",
    "\n",
    "# variables_to_keep <- c(\"permit\", \"quantity\") # variable to transform\n",
    "\n",
    "gc()\n",
    "memory.limit(999999999999)\n",
    "variables_to_keep <- names(data_fact)\n",
    "data_factor_onehot <- dummy.data.frame(data_fact[,variables_to_keep], sep=\"_\")\n",
    "gc()\n",
    "\n",
    "data_factor_onehot[1:2,]\n",
    "\n",
    "dim(total_data)\n",
    "dim(training_set_values)\n",
    "\n",
    "total_with_dummies <- cbind(only_num_var,data_factor_onehot)\n",
    "\n",
    "# resplit data\n",
    "# data_train\n",
    "data_train <- total_with_dummies[1:59400,]\n",
    "data_train <- cbind(data_train, training_set_labels[2])\n",
    "\n",
    "\n",
    "# data_test\n",
    "data_test <- total_with_dummies[59401:74250,]\n"
   ]
  },
  {
   "cell_type": "code",
   "execution_count": 5,
   "metadata": {},
   "outputs": [
    {
     "data": {
      "text/html": [
       "<table class=\"dataframe\">\n",
       "<caption>A data.frame: 6 × 105</caption>\n",
       "<thead>\n",
       "\t<tr><th></th><th scope=col>id</th><th scope=col>amount_tsh</th><th scope=col>gps_height</th><th scope=col>region_code</th><th scope=col>construction_year</th><th scope=col>basin_Internal</th><th scope=col>basin_Lake.Nyasa</th><th scope=col>basin_Lake.Rukwa</th><th scope=col>basin_Lake.Tanganyika</th><th scope=col>basin_Lake.Victoria</th><th scope=col>basin_Pangani</th><th scope=col>basin_Rufiji</th><th scope=col>basin_Ruvuma...Southern.Coast</th><th scope=col>basin_Wami...Ruvu</th><th scope=col>scheme_management_Company</th><th scope=col>scheme_management_None</th><th scope=col>scheme_management_Other</th><th scope=col>scheme_management_Parastatal</th><th scope=col>scheme_management_Private.operator</th><th scope=col>scheme_management_SWC</th><th scope=col>scheme_management_Trust</th><th scope=col>scheme_management_unknown</th><th scope=col>scheme_management_VWC</th><th scope=col>scheme_management_Water.authority</th><th scope=col>scheme_management_Water.Board</th><th scope=col>scheme_management_WUA</th><th scope=col>scheme_management_WUG</th><th scope=col>scheme_management_NA</th><th scope=col>permit_False</th><th scope=col>permit_True</th><th scope=col>permit_unknown</th><th scope=col>permit_NA</th><th scope=col>extraction_type_afridev</th><th scope=col>extraction_type_cemo</th><th scope=col>extraction_type_climax</th><th scope=col>extraction_type_gravity</th><th scope=col>extraction_type_india.mark.ii</th><th scope=col>extraction_type_india.mark.iii</th><th scope=col>extraction_type_ksb</th><th scope=col>extraction_type_mono</th><th scope=col>extraction_type_nira.tanira</th><th scope=col>extraction_type_other</th><th scope=col>extraction_type_other...mkulima.shinyanga</th><th scope=col>extraction_type_other...play.pump</th><th scope=col>extraction_type_other...rope.pump</th><th scope=col>extraction_type_other...swn.81</th><th scope=col>extraction_type_submersible</th><th scope=col>extraction_type_swn.80</th><th scope=col>extraction_type_walimi</th><th scope=col>extraction_type_windmill</th><th scope=col>...</th><th scope=col>management_trust</th><th scope=col>management_unknown</th><th scope=col>management_vwc</th><th scope=col>management_water.authority</th><th scope=col>management_water.board</th><th scope=col>management_wua</th><th scope=col>management_wug</th><th scope=col>management_NA</th><th scope=col>payment_never.pay</th><th scope=col>payment_other</th><th scope=col>payment_pay.annually</th><th scope=col>payment_pay.monthly</th><th scope=col>payment_pay.per.bucket</th><th scope=col>payment_pay.when.scheme.fails</th><th scope=col>payment_unknown</th><th scope=col>payment_NA</th><th scope=col>water_quality_coloured</th><th scope=col>water_quality_fluoride</th><th scope=col>water_quality_fluoride.abandoned</th><th scope=col>water_quality_milky</th><th scope=col>water_quality_salty</th><th scope=col>water_quality_salty.abandoned</th><th scope=col>water_quality_soft</th><th scope=col>water_quality_unknown</th><th scope=col>water_quality_NA</th><th scope=col>quantity_dry</th><th scope=col>quantity_enough</th><th scope=col>quantity_insufficient</th><th scope=col>quantity_seasonal</th><th scope=col>quantity_unknown</th><th scope=col>quantity_NA</th><th scope=col>source_dam</th><th scope=col>source_hand.dtw</th><th scope=col>source_lake</th><th scope=col>source_machine.dbh</th><th scope=col>source_other</th><th scope=col>source_rainwater.harvesting</th><th scope=col>source_river</th><th scope=col>source_shallow.well</th><th scope=col>source_spring</th><th scope=col>source_unknown</th><th scope=col>source_NA</th><th scope=col>waterpoint_type_cattle.trough</th><th scope=col>waterpoint_type_communal.standpipe</th><th scope=col>waterpoint_type_communal.standpipe.multiple</th><th scope=col>waterpoint_type_dam</th><th scope=col>waterpoint_type_hand.pump</th><th scope=col>waterpoint_type_improved.spring</th><th scope=col>waterpoint_type_other</th><th scope=col>status_group</th></tr>\n",
       "\t<tr><th></th><th scope=col>&lt;int&gt;</th><th scope=col>&lt;dbl&gt;</th><th scope=col>&lt;int&gt;</th><th scope=col>&lt;int&gt;</th><th scope=col>&lt;int&gt;</th><th scope=col>&lt;int&gt;</th><th scope=col>&lt;int&gt;</th><th scope=col>&lt;int&gt;</th><th scope=col>&lt;int&gt;</th><th scope=col>&lt;int&gt;</th><th scope=col>&lt;int&gt;</th><th scope=col>&lt;int&gt;</th><th scope=col>&lt;int&gt;</th><th scope=col>&lt;int&gt;</th><th scope=col>&lt;int&gt;</th><th scope=col>&lt;int&gt;</th><th scope=col>&lt;int&gt;</th><th scope=col>&lt;int&gt;</th><th scope=col>&lt;int&gt;</th><th scope=col>&lt;int&gt;</th><th scope=col>&lt;int&gt;</th><th scope=col>&lt;int&gt;</th><th scope=col>&lt;int&gt;</th><th scope=col>&lt;int&gt;</th><th scope=col>&lt;int&gt;</th><th scope=col>&lt;int&gt;</th><th scope=col>&lt;int&gt;</th><th scope=col>&lt;int&gt;</th><th scope=col>&lt;int&gt;</th><th scope=col>&lt;int&gt;</th><th scope=col>&lt;int&gt;</th><th scope=col>&lt;int&gt;</th><th scope=col>&lt;int&gt;</th><th scope=col>&lt;int&gt;</th><th scope=col>&lt;int&gt;</th><th scope=col>&lt;int&gt;</th><th scope=col>&lt;int&gt;</th><th scope=col>&lt;int&gt;</th><th scope=col>&lt;int&gt;</th><th scope=col>&lt;int&gt;</th><th scope=col>&lt;int&gt;</th><th scope=col>&lt;int&gt;</th><th scope=col>&lt;int&gt;</th><th scope=col>&lt;int&gt;</th><th scope=col>&lt;int&gt;</th><th scope=col>&lt;int&gt;</th><th scope=col>&lt;int&gt;</th><th scope=col>&lt;int&gt;</th><th scope=col>&lt;int&gt;</th><th scope=col>&lt;int&gt;</th><th scope=col>...</th><th scope=col>&lt;int&gt;</th><th scope=col>&lt;int&gt;</th><th scope=col>&lt;int&gt;</th><th scope=col>&lt;int&gt;</th><th scope=col>&lt;int&gt;</th><th scope=col>&lt;int&gt;</th><th scope=col>&lt;int&gt;</th><th scope=col>&lt;int&gt;</th><th scope=col>&lt;int&gt;</th><th scope=col>&lt;int&gt;</th><th scope=col>&lt;int&gt;</th><th scope=col>&lt;int&gt;</th><th scope=col>&lt;int&gt;</th><th scope=col>&lt;int&gt;</th><th scope=col>&lt;int&gt;</th><th scope=col>&lt;int&gt;</th><th scope=col>&lt;int&gt;</th><th scope=col>&lt;int&gt;</th><th scope=col>&lt;int&gt;</th><th scope=col>&lt;int&gt;</th><th scope=col>&lt;int&gt;</th><th scope=col>&lt;int&gt;</th><th scope=col>&lt;int&gt;</th><th scope=col>&lt;int&gt;</th><th scope=col>&lt;int&gt;</th><th scope=col>&lt;int&gt;</th><th scope=col>&lt;int&gt;</th><th scope=col>&lt;int&gt;</th><th scope=col>&lt;int&gt;</th><th scope=col>&lt;int&gt;</th><th scope=col>&lt;int&gt;</th><th scope=col>&lt;int&gt;</th><th scope=col>&lt;int&gt;</th><th scope=col>&lt;int&gt;</th><th scope=col>&lt;int&gt;</th><th scope=col>&lt;int&gt;</th><th scope=col>&lt;int&gt;</th><th scope=col>&lt;int&gt;</th><th scope=col>&lt;int&gt;</th><th scope=col>&lt;int&gt;</th><th scope=col>&lt;int&gt;</th><th scope=col>&lt;int&gt;</th><th scope=col>&lt;int&gt;</th><th scope=col>&lt;int&gt;</th><th scope=col>&lt;int&gt;</th><th scope=col>&lt;int&gt;</th><th scope=col>&lt;int&gt;</th><th scope=col>&lt;int&gt;</th><th scope=col>&lt;int&gt;</th><th scope=col>&lt;fct&gt;</th></tr>\n",
       "</thead>\n",
       "<tbody>\n",
       "\t<tr><th scope=row>1</th><td>69572</td><td>6000</td><td>1390</td><td>11</td><td>1999</td><td>0</td><td>1</td><td>0</td><td>0</td><td>0</td><td>0</td><td>0</td><td>0</td><td>0</td><td>0</td><td>0</td><td>0</td><td>0</td><td>0</td><td>0</td><td>0</td><td>0</td><td>1</td><td>0</td><td>0</td><td>0</td><td>0</td><td>0</td><td>1</td><td>0</td><td>0</td><td>0</td><td>0</td><td>0</td><td>0</td><td>1</td><td>0</td><td>0</td><td>0</td><td>0</td><td>0</td><td>0</td><td>0</td><td>0</td><td>0</td><td>0</td><td>0</td><td>0</td><td>0</td><td>0</td><td>...</td><td>0</td><td>0</td><td>1</td><td>0</td><td>0</td><td>0</td><td>0</td><td>0</td><td>0</td><td>0</td><td>1</td><td>0</td><td>0</td><td>0</td><td>0</td><td>0</td><td>0</td><td>0</td><td>0</td><td>0</td><td>0</td><td>0</td><td>1</td><td>0</td><td>0</td><td>0</td><td>1</td><td>0</td><td>0</td><td>0</td><td>0</td><td>0</td><td>0</td><td>0</td><td>0</td><td>0</td><td>0</td><td>0</td><td>0</td><td>1</td><td>0</td><td>0</td><td>0</td><td>1</td><td>0</td><td>0</td><td>0</td><td>0</td><td>0</td><td>functional    </td></tr>\n",
       "\t<tr><th scope=row>2</th><td> 8776</td><td>   0</td><td>1399</td><td>20</td><td>2010</td><td>0</td><td>0</td><td>0</td><td>0</td><td>1</td><td>0</td><td>0</td><td>0</td><td>0</td><td>0</td><td>0</td><td>1</td><td>0</td><td>0</td><td>0</td><td>0</td><td>0</td><td>0</td><td>0</td><td>0</td><td>0</td><td>0</td><td>0</td><td>0</td><td>1</td><td>0</td><td>0</td><td>0</td><td>0</td><td>0</td><td>1</td><td>0</td><td>0</td><td>0</td><td>0</td><td>0</td><td>0</td><td>0</td><td>0</td><td>0</td><td>0</td><td>0</td><td>0</td><td>0</td><td>0</td><td>...</td><td>0</td><td>0</td><td>0</td><td>0</td><td>0</td><td>0</td><td>1</td><td>0</td><td>1</td><td>0</td><td>0</td><td>0</td><td>0</td><td>0</td><td>0</td><td>0</td><td>0</td><td>0</td><td>0</td><td>0</td><td>0</td><td>0</td><td>1</td><td>0</td><td>0</td><td>0</td><td>0</td><td>1</td><td>0</td><td>0</td><td>0</td><td>0</td><td>0</td><td>0</td><td>0</td><td>0</td><td>1</td><td>0</td><td>0</td><td>0</td><td>0</td><td>0</td><td>0</td><td>1</td><td>0</td><td>0</td><td>0</td><td>0</td><td>0</td><td>functional    </td></tr>\n",
       "\t<tr><th scope=row>3</th><td>34310</td><td>  25</td><td> 686</td><td>21</td><td>2009</td><td>0</td><td>0</td><td>0</td><td>0</td><td>0</td><td>1</td><td>0</td><td>0</td><td>0</td><td>0</td><td>0</td><td>0</td><td>0</td><td>0</td><td>0</td><td>0</td><td>0</td><td>1</td><td>0</td><td>0</td><td>0</td><td>0</td><td>0</td><td>0</td><td>1</td><td>0</td><td>0</td><td>0</td><td>0</td><td>0</td><td>1</td><td>0</td><td>0</td><td>0</td><td>0</td><td>0</td><td>0</td><td>0</td><td>0</td><td>0</td><td>0</td><td>0</td><td>0</td><td>0</td><td>0</td><td>...</td><td>0</td><td>0</td><td>1</td><td>0</td><td>0</td><td>0</td><td>0</td><td>0</td><td>0</td><td>0</td><td>0</td><td>0</td><td>1</td><td>0</td><td>0</td><td>0</td><td>0</td><td>0</td><td>0</td><td>0</td><td>0</td><td>0</td><td>1</td><td>0</td><td>0</td><td>0</td><td>1</td><td>0</td><td>0</td><td>0</td><td>0</td><td>1</td><td>0</td><td>0</td><td>0</td><td>0</td><td>0</td><td>0</td><td>0</td><td>0</td><td>0</td><td>0</td><td>0</td><td>0</td><td>1</td><td>0</td><td>0</td><td>0</td><td>0</td><td>functional    </td></tr>\n",
       "\t<tr><th scope=row>4</th><td>67743</td><td>   0</td><td> 263</td><td>90</td><td>1986</td><td>0</td><td>0</td><td>0</td><td>0</td><td>0</td><td>0</td><td>0</td><td>1</td><td>0</td><td>0</td><td>0</td><td>0</td><td>0</td><td>0</td><td>0</td><td>0</td><td>0</td><td>1</td><td>0</td><td>0</td><td>0</td><td>0</td><td>0</td><td>0</td><td>1</td><td>0</td><td>0</td><td>0</td><td>0</td><td>0</td><td>0</td><td>0</td><td>0</td><td>0</td><td>0</td><td>0</td><td>0</td><td>0</td><td>0</td><td>0</td><td>0</td><td>1</td><td>0</td><td>0</td><td>0</td><td>...</td><td>0</td><td>0</td><td>1</td><td>0</td><td>0</td><td>0</td><td>0</td><td>0</td><td>1</td><td>0</td><td>0</td><td>0</td><td>0</td><td>0</td><td>0</td><td>0</td><td>0</td><td>0</td><td>0</td><td>0</td><td>0</td><td>0</td><td>1</td><td>0</td><td>0</td><td>1</td><td>0</td><td>0</td><td>0</td><td>0</td><td>0</td><td>0</td><td>0</td><td>0</td><td>1</td><td>0</td><td>0</td><td>0</td><td>0</td><td>0</td><td>0</td><td>0</td><td>0</td><td>0</td><td>1</td><td>0</td><td>0</td><td>0</td><td>0</td><td>non functional</td></tr>\n",
       "\t<tr><th scope=row>5</th><td>19728</td><td>   0</td><td>   0</td><td>18</td><td>   0</td><td>0</td><td>0</td><td>0</td><td>0</td><td>1</td><td>0</td><td>0</td><td>0</td><td>0</td><td>0</td><td>0</td><td>0</td><td>0</td><td>0</td><td>0</td><td>0</td><td>1</td><td>0</td><td>0</td><td>0</td><td>0</td><td>0</td><td>0</td><td>0</td><td>1</td><td>0</td><td>0</td><td>0</td><td>0</td><td>0</td><td>1</td><td>0</td><td>0</td><td>0</td><td>0</td><td>0</td><td>0</td><td>0</td><td>0</td><td>0</td><td>0</td><td>0</td><td>0</td><td>0</td><td>0</td><td>...</td><td>0</td><td>0</td><td>0</td><td>0</td><td>0</td><td>0</td><td>0</td><td>0</td><td>1</td><td>0</td><td>0</td><td>0</td><td>0</td><td>0</td><td>0</td><td>0</td><td>0</td><td>0</td><td>0</td><td>0</td><td>0</td><td>0</td><td>1</td><td>0</td><td>0</td><td>0</td><td>0</td><td>0</td><td>1</td><td>0</td><td>0</td><td>0</td><td>0</td><td>0</td><td>0</td><td>0</td><td>1</td><td>0</td><td>0</td><td>0</td><td>0</td><td>0</td><td>0</td><td>1</td><td>0</td><td>0</td><td>0</td><td>0</td><td>0</td><td>functional    </td></tr>\n",
       "\t<tr><th scope=row>6</th><td> 9944</td><td>  20</td><td>   0</td><td> 4</td><td>2009</td><td>0</td><td>0</td><td>0</td><td>0</td><td>0</td><td>1</td><td>0</td><td>0</td><td>0</td><td>0</td><td>0</td><td>0</td><td>0</td><td>0</td><td>0</td><td>0</td><td>0</td><td>1</td><td>0</td><td>0</td><td>0</td><td>0</td><td>0</td><td>0</td><td>1</td><td>0</td><td>0</td><td>0</td><td>0</td><td>0</td><td>0</td><td>0</td><td>0</td><td>0</td><td>0</td><td>0</td><td>0</td><td>0</td><td>0</td><td>0</td><td>0</td><td>1</td><td>0</td><td>0</td><td>0</td><td>...</td><td>0</td><td>0</td><td>1</td><td>0</td><td>0</td><td>0</td><td>0</td><td>0</td><td>0</td><td>0</td><td>0</td><td>0</td><td>1</td><td>0</td><td>0</td><td>0</td><td>0</td><td>0</td><td>0</td><td>0</td><td>1</td><td>0</td><td>0</td><td>0</td><td>0</td><td>0</td><td>1</td><td>0</td><td>0</td><td>0</td><td>0</td><td>0</td><td>0</td><td>0</td><td>0</td><td>1</td><td>0</td><td>0</td><td>0</td><td>0</td><td>0</td><td>0</td><td>0</td><td>0</td><td>1</td><td>0</td><td>0</td><td>0</td><td>0</td><td>functional    </td></tr>\n",
       "</tbody>\n",
       "</table>\n"
      ],
      "text/latex": [
       "A data.frame: 6 × 105\n",
       "\\begin{tabular}{r|lllllllllllllllllllllllllllllllllllllllllllllllllllllllllllllllllllllllllllllllllllllllllllllllllllll}\n",
       "  & id & amount\\_tsh & gps\\_height & region\\_code & construction\\_year & basin\\_Internal & basin\\_Lake.Nyasa & basin\\_Lake.Rukwa & basin\\_Lake.Tanganyika & basin\\_Lake.Victoria & basin\\_Pangani & basin\\_Rufiji & basin\\_Ruvuma...Southern.Coast & basin\\_Wami...Ruvu & scheme\\_management\\_Company & scheme\\_management\\_None & scheme\\_management\\_Other & scheme\\_management\\_Parastatal & scheme\\_management\\_Private.operator & scheme\\_management\\_SWC & scheme\\_management\\_Trust & scheme\\_management\\_unknown & scheme\\_management\\_VWC & scheme\\_management\\_Water.authority & scheme\\_management\\_Water.Board & scheme\\_management\\_WUA & scheme\\_management\\_WUG & scheme\\_management\\_NA & permit\\_False & permit\\_True & permit\\_unknown & permit\\_NA & extraction\\_type\\_afridev & extraction\\_type\\_cemo & extraction\\_type\\_climax & extraction\\_type\\_gravity & extraction\\_type\\_india.mark.ii & extraction\\_type\\_india.mark.iii & extraction\\_type\\_ksb & extraction\\_type\\_mono & extraction\\_type\\_nira.tanira & extraction\\_type\\_other & extraction\\_type\\_other...mkulima.shinyanga & extraction\\_type\\_other...play.pump & extraction\\_type\\_other...rope.pump & extraction\\_type\\_other...swn.81 & extraction\\_type\\_submersible & extraction\\_type\\_swn.80 & extraction\\_type\\_walimi & extraction\\_type\\_windmill & ... & management\\_trust & management\\_unknown & management\\_vwc & management\\_water.authority & management\\_water.board & management\\_wua & management\\_wug & management\\_NA & payment\\_never.pay & payment\\_other & payment\\_pay.annually & payment\\_pay.monthly & payment\\_pay.per.bucket & payment\\_pay.when.scheme.fails & payment\\_unknown & payment\\_NA & water\\_quality\\_coloured & water\\_quality\\_fluoride & water\\_quality\\_fluoride.abandoned & water\\_quality\\_milky & water\\_quality\\_salty & water\\_quality\\_salty.abandoned & water\\_quality\\_soft & water\\_quality\\_unknown & water\\_quality\\_NA & quantity\\_dry & quantity\\_enough & quantity\\_insufficient & quantity\\_seasonal & quantity\\_unknown & quantity\\_NA & source\\_dam & source\\_hand.dtw & source\\_lake & source\\_machine.dbh & source\\_other & source\\_rainwater.harvesting & source\\_river & source\\_shallow.well & source\\_spring & source\\_unknown & source\\_NA & waterpoint\\_type\\_cattle.trough & waterpoint\\_type\\_communal.standpipe & waterpoint\\_type\\_communal.standpipe.multiple & waterpoint\\_type\\_dam & waterpoint\\_type\\_hand.pump & waterpoint\\_type\\_improved.spring & waterpoint\\_type\\_other & status\\_group\\\\\n",
       "  & <int> & <dbl> & <int> & <int> & <int> & <int> & <int> & <int> & <int> & <int> & <int> & <int> & <int> & <int> & <int> & <int> & <int> & <int> & <int> & <int> & <int> & <int> & <int> & <int> & <int> & <int> & <int> & <int> & <int> & <int> & <int> & <int> & <int> & <int> & <int> & <int> & <int> & <int> & <int> & <int> & <int> & <int> & <int> & <int> & <int> & <int> & <int> & <int> & <int> & <int> & ... & <int> & <int> & <int> & <int> & <int> & <int> & <int> & <int> & <int> & <int> & <int> & <int> & <int> & <int> & <int> & <int> & <int> & <int> & <int> & <int> & <int> & <int> & <int> & <int> & <int> & <int> & <int> & <int> & <int> & <int> & <int> & <int> & <int> & <int> & <int> & <int> & <int> & <int> & <int> & <int> & <int> & <int> & <int> & <int> & <int> & <int> & <int> & <int> & <int> & <fct>\\\\\n",
       "\\hline\n",
       "\t1 & 69572 & 6000 & 1390 & 11 & 1999 & 0 & 1 & 0 & 0 & 0 & 0 & 0 & 0 & 0 & 0 & 0 & 0 & 0 & 0 & 0 & 0 & 0 & 1 & 0 & 0 & 0 & 0 & 0 & 1 & 0 & 0 & 0 & 0 & 0 & 0 & 1 & 0 & 0 & 0 & 0 & 0 & 0 & 0 & 0 & 0 & 0 & 0 & 0 & 0 & 0 & ... & 0 & 0 & 1 & 0 & 0 & 0 & 0 & 0 & 0 & 0 & 1 & 0 & 0 & 0 & 0 & 0 & 0 & 0 & 0 & 0 & 0 & 0 & 1 & 0 & 0 & 0 & 1 & 0 & 0 & 0 & 0 & 0 & 0 & 0 & 0 & 0 & 0 & 0 & 0 & 1 & 0 & 0 & 0 & 1 & 0 & 0 & 0 & 0 & 0 & functional    \\\\\n",
       "\t2 &  8776 &    0 & 1399 & 20 & 2010 & 0 & 0 & 0 & 0 & 1 & 0 & 0 & 0 & 0 & 0 & 0 & 1 & 0 & 0 & 0 & 0 & 0 & 0 & 0 & 0 & 0 & 0 & 0 & 0 & 1 & 0 & 0 & 0 & 0 & 0 & 1 & 0 & 0 & 0 & 0 & 0 & 0 & 0 & 0 & 0 & 0 & 0 & 0 & 0 & 0 & ... & 0 & 0 & 0 & 0 & 0 & 0 & 1 & 0 & 1 & 0 & 0 & 0 & 0 & 0 & 0 & 0 & 0 & 0 & 0 & 0 & 0 & 0 & 1 & 0 & 0 & 0 & 0 & 1 & 0 & 0 & 0 & 0 & 0 & 0 & 0 & 0 & 1 & 0 & 0 & 0 & 0 & 0 & 0 & 1 & 0 & 0 & 0 & 0 & 0 & functional    \\\\\n",
       "\t3 & 34310 &   25 &  686 & 21 & 2009 & 0 & 0 & 0 & 0 & 0 & 1 & 0 & 0 & 0 & 0 & 0 & 0 & 0 & 0 & 0 & 0 & 0 & 1 & 0 & 0 & 0 & 0 & 0 & 0 & 1 & 0 & 0 & 0 & 0 & 0 & 1 & 0 & 0 & 0 & 0 & 0 & 0 & 0 & 0 & 0 & 0 & 0 & 0 & 0 & 0 & ... & 0 & 0 & 1 & 0 & 0 & 0 & 0 & 0 & 0 & 0 & 0 & 0 & 1 & 0 & 0 & 0 & 0 & 0 & 0 & 0 & 0 & 0 & 1 & 0 & 0 & 0 & 1 & 0 & 0 & 0 & 0 & 1 & 0 & 0 & 0 & 0 & 0 & 0 & 0 & 0 & 0 & 0 & 0 & 0 & 1 & 0 & 0 & 0 & 0 & functional    \\\\\n",
       "\t4 & 67743 &    0 &  263 & 90 & 1986 & 0 & 0 & 0 & 0 & 0 & 0 & 0 & 1 & 0 & 0 & 0 & 0 & 0 & 0 & 0 & 0 & 0 & 1 & 0 & 0 & 0 & 0 & 0 & 0 & 1 & 0 & 0 & 0 & 0 & 0 & 0 & 0 & 0 & 0 & 0 & 0 & 0 & 0 & 0 & 0 & 0 & 1 & 0 & 0 & 0 & ... & 0 & 0 & 1 & 0 & 0 & 0 & 0 & 0 & 1 & 0 & 0 & 0 & 0 & 0 & 0 & 0 & 0 & 0 & 0 & 0 & 0 & 0 & 1 & 0 & 0 & 1 & 0 & 0 & 0 & 0 & 0 & 0 & 0 & 0 & 1 & 0 & 0 & 0 & 0 & 0 & 0 & 0 & 0 & 0 & 1 & 0 & 0 & 0 & 0 & non functional\\\\\n",
       "\t5 & 19728 &    0 &    0 & 18 &    0 & 0 & 0 & 0 & 0 & 1 & 0 & 0 & 0 & 0 & 0 & 0 & 0 & 0 & 0 & 0 & 0 & 1 & 0 & 0 & 0 & 0 & 0 & 0 & 0 & 1 & 0 & 0 & 0 & 0 & 0 & 1 & 0 & 0 & 0 & 0 & 0 & 0 & 0 & 0 & 0 & 0 & 0 & 0 & 0 & 0 & ... & 0 & 0 & 0 & 0 & 0 & 0 & 0 & 0 & 1 & 0 & 0 & 0 & 0 & 0 & 0 & 0 & 0 & 0 & 0 & 0 & 0 & 0 & 1 & 0 & 0 & 0 & 0 & 0 & 1 & 0 & 0 & 0 & 0 & 0 & 0 & 0 & 1 & 0 & 0 & 0 & 0 & 0 & 0 & 1 & 0 & 0 & 0 & 0 & 0 & functional    \\\\\n",
       "\t6 &  9944 &   20 &    0 &  4 & 2009 & 0 & 0 & 0 & 0 & 0 & 1 & 0 & 0 & 0 & 0 & 0 & 0 & 0 & 0 & 0 & 0 & 0 & 1 & 0 & 0 & 0 & 0 & 0 & 0 & 1 & 0 & 0 & 0 & 0 & 0 & 0 & 0 & 0 & 0 & 0 & 0 & 0 & 0 & 0 & 0 & 0 & 1 & 0 & 0 & 0 & ... & 0 & 0 & 1 & 0 & 0 & 0 & 0 & 0 & 0 & 0 & 0 & 0 & 1 & 0 & 0 & 0 & 0 & 0 & 0 & 0 & 1 & 0 & 0 & 0 & 0 & 0 & 1 & 0 & 0 & 0 & 0 & 0 & 0 & 0 & 0 & 1 & 0 & 0 & 0 & 0 & 0 & 0 & 0 & 0 & 1 & 0 & 0 & 0 & 0 & functional    \\\\\n",
       "\\end{tabular}\n"
      ],
      "text/markdown": [
       "\n",
       "A data.frame: 6 × 105\n",
       "\n",
       "| <!--/--> | id &lt;int&gt; | amount_tsh &lt;dbl&gt; | gps_height &lt;int&gt; | region_code &lt;int&gt; | construction_year &lt;int&gt; | basin_Internal &lt;int&gt; | basin_Lake.Nyasa &lt;int&gt; | basin_Lake.Rukwa &lt;int&gt; | basin_Lake.Tanganyika &lt;int&gt; | basin_Lake.Victoria &lt;int&gt; | basin_Pangani &lt;int&gt; | basin_Rufiji &lt;int&gt; | basin_Ruvuma...Southern.Coast &lt;int&gt; | basin_Wami...Ruvu &lt;int&gt; | scheme_management_Company &lt;int&gt; | scheme_management_None &lt;int&gt; | scheme_management_Other &lt;int&gt; | scheme_management_Parastatal &lt;int&gt; | scheme_management_Private.operator &lt;int&gt; | scheme_management_SWC &lt;int&gt; | scheme_management_Trust &lt;int&gt; | scheme_management_unknown &lt;int&gt; | scheme_management_VWC &lt;int&gt; | scheme_management_Water.authority &lt;int&gt; | scheme_management_Water.Board &lt;int&gt; | scheme_management_WUA &lt;int&gt; | scheme_management_WUG &lt;int&gt; | scheme_management_NA &lt;int&gt; | permit_False &lt;int&gt; | permit_True &lt;int&gt; | permit_unknown &lt;int&gt; | permit_NA &lt;int&gt; | extraction_type_afridev &lt;int&gt; | extraction_type_cemo &lt;int&gt; | extraction_type_climax &lt;int&gt; | extraction_type_gravity &lt;int&gt; | extraction_type_india.mark.ii &lt;int&gt; | extraction_type_india.mark.iii &lt;int&gt; | extraction_type_ksb &lt;int&gt; | extraction_type_mono &lt;int&gt; | extraction_type_nira.tanira &lt;int&gt; | extraction_type_other &lt;int&gt; | extraction_type_other...mkulima.shinyanga &lt;int&gt; | extraction_type_other...play.pump &lt;int&gt; | extraction_type_other...rope.pump &lt;int&gt; | extraction_type_other...swn.81 &lt;int&gt; | extraction_type_submersible &lt;int&gt; | extraction_type_swn.80 &lt;int&gt; | extraction_type_walimi &lt;int&gt; | extraction_type_windmill &lt;int&gt; | ... ... | management_trust &lt;int&gt; | management_unknown &lt;int&gt; | management_vwc &lt;int&gt; | management_water.authority &lt;int&gt; | management_water.board &lt;int&gt; | management_wua &lt;int&gt; | management_wug &lt;int&gt; | management_NA &lt;int&gt; | payment_never.pay &lt;int&gt; | payment_other &lt;int&gt; | payment_pay.annually &lt;int&gt; | payment_pay.monthly &lt;int&gt; | payment_pay.per.bucket &lt;int&gt; | payment_pay.when.scheme.fails &lt;int&gt; | payment_unknown &lt;int&gt; | payment_NA &lt;int&gt; | water_quality_coloured &lt;int&gt; | water_quality_fluoride &lt;int&gt; | water_quality_fluoride.abandoned &lt;int&gt; | water_quality_milky &lt;int&gt; | water_quality_salty &lt;int&gt; | water_quality_salty.abandoned &lt;int&gt; | water_quality_soft &lt;int&gt; | water_quality_unknown &lt;int&gt; | water_quality_NA &lt;int&gt; | quantity_dry &lt;int&gt; | quantity_enough &lt;int&gt; | quantity_insufficient &lt;int&gt; | quantity_seasonal &lt;int&gt; | quantity_unknown &lt;int&gt; | quantity_NA &lt;int&gt; | source_dam &lt;int&gt; | source_hand.dtw &lt;int&gt; | source_lake &lt;int&gt; | source_machine.dbh &lt;int&gt; | source_other &lt;int&gt; | source_rainwater.harvesting &lt;int&gt; | source_river &lt;int&gt; | source_shallow.well &lt;int&gt; | source_spring &lt;int&gt; | source_unknown &lt;int&gt; | source_NA &lt;int&gt; | waterpoint_type_cattle.trough &lt;int&gt; | waterpoint_type_communal.standpipe &lt;int&gt; | waterpoint_type_communal.standpipe.multiple &lt;int&gt; | waterpoint_type_dam &lt;int&gt; | waterpoint_type_hand.pump &lt;int&gt; | waterpoint_type_improved.spring &lt;int&gt; | waterpoint_type_other &lt;int&gt; | status_group &lt;fct&gt; |\n",
       "|---|---|---|---|---|---|---|---|---|---|---|---|---|---|---|---|---|---|---|---|---|---|---|---|---|---|---|---|---|---|---|---|---|---|---|---|---|---|---|---|---|---|---|---|---|---|---|---|---|---|---|---|---|---|---|---|---|---|---|---|---|---|---|---|---|---|---|---|---|---|---|---|---|---|---|---|---|---|---|---|---|---|---|---|---|---|---|---|---|---|---|---|---|---|---|---|---|---|---|---|---|---|\n",
       "| 1 | 69572 | 6000 | 1390 | 11 | 1999 | 0 | 1 | 0 | 0 | 0 | 0 | 0 | 0 | 0 | 0 | 0 | 0 | 0 | 0 | 0 | 0 | 0 | 1 | 0 | 0 | 0 | 0 | 0 | 1 | 0 | 0 | 0 | 0 | 0 | 0 | 1 | 0 | 0 | 0 | 0 | 0 | 0 | 0 | 0 | 0 | 0 | 0 | 0 | 0 | 0 | ... | 0 | 0 | 1 | 0 | 0 | 0 | 0 | 0 | 0 | 0 | 1 | 0 | 0 | 0 | 0 | 0 | 0 | 0 | 0 | 0 | 0 | 0 | 1 | 0 | 0 | 0 | 1 | 0 | 0 | 0 | 0 | 0 | 0 | 0 | 0 | 0 | 0 | 0 | 0 | 1 | 0 | 0 | 0 | 1 | 0 | 0 | 0 | 0 | 0 | functional     |\n",
       "| 2 |  8776 |    0 | 1399 | 20 | 2010 | 0 | 0 | 0 | 0 | 1 | 0 | 0 | 0 | 0 | 0 | 0 | 1 | 0 | 0 | 0 | 0 | 0 | 0 | 0 | 0 | 0 | 0 | 0 | 0 | 1 | 0 | 0 | 0 | 0 | 0 | 1 | 0 | 0 | 0 | 0 | 0 | 0 | 0 | 0 | 0 | 0 | 0 | 0 | 0 | 0 | ... | 0 | 0 | 0 | 0 | 0 | 0 | 1 | 0 | 1 | 0 | 0 | 0 | 0 | 0 | 0 | 0 | 0 | 0 | 0 | 0 | 0 | 0 | 1 | 0 | 0 | 0 | 0 | 1 | 0 | 0 | 0 | 0 | 0 | 0 | 0 | 0 | 1 | 0 | 0 | 0 | 0 | 0 | 0 | 1 | 0 | 0 | 0 | 0 | 0 | functional     |\n",
       "| 3 | 34310 |   25 |  686 | 21 | 2009 | 0 | 0 | 0 | 0 | 0 | 1 | 0 | 0 | 0 | 0 | 0 | 0 | 0 | 0 | 0 | 0 | 0 | 1 | 0 | 0 | 0 | 0 | 0 | 0 | 1 | 0 | 0 | 0 | 0 | 0 | 1 | 0 | 0 | 0 | 0 | 0 | 0 | 0 | 0 | 0 | 0 | 0 | 0 | 0 | 0 | ... | 0 | 0 | 1 | 0 | 0 | 0 | 0 | 0 | 0 | 0 | 0 | 0 | 1 | 0 | 0 | 0 | 0 | 0 | 0 | 0 | 0 | 0 | 1 | 0 | 0 | 0 | 1 | 0 | 0 | 0 | 0 | 1 | 0 | 0 | 0 | 0 | 0 | 0 | 0 | 0 | 0 | 0 | 0 | 0 | 1 | 0 | 0 | 0 | 0 | functional     |\n",
       "| 4 | 67743 |    0 |  263 | 90 | 1986 | 0 | 0 | 0 | 0 | 0 | 0 | 0 | 1 | 0 | 0 | 0 | 0 | 0 | 0 | 0 | 0 | 0 | 1 | 0 | 0 | 0 | 0 | 0 | 0 | 1 | 0 | 0 | 0 | 0 | 0 | 0 | 0 | 0 | 0 | 0 | 0 | 0 | 0 | 0 | 0 | 0 | 1 | 0 | 0 | 0 | ... | 0 | 0 | 1 | 0 | 0 | 0 | 0 | 0 | 1 | 0 | 0 | 0 | 0 | 0 | 0 | 0 | 0 | 0 | 0 | 0 | 0 | 0 | 1 | 0 | 0 | 1 | 0 | 0 | 0 | 0 | 0 | 0 | 0 | 0 | 1 | 0 | 0 | 0 | 0 | 0 | 0 | 0 | 0 | 0 | 1 | 0 | 0 | 0 | 0 | non functional |\n",
       "| 5 | 19728 |    0 |    0 | 18 |    0 | 0 | 0 | 0 | 0 | 1 | 0 | 0 | 0 | 0 | 0 | 0 | 0 | 0 | 0 | 0 | 0 | 1 | 0 | 0 | 0 | 0 | 0 | 0 | 0 | 1 | 0 | 0 | 0 | 0 | 0 | 1 | 0 | 0 | 0 | 0 | 0 | 0 | 0 | 0 | 0 | 0 | 0 | 0 | 0 | 0 | ... | 0 | 0 | 0 | 0 | 0 | 0 | 0 | 0 | 1 | 0 | 0 | 0 | 0 | 0 | 0 | 0 | 0 | 0 | 0 | 0 | 0 | 0 | 1 | 0 | 0 | 0 | 0 | 0 | 1 | 0 | 0 | 0 | 0 | 0 | 0 | 0 | 1 | 0 | 0 | 0 | 0 | 0 | 0 | 1 | 0 | 0 | 0 | 0 | 0 | functional     |\n",
       "| 6 |  9944 |   20 |    0 |  4 | 2009 | 0 | 0 | 0 | 0 | 0 | 1 | 0 | 0 | 0 | 0 | 0 | 0 | 0 | 0 | 0 | 0 | 0 | 1 | 0 | 0 | 0 | 0 | 0 | 0 | 1 | 0 | 0 | 0 | 0 | 0 | 0 | 0 | 0 | 0 | 0 | 0 | 0 | 0 | 0 | 0 | 0 | 1 | 0 | 0 | 0 | ... | 0 | 0 | 1 | 0 | 0 | 0 | 0 | 0 | 0 | 0 | 0 | 0 | 1 | 0 | 0 | 0 | 0 | 0 | 0 | 0 | 1 | 0 | 0 | 0 | 0 | 0 | 1 | 0 | 0 | 0 | 0 | 0 | 0 | 0 | 0 | 1 | 0 | 0 | 0 | 0 | 0 | 0 | 0 | 0 | 1 | 0 | 0 | 0 | 0 | functional     |\n",
       "\n"
      ],
      "text/plain": [
       "  id    amount_tsh gps_height region_code construction_year basin_Internal\n",
       "1 69572 6000       1390       11          1999              0             \n",
       "2  8776    0       1399       20          2010              0             \n",
       "3 34310   25        686       21          2009              0             \n",
       "4 67743    0        263       90          1986              0             \n",
       "5 19728    0          0       18             0              0             \n",
       "6  9944   20          0        4          2009              0             \n",
       "  basin_Lake.Nyasa basin_Lake.Rukwa basin_Lake.Tanganyika basin_Lake.Victoria\n",
       "1 1                0                0                     0                  \n",
       "2 0                0                0                     1                  \n",
       "3 0                0                0                     0                  \n",
       "4 0                0                0                     0                  \n",
       "5 0                0                0                     1                  \n",
       "6 0                0                0                     0                  \n",
       "  basin_Pangani basin_Rufiji basin_Ruvuma...Southern.Coast basin_Wami...Ruvu\n",
       "1 0             0            0                             0                \n",
       "2 0             0            0                             0                \n",
       "3 1             0            0                             0                \n",
       "4 0             0            1                             0                \n",
       "5 0             0            0                             0                \n",
       "6 1             0            0                             0                \n",
       "  scheme_management_Company scheme_management_None scheme_management_Other\n",
       "1 0                         0                      0                      \n",
       "2 0                         0                      1                      \n",
       "3 0                         0                      0                      \n",
       "4 0                         0                      0                      \n",
       "5 0                         0                      0                      \n",
       "6 0                         0                      0                      \n",
       "  scheme_management_Parastatal scheme_management_Private.operator\n",
       "1 0                            0                                 \n",
       "2 0                            0                                 \n",
       "3 0                            0                                 \n",
       "4 0                            0                                 \n",
       "5 0                            0                                 \n",
       "6 0                            0                                 \n",
       "  scheme_management_SWC scheme_management_Trust scheme_management_unknown\n",
       "1 0                     0                       0                        \n",
       "2 0                     0                       0                        \n",
       "3 0                     0                       0                        \n",
       "4 0                     0                       0                        \n",
       "5 0                     0                       1                        \n",
       "6 0                     0                       0                        \n",
       "  scheme_management_VWC scheme_management_Water.authority\n",
       "1 1                     0                                \n",
       "2 0                     0                                \n",
       "3 1                     0                                \n",
       "4 1                     0                                \n",
       "5 0                     0                                \n",
       "6 1                     0                                \n",
       "  scheme_management_Water.Board scheme_management_WUA scheme_management_WUG\n",
       "1 0                             0                     0                    \n",
       "2 0                             0                     0                    \n",
       "3 0                             0                     0                    \n",
       "4 0                             0                     0                    \n",
       "5 0                             0                     0                    \n",
       "6 0                             0                     0                    \n",
       "  scheme_management_NA permit_False permit_True permit_unknown permit_NA\n",
       "1 0                    1            0           0              0        \n",
       "2 0                    0            1           0              0        \n",
       "3 0                    0            1           0              0        \n",
       "4 0                    0            1           0              0        \n",
       "5 0                    0            1           0              0        \n",
       "6 0                    0            1           0              0        \n",
       "  extraction_type_afridev extraction_type_cemo extraction_type_climax\n",
       "1 0                       0                    0                     \n",
       "2 0                       0                    0                     \n",
       "3 0                       0                    0                     \n",
       "4 0                       0                    0                     \n",
       "5 0                       0                    0                     \n",
       "6 0                       0                    0                     \n",
       "  extraction_type_gravity extraction_type_india.mark.ii\n",
       "1 1                       0                            \n",
       "2 1                       0                            \n",
       "3 1                       0                            \n",
       "4 0                       0                            \n",
       "5 1                       0                            \n",
       "6 0                       0                            \n",
       "  extraction_type_india.mark.iii extraction_type_ksb extraction_type_mono\n",
       "1 0                              0                   0                   \n",
       "2 0                              0                   0                   \n",
       "3 0                              0                   0                   \n",
       "4 0                              0                   0                   \n",
       "5 0                              0                   0                   \n",
       "6 0                              0                   0                   \n",
       "  extraction_type_nira.tanira extraction_type_other\n",
       "1 0                           0                    \n",
       "2 0                           0                    \n",
       "3 0                           0                    \n",
       "4 0                           0                    \n",
       "5 0                           0                    \n",
       "6 0                           0                    \n",
       "  extraction_type_other...mkulima.shinyanga extraction_type_other...play.pump\n",
       "1 0                                         0                                \n",
       "2 0                                         0                                \n",
       "3 0                                         0                                \n",
       "4 0                                         0                                \n",
       "5 0                                         0                                \n",
       "6 0                                         0                                \n",
       "  extraction_type_other...rope.pump extraction_type_other...swn.81\n",
       "1 0                                 0                             \n",
       "2 0                                 0                             \n",
       "3 0                                 0                             \n",
       "4 0                                 0                             \n",
       "5 0                                 0                             \n",
       "6 0                                 0                             \n",
       "  extraction_type_submersible extraction_type_swn.80 extraction_type_walimi\n",
       "1 0                           0                      0                     \n",
       "2 0                           0                      0                     \n",
       "3 0                           0                      0                     \n",
       "4 1                           0                      0                     \n",
       "5 0                           0                      0                     \n",
       "6 1                           0                      0                     \n",
       "  extraction_type_windmill ... management_trust management_unknown\n",
       "1 0                        ... 0                0                 \n",
       "2 0                        ... 0                0                 \n",
       "3 0                        ... 0                0                 \n",
       "4 0                        ... 0                0                 \n",
       "5 0                        ... 0                0                 \n",
       "6 0                        ... 0                0                 \n",
       "  management_vwc management_water.authority management_water.board\n",
       "1 1              0                          0                     \n",
       "2 0              0                          0                     \n",
       "3 1              0                          0                     \n",
       "4 1              0                          0                     \n",
       "5 0              0                          0                     \n",
       "6 1              0                          0                     \n",
       "  management_wua management_wug management_NA payment_never.pay payment_other\n",
       "1 0              0              0             0                 0            \n",
       "2 0              1              0             1                 0            \n",
       "3 0              0              0             0                 0            \n",
       "4 0              0              0             1                 0            \n",
       "5 0              0              0             1                 0            \n",
       "6 0              0              0             0                 0            \n",
       "  payment_pay.annually payment_pay.monthly payment_pay.per.bucket\n",
       "1 1                    0                   0                     \n",
       "2 0                    0                   0                     \n",
       "3 0                    0                   1                     \n",
       "4 0                    0                   0                     \n",
       "5 0                    0                   0                     \n",
       "6 0                    0                   1                     \n",
       "  payment_pay.when.scheme.fails payment_unknown payment_NA\n",
       "1 0                             0               0         \n",
       "2 0                             0               0         \n",
       "3 0                             0               0         \n",
       "4 0                             0               0         \n",
       "5 0                             0               0         \n",
       "6 0                             0               0         \n",
       "  water_quality_coloured water_quality_fluoride\n",
       "1 0                      0                     \n",
       "2 0                      0                     \n",
       "3 0                      0                     \n",
       "4 0                      0                     \n",
       "5 0                      0                     \n",
       "6 0                      0                     \n",
       "  water_quality_fluoride.abandoned water_quality_milky water_quality_salty\n",
       "1 0                                0                   0                  \n",
       "2 0                                0                   0                  \n",
       "3 0                                0                   0                  \n",
       "4 0                                0                   0                  \n",
       "5 0                                0                   0                  \n",
       "6 0                                0                   1                  \n",
       "  water_quality_salty.abandoned water_quality_soft water_quality_unknown\n",
       "1 0                             1                  0                    \n",
       "2 0                             1                  0                    \n",
       "3 0                             1                  0                    \n",
       "4 0                             1                  0                    \n",
       "5 0                             1                  0                    \n",
       "6 0                             0                  0                    \n",
       "  water_quality_NA quantity_dry quantity_enough quantity_insufficient\n",
       "1 0                0            1               0                    \n",
       "2 0                0            0               1                    \n",
       "3 0                0            1               0                    \n",
       "4 0                1            0               0                    \n",
       "5 0                0            0               0                    \n",
       "6 0                0            1               0                    \n",
       "  quantity_seasonal quantity_unknown quantity_NA source_dam source_hand.dtw\n",
       "1 0                 0                0           0          0              \n",
       "2 0                 0                0           0          0              \n",
       "3 0                 0                0           1          0              \n",
       "4 0                 0                0           0          0              \n",
       "5 1                 0                0           0          0              \n",
       "6 0                 0                0           0          0              \n",
       "  source_lake source_machine.dbh source_other source_rainwater.harvesting\n",
       "1 0           0                  0            0                          \n",
       "2 0           0                  0            1                          \n",
       "3 0           0                  0            0                          \n",
       "4 0           1                  0            0                          \n",
       "5 0           0                  0            1                          \n",
       "6 0           0                  1            0                          \n",
       "  source_river source_shallow.well source_spring source_unknown source_NA\n",
       "1 0            0                   1             0              0        \n",
       "2 0            0                   0             0              0        \n",
       "3 0            0                   0             0              0        \n",
       "4 0            0                   0             0              0        \n",
       "5 0            0                   0             0              0        \n",
       "6 0            0                   0             0              0        \n",
       "  waterpoint_type_cattle.trough waterpoint_type_communal.standpipe\n",
       "1 0                             1                                 \n",
       "2 0                             1                                 \n",
       "3 0                             0                                 \n",
       "4 0                             0                                 \n",
       "5 0                             1                                 \n",
       "6 0                             0                                 \n",
       "  waterpoint_type_communal.standpipe.multiple waterpoint_type_dam\n",
       "1 0                                           0                  \n",
       "2 0                                           0                  \n",
       "3 1                                           0                  \n",
       "4 1                                           0                  \n",
       "5 0                                           0                  \n",
       "6 1                                           0                  \n",
       "  waterpoint_type_hand.pump waterpoint_type_improved.spring\n",
       "1 0                         0                              \n",
       "2 0                         0                              \n",
       "3 0                         0                              \n",
       "4 0                         0                              \n",
       "5 0                         0                              \n",
       "6 0                         0                              \n",
       "  waterpoint_type_other status_group  \n",
       "1 0                     functional    \n",
       "2 0                     functional    \n",
       "3 0                     functional    \n",
       "4 0                     non functional\n",
       "5 0                     functional    \n",
       "6 0                     functional    "
      ]
     },
     "metadata": {},
     "output_type": "display_data"
    }
   ],
   "source": [
    "# library(tidyverse)\n",
    "#names(data_train) <- gsub(\" \", \"_\", names(data_train))\n",
    "names(data_train) <- make.names(names(data_train))\n",
    "#names(data_test) <- gsub(\" \", \"_\", names(data_test))\n",
    "names(data_test) <- make.names(names(data_test))\n",
    "data_test <- unique(data_test)\n",
    "data_train <- unique(data_train)\n",
    "head(data_train)"
   ]
  },
  {
   "cell_type": "code",
   "execution_count": null,
   "metadata": {},
   "outputs": [],
   "source": []
  },
  {
   "cell_type": "code",
   "execution_count": null,
   "metadata": {},
   "outputs": [],
   "source": [
    "# data_train <- sapply(data_train,function(x) as.numeric(as.character(x)))\n",
    "# data_test  <-  sapply(data_test,function(x) as.numeric(as.character(x))) "
   ]
  },
  {
   "cell_type": "code",
   "execution_count": null,
   "metadata": {
    "scrolled": true
   },
   "outputs": [],
   "source": [
    "library(\"randomForest\")\n",
    "\n",
    "rf_model<- randomForest(status_group~., data = data_train, ntrees = 500)  # Modelling\n",
    "rf_model\n",
    "rf_prediction <- cbind(data_test[1], predict(rf_model, data_test, type = 'class'))  # Predicting\n",
    "names(rf_prediction) <- c(\"id\", \"status_group\")  # Reformatting\n",
    "\n",
    "# Printing\n",
    "head(rf_prediction)\n",
    "table(rf_prediction[\"status_group\"] == \"functional\")\n",
    "\n",
    "# Saving\n",
    "write.csv(rf_prediction,\"predictions/randomForest.csv\",row.names = FALSE)"
   ]
  },
  {
   "cell_type": "code",
   "execution_count": null,
   "metadata": {},
   "outputs": [],
   "source": [
    "head(training_set_values)\n",
    "head(test_set_values)"
   ]
  },
  {
   "cell_type": "code",
   "execution_count": null,
   "metadata": {},
   "outputs": [],
   "source": [
    "# # NAIVE BAYES\n",
    "# library(e1071)\n",
    "# #library(caTools)\n",
    "# library(caret)\n",
    "\n",
    "# classifier <- naiveBayes(status_group~., data=data_train)\n",
    "# # print(classifier)\n",
    "\n",
    "# y_pred <- predict(classifier, newdata = data_test)\n",
    "# #print(y_pred)\n",
    "\n",
    "# status_group <- y_pred\n",
    "\n",
    "\n",
    "# data_predict <- test_set_values\n",
    "\n",
    "\n",
    "# data_predict <- cbind(data_predict[1],status_group)\n",
    "\n",
    "# data_predict\n",
    "\n",
    "# write.csv(data_predict,\"Bayes.csv\",row.names = FALSE)\n",
    "\n",
    "# # confusion_matrix <- table(training_set_labels$status_group, y_pred)\n",
    "# # print(confusion_matrix)\n",
    "\n",
    "# # print(confusionMatrix(confusion_matrix))"
   ]
  },
  {
   "cell_type": "code",
   "execution_count": null,
   "metadata": {},
   "outputs": [],
   "source": []
  },
  {
   "cell_type": "code",
   "execution_count": null,
   "metadata": {},
   "outputs": [
    {
     "name": "stderr",
     "output_type": "stream",
     "text": [
      "Loaded gbm 2.1.8\n",
      "\n",
      "Warning message:\n",
      "\"Setting `distribution = \"multinomial\"` is ill-advised as it is currently broken. It exists only for backwards compatibility. Use at your own risk.\"\n"
     ]
    }
   ],
   "source": [
    "# GRADIENT BOOSTING\n",
    "library(gbm)\n",
    "\n",
    "\n",
    "model <- gbm(formula = status_group~., distribution = \"multinomial\", data = data_train, n.trees = 2000,\n",
    "            interaction.depth = 6, shrinkage = 0.01, cv.folds = 10, n.minobsinnode = 10)\n",
    "\n",
    "# rf_model <- randomForest(status_group~., data= data_train) # what we need to change according of the model\n",
    "# rf_model\n",
    "rf_predict_unseen <- predict(model, newdata = data_test, type=\"response\", n.trees = 2000)\n",
    "\n",
    "# rf_predict_unseen\n",
    "# cm = confusionMatrix(data_test$status_group, as.factor(labels))\n",
    "\n",
    "status_group <- colnames(rf_predict_unseen)[apply(rf_predict_unseen, 1, which.max)]\n",
    "\n",
    "rf_data_predict <- cbind(data_test[1], status_group)\n",
    "rf_data_predict\n",
    "# cm = confusionMatrix(data_test$status_group, as.factor(labels))\n",
    "# print(cm)\n",
    "# result <- data.frame(data_test$status_group, labels)\n",
    "# print(result)\n",
    "# status_group <-rf_predict_unseen\n",
    "\n",
    "# rf_data_predict <- test_set_values\n",
    "\n",
    "\n",
    "# rf_data_predict <- cbind(rf_data_predict[1],status_group)\n",
    "\n",
    "\n",
    "# rf_data_predict\n",
    "\n",
    "write.csv(rf_data_predict,\"boosting.csv\",row.names = FALSE)"
   ]
  },
  {
   "cell_type": "code",
   "execution_count": null,
   "metadata": {},
   "outputs": [],
   "source": [
    "rf_predict_unseen"
   ]
  },
  {
   "cell_type": "code",
   "execution_count": null,
   "metadata": {},
   "outputs": [],
   "source": []
  },
  {
   "cell_type": "code",
   "execution_count": null,
   "metadata": {},
   "outputs": [],
   "source": []
  }
 ],
 "metadata": {
  "kernelspec": {
   "display_name": "R",
   "language": "R",
   "name": "ir"
  },
  "language_info": {
   "codemirror_mode": "r",
   "file_extension": ".r",
   "mimetype": "text/x-r-source",
   "name": "R",
   "pygments_lexer": "r",
   "version": "3.6.3"
  }
 },
 "nbformat": 4,
 "nbformat_minor": 5
}

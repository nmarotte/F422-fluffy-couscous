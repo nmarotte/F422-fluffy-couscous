{
 "cells": [
  {
   "cell_type": "markdown",
   "metadata": {},
   "source": [
    "# INFO-F-422 -  Statistical Foundations of Machine Learning \n",
    "\n",
    "### Student 1 - __[antoine.bedaton@ulb.be](mailto:antoine.bedaton@ulb.be) - Student ID 459482__\n",
    "### Student 2 - __[pierre.defraene@ulb.be](mailto:pierre.defraene@ulb.be) - Student ID 463941__\n",
    "### Student 3 - __[nathan.marotte@ulb.be](mailto:nathan.marotte@ulb.be) - Student ID 459274__\n",
    "\n",
    "### Video presentation: www.youtube.com/abcd1234\n",
    "\n",
    "## Project Title\n"
   ]
  },
  {
   "cell_type": "markdown",
   "metadata": {},
   "source": [
    "# Introduction"
   ]
  },
  {
   "cell_type": "markdown",
   "metadata": {},
   "source": []
  },
  {
   "cell_type": "markdown",
   "metadata": {},
   "source": [
    "# Data preprocessing\n",
    "\n",
    "Before starting the project, we need to make sure to keep only the necessary data. In order to do that, we first started to check if there we columns that were 100% equals. To do so, we created a function called $check\\_all\\_equal$ that will create a combinaison of all the columns of the dataset and will compare them using the $identical$ R function. We noticed that only 2 columns were 100% equals, \"quantity\" and \"quantity_group\". Therefore, we decided to remove the \"quantity_group\" column.\n",
    "\n",
    "After the first parsing done, we notice that there was still some culumns that were close from being equal but they sometimes differ in one word. For example, the column \"payment\" and \"payment_type\" are always the same, they just differ in the notation.\n",
    "\n",
    "## Missing value imputation\n",
    "\n",
    "## Feature engineering\n",
    "\n",
    "## Feature selection\n",
    "\n"
   ]
  },
  {
   "cell_type": "markdown",
   "metadata": {},
   "source": []
  },
  {
   "cell_type": "code",
   "execution_count": 26,
   "metadata": {
    "scrolled": false
   },
   "outputs": [
    {
     "name": "stdout",
     "output_type": "stream",
     "text": [
      "[1] \"recorded_by\"\n"
     ]
    }
   ],
   "source": [
    "options(repr.matrix.max.rows=10, repr.matrix.max.cols=100)\n",
    "#Read the dataset to the variable training_set_labels\n",
    "training_set_labels <- read.csv(file = 'data/training_set_labels.csv')\n",
    "test_set_values <- read.csv(file = 'data/training_set_labels.csv')\n",
    "training_set_values <- read.csv(file = 'data/training_set_values.csv')\n",
    "\n",
    "\n",
    "# Adds en empty column functional_need_repairs\n",
    "training_set_labels <- cbind(training_set_labels, \"non_functional\" = 0)\n",
    "# Adds en empty column functional_need_repairs\n",
    "training_set_labels <- cbind(training_set_labels, \"functional_need_repairs\" = 0)\n",
    "# Adds an empty column functional\n",
    "training_set_labels <- cbind(training_set_labels, \"functional\" = 0)\n",
    "\n",
    "# Put 1 in the column depending on the status_group\n",
    "training_set_labels$non_functional <- ifelse(training_set_labels$status_group == \"non functional\", 1, 0)\n",
    "training_set_labels$functional_need_repairs <- ifelse(training_set_labels$status_group == \"functional need repairs\", 1, 0)\n",
    "training_set_labels$functional <- ifelse(training_set_labels$status_group == \"functional\", 1, 0)\n",
    "\n",
    "\n",
    "drops <- c(\"quantity_group\", \"wpt_name\", \"payment\", \"waterpoint_type_group\", \"num_private\", \"recorded_by\") \n",
    "\n",
    "check_solo_equal <- function(df){\n",
    "    to_drop <- vector()\n",
    "    print(all.equal(df[\"id\"]))\n",
    "    for (col in names(df)){\n",
    "        break\n",
    "        if (length(unique(df[col])) == 1){\n",
    "            print(paste(\"The entire column: \", col, \" is identical ! Removing that column!\"))\n",
    "            to_drop <- c(to_drop, col)\n",
    "        }\n",
    "    }\n",
    "    df <- df[ , !(names(df) %in% to_drop)]\n",
    "    df\n",
    "}\n",
    "\n",
    "check_two_equal <- function(df){\n",
    "    for (col1 in 1:length(df)){\n",
    "        for (col2 in col1:length(df)){\n",
    "            if (col1 != col2){\n",
    "                if (identical(df[[col1]], df[[col2]])){\n",
    "                    print(paste(colnames(df)[col1], \" and \", colnames(df)[col2], \" are 100% identical! Dropping \", colnames(training_set_values)[col2]))\n",
    "                    drops <- c(drops, colnames(df)[col2])\n",
    "                }\n",
    "            }\n",
    "        }\n",
    "    }\n",
    "    df <- df[ , !(names(df) %in% drops)]\n",
    "    df\n",
    "}\n",
    "\n",
    "print(names(Filter(function(x) length(unique(x)) == 1, training_set_values)))\n",
    "# length(unique(as.list(training_set_values$recorded_by))) == 1\n",
    "#training_set_values[!(is.na(training_set_values$))]\n",
    "#training_set_values <- check_solo_equal(training_set_values)\n",
    "#training_set_values <- check_two_equal(training_set_values)\n",
    "#training_set_values"
   ]
  },
  {
   "cell_type": "markdown",
   "metadata": {},
   "source": [
    "# Model selection\n",
    "\n",
    "## Model 1\n",
    "\n",
    "## Model 2\n",
    "\n",
    "## Model 3\n",
    "\n",
    "#### Example of simple equation\n",
    "\\begin{equation}\n",
    "e = mc^2\n",
    "\\end{equation}\n",
    "\n",
    "#### Example of matrix equation - Cross product formula:\n",
    "\n",
    "\\begin{equation*}\n",
    "\\mathbf{V}_1 \\times \\mathbf{V}_2 =  \\begin{vmatrix}\n",
    "\\mathbf{i} & \\mathbf{j} & \\mathbf{k} \\\\\n",
    "\\frac{\\partial X}{\\partial u} &  \\frac{\\partial Y}{\\partial u} & 0 \\\\\n",
    "\\frac{\\partial X}{\\partial v} &  \\frac{\\partial Y}{\\partial v} & 0\n",
    "\\end{vmatrix}\n",
    "\\end{equation*}\n",
    "\n",
    "#### Example of multiline equation - The Lorenz Equations:\n",
    "\n",
    "\\begin{align}\n",
    "\\dot{x} & = \\sigma(y-x) \\\\\n",
    "\\dot{y} & = \\rho x - y - xz \\\\\n",
    "\\dot{z} & = -\\beta z + xy\n",
    "\\end{align}\n",
    "\n",
    "#### Example of Markdown Table:\n",
    "\n",
    "| This | is   |\n",
    "|------|------|\n",
    "|   a  | table|\n"
   ]
  },
  {
   "cell_type": "markdown",
   "metadata": {},
   "source": [
    "# Alternative models\n",
    "\n",
    "\n",
    "\n"
   ]
  },
  {
   "cell_type": "markdown",
   "metadata": {},
   "source": [
    "# Conclusions"
   ]
  }
 ],
 "metadata": {
  "kernelspec": {
   "display_name": "R",
   "language": "R",
   "name": "ir"
  },
  "language_info": {
   "codemirror_mode": "r",
   "file_extension": ".r",
   "mimetype": "text/x-r-source",
   "name": "R",
   "pygments_lexer": "r",
   "version": "4.0.5"
  }
 },
 "nbformat": 4,
 "nbformat_minor": 4
}

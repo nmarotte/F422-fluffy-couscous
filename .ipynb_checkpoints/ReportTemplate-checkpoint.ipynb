{
 "cells": [
  {
   "cell_type": "markdown",
   "metadata": {},
   "source": [
    "# INFO-F-422 -  Statistical Foundations of Machine Learning \n",
    "\n",
    "### Student 1 - __[antoine.bedaton@ulb.be](mailto:antoine.bedaton@ulb.be) - Student ID 459482__\n",
    "### Student 2 - __[pierre.defraene@ulb.be](mailto:pierre.defraene@ulb.be) - Student ID 463941__\n",
    "### Student 3 - __[nathan.marotte@ulb.be](mailto:nathan.marotte@ulb.be) - Student ID 459274__\n",
    "\n",
    "### Video presentation: www.youtube.com/abcd1234\n",
    "\n",
    "## Project Title\n"
   ]
  },
  {
   "cell_type": "markdown",
   "metadata": {},
   "source": [
    "# Introduction"
   ]
  },
  {
   "cell_type": "markdown",
   "metadata": {},
   "source": [
    "Using data from Taarifa and the Tanzanian Ministry of Water, we are asked to predict which pump are functional, non functional, or functional but need some repairs. The data contains information about each pump (position, region name, population, type of payment, installator, etc ...) and comes in 3 files : \n",
    "\n",
    "- training_set_labels : Contains the list of all id followed by their status (functionning, non functionning or needing repairs)\n",
    "\n",
    "- training_set_values : Contains all the information about each pump with their id that correspond to training_set_labels\n",
    "\n",
    "- test_set_values : The same structure as training_set_values but for which the status is unknown and that we will have to predict.\n",
    "\n",
    "First, we will preprocess the data to remove redundent or useless information. For exemple the name of the pump isn't really relevant for guessing if it is working or not, while the name of the constructor is.\n",
    "\n",
    "Once we reduced the size of the input space, we will run our 3 models on the data, that is training_set_values with their status_group column added.\n",
    "\n",
    "Our group chose the 3 following models : \n",
    "\n",
    "- Neural Network (nnet library)\n",
    "- Decision Tree (rpart library)\n",
    "- Random Forest (randomForest library)\n",
    "\n",
    "We will also need the following libraries \n",
    "\n",
    "- Bedabrary\n",
    "- LibraPierre\n",
    "- Nadule\n",
    "\n",
    "Uncomment and execute the following cell to install all the require libraries"
   ]
  },
  {
   "cell_type": "code",
   "execution_count": 2,
   "metadata": {},
   "outputs": [],
   "source": [
    "# install.packages('dummies')\n",
    "# install.packages('rpart')\n",
    "# install.packages('rpart.plot')\n",
    "# install.packages('nnet')\n",
    "# install.packages('randomForest')"
   ]
  },
  {
   "cell_type": "markdown",
   "metadata": {},
   "source": [
    "We will be using R in version 3.6.1\n",
    "This can be checked by executing the following cell"
   ]
  },
  {
   "cell_type": "code",
   "execution_count": 3,
   "metadata": {},
   "outputs": [
    {
     "data": {
      "text/html": [
       "'R version 4.0.5 (2021-03-31)'"
      ],
      "text/latex": [
       "'R version 4.0.5 (2021-03-31)'"
      ],
      "text/markdown": [
       "'R version 4.0.5 (2021-03-31)'"
      ],
      "text/plain": [
       "[1] \"R version 4.0.5 (2021-03-31)\""
      ]
     },
     "metadata": {},
     "output_type": "display_data"
    }
   ],
   "source": [
    "R.version$version.string"
   ]
  },
  {
   "cell_type": "markdown",
   "metadata": {},
   "source": [
    "We will use the data provided by the competition \"Pump it Up: Data Mining the Water Table\" available [here](https://www.drivendata.org/competitions/7/pump-it-up-data-mining-the-water-table/])"
   ]
  },
  {
   "cell_type": "code",
   "execution_count": 4,
   "metadata": {},
   "outputs": [],
   "source": [
    "training_set_labels <- read.csv(file = 'data/training_set_labels.csv', stringsAsFactors = T)\n",
    "test_set_values <- read.csv(file = 'data/test_set_values.csv', stringsAsFactors = T)\n",
    "training_set_values <- read.csv(file = 'data/training_set_values.csv', stringsAsFactors = T)\n",
    "\n",
    "#training_set_labels\n",
    "#summary(test_set_values)"
   ]
  },
  {
   "cell_type": "markdown",
   "metadata": {},
   "source": [
    "# Data preprocessing\n",
    "\n",
    "Before starting the modeling, we must first process the data. We are given a huge number of columns and rows, some of which are not useful to determine the functioning of the pump. For instance, maybe the name of the pump is not important to guess if it is working or not."
   ]
  },
  {
   "cell_type": "markdown",
   "metadata": {},
   "source": [
    "## Removing useless columns\n",
    "First we will check all the columns and check if, by chance, one column has always the same value. If there exist such a column, we can safely delete it since it doesn't bring any information to the model."
   ]
  },
  {
   "cell_type": "code",
   "execution_count": 5,
   "metadata": {},
   "outputs": [
    {
     "name": "stdout",
     "output_type": "stream",
     "text": [
      "[1] \"the column recorded_by has always the same value\"\n"
     ]
    }
   ],
   "source": [
    "for (colname in names(training_set_values)) {\n",
    "    list_of_unique <- unique(training_set_values[colname])\n",
    "    if (nrow(list_of_unique) == 1){\n",
    "        print(paste(\"the column\", colname, \"has always the same value\"))\n",
    "    }\n",
    "}"
   ]
  },
  {
   "cell_type": "markdown",
   "metadata": {},
   "source": [
    "One column was found that is always the same value, we will then remove it from the dataset"
   ]
  },
  {
   "cell_type": "code",
   "execution_count": 6,
   "metadata": {},
   "outputs": [],
   "source": [
    "training_set_values <- training_set_values[,setdiff(colnames(training_set_values),\"recorded_by\")] # remove recorded_by"
   ]
  },
  {
   "cell_type": "markdown",
   "metadata": {},
   "source": [
    "Now we can look at the data in a less strict manner. What if for only a few of the entries, we have a different value ? This won't be detected with the above loop, but can be detected manually by checking the number of occurence of the most common value. If it appears, let's say more than 99 % of the time, we assume it is always that value and remove that column."
   ]
  },
  {
   "cell_type": "code",
   "execution_count": 7,
   "metadata": {
    "scrolled": false
   },
   "outputs": [
    {
     "data": {
      "text/html": [
       "<table class=\"dataframe\">\n",
       "<caption>A data.frame: 6 × 2</caption>\n",
       "<thead>\n",
       "\t<tr><th></th><th scope=col>names.training_set_values.</th><th scope=col>maxima</th></tr>\n",
       "\t<tr><th></th><th scope=col>&lt;chr&gt;</th><th scope=col>&lt;dbl&gt;</th></tr>\n",
       "</thead>\n",
       "<tbody>\n",
       "\t<tr><th scope=row>10</th><td>num_private     </td><td>0.9872559</td></tr>\n",
       "\t<tr><th scope=row>28</th><td>management_group</td><td>0.8836700</td></tr>\n",
       "\t<tr><th scope=row>19</th><td>public_meeting  </td><td>0.8587710</td></tr>\n",
       "\t<tr><th scope=row>31</th><td>water_quality   </td><td>0.8555219</td></tr>\n",
       "\t<tr><th scope=row>32</th><td>quality_group   </td><td>0.8555219</td></tr>\n",
       "\t<tr><th scope=row>37</th><td>source_class    </td><td>0.7709428</td></tr>\n",
       "</tbody>\n",
       "</table>\n"
      ],
      "text/latex": [
       "A data.frame: 6 × 2\n",
       "\\begin{tabular}{r|ll}\n",
       "  & names.training\\_set\\_values. & maxima\\\\\n",
       "  & <chr> & <dbl>\\\\\n",
       "\\hline\n",
       "\t10 & num\\_private      & 0.9872559\\\\\n",
       "\t28 & management\\_group & 0.8836700\\\\\n",
       "\t19 & public\\_meeting   & 0.8587710\\\\\n",
       "\t31 & water\\_quality    & 0.8555219\\\\\n",
       "\t32 & quality\\_group    & 0.8555219\\\\\n",
       "\t37 & source\\_class     & 0.7709428\\\\\n",
       "\\end{tabular}\n"
      ],
      "text/markdown": [
       "\n",
       "A data.frame: 6 × 2\n",
       "\n",
       "| <!--/--> | names.training_set_values. &lt;chr&gt; | maxima &lt;dbl&gt; |\n",
       "|---|---|---|\n",
       "| 10 | num_private      | 0.9872559 |\n",
       "| 28 | management_group | 0.8836700 |\n",
       "| 19 | public_meeting   | 0.8587710 |\n",
       "| 31 | water_quality    | 0.8555219 |\n",
       "| 32 | quality_group    | 0.8555219 |\n",
       "| 37 | source_class     | 0.7709428 |\n",
       "\n"
      ],
      "text/plain": [
       "   names.training_set_values. maxima   \n",
       "10 num_private                0.9872559\n",
       "28 management_group           0.8836700\n",
       "19 public_meeting             0.8587710\n",
       "31 water_quality              0.8555219\n",
       "32 quality_group              0.8555219\n",
       "37 source_class               0.7709428"
      ]
     },
     "metadata": {},
     "output_type": "display_data"
    }
   ],
   "source": [
    "\n",
    "# Computes the ratio of the value that appear the most compared to the rest of the data\n",
    "maxima <- c()\n",
    "for (colname in names(training_set_values)) {\n",
    "   maxima <- rbind(maxima, max(table(training_set_values[colname]))/59400)\n",
    "}\n",
    "\n",
    "# Shows it nicely\n",
    "df <- data.frame(names(training_set_values), maxima)\n",
    "df <- df[order(df$maxima, decreasing=TRUE),]\n",
    "head(df)\n"
   ]
  },
  {
   "cell_type": "markdown",
   "metadata": {},
   "source": [
    "We see that num_private has almost 99% of the time the same value. Given the huge amount of columns and data, we do not feel that it is necessary to keep that information, it would only make the model more complicated for a slight change in the error rate. Therefore we delete that column."
   ]
  },
  {
   "cell_type": "code",
   "execution_count": 8,
   "metadata": {},
   "outputs": [],
   "source": [
    "training_set_values <- training_set_values[,setdiff(colnames(training_set_values),\"num_private\")] # remove num_private"
   ]
  },
  {
   "cell_type": "markdown",
   "metadata": {},
   "source": [
    "## Looking at the corelation between columns"
   ]
  },
  {
   "cell_type": "markdown",
   "metadata": {},
   "source": [
    "When looking through the data, we found multiple columns that were repeated. We suspected that `quantity` and `quantity_group` were highly corolated, so we ran the following command"
   ]
  },
  {
   "cell_type": "code",
   "execution_count": 9,
   "metadata": {},
   "outputs": [
    {
     "data": {
      "text/plain": [
       "              \n",
       "                 dry enough insufficient seasonal unknown\n",
       "  dry           6246      0            0        0       0\n",
       "  enough           0  33186            0        0       0\n",
       "  insufficient     0      0        15129        0       0\n",
       "  seasonal         0      0            0     4050       0\n",
       "  unknown          0      0            0        0     789"
      ]
     },
     "metadata": {},
     "output_type": "display_data"
    }
   ],
   "source": [
    "table(training_set_values$quantity, training_set_values$quantity_group)"
   ]
  },
  {
   "cell_type": "markdown",
   "metadata": {},
   "source": [
    "It appears that when `quantity` is `dry`, 100% of the time `quantity_group` is also dry. Those two columns have a corelation of 100%, it means one of the two is redundant and can safely be removed.\n",
    "\n",
    "We could then do that for all the combination of columns, but this isn't efficient and we can decide by ourselves by looking at what the columns represent, and test for corelation between them. This can be done via `chiqs.test` of the contingency table of the two columns. \n",
    "\n",
    "For exemple with `quantity` and `quantity_group`"
   ]
  },
  {
   "cell_type": "code",
   "execution_count": 10,
   "metadata": {},
   "outputs": [
    {
     "data": {
      "text/plain": [
       "\n",
       "\tPearson's Chi-squared test\n",
       "\n",
       "data:  table(training_set_values$quantity, training_set_values$quantity_group)\n",
       "X-squared = 237600, df = 16, p-value < 2.2e-16\n"
      ]
     },
     "metadata": {},
     "output_type": "display_data"
    }
   ],
   "source": [
    "chisq.test(table(training_set_values$quantity, training_set_values$quantity_group))"
   ]
  },
  {
   "cell_type": "markdown",
   "metadata": {},
   "source": [
    "We get a high X-squared value and a very small p-value, this would mean the two columns are highly corrolated.\n",
    "\n",
    "We then checked all the columns and tested the one we found that might be highly corrolated. Since R is a really bad language, we didn't find a way to do that in a for loop with the name or number of the column in a variable, so we copy-pasted the call with all the columns pair we suspected"
   ]
  },
  {
   "cell_type": "code",
   "execution_count": 11,
   "metadata": {},
   "outputs": [
    {
     "data": {
      "text/html": [
       "<table class=\"dataframe\">\n",
       "<caption>A data.frame: 6 × 38</caption>\n",
       "<thead>\n",
       "\t<tr><th></th><th scope=col>id</th><th scope=col>amount_tsh</th><th scope=col>date_recorded</th><th scope=col>funder</th><th scope=col>gps_height</th><th scope=col>installer</th><th scope=col>longitude</th><th scope=col>latitude</th><th scope=col>wpt_name</th><th scope=col>basin</th><th scope=col>⋯</th><th scope=col>payment_type</th><th scope=col>water_quality</th><th scope=col>quality_group</th><th scope=col>quantity</th><th scope=col>quantity_group</th><th scope=col>source</th><th scope=col>source_type</th><th scope=col>source_class</th><th scope=col>waterpoint_type</th><th scope=col>waterpoint_type_group</th></tr>\n",
       "\t<tr><th></th><th scope=col>&lt;int&gt;</th><th scope=col>&lt;dbl&gt;</th><th scope=col>&lt;fct&gt;</th><th scope=col>&lt;fct&gt;</th><th scope=col>&lt;int&gt;</th><th scope=col>&lt;fct&gt;</th><th scope=col>&lt;dbl&gt;</th><th scope=col>&lt;dbl&gt;</th><th scope=col>&lt;fct&gt;</th><th scope=col>&lt;fct&gt;</th><th scope=col>⋯</th><th scope=col>&lt;fct&gt;</th><th scope=col>&lt;fct&gt;</th><th scope=col>&lt;fct&gt;</th><th scope=col>&lt;fct&gt;</th><th scope=col>&lt;fct&gt;</th><th scope=col>&lt;fct&gt;</th><th scope=col>&lt;fct&gt;</th><th scope=col>&lt;fct&gt;</th><th scope=col>&lt;fct&gt;</th><th scope=col>&lt;fct&gt;</th></tr>\n",
       "</thead>\n",
       "<tbody>\n",
       "\t<tr><th scope=row>1</th><td>69572</td><td>6000</td><td>2011-03-14</td><td>Roman              </td><td>1390</td><td>Roman       </td><td>34.93809</td><td> -9.856322</td><td>none                </td><td>Lake Nyasa             </td><td>⋯</td><td>annually  </td><td>soft </td><td>good </td><td>enough      </td><td>enough      </td><td>spring              </td><td>spring              </td><td>groundwater</td><td>communal standpipe         </td><td>communal standpipe</td></tr>\n",
       "\t<tr><th scope=row>2</th><td> 8776</td><td>   0</td><td>2013-03-06</td><td>Grumeti            </td><td>1399</td><td>GRUMETI     </td><td>34.69877</td><td> -2.147466</td><td>Zahanati            </td><td>Lake Victoria          </td><td>⋯</td><td>never pay </td><td>soft </td><td>good </td><td>insufficient</td><td>insufficient</td><td>rainwater harvesting</td><td>rainwater harvesting</td><td>surface    </td><td>communal standpipe         </td><td>communal standpipe</td></tr>\n",
       "\t<tr><th scope=row>3</th><td>34310</td><td>  25</td><td>2013-02-25</td><td>Lottery Club       </td><td> 686</td><td>World vision</td><td>37.46066</td><td> -3.821329</td><td>Kwa Mahundi         </td><td>Pangani                </td><td>⋯</td><td>per bucket</td><td>soft </td><td>good </td><td>enough      </td><td>enough      </td><td>dam                 </td><td>dam                 </td><td>surface    </td><td>communal standpipe multiple</td><td>communal standpipe</td></tr>\n",
       "\t<tr><th scope=row>4</th><td>67743</td><td>   0</td><td>2013-01-28</td><td>Unicef             </td><td> 263</td><td>UNICEF      </td><td>38.48616</td><td>-11.155298</td><td>Zahanati Ya Nanyumbu</td><td>Ruvuma / Southern Coast</td><td>⋯</td><td>never pay </td><td>soft </td><td>good </td><td>dry         </td><td>dry         </td><td>machine dbh         </td><td>borehole            </td><td>groundwater</td><td>communal standpipe multiple</td><td>communal standpipe</td></tr>\n",
       "\t<tr><th scope=row>5</th><td>19728</td><td>   0</td><td>2011-07-13</td><td>Action In A        </td><td>   0</td><td>Artisan     </td><td>31.13085</td><td> -1.825359</td><td>Shuleni             </td><td>Lake Victoria          </td><td>⋯</td><td>never pay </td><td>soft </td><td>good </td><td>seasonal    </td><td>seasonal    </td><td>rainwater harvesting</td><td>rainwater harvesting</td><td>surface    </td><td>communal standpipe         </td><td>communal standpipe</td></tr>\n",
       "\t<tr><th scope=row>6</th><td> 9944</td><td>  20</td><td>2011-03-13</td><td>Mkinga Distric Coun</td><td>   0</td><td>DWE         </td><td>39.17280</td><td> -4.765587</td><td>Tajiri              </td><td>Pangani                </td><td>⋯</td><td>per bucket</td><td>salty</td><td>salty</td><td>enough      </td><td>enough      </td><td>other               </td><td>other               </td><td>unknown    </td><td>communal standpipe multiple</td><td>communal standpipe</td></tr>\n",
       "</tbody>\n",
       "</table>\n"
      ],
      "text/latex": [
       "A data.frame: 6 × 38\n",
       "\\begin{tabular}{r|lllllllllllllllllllll}\n",
       "  & id & amount\\_tsh & date\\_recorded & funder & gps\\_height & installer & longitude & latitude & wpt\\_name & basin & ⋯ & payment\\_type & water\\_quality & quality\\_group & quantity & quantity\\_group & source & source\\_type & source\\_class & waterpoint\\_type & waterpoint\\_type\\_group\\\\\n",
       "  & <int> & <dbl> & <fct> & <fct> & <int> & <fct> & <dbl> & <dbl> & <fct> & <fct> & ⋯ & <fct> & <fct> & <fct> & <fct> & <fct> & <fct> & <fct> & <fct> & <fct> & <fct>\\\\\n",
       "\\hline\n",
       "\t1 & 69572 & 6000 & 2011-03-14 & Roman               & 1390 & Roman        & 34.93809 &  -9.856322 & none                 & Lake Nyasa              & ⋯ & annually   & soft  & good  & enough       & enough       & spring               & spring               & groundwater & communal standpipe          & communal standpipe\\\\\n",
       "\t2 &  8776 &    0 & 2013-03-06 & Grumeti             & 1399 & GRUMETI      & 34.69877 &  -2.147466 & Zahanati             & Lake Victoria           & ⋯ & never pay  & soft  & good  & insufficient & insufficient & rainwater harvesting & rainwater harvesting & surface     & communal standpipe          & communal standpipe\\\\\n",
       "\t3 & 34310 &   25 & 2013-02-25 & Lottery Club        &  686 & World vision & 37.46066 &  -3.821329 & Kwa Mahundi          & Pangani                 & ⋯ & per bucket & soft  & good  & enough       & enough       & dam                  & dam                  & surface     & communal standpipe multiple & communal standpipe\\\\\n",
       "\t4 & 67743 &    0 & 2013-01-28 & Unicef              &  263 & UNICEF       & 38.48616 & -11.155298 & Zahanati Ya Nanyumbu & Ruvuma / Southern Coast & ⋯ & never pay  & soft  & good  & dry          & dry          & machine dbh          & borehole             & groundwater & communal standpipe multiple & communal standpipe\\\\\n",
       "\t5 & 19728 &    0 & 2011-07-13 & Action In A         &    0 & Artisan      & 31.13085 &  -1.825359 & Shuleni              & Lake Victoria           & ⋯ & never pay  & soft  & good  & seasonal     & seasonal     & rainwater harvesting & rainwater harvesting & surface     & communal standpipe          & communal standpipe\\\\\n",
       "\t6 &  9944 &   20 & 2011-03-13 & Mkinga Distric Coun &    0 & DWE          & 39.17280 &  -4.765587 & Tajiri               & Pangani                 & ⋯ & per bucket & salty & salty & enough       & enough       & other                & other                & unknown     & communal standpipe multiple & communal standpipe\\\\\n",
       "\\end{tabular}\n"
      ],
      "text/markdown": [
       "\n",
       "A data.frame: 6 × 38\n",
       "\n",
       "| <!--/--> | id &lt;int&gt; | amount_tsh &lt;dbl&gt; | date_recorded &lt;fct&gt; | funder &lt;fct&gt; | gps_height &lt;int&gt; | installer &lt;fct&gt; | longitude &lt;dbl&gt; | latitude &lt;dbl&gt; | wpt_name &lt;fct&gt; | basin &lt;fct&gt; | ⋯ ⋯ | payment_type &lt;fct&gt; | water_quality &lt;fct&gt; | quality_group &lt;fct&gt; | quantity &lt;fct&gt; | quantity_group &lt;fct&gt; | source &lt;fct&gt; | source_type &lt;fct&gt; | source_class &lt;fct&gt; | waterpoint_type &lt;fct&gt; | waterpoint_type_group &lt;fct&gt; |\n",
       "|---|---|---|---|---|---|---|---|---|---|---|---|---|---|---|---|---|---|---|---|---|---|\n",
       "| 1 | 69572 | 6000 | 2011-03-14 | Roman               | 1390 | Roman        | 34.93809 |  -9.856322 | none                 | Lake Nyasa              | ⋯ | annually   | soft  | good  | enough       | enough       | spring               | spring               | groundwater | communal standpipe          | communal standpipe |\n",
       "| 2 |  8776 |    0 | 2013-03-06 | Grumeti             | 1399 | GRUMETI      | 34.69877 |  -2.147466 | Zahanati             | Lake Victoria           | ⋯ | never pay  | soft  | good  | insufficient | insufficient | rainwater harvesting | rainwater harvesting | surface     | communal standpipe          | communal standpipe |\n",
       "| 3 | 34310 |   25 | 2013-02-25 | Lottery Club        |  686 | World vision | 37.46066 |  -3.821329 | Kwa Mahundi          | Pangani                 | ⋯ | per bucket | soft  | good  | enough       | enough       | dam                  | dam                  | surface     | communal standpipe multiple | communal standpipe |\n",
       "| 4 | 67743 |    0 | 2013-01-28 | Unicef              |  263 | UNICEF       | 38.48616 | -11.155298 | Zahanati Ya Nanyumbu | Ruvuma / Southern Coast | ⋯ | never pay  | soft  | good  | dry          | dry          | machine dbh          | borehole             | groundwater | communal standpipe multiple | communal standpipe |\n",
       "| 5 | 19728 |    0 | 2011-07-13 | Action In A         |    0 | Artisan      | 31.13085 |  -1.825359 | Shuleni              | Lake Victoria           | ⋯ | never pay  | soft  | good  | seasonal     | seasonal     | rainwater harvesting | rainwater harvesting | surface     | communal standpipe          | communal standpipe |\n",
       "| 6 |  9944 |   20 | 2011-03-13 | Mkinga Distric Coun |    0 | DWE          | 39.17280 |  -4.765587 | Tajiri               | Pangani                 | ⋯ | per bucket | salty | salty | enough       | enough       | other                | other                | unknown     | communal standpipe multiple | communal standpipe |\n",
       "\n"
      ],
      "text/plain": [
       "  id    amount_tsh date_recorded funder              gps_height installer   \n",
       "1 69572 6000       2011-03-14    Roman               1390       Roman       \n",
       "2  8776    0       2013-03-06    Grumeti             1399       GRUMETI     \n",
       "3 34310   25       2013-02-25    Lottery Club         686       World vision\n",
       "4 67743    0       2013-01-28    Unicef               263       UNICEF      \n",
       "5 19728    0       2011-07-13    Action In A            0       Artisan     \n",
       "6  9944   20       2011-03-13    Mkinga Distric Coun    0       DWE         \n",
       "  longitude latitude   wpt_name             basin                   ⋯\n",
       "1 34.93809   -9.856322 none                 Lake Nyasa              ⋯\n",
       "2 34.69877   -2.147466 Zahanati             Lake Victoria           ⋯\n",
       "3 37.46066   -3.821329 Kwa Mahundi          Pangani                 ⋯\n",
       "4 38.48616  -11.155298 Zahanati Ya Nanyumbu Ruvuma / Southern Coast ⋯\n",
       "5 31.13085   -1.825359 Shuleni              Lake Victoria           ⋯\n",
       "6 39.17280   -4.765587 Tajiri               Pangani                 ⋯\n",
       "  payment_type water_quality quality_group quantity     quantity_group\n",
       "1 annually     soft          good          enough       enough        \n",
       "2 never pay    soft          good          insufficient insufficient  \n",
       "3 per bucket   soft          good          enough       enough        \n",
       "4 never pay    soft          good          dry          dry           \n",
       "5 never pay    soft          good          seasonal     seasonal      \n",
       "6 per bucket   salty         salty         enough       enough        \n",
       "  source               source_type          source_class\n",
       "1 spring               spring               groundwater \n",
       "2 rainwater harvesting rainwater harvesting surface     \n",
       "3 dam                  dam                  surface     \n",
       "4 machine dbh          borehole             groundwater \n",
       "5 rainwater harvesting rainwater harvesting surface     \n",
       "6 other                other                unknown     \n",
       "  waterpoint_type             waterpoint_type_group\n",
       "1 communal standpipe          communal standpipe   \n",
       "2 communal standpipe          communal standpipe   \n",
       "3 communal standpipe multiple communal standpipe   \n",
       "4 communal standpipe multiple communal standpipe   \n",
       "5 communal standpipe          communal standpipe   \n",
       "6 communal standpipe multiple communal standpipe   "
      ]
     },
     "metadata": {},
     "output_type": "display_data"
    },
    {
     "name": "stderr",
     "output_type": "stream",
     "text": [
      "Warning message in chisq.test(table(training_set_values$funder, training_set_values$payment_type)):\n",
      "“Chi-squared approximation may be incorrect”\n"
     ]
    },
    {
     "data": {
      "text/plain": [
       "\n",
       "\tPearson's Chi-squared test\n",
       "\n",
       "data:  table(training_set_values$funder, training_set_values$payment_type)\n",
       "X-squared = 89600, df = 11382, p-value < 2.2e-16\n"
      ]
     },
     "metadata": {},
     "output_type": "display_data"
    },
    {
     "name": "stderr",
     "output_type": "stream",
     "text": [
      "Warning message in chisq.test(table(training_set_values$water_quality, training_set_values$quality_group)):\n",
      "“Chi-squared approximation may be incorrect”\n"
     ]
    },
    {
     "data": {
      "text/plain": [
       "\n",
       "\tPearson's Chi-squared test\n",
       "\n",
       "data:  table(training_set_values$water_quality, training_set_values$quality_group)\n",
       "X-squared = 297000, df = 35, p-value < 2.2e-16\n"
      ]
     },
     "metadata": {},
     "output_type": "display_data"
    }
   ],
   "source": [
    "head(training_set_values)\n",
    "\n",
    "chisq.test(table(training_set_values$funder, training_set_values$payment_type))\n",
    "chisq.test(table(training_set_values$water_quality, training_set_values$quality_group))\n"
   ]
  },
  {
   "cell_type": "markdown",
   "metadata": {},
   "source": [
    "Description Chi-squared tes TODO\n"
   ]
  },
  {
   "cell_type": "markdown",
   "metadata": {},
   "source": [
    "## Missing value imputation\n",
    "\n",
    "## Feature engineering\n",
    "\n",
    "## Feature selection"
   ]
  },
  {
   "cell_type": "code",
   "execution_count": null,
   "metadata": {},
   "outputs": [],
   "source": []
  },
  {
   "cell_type": "markdown",
   "metadata": {},
   "source": []
  },
  {
   "cell_type": "code",
   "execution_count": 12,
   "metadata": {
    "scrolled": true
   },
   "outputs": [
    {
     "data": {
      "text/html": [
       "<style>\n",
       ".list-inline {list-style: none; margin:0; padding: 0}\n",
       ".list-inline>li {display: inline-block}\n",
       ".list-inline>li:not(:last-child)::after {content: \"\\00b7\"; padding: 0 .5ex}\n",
       "</style>\n",
       "<ol class=list-inline><li>'id'</li><li>'amount_tsh'</li><li>'date_recorded'</li><li>'funder'</li><li>'gps_height'</li><li>'installer'</li><li>'longitude'</li><li>'latitude'</li><li>'wpt_name'</li><li>'basin'</li><li>'subvillage'</li><li>'region'</li><li>'region_code'</li><li>'district_code'</li><li>'lga'</li><li>'ward'</li><li>'population'</li><li>'public_meeting'</li><li>'scheme_management'</li><li>'scheme_name'</li><li>'permit'</li><li>'construction_year'</li><li>'extraction_type'</li><li>'extraction_type_class'</li><li>'management'</li><li>'payment'</li><li>'water_quality'</li><li>'quantity'</li><li>'source'</li><li>'waterpoint_type'</li></ol>\n"
      ],
      "text/latex": [
       "\\begin{enumerate*}\n",
       "\\item 'id'\n",
       "\\item 'amount\\_tsh'\n",
       "\\item 'date\\_recorded'\n",
       "\\item 'funder'\n",
       "\\item 'gps\\_height'\n",
       "\\item 'installer'\n",
       "\\item 'longitude'\n",
       "\\item 'latitude'\n",
       "\\item 'wpt\\_name'\n",
       "\\item 'basin'\n",
       "\\item 'subvillage'\n",
       "\\item 'region'\n",
       "\\item 'region\\_code'\n",
       "\\item 'district\\_code'\n",
       "\\item 'lga'\n",
       "\\item 'ward'\n",
       "\\item 'population'\n",
       "\\item 'public\\_meeting'\n",
       "\\item 'scheme\\_management'\n",
       "\\item 'scheme\\_name'\n",
       "\\item 'permit'\n",
       "\\item 'construction\\_year'\n",
       "\\item 'extraction\\_type'\n",
       "\\item 'extraction\\_type\\_class'\n",
       "\\item 'management'\n",
       "\\item 'payment'\n",
       "\\item 'water\\_quality'\n",
       "\\item 'quantity'\n",
       "\\item 'source'\n",
       "\\item 'waterpoint\\_type'\n",
       "\\end{enumerate*}\n"
      ],
      "text/markdown": [
       "1. 'id'\n",
       "2. 'amount_tsh'\n",
       "3. 'date_recorded'\n",
       "4. 'funder'\n",
       "5. 'gps_height'\n",
       "6. 'installer'\n",
       "7. 'longitude'\n",
       "8. 'latitude'\n",
       "9. 'wpt_name'\n",
       "10. 'basin'\n",
       "11. 'subvillage'\n",
       "12. 'region'\n",
       "13. 'region_code'\n",
       "14. 'district_code'\n",
       "15. 'lga'\n",
       "16. 'ward'\n",
       "17. 'population'\n",
       "18. 'public_meeting'\n",
       "19. 'scheme_management'\n",
       "20. 'scheme_name'\n",
       "21. 'permit'\n",
       "22. 'construction_year'\n",
       "23. 'extraction_type'\n",
       "24. 'extraction_type_class'\n",
       "25. 'management'\n",
       "26. 'payment'\n",
       "27. 'water_quality'\n",
       "28. 'quantity'\n",
       "29. 'source'\n",
       "30. 'waterpoint_type'\n",
       "\n",
       "\n"
      ],
      "text/plain": [
       " [1] \"id\"                    \"amount_tsh\"            \"date_recorded\"        \n",
       " [4] \"funder\"                \"gps_height\"            \"installer\"            \n",
       " [7] \"longitude\"             \"latitude\"              \"wpt_name\"             \n",
       "[10] \"basin\"                 \"subvillage\"            \"region\"               \n",
       "[13] \"region_code\"           \"district_code\"         \"lga\"                  \n",
       "[16] \"ward\"                  \"population\"            \"public_meeting\"       \n",
       "[19] \"scheme_management\"     \"scheme_name\"           \"permit\"               \n",
       "[22] \"construction_year\"     \"extraction_type\"       \"extraction_type_class\"\n",
       "[25] \"management\"            \"payment\"               \"water_quality\"        \n",
       "[28] \"quantity\"              \"source\"                \"waterpoint_type\"      "
      ]
     },
     "metadata": {},
     "output_type": "display_data"
    },
    {
     "data": {
      "text/html": [
       "30"
      ],
      "text/latex": [
       "30"
      ],
      "text/markdown": [
       "30"
      ],
      "text/plain": [
       "[1] 30"
      ]
     },
     "metadata": {},
     "output_type": "display_data"
    },
    {
     "data": {
      "text/html": [
       "<table class=\"dataframe\">\n",
       "<caption>A data.frame: 59400 × 30</caption>\n",
       "<thead>\n",
       "\t<tr><th scope=col>id</th><th scope=col>amount_tsh</th><th scope=col>date_recorded</th><th scope=col>funder</th><th scope=col>gps_height</th><th scope=col>installer</th><th scope=col>longitude</th><th scope=col>latitude</th><th scope=col>wpt_name</th><th scope=col>basin</th><th scope=col>subvillage</th><th scope=col>region</th><th scope=col>region_code</th><th scope=col>district_code</th><th scope=col>lga</th><th scope=col>ward</th><th scope=col>population</th><th scope=col>public_meeting</th><th scope=col>scheme_management</th><th scope=col>scheme_name</th><th scope=col>permit</th><th scope=col>construction_year</th><th scope=col>extraction_type</th><th scope=col>extraction_type_class</th><th scope=col>management</th><th scope=col>payment</th><th scope=col>water_quality</th><th scope=col>quantity</th><th scope=col>source</th><th scope=col>waterpoint_type</th></tr>\n",
       "\t<tr><th scope=col>&lt;int&gt;</th><th scope=col>&lt;dbl&gt;</th><th scope=col>&lt;fct&gt;</th><th scope=col>&lt;fct&gt;</th><th scope=col>&lt;int&gt;</th><th scope=col>&lt;fct&gt;</th><th scope=col>&lt;dbl&gt;</th><th scope=col>&lt;dbl&gt;</th><th scope=col>&lt;fct&gt;</th><th scope=col>&lt;fct&gt;</th><th scope=col>&lt;fct&gt;</th><th scope=col>&lt;fct&gt;</th><th scope=col>&lt;int&gt;</th><th scope=col>&lt;int&gt;</th><th scope=col>&lt;fct&gt;</th><th scope=col>&lt;fct&gt;</th><th scope=col>&lt;int&gt;</th><th scope=col>&lt;fct&gt;</th><th scope=col>&lt;fct&gt;</th><th scope=col>&lt;fct&gt;</th><th scope=col>&lt;fct&gt;</th><th scope=col>&lt;int&gt;</th><th scope=col>&lt;fct&gt;</th><th scope=col>&lt;fct&gt;</th><th scope=col>&lt;fct&gt;</th><th scope=col>&lt;fct&gt;</th><th scope=col>&lt;fct&gt;</th><th scope=col>&lt;fct&gt;</th><th scope=col>&lt;fct&gt;</th><th scope=col>&lt;fct&gt;</th></tr>\n",
       "</thead>\n",
       "<tbody>\n",
       "\t<tr><td>69572</td><td>6000</td><td>2011-03-14</td><td>Roman       </td><td>1390</td><td>Roman       </td><td>34.93809</td><td> -9.856322</td><td>none                </td><td>Lake Nyasa             </td><td>Mnyusi B  </td><td>Iringa </td><td>11</td><td> 5</td><td>Ludewa   </td><td>Mundindi  </td><td>109</td><td>True</td><td>VWC  </td><td>Roman                      </td><td>False</td><td>1999</td><td>gravity    </td><td>gravity    </td><td>vwc  </td><td>pay annually  </td><td>soft</td><td>enough      </td><td>spring              </td><td>communal standpipe         </td></tr>\n",
       "\t<tr><td> 8776</td><td>   0</td><td>2013-03-06</td><td>Grumeti     </td><td>1399</td><td>GRUMETI     </td><td>34.69877</td><td> -2.147466</td><td>Zahanati            </td><td>Lake Victoria          </td><td>Nyamara   </td><td>Mara   </td><td>20</td><td> 2</td><td>Serengeti</td><td>Natta     </td><td>280</td><td>    </td><td>Other</td><td>                           </td><td>True </td><td>2010</td><td>gravity    </td><td>gravity    </td><td>wug  </td><td>never pay     </td><td>soft</td><td>insufficient</td><td>rainwater harvesting</td><td>communal standpipe         </td></tr>\n",
       "\t<tr><td>34310</td><td>  25</td><td>2013-02-25</td><td>Lottery Club</td><td> 686</td><td>World vision</td><td>37.46066</td><td> -3.821329</td><td>Kwa Mahundi         </td><td>Pangani                </td><td>Majengo   </td><td>Manyara</td><td>21</td><td> 4</td><td>Simanjiro</td><td>Ngorika   </td><td>250</td><td>True</td><td>VWC  </td><td>Nyumba ya mungu pipe scheme</td><td>True </td><td>2009</td><td>gravity    </td><td>gravity    </td><td>vwc  </td><td>pay per bucket</td><td>soft</td><td>enough      </td><td>dam                 </td><td>communal standpipe multiple</td></tr>\n",
       "\t<tr><td>67743</td><td>   0</td><td>2013-01-28</td><td>Unicef      </td><td> 263</td><td>UNICEF      </td><td>38.48616</td><td>-11.155298</td><td>Zahanati Ya Nanyumbu</td><td>Ruvuma / Southern Coast</td><td>Mahakamani</td><td>Mtwara </td><td>90</td><td>63</td><td>Nanyumbu </td><td>Nanyumbu  </td><td> 58</td><td>True</td><td>VWC  </td><td>                           </td><td>True </td><td>1986</td><td>submersible</td><td>submersible</td><td>vwc  </td><td>never pay     </td><td>soft</td><td>dry         </td><td>machine dbh         </td><td>communal standpipe multiple</td></tr>\n",
       "\t<tr><td>19728</td><td>   0</td><td>2011-07-13</td><td>Action In A </td><td>   0</td><td>Artisan     </td><td>31.13085</td><td> -1.825359</td><td>Shuleni             </td><td>Lake Victoria          </td><td>Kyanyamisa</td><td>Kagera </td><td>18</td><td> 1</td><td>Karagwe  </td><td>Nyakasimbi</td><td>  0</td><td>True</td><td>     </td><td>                           </td><td>True </td><td>   0</td><td>gravity    </td><td>gravity    </td><td>other</td><td>never pay     </td><td>soft</td><td>seasonal    </td><td>rainwater harvesting</td><td>communal standpipe         </td></tr>\n",
       "\t<tr><td>⋮</td><td>⋮</td><td>⋮</td><td>⋮</td><td>⋮</td><td>⋮</td><td>⋮</td><td>⋮</td><td>⋮</td><td>⋮</td><td>⋮</td><td>⋮</td><td>⋮</td><td>⋮</td><td>⋮</td><td>⋮</td><td>⋮</td><td>⋮</td><td>⋮</td><td>⋮</td><td>⋮</td><td>⋮</td><td>⋮</td><td>⋮</td><td>⋮</td><td>⋮</td><td>⋮</td><td>⋮</td><td>⋮</td><td>⋮</td></tr>\n",
       "\t<tr><td>60739</td><td>  10</td><td>2013-05-03</td><td>Germany Republi</td><td>1210</td><td>CES  </td><td>37.16981</td><td>-3.253847</td><td>Area Three Namba 27</td><td>Pangani    </td><td>Kiduruni    </td><td>Kilimanjaro</td><td> 3</td><td>5</td><td>Hai           </td><td>Masama Magharibi</td><td>125</td><td>True</td><td>Water Board</td><td>Losaa Kia water supply     </td><td>True </td><td>1999</td><td>gravity    </td><td>gravity </td><td>water board</td><td>pay per bucket       </td><td>soft    </td><td>enough      </td><td>spring      </td><td>communal standpipe</td></tr>\n",
       "\t<tr><td>27263</td><td>4700</td><td>2011-05-07</td><td>Cefa-njombe    </td><td>1212</td><td>Cefa </td><td>35.24999</td><td>-9.070629</td><td>Kwa Yahona Kuvala  </td><td>Rufiji     </td><td>Igumbilo    </td><td>Iringa     </td><td>11</td><td>4</td><td>Njombe        </td><td>Ikondo          </td><td> 56</td><td>True</td><td>VWC        </td><td>Ikondo electrical water sch</td><td>True </td><td>1996</td><td>gravity    </td><td>gravity </td><td>vwc        </td><td>pay annually         </td><td>soft    </td><td>enough      </td><td>river       </td><td>communal standpipe</td></tr>\n",
       "\t<tr><td>37057</td><td>   0</td><td>2011-04-11</td><td>               </td><td>   0</td><td>     </td><td>34.01709</td><td>-8.750434</td><td>Mashine            </td><td>Rufiji     </td><td>Madungulu   </td><td>Mbeya      </td><td>12</td><td>7</td><td>Mbarali       </td><td>Chimala         </td><td>  0</td><td>True</td><td>VWC        </td><td>                           </td><td>False</td><td>   0</td><td>swn 80     </td><td>handpump</td><td>vwc        </td><td>pay monthly          </td><td>fluoride</td><td>enough      </td><td>machine dbh </td><td>hand pump         </td></tr>\n",
       "\t<tr><td>31282</td><td>   0</td><td>2011-03-08</td><td>Malec          </td><td>   0</td><td>Musa </td><td>35.86132</td><td>-6.378573</td><td>Mshoro             </td><td>Rufiji     </td><td>Mwinyi      </td><td>Dodoma     </td><td> 1</td><td>4</td><td>Chamwino      </td><td>Mvumi Makulu    </td><td>  0</td><td>True</td><td>VWC        </td><td>                           </td><td>True </td><td>   0</td><td>nira/tanira</td><td>handpump</td><td>vwc        </td><td>never pay            </td><td>soft    </td><td>insufficient</td><td>shallow well</td><td>hand pump         </td></tr>\n",
       "\t<tr><td>26348</td><td>   0</td><td>2011-03-23</td><td>World Bank     </td><td> 191</td><td>World</td><td>38.10405</td><td>-6.747464</td><td>Kwa Mzee Lugawa    </td><td>Wami / Ruvu</td><td>Kikatanyemba</td><td>Morogoro   </td><td> 5</td><td>2</td><td>Morogoro Rural</td><td>Ngerengere      </td><td>150</td><td>True</td><td>VWC        </td><td>                           </td><td>True </td><td>2002</td><td>nira/tanira</td><td>handpump</td><td>vwc        </td><td>pay when scheme fails</td><td>salty   </td><td>enough      </td><td>shallow well</td><td>hand pump         </td></tr>\n",
       "</tbody>\n",
       "</table>\n"
      ],
      "text/latex": [
       "A data.frame: 59400 × 30\n",
       "\\begin{tabular}{llllllllllllllllllllllllllllll}\n",
       " id & amount\\_tsh & date\\_recorded & funder & gps\\_height & installer & longitude & latitude & wpt\\_name & basin & subvillage & region & region\\_code & district\\_code & lga & ward & population & public\\_meeting & scheme\\_management & scheme\\_name & permit & construction\\_year & extraction\\_type & extraction\\_type\\_class & management & payment & water\\_quality & quantity & source & waterpoint\\_type\\\\\n",
       " <int> & <dbl> & <fct> & <fct> & <int> & <fct> & <dbl> & <dbl> & <fct> & <fct> & <fct> & <fct> & <int> & <int> & <fct> & <fct> & <int> & <fct> & <fct> & <fct> & <fct> & <int> & <fct> & <fct> & <fct> & <fct> & <fct> & <fct> & <fct> & <fct>\\\\\n",
       "\\hline\n",
       "\t 69572 & 6000 & 2011-03-14 & Roman        & 1390 & Roman        & 34.93809 &  -9.856322 & none                 & Lake Nyasa              & Mnyusi B   & Iringa  & 11 &  5 & Ludewa    & Mundindi   & 109 & True & VWC   & Roman                       & False & 1999 & gravity     & gravity     & vwc   & pay annually   & soft & enough       & spring               & communal standpipe         \\\\\n",
       "\t  8776 &    0 & 2013-03-06 & Grumeti      & 1399 & GRUMETI      & 34.69877 &  -2.147466 & Zahanati             & Lake Victoria           & Nyamara    & Mara    & 20 &  2 & Serengeti & Natta      & 280 &      & Other &                             & True  & 2010 & gravity     & gravity     & wug   & never pay      & soft & insufficient & rainwater harvesting & communal standpipe         \\\\\n",
       "\t 34310 &   25 & 2013-02-25 & Lottery Club &  686 & World vision & 37.46066 &  -3.821329 & Kwa Mahundi          & Pangani                 & Majengo    & Manyara & 21 &  4 & Simanjiro & Ngorika    & 250 & True & VWC   & Nyumba ya mungu pipe scheme & True  & 2009 & gravity     & gravity     & vwc   & pay per bucket & soft & enough       & dam                  & communal standpipe multiple\\\\\n",
       "\t 67743 &    0 & 2013-01-28 & Unicef       &  263 & UNICEF       & 38.48616 & -11.155298 & Zahanati Ya Nanyumbu & Ruvuma / Southern Coast & Mahakamani & Mtwara  & 90 & 63 & Nanyumbu  & Nanyumbu   &  58 & True & VWC   &                             & True  & 1986 & submersible & submersible & vwc   & never pay      & soft & dry          & machine dbh          & communal standpipe multiple\\\\\n",
       "\t 19728 &    0 & 2011-07-13 & Action In A  &    0 & Artisan      & 31.13085 &  -1.825359 & Shuleni              & Lake Victoria           & Kyanyamisa & Kagera  & 18 &  1 & Karagwe   & Nyakasimbi &   0 & True &       &                             & True  &    0 & gravity     & gravity     & other & never pay      & soft & seasonal     & rainwater harvesting & communal standpipe         \\\\\n",
       "\t ⋮ & ⋮ & ⋮ & ⋮ & ⋮ & ⋮ & ⋮ & ⋮ & ⋮ & ⋮ & ⋮ & ⋮ & ⋮ & ⋮ & ⋮ & ⋮ & ⋮ & ⋮ & ⋮ & ⋮ & ⋮ & ⋮ & ⋮ & ⋮ & ⋮ & ⋮ & ⋮ & ⋮ & ⋮ & ⋮\\\\\n",
       "\t 60739 &   10 & 2013-05-03 & Germany Republi & 1210 & CES   & 37.16981 & -3.253847 & Area Three Namba 27 & Pangani     & Kiduruni     & Kilimanjaro &  3 & 5 & Hai            & Masama Magharibi & 125 & True & Water Board & Losaa Kia water supply      & True  & 1999 & gravity     & gravity  & water board & pay per bucket        & soft     & enough       & spring       & communal standpipe\\\\\n",
       "\t 27263 & 4700 & 2011-05-07 & Cefa-njombe     & 1212 & Cefa  & 35.24999 & -9.070629 & Kwa Yahona Kuvala   & Rufiji      & Igumbilo     & Iringa      & 11 & 4 & Njombe         & Ikondo           &  56 & True & VWC         & Ikondo electrical water sch & True  & 1996 & gravity     & gravity  & vwc         & pay annually          & soft     & enough       & river        & communal standpipe\\\\\n",
       "\t 37057 &    0 & 2011-04-11 &                 &    0 &       & 34.01709 & -8.750434 & Mashine             & Rufiji      & Madungulu    & Mbeya       & 12 & 7 & Mbarali        & Chimala          &   0 & True & VWC         &                             & False &    0 & swn 80      & handpump & vwc         & pay monthly           & fluoride & enough       & machine dbh  & hand pump         \\\\\n",
       "\t 31282 &    0 & 2011-03-08 & Malec           &    0 & Musa  & 35.86132 & -6.378573 & Mshoro              & Rufiji      & Mwinyi       & Dodoma      &  1 & 4 & Chamwino       & Mvumi Makulu     &   0 & True & VWC         &                             & True  &    0 & nira/tanira & handpump & vwc         & never pay             & soft     & insufficient & shallow well & hand pump         \\\\\n",
       "\t 26348 &    0 & 2011-03-23 & World Bank      &  191 & World & 38.10405 & -6.747464 & Kwa Mzee Lugawa     & Wami / Ruvu & Kikatanyemba & Morogoro    &  5 & 2 & Morogoro Rural & Ngerengere       & 150 & True & VWC         &                             & True  & 2002 & nira/tanira & handpump & vwc         & pay when scheme fails & salty    & enough       & shallow well & hand pump         \\\\\n",
       "\\end{tabular}\n"
      ],
      "text/markdown": [
       "\n",
       "A data.frame: 59400 × 30\n",
       "\n",
       "| id &lt;int&gt; | amount_tsh &lt;dbl&gt; | date_recorded &lt;fct&gt; | funder &lt;fct&gt; | gps_height &lt;int&gt; | installer &lt;fct&gt; | longitude &lt;dbl&gt; | latitude &lt;dbl&gt; | wpt_name &lt;fct&gt; | basin &lt;fct&gt; | subvillage &lt;fct&gt; | region &lt;fct&gt; | region_code &lt;int&gt; | district_code &lt;int&gt; | lga &lt;fct&gt; | ward &lt;fct&gt; | population &lt;int&gt; | public_meeting &lt;fct&gt; | scheme_management &lt;fct&gt; | scheme_name &lt;fct&gt; | permit &lt;fct&gt; | construction_year &lt;int&gt; | extraction_type &lt;fct&gt; | extraction_type_class &lt;fct&gt; | management &lt;fct&gt; | payment &lt;fct&gt; | water_quality &lt;fct&gt; | quantity &lt;fct&gt; | source &lt;fct&gt; | waterpoint_type &lt;fct&gt; |\n",
       "|---|---|---|---|---|---|---|---|---|---|---|---|---|---|---|---|---|---|---|---|---|---|---|---|---|---|---|---|---|---|\n",
       "| 69572 | 6000 | 2011-03-14 | Roman        | 1390 | Roman        | 34.93809 |  -9.856322 | none                 | Lake Nyasa              | Mnyusi B   | Iringa  | 11 |  5 | Ludewa    | Mundindi   | 109 | True | VWC   | Roman                       | False | 1999 | gravity     | gravity     | vwc   | pay annually   | soft | enough       | spring               | communal standpipe          |\n",
       "|  8776 |    0 | 2013-03-06 | Grumeti      | 1399 | GRUMETI      | 34.69877 |  -2.147466 | Zahanati             | Lake Victoria           | Nyamara    | Mara    | 20 |  2 | Serengeti | Natta      | 280 | <!----> | Other | <!----> | True  | 2010 | gravity     | gravity     | wug   | never pay      | soft | insufficient | rainwater harvesting | communal standpipe          |\n",
       "| 34310 |   25 | 2013-02-25 | Lottery Club |  686 | World vision | 37.46066 |  -3.821329 | Kwa Mahundi          | Pangani                 | Majengo    | Manyara | 21 |  4 | Simanjiro | Ngorika    | 250 | True | VWC   | Nyumba ya mungu pipe scheme | True  | 2009 | gravity     | gravity     | vwc   | pay per bucket | soft | enough       | dam                  | communal standpipe multiple |\n",
       "| 67743 |    0 | 2013-01-28 | Unicef       |  263 | UNICEF       | 38.48616 | -11.155298 | Zahanati Ya Nanyumbu | Ruvuma / Southern Coast | Mahakamani | Mtwara  | 90 | 63 | Nanyumbu  | Nanyumbu   |  58 | True | VWC   | <!----> | True  | 1986 | submersible | submersible | vwc   | never pay      | soft | dry          | machine dbh          | communal standpipe multiple |\n",
       "| 19728 |    0 | 2011-07-13 | Action In A  |    0 | Artisan      | 31.13085 |  -1.825359 | Shuleni              | Lake Victoria           | Kyanyamisa | Kagera  | 18 |  1 | Karagwe   | Nyakasimbi |   0 | True | <!----> | <!----> | True  |    0 | gravity     | gravity     | other | never pay      | soft | seasonal     | rainwater harvesting | communal standpipe          |\n",
       "| ⋮ | ⋮ | ⋮ | ⋮ | ⋮ | ⋮ | ⋮ | ⋮ | ⋮ | ⋮ | ⋮ | ⋮ | ⋮ | ⋮ | ⋮ | ⋮ | ⋮ | ⋮ | ⋮ | ⋮ | ⋮ | ⋮ | ⋮ | ⋮ | ⋮ | ⋮ | ⋮ | ⋮ | ⋮ | ⋮ |\n",
       "| 60739 |   10 | 2013-05-03 | Germany Republi | 1210 | CES   | 37.16981 | -3.253847 | Area Three Namba 27 | Pangani     | Kiduruni     | Kilimanjaro |  3 | 5 | Hai            | Masama Magharibi | 125 | True | Water Board | Losaa Kia water supply      | True  | 1999 | gravity     | gravity  | water board | pay per bucket        | soft     | enough       | spring       | communal standpipe |\n",
       "| 27263 | 4700 | 2011-05-07 | Cefa-njombe     | 1212 | Cefa  | 35.24999 | -9.070629 | Kwa Yahona Kuvala   | Rufiji      | Igumbilo     | Iringa      | 11 | 4 | Njombe         | Ikondo           |  56 | True | VWC         | Ikondo electrical water sch | True  | 1996 | gravity     | gravity  | vwc         | pay annually          | soft     | enough       | river        | communal standpipe |\n",
       "| 37057 |    0 | 2011-04-11 | <!----> |    0 | <!----> | 34.01709 | -8.750434 | Mashine             | Rufiji      | Madungulu    | Mbeya       | 12 | 7 | Mbarali        | Chimala          |   0 | True | VWC         | <!----> | False |    0 | swn 80      | handpump | vwc         | pay monthly           | fluoride | enough       | machine dbh  | hand pump          |\n",
       "| 31282 |    0 | 2011-03-08 | Malec           |    0 | Musa  | 35.86132 | -6.378573 | Mshoro              | Rufiji      | Mwinyi       | Dodoma      |  1 | 4 | Chamwino       | Mvumi Makulu     |   0 | True | VWC         | <!----> | True  |    0 | nira/tanira | handpump | vwc         | never pay             | soft     | insufficient | shallow well | hand pump          |\n",
       "| 26348 |    0 | 2011-03-23 | World Bank      |  191 | World | 38.10405 | -6.747464 | Kwa Mzee Lugawa     | Wami / Ruvu | Kikatanyemba | Morogoro    |  5 | 2 | Morogoro Rural | Ngerengere       | 150 | True | VWC         | <!----> | True  | 2002 | nira/tanira | handpump | vwc         | pay when scheme fails | salty    | enough       | shallow well | hand pump          |\n",
       "\n"
      ],
      "text/plain": [
       "      id    amount_tsh date_recorded funder          gps_height installer   \n",
       "1     69572 6000       2011-03-14    Roman           1390       Roman       \n",
       "2      8776    0       2013-03-06    Grumeti         1399       GRUMETI     \n",
       "3     34310   25       2013-02-25    Lottery Club     686       World vision\n",
       "4     67743    0       2013-01-28    Unicef           263       UNICEF      \n",
       "5     19728    0       2011-07-13    Action In A        0       Artisan     \n",
       "⋮     ⋮     ⋮          ⋮             ⋮               ⋮          ⋮           \n",
       "59396 60739   10       2013-05-03    Germany Republi 1210       CES         \n",
       "59397 27263 4700       2011-05-07    Cefa-njombe     1212       Cefa        \n",
       "59398 37057    0       2011-04-11                       0                   \n",
       "59399 31282    0       2011-03-08    Malec              0       Musa        \n",
       "59400 26348    0       2011-03-23    World Bank       191       World       \n",
       "      longitude latitude   wpt_name             basin                  \n",
       "1     34.93809   -9.856322 none                 Lake Nyasa             \n",
       "2     34.69877   -2.147466 Zahanati             Lake Victoria          \n",
       "3     37.46066   -3.821329 Kwa Mahundi          Pangani                \n",
       "4     38.48616  -11.155298 Zahanati Ya Nanyumbu Ruvuma / Southern Coast\n",
       "5     31.13085   -1.825359 Shuleni              Lake Victoria          \n",
       "⋮     ⋮         ⋮          ⋮                    ⋮                      \n",
       "59396 37.16981  -3.253847  Area Three Namba 27  Pangani                \n",
       "59397 35.24999  -9.070629  Kwa Yahona Kuvala    Rufiji                 \n",
       "59398 34.01709  -8.750434  Mashine              Rufiji                 \n",
       "59399 35.86132  -6.378573  Mshoro               Rufiji                 \n",
       "59400 38.10405  -6.747464  Kwa Mzee Lugawa      Wami / Ruvu            \n",
       "      subvillage   region      region_code district_code lga           \n",
       "1     Mnyusi B     Iringa      11           5            Ludewa        \n",
       "2     Nyamara      Mara        20           2            Serengeti     \n",
       "3     Majengo      Manyara     21           4            Simanjiro     \n",
       "4     Mahakamani   Mtwara      90          63            Nanyumbu      \n",
       "5     Kyanyamisa   Kagera      18           1            Karagwe       \n",
       "⋮     ⋮            ⋮           ⋮           ⋮             ⋮             \n",
       "59396 Kiduruni     Kilimanjaro  3          5             Hai           \n",
       "59397 Igumbilo     Iringa      11          4             Njombe        \n",
       "59398 Madungulu    Mbeya       12          7             Mbarali       \n",
       "59399 Mwinyi       Dodoma       1          4             Chamwino      \n",
       "59400 Kikatanyemba Morogoro     5          2             Morogoro Rural\n",
       "      ward             population public_meeting scheme_management\n",
       "1     Mundindi         109        True           VWC              \n",
       "2     Natta            280                       Other            \n",
       "3     Ngorika          250        True           VWC              \n",
       "4     Nanyumbu          58        True           VWC              \n",
       "5     Nyakasimbi         0        True                            \n",
       "⋮     ⋮                ⋮          ⋮              ⋮                \n",
       "59396 Masama Magharibi 125        True           Water Board      \n",
       "59397 Ikondo            56        True           VWC              \n",
       "59398 Chimala            0        True           VWC              \n",
       "59399 Mvumi Makulu       0        True           VWC              \n",
       "59400 Ngerengere       150        True           VWC              \n",
       "      scheme_name                 permit construction_year extraction_type\n",
       "1     Roman                       False  1999              gravity        \n",
       "2                                 True   2010              gravity        \n",
       "3     Nyumba ya mungu pipe scheme True   2009              gravity        \n",
       "4                                 True   1986              submersible    \n",
       "5                                 True      0              gravity        \n",
       "⋮     ⋮                           ⋮      ⋮                 ⋮              \n",
       "59396 Losaa Kia water supply      True   1999              gravity        \n",
       "59397 Ikondo electrical water sch True   1996              gravity        \n",
       "59398                             False     0              swn 80         \n",
       "59399                             True      0              nira/tanira    \n",
       "59400                             True   2002              nira/tanira    \n",
       "      extraction_type_class management  payment               water_quality\n",
       "1     gravity               vwc         pay annually          soft         \n",
       "2     gravity               wug         never pay             soft         \n",
       "3     gravity               vwc         pay per bucket        soft         \n",
       "4     submersible           vwc         never pay             soft         \n",
       "5     gravity               other       never pay             soft         \n",
       "⋮     ⋮                     ⋮           ⋮                     ⋮            \n",
       "59396 gravity               water board pay per bucket        soft         \n",
       "59397 gravity               vwc         pay annually          soft         \n",
       "59398 handpump              vwc         pay monthly           fluoride     \n",
       "59399 handpump              vwc         never pay             soft         \n",
       "59400 handpump              vwc         pay when scheme fails salty        \n",
       "      quantity     source               waterpoint_type            \n",
       "1     enough       spring               communal standpipe         \n",
       "2     insufficient rainwater harvesting communal standpipe         \n",
       "3     enough       dam                  communal standpipe multiple\n",
       "4     dry          machine dbh          communal standpipe multiple\n",
       "5     seasonal     rainwater harvesting communal standpipe         \n",
       "⋮     ⋮            ⋮                    ⋮                          \n",
       "59396 enough       spring               communal standpipe         \n",
       "59397 enough       river                communal standpipe         \n",
       "59398 enough       machine dbh          hand pump                  \n",
       "59399 insufficient shallow well         hand pump                  \n",
       "59400 enough       shallow well         hand pump                  "
      ]
     },
     "metadata": {},
     "output_type": "display_data"
    },
    {
     "data": {
      "text/html": [
       "<table class=\"dataframe\">\n",
       "<caption>A data.frame: 59400 × 2</caption>\n",
       "<thead>\n",
       "\t<tr><th scope=col>id</th><th scope=col>status_group</th></tr>\n",
       "\t<tr><th scope=col>&lt;int&gt;</th><th scope=col>&lt;fct&gt;</th></tr>\n",
       "</thead>\n",
       "<tbody>\n",
       "\t<tr><td>69572</td><td>functional    </td></tr>\n",
       "\t<tr><td> 8776</td><td>functional    </td></tr>\n",
       "\t<tr><td>34310</td><td>functional    </td></tr>\n",
       "\t<tr><td>67743</td><td>non functional</td></tr>\n",
       "\t<tr><td>19728</td><td>functional    </td></tr>\n",
       "\t<tr><td>⋮</td><td>⋮</td></tr>\n",
       "\t<tr><td>60739</td><td>functional</td></tr>\n",
       "\t<tr><td>27263</td><td>functional</td></tr>\n",
       "\t<tr><td>37057</td><td>functional</td></tr>\n",
       "\t<tr><td>31282</td><td>functional</td></tr>\n",
       "\t<tr><td>26348</td><td>functional</td></tr>\n",
       "</tbody>\n",
       "</table>\n"
      ],
      "text/latex": [
       "A data.frame: 59400 × 2\n",
       "\\begin{tabular}{ll}\n",
       " id & status\\_group\\\\\n",
       " <int> & <fct>\\\\\n",
       "\\hline\n",
       "\t 69572 & functional    \\\\\n",
       "\t  8776 & functional    \\\\\n",
       "\t 34310 & functional    \\\\\n",
       "\t 67743 & non functional\\\\\n",
       "\t 19728 & functional    \\\\\n",
       "\t ⋮ & ⋮\\\\\n",
       "\t 60739 & functional\\\\\n",
       "\t 27263 & functional\\\\\n",
       "\t 37057 & functional\\\\\n",
       "\t 31282 & functional\\\\\n",
       "\t 26348 & functional\\\\\n",
       "\\end{tabular}\n"
      ],
      "text/markdown": [
       "\n",
       "A data.frame: 59400 × 2\n",
       "\n",
       "| id &lt;int&gt; | status_group &lt;fct&gt; |\n",
       "|---|---|\n",
       "| 69572 | functional     |\n",
       "|  8776 | functional     |\n",
       "| 34310 | functional     |\n",
       "| 67743 | non functional |\n",
       "| 19728 | functional     |\n",
       "| ⋮ | ⋮ |\n",
       "| 60739 | functional |\n",
       "| 27263 | functional |\n",
       "| 37057 | functional |\n",
       "| 31282 | functional |\n",
       "| 26348 | functional |\n",
       "\n"
      ],
      "text/plain": [
       "      id    status_group  \n",
       "1     69572 functional    \n",
       "2      8776 functional    \n",
       "3     34310 functional    \n",
       "4     67743 non functional\n",
       "5     19728 functional    \n",
       "⋮     ⋮     ⋮             \n",
       "59396 60739 functional    \n",
       "59397 27263 functional    \n",
       "59398 37057 functional    \n",
       "59399 31282 functional    \n",
       "59400 26348 functional    "
      ]
     },
     "metadata": {},
     "output_type": "display_data"
    }
   ],
   "source": [
    "options(repr.matrix.max.rows=10, repr.matrix.max.cols=100) # option pour la taille des prints\n",
    "\n",
    "\n",
    "\n",
    " #table(training_set_values$waterpoint_type_group, training_set_values$waterpoint_type)  # less information\n",
    "training_set_values <- training_set_values[,setdiff(colnames(training_set_values),\"waterpoint_type_group\")]\n",
    " #table(training_set_values$source_type, training_set_values$source_class)  # less information\n",
    "training_set_values <- training_set_values[,setdiff(colnames(training_set_values),\"source_class\")]\n",
    " #table(training_set_values$source, training_set_values$source_type)  # less information\n",
    "training_set_values <- training_set_values[,setdiff(colnames(training_set_values),\"source_type\")]\n",
    " #table(training_set_values$water_quality, training_set_values$quality_group)  # less information\n",
    "training_set_values <- training_set_values[,setdiff(colnames(training_set_values),\"quality_group\")]\n",
    " #table(training_set_values$quantity, training_set_values$quantity_group)  # equivalent, we delete column\n",
    "training_set_values <- training_set_values[,setdiff(colnames(training_set_values),\"quantity_group\")]\n",
    " #table(training_set_values$extraction_type, training_set_values$extraction_type_group)  # we can delete column\n",
    "training_set_values <- training_set_values[,setdiff(colnames(training_set_values),\"extraction_type_group\")]\n",
    " #table(training_set_values$extraction_type, training_set_values$extraction_type_class)  # We can delete column\n",
    "#training_set_values <- training_set_values[,setdiff(colnames(training_set_values),\"extraction_type_class\")]\n",
    "# table(training_set_values$payment, training_set_values$payment_type)  # equivalent,  we delete column\n",
    "training_set_values <- training_set_values[,setdiff(colnames(training_set_values),\"payment_type\")]\n",
    " #table(training_set_values$management, training_set_values$management_group)  # we delete column\n",
    "training_set_values <- training_set_values[,setdiff(colnames(training_set_values),\"management_group\")]\n",
    " #table(training_set_values$region, training_set_values$region_code)  # very correlated but some cities/code are ambigius\n",
    "# table(training_set_values$basin, training_set_values$subvillage)  # not really correlated, keep\n",
    "\n",
    "\n",
    "# head(training_set_values)\n",
    "names(training_set_values)\n",
    "length(names(training_set_values))\n",
    "#training_set_values[-c(40, 38, 37, 33, 35, 26, 27, 31, 29, 14, 12)]\n",
    "training_set_values\n",
    "# subvillage > region \n",
    "training_set_labels\n"
   ]
  },
  {
   "cell_type": "markdown",
   "metadata": {},
   "source": [
    "At this time, we have remove the column which gave less information or was redundant. Now, we want to look after the correlation between the value and the output"
   ]
  },
  {
   "cell_type": "code",
   "execution_count": 14,
   "metadata": {},
   "outputs": [
    {
     "ename": "ERROR",
     "evalue": "Error in if (training_set_values[row, col] == \"\") {: missing value where TRUE/FALSE needed\n",
     "output_type": "error",
     "traceback": [
      "Error in if (training_set_values[row, col] == \"\") {: missing value where TRUE/FALSE needed\nTraceback:\n"
     ]
    }
   ],
   "source": [
    "empty_check <- c(\"funder\", \"installer\", \"basin\", \"subvillage\", \"region\", \"lga\", \"ward\", \"public_management\", \"scheme_management\", \"scheme_name\", \"permit\", \"extraction_type\", \"extraction_type_class\", \"payment\", \"water_quality\", \"quantity\", \"source\", \"waterpoint_type\", \"permit\", \"public_meeting\") \n",
    "for (row in 1:nrow(head(training_set_values, 10))){\n",
    "    for (col in 1:ncol(head(training_set_values, 10))){\n",
    "        col_name <- names(training_set_values[row])\n",
    "        if (col_name %in% empty_check){\n",
    "            #print(training_set_values[row, col])\n",
    "            if (\"\" %in% training_set_values[row, col]){\n",
    "                print(paste(\"Changing\"))\n",
    "                training_set_values[row, col] = \"unknown\"\n",
    "            }\n",
    "        }\n",
    "    }\n",
    "}\n",
    "#head(training_set_values)"
   ]
  },
  {
   "cell_type": "markdown",
   "metadata": {},
   "source": [
    "## End of preprocessing"
   ]
  },
  {
   "cell_type": "code",
   "execution_count": 45,
   "metadata": {},
   "outputs": [
    {
     "data": {
      "text/html": [
       "<table class=\"dataframe\">\n",
       "<caption>A data.frame: 59400 × 10</caption>\n",
       "<thead>\n",
       "\t<tr><th scope=col>id</th><th scope=col>amount_tsh</th><th scope=col>gps_height</th><th scope=col>longitude</th><th scope=col>latitude</th><th scope=col>region_code</th><th scope=col>district_code</th><th scope=col>population</th><th scope=col>construction_year</th><th scope=col>status_group</th></tr>\n",
       "\t<tr><th scope=col>&lt;int&gt;</th><th scope=col>&lt;dbl&gt;</th><th scope=col>&lt;int&gt;</th><th scope=col>&lt;dbl&gt;</th><th scope=col>&lt;dbl&gt;</th><th scope=col>&lt;int&gt;</th><th scope=col>&lt;int&gt;</th><th scope=col>&lt;int&gt;</th><th scope=col>&lt;int&gt;</th><th scope=col>&lt;fct&gt;</th></tr>\n",
       "</thead>\n",
       "<tbody>\n",
       "\t<tr><td>69572</td><td>6000</td><td>1390</td><td>34.93809</td><td> -9.856322</td><td>11</td><td> 5</td><td>109</td><td>1999</td><td>functional    </td></tr>\n",
       "\t<tr><td> 8776</td><td>   0</td><td>1399</td><td>34.69877</td><td> -2.147466</td><td>20</td><td> 2</td><td>280</td><td>2010</td><td>functional    </td></tr>\n",
       "\t<tr><td>34310</td><td>  25</td><td> 686</td><td>37.46066</td><td> -3.821329</td><td>21</td><td> 4</td><td>250</td><td>2009</td><td>functional    </td></tr>\n",
       "\t<tr><td>67743</td><td>   0</td><td> 263</td><td>38.48616</td><td>-11.155298</td><td>90</td><td>63</td><td> 58</td><td>1986</td><td>non functional</td></tr>\n",
       "\t<tr><td>19728</td><td>   0</td><td>   0</td><td>31.13085</td><td> -1.825359</td><td>18</td><td> 1</td><td>  0</td><td>   0</td><td>functional    </td></tr>\n",
       "\t<tr><td>⋮</td><td>⋮</td><td>⋮</td><td>⋮</td><td>⋮</td><td>⋮</td><td>⋮</td><td>⋮</td><td>⋮</td><td>⋮</td></tr>\n",
       "\t<tr><td>60739</td><td>  10</td><td>1210</td><td>37.16981</td><td>-3.253847</td><td> 3</td><td>5</td><td>125</td><td>1999</td><td>functional</td></tr>\n",
       "\t<tr><td>27263</td><td>4700</td><td>1212</td><td>35.24999</td><td>-9.070629</td><td>11</td><td>4</td><td> 56</td><td>1996</td><td>functional</td></tr>\n",
       "\t<tr><td>37057</td><td>   0</td><td>   0</td><td>34.01709</td><td>-8.750434</td><td>12</td><td>7</td><td>  0</td><td>   0</td><td>functional</td></tr>\n",
       "\t<tr><td>31282</td><td>   0</td><td>   0</td><td>35.86132</td><td>-6.378573</td><td> 1</td><td>4</td><td>  0</td><td>   0</td><td>functional</td></tr>\n",
       "\t<tr><td>26348</td><td>   0</td><td> 191</td><td>38.10405</td><td>-6.747464</td><td> 5</td><td>2</td><td>150</td><td>2002</td><td>functional</td></tr>\n",
       "</tbody>\n",
       "</table>\n"
      ],
      "text/latex": [
       "A data.frame: 59400 × 10\n",
       "\\begin{tabular}{llllllllll}\n",
       " id & amount\\_tsh & gps\\_height & longitude & latitude & region\\_code & district\\_code & population & construction\\_year & status\\_group\\\\\n",
       " <int> & <dbl> & <int> & <dbl> & <dbl> & <int> & <int> & <int> & <int> & <fct>\\\\\n",
       "\\hline\n",
       "\t 69572 & 6000 & 1390 & 34.93809 &  -9.856322 & 11 &  5 & 109 & 1999 & functional    \\\\\n",
       "\t  8776 &    0 & 1399 & 34.69877 &  -2.147466 & 20 &  2 & 280 & 2010 & functional    \\\\\n",
       "\t 34310 &   25 &  686 & 37.46066 &  -3.821329 & 21 &  4 & 250 & 2009 & functional    \\\\\n",
       "\t 67743 &    0 &  263 & 38.48616 & -11.155298 & 90 & 63 &  58 & 1986 & non functional\\\\\n",
       "\t 19728 &    0 &    0 & 31.13085 &  -1.825359 & 18 &  1 &   0 &    0 & functional    \\\\\n",
       "\t ⋮ & ⋮ & ⋮ & ⋮ & ⋮ & ⋮ & ⋮ & ⋮ & ⋮ & ⋮\\\\\n",
       "\t 60739 &   10 & 1210 & 37.16981 & -3.253847 &  3 & 5 & 125 & 1999 & functional\\\\\n",
       "\t 27263 & 4700 & 1212 & 35.24999 & -9.070629 & 11 & 4 &  56 & 1996 & functional\\\\\n",
       "\t 37057 &    0 &    0 & 34.01709 & -8.750434 & 12 & 7 &   0 &    0 & functional\\\\\n",
       "\t 31282 &    0 &    0 & 35.86132 & -6.378573 &  1 & 4 &   0 &    0 & functional\\\\\n",
       "\t 26348 &    0 &  191 & 38.10405 & -6.747464 &  5 & 2 & 150 & 2002 & functional\\\\\n",
       "\\end{tabular}\n"
      ],
      "text/markdown": [
       "\n",
       "A data.frame: 59400 × 10\n",
       "\n",
       "| id &lt;int&gt; | amount_tsh &lt;dbl&gt; | gps_height &lt;int&gt; | longitude &lt;dbl&gt; | latitude &lt;dbl&gt; | region_code &lt;int&gt; | district_code &lt;int&gt; | population &lt;int&gt; | construction_year &lt;int&gt; | status_group &lt;fct&gt; |\n",
       "|---|---|---|---|---|---|---|---|---|---|\n",
       "| 69572 | 6000 | 1390 | 34.93809 |  -9.856322 | 11 |  5 | 109 | 1999 | functional     |\n",
       "|  8776 |    0 | 1399 | 34.69877 |  -2.147466 | 20 |  2 | 280 | 2010 | functional     |\n",
       "| 34310 |   25 |  686 | 37.46066 |  -3.821329 | 21 |  4 | 250 | 2009 | functional     |\n",
       "| 67743 |    0 |  263 | 38.48616 | -11.155298 | 90 | 63 |  58 | 1986 | non functional |\n",
       "| 19728 |    0 |    0 | 31.13085 |  -1.825359 | 18 |  1 |   0 |    0 | functional     |\n",
       "| ⋮ | ⋮ | ⋮ | ⋮ | ⋮ | ⋮ | ⋮ | ⋮ | ⋮ | ⋮ |\n",
       "| 60739 |   10 | 1210 | 37.16981 | -3.253847 |  3 | 5 | 125 | 1999 | functional |\n",
       "| 27263 | 4700 | 1212 | 35.24999 | -9.070629 | 11 | 4 |  56 | 1996 | functional |\n",
       "| 37057 |    0 |    0 | 34.01709 | -8.750434 | 12 | 7 |   0 |    0 | functional |\n",
       "| 31282 |    0 |    0 | 35.86132 | -6.378573 |  1 | 4 |   0 |    0 | functional |\n",
       "| 26348 |    0 |  191 | 38.10405 | -6.747464 |  5 | 2 | 150 | 2002 | functional |\n",
       "\n"
      ],
      "text/plain": [
       "      id    amount_tsh gps_height longitude latitude   region_code\n",
       "1     69572 6000       1390       34.93809   -9.856322 11         \n",
       "2      8776    0       1399       34.69877   -2.147466 20         \n",
       "3     34310   25        686       37.46066   -3.821329 21         \n",
       "4     67743    0        263       38.48616  -11.155298 90         \n",
       "5     19728    0          0       31.13085   -1.825359 18         \n",
       "⋮     ⋮     ⋮          ⋮          ⋮         ⋮          ⋮          \n",
       "59396 60739   10       1210       37.16981  -3.253847   3         \n",
       "59397 27263 4700       1212       35.24999  -9.070629  11         \n",
       "59398 37057    0          0       34.01709  -8.750434  12         \n",
       "59399 31282    0          0       35.86132  -6.378573   1         \n",
       "59400 26348    0        191       38.10405  -6.747464   5         \n",
       "      district_code population construction_year status_group  \n",
       "1      5            109        1999              functional    \n",
       "2      2            280        2010              functional    \n",
       "3      4            250        2009              functional    \n",
       "4     63             58        1986              non functional\n",
       "5      1              0           0              functional    \n",
       "⋮     ⋮             ⋮          ⋮                 ⋮             \n",
       "59396 5             125        1999              functional    \n",
       "59397 4              56        1996              functional    \n",
       "59398 7               0           0              functional    \n",
       "59399 4               0           0              functional    \n",
       "59400 2             150        2002              functional    "
      ]
     },
     "metadata": {},
     "output_type": "display_data"
    },
    {
     "data": {
      "text/plain": [
       "       id          amount_tsh         gps_height       longitude    \n",
       " Min.   :    0   Min.   :     0.0   Min.   : -90.0   Min.   : 0.00  \n",
       " 1st Qu.:18520   1st Qu.:     0.0   1st Qu.:   0.0   1st Qu.:33.09  \n",
       " Median :37062   Median :     0.0   Median : 369.0   Median :34.91  \n",
       " Mean   :37115   Mean   :   317.7   Mean   : 668.3   Mean   :34.08  \n",
       " 3rd Qu.:55656   3rd Qu.:    20.0   3rd Qu.:1319.2   3rd Qu.:37.18  \n",
       " Max.   :74247   Max.   :350000.0   Max.   :2770.0   Max.   :40.35  \n",
       "    latitude        region_code   district_code     population     \n",
       " Min.   :-11.649   Min.   : 1.0   Min.   : 0.00   Min.   :    0.0  \n",
       " 1st Qu.: -8.541   1st Qu.: 5.0   1st Qu.: 2.00   1st Qu.:    0.0  \n",
       " Median : -5.022   Median :12.0   Median : 3.00   Median :   25.0  \n",
       " Mean   : -5.706   Mean   :15.3   Mean   : 5.63   Mean   :  179.9  \n",
       " 3rd Qu.: -3.326   3rd Qu.:17.0   3rd Qu.: 5.00   3rd Qu.:  215.0  \n",
       " Max.   :  0.000   Max.   :99.0   Max.   :80.00   Max.   :30500.0  \n",
       " construction_year                  status_group  \n",
       " Min.   :   0      functional             :32259  \n",
       " 1st Qu.:   0      functional needs repair: 4317  \n",
       " Median :1986      non functional         :22824  \n",
       " Mean   :1301                                     \n",
       " 3rd Qu.:2004                                     \n",
       " Max.   :2013                                     "
      ]
     },
     "metadata": {},
     "output_type": "display_data"
    }
   ],
   "source": [
    "factor_variables_train <- which(sapply(training_set_values[1,],class)==\"factor\")\n",
    "factor_variables_test <- which(sapply(test_set_values[1,],class)==\"factor\") \n",
    "\n",
    "only_num_var_train <- training_set_values[,-factor_variables_train]\n",
    "only_num_var_test <- test_set_values[,-factor_variables_test]\n",
    "\n",
    "#data_train add status_group\n",
    "data_train <- cbind(only_num_var_train, training_set_labels[2])\n",
    "data_train\n",
    "\n",
    "summary(data_train)\n"
   ]
  },
  {
   "cell_type": "markdown",
   "metadata": {},
   "source": [
    "We need to transform also categorical variable with 'one-hot-encoding'. To do so, we will use `dummies` package  "
   ]
  },
  {
   "cell_type": "code",
   "execution_count": 46,
   "metadata": {},
   "outputs": [
    {
     "name": "stderr",
     "output_type": "stream",
     "text": [
      "Installing package into ‘/home/chronoxx/R/x86_64-pc-linux-gnu-library/4.0’\n",
      "(as ‘lib’ is unspecified)\n",
      "\n"
     ]
    }
   ],
   "source": [
    "install.packages('dummies')\n",
    "library(dummies)"
   ]
  },
  {
   "cell_type": "code",
   "execution_count": null,
   "metadata": {
    "scrolled": true
   },
   "outputs": [],
   "source": []
  },
  {
   "cell_type": "code",
   "execution_count": 47,
   "metadata": {},
   "outputs": [],
   "source": [
    "data_factor_train <- training_set_values[,factor_variables_train]\n",
    "data_factor_test <- test_set_values[,factor_variables_test]"
   ]
  },
  {
   "cell_type": "code",
   "execution_count": 48,
   "metadata": {
    "scrolled": true
   },
   "outputs": [
    {
     "name": "stderr",
     "output_type": "stream",
     "text": [
      "Warning message in model.matrix.default(~x - 1, model.frame(~x - 1), contrasts = FALSE):\n",
      "“non-list contrasts argument ignored”\n",
      "Warning message in model.matrix.default(~x - 1, model.frame(~x - 1), contrasts = FALSE):\n",
      "“non-list contrasts argument ignored”\n",
      "Warning message in model.matrix.default(~x - 1, model.frame(~x - 1), contrasts = FALSE):\n",
      "“non-list contrasts argument ignored”\n",
      "Warning message in model.matrix.default(~x - 1, model.frame(~x - 1), contrasts = FALSE):\n",
      "“non-list contrasts argument ignored”\n",
      "Warning message in model.matrix.default(~x - 1, model.frame(~x - 1), contrasts = FALSE):\n",
      "“non-list contrasts argument ignored”\n",
      "Warning message in model.matrix.default(~x - 1, model.frame(~x - 1), contrasts = FALSE):\n",
      "“non-list contrasts argument ignored”\n"
     ]
    },
    {
     "data": {
      "text/html": [
       "<style>\n",
       ".list-inline {list-style: none; margin:0; padding: 0}\n",
       ".list-inline>li {display: inline-block}\n",
       ".list-inline>li:not(:last-child)::after {content: \"\\00b7\"; padding: 0 .5ex}\n",
       "</style>\n",
       "<ol class=list-inline><li>59400</li><li>21</li></ol>\n"
      ],
      "text/latex": [
       "\\begin{enumerate*}\n",
       "\\item 59400\n",
       "\\item 21\n",
       "\\end{enumerate*}\n"
      ],
      "text/markdown": [
       "1. 59400\n",
       "2. 21\n",
       "\n",
       "\n"
      ],
      "text/plain": [
       "[1] 59400    21"
      ]
     },
     "metadata": {},
     "output_type": "display_data"
    },
    {
     "data": {
      "text/html": [
       "<table class=\"dataframe\">\n",
       "<caption>A data.frame: 2 × 21</caption>\n",
       "<thead>\n",
       "\t<tr><th></th><th scope=col>water_quality_coloured</th><th scope=col>water_quality_fluoride</th><th scope=col>water_quality_fluoride abandoned</th><th scope=col>water_quality_milky</th><th scope=col>water_quality_salty</th><th scope=col>water_quality_salty abandoned</th><th scope=col>water_quality_soft</th><th scope=col>water_quality_unknown</th><th scope=col>source_dam</th><th scope=col>source_hand dtw</th><th scope=col>source_lake</th><th scope=col>source_machine dbh</th><th scope=col>source_other</th><th scope=col>source_rainwater harvesting</th><th scope=col>source_river</th><th scope=col>source_shallow well</th><th scope=col>source_spring</th><th scope=col>source_unknown</th><th scope=col>permit_</th><th scope=col>permit_False</th><th scope=col>permit_True</th></tr>\n",
       "\t<tr><th></th><th scope=col>&lt;int&gt;</th><th scope=col>&lt;int&gt;</th><th scope=col>&lt;int&gt;</th><th scope=col>&lt;int&gt;</th><th scope=col>&lt;int&gt;</th><th scope=col>&lt;int&gt;</th><th scope=col>&lt;int&gt;</th><th scope=col>&lt;int&gt;</th><th scope=col>&lt;int&gt;</th><th scope=col>&lt;int&gt;</th><th scope=col>&lt;int&gt;</th><th scope=col>&lt;int&gt;</th><th scope=col>&lt;int&gt;</th><th scope=col>&lt;int&gt;</th><th scope=col>&lt;int&gt;</th><th scope=col>&lt;int&gt;</th><th scope=col>&lt;int&gt;</th><th scope=col>&lt;int&gt;</th><th scope=col>&lt;int&gt;</th><th scope=col>&lt;int&gt;</th><th scope=col>&lt;int&gt;</th></tr>\n",
       "</thead>\n",
       "<tbody>\n",
       "\t<tr><th scope=row>1</th><td>0</td><td>0</td><td>0</td><td>0</td><td>0</td><td>0</td><td>1</td><td>0</td><td>0</td><td>0</td><td>0</td><td>0</td><td>0</td><td>0</td><td>0</td><td>0</td><td>1</td><td>0</td><td>0</td><td>1</td><td>0</td></tr>\n",
       "\t<tr><th scope=row>2</th><td>0</td><td>0</td><td>0</td><td>0</td><td>0</td><td>0</td><td>1</td><td>0</td><td>0</td><td>0</td><td>0</td><td>0</td><td>0</td><td>1</td><td>0</td><td>0</td><td>0</td><td>0</td><td>0</td><td>0</td><td>1</td></tr>\n",
       "</tbody>\n",
       "</table>\n"
      ],
      "text/latex": [
       "A data.frame: 2 × 21\n",
       "\\begin{tabular}{r|lllllllllllllllllllll}\n",
       "  & water\\_quality\\_coloured & water\\_quality\\_fluoride & water\\_quality\\_fluoride abandoned & water\\_quality\\_milky & water\\_quality\\_salty & water\\_quality\\_salty abandoned & water\\_quality\\_soft & water\\_quality\\_unknown & source\\_dam & source\\_hand dtw & source\\_lake & source\\_machine dbh & source\\_other & source\\_rainwater harvesting & source\\_river & source\\_shallow well & source\\_spring & source\\_unknown & permit\\_ & permit\\_False & permit\\_True\\\\\n",
       "  & <int> & <int> & <int> & <int> & <int> & <int> & <int> & <int> & <int> & <int> & <int> & <int> & <int> & <int> & <int> & <int> & <int> & <int> & <int> & <int> & <int>\\\\\n",
       "\\hline\n",
       "\t1 & 0 & 0 & 0 & 0 & 0 & 0 & 1 & 0 & 0 & 0 & 0 & 0 & 0 & 0 & 0 & 0 & 1 & 0 & 0 & 1 & 0\\\\\n",
       "\t2 & 0 & 0 & 0 & 0 & 0 & 0 & 1 & 0 & 0 & 0 & 0 & 0 & 0 & 1 & 0 & 0 & 0 & 0 & 0 & 0 & 1\\\\\n",
       "\\end{tabular}\n"
      ],
      "text/markdown": [
       "\n",
       "A data.frame: 2 × 21\n",
       "\n",
       "| <!--/--> | water_quality_coloured &lt;int&gt; | water_quality_fluoride &lt;int&gt; | water_quality_fluoride abandoned &lt;int&gt; | water_quality_milky &lt;int&gt; | water_quality_salty &lt;int&gt; | water_quality_salty abandoned &lt;int&gt; | water_quality_soft &lt;int&gt; | water_quality_unknown &lt;int&gt; | source_dam &lt;int&gt; | source_hand dtw &lt;int&gt; | source_lake &lt;int&gt; | source_machine dbh &lt;int&gt; | source_other &lt;int&gt; | source_rainwater harvesting &lt;int&gt; | source_river &lt;int&gt; | source_shallow well &lt;int&gt; | source_spring &lt;int&gt; | source_unknown &lt;int&gt; | permit_ &lt;int&gt; | permit_False &lt;int&gt; | permit_True &lt;int&gt; |\n",
       "|---|---|---|---|---|---|---|---|---|---|---|---|---|---|---|---|---|---|---|---|---|---|\n",
       "| 1 | 0 | 0 | 0 | 0 | 0 | 0 | 1 | 0 | 0 | 0 | 0 | 0 | 0 | 0 | 0 | 0 | 1 | 0 | 0 | 1 | 0 |\n",
       "| 2 | 0 | 0 | 0 | 0 | 0 | 0 | 1 | 0 | 0 | 0 | 0 | 0 | 0 | 1 | 0 | 0 | 0 | 0 | 0 | 0 | 1 |\n",
       "\n"
      ],
      "text/plain": [
       "  water_quality_coloured water_quality_fluoride\n",
       "1 0                      0                     \n",
       "2 0                      0                     \n",
       "  water_quality_fluoride abandoned water_quality_milky water_quality_salty\n",
       "1 0                                0                   0                  \n",
       "2 0                                0                   0                  \n",
       "  water_quality_salty abandoned water_quality_soft water_quality_unknown\n",
       "1 0                             1                  0                    \n",
       "2 0                             1                  0                    \n",
       "  source_dam source_hand dtw source_lake source_machine dbh source_other\n",
       "1 0          0               0           0                  0           \n",
       "2 0          0               0           0                  0           \n",
       "  source_rainwater harvesting source_river source_shallow well source_spring\n",
       "1 0                           0            0                   1            \n",
       "2 1                           0            0                   0            \n",
       "  source_unknown permit_ permit_False permit_True\n",
       "1 0              0       1            0          \n",
       "2 0              0       0            1          "
      ]
     },
     "metadata": {},
     "output_type": "display_data"
    }
   ],
   "source": [
    "variables_to_keep <- c(\"water_quality\", \"source\",\"permit\")\n",
    "\n",
    "data_factor_onehot_train <- dummy.data.frame(data_factor_train[,variables_to_keep], sep=\"_\")\n",
    "data_factor_onehot_test <- dummy.data.frame(data_factor_test[,variables_to_keep], sep=\"_\")\n",
    "\n",
    "dim(data_factor_onehot_train)\n",
    "data_factor_onehot_train[1:2,]"
   ]
  },
  {
   "cell_type": "code",
   "execution_count": 49,
   "metadata": {},
   "outputs": [
    {
     "data": {
      "text/html": [
       "<table class=\"dataframe\">\n",
       "<caption>A data.frame: 59400 × 31</caption>\n",
       "<thead>\n",
       "\t<tr><th></th><th scope=col>id</th><th scope=col>amount_tsh</th><th scope=col>gps_height</th><th scope=col>longitude</th><th scope=col>latitude</th><th scope=col>region_code</th><th scope=col>district_code</th><th scope=col>population</th><th scope=col>construction_year</th><th scope=col>status_group</th><th scope=col>water_quality_coloured</th><th scope=col>water_quality_fluoride</th><th scope=col>water_quality_fluoride abandoned</th><th scope=col>water_quality_milky</th><th scope=col>water_quality_salty</th><th scope=col>water_quality_salty abandoned</th><th scope=col>water_quality_soft</th><th scope=col>water_quality_unknown</th><th scope=col>source_dam</th><th scope=col>source_hand dtw</th><th scope=col>source_lake</th><th scope=col>source_machine dbh</th><th scope=col>source_other</th><th scope=col>source_rainwater harvesting</th><th scope=col>source_river</th><th scope=col>source_shallow well</th><th scope=col>source_spring</th><th scope=col>source_unknown</th><th scope=col>permit_</th><th scope=col>permit_False</th><th scope=col>permit_True</th></tr>\n",
       "\t<tr><th></th><th scope=col>&lt;int&gt;</th><th scope=col>&lt;dbl&gt;</th><th scope=col>&lt;int&gt;</th><th scope=col>&lt;dbl&gt;</th><th scope=col>&lt;dbl&gt;</th><th scope=col>&lt;int&gt;</th><th scope=col>&lt;int&gt;</th><th scope=col>&lt;int&gt;</th><th scope=col>&lt;int&gt;</th><th scope=col>&lt;fct&gt;</th><th scope=col>&lt;int&gt;</th><th scope=col>&lt;int&gt;</th><th scope=col>&lt;int&gt;</th><th scope=col>&lt;int&gt;</th><th scope=col>&lt;int&gt;</th><th scope=col>&lt;int&gt;</th><th scope=col>&lt;int&gt;</th><th scope=col>&lt;int&gt;</th><th scope=col>&lt;int&gt;</th><th scope=col>&lt;int&gt;</th><th scope=col>&lt;int&gt;</th><th scope=col>&lt;int&gt;</th><th scope=col>&lt;int&gt;</th><th scope=col>&lt;int&gt;</th><th scope=col>&lt;int&gt;</th><th scope=col>&lt;int&gt;</th><th scope=col>&lt;int&gt;</th><th scope=col>&lt;int&gt;</th><th scope=col>&lt;int&gt;</th><th scope=col>&lt;int&gt;</th><th scope=col>&lt;int&gt;</th></tr>\n",
       "</thead>\n",
       "<tbody>\n",
       "\t<tr><th scope=row>1</th><td>69572</td><td>6000</td><td>1390</td><td>34.93809</td><td> -9.856322</td><td>11</td><td> 5</td><td>109</td><td>1999</td><td>functional    </td><td>0</td><td>0</td><td>0</td><td>0</td><td>0</td><td>0</td><td>1</td><td>0</td><td>0</td><td>0</td><td>0</td><td>0</td><td>0</td><td>0</td><td>0</td><td>0</td><td>1</td><td>0</td><td>0</td><td>1</td><td>0</td></tr>\n",
       "\t<tr><th scope=row>2</th><td> 8776</td><td>   0</td><td>1399</td><td>34.69877</td><td> -2.147466</td><td>20</td><td> 2</td><td>280</td><td>2010</td><td>functional    </td><td>0</td><td>0</td><td>0</td><td>0</td><td>0</td><td>0</td><td>1</td><td>0</td><td>0</td><td>0</td><td>0</td><td>0</td><td>0</td><td>1</td><td>0</td><td>0</td><td>0</td><td>0</td><td>0</td><td>0</td><td>1</td></tr>\n",
       "\t<tr><th scope=row>3</th><td>34310</td><td>  25</td><td> 686</td><td>37.46066</td><td> -3.821329</td><td>21</td><td> 4</td><td>250</td><td>2009</td><td>functional    </td><td>0</td><td>0</td><td>0</td><td>0</td><td>0</td><td>0</td><td>1</td><td>0</td><td>1</td><td>0</td><td>0</td><td>0</td><td>0</td><td>0</td><td>0</td><td>0</td><td>0</td><td>0</td><td>0</td><td>0</td><td>1</td></tr>\n",
       "\t<tr><th scope=row>4</th><td>67743</td><td>   0</td><td> 263</td><td>38.48616</td><td>-11.155298</td><td>90</td><td>63</td><td> 58</td><td>1986</td><td>non functional</td><td>0</td><td>0</td><td>0</td><td>0</td><td>0</td><td>0</td><td>1</td><td>0</td><td>0</td><td>0</td><td>0</td><td>1</td><td>0</td><td>0</td><td>0</td><td>0</td><td>0</td><td>0</td><td>0</td><td>0</td><td>1</td></tr>\n",
       "\t<tr><th scope=row>5</th><td>19728</td><td>   0</td><td>   0</td><td>31.13085</td><td> -1.825359</td><td>18</td><td> 1</td><td>  0</td><td>   0</td><td>functional    </td><td>0</td><td>0</td><td>0</td><td>0</td><td>0</td><td>0</td><td>1</td><td>0</td><td>0</td><td>0</td><td>0</td><td>0</td><td>0</td><td>1</td><td>0</td><td>0</td><td>0</td><td>0</td><td>0</td><td>0</td><td>1</td></tr>\n",
       "\t<tr><th scope=row>⋮</th><td>⋮</td><td>⋮</td><td>⋮</td><td>⋮</td><td>⋮</td><td>⋮</td><td>⋮</td><td>⋮</td><td>⋮</td><td>⋮</td><td>⋮</td><td>⋮</td><td>⋮</td><td>⋮</td><td>⋮</td><td>⋮</td><td>⋮</td><td>⋮</td><td>⋮</td><td>⋮</td><td>⋮</td><td>⋮</td><td>⋮</td><td>⋮</td><td>⋮</td><td>⋮</td><td>⋮</td><td>⋮</td><td>⋮</td><td>⋮</td><td>⋮</td></tr>\n",
       "\t<tr><th scope=row>59396</th><td>60739</td><td>  10</td><td>1210</td><td>37.16981</td><td>-3.253847</td><td> 3</td><td>5</td><td>125</td><td>1999</td><td>functional</td><td>0</td><td>0</td><td>0</td><td>0</td><td>0</td><td>0</td><td>1</td><td>0</td><td>0</td><td>0</td><td>0</td><td>0</td><td>0</td><td>0</td><td>0</td><td>0</td><td>1</td><td>0</td><td>0</td><td>0</td><td>1</td></tr>\n",
       "\t<tr><th scope=row>59397</th><td>27263</td><td>4700</td><td>1212</td><td>35.24999</td><td>-9.070629</td><td>11</td><td>4</td><td> 56</td><td>1996</td><td>functional</td><td>0</td><td>0</td><td>0</td><td>0</td><td>0</td><td>0</td><td>1</td><td>0</td><td>0</td><td>0</td><td>0</td><td>0</td><td>0</td><td>0</td><td>1</td><td>0</td><td>0</td><td>0</td><td>0</td><td>0</td><td>1</td></tr>\n",
       "\t<tr><th scope=row>59398</th><td>37057</td><td>   0</td><td>   0</td><td>34.01709</td><td>-8.750434</td><td>12</td><td>7</td><td>  0</td><td>   0</td><td>functional</td><td>0</td><td>1</td><td>0</td><td>0</td><td>0</td><td>0</td><td>0</td><td>0</td><td>0</td><td>0</td><td>0</td><td>1</td><td>0</td><td>0</td><td>0</td><td>0</td><td>0</td><td>0</td><td>0</td><td>1</td><td>0</td></tr>\n",
       "\t<tr><th scope=row>59399</th><td>31282</td><td>   0</td><td>   0</td><td>35.86132</td><td>-6.378573</td><td> 1</td><td>4</td><td>  0</td><td>   0</td><td>functional</td><td>0</td><td>0</td><td>0</td><td>0</td><td>0</td><td>0</td><td>1</td><td>0</td><td>0</td><td>0</td><td>0</td><td>0</td><td>0</td><td>0</td><td>0</td><td>1</td><td>0</td><td>0</td><td>0</td><td>0</td><td>1</td></tr>\n",
       "\t<tr><th scope=row>59400</th><td>26348</td><td>   0</td><td> 191</td><td>38.10405</td><td>-6.747464</td><td> 5</td><td>2</td><td>150</td><td>2002</td><td>functional</td><td>0</td><td>0</td><td>0</td><td>0</td><td>1</td><td>0</td><td>0</td><td>0</td><td>0</td><td>0</td><td>0</td><td>0</td><td>0</td><td>0</td><td>0</td><td>1</td><td>0</td><td>0</td><td>0</td><td>0</td><td>1</td></tr>\n",
       "</tbody>\n",
       "</table>\n"
      ],
      "text/latex": [
       "A data.frame: 59400 × 31\n",
       "\\begin{tabular}{r|lllllllllllllllllllllllllllllll}\n",
       "  & id & amount\\_tsh & gps\\_height & longitude & latitude & region\\_code & district\\_code & population & construction\\_year & status\\_group & water\\_quality\\_coloured & water\\_quality\\_fluoride & water\\_quality\\_fluoride abandoned & water\\_quality\\_milky & water\\_quality\\_salty & water\\_quality\\_salty abandoned & water\\_quality\\_soft & water\\_quality\\_unknown & source\\_dam & source\\_hand dtw & source\\_lake & source\\_machine dbh & source\\_other & source\\_rainwater harvesting & source\\_river & source\\_shallow well & source\\_spring & source\\_unknown & permit\\_ & permit\\_False & permit\\_True\\\\\n",
       "  & <int> & <dbl> & <int> & <dbl> & <dbl> & <int> & <int> & <int> & <int> & <fct> & <int> & <int> & <int> & <int> & <int> & <int> & <int> & <int> & <int> & <int> & <int> & <int> & <int> & <int> & <int> & <int> & <int> & <int> & <int> & <int> & <int>\\\\\n",
       "\\hline\n",
       "\t1 & 69572 & 6000 & 1390 & 34.93809 &  -9.856322 & 11 &  5 & 109 & 1999 & functional     & 0 & 0 & 0 & 0 & 0 & 0 & 1 & 0 & 0 & 0 & 0 & 0 & 0 & 0 & 0 & 0 & 1 & 0 & 0 & 1 & 0\\\\\n",
       "\t2 &  8776 &    0 & 1399 & 34.69877 &  -2.147466 & 20 &  2 & 280 & 2010 & functional     & 0 & 0 & 0 & 0 & 0 & 0 & 1 & 0 & 0 & 0 & 0 & 0 & 0 & 1 & 0 & 0 & 0 & 0 & 0 & 0 & 1\\\\\n",
       "\t3 & 34310 &   25 &  686 & 37.46066 &  -3.821329 & 21 &  4 & 250 & 2009 & functional     & 0 & 0 & 0 & 0 & 0 & 0 & 1 & 0 & 1 & 0 & 0 & 0 & 0 & 0 & 0 & 0 & 0 & 0 & 0 & 0 & 1\\\\\n",
       "\t4 & 67743 &    0 &  263 & 38.48616 & -11.155298 & 90 & 63 &  58 & 1986 & non functional & 0 & 0 & 0 & 0 & 0 & 0 & 1 & 0 & 0 & 0 & 0 & 1 & 0 & 0 & 0 & 0 & 0 & 0 & 0 & 0 & 1\\\\\n",
       "\t5 & 19728 &    0 &    0 & 31.13085 &  -1.825359 & 18 &  1 &   0 &    0 & functional     & 0 & 0 & 0 & 0 & 0 & 0 & 1 & 0 & 0 & 0 & 0 & 0 & 0 & 1 & 0 & 0 & 0 & 0 & 0 & 0 & 1\\\\\n",
       "\t⋮ & ⋮ & ⋮ & ⋮ & ⋮ & ⋮ & ⋮ & ⋮ & ⋮ & ⋮ & ⋮ & ⋮ & ⋮ & ⋮ & ⋮ & ⋮ & ⋮ & ⋮ & ⋮ & ⋮ & ⋮ & ⋮ & ⋮ & ⋮ & ⋮ & ⋮ & ⋮ & ⋮ & ⋮ & ⋮ & ⋮ & ⋮\\\\\n",
       "\t59396 & 60739 &   10 & 1210 & 37.16981 & -3.253847 &  3 & 5 & 125 & 1999 & functional & 0 & 0 & 0 & 0 & 0 & 0 & 1 & 0 & 0 & 0 & 0 & 0 & 0 & 0 & 0 & 0 & 1 & 0 & 0 & 0 & 1\\\\\n",
       "\t59397 & 27263 & 4700 & 1212 & 35.24999 & -9.070629 & 11 & 4 &  56 & 1996 & functional & 0 & 0 & 0 & 0 & 0 & 0 & 1 & 0 & 0 & 0 & 0 & 0 & 0 & 0 & 1 & 0 & 0 & 0 & 0 & 0 & 1\\\\\n",
       "\t59398 & 37057 &    0 &    0 & 34.01709 & -8.750434 & 12 & 7 &   0 &    0 & functional & 0 & 1 & 0 & 0 & 0 & 0 & 0 & 0 & 0 & 0 & 0 & 1 & 0 & 0 & 0 & 0 & 0 & 0 & 0 & 1 & 0\\\\\n",
       "\t59399 & 31282 &    0 &    0 & 35.86132 & -6.378573 &  1 & 4 &   0 &    0 & functional & 0 & 0 & 0 & 0 & 0 & 0 & 1 & 0 & 0 & 0 & 0 & 0 & 0 & 0 & 0 & 1 & 0 & 0 & 0 & 0 & 1\\\\\n",
       "\t59400 & 26348 &    0 &  191 & 38.10405 & -6.747464 &  5 & 2 & 150 & 2002 & functional & 0 & 0 & 0 & 0 & 1 & 0 & 0 & 0 & 0 & 0 & 0 & 0 & 0 & 0 & 0 & 1 & 0 & 0 & 0 & 0 & 1\\\\\n",
       "\\end{tabular}\n"
      ],
      "text/markdown": [
       "\n",
       "A data.frame: 59400 × 31\n",
       "\n",
       "| <!--/--> | id &lt;int&gt; | amount_tsh &lt;dbl&gt; | gps_height &lt;int&gt; | longitude &lt;dbl&gt; | latitude &lt;dbl&gt; | region_code &lt;int&gt; | district_code &lt;int&gt; | population &lt;int&gt; | construction_year &lt;int&gt; | status_group &lt;fct&gt; | water_quality_coloured &lt;int&gt; | water_quality_fluoride &lt;int&gt; | water_quality_fluoride abandoned &lt;int&gt; | water_quality_milky &lt;int&gt; | water_quality_salty &lt;int&gt; | water_quality_salty abandoned &lt;int&gt; | water_quality_soft &lt;int&gt; | water_quality_unknown &lt;int&gt; | source_dam &lt;int&gt; | source_hand dtw &lt;int&gt; | source_lake &lt;int&gt; | source_machine dbh &lt;int&gt; | source_other &lt;int&gt; | source_rainwater harvesting &lt;int&gt; | source_river &lt;int&gt; | source_shallow well &lt;int&gt; | source_spring &lt;int&gt; | source_unknown &lt;int&gt; | permit_ &lt;int&gt; | permit_False &lt;int&gt; | permit_True &lt;int&gt; |\n",
       "|---|---|---|---|---|---|---|---|---|---|---|---|---|---|---|---|---|---|---|---|---|---|---|---|---|---|---|---|---|---|---|---|\n",
       "| 1 | 69572 | 6000 | 1390 | 34.93809 |  -9.856322 | 11 |  5 | 109 | 1999 | functional     | 0 | 0 | 0 | 0 | 0 | 0 | 1 | 0 | 0 | 0 | 0 | 0 | 0 | 0 | 0 | 0 | 1 | 0 | 0 | 1 | 0 |\n",
       "| 2 |  8776 |    0 | 1399 | 34.69877 |  -2.147466 | 20 |  2 | 280 | 2010 | functional     | 0 | 0 | 0 | 0 | 0 | 0 | 1 | 0 | 0 | 0 | 0 | 0 | 0 | 1 | 0 | 0 | 0 | 0 | 0 | 0 | 1 |\n",
       "| 3 | 34310 |   25 |  686 | 37.46066 |  -3.821329 | 21 |  4 | 250 | 2009 | functional     | 0 | 0 | 0 | 0 | 0 | 0 | 1 | 0 | 1 | 0 | 0 | 0 | 0 | 0 | 0 | 0 | 0 | 0 | 0 | 0 | 1 |\n",
       "| 4 | 67743 |    0 |  263 | 38.48616 | -11.155298 | 90 | 63 |  58 | 1986 | non functional | 0 | 0 | 0 | 0 | 0 | 0 | 1 | 0 | 0 | 0 | 0 | 1 | 0 | 0 | 0 | 0 | 0 | 0 | 0 | 0 | 1 |\n",
       "| 5 | 19728 |    0 |    0 | 31.13085 |  -1.825359 | 18 |  1 |   0 |    0 | functional     | 0 | 0 | 0 | 0 | 0 | 0 | 1 | 0 | 0 | 0 | 0 | 0 | 0 | 1 | 0 | 0 | 0 | 0 | 0 | 0 | 1 |\n",
       "| ⋮ | ⋮ | ⋮ | ⋮ | ⋮ | ⋮ | ⋮ | ⋮ | ⋮ | ⋮ | ⋮ | ⋮ | ⋮ | ⋮ | ⋮ | ⋮ | ⋮ | ⋮ | ⋮ | ⋮ | ⋮ | ⋮ | ⋮ | ⋮ | ⋮ | ⋮ | ⋮ | ⋮ | ⋮ | ⋮ | ⋮ | ⋮ |\n",
       "| 59396 | 60739 |   10 | 1210 | 37.16981 | -3.253847 |  3 | 5 | 125 | 1999 | functional | 0 | 0 | 0 | 0 | 0 | 0 | 1 | 0 | 0 | 0 | 0 | 0 | 0 | 0 | 0 | 0 | 1 | 0 | 0 | 0 | 1 |\n",
       "| 59397 | 27263 | 4700 | 1212 | 35.24999 | -9.070629 | 11 | 4 |  56 | 1996 | functional | 0 | 0 | 0 | 0 | 0 | 0 | 1 | 0 | 0 | 0 | 0 | 0 | 0 | 0 | 1 | 0 | 0 | 0 | 0 | 0 | 1 |\n",
       "| 59398 | 37057 |    0 |    0 | 34.01709 | -8.750434 | 12 | 7 |   0 |    0 | functional | 0 | 1 | 0 | 0 | 0 | 0 | 0 | 0 | 0 | 0 | 0 | 1 | 0 | 0 | 0 | 0 | 0 | 0 | 0 | 1 | 0 |\n",
       "| 59399 | 31282 |    0 |    0 | 35.86132 | -6.378573 |  1 | 4 |   0 |    0 | functional | 0 | 0 | 0 | 0 | 0 | 0 | 1 | 0 | 0 | 0 | 0 | 0 | 0 | 0 | 0 | 1 | 0 | 0 | 0 | 0 | 1 |\n",
       "| 59400 | 26348 |    0 |  191 | 38.10405 | -6.747464 |  5 | 2 | 150 | 2002 | functional | 0 | 0 | 0 | 0 | 1 | 0 | 0 | 0 | 0 | 0 | 0 | 0 | 0 | 0 | 0 | 1 | 0 | 0 | 0 | 0 | 1 |\n",
       "\n"
      ],
      "text/plain": [
       "      id    amount_tsh gps_height longitude latitude   region_code\n",
       "1     69572 6000       1390       34.93809   -9.856322 11         \n",
       "2      8776    0       1399       34.69877   -2.147466 20         \n",
       "3     34310   25        686       37.46066   -3.821329 21         \n",
       "4     67743    0        263       38.48616  -11.155298 90         \n",
       "5     19728    0          0       31.13085   -1.825359 18         \n",
       "⋮     ⋮     ⋮          ⋮          ⋮         ⋮          ⋮          \n",
       "59396 60739   10       1210       37.16981  -3.253847   3         \n",
       "59397 27263 4700       1212       35.24999  -9.070629  11         \n",
       "59398 37057    0          0       34.01709  -8.750434  12         \n",
       "59399 31282    0          0       35.86132  -6.378573   1         \n",
       "59400 26348    0        191       38.10405  -6.747464   5         \n",
       "      district_code population construction_year status_group  \n",
       "1      5            109        1999              functional    \n",
       "2      2            280        2010              functional    \n",
       "3      4            250        2009              functional    \n",
       "4     63             58        1986              non functional\n",
       "5      1              0           0              functional    \n",
       "⋮     ⋮             ⋮          ⋮                 ⋮             \n",
       "59396 5             125        1999              functional    \n",
       "59397 4              56        1996              functional    \n",
       "59398 7               0           0              functional    \n",
       "59399 4               0           0              functional    \n",
       "59400 2             150        2002              functional    \n",
       "      water_quality_coloured water_quality_fluoride\n",
       "1     0                      0                     \n",
       "2     0                      0                     \n",
       "3     0                      0                     \n",
       "4     0                      0                     \n",
       "5     0                      0                     \n",
       "⋮     ⋮                      ⋮                     \n",
       "59396 0                      0                     \n",
       "59397 0                      0                     \n",
       "59398 0                      1                     \n",
       "59399 0                      0                     \n",
       "59400 0                      0                     \n",
       "      water_quality_fluoride abandoned water_quality_milky water_quality_salty\n",
       "1     0                                0                   0                  \n",
       "2     0                                0                   0                  \n",
       "3     0                                0                   0                  \n",
       "4     0                                0                   0                  \n",
       "5     0                                0                   0                  \n",
       "⋮     ⋮                                ⋮                   ⋮                  \n",
       "59396 0                                0                   0                  \n",
       "59397 0                                0                   0                  \n",
       "59398 0                                0                   0                  \n",
       "59399 0                                0                   0                  \n",
       "59400 0                                0                   1                  \n",
       "      water_quality_salty abandoned water_quality_soft water_quality_unknown\n",
       "1     0                             1                  0                    \n",
       "2     0                             1                  0                    \n",
       "3     0                             1                  0                    \n",
       "4     0                             1                  0                    \n",
       "5     0                             1                  0                    \n",
       "⋮     ⋮                             ⋮                  ⋮                    \n",
       "59396 0                             1                  0                    \n",
       "59397 0                             1                  0                    \n",
       "59398 0                             0                  0                    \n",
       "59399 0                             1                  0                    \n",
       "59400 0                             0                  0                    \n",
       "      source_dam source_hand dtw source_lake source_machine dbh source_other\n",
       "1     0          0               0           0                  0           \n",
       "2     0          0               0           0                  0           \n",
       "3     1          0               0           0                  0           \n",
       "4     0          0               0           1                  0           \n",
       "5     0          0               0           0                  0           \n",
       "⋮     ⋮          ⋮               ⋮           ⋮                  ⋮           \n",
       "59396 0          0               0           0                  0           \n",
       "59397 0          0               0           0                  0           \n",
       "59398 0          0               0           1                  0           \n",
       "59399 0          0               0           0                  0           \n",
       "59400 0          0               0           0                  0           \n",
       "      source_rainwater harvesting source_river source_shallow well\n",
       "1     0                           0            0                  \n",
       "2     1                           0            0                  \n",
       "3     0                           0            0                  \n",
       "4     0                           0            0                  \n",
       "5     1                           0            0                  \n",
       "⋮     ⋮                           ⋮            ⋮                  \n",
       "59396 0                           0            0                  \n",
       "59397 0                           1            0                  \n",
       "59398 0                           0            0                  \n",
       "59399 0                           0            1                  \n",
       "59400 0                           0            1                  \n",
       "      source_spring source_unknown permit_ permit_False permit_True\n",
       "1     1             0              0       1            0          \n",
       "2     0             0              0       0            1          \n",
       "3     0             0              0       0            1          \n",
       "4     0             0              0       0            1          \n",
       "5     0             0              0       0            1          \n",
       "⋮     ⋮             ⋮              ⋮       ⋮            ⋮          \n",
       "59396 1             0              0       0            1          \n",
       "59397 0             0              0       0            1          \n",
       "59398 0             0              0       1            0          \n",
       "59399 0             0              0       0            1          \n",
       "59400 0             0              0       0            1          "
      ]
     },
     "metadata": {},
     "output_type": "display_data"
    }
   ],
   "source": [
    "training_with_dummy <- cbind(data_train,data_factor_onehot_train)\n",
    "test_with_dummy <- cbind(only_num_var_test,data_factor_onehot_test)\n",
    "\n",
    "training_with_dummy"
   ]
  },
  {
   "cell_type": "markdown",
   "metadata": {},
   "source": [
    "# Model selection\n",
    "\n",
    "First of All, we decided to use the decision tree considering that it is one of the simplest machine learning technique.\n"
   ]
  },
  {
   "cell_type": "markdown",
   "metadata": {},
   "source": [
    "## Model 1"
   ]
  },
  {
   "cell_type": "code",
   "execution_count": 50,
   "metadata": {},
   "outputs": [
    {
     "data": {
      "text/html": [
       "<table class=\"dataframe\">\n",
       "<caption>A data.frame: 59400 × 10</caption>\n",
       "<thead>\n",
       "\t<tr><th scope=col>id</th><th scope=col>amount_tsh</th><th scope=col>gps_height</th><th scope=col>longitude</th><th scope=col>latitude</th><th scope=col>region_code</th><th scope=col>district_code</th><th scope=col>population</th><th scope=col>construction_year</th><th scope=col>status_group</th></tr>\n",
       "\t<tr><th scope=col>&lt;int&gt;</th><th scope=col>&lt;dbl&gt;</th><th scope=col>&lt;int&gt;</th><th scope=col>&lt;dbl&gt;</th><th scope=col>&lt;dbl&gt;</th><th scope=col>&lt;int&gt;</th><th scope=col>&lt;int&gt;</th><th scope=col>&lt;int&gt;</th><th scope=col>&lt;int&gt;</th><th scope=col>&lt;fct&gt;</th></tr>\n",
       "</thead>\n",
       "<tbody>\n",
       "\t<tr><td>69572</td><td>6000</td><td>1390</td><td>34.93809</td><td> -9.856322</td><td>11</td><td> 5</td><td>109</td><td>1999</td><td>functional    </td></tr>\n",
       "\t<tr><td> 8776</td><td>   0</td><td>1399</td><td>34.69877</td><td> -2.147466</td><td>20</td><td> 2</td><td>280</td><td>2010</td><td>functional    </td></tr>\n",
       "\t<tr><td>34310</td><td>  25</td><td> 686</td><td>37.46066</td><td> -3.821329</td><td>21</td><td> 4</td><td>250</td><td>2009</td><td>functional    </td></tr>\n",
       "\t<tr><td>67743</td><td>   0</td><td> 263</td><td>38.48616</td><td>-11.155298</td><td>90</td><td>63</td><td> 58</td><td>1986</td><td>non functional</td></tr>\n",
       "\t<tr><td>19728</td><td>   0</td><td>   0</td><td>31.13085</td><td> -1.825359</td><td>18</td><td> 1</td><td>  0</td><td>   0</td><td>functional    </td></tr>\n",
       "\t<tr><td>⋮</td><td>⋮</td><td>⋮</td><td>⋮</td><td>⋮</td><td>⋮</td><td>⋮</td><td>⋮</td><td>⋮</td><td>⋮</td></tr>\n",
       "\t<tr><td>60739</td><td>  10</td><td>1210</td><td>37.16981</td><td>-3.253847</td><td> 3</td><td>5</td><td>125</td><td>1999</td><td>functional</td></tr>\n",
       "\t<tr><td>27263</td><td>4700</td><td>1212</td><td>35.24999</td><td>-9.070629</td><td>11</td><td>4</td><td> 56</td><td>1996</td><td>functional</td></tr>\n",
       "\t<tr><td>37057</td><td>   0</td><td>   0</td><td>34.01709</td><td>-8.750434</td><td>12</td><td>7</td><td>  0</td><td>   0</td><td>functional</td></tr>\n",
       "\t<tr><td>31282</td><td>   0</td><td>   0</td><td>35.86132</td><td>-6.378573</td><td> 1</td><td>4</td><td>  0</td><td>   0</td><td>functional</td></tr>\n",
       "\t<tr><td>26348</td><td>   0</td><td> 191</td><td>38.10405</td><td>-6.747464</td><td> 5</td><td>2</td><td>150</td><td>2002</td><td>functional</td></tr>\n",
       "</tbody>\n",
       "</table>\n"
      ],
      "text/latex": [
       "A data.frame: 59400 × 10\n",
       "\\begin{tabular}{llllllllll}\n",
       " id & amount\\_tsh & gps\\_height & longitude & latitude & region\\_code & district\\_code & population & construction\\_year & status\\_group\\\\\n",
       " <int> & <dbl> & <int> & <dbl> & <dbl> & <int> & <int> & <int> & <int> & <fct>\\\\\n",
       "\\hline\n",
       "\t 69572 & 6000 & 1390 & 34.93809 &  -9.856322 & 11 &  5 & 109 & 1999 & functional    \\\\\n",
       "\t  8776 &    0 & 1399 & 34.69877 &  -2.147466 & 20 &  2 & 280 & 2010 & functional    \\\\\n",
       "\t 34310 &   25 &  686 & 37.46066 &  -3.821329 & 21 &  4 & 250 & 2009 & functional    \\\\\n",
       "\t 67743 &    0 &  263 & 38.48616 & -11.155298 & 90 & 63 &  58 & 1986 & non functional\\\\\n",
       "\t 19728 &    0 &    0 & 31.13085 &  -1.825359 & 18 &  1 &   0 &    0 & functional    \\\\\n",
       "\t ⋮ & ⋮ & ⋮ & ⋮ & ⋮ & ⋮ & ⋮ & ⋮ & ⋮ & ⋮\\\\\n",
       "\t 60739 &   10 & 1210 & 37.16981 & -3.253847 &  3 & 5 & 125 & 1999 & functional\\\\\n",
       "\t 27263 & 4700 & 1212 & 35.24999 & -9.070629 & 11 & 4 &  56 & 1996 & functional\\\\\n",
       "\t 37057 &    0 &    0 & 34.01709 & -8.750434 & 12 & 7 &   0 &    0 & functional\\\\\n",
       "\t 31282 &    0 &    0 & 35.86132 & -6.378573 &  1 & 4 &   0 &    0 & functional\\\\\n",
       "\t 26348 &    0 &  191 & 38.10405 & -6.747464 &  5 & 2 & 150 & 2002 & functional\\\\\n",
       "\\end{tabular}\n"
      ],
      "text/markdown": [
       "\n",
       "A data.frame: 59400 × 10\n",
       "\n",
       "| id &lt;int&gt; | amount_tsh &lt;dbl&gt; | gps_height &lt;int&gt; | longitude &lt;dbl&gt; | latitude &lt;dbl&gt; | region_code &lt;int&gt; | district_code &lt;int&gt; | population &lt;int&gt; | construction_year &lt;int&gt; | status_group &lt;fct&gt; |\n",
       "|---|---|---|---|---|---|---|---|---|---|\n",
       "| 69572 | 6000 | 1390 | 34.93809 |  -9.856322 | 11 |  5 | 109 | 1999 | functional     |\n",
       "|  8776 |    0 | 1399 | 34.69877 |  -2.147466 | 20 |  2 | 280 | 2010 | functional     |\n",
       "| 34310 |   25 |  686 | 37.46066 |  -3.821329 | 21 |  4 | 250 | 2009 | functional     |\n",
       "| 67743 |    0 |  263 | 38.48616 | -11.155298 | 90 | 63 |  58 | 1986 | non functional |\n",
       "| 19728 |    0 |    0 | 31.13085 |  -1.825359 | 18 |  1 |   0 |    0 | functional     |\n",
       "| ⋮ | ⋮ | ⋮ | ⋮ | ⋮ | ⋮ | ⋮ | ⋮ | ⋮ | ⋮ |\n",
       "| 60739 |   10 | 1210 | 37.16981 | -3.253847 |  3 | 5 | 125 | 1999 | functional |\n",
       "| 27263 | 4700 | 1212 | 35.24999 | -9.070629 | 11 | 4 |  56 | 1996 | functional |\n",
       "| 37057 |    0 |    0 | 34.01709 | -8.750434 | 12 | 7 |   0 |    0 | functional |\n",
       "| 31282 |    0 |    0 | 35.86132 | -6.378573 |  1 | 4 |   0 |    0 | functional |\n",
       "| 26348 |    0 |  191 | 38.10405 | -6.747464 |  5 | 2 | 150 | 2002 | functional |\n",
       "\n"
      ],
      "text/plain": [
       "      id    amount_tsh gps_height longitude latitude   region_code\n",
       "1     69572 6000       1390       34.93809   -9.856322 11         \n",
       "2      8776    0       1399       34.69877   -2.147466 20         \n",
       "3     34310   25        686       37.46066   -3.821329 21         \n",
       "4     67743    0        263       38.48616  -11.155298 90         \n",
       "5     19728    0          0       31.13085   -1.825359 18         \n",
       "⋮     ⋮     ⋮          ⋮          ⋮         ⋮          ⋮          \n",
       "59396 60739   10       1210       37.16981  -3.253847   3         \n",
       "59397 27263 4700       1212       35.24999  -9.070629  11         \n",
       "59398 37057    0          0       34.01709  -8.750434  12         \n",
       "59399 31282    0          0       35.86132  -6.378573   1         \n",
       "59400 26348    0        191       38.10405  -6.747464   5         \n",
       "      district_code population construction_year status_group  \n",
       "1      5            109        1999              functional    \n",
       "2      2            280        2010              functional    \n",
       "3      4            250        2009              functional    \n",
       "4     63             58        1986              non functional\n",
       "5      1              0           0              functional    \n",
       "⋮     ⋮             ⋮          ⋮                 ⋮             \n",
       "59396 5             125        1999              functional    \n",
       "59397 4              56        1996              functional    \n",
       "59398 7               0           0              functional    \n",
       "59399 4               0           0              functional    \n",
       "59400 2             150        2002              functional    "
      ]
     },
     "metadata": {},
     "output_type": "display_data"
    },
    {
     "data": {
      "text/plain": [
       "\n",
       "FALSE  TRUE \n",
       " 3703 11147 "
      ]
     },
     "metadata": {},
     "output_type": "display_data"
    },
    {
     "data": {
      "text/html": [
       "<table class=\"dataframe\">\n",
       "<caption>A data.frame: 14850 × 2</caption>\n",
       "<thead>\n",
       "\t<tr><th></th><th scope=col>id</th><th scope=col>status_group</th></tr>\n",
       "\t<tr><th></th><th scope=col>&lt;int&gt;</th><th scope=col>&lt;fct&gt;</th></tr>\n",
       "</thead>\n",
       "<tbody>\n",
       "\t<tr><th scope=row>1</th><td>50785</td><td>functional    </td></tr>\n",
       "\t<tr><th scope=row>2</th><td>51630</td><td>functional    </td></tr>\n",
       "\t<tr><th scope=row>3</th><td>17168</td><td>functional    </td></tr>\n",
       "\t<tr><th scope=row>4</th><td>45559</td><td>non functional</td></tr>\n",
       "\t<tr><th scope=row>5</th><td>49871</td><td>functional    </td></tr>\n",
       "\t<tr><th scope=row>⋮</th><td>⋮</td><td>⋮</td></tr>\n",
       "\t<tr><th scope=row>14846</th><td>39307</td><td>non functional</td></tr>\n",
       "\t<tr><th scope=row>14847</th><td>18990</td><td>functional    </td></tr>\n",
       "\t<tr><th scope=row>14848</th><td>28749</td><td>functional    </td></tr>\n",
       "\t<tr><th scope=row>14849</th><td>33492</td><td>functional    </td></tr>\n",
       "\t<tr><th scope=row>14850</th><td>68707</td><td>functional    </td></tr>\n",
       "</tbody>\n",
       "</table>\n"
      ],
      "text/latex": [
       "A data.frame: 14850 × 2\n",
       "\\begin{tabular}{r|ll}\n",
       "  & id & status\\_group\\\\\n",
       "  & <int> & <fct>\\\\\n",
       "\\hline\n",
       "\t1 & 50785 & functional    \\\\\n",
       "\t2 & 51630 & functional    \\\\\n",
       "\t3 & 17168 & functional    \\\\\n",
       "\t4 & 45559 & non functional\\\\\n",
       "\t5 & 49871 & functional    \\\\\n",
       "\t⋮ & ⋮ & ⋮\\\\\n",
       "\t14846 & 39307 & non functional\\\\\n",
       "\t14847 & 18990 & functional    \\\\\n",
       "\t14848 & 28749 & functional    \\\\\n",
       "\t14849 & 33492 & functional    \\\\\n",
       "\t14850 & 68707 & functional    \\\\\n",
       "\\end{tabular}\n"
      ],
      "text/markdown": [
       "\n",
       "A data.frame: 14850 × 2\n",
       "\n",
       "| <!--/--> | id &lt;int&gt; | status_group &lt;fct&gt; |\n",
       "|---|---|---|\n",
       "| 1 | 50785 | functional     |\n",
       "| 2 | 51630 | functional     |\n",
       "| 3 | 17168 | functional     |\n",
       "| 4 | 45559 | non functional |\n",
       "| 5 | 49871 | functional     |\n",
       "| ⋮ | ⋮ | ⋮ |\n",
       "| 14846 | 39307 | non functional |\n",
       "| 14847 | 18990 | functional     |\n",
       "| 14848 | 28749 | functional     |\n",
       "| 14849 | 33492 | functional     |\n",
       "| 14850 | 68707 | functional     |\n",
       "\n"
      ],
      "text/plain": [
       "      id    status_group  \n",
       "1     50785 functional    \n",
       "2     51630 functional    \n",
       "3     17168 functional    \n",
       "4     45559 non functional\n",
       "5     49871 functional    \n",
       "⋮     ⋮     ⋮             \n",
       "14846 39307 non functional\n",
       "14847 18990 functional    \n",
       "14848 28749 functional    \n",
       "14849 33492 functional    \n",
       "14850 68707 functional    "
      ]
     },
     "metadata": {},
     "output_type": "display_data"
    },
    {
     "data": {
      "image/png": "[encoded data removed]",
      "text/plain": [
       "plot without title"
      ]
     },
     "metadata": {
      "image/png": {
       "height": 420,
       "width": 420
      }
     },
     "output_type": "display_data"
    }
   ],
   "source": [
    "library(rpart)\n",
    "library(rpart.plot)\n",
    "\n",
    "data_train\n",
    "\n",
    "# example model \n",
    "\n",
    "#DS <- cbind(X, functionnal=Y)\n",
    "#data_train doit encore être défini data input + status_group\n",
    "\n",
    "#model<- rpart(status_group~., data= data_train, method = 'class') # what we need to change according of the model\n",
    "model<- rpart(status_group~., data= training_with_dummy, method = 'class')\n",
    "\n",
    "prp(model)\n",
    "\n",
    "#predict_unseen <- predict(model,test_set_values, type = 'class')\n",
    "predict_unseen <- predict(model,test_with_dummy, type = 'class')\n",
    "\n",
    "status_group <-predict_unseen\n",
    "\n",
    "data_predict <- test_set_values\n",
    "\n",
    "\n",
    "\n",
    "\n",
    "data_predict <- cbind(data_predict[1],status_group)\n",
    "\n",
    "table(data_predict[\"status_group\"] == \"functional\")\n",
    "\n",
    "data_predict\n",
    "\n",
    "write.csv(data_predict,\"decisionTree.csv\",row.names = FALSE)"
   ]
  },
  {
   "cell_type": "markdown",
   "metadata": {},
   "source": [
    "## Model 2"
   ]
  },
  {
   "cell_type": "code",
   "execution_count": 51,
   "metadata": {},
   "outputs": [
    {
     "data": {
      "text/html": [
       "<table class=\"dataframe\">\n",
       "<caption>A data.frame: 59400 × 10</caption>\n",
       "<thead>\n",
       "\t<tr><th scope=col>id</th><th scope=col>amount_tsh</th><th scope=col>gps_height</th><th scope=col>longitude</th><th scope=col>latitude</th><th scope=col>region_code</th><th scope=col>district_code</th><th scope=col>population</th><th scope=col>construction_year</th><th scope=col>status_group</th></tr>\n",
       "\t<tr><th scope=col>&lt;int&gt;</th><th scope=col>&lt;dbl&gt;</th><th scope=col>&lt;int&gt;</th><th scope=col>&lt;dbl&gt;</th><th scope=col>&lt;dbl&gt;</th><th scope=col>&lt;int&gt;</th><th scope=col>&lt;int&gt;</th><th scope=col>&lt;int&gt;</th><th scope=col>&lt;int&gt;</th><th scope=col>&lt;fct&gt;</th></tr>\n",
       "</thead>\n",
       "<tbody>\n",
       "\t<tr><td>69572</td><td>6000</td><td>1390</td><td>34.93809</td><td> -9.856322</td><td>11</td><td> 5</td><td>109</td><td>1999</td><td>functional    </td></tr>\n",
       "\t<tr><td> 8776</td><td>   0</td><td>1399</td><td>34.69877</td><td> -2.147466</td><td>20</td><td> 2</td><td>280</td><td>2010</td><td>functional    </td></tr>\n",
       "\t<tr><td>34310</td><td>  25</td><td> 686</td><td>37.46066</td><td> -3.821329</td><td>21</td><td> 4</td><td>250</td><td>2009</td><td>functional    </td></tr>\n",
       "\t<tr><td>67743</td><td>   0</td><td> 263</td><td>38.48616</td><td>-11.155298</td><td>90</td><td>63</td><td> 58</td><td>1986</td><td>non functional</td></tr>\n",
       "\t<tr><td>19728</td><td>   0</td><td>   0</td><td>31.13085</td><td> -1.825359</td><td>18</td><td> 1</td><td>  0</td><td>   0</td><td>functional    </td></tr>\n",
       "\t<tr><td>⋮</td><td>⋮</td><td>⋮</td><td>⋮</td><td>⋮</td><td>⋮</td><td>⋮</td><td>⋮</td><td>⋮</td><td>⋮</td></tr>\n",
       "\t<tr><td>60739</td><td>  10</td><td>1210</td><td>37.16981</td><td>-3.253847</td><td> 3</td><td>5</td><td>125</td><td>1999</td><td>functional</td></tr>\n",
       "\t<tr><td>27263</td><td>4700</td><td>1212</td><td>35.24999</td><td>-9.070629</td><td>11</td><td>4</td><td> 56</td><td>1996</td><td>functional</td></tr>\n",
       "\t<tr><td>37057</td><td>   0</td><td>   0</td><td>34.01709</td><td>-8.750434</td><td>12</td><td>7</td><td>  0</td><td>   0</td><td>functional</td></tr>\n",
       "\t<tr><td>31282</td><td>   0</td><td>   0</td><td>35.86132</td><td>-6.378573</td><td> 1</td><td>4</td><td>  0</td><td>   0</td><td>functional</td></tr>\n",
       "\t<tr><td>26348</td><td>   0</td><td> 191</td><td>38.10405</td><td>-6.747464</td><td> 5</td><td>2</td><td>150</td><td>2002</td><td>functional</td></tr>\n",
       "</tbody>\n",
       "</table>\n"
      ],
      "text/latex": [
       "A data.frame: 59400 × 10\n",
       "\\begin{tabular}{llllllllll}\n",
       " id & amount\\_tsh & gps\\_height & longitude & latitude & region\\_code & district\\_code & population & construction\\_year & status\\_group\\\\\n",
       " <int> & <dbl> & <int> & <dbl> & <dbl> & <int> & <int> & <int> & <int> & <fct>\\\\\n",
       "\\hline\n",
       "\t 69572 & 6000 & 1390 & 34.93809 &  -9.856322 & 11 &  5 & 109 & 1999 & functional    \\\\\n",
       "\t  8776 &    0 & 1399 & 34.69877 &  -2.147466 & 20 &  2 & 280 & 2010 & functional    \\\\\n",
       "\t 34310 &   25 &  686 & 37.46066 &  -3.821329 & 21 &  4 & 250 & 2009 & functional    \\\\\n",
       "\t 67743 &    0 &  263 & 38.48616 & -11.155298 & 90 & 63 &  58 & 1986 & non functional\\\\\n",
       "\t 19728 &    0 &    0 & 31.13085 &  -1.825359 & 18 &  1 &   0 &    0 & functional    \\\\\n",
       "\t ⋮ & ⋮ & ⋮ & ⋮ & ⋮ & ⋮ & ⋮ & ⋮ & ⋮ & ⋮\\\\\n",
       "\t 60739 &   10 & 1210 & 37.16981 & -3.253847 &  3 & 5 & 125 & 1999 & functional\\\\\n",
       "\t 27263 & 4700 & 1212 & 35.24999 & -9.070629 & 11 & 4 &  56 & 1996 & functional\\\\\n",
       "\t 37057 &    0 &    0 & 34.01709 & -8.750434 & 12 & 7 &   0 &    0 & functional\\\\\n",
       "\t 31282 &    0 &    0 & 35.86132 & -6.378573 &  1 & 4 &   0 &    0 & functional\\\\\n",
       "\t 26348 &    0 &  191 & 38.10405 & -6.747464 &  5 & 2 & 150 & 2002 & functional\\\\\n",
       "\\end{tabular}\n"
      ],
      "text/markdown": [
       "\n",
       "A data.frame: 59400 × 10\n",
       "\n",
       "| id &lt;int&gt; | amount_tsh &lt;dbl&gt; | gps_height &lt;int&gt; | longitude &lt;dbl&gt; | latitude &lt;dbl&gt; | region_code &lt;int&gt; | district_code &lt;int&gt; | population &lt;int&gt; | construction_year &lt;int&gt; | status_group &lt;fct&gt; |\n",
       "|---|---|---|---|---|---|---|---|---|---|\n",
       "| 69572 | 6000 | 1390 | 34.93809 |  -9.856322 | 11 |  5 | 109 | 1999 | functional     |\n",
       "|  8776 |    0 | 1399 | 34.69877 |  -2.147466 | 20 |  2 | 280 | 2010 | functional     |\n",
       "| 34310 |   25 |  686 | 37.46066 |  -3.821329 | 21 |  4 | 250 | 2009 | functional     |\n",
       "| 67743 |    0 |  263 | 38.48616 | -11.155298 | 90 | 63 |  58 | 1986 | non functional |\n",
       "| 19728 |    0 |    0 | 31.13085 |  -1.825359 | 18 |  1 |   0 |    0 | functional     |\n",
       "| ⋮ | ⋮ | ⋮ | ⋮ | ⋮ | ⋮ | ⋮ | ⋮ | ⋮ | ⋮ |\n",
       "| 60739 |   10 | 1210 | 37.16981 | -3.253847 |  3 | 5 | 125 | 1999 | functional |\n",
       "| 27263 | 4700 | 1212 | 35.24999 | -9.070629 | 11 | 4 |  56 | 1996 | functional |\n",
       "| 37057 |    0 |    0 | 34.01709 | -8.750434 | 12 | 7 |   0 |    0 | functional |\n",
       "| 31282 |    0 |    0 | 35.86132 | -6.378573 |  1 | 4 |   0 |    0 | functional |\n",
       "| 26348 |    0 |  191 | 38.10405 | -6.747464 |  5 | 2 | 150 | 2002 | functional |\n",
       "\n"
      ],
      "text/plain": [
       "      id    amount_tsh gps_height longitude latitude   region_code\n",
       "1     69572 6000       1390       34.93809   -9.856322 11         \n",
       "2      8776    0       1399       34.69877   -2.147466 20         \n",
       "3     34310   25        686       37.46066   -3.821329 21         \n",
       "4     67743    0        263       38.48616  -11.155298 90         \n",
       "5     19728    0          0       31.13085   -1.825359 18         \n",
       "⋮     ⋮     ⋮          ⋮          ⋮         ⋮          ⋮          \n",
       "59396 60739   10       1210       37.16981  -3.253847   3         \n",
       "59397 27263 4700       1212       35.24999  -9.070629  11         \n",
       "59398 37057    0          0       34.01709  -8.750434  12         \n",
       "59399 31282    0          0       35.86132  -6.378573   1         \n",
       "59400 26348    0        191       38.10405  -6.747464   5         \n",
       "      district_code population construction_year status_group  \n",
       "1      5            109        1999              functional    \n",
       "2      2            280        2010              functional    \n",
       "3      4            250        2009              functional    \n",
       "4     63             58        1986              non functional\n",
       "5      1              0           0              functional    \n",
       "⋮     ⋮             ⋮          ⋮                 ⋮             \n",
       "59396 5             125        1999              functional    \n",
       "59397 4              56        1996              functional    \n",
       "59398 7               0           0              functional    \n",
       "59399 4               0           0              functional    \n",
       "59400 2             150        2002              functional    "
      ]
     },
     "metadata": {},
     "output_type": "display_data"
    },
    {
     "name": "stdout",
     "output_type": "stream",
     "text": [
      "# weights:  275\n",
      "initial  value 61038.849239 \n",
      "iter  10 value 53016.535338\n",
      "iter  20 value 52565.695496\n",
      "iter  30 value 52298.691653\n",
      "iter  40 value 52267.001371\n",
      "iter  50 value 52234.492306\n",
      "iter  60 value 51986.645396\n",
      "iter  70 value 51902.653494\n",
      "iter  80 value 51862.126203\n",
      "iter  90 value 51850.596313\n",
      "iter 100 value 51804.940647\n",
      "iter 110 value 51781.169820\n",
      "iter 120 value 51384.946339\n",
      "iter 130 value 51273.302781\n",
      "iter 140 value 51160.260980\n",
      "iter 150 value 50996.377605\n",
      "iter 160 value 50798.466023\n",
      "iter 170 value 50634.335172\n",
      "iter 180 value 50608.646102\n",
      "iter 190 value 50549.915135\n",
      "iter 200 value 50522.446054\n",
      "final  value 50522.446054 \n",
      "stopped after 200 iterations\n"
     ]
    },
    {
     "data": {
      "text/html": [
       "<table class=\"dataframe\">\n",
       "<caption>A data.frame: 14850 × 2</caption>\n",
       "<thead>\n",
       "\t<tr><th></th><th scope=col>id</th><th scope=col>status_group</th></tr>\n",
       "\t<tr><th></th><th scope=col>&lt;int&gt;</th><th scope=col>&lt;chr&gt;</th></tr>\n",
       "</thead>\n",
       "<tbody>\n",
       "\t<tr><th scope=row>1</th><td>50785</td><td>functional    </td></tr>\n",
       "\t<tr><th scope=row>2</th><td>51630</td><td>functional    </td></tr>\n",
       "\t<tr><th scope=row>3</th><td>17168</td><td>functional    </td></tr>\n",
       "\t<tr><th scope=row>4</th><td>45559</td><td>non functional</td></tr>\n",
       "\t<tr><th scope=row>5</th><td>49871</td><td>functional    </td></tr>\n",
       "\t<tr><th scope=row>⋮</th><td>⋮</td><td>⋮</td></tr>\n",
       "\t<tr><th scope=row>14846</th><td>39307</td><td>non functional</td></tr>\n",
       "\t<tr><th scope=row>14847</th><td>18990</td><td>functional    </td></tr>\n",
       "\t<tr><th scope=row>14848</th><td>28749</td><td>functional    </td></tr>\n",
       "\t<tr><th scope=row>14849</th><td>33492</td><td>non functional</td></tr>\n",
       "\t<tr><th scope=row>14850</th><td>68707</td><td>non functional</td></tr>\n",
       "</tbody>\n",
       "</table>\n"
      ],
      "text/latex": [
       "A data.frame: 14850 × 2\n",
       "\\begin{tabular}{r|ll}\n",
       "  & id & status\\_group\\\\\n",
       "  & <int> & <chr>\\\\\n",
       "\\hline\n",
       "\t1 & 50785 & functional    \\\\\n",
       "\t2 & 51630 & functional    \\\\\n",
       "\t3 & 17168 & functional    \\\\\n",
       "\t4 & 45559 & non functional\\\\\n",
       "\t5 & 49871 & functional    \\\\\n",
       "\t⋮ & ⋮ & ⋮\\\\\n",
       "\t14846 & 39307 & non functional\\\\\n",
       "\t14847 & 18990 & functional    \\\\\n",
       "\t14848 & 28749 & functional    \\\\\n",
       "\t14849 & 33492 & non functional\\\\\n",
       "\t14850 & 68707 & non functional\\\\\n",
       "\\end{tabular}\n"
      ],
      "text/markdown": [
       "\n",
       "A data.frame: 14850 × 2\n",
       "\n",
       "| <!--/--> | id &lt;int&gt; | status_group &lt;chr&gt; |\n",
       "|---|---|---|\n",
       "| 1 | 50785 | functional     |\n",
       "| 2 | 51630 | functional     |\n",
       "| 3 | 17168 | functional     |\n",
       "| 4 | 45559 | non functional |\n",
       "| 5 | 49871 | functional     |\n",
       "| ⋮ | ⋮ | ⋮ |\n",
       "| 14846 | 39307 | non functional |\n",
       "| 14847 | 18990 | functional     |\n",
       "| 14848 | 28749 | functional     |\n",
       "| 14849 | 33492 | non functional |\n",
       "| 14850 | 68707 | non functional |\n",
       "\n"
      ],
      "text/plain": [
       "      id    status_group  \n",
       "1     50785 functional    \n",
       "2     51630 functional    \n",
       "3     17168 functional    \n",
       "4     45559 non functional\n",
       "5     49871 functional    \n",
       "⋮     ⋮     ⋮             \n",
       "14846 39307 non functional\n",
       "14847 18990 functional    \n",
       "14848 28749 functional    \n",
       "14849 33492 non functional\n",
       "14850 68707 non functional"
      ]
     },
     "metadata": {},
     "output_type": "display_data"
    },
    {
     "data": {
      "text/plain": [
       "\n",
       "FALSE  TRUE \n",
       " 3045 11805 "
      ]
     },
     "metadata": {},
     "output_type": "display_data"
    }
   ],
   "source": [
    "library(nnet)\n",
    "\n",
    "data_train\n",
    "\n",
    "# example model \n",
    "\n",
    "#DS <- cbind(X, functionnal=Y)\n",
    "#data_train doit encore être défini data input + status_group\n",
    "\n",
    "#nnet_model <- nnet(status_group~., data= data_train, size = 8, decay=5e-4, maxit=200) # what we need to change according of the model\n",
    "nnet_model <- nnet(status_group~., data= training_with_dummy, size = 8, decay=5e-4, maxit=200)\n",
    "\n",
    "#predict_unseen <- predict(nnet_model, test_set_values, type= 'class')\n",
    "predict_unseen <- predict(nnet_model, test_with_dummy, type= 'class')\n",
    "\n",
    "status_group <-predict_unseen\n",
    "\n",
    "nnet_data_predict <- cbind(data_predict[1],status_group)\n",
    "\n",
    "nnet_data_predict\n",
    "\n",
    "table(nnet_data_predict[\"status_group\"] == \"functional\")\n",
    "\n",
    "write.csv(nnet_data_predict,\"NeuralNetwork.csv\",row.names = FALSE)"
   ]
  },
  {
   "cell_type": "markdown",
   "metadata": {},
   "source": [
    "We will also try to make the prediction with neural networks."
   ]
  },
  {
   "cell_type": "code",
   "execution_count": 52,
   "metadata": {},
   "outputs": [],
   "source": [
    "#predict_unseen <- predict(nnet_model,only_num_var_train, type= 'class') # test nathan with know variable"
   ]
  },
  {
   "cell_type": "code",
   "execution_count": 53,
   "metadata": {},
   "outputs": [],
   "source": [
    "#results <- table(ifelse(predict_unseen == training_set_labels$status_group, \"true\", \"false\"))\n",
    "#results[\"true\"]/(results[\"true\"]+results[\"false\"])"
   ]
  },
  {
   "cell_type": "markdown",
   "metadata": {},
   "source": [
    "## Model 3"
   ]
  },
  {
   "cell_type": "code",
   "execution_count": null,
   "metadata": {
    "scrolled": false
   },
   "outputs": [
    {
     "name": "stderr",
     "output_type": "stream",
     "text": [
      "randomForest 4.6-14\n",
      "\n",
      "Type rfNews() to see new features/changes/bug fixes.\n",
      "\n"
     ]
    }
   ],
   "source": [
    "library(\"randomForest\")\n",
    "\n",
    "rf_model<- randomForest(status_group~., data= data_train) # what we need to change according of the model\n",
    "\n",
    "\n",
    "rf_predict_unseen <- predict(rf_model,test_set_values, type = 'class')\n",
    "\n",
    "rf_predict_unseen\n",
    "\n",
    "status_group <-rf_predict_unseen\n",
    "\n",
    "rf_data_predict <- test_set_values\n",
    "\n",
    "\n",
    "rf_data_predict <- cbind(data_predict[1],status_group)\n",
    "\n",
    "\n",
    "rf_data_predict\n",
    "\n",
    "write.csv(rf_data_predict,\"randomForest.csv\",row.names = FALSE)"
   ]
  },
  {
   "cell_type": "code",
   "execution_count": null,
   "metadata": {},
   "outputs": [],
   "source": [
    "rf_model"
   ]
  },
  {
   "cell_type": "markdown",
   "metadata": {},
   "source": [
    "# Alternative models\n",
    "\n",
    "\n",
    "\n"
   ]
  },
  {
   "cell_type": "markdown",
   "metadata": {},
   "source": [
    "# Conclusions"
   ]
  }
 ],
 "metadata": {
  "kernelspec": {
   "display_name": "R",
   "language": "R",
   "name": "ir"
  },
  "language_info": {
   "codemirror_mode": "r",
   "file_extension": ".r",
   "mimetype": "text/x-r-source",
   "name": "R",
   "pygments_lexer": "r",
   "version": "4.0.5"
  }
 },
 "nbformat": 4,
 "nbformat_minor": 4
}
